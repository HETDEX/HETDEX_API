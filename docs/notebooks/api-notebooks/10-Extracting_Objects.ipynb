{
 "cells": [
  {
   "cell_type": "markdown",
   "metadata": {},
   "source": [
    "# 10 - Extracting Objects: Base Tutorial"
   ]
  },
  {
   "cell_type": "markdown",
   "metadata": {},
   "source": [
    "All data for a single HETDEX observation (a dither set of three exposures), is stored in one HDF5 file. This file contains the sky-subtracted, flux-calibrated, and rectified spectra for each fiber.  The extension is called \"calfib\" in the Fibers table and the units are ergs/s/cm^2 integrated over a 2A bin.  To get to ergs/s/cm^2/A, simply divide by 2.\n",
    "\n",
    "In this notebook we will demonstrate extracting sources at a given RA, Dec with a variety of extraction methods.  This tutorial can inform users how the extraction works and then the user can build an efficient use of this tool for large numbers of extractions."
   ]
  },
  {
   "cell_type": "markdown",
   "metadata": {},
   "source": [
    "## Importing Extract"
   ]
  },
  {
   "cell_type": "markdown",
   "metadata": {},
   "source": [
    "To use HETDEX_API, please follow the instructions on: https://github.com/grzeimann/HETDEX_API/tree/master/notebooks\n",
    "\n",
    "We have tried to limit the dependencies for this package, but if you are having trouble using this notebook, please contact: grzeimann@gmail.com\n",
    "\n",
    "First we will import a few plotting tools, coordinate tools, and the Extract API."
   ]
  },
  {
   "cell_type": "code",
   "execution_count": 1,
   "metadata": {},
   "outputs": [],
   "source": [
    "%matplotlib inline\n",
    "import matplotlib.pyplot as plt\n",
    "from matplotlib.colors import LogNorm\n",
    "from astropy.visualization import ZScaleInterval\n",
    "\n",
    "import astropy.units as u\n",
    "from astropy.coordinates import SkyCoord\n",
    "\n",
    "from hetdex_api.extract import Extract"
   ]
  },
  {
   "cell_type": "markdown",
   "metadata": {},
   "source": [
    "## Initiate the Fibers Class"
   ]
  },
  {
   "cell_type": "markdown",
   "metadata": {},
   "source": [
    "Extract is a class module and upon initiazion, the class loads an atmospheric differential refraction model, and sets the rectified wavelength for the calfib extesion in the Shot HDF5 file.  More or less, not much happens at this step, but it is necessary to abstract the initialize class as a variable, in this case, E."
   ]
  },
  {
   "cell_type": "code",
   "execution_count": 2,
   "metadata": {},
   "outputs": [],
   "source": [
    "E = Extract()"
   ]
  },
  {
   "cell_type": "markdown",
   "metadata": {},
   "source": [
    "## Load a shot"
   ]
  },
  {
   "cell_type": "markdown",
   "metadata": {},
   "source": [
    "Loading a shot for the Extract class is the same as for the Fibers class as it calls on the Fibers class directly.  This will take a few seconds and likely pumps out a few warnings.  The warnings are due to the initialization of a SkyCoord object with RA's and/or Dec's outside of the valid range.  Meaning, some fibers don't have valid RA's and Dec's.  "
   ]
  },
  {
   "cell_type": "code",
   "execution_count": 3,
   "metadata": {
    "scrolled": true
   },
   "outputs": [
    {
     "name": "stderr",
     "output_type": "stream",
     "text": [
      "/home1/03730/gregz/.local/lib/python2.7/site-packages/astropy/coordinates/angles.py:651: RuntimeWarning: invalid value encountered in less\n",
      "  if np.any(self_angle < wrap_angle_floor) or np.any(self_angle >= wrap_angle):\n",
      "/home1/03730/gregz/.local/lib/python2.7/site-packages/astropy/coordinates/angles.py:651: RuntimeWarning: invalid value encountered in greater_equal\n",
      "  if np.any(self_angle < wrap_angle_floor) or np.any(self_angle >= wrap_angle):\n",
      "/home1/03730/gregz/.local/lib/python2.7/site-packages/astropy/coordinates/angles.py:534: RuntimeWarning: invalid value encountered in less\n",
      "  if np.any(angles.value < lower) or np.any(angles.value > upper):\n",
      "/home1/03730/gregz/.local/lib/python2.7/site-packages/astropy/coordinates/angles.py:534: RuntimeWarning: invalid value encountered in greater\n",
      "  if np.any(angles.value < lower) or np.any(angles.value > upper):\n"
     ]
    }
   ],
   "source": [
    "E.load_shot('20190105v014')"
   ]
  },
  {
   "cell_type": "markdown",
   "metadata": {},
   "source": [
    "## Load SDSS objects with Spectra"
   ]
  },
  {
   "cell_type": "markdown",
   "metadata": {},
   "source": [
    "To use astroquery's SDSS class, please first \"pip install --user astroquery\" in your terminal on stampede2.  You only need to do this once.  \n",
    "\n",
    "We will load all of the SDSS sources with spectra and compare our extracted spectra to them."
   ]
  },
  {
   "cell_type": "code",
   "execution_count": 4,
   "metadata": {},
   "outputs": [
    {
     "name": "stderr",
     "output_type": "stream",
     "text": [
      "/home1/03730/gregz/.local/lib/python2.7/site-packages/astroquery/sdss/__init__.py:29: UserWarning: Experimental: SDSS has not yet been refactored to have its API match the rest of astroquery (but it's nearly there).\n",
      "  warnings.warn(\"Experimental: SDSS has not yet been refactored to have its API \"\n",
      "/home1/03730/gregz/.local/lib/python2.7/site-packages/astroquery/sdss/core.py:856: VisibleDeprecationWarning: Reading unicode strings without specifying the encoding argument is deprecated. Set the encoding, use None for the system default.\n",
      "  comments='#'))\n"
     ]
    },
    {
     "name": "stdout",
     "output_type": "stream",
     "text": [
      "       ra               dec           u     ... run2d  instrument\n",
      "---------------- ----------------- -------- ... ------ ----------\n",
      "31.4414320424315 0.426374217708174 19.15393 ...     26       SDSS\n",
      "31.2743496223767  0.42141951116444 17.33615 ... v5_7_0       BOSS\n",
      "31.2743496223767  0.42141951116444 17.33615 ...     26       SDSS\n",
      "31.2743496223767  0.42141951116444 17.33615 ...     26       SDSS\n",
      "31.2743496223767  0.42141951116444 17.33615 ...     26       SDSS\n",
      "31.2304810707568 0.457712997204429 24.77709 ... v5_7_0       BOSS\n",
      "31.4432322647346 0.626068392843717 17.93835 ...     26       SDSS\n",
      "31.4432322647346 0.626068392843717 17.93835 ...     26       SDSS\n",
      " 31.334730921565 0.486622193892919 20.63623 ...     26       SDSS\n",
      "31.4749252925103 0.608719858821244  19.3389 ...     26       SDSS\n",
      "             ...               ...      ... ...    ...        ...\n",
      "31.5087793221678 0.442636120576673 20.19677 ...     26       SDSS\n",
      "31.4326813660541 0.604974651351535 20.95049 ...     26       SDSS\n",
      " 31.528620505851  0.47693100403355 20.39459 ...     26       SDSS\n",
      "31.2163089545633 0.333448902899168 22.42975 ...     26       SDSS\n",
      "31.3940376278673  0.52792195799502 17.97513 ...     26       SDSS\n",
      "31.3940376278673  0.52792195799502 17.97513 ...     26       SDSS\n",
      "31.4480384835085 0.641584333217129 21.89319 ...     26       SDSS\n",
      "31.2698343653845  0.36808050653632 23.94042 ... v5_7_0       BOSS\n",
      "31.2698343653845  0.36808050653632 23.94042 ... v5_7_0       BOSS\n",
      "31.2698343653845  0.36808050653632 23.94042 ... v5_7_0       BOSS\n",
      "31.5325938629147 0.424563440511457 22.23712 ... v5_7_0       BOSS\n",
      "Length = 206 rows\n"
     ]
    }
   ],
   "source": [
    "# Find the RA and Dec of the shot\n",
    "RA = E.fibers.hdfile.root.Shot.cols.ra[:][0]\n",
    "Dec = E.fibers.hdfile.root.Shot.cols.dec[:][0]\n",
    "\n",
    "# Load SDSS from astroquery\n",
    "from astroquery.sdss import SDSS\n",
    "pos = SkyCoord(RA * u.deg, Dec * u.deg, frame='fk5')\n",
    "\n",
    "# Query all sdss objects with spectra within 11' of the central RA and Dec\n",
    "xid = SDSS.query_region(pos, radius=11*u.arcmin, spectro=True,\n",
    "                        photoobj_fields=['ra', 'dec', 'u', 'g', 'r', 'i', 'z'],\n",
    "                        specobj_fields=['plate', 'mjd', 'fiberID', 'z',\n",
    "                                        'specobjid', 'run2d', 'instrument'])\n",
    "\n",
    "# Download their spectra (please use this sparingly as there are better ways to get a log of SDSS spectra)\n",
    "sp = SDSS.get_spectra(matches=xid)\n",
    "\n",
    "# Printing table of SDSS sources with spectra\n",
    "print(xid)"
   ]
  },
  {
   "cell_type": "markdown",
   "metadata": {},
   "source": [
    "## Using Extract Class"
   ]
  },
  {
   "cell_type": "code",
   "execution_count": 5,
   "metadata": {},
   "outputs": [
    {
     "name": "stderr",
     "output_type": "stream",
     "text": [
      "/home1/03730/gregz/.local/lib/python2.7/site-packages/astropy/units/quantity.py:641: RuntimeWarning: invalid value encountered in less\n",
      "  *arrays, **kwargs)\n",
      "/home1/03730/gregz/.local/lib/python2.7/site-packages/numpy/lib/function_base.py:3405: RuntimeWarning: Invalid value encountered in median for 14 results\n",
      "  r = func(a, **kwargs)\n",
      "[INFO - 2019-03-21 14:26:11,577] PSF model StarID: 1237663784747926556 too faint: 24.87\n",
      "/home1/03730/gregz/.local/lib/python2.7/site-packages/numpy/lib/function_base.py:3405: RuntimeWarning: Invalid value encountered in median for 25 results\n",
      "  r = func(a, **kwargs)\n",
      "[INFO - 2019-03-21 14:26:11,664] PSF model StarID: 1237663784747991106 on edge: -10.14, -28.97\n",
      "[INFO - 2019-03-21 14:26:11,695] PSF model StarID: 1237663784747991128 on edge: 1.23, 25.02\n",
      "[INFO - 2019-03-21 14:26:11,698] PSF model StarID: 1237663784747991130 too faint: 24.12\n",
      "/home1/03730/gregz/.local/lib/python2.7/site-packages/numpy/lib/function_base.py:3405: RuntimeWarning: Invalid value encountered in median for 21 results\n",
      "  r = func(a, **kwargs)\n",
      "[INFO - 2019-03-21 14:26:11,791] PSF model StarID: 1237663784747991142 on edge: 26.23, 2.92\n",
      "/home1/03730/gregz/.local/lib/python2.7/site-packages/numpy/lib/function_base.py:3405: RuntimeWarning: Invalid value encountered in median for 16 results\n",
      "  r = func(a, **kwargs)\n",
      "/home1/03730/gregz/.local/lib/python2.7/site-packages/numpy/lib/function_base.py:3405: RuntimeWarning: Invalid value encountered in median for 18 results\n",
      "  r = func(a, **kwargs)\n",
      "[INFO - 2019-03-21 14:26:11,944] PSF model StarID: 1237663784747991249 on edge: 0.12, -24.06\n",
      "/home1/03730/gregz/.local/lib/python2.7/site-packages/numpy/lib/function_base.py:3405: RuntimeWarning: Invalid value encountered in median for 6 results\n",
      "  r = func(a, **kwargs)\n",
      "/home1/03730/gregz/.local/lib/python2.7/site-packages/numpy/lib/function_base.py:3405: RuntimeWarning: Invalid value encountered in median for 7 results\n",
      "  r = func(a, **kwargs)\n",
      "[INFO - 2019-03-21 14:26:12,095] PSF model StarID: 1237663784747991270 on edge: 8.34, -24.94\n",
      "/home1/03730/gregz/.local/lib/python2.7/site-packages/numpy/lib/function_base.py:3405: RuntimeWarning: Invalid value encountered in median for 22 results\n",
      "  r = func(a, **kwargs)\n",
      "/home1/03730/gregz/.local/lib/python2.7/site-packages/numpy/lib/function_base.py:3405: RuntimeWarning: Invalid value encountered in median for 19 results\n",
      "  r = func(a, **kwargs)\n",
      "[INFO - 2019-03-21 14:26:12,362] PSF model StarID: 1237663784747991378 too faint: 22.51\n",
      "[INFO - 2019-03-21 14:26:12,365] PSF model StarID: 1237663784747991390 too faint: 22.61\n",
      "[INFO - 2019-03-21 14:26:12,369] PSF model StarID: 1237663784747991518 too faint: 22.24\n",
      "[INFO - 2019-03-21 14:26:12,372] PSF model StarID: 1237663784747991528 too faint: 23.29\n",
      "[INFO - 2019-03-21 14:26:12,375] PSF model StarID: 1237663784747991530 too faint: 22.96\n",
      "[INFO - 2019-03-21 14:26:12,378] PSF model StarID: 1237663784747991566 too faint: 23.17\n",
      "[INFO - 2019-03-21 14:26:12,381] PSF model StarID: 1237663784747991579 too faint: 22.73\n",
      "[INFO - 2019-03-21 14:26:12,384] PSF model StarID: 1237663784747991597 too faint: 23.74\n",
      "[INFO - 2019-03-21 14:26:12,388] PSF model StarID: 1237663784747991631 too faint: 23.98\n",
      "[INFO - 2019-03-21 14:26:12,391] PSF model StarID: 1237663784747991639 too faint: 22.83\n",
      "[INFO - 2019-03-21 14:26:12,394] PSF model StarID: 1237663784747991690 too faint: 24.73\n",
      "[INFO - 2019-03-21 14:26:12,397] PSF model StarID: 1237663784747991742 too faint: 22.98\n",
      "[INFO - 2019-03-21 14:26:12,401] PSF model StarID: 1237663784747991799 too faint: 23.96\n",
      "[INFO - 2019-03-21 14:26:12,404] PSF model StarID: 1237663784747991894 too faint: 24.63\n",
      "/home1/03730/gregz/.local/lib/python2.7/site-packages/numpy/lib/function_base.py:3405: RuntimeWarning: Invalid value encountered in median for 15 results\n",
      "  r = func(a, **kwargs)\n",
      "[INFO - 2019-03-21 14:26:12,466] PSF model StarID: 1237663784748056658 too faint: 23.24\n",
      "/home1/03730/gregz/.local/lib/python2.7/site-packages/numpy/lib/function_base.py:3405: RuntimeWarning: Invalid value encountered in median for 13 results\n",
      "  r = func(a, **kwargs)\n",
      "[INFO - 2019-03-21 14:26:12,668] PSF model StarID: 1237663784748056787 on edge: -1.23, 28.33\n",
      "/home1/03730/gregz/.local/lib/python2.7/site-packages/numpy/lib/function_base.py:3405: RuntimeWarning: Invalid value encountered in median for 8 results\n",
      "  r = func(a, **kwargs)\n",
      "/home1/03730/gregz/.local/lib/python2.7/site-packages/numpy/lib/function_base.py:3405: RuntimeWarning: Invalid value encountered in median for 113 results\n",
      "  r = func(a, **kwargs)\n",
      "[INFO - 2019-03-21 14:26:12,786] PSF model StarID: 1237663784748056960 too faint: 22.67\n",
      "[INFO - 2019-03-21 14:26:12,789] PSF model StarID: 1237663784748056964 too faint: 23.66\n",
      "[INFO - 2019-03-21 14:26:12,792] PSF model StarID: 1237663784748056987 too faint: 22.31\n",
      "[INFO - 2019-03-21 14:26:12,795] PSF model StarID: 1237663784748057023 too faint: 25.18\n",
      "[INFO - 2019-03-21 14:26:12,798] PSF model StarID: 1237663784748057060 too faint: 22.30\n",
      "[INFO - 2019-03-21 14:26:12,801] PSF model StarID: 1237663784748057096 too faint: 24.30\n",
      "[INFO - 2019-03-21 14:26:12,804] PSF model StarID: 1237663784748057105 too faint: 23.16\n",
      "[INFO - 2019-03-21 14:26:12,807] PSF model StarID: 1237663784748057377 too faint: 23.83\n",
      "/home1/03730/gregz/.local/lib/python2.7/site-packages/numpy/lib/function_base.py:3405: RuntimeWarning: Invalid value encountered in median for 17 results\n",
      "  r = func(a, **kwargs)\n",
      "[INFO - 2019-03-21 14:26:12,891] PSF model StarID: 1237666408456192518 on edge: 12.54, -28.27\n",
      "[INFO - 2019-03-21 14:26:12,951] 18 suitable stars for PSF\n",
      "[INFO - 2019-03-21 14:26:12,953] PSF correction for radius, 4.0\", is: 1.04\n"
     ]
    }
   ],
   "source": [
    "import numpy as np\n",
    "\n",
    "# Build aperture PSF for aperture extraction\n",
    "fixed_aperture = 4.\n",
    "\n",
    "# Using box size of 10.5 (length of box side) and pixel scale of 0.25\n",
    "# To see documentation use: help(E.tophat_psf)\n",
    "aperture = E.tophat_psf(fixed_aperture, 10.5, 0.25)\n",
    "\n",
    "# Get curve of growth from VIRUS PSF for the given loaded shot\n",
    "# To see documentation use: help(E.model_psf)\n",
    "psf = E.model_psf(gmag_limit=22.)\n",
    "r, curve_of_growth = E.get_psf_curve_of_growth(psf)\n",
    "correction = 1. / np.interp(fixed_aperture, r, curve_of_growth)\n",
    "E.log.info('PSF correction for radius, %0.1f\", is: %0.2f' % (fixed_aperture, \n",
    "                                                             correction))"
   ]
  },
  {
   "cell_type": "markdown",
   "metadata": {},
   "source": [
    "Let's check out the aperture extraction \"psf\" and the spatial PSF measured from the VIRUS fibers."
   ]
  },
  {
   "cell_type": "code",
   "execution_count": 6,
   "metadata": {},
   "outputs": [
    {
     "data": {
      "image/png": "[encoded data removed]",
      "text/plain": [
       "<Figure size 864x432 with 2 Axes>"
      ]
     },
     "metadata": {},
     "output_type": "display_data"
    }
   ],
   "source": [
    "fig, ax = plt.subplots(1, 2, figsize=(12, 6))\n",
    "from astropy.visualization import AsinhStretch, ImageNormalize, MinMaxInterval \n",
    "i = 0\n",
    "for image, title in zip([aperture, psf], ['Aperture', 'PSF']):\n",
    "    norm = ImageNormalize(image[0], interval=MinMaxInterval(),\n",
    "                      stretch=AsinhStretch())\n",
    "    extent = [image[1].min(), image[1].max(), image[2].min(), image[2].max()]\n",
    "    ax[i].imshow(image[0], norm=norm, origin=\"lower\",cmap=plt.get_cmap('gray'),interpolation=\"none\", extent=extent)\n",
    "    i += 1"
   ]
  },
  {
   "cell_type": "markdown",
   "metadata": {},
   "source": [
    "## Extracting Sources"
   ]
  },
  {
   "cell_type": "markdown",
   "metadata": {},
   "source": [
    "Now that we have a psf or aperture to extract with, we can build an extraction example.\n",
    "\n",
    "First, let's grab the fiber information we want and look at the source."
   ]
  },
  {
   "cell_type": "code",
   "execution_count": 7,
   "metadata": {},
   "outputs": [
    {
     "name": "stderr",
     "output_type": "stream",
     "text": [
      "/home1/03730/gregz/.local/lib/python2.7/site-packages/numpy/lib/function_base.py:3405: RuntimeWarning: Invalid value encountered in median for 413 results\n",
      "  r = func(a, **kwargs)\n"
     ]
    },
    {
     "data": {
      "text/plain": [
       "[-5.375, 5.375000000000002, -5.375, 5.375]"
      ]
     },
     "execution_count": 7,
     "metadata": {},
     "output_type": "execute_result"
    },
    {
     "data": {
      "image/png": "[encoded data removed]",
      "text/plain": [
       "<Figure size 432x288 with 1 Axes>"
      ]
     },
     "metadata": {},
     "output_type": "display_data"
    }
   ],
   "source": [
    "# Pick a coordinate to extract (here I'm cheating because I know the coordinate is a source in the VIRUS FoV)\n",
    "# For fun, you can change this index to 31 or 8\n",
    "index = 22\n",
    "coord = SkyCoord(xid['ra'][index] * u.deg, xid['dec'][index] * u.deg)\n",
    "\n",
    "# Let's grab the fiber information within a given radius\n",
    "# To get more info: help(E.get_fiberinfo_for_coord)\n",
    "info_result = E.get_fiberinfo_for_coord(coord, radius=7.)\n",
    "\n",
    "# info_result will be None if the location doesn't have at least 5 fibers within the radius.\n",
    "# Build your code checks to catch when info_result is None\n",
    "ifux, ifuy, xc, yc, ra, dec, data, error, mask = info_result\n",
    "\n",
    "\n",
    "image = E.make_collapsed_image(xc, yc, ifux, ifuy, data, mask,\n",
    "                               scale=0.25, seeing_fac=1.5, boxsize=10.75,\n",
    "                               wrange=[4900, 5300], nchunks=3,\n",
    "                               convolve_image=False)\n",
    "norm = ImageNormalize(image[0], interval=MinMaxInterval(),\n",
    "                      stretch=AsinhStretch())\n",
    "extent = [image[1].min(), image[1].max(), image[2].min(), image[2].max()]\n",
    "plt.imshow(image[0], norm=norm, origin=\"lower\",cmap=plt.get_cmap('gray'),interpolation=\"none\", extent=extent)\n",
    "plt.scatter(ifux-xc, ifuy-yc, marker='x', color='r')\n",
    "plt.axis(extent)"
   ]
  },
  {
   "cell_type": "markdown",
   "metadata": {},
   "source": [
    "All extractions with this code are weighted extractions, which means for either the aperture extraction, psf extraction or some other method, we need a weight for each fiber as function of wavelength.  "
   ]
  },
  {
   "cell_type": "code",
   "execution_count": 8,
   "metadata": {},
   "outputs": [
    {
     "name": "stderr",
     "output_type": "stream",
     "text": [
      "/home1/03730/gregz/.local/lib/python2.7/site-packages/hetdex_api/extract.py:568: RuntimeWarning: invalid value encountered in divide\n",
      "  np.sum(mask * weights**2, axis=0))\n",
      "/home1/03730/gregz/.local/lib/python2.7/site-packages/hetdex_api/extract.py:570: RuntimeWarning: invalid value encountered in divide\n",
      "  np.sum(mask * weights**2, axis=0))\n"
     ]
    },
    {
     "data": {
      "text/plain": [
       "<matplotlib.legend.Legend at 0x2b533eddded0>"
      ]
     },
     "execution_count": 8,
     "metadata": {},
     "output_type": "execute_result"
    },
    {
     "data": {
      "image/png": "[encoded data removed]",
      "text/plain": [
       "<Figure size 432x288 with 1 Axes>"
      ]
     },
     "metadata": {},
     "output_type": "display_data"
    }
   ],
   "source": [
    "# PSF extraction\n",
    "# For more help: help(E.build_weights)\n",
    "weights = E.build_weights(xc, yc, ifux, ifuy, psf)\n",
    "result = E.get_spectrum(data, error, mask, weights)\n",
    "spectrum, spectrum_error = [res for res in result]\n",
    "\n",
    "# Aperture Extraction\n",
    "weights = E.build_weights(xc, yc, ifux, ifuy, aperture)\n",
    "result = E.get_spectrum(data, error, mask, weights)\n",
    "spectrum_aper, spectrum_aper_error = [res for res in result]\n",
    "\n",
    "plt.plot(E.wave, spectrum, lw=1, label='VIRUS PSF')\n",
    "plt.plot(E.wave, spectrum_aper, lw=1, alpha=0.5, label='VIRUS 4\"')\n",
    "plt.plot(10**(sp[index][1].data['loglam']), sp[index][1].data['flux'], lw=1, alpha=0.5, label='SDSS')\n",
    "# G-mag for object\n",
    "flam = 10**(-0.4 * (xid[index]['g']-23.9)) * 1e-29 * 3e18 / 5000.**2 * 1e17\n",
    "plt.scatter(5000., flam, marker='x', color='k', s=150)\n",
    "plt.xlim([3450, 5550])\n",
    "plt.xlabel('Wavelength')\n",
    "plt.ylabel('1e-17 ergs/s/cm^2/A')\n",
    "plt.legend()"
   ]
  }
 ],
 "metadata": {
  "kernelspec": {
   "display_name": "Python 2",
   "language": "python",
   "name": "python2"
  },
  "language_info": {
   "codemirror_mode": {
    "name": "ipython",
    "version": 2
   },
   "file_extension": ".py",
   "mimetype": "text/x-python",
   "name": "python",
   "nbconvert_exporter": "python",
   "pygments_lexer": "ipython2",
   "version": "2.7.15"
  }
 },
 "nbformat": 4,
 "nbformat_minor": 2
}
