{
 "cells": [
  {
   "cell_type": "markdown",
   "metadata": {},
   "source": [
    "# Set up instructions"
   ]
  },
  {
   "cell_type": "markdown",
   "metadata": {},
   "source": [
    "For your first time using python and HETDEX_API on TACC you will need to locally pip install packages required to run HETDEX_API. We also recommend you set up your permissions and copy over Karl's .bashrc. This will overwrite your current .bashrc so only do this if you are ok with that. ***NOTE*** running this script includes commands which will make both your /home1/ and your /work directories readable by all of TACC. We do this to share work and troubleshoot issues. "
   ]
  },
  {
   "cell_type": "code",
   "execution_count": 3,
   "metadata": {},
   "outputs": [
    {
     "name": "stdout",
     "output_type": "stream",
     "text": [
      "05350 ecooper\r\n"
     ]
    }
   ],
   "source": [
    "! ~gebhardt/rsetup"
   ]
  },
  {
   "cell_type": "markdown",
   "metadata": {},
   "source": [
    "## Note: You will need to restart the kernal now in order to do the pip3 installs. Or you can do them in a command line. Press the stop button above and in any other notebook you may have opened before setup "
   ]
  },
  {
   "cell_type": "markdown",
   "metadata": {},
   "source": [
    "# Install python modules"
   ]
  },
  {
   "cell_type": "markdown",
   "metadata": {},
   "source": [
    "Here are a list of modules needed, just shift-enter through the cells to run each command. You will only need to do this once."
   ]
  },
  {
   "cell_type": "code",
   "execution_count": null,
   "metadata": {},
   "outputs": [],
   "source": [
    "!pip3 install --user astropy"
   ]
  },
  {
   "cell_type": "code",
   "execution_count": null,
   "metadata": {},
   "outputs": [],
   "source": [
    "!pip3 install --user ipywidgets"
   ]
  },
  {
   "cell_type": "code",
   "execution_count": null,
   "metadata": {},
   "outputs": [],
   "source": [
    "!pip3 install --user tables"
   ]
  },
  {
   "cell_type": "code",
   "execution_count": null,
   "metadata": {},
   "outputs": [],
   "source": [
    "!pip3 install --user speclite"
   ]
  },
  {
   "cell_type": "markdown",
   "metadata": {},
   "source": [
    "# Make a symbolic link to your /work account "
   ]
  },
  {
   "cell_type": "markdown",
   "metadata": {},
   "source": [
    "Using your magic number and user name spit out on line 1 above"
   ]
  },
  {
   "cell_type": "code",
   "execution_count": 4,
   "metadata": {},
   "outputs": [
    {
     "name": "stdout",
     "output_type": "stream",
     "text": [
      "ln: failed to access ‘/work/magicnumber/username/stampede2’: No such file or directory\n",
      "ln: failed to access ‘/work/magicnumber/username/wrangler’: No such file or directory\n"
     ]
    }
   ],
   "source": [
    "! ln -s /work/magicnumber/username/stampede2 work-stampede2\n",
    "! ln -s /work/magicnumber/username/wrangler  work-wrangler"
   ]
  },
  {
   "cell_type": "markdown",
   "metadata": {},
   "source": [
    "# Copy over HETDEX_API notebooks to explore"
   ]
  },
  {
   "cell_type": "code",
   "execution_count": 11,
   "metadata": {},
   "outputs": [],
   "source": [
    "! cp -r /work/05350/ecooper/hdr1/HETDEX_API/notebooks work-stampede2/HETDEX_notebooks\n",
    "! cp -r /work/05350/ecooper/hdr1/HETDEX_API/notebooks work-wrangler/HETDEX_notebooks"
   ]
  },
  {
   "cell_type": "code",
   "execution_count": null,
   "metadata": {},
   "outputs": [],
   "source": []
  }
 ],
 "metadata": {
  "kernelspec": {
   "display_name": "Python 3",
   "language": "python",
   "name": "python3"
  },
  "language_info": {
   "codemirror_mode": {
    "name": "ipython",
    "version": 3
   },
   "file_extension": ".py",
   "mimetype": "text/x-python",
   "name": "python",
   "nbconvert_exporter": "python",
   "pygments_lexer": "ipython3",
   "version": "3.7.0"
  }
 },
 "nbformat": 4,
 "nbformat_minor": 2
}
