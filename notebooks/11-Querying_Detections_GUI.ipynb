{
 "cells": [
  {
   "cell_type": "code",
   "execution_count": 1,
   "metadata": {},
   "outputs": [],
   "source": [
    "## insure in\n",
    "%matplotlib inline\n",
    "## run this to prevent scrolling in individual cells\n",
    "%%javascript\n",
    "IPython.OutputArea.prototype._should_scroll = function(lines) {\n",
    "    return false;\n",
    "}"
   ]
  },
  {
   "cell_type": "code",
   "execution_count": 2,
   "metadata": {},
   "outputs": [],
   "source": [
    "%run ../HETDEX_API/hetdex_api/detections.py"
   ]
  },
  {
   "cell_type": "code",
   "execution_count": 3,
   "metadata": {},
   "outputs": [],
   "source": [
    "detects = Detections('hdr1')"
   ]
  },
  {
   "cell_type": "code",
   "execution_count": 4,
   "metadata": {},
   "outputs": [],
   "source": [
    "detectid = 1000004009"
   ]
  },
  {
   "cell_type": "code",
   "execution_count": 6,
   "metadata": {},
   "outputs": [
    {
     "data": {
      "text/html": [
       "&lt;Table length=1&gt;\n",
       "<table id=\"table46965934017808\" class=\"table-striped table-bordered table-condensed\">\n",
       "<thead><tr><th>sdss2010-g</th></tr></thead>\n",
       "<thead><tr><th>float64</th></tr></thead>\n",
       "<tr><td>19.293946177596467</td></tr>\n",
       "</table>"
      ],
      "text/plain": [
       "<Table length=1>\n",
       "    sdss2010-g    \n",
       "     float64      \n",
       "------------------\n",
       "19.293946177596467"
      ]
     },
     "execution_count": 6,
     "metadata": {},
     "output_type": "execute_result"
    }
   ],
   "source": [
    "detects.get_gband_mag(detectid)"
   ]
  },
  {
   "cell_type": "code",
   "execution_count": null,
   "metadata": {},
   "outputs": [],
   "source": [
    "#detects.mags = np.zeros(np.size(detects.detectid))\n",
    "#for ix, detectid_i in enumerate(detects.detectid):\n",
    "#    try:\n",
    "#        detects.mags[ix] = detects.get_gband_mag(detectid_i)\n",
    "#    except:\n",
    "#        detects.mags[ix] = np.nan"
   ]
  },
  {
   "cell_type": "code",
   "execution_count": 7,
   "metadata": {
    "scrolled": true
   },
   "outputs": [
    {
     "name": "stdout",
     "output_type": "stream",
     "text": [
      "Either select a specific field or multiple fields (command-click to select multiple fields):\n",
      "\n"
     ]
    },
    {
     "data": {
      "application/vnd.jupyter.widget-view+json": {
       "model_id": "94721fd7dae740beb26e081897a7989b",
       "version_major": 2,
       "version_minor": 0
      },
      "text/plain": [
       "U2VsZWN0TXVsdGlwbGUoZGVzY3JpcHRpb249dSdGaWVsZDonLCBpbmRleD0oMCwpLCBvcHRpb25zPSgnYWxsJywgJ2RleC1zcHJpbmcnLCAnZGV4LWZhbGwnLCAnY29zbW9zJywgJ2VncycsICfigKY=\n"
      ]
     },
     "metadata": {},
     "output_type": "display_data"
    },
    {
     "name": "stdout",
     "output_type": "stream",
     "text": [
      "Or manually enter an RA, DEC and aperture:\n",
      "\n"
     ]
    },
    {
     "data": {
      "application/vnd.jupyter.widget-view+json": {
       "model_id": "fa0a2d2a5c0e412d88de7d5a390b82be",
       "version_major": 2,
       "version_minor": 0
      },
      "text/plain": [
       "SEJveChjaGlsZHJlbj0oVkJveChjaGlsZHJlbj0oTGFiZWwodmFsdWU9dSdSQSAoZGVncmVlcyknLCBsYXlvdXQ9TGF5b3V0KGhlaWdodD11JzM1cHgnLCB3aWR0aD11JzEwMCUnKSksIExhYmXigKY=\n"
      ]
     },
     "metadata": {},
     "output_type": "display_data"
    },
    {
     "data": {
      "application/vnd.jupyter.widget-view+json": {
       "model_id": "be57bef25b474f1d94339845879df877",
       "version_major": 2,
       "version_minor": 0
      },
      "text/plain": [
       "Checkbox(value=False, description=u'Check to Select from aperture')"
      ]
     },
     "metadata": {},
     "output_type": "display_data"
    },
    {
     "name": "stdout",
     "output_type": "stream",
     "text": [
      "You may also wish to consider some down selections:\n"
     ]
    },
    {
     "data": {
      "application/vnd.jupyter.widget-view+json": {
       "model_id": "9f7318418ec84ee9b300a01db7fbb98b",
       "version_major": 2,
       "version_minor": 0
      },
      "text/plain": [
       "SEJveChjaGlsZHJlbj0oVkJveChjaGlsZHJlbj0oTGFiZWwodmFsdWU9dScnLCBsYXlvdXQ9TGF5b3V0KGhlaWdodD11JzM1cHgnLCB3aWR0aD11JzEwMCUnKSksIExhYmVsKHZhbHVlPXUnc3TigKY=\n"
      ]
     },
     "metadata": {},
     "output_type": "display_data"
    },
    {
     "data": {
      "application/vnd.jupyter.widget-view+json": {
       "model_id": "6b77809b58ed476ba028331f585014ad",
       "version_major": 2,
       "version_minor": 0
      },
      "text/plain": [
       "Button(button_style=u'success', description=u'Select Detections', style=ButtonStyle())"
      ]
     },
     "metadata": {},
     "output_type": "display_data"
    }
   ],
   "source": [
    "%run ../HETDEX_API/hetdex_api/detwidgets.py"
   ]
  },
  {
   "cell_type": "code",
   "execution_count": null,
   "metadata": {},
   "outputs": [],
   "source": [
    "sel = detects.query_by_pickle('query.pickle')\n",
    "np.sum(sel)"
   ]
  },
  {
   "cell_type": "code",
   "execution_count": 8,
   "metadata": {},
   "outputs": [
    {
     "name": "stdout",
     "output_type": "stream",
     "text": [
      "Subselecting for field(s): ('dex-spring', 'dex-fall')\n"
     ]
    }
   ],
   "source": [
    "# previously I saved a query with \n",
    "#\n",
    "#limits.__dict__ :\n",
    "#{'aperture_flag': False,\n",
    "# 'chi2_high': 0.0,\n",
    "# 'chi2_low': 0.0,\n",
    "# 'dec': 0.0,\n",
    "# 'field': ('cosmos',),\n",
    "# 'flux_high': 0.0,\n",
    "# 'flux_low': 0.0,\n",
    "# 'linewidth_high': 0.0,\n",
    "# 'linewidth_low': 0.0,\n",
    "# 'ra': 0.0,\n",
    "# 'rad': 0.0,\n",
    "# 'sn_high': 50.0,\n",
    "# 'sn_low': 6.0,\n",
    "# 'wave_high': 4000.0,\n",
    "# 'wave_low': 3500.0}\n",
    "#limits = pickle.load(open( 'query.pickle', \"rb\" ) )\n",
    "#maskdex = detects.query_by_dictionary(limits)\n",
    "#outfile = open('dex.pickle', 'wb')\n",
    "#pickle.dump(limits, outfile)\n",
    "#outfile.close()\n",
    "maskdex = detects.query_by_pickle('dex.pickle')"
   ]
  },
  {
   "cell_type": "code",
   "execution_count": 9,
   "metadata": {},
   "outputs": [
    {
     "name": "stdout",
     "output_type": "stream",
     "text": [
      "Subselecting for field(s): ('cosmos',)\n"
     ]
    }
   ],
   "source": [
    "# previously I saved a query with \n",
    "#\n",
    "#limits.__dict__ :\n",
    "#{'aperture_flag': False,\n",
    "# 'chi2_high': 0.0,\n",
    "# 'chi2_low': 0.0,\n",
    "# 'dec': 0.0,\n",
    "# 'field': ('cosmos',),\n",
    "# 'flux_high': 0.0,\n",
    "# 'flux_low': 0.0,\n",
    "# 'linewidth_high': 0.0,\n",
    "# 'linewidth_low': 0.0,\n",
    "# 'ra': 0.0,\n",
    "# 'rad': 0.0,\n",
    "# 'sn_high': 50.0,\n",
    "# 'sn_low': 6.0,\n",
    "# 'wave_high': 4000.0,\n",
    "# 'wave_low': 3500.0}\n",
    "#limits=pickle.load(open( 'query.pickle', \"rb\" ) )\n",
    "#maskcosmos = detects.query_by_dictionary(limits)\n",
    "#outfile = open('cosmos.pickle', 'wb')\n",
    "#pickle.dump(limits, outfile)\n",
    "#outfile.close()\n",
    "maskcosmos = detects.query_by_pickle('cosmos.pickle')"
   ]
  },
  {
   "cell_type": "code",
   "execution_count": 10,
   "metadata": {},
   "outputs": [
    {
     "data": {
      "text/plain": [
       "(88119, 4238)"
      ]
     },
     "execution_count": 10,
     "metadata": {},
     "output_type": "execute_result"
    }
   ],
   "source": [
    "np.sum(maskdex), np.sum(maskcosmos)"
   ]
  },
  {
   "cell_type": "code",
   "execution_count": 11,
   "metadata": {},
   "outputs": [
    {
     "data": {
      "image/png": "[encoded data removed]",
      "text/plain": [
       "<Figure size 576x432 with 2 Axes>"
      ]
     },
     "metadata": {
      "needs_background": "light"
     },
     "output_type": "display_data"
    }
   ],
   "source": [
    "colors = ['b','g']\n",
    "#sets up the axis and gets histogram data\n",
    "fig, ax1 = plt.subplots(figsize=(8,6))\n",
    "ax2 = ax1.twinx()\n",
    "y1 = detects.wave[maskdex]\n",
    "y2 = detects.wave[maskcosmos]\n",
    "nbins = 30\n",
    "ax1.hist([y1, y2], color=colors, bins=nbins)\n",
    "n, bins, patches = ax1.hist([y1,y2], bins=nbins)\n",
    "ax1.cla() #clear the axis\n",
    "\n",
    "#plots the histogram data\n",
    "width = (bins[1] - bins[0]) *0.5\n",
    "bins_shifted = bins + width\n",
    "ax1.bar(bins[:-1], n[0], width, align='edge', color=colors[0])\n",
    "ax2.bar(bins_shifted[:-1], n[1], width, align='edge', color=colors[1])\n",
    "\n",
    "#finishes the plot\n",
    "ax1.set_ylabel(\"DEX Count\", color=colors[0])\n",
    "ax2.set_ylabel(\"Cosmos Count\", color=colors[1])\n",
    "ax1.set_xlabel('wavelength')\n",
    "ax1.tick_params('y', colors=colors[0])\n",
    "ax2.tick_params('y', colors=colors[1])\n",
    "plt.tight_layout()\n",
    "plt.savefig('count_vs_wave.png')"
   ]
  },
  {
   "cell_type": "code",
   "execution_count": 12,
   "metadata": {},
   "outputs": [
    {
     "name": "stdout",
     "output_type": "stream",
     "text": [
      "[3766.666 3783.332]\n"
     ]
    }
   ],
   "source": [
    "np.argmax(n)\n",
    "print bins[16:18]"
   ]
  },
  {
   "cell_type": "code",
   "execution_count": 13,
   "metadata": {},
   "outputs": [],
   "source": [
    "#limits3 = pickle.load( open( 'query.pickle', \"rb\" ) )\n",
    "#limits3.__dict__\n",
    "#\n",
    "#{'aperture_flag': False,\n",
    "# 'chi2_high': 0.0,\n",
    "# 'chi2_low': 0.0,\n",
    "# 'dec': 0.0,\n",
    "# 'field': ('dex-spring', 'dex-fall'),\n",
    "# 'flux_high': 0.0,\n",
    "# 'flux_low': 0.0,\n",
    "# 'linewidth_high': 0.0,\n",
    "# 'linewidth_low': 0.0,\n",
    "# 'ra': 0.0,\n",
    "# 'rad': 0.0,\n",
    "# 'sn_high': 50.0,\n",
    "# 'sn_low': 6.0,\n",
    "# 'wave_high': 3785.0,\n",
    "# 'wave_low': 3765.0}\n",
    "#outfile = open('mask3770.pickle', 'wb')\n",
    "#pickle.dump(limits3, outfile)\n",
    "#outfile.close()\n",
    "#mask3770 = detects.query_by_dictionary(limits3)"
   ]
  },
  {
   "cell_type": "code",
   "execution_count": 14,
   "metadata": {},
   "outputs": [
    {
     "name": "stdout",
     "output_type": "stream",
     "text": [
      "Subselecting for field(s): ('dex-spring', 'dex-fall')\n"
     ]
    },
    {
     "data": {
      "text/plain": [
       "6854"
      ]
     },
     "execution_count": 14,
     "metadata": {},
     "output_type": "execute_result"
    }
   ],
   "source": [
    "mask3770 = detects.query_by_pickle('mask3770.pickle')\n",
    "np.sum(mask3770)"
   ]
  },
  {
   "cell_type": "code",
   "execution_count": 15,
   "metadata": {},
   "outputs": [
    {
     "data": {
      "text/plain": [
       "array([1000621289, 1000621293, 1000621295, 1000621315, 1000621370,\n",
       "       1000621435, 1000621445, 1000621633, 1000621721, 1000621762])"
      ]
     },
     "execution_count": 15,
     "metadata": {},
     "output_type": "execute_result"
    }
   ],
   "source": [
    "detects.detectid[mask3770][6000:6010]"
   ]
  },
  {
   "cell_type": "code",
   "execution_count": 16,
   "metadata": {},
   "outputs": [
    {
     "data": {
      "image/png": "[encoded data removed]",
      "text/plain": [
       "<Figure size 576x576 with 1 Axes>"
      ]
     },
     "metadata": {
      "needs_background": "light"
     },
     "output_type": "display_data"
    }
   ],
   "source": [
    "plt.figure(figsize=(8,8))\n",
    "plt.hist(detects.continuum[mask3770], bins=50, log=True)\n",
    "plt.xlabel('Continuum')\n",
    "plt.ylabel('n detects')\n",
    "plt.title('3765 < wave < 3785')\n",
    "plt.savefig('stars_conthist.png')"
   ]
  },
  {
   "cell_type": "code",
   "execution_count": 17,
   "metadata": {},
   "outputs": [
    {
     "data": {
      "image/png": "[encoded data removed]",
      "text/plain": [
       "<Figure size 576x576 with 1 Axes>"
      ]
     },
     "metadata": {
      "needs_background": "light"
     },
     "output_type": "display_data"
    }
   ],
   "source": [
    "plt.figure(figsize=(8,8))\n",
    "plt.hist(detects.wave[mask3770], bins=50, log=True)\n",
    "plt.xlabel('wavelength')\n",
    "plt.ylabel('n detects')\n",
    "plt.title('3765 < wave < 3785')\n",
    "plt.savefig('stars_wavehist.png')"
   ]
  },
  {
   "cell_type": "code",
   "execution_count": 18,
   "metadata": {},
   "outputs": [
    {
     "data": {
      "text/plain": [
       "199"
      ]
     },
     "execution_count": 18,
     "metadata": {},
     "output_type": "execute_result"
    }
   ],
   "source": [
    "maskremove = mask3770 * (detects.wave > 3775) * (detects.wave < 3785) * (detects.continuum > 1) * (detects.continuum < 3)\n",
    "detects.detectid[maskremove]\n",
    "np.sum(maskremove)"
   ]
  },
  {
   "cell_type": "code",
   "execution_count": 6,
   "metadata": {},
   "outputs": [],
   "source": [
    "np.sum(highcont)\n",
    "for detecti in detects.detectid[highcont]:\n",
    "    tarname = op.join(config.elix_dir,\"erg_%d.tar\" %(detecti//100000))\n",
    "    file_pdf = op.join(\"egs_%d\" %(detecti//100000), str(detecti) + '.pdf')\n",
    "    os.system('tar -xvf '+ tarname + ' ' + file_pdf)\n",
    "    os.system('mv '+ file_pdf + ' veryhighcont/')"
   ]
  },
  {
   "cell_type": "code",
   "execution_count": 19,
   "metadata": {},
   "outputs": [],
   "source": [
    "#sel = detects.query_by_pickle('query.pickle') # queried 1 arcmin at 172.212036,51.042034\n",
    "np.sum(sel)\n",
    "for detecti in detects.detectid[sel]:\n",
    "    tarname = op.join(config.elix_dir,\"erg_%d.tar\" %(detecti//100000))\n",
    "    file_pdf = op.join(\"egs_%d\" %(detecti//100000), str(detecti) + '.pdf')\n",
    "    os.system('tar -xvf '+ tarname + ' ' + file_pdf)\n",
    "    os.system('mv '+ file_pdf + ' midccd_cont3to10/')"
   ]
  },
  {
   "cell_type": "code",
   "execution_count": 20,
   "metadata": {},
   "outputs": [
    {
     "data": {
      "text/plain": [
       "array([ 41.31,  24.93,  14.39, 109.55, 107.57,  19.91,  19.93,  11.95,\n",
       "         1.07,  14.08,  15.89,   7.43,  15.85,  21.9 ,  16.02,  14.87,\n",
       "        12.77,   4.53,  18.62,  15.59,   7.34,  23.8 ,  21.81,  31.74,\n",
       "        17.18,  15.97,  19.65], dtype=float32)"
      ]
     },
     "execution_count": 20,
     "metadata": {},
     "output_type": "execute_result"
    }
   ],
   "source": [
    "detects.continuum[sel]"
   ]
  },
  {
   "cell_type": "code",
   "execution_count": 25,
   "metadata": {},
   "outputs": [
    {
     "data": {
      "text/plain": [
       "(array([ 2.,  0.,  6.,  0.,  0.,  3., 14.,  0.,  0.,  0.,  0.,  0.,  0.,\n",
       "         0.,  0.,  0.,  0.,  0.,  0.,  0.,  0.,  0.,  0.,  0.,  1.,  7.,\n",
       "         0.,  1.,  0.,  1.,  0., 19.,  0.,  5.,  0.,  0.,  0.,  0.,  0.,\n",
       "         0.,  0.,  0.,  0.,  0.,  0.,  0.,  0.,  7., 25.,  0.,  1., 16.,\n",
       "         5., 19., 15.,  2.,  0.,  0.,  1., 53.,  6.,  0., 23.,  4.,  2.,\n",
       "         0.,  0.,  0.,  0.,  0., 10.,  7.,  5.,  0.,  0.,  0., 55.,  0.,\n",
       "         4.,  4.,  0.,  0.,  0.,  0.,  2.,  1.,  2.,  0.,  0.,  4.,  0.,\n",
       "        18.,  5.,  2.,  2., 39.,  2.,  5., 20.,  4.]),\n",
       " array([3540.71  , 3560.532 , 3580.354 , 3600.176 , 3619.998 , 3639.82  ,\n",
       "        3659.642 , 3679.4639, 3699.286 , 3719.108 , 3738.93  , 3758.752 ,\n",
       "        3778.574 , 3798.396 , 3818.218 , 3838.04  , 3857.862 , 3877.684 ,\n",
       "        3897.506 , 3917.328 , 3937.15  , 3956.972 , 3976.794 , 3996.616 ,\n",
       "        4016.438 , 4036.26  , 4056.082 , 4075.904 , 4095.726 , 4115.548 ,\n",
       "        4135.37  , 4155.192 , 4175.014 , 4194.836 , 4214.658 , 4234.48  ,\n",
       "        4254.3022, 4274.124 , 4293.946 , 4313.768 , 4333.59  , 4353.412 ,\n",
       "        4373.234 , 4393.056 , 4412.878 , 4432.7   , 4452.522 , 4472.344 ,\n",
       "        4492.166 , 4511.9883, 4531.81  , 4551.632 , 4571.454 , 4591.276 ,\n",
       "        4611.098 , 4630.92  , 4650.742 , 4670.564 , 4690.386 , 4710.208 ,\n",
       "        4730.0303, 4749.852 , 4769.6743, 4789.496 , 4809.318 , 4829.14  ,\n",
       "        4848.962 , 4868.784 , 4888.606 , 4908.428 , 4928.25  , 4948.0723,\n",
       "        4967.894 , 4987.7163, 5007.538 , 5027.3604, 5047.182 , 5067.004 ,\n",
       "        5086.826 , 5106.648 , 5126.47  , 5146.292 , 5166.1143, 5185.936 ,\n",
       "        5205.7583, 5225.58  , 5245.4023, 5265.224 , 5285.046 , 5304.868 ,\n",
       "        5324.69  , 5344.512 , 5364.334 , 5384.1562, 5403.978 , 5423.8003,\n",
       "        5443.622 , 5463.4443, 5483.266 , 5503.0884, 5522.91  ],\n",
       "       dtype=float32),\n",
       " <a list of 100 Patch objects>)"
      ]
     },
     "execution_count": 25,
     "metadata": {},
     "output_type": "execute_result"
    },
    {
     "data": {
      "image/png": "[encoded data removed]",
      "text/plain": [
       "<Figure size 432x288 with 1 Axes>"
      ]
     },
     "metadata": {
      "needs_background": "light"
     },
     "output_type": "display_data"
    }
   ],
   "source": [
    "plt.hist(detects.wave[highcont], bins=100)"
   ]
  },
  {
   "cell_type": "code",
   "execution_count": 19,
   "metadata": {},
   "outputs": [],
   "source": [
    "detects_contgt3 = detects.detectid[maskremove]"
   ]
  },
  {
   "cell_type": "code",
   "execution_count": 22,
   "metadata": {},
   "outputs": [
    {
     "data": {
      "text/plain": [
       "(array([ 5.,  2.,  6.,  4.,  5.,  0.,  0.,  4.,  0.,  3.,  1.,  1.,  2.,\n",
       "         1.,  0.,  4.,  3.,  1.,  0.,  3.,  2.,  7.,  3.,  1.,  4.,  2.,\n",
       "         2.,  3.,  7.,  3.,  8.,  4.,  5.,  2.,  2.,  5.,  4.,  8.,  6.,\n",
       "        15.,  7.,  3.,  5.,  7.,  4.,  8.,  3., 11.,  6.,  7.]),\n",
       " array([1.05  , 1.0888, 1.1276, 1.1664, 1.2052, 1.244 , 1.2828, 1.3216,\n",
       "        1.3604, 1.3992, 1.438 , 1.4768, 1.5156, 1.5544, 1.5932, 1.632 ,\n",
       "        1.6708, 1.7096, 1.7484, 1.7872, 1.826 , 1.8648, 1.9036, 1.9424,\n",
       "        1.9812, 2.02  , 2.0588, 2.0976, 2.1364, 2.1752, 2.214 , 2.2528,\n",
       "        2.2916, 2.3304, 2.3692, 2.408 , 2.4468, 2.4856, 2.5244, 2.5632,\n",
       "        2.602 , 2.6408, 2.6796, 2.7184, 2.7572, 2.796 , 2.8348, 2.8736,\n",
       "        2.9124, 2.9512, 2.99  ], dtype=float32),\n",
       " <a list of 50 Patch objects>)"
      ]
     },
     "execution_count": 22,
     "metadata": {},
     "output_type": "execute_result"
    },
    {
     "data": {
      "image/png": "[encoded data removed]",
      "text/plain": [
       "<Figure size 432x288 with 1 Axes>"
      ]
     },
     "metadata": {
      "needs_background": "light"
     },
     "output_type": "display_data"
    }
   ],
   "source": [
    "np.median(detects.continuum[maskremove])\n",
    "plt.hist(detects.continuum[maskremove], bins=50, log=True)"
   ]
  }
 ],
 "metadata": {
  "kernelspec": {
   "display_name": "Python 2",
   "language": "python",
   "name": "python2"
  },
  "language_info": {
   "codemirror_mode": {
    "name": "ipython",
    "version": 2
   },
   "file_extension": ".py",
   "mimetype": "text/x-python",
   "name": "python",
   "nbconvert_exporter": "python",
   "pygments_lexer": "ipython2",
   "version": "2.7.15"
  }
 },
 "nbformat": 4,
 "nbformat_minor": 2
}
