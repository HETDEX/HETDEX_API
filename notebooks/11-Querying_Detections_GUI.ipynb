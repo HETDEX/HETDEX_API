{
 "cells": [
  {
   "cell_type": "markdown",
   "metadata": {},
   "source": [
    "# 11 - Querying the Detections Database using the GUI"
   ]
  },
  {
   "cell_type": "markdown",
   "metadata": {},
   "source": [
    "In Notebook #03, you learned how to query and access the detections HDF5 file through the Detection API. Here we show how to use a user friendly GUI to first initialize the Detections class then query the database. When you initiate via the API, you automatically receive a culled database in which bad detections due to bad amps, bad shots or software issues are removed. Very bright sources are also removed automatically."
   ]
  },
  {
   "cell_type": "markdown",
   "metadata": {},
   "source": [
    "### First initiate the Detections API"
   ]
  },
  {
   "cell_type": "code",
   "execution_count": 1,
   "metadata": {},
   "outputs": [],
   "source": [
    "%matplotlib inline\n",
    "import matplotlib.pyplot as plt\n",
    "from hetdex_api.detections import *\n",
    "from hetdex_api.detwidgets import *"
   ]
  },
  {
   "cell_type": "markdown",
   "metadata": {},
   "source": [
    "Run this to prevent scrolling in individual cells"
   ]
  },
  {
   "cell_type": "code",
   "execution_count": 2,
   "metadata": {},
   "outputs": [
    {
     "data": {
      "application/javascript": [
       "IPython.OutputArea.prototype._should_scroll = function(lines) {\n",
       "    return false;\n",
       "}"
      ],
      "text/plain": [
       "<IPython.core.display.Javascript object>"
      ]
     },
     "metadata": {},
     "output_type": "display_data"
    }
   ],
   "source": [
    "%%javascript\n",
    "IPython.OutputArea.prototype._should_scroll = function(lines) {\n",
    "    return false;\n",
    "}"
   ]
  },
  {
   "cell_type": "code",
   "execution_count": 3,
   "metadata": {},
   "outputs": [],
   "source": [
    "detects = Detections('hdr1').refine()"
   ]
  },
  {
   "cell_type": "markdown",
   "metadata": {},
   "source": [
    "### Initiate the Detections Query Widget"
   ]
  },
  {
   "cell_type": "markdown",
   "metadata": {},
   "source": [
    "The `DetWidget()` class will generate a GUI that will allow you to create your desired search criteria. It will also hold the query parameters in the dictionary `DetWidget.limits`"
   ]
  },
  {
   "cell_type": "code",
   "execution_count": 4,
   "metadata": {},
   "outputs": [
    {
     "name": "stdout",
     "output_type": "stream",
     "text": [
      "Either select a specific field or multiple fields (command-click to select multiple fields):\n",
      "\n"
     ]
    },
    {
     "data": {
      "application/vnd.jupyter.widget-view+json": {
       "model_id": "1dffee08d9ea4b7288f7699564595fc2",
       "version_major": 2,
       "version_minor": 0
      },
      "text/plain": [
       "U2VsZWN0TXVsdGlwbGUoZGVzY3JpcHRpb249dSdGaWVsZDonLCBpbmRleD0oMCwpLCBvcHRpb25zPSgnYWxsJywgJ2RleC1zcHJpbmcnLCAnZGV4LWZhbGwnLCAnY29zbW9zJywgJ2VncycsICfigKY=\n"
      ]
     },
     "metadata": {},
     "output_type": "display_data"
    },
    {
     "name": "stdout",
     "output_type": "stream",
     "text": [
      "Or manually enter an RA, DEC and aperture:\n",
      "\n"
     ]
    },
    {
     "data": {
      "application/vnd.jupyter.widget-view+json": {
       "model_id": "a25ac54509f2445ea9ff9e13117b3414",
       "version_major": 2,
       "version_minor": 0
      },
      "text/plain": [
       "SEJveChjaGlsZHJlbj0oVkJveChjaGlsZHJlbj0oTGFiZWwodmFsdWU9dSdSQSAoZGVncmVlcyknLCBsYXlvdXQ9TGF5b3V0KGhlaWdodD11JzM1cHgnLCB3aWR0aD11JzEwMCUnKSksIExhYmXigKY=\n"
      ]
     },
     "metadata": {},
     "output_type": "display_data"
    },
    {
     "data": {
      "application/vnd.jupyter.widget-view+json": {
       "model_id": "562b4666db8f42d38f06ceff386196c5",
       "version_major": 2,
       "version_minor": 0
      },
      "text/plain": [
       "Checkbox(value=False, description=u'Check to Select from aperture')"
      ]
     },
     "metadata": {},
     "output_type": "display_data"
    },
    {
     "name": "stdout",
     "output_type": "stream",
     "text": [
      "You may also wish to consider some down selections:\n"
     ]
    },
    {
     "data": {
      "application/vnd.jupyter.widget-view+json": {
       "model_id": "ee12e671e62e4599ad50bfd61d659d13",
       "version_major": 2,
       "version_minor": 0
      },
      "text/plain": [
       "SEJveChjaGlsZHJlbj0oVkJveChjaGlsZHJlbj0oTGFiZWwodmFsdWU9dScnLCBsYXlvdXQ9TGF5b3V0KGhlaWdodD11JzM1cHgnLCB3aWR0aD11JzEwMCUnKSksIExhYmVsKHZhbHVlPXUnbG/igKY=\n"
      ]
     },
     "metadata": {},
     "output_type": "display_data"
    },
    {
     "data": {
      "application/vnd.jupyter.widget-view+json": {
       "model_id": "846d37b465364cccb94fa3122eba8297",
       "version_major": 2,
       "version_minor": 0
      },
      "text/plain": [
       "Button(button_style=u'success', description=u'Select Detections', style=ButtonStyle())"
      ]
     },
     "metadata": {},
     "output_type": "display_data"
    },
    {
     "name": "stdout",
     "output_type": "stream",
     "text": [
      "Query limits saved to query.pickle\n",
      "Query limits saved to query.pickle\n"
     ]
    }
   ],
   "source": [
    "detwidget = DetWidget()"
   ]
  },
  {
   "cell_type": "markdown",
   "metadata": {},
   "source": [
    "## Query Parameters are saved to query.pickle file"
   ]
  },
  {
   "cell_type": "markdown",
   "metadata": {},
   "source": [
    "When you are satisfied with your selection criteria, you can press the Select Detections button and the widget will save all the query bounds in a dictionary instance object called `detwidget.limits`. You can see the contents like this:"
   ]
  },
  {
   "cell_type": "code",
   "execution_count": 6,
   "metadata": {},
   "outputs": [
    {
     "data": {
      "text/plain": [
       "{'aperture_flag': False,\n",
       " 'chi2_high': 0.0,\n",
       " 'chi2_low': 0.0,\n",
       " 'cont_high': 0.0,\n",
       " 'cont_low': 0.0,\n",
       " 'dec': 0.0,\n",
       " 'field': ('cosmos', 'egs', 'goods-n'),\n",
       " 'flux_high': 0.0,\n",
       " 'flux_low': 0.0,\n",
       " 'linewidth_high': 0.0,\n",
       " 'linewidth_low': 0.0,\n",
       " 'ra': 0.0,\n",
       " 'rad': 0.0,\n",
       " 'sn_high': 30.0,\n",
       " 'sn_low': 5.0,\n",
       " 'wave_high': 3800.0,\n",
       " 'wave_low': 3670.0}"
      ]
     },
     "execution_count": 6,
     "metadata": {},
     "output_type": "execute_result"
    }
   ],
   "source": [
    "detwidget.limits.__dict__"
   ]
  },
  {
   "cell_type": "markdown",
   "metadata": {},
   "source": [
    "If you want to query an aperture, you must click the \"Check to Select from Aperture\" box to set the aperture_flag to True. Otherwise it will go by field selection. You can then either use the `limits` dictionary or the saved pickle file \"query.pickle\" to select rows from the Detections class table. Rename your pickle file if you want to save it for future use, otherwise it will be overwritten by the GUI above when used again."
   ]
  },
  {
   "cell_type": "markdown",
   "metadata": {},
   "source": [
    "For example, here is how you would query the current limits dictionary:"
   ]
  },
  {
   "cell_type": "code",
   "execution_count": 7,
   "metadata": {},
   "outputs": [
    {
     "name": "stdout",
     "output_type": "stream",
     "text": [
      "Subselecting for field(s): ('cosmos', 'egs', 'goods-n')\n",
      "5919\n"
     ]
    }
   ],
   "source": [
    "mask = detects.query_by_dictionary(detwidget.limits)\n",
    "print(np.sum(mask))"
   ]
  },
  {
   "cell_type": "markdown",
   "metadata": {},
   "source": [
    "Or you can query from the pickle file saved upon pressing the button above:"
   ]
  },
  {
   "cell_type": "code",
   "execution_count": 8,
   "metadata": {},
   "outputs": [
    {
     "name": "stdout",
     "output_type": "stream",
     "text": [
      "Subselecting for field(s): ('cosmos', 'egs', 'goods-n')\n",
      "5919\n"
     ]
    }
   ],
   "source": [
    "mask = detects.query_by_pickle('query.pickle')\n",
    "print(np.sum(mask))"
   ]
  },
  {
   "cell_type": "markdown",
   "metadata": {},
   "source": [
    "The result is a mask that can be applied to the Detections class table."
   ]
  },
  {
   "cell_type": "markdown",
   "metadata": {},
   "source": [
    "You can either slice an individual array attribute of the Detections() class object"
   ]
  },
  {
   "cell_type": "code",
   "execution_count": 9,
   "metadata": {},
   "outputs": [],
   "source": [
    "selected_detectids = detects.detectid[mask]"
   ]
  },
  {
   "cell_type": "markdown",
   "metadata": {},
   "source": [
    "or you can slice every array attribute if you want to do some sort of analysis on many columns in the detections database"
   ]
  },
  {
   "cell_type": "code",
   "execution_count": 17,
   "metadata": {},
   "outputs": [],
   "source": [
    "detects_subsel = detects[mask]"
   ]
  },
  {
   "cell_type": "code",
   "execution_count": 19,
   "metadata": {},
   "outputs": [
    {
     "data": {
      "text/plain": [
       "Text(0,0.5,'count')"
      ]
     },
     "execution_count": 19,
     "metadata": {},
     "output_type": "execute_result"
    },
    {
     "data": {
      "image/png": "[encoded data removed]",
      "text/plain": [
       "<Figure size 432x288 with 1 Axes>"
      ]
     },
     "metadata": {
      "needs_background": "light"
     },
     "output_type": "display_data"
    }
   ],
   "source": [
    "plt.hist(detects_subsel.wave, bins=50)\n",
    "plt.xlabel('wavelength')\n",
    "plt.ylabel('count')"
   ]
  },
  {
   "cell_type": "markdown",
   "metadata": {},
   "source": [
    "## Save your selections to explore ELiXer Reports"
   ]
  },
  {
   "cell_type": "markdown",
   "metadata": {},
   "source": [
    "At this stage, we are doing a lot of down selections and exploring of detections contained in the detection catalog. The ELiXer Widgets GUI is designed to take a pre-defined list of detectIDs and flip through the ELiXeR reports either to visually investigate and/or classify. All you need to do is either load a detect list like this in:"
   ]
  },
  {
   "cell_type": "code",
   "execution_count": 20,
   "metadata": {},
   "outputs": [
    {
     "data": {
      "text/plain": [
       "array([1000000006, 1000000014, 1000000056, ..., 1000689150, 1000689176,\n",
       "       1000689270])"
      ]
     },
     "execution_count": 20,
     "metadata": {},
     "output_type": "execute_result"
    }
   ],
   "source": [
    "detects.detectid[mask]"
   ]
  },
  {
   "cell_type": "markdown",
   "metadata": {},
   "source": [
    "or use the detectfile option for a saved list. Here's how you would save the above list:"
   ]
  },
  {
   "cell_type": "code",
   "execution_count": 21,
   "metadata": {},
   "outputs": [],
   "source": [
    "np.savetxt('detectid.list', detects.detectid[mask])"
   ]
  },
  {
   "cell_type": "markdown",
   "metadata": {},
   "source": [
    "Once this field is saved, you can flip through ELiXer reports and classify them if you like. "
   ]
  },
  {
   "cell_type": "code",
   "execution_count": 22,
   "metadata": {},
   "outputs": [],
   "source": [
    "from hetdex_api.elixer_widgets import *"
   ]
  },
  {
   "cell_type": "code",
   "execution_count": 23,
   "metadata": {},
   "outputs": [
    {
     "data": {
      "application/vnd.jupyter.widget-view+json": {
       "model_id": "87b5337e79a64cd8ad0f4fbc5b41dd10",
       "version_major": 2,
       "version_minor": 0
      },
      "text/plain": [
       "aW50ZXJhY3RpdmUoY2hpbGRyZW49KEJvdW5kZWRJbnRUZXh0KHZhbHVlPTEwMDAwMDAwMDYsIGRlc2NyaXB0aW9uPXUnRGV0ZWN0SUQ6JywgbWF4PTEwMDA2OTA3OTksIG1pbj0xMDAwMDAwMDDigKY=\n"
      ]
     },
     "metadata": {},
     "output_type": "display_data"
    }
   ],
   "source": [
    "elix_widget = ElixerWidget(detectfile='detectid.list')"
   ]
  },
  {
   "cell_type": "markdown",
   "metadata": {},
   "source": [
    "## An example: comparing the wavelength distribution of detections for DEX and COSMOS shots respectively"
   ]
  },
  {
   "cell_type": "markdown",
   "metadata": {},
   "source": [
    "For example, here are two queries I saved previously that selected all detections in the DEX and COSMOS fields respectively:"
   ]
  },
  {
   "cell_type": "code",
   "execution_count": 24,
   "metadata": {},
   "outputs": [
    {
     "name": "stdout",
     "output_type": "stream",
     "text": [
      "Subselecting for field(s): ('dex-spring', 'dex-fall')\n",
      "Subselecting for field(s): ('cosmos',)\n",
      "(379546, 14741)\n"
     ]
    }
   ],
   "source": [
    "maskdex = detects.query_by_pickle('dex.pickle')\n",
    "maskcosmos = detects.query_by_pickle('cosmos.pickle')\n",
    "print(np.sum(maskdex), np.sum(maskcosmos))"
   ]
  },
  {
   "cell_type": "markdown",
   "metadata": {},
   "source": [
    "Here I will plot up the distribution of detections as a function of wavelength for each sample:"
   ]
  },
  {
   "cell_type": "code",
   "execution_count": 25,
   "metadata": {},
   "outputs": [
    {
     "data": {
      "image/png": "[encoded data removed]",
      "text/plain": [
       "<Figure size 576x432 with 2 Axes>"
      ]
     },
     "metadata": {
      "needs_background": "light"
     },
     "output_type": "display_data"
    }
   ],
   "source": [
    "colors = ['b','g']\n",
    "#sets up the axis and gets histogram data\n",
    "fig, ax1 = plt.subplots(figsize=(8,6))\n",
    "ax2 = ax1.twinx()\n",
    "y1 = detects.wave[maskdex]\n",
    "y2 = detects.wave[maskcosmos]\n",
    "nbins = 30\n",
    "ax1.hist([y1, y2], color=colors, bins=nbins)\n",
    "n, bins, patches = ax1.hist([y1,y2], bins=nbins)\n",
    "ax1.cla() #clear the axis\n",
    "\n",
    "#plots the histogram data\n",
    "width = (bins[1] - bins[0]) *0.5\n",
    "bins_shifted = bins + width\n",
    "ax1.bar(bins[:-1], n[0], width, align='edge', color=colors[0])\n",
    "ax2.bar(bins_shifted[:-1], n[1], width, align='edge', color=colors[1])\n",
    "\n",
    "#finishes the plot\n",
    "ax1.set_ylabel(\"DEX Count\", color=colors[0])\n",
    "ax2.set_ylabel(\"Cosmos Count\", color=colors[1])\n",
    "ax1.set_xlabel('wavelength')\n",
    "ax1.tick_params('y', colors=colors[0])\n",
    "ax2.tick_params('y', colors=colors[1])\n",
    "plt.tight_layout()\n",
    "plt.savefig('count_vs_wave.png')"
   ]
  },
  {
   "cell_type": "code",
   "execution_count": null,
   "metadata": {},
   "outputs": [],
   "source": []
  }
 ],
 "metadata": {
  "kernelspec": {
   "display_name": "Python 2",
   "language": "python",
   "name": "python2"
  },
  "language_info": {
   "codemirror_mode": {
    "name": "ipython",
    "version": 2
   },
   "file_extension": ".py",
   "mimetype": "text/x-python",
   "name": "python",
   "nbconvert_exporter": "python",
   "pygments_lexer": "ipython2",
   "version": "2.7.15"
  }
 },
 "nbformat": 4,
 "nbformat_minor": 2
}
