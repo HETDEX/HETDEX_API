{
 "cells": [
  {
   "cell_type": "markdown",
   "metadata": {},
   "source": [
    "# 11 - Querying the Detections Database using the GUI"
   ]
  },
  {
   "cell_type": "markdown",
   "metadata": {},
   "source": [
    "In Notebook #03, you learned how to query and access the detections HDF5 file through the Detection API. Here we show how to use a user friendly GUI to first initialize the Detections class then query the database. When you initiate via the API, you automatically receive a culled database in which bad detections due to bad amps, bad shots or software issues are removed. You can also opt to remove very bright stars with the removestars=True flag."
   ]
  },
  {
   "cell_type": "markdown",
   "metadata": {},
   "source": [
    "### First initiate the API"
   ]
  },
  {
   "cell_type": "code",
   "execution_count": 1,
   "metadata": {},
   "outputs": [],
   "source": [
    "%matplotlib inline\n",
    "import matplotlib.pyplot as plt\n",
    "from hetdex_api.detections import *"
   ]
  },
  {
   "cell_type": "markdown",
   "metadata": {},
   "source": [
    "Run this to prevent scrolling in individual cells"
   ]
  },
  {
   "cell_type": "code",
   "execution_count": 2,
   "metadata": {},
   "outputs": [
    {
     "data": {
      "application/javascript": [
       "IPython.OutputArea.prototype._should_scroll = function(lines) {\n",
       "    return false;\n",
       "}"
      ],
      "text/plain": [
       "<IPython.core.display.Javascript object>"
      ]
     },
     "metadata": {},
     "output_type": "display_data"
    }
   ],
   "source": [
    "%%javascript\n",
    "IPython.OutputArea.prototype._should_scroll = function(lines) {\n",
    "    return false;\n",
    "}"
   ]
  },
  {
   "cell_type": "code",
   "execution_count": 3,
   "metadata": {},
   "outputs": [],
   "source": [
    "detects = Detections('hdr1')"
   ]
  },
  {
   "cell_type": "markdown",
   "metadata": {},
   "source": [
    "### Run the script to create the GUI"
   ]
  },
  {
   "cell_type": "markdown",
   "metadata": {},
   "source": [
    "This will generate a GUI that will allow you to create your desired search criteria. "
   ]
  },
  {
   "cell_type": "code",
   "execution_count": 4,
   "metadata": {
    "scrolled": true
   },
   "outputs": [
    {
     "name": "stdout",
     "output_type": "stream",
     "text": [
      "Either select a specific field or multiple fields (command-click to select multiple fields):\n",
      "\n"
     ]
    },
    {
     "data": {
      "application/vnd.jupyter.widget-view+json": {
       "model_id": "f87e0bd13b4649c49d8d32bd1110129f",
       "version_major": 2,
       "version_minor": 0
      },
      "text/plain": [
       "U2VsZWN0TXVsdGlwbGUoZGVzY3JpcHRpb249dSdGaWVsZDonLCBpbmRleD0oMCwpLCBvcHRpb25zPSgnYWxsJywgJ2RleC1zcHJpbmcnLCAnZGV4LWZhbGwnLCAnY29zbW9zJywgJ2VncycsICfigKY=\n"
      ]
     },
     "metadata": {},
     "output_type": "display_data"
    },
    {
     "name": "stdout",
     "output_type": "stream",
     "text": [
      "Or manually enter an RA, DEC and aperture:\n",
      "\n"
     ]
    },
    {
     "data": {
      "application/vnd.jupyter.widget-view+json": {
       "model_id": "def906c46b2545f28537ea56339b3fe9",
       "version_major": 2,
       "version_minor": 0
      },
      "text/plain": [
       "SEJveChjaGlsZHJlbj0oVkJveChjaGlsZHJlbj0oTGFiZWwodmFsdWU9dSdSQSAoZGVncmVlcyknLCBsYXlvdXQ9TGF5b3V0KGhlaWdodD11JzM1cHgnLCB3aWR0aD11JzEwMCUnKSksIExhYmXigKY=\n"
      ]
     },
     "metadata": {},
     "output_type": "display_data"
    },
    {
     "data": {
      "application/vnd.jupyter.widget-view+json": {
       "model_id": "44a2dd2742634b4a9aee26252bfbb2dd",
       "version_major": 2,
       "version_minor": 0
      },
      "text/plain": [
       "Checkbox(value=False, description=u'Check to Select from aperture')"
      ]
     },
     "metadata": {},
     "output_type": "display_data"
    },
    {
     "name": "stdout",
     "output_type": "stream",
     "text": [
      "You may also wish to consider some down selections:\n"
     ]
    },
    {
     "data": {
      "application/vnd.jupyter.widget-view+json": {
       "model_id": "f65f02165f014853a168734bd9335e80",
       "version_major": 2,
       "version_minor": 0
      },
      "text/plain": [
       "SEJveChjaGlsZHJlbj0oVkJveChjaGlsZHJlbj0oTGFiZWwodmFsdWU9dScnLCBsYXlvdXQ9TGF5b3V0KGhlaWdodD11JzM1cHgnLCB3aWR0aD11JzEwMCUnKSksIExhYmVsKHZhbHVlPXUnc3TigKY=\n"
      ]
     },
     "metadata": {},
     "output_type": "display_data"
    },
    {
     "data": {
      "application/vnd.jupyter.widget-view+json": {
       "model_id": "c74083a6ed2b4eca949d513979c575e7",
       "version_major": 2,
       "version_minor": 0
      },
      "text/plain": [
       "Button(button_style=u'success', description=u'Select Detections', style=ButtonStyle())"
      ]
     },
     "metadata": {},
     "output_type": "display_data"
    },
    {
     "name": "stdout",
     "output_type": "stream",
     "text": [
      "Query limits saved to query.pickle\n"
     ]
    }
   ],
   "source": [
    "%run ../HETDEX_API/hetdex_api/detwidgets.py"
   ]
  },
  {
   "cell_type": "markdown",
   "metadata": {},
   "source": [
    "## Results are saved to query.pickle file"
   ]
  },
  {
   "cell_type": "markdown",
   "metadata": {},
   "source": [
    "When you are satisfied with your selection criteria, you can press the Select Detections button and the widget will save all the query bounds in a dictionary instance object called `limits`. You can see the contents like this:"
   ]
  },
  {
   "cell_type": "code",
   "execution_count": 7,
   "metadata": {},
   "outputs": [
    {
     "data": {
      "text/plain": [
       "{'aperture_flag': False,\n",
       " 'chi2_high': 0.0,\n",
       " 'chi2_low': 0.0,\n",
       " 'cont_high': 0.0,\n",
       " 'cont_low': 0.0,\n",
       " 'dec': 0.0,\n",
       " 'field': ('dex-spring', 'dex-fall'),\n",
       " 'flux_high': 0.0,\n",
       " 'flux_low': 0.0,\n",
       " 'linewidth_high': 0.0,\n",
       " 'linewidth_low': 0.0,\n",
       " 'ra': 0.0,\n",
       " 'rad': 0.0,\n",
       " 'sn_high': 0.0,\n",
       " 'sn_low': 0.0,\n",
       " 'wave_high': 0.0,\n",
       " 'wave_low': 0.0}"
      ]
     },
     "execution_count": 7,
     "metadata": {},
     "output_type": "execute_result"
    }
   ],
   "source": [
    "limits.__dict__"
   ]
  },
  {
   "cell_type": "markdown",
   "metadata": {},
   "source": [
    "If you want to query an aperture, you must click the \"Check to Select from Aperture\" box to set the aperture_flag to True. Otherwise it will go by field selection. You can then either use the `limits` dictionary or the saved pickle file \"query.pickle\" to select rows from the Detections class table. Rename your pickle file if you want to save it for future use, otherwise it will be overwritten by the GUI above when used again."
   ]
  },
  {
   "cell_type": "markdown",
   "metadata": {},
   "source": [
    "For example, here is how you would query the current limits dictionary:"
   ]
  },
  {
   "cell_type": "code",
   "execution_count": 8,
   "metadata": {},
   "outputs": [
    {
     "name": "stdout",
     "output_type": "stream",
     "text": [
      "Subselecting for field(s): ('dex-spring', 'dex-fall')\n",
      "506072\n"
     ]
    }
   ],
   "source": [
    "mask = detects.query_by_dictionary(limits)\n",
    "print(np.sum(mask))"
   ]
  },
  {
   "cell_type": "markdown",
   "metadata": {},
   "source": [
    "Or you can query from the pickle file saved upon pressing the button above:"
   ]
  },
  {
   "cell_type": "code",
   "execution_count": 9,
   "metadata": {},
   "outputs": [
    {
     "name": "stdout",
     "output_type": "stream",
     "text": [
      "Subselecting for field(s): ('dex-spring', 'dex-fall')\n",
      "506072\n"
     ]
    }
   ],
   "source": [
    "mask = detects.query_by_pickle('query.pickle')\n",
    "print(np.sum(mask))"
   ]
  },
  {
   "cell_type": "markdown",
   "metadata": {},
   "source": [
    "The result is a mask that can be applied to the Detections class table."
   ]
  },
  {
   "cell_type": "markdown",
   "metadata": {},
   "source": [
    "## An example: comparing the wavelength distribution of detections for DEX and COSMOS shots respectively"
   ]
  },
  {
   "cell_type": "markdown",
   "metadata": {},
   "source": [
    "For example, here are two queries I saved previously that selected all detections in the DEX and COSMOS fields respectively:"
   ]
  },
  {
   "cell_type": "code",
   "execution_count": 10,
   "metadata": {},
   "outputs": [
    {
     "name": "stdout",
     "output_type": "stream",
     "text": [
      "Subselecting for field(s): ('dex-spring', 'dex-fall')\n",
      "Subselecting for field(s): ('cosmos',)\n",
      "(284441, 10800)\n"
     ]
    }
   ],
   "source": [
    "maskdex = detects.query_by_pickle('dex.pickle')\n",
    "maskcosmos = detects.query_by_pickle('cosmos.pickle')\n",
    "print(np.sum(maskdex), np.sum(maskcosmos))"
   ]
  },
  {
   "cell_type": "markdown",
   "metadata": {},
   "source": [
    "Here I will plot up the distribution of detections as a function of wavelength for each sample:"
   ]
  },
  {
   "cell_type": "code",
   "execution_count": 11,
   "metadata": {},
   "outputs": [
    {
     "data": {
      "image/png": "[encoded data removed]",
      "text/plain": [
       "<Figure size 576x432 with 2 Axes>"
      ]
     },
     "metadata": {
      "needs_background": "light"
     },
     "output_type": "display_data"
    }
   ],
   "source": [
    "colors = ['b','g']\n",
    "#sets up the axis and gets histogram data\n",
    "fig, ax1 = plt.subplots(figsize=(8,6))\n",
    "ax2 = ax1.twinx()\n",
    "y1 = detects.wave[maskdex]\n",
    "y2 = detects.wave[maskcosmos]\n",
    "nbins = 30\n",
    "ax1.hist([y1, y2], color=colors, bins=nbins)\n",
    "n, bins, patches = ax1.hist([y1,y2], bins=nbins)\n",
    "ax1.cla() #clear the axis\n",
    "\n",
    "#plots the histogram data\n",
    "width = (bins[1] - bins[0]) *0.5\n",
    "bins_shifted = bins + width\n",
    "ax1.bar(bins[:-1], n[0], width, align='edge', color=colors[0])\n",
    "ax2.bar(bins_shifted[:-1], n[1], width, align='edge', color=colors[1])\n",
    "\n",
    "#finishes the plot\n",
    "ax1.set_ylabel(\"DEX Count\", color=colors[0])\n",
    "ax2.set_ylabel(\"Cosmos Count\", color=colors[1])\n",
    "ax1.set_xlabel('wavelength')\n",
    "ax1.tick_params('y', colors=colors[0])\n",
    "ax2.tick_params('y', colors=colors[1])\n",
    "plt.tight_layout()\n",
    "plt.savefig('count_vs_wave.png')"
   ]
  },
  {
   "cell_type": "code",
   "execution_count": null,
   "metadata": {},
   "outputs": [],
   "source": []
  }
 ],
 "metadata": {
  "kernelspec": {
   "display_name": "Python 2",
   "language": "python",
   "name": "python2"
  },
  "language_info": {
   "codemirror_mode": {
    "name": "ipython",
    "version": 2
   },
   "file_extension": ".py",
   "mimetype": "text/x-python",
   "name": "python",
   "nbconvert_exporter": "python",
   "pygments_lexer": "ipython2",
   "version": "2.7.15"
  }
 },
 "nbformat": 4,
 "nbformat_minor": 2
}
