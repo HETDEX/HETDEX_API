{
 "cells": [
  {
   "cell_type": "markdown",
   "id": "b900438d-7a82-46bc-82e5-f187e8e20d54",
   "metadata": {
    "tags": []
   },
   "source": [
    "# HETDEX Source Catalog 1: Catalog description and access"
   ]
  },
  {
   "cell_type": "code",
   "execution_count": null,
   "id": "d6f7de4a",
   "metadata": {},
   "outputs": [],
   "source": [
    "# Required python moduldes for opening FITS files and plotting\n",
    "import numpy as np\n",
    "import os.path as op\n",
    "import glob\n",
    "\n",
    "import matplotlib.pyplot as plt\n",
    "from matplotlib import gridspec\n",
    "\n",
    "from astropy.io import fits\n",
    "from astropy.table import Table, hstack\n",
    "import astropy.units as u\n",
    "from astropy.coordinates import SkyCoord\n",
    "from astropy.wcs import WCS\n",
    "\n",
    "from astropy.visualization import make_lupton_rgb, ZScaleInterval"
   ]
  },
  {
   "cell_type": "code",
   "execution_count": null,
   "id": "51ed1c40",
   "metadata": {},
   "outputs": [],
   "source": [
    "%matplotlib inline"
   ]
  },
  {
   "cell_type": "code",
   "execution_count": null,
   "id": "5b10541a-9b9a-4a35-abe9-2b2ec47cb559",
   "metadata": {},
   "outputs": [],
   "source": [
    "# fill in the path to the HETDEX Source Catalog 1 files\n",
    "path_to_sc1 = \"/home/jovyan/Hobby-Eberly-Public/HETDEX/catalogs/hetdex_source_catalog_1\""
   ]
  },
  {
   "cell_type": "markdown",
   "id": "6ee0ab2c-0ea6-492d-abcf-3b3963f37fff",
   "metadata": {
    "jp-MarkdownHeadingCollapsed": true,
    "tags": []
   },
   "source": [
    "## Catalog Organization\n",
    "\n",
    "Two catalogs make up HETDEX Source Catalog 1:\n",
    "    \n",
    "    1. The Source Observation Table: hetdex_sc1_vX.dat/.fits/.ecsv\n",
    "       With SPECTRA arrays included: hetdex_sc1_spec_vX.fits\n",
    "       \n",
    "        One row per source observation. The table provides basic coordinates/redshift/source information for each observation of a unique astornomical source. The larger file hetdex_sc1_spec_vX.fits contains the same info from the first table plus addition data units of spectral array data.\n",
    "        \n",
    "    2. The Detection Information Table: hetdex_sc1_detinfo_vX.fits\n",
    "        One row per line or continuum detection. Bright sources can be comprised of multiple line or continuum emission. This catalog provides specific detection information such as line parameter info (S/N, line flux, line width)"
   ]
  },
  {
   "cell_type": "markdown",
   "id": "546db53f-8f43-43ef-96b2-e2021994b47f",
   "metadata": {},
   "source": [
    "## How to Open the Source Observation Table without Spectra"
   ]
  },
  {
   "cell_type": "markdown",
   "id": "b608f9ab-0aec-4e61-8ae5-1f893843de79",
   "metadata": {},
   "source": [
    "Multiple formats are provided for the source table. As suggested by Astropy v5.1 developers, we provide the recommended .ecsv format which contains masking and data quantity info. We also provide a simple .dat ascii file."
   ]
  },
  {
   "cell_type": "code",
   "execution_count": null,
   "id": "79b94845-32d3-4762-80c2-7017460ffe3b",
   "metadata": {},
   "outputs": [],
   "source": [
    "source_table = Table.read(op.join( path_to_sc1, 'hetdex_sc1_v3.1.ecsv') )"
   ]
  },
  {
   "cell_type": "markdown",
   "id": "cf9332b2-da2e-4ef7-bcac-04a469d4adc9",
   "metadata": {},
   "source": [
    "## How to Open the Source Observation Table with Spectra"
   ]
  },
  {
   "cell_type": "markdown",
   "id": "871d8588-780b-4286-99f9-4a9679359969",
   "metadata": {},
   "source": [
    "If spectral data is desired, a fits file contains spectral array data matching each row of the Source Observation Table"
   ]
  },
  {
   "cell_type": "code",
   "execution_count": null,
   "id": "f8e39ac4-ebf9-44db-ae79-2253df10aadb",
   "metadata": {},
   "outputs": [],
   "source": [
    "hdu = fits.open( op.join( path_to_sc1, 'hetdex_sc1_spec_v3.1.fits'))"
   ]
  },
  {
   "cell_type": "code",
   "execution_count": null,
   "id": "3be6d789-1b2f-495d-83c4-0571d663d898",
   "metadata": {},
   "outputs": [],
   "source": [
    "# The source table can also be accessed by astropy Table class or through HDU1\n",
    "source_table = Table.read( op.join( path_to_sc1, 'hetdex_sc1_spec_v3.1.fits'))"
   ]
  },
  {
   "cell_type": "code",
   "execution_count": null,
   "id": "a02df88c-5f28-4d1c-bc69-f8855704f741",
   "metadata": {},
   "outputs": [],
   "source": [
    "hdu.info()"
   ]
  },
  {
   "cell_type": "code",
   "execution_count": null,
   "id": "f73704be-a2e4-4992-bedb-44c9ac4d3a55",
   "metadata": {},
   "outputs": [],
   "source": [
    "spec = hdu['SPEC'].data\n",
    "spec_err = hdu['SPEC_ERR'].data\n",
    "wave_rect = hdu['WAVELENGTH'].data"
   ]
  },
  {
   "cell_type": "code",
   "execution_count": null,
   "id": "dfa71915-8430-40b3-bc66-3fe083f04018",
   "metadata": {},
   "outputs": [],
   "source": [
    "#spec unit is:\n",
    "u.Unit( hdu['SPEC'].header['BUNIT'])"
   ]
  },
  {
   "cell_type": "code",
   "execution_count": null,
   "id": "a82b4906-1a5e-4768-a973-3cd0443cd405",
   "metadata": {},
   "outputs": [],
   "source": [
    "# wavelength unit is:\n",
    "u.Unit( hdu['WAVELENGTH'].header['BUNIT'])"
   ]
  },
  {
   "cell_type": "markdown",
   "id": "225cfbf5-9ee7-4b8e-a32a-a801d4df7df7",
   "metadata": {},
   "source": [
    "### Query by source type example"
   ]
  },
  {
   "cell_type": "code",
   "execution_count": null,
   "id": "7152fffa-dcf8-4511-aa0b-b3323ba2f961",
   "metadata": {},
   "outputs": [],
   "source": [
    "sel_lae = source_table['source_type'] == 'lae'\n",
    "print('There are {} LAES in the catalog'.format(np.sum(sel_lae)))"
   ]
  },
  {
   "cell_type": "code",
   "execution_count": null,
   "id": "941f3e61-28aa-44c5-a241-10821e499ef3",
   "metadata": {},
   "outputs": [],
   "source": [
    "source_ids_lae = source_table['source_id'][sel_lae]"
   ]
  },
  {
   "cell_type": "code",
   "execution_count": null,
   "id": "3ae26c36-618f-4ce0-b79c-1ed330152ab4",
   "metadata": {},
   "outputs": [],
   "source": [
    "# Plot of all LAE spectra in redshift order as an example\n",
    "lae_spec_table = hstack( [source_table[sel_lae], spec[sel_lae], spec_err[sel_lae]])"
   ]
  },
  {
   "cell_type": "code",
   "execution_count": null,
   "id": "ac0bde6c-4a8f-4cfc-b1a6-a57e7609400d",
   "metadata": {},
   "outputs": [],
   "source": [
    "lae_spec_table.rename_column('col0_2', 'spec')\n",
    "lae_spec_table.rename_column('col0_3', 'spec_err')"
   ]
  },
  {
   "cell_type": "code",
   "execution_count": null,
   "id": "9ce2a381-67d9-4513-a773-0579958f5f64",
   "metadata": {},
   "outputs": [],
   "source": [
    "lae_spec_table.sort('z_hetdex')"
   ]
  },
  {
   "cell_type": "code",
   "execution_count": null,
   "id": "a85a5fc9-6b39-47cd-b4fe-7066f8a8bd5c",
   "metadata": {},
   "outputs": [],
   "source": [
    "plt.figure(figsize=(4, 10))\n",
    "plt.imshow( lae_spec_table['spec'], aspect=0.05, vmin=-0.01, vmax=2)\n",
    "plt.title('HETDEX LAE spectra in increasing redshift order')\n",
    "plt.xlabel('wavelength/z_hetdex')\n",
    "plt.ylabel('HETDEX 1D LAE spectra')"
   ]
  },
  {
   "cell_type": "markdown",
   "id": "21964aa1-b5d5-48d1-ad49-425ab4071bbc",
   "metadata": {},
   "source": [
    "### Query by Sky Coordinate Example"
   ]
  },
  {
   "cell_type": "code",
   "execution_count": null,
   "id": "8af1ed4e-2fde-4928-be69-75e76eeeffaf",
   "metadata": {},
   "outputs": [],
   "source": [
    "# Create array of coordinates for all HETDEX source members\n",
    "source_coords = SkyCoord(ra = source_table['RA'], dec= source_table['DEC'])"
   ]
  },
  {
   "cell_type": "code",
   "execution_count": null,
   "id": "8edbae8d-e59d-4de5-b3f2-99cb359e395d",
   "metadata": {},
   "outputs": [],
   "source": [
    "coord = SkyCoord(ra=220.21432*u.deg, dec=52.095898*u.deg)"
   ]
  },
  {
   "cell_type": "code",
   "execution_count": null,
   "id": "aad74ae4-9a9f-48ad-9a72-8d099ed5f022",
   "metadata": {},
   "outputs": [],
   "source": [
    "sel_match = source_coords.separation(coord) < 1.*u.arcsec"
   ]
  },
  {
   "cell_type": "markdown",
   "id": "4ca5d632-b632-40ad-bb96-c2cd858a936d",
   "metadata": {},
   "source": [
    "### Access and Plot Spectra"
   ]
  },
  {
   "cell_type": "code",
   "execution_count": null,
   "id": "ef7e111c-2197-4516-8788-73e0f87933a0",
   "metadata": {},
   "outputs": [],
   "source": [
    "redshift = source_table['z_hetdex'][sel_match][0]\n",
    "\n",
    "lya_wave = 1216* (redshift + 1)\n",
    "source_id = source_table['source_id'][sel_match][0]\n",
    "name = source_table['source_name'][sel_match][0]\n",
    "plt.plot( wave_rect, spec[sel_match][0])\n",
    "\n",
    "plt.xlim(lya_wave-50, lya_wave+50)\n",
    "plt.ylabel(r'spec (10$^-17$ ergs/s/cm$^2$/$\\AA$)')\n",
    "plt.xlabel(r'wavelength ($\\AA$)')\n",
    "plt.title('{}  source_id={}'.format(name, source_id))"
   ]
  },
  {
   "cell_type": "markdown",
   "id": "47364783-d8c4-4664-b0e2-f9133c5cd878",
   "metadata": {},
   "source": [
    "## How to Open the Detection Info Table"
   ]
  },
  {
   "cell_type": "code",
   "execution_count": null,
   "id": "5f3aeb91-9f57-4f57-81a6-402aa74b2b70",
   "metadata": {},
   "outputs": [],
   "source": [
    "det_table = Table.read(op.join(path_to_sc1, 'hetdex_sc1_detinfo_v3.1.fits'))"
   ]
  },
  {
   "cell_type": "markdown",
   "id": "6344578a-19d2-494b-aaa0-f6c8b9fc1446",
   "metadata": {},
   "source": [
    "### Plot up all detections for a single source_id"
   ]
  },
  {
   "cell_type": "markdown",
   "id": "a7527bb1-ab17-4500-8390-aca362327bf0",
   "metadata": {},
   "source": [
    "Let's query the detection info table for a relatively nearby, bright galaxy that is composed of serveral line detections to demonstrate the content of the Detection Info Table. Nearby galaxies and bright sources such as AGN can be composed of many detections. This is because line emission at different spatial regions and wavelengths will result in multiple detections in the detection search. The source will also likely have a complementary continuum detetion if it is bright (g < 21)"
   ]
  },
  {
   "cell_type": "code",
   "execution_count": null,
   "id": "c7e90766-f22d-46a2-9729-78809347f1a5",
   "metadata": {},
   "outputs": [],
   "source": [
    "sel_big_oii = (det_table['source_type'] == 'oii') & (det_table['major'] > 6) \n",
    "sel_center_ifu = (np.abs( det_table['x_ifu']) < 5) & (np.abs(det_table['y_ifu']) < 5)\n",
    "selected_det = (det_table['selected_det'] == True) & (det_table['n_members'] >6)"
   ]
  },
  {
   "cell_type": "code",
   "execution_count": null,
   "id": "00d01c99-4dac-4be5-854e-606b89a16ed9",
   "metadata": {},
   "outputs": [],
   "source": [
    "sel = sel_big_oii & sel_center_ifu & selected_det\n",
    "\n",
    "print(' There are {} matches '.format(np.sum(sel)))"
   ]
  },
  {
   "cell_type": "code",
   "execution_count": null,
   "id": "c8bc12e8-d9d2-4544-9b2a-5e6130f5300a",
   "metadata": {},
   "outputs": [],
   "source": [
    "# Pick random object in list and plot up the source_id\n",
    "\n",
    "index = np.where(sel)[0][0]\n",
    "\n",
    "sid = det_table['source_id'][index]\n",
    " \n",
    "coords = SkyCoord(ra=det_table['RA'][index]*u.deg, dec=det_table['DEC'][index]*u.deg)"
   ]
  },
  {
   "cell_type": "code",
   "execution_count": null,
   "id": "5ed8a935-57cf-4195-acfb-4afb41de4de8",
   "metadata": {},
   "outputs": [],
   "source": [
    "# Get Imaging data from Legacy Survey API\n",
    "fits_file = 'https://www.legacysurvey.org/viewer/fits-cutout?ra={}&dec={}&layer=ls-dr9&width=80&height=80&pixscale=0.25&bands=grz'.format(coords.ra.deg, coords.dec.deg)\n",
    "hdu_ls = fits.open(fits_file)\n",
    "wcs_ls = WCS( hdu_ls[0].header).dropaxis(2)\n"
   ]
  },
  {
   "cell_type": "code",
   "execution_count": null,
   "id": "31f8fa32-33e9-4847-b7c2-eb95c7681b89",
   "metadata": {},
   "outputs": [],
   "source": [
    "redshift = det_table['z_hetdex'][index]\n",
    "source_type = det_table['source_type'][index]\n",
    "\n",
    "grp = det_table[ det_table['source_id'] == sid]\n",
    "grp.sort('gmag')"
   ]
  },
  {
   "cell_type": "code",
   "execution_count": null,
   "id": "0471b616-8118-42e0-b693-d72b0acf108e",
   "metadata": {},
   "outputs": [],
   "source": [
    "# Get Spectrum from source_table\n",
    "hdu = fits.open(op.join(path_to_sc1, 'hetdex_sc1_spec_v3.1.fits'))\n",
    "source_table = hdu['INFO'].data\n",
    "spec = hdu['SPEC'].data\n",
    "sel_source = source_table['source_id'] == sid\n",
    "spectra = spec[sel_source][0]"
   ]
  },
  {
   "cell_type": "code",
   "execution_count": null,
   "id": "d73b6992-7a30-4447-88a3-52fa00411e05",
   "metadata": {},
   "outputs": [],
   "source": [
    "plt.figure(figsize=(13,3))\n",
    "gs = gridspec.GridSpec(1, 2, width_ratios=[1,3]) \n",
    "\n",
    "ax1 = plt.subplot(gs[0], projection=wcs_ls)\n",
    "im_zscale = ZScaleInterval(contrast=0.5, krej=1.1)\n",
    "im_vmin, im_vmax = im_zscale.get_limits(values=hdu_ls[0].data[2])\n",
    "plt.imshow(hdu_ls[0].data[2], origin='lower', cmap=plt.get_cmap('gray_r'), vmin=im_vmin, vmax=im_vmax  )\n",
    "\n",
    "sel_line = (grp[\"det_type\"] == \"line\")\n",
    "if np.sum(sel_line) >= 1:\n",
    "    plt.scatter(\n",
    "        grp[\"RA_det\"][sel_line],\n",
    "        grp[\"DEC_det\"][sel_line],\n",
    "        transform=ax1.get_transform(\"world\"),\n",
    "        marker=\"x\",\n",
    "        color=\"orange\",\n",
    "        linewidth=2,\n",
    "        s=50,\n",
    "#        zorder=100,\n",
    "        label=\"line emission\",\n",
    "    )\n",
    "\n",
    "sel_cont = grp[\"det_type\"] == \"cont\"\n",
    "if np.sum(sel_cont) >= 1:\n",
    "    plt.scatter(\n",
    "        grp[\"RA_det\"][sel_cont],\n",
    "        grp[\"DEC_det\"][sel_cont],\n",
    "        transform=ax1.get_transform(\"world\"),\n",
    "        marker=\"x\",\n",
    "        color=\"green\",\n",
    "        linewidth=2,\n",
    "        s=50,\n",
    "        label=\"continuum\",\n",
    "    )\n",
    "lon = ax1.coords[0]\n",
    "lat = ax1.coords[1]\n",
    "lon.set_axislabel('RA', minpad=0.5)\n",
    "lat.set_axislabel('Dec', minpad=-0.6)\n",
    "lon.set_ticklabel(exclude_overlapping=True)\n",
    "    \n",
    "ax2 = plt.subplot(gs[1])\n",
    "\n",
    "plt.plot(wave_rect, spectra, linewidth=1.2, color='tab:blue')#, yerr=spec_table['spec1d_err'])\n",
    "plt.xlabel(r'$\\lambda$ ($\\AA$)')\n",
    "plt.ylabel('f$_\\\\lambda$ (10$^{-17}$ ergs/s/cm$^2$/$\\AA$)')\n",
    "plt.xlim(3540, 5450)\n",
    "\n",
    "selw = (wave_rect > 3540) & (wave_rect < 5450)\n",
    "y2 = np.max(spectra[selw])\n",
    "y1 = np.min(spectra[selw])\n",
    "\n",
    "if y1 > 0:\n",
    "    y1 = 0\n",
    "\n",
    "# plot all emission lines detected in det_table related to the source_id\n",
    "\n",
    "for line in np.array( np.unique(grp['line_id'])):\n",
    "    if line == 'null':\n",
    "        continue\n",
    "    \n",
    "    sel_line = grp['line_id'] == line   \n",
    "\n",
    "    plt.bar(grp['wave'][sel_line][0], height=2*y2, width=30, bottom=y1, color='orange', alpha=0.3)\n",
    "    \n",
    "    label = '{}  [{}]'.format( grp['detectid'][sel_line][0], line.decode())\n",
    "    if np.isfinite( grp['wave'][sel_line][0]):\n",
    "        plt.text(grp['wave'][sel_line][0]-70, 0.1*y2, label, rotation=90, fontsize=10)\n",
    "\n",
    "plt.axhline(0, color='tab:grey', linestyle='dashed')\n",
    "plt.text(0.05, 0.7, 'z={:6.4f}'.format(redshift), transform=ax2.transAxes, color='tab:red', fontsize=20)\n",
    "plt.text(0.05, 0.85, 'source_id={}'.format(sid), transform=ax2.transAxes, fontsize=14, color='black')\n",
    "plt.ylim(y1,1.1*y2)\n",
    "plt.subplots_adjust(wspace=0.3, hspace=0)\n",
    "plt.tight_layout()"
   ]
  },
  {
   "cell_type": "markdown",
   "id": "bb186659-44a8-4700-8aa1-afaddad4bbe0",
   "metadata": {},
   "source": [
    "# References"
   ]
  },
  {
   "cell_type": "markdown",
   "id": "8e81da36-0f07-474a-b941-de30c9a27c50",
   "metadata": {},
   "source": [
    "* Dey, A., Schlegel, D.J., Lang, D., et al. 2019, Astrophysical Journal, 157, 168. doi:10.3847/1538-3881/ab089d LEGACY SURVEY: we use the LS API to obtain a sky cutout at the HETDEX source\n",
    "https://www.legacysurvey.org. \n",
    "* Gebhardt, K., Mentuch Cooper, E., Ciardullo, R., et al.2021, Astrophysical Journal, 923, 217. doi:10.3847/1538-4357/ac2e03\n"
   ]
  }
 ],
 "metadata": {
  "kernelspec": {
   "display_name": "Python 3 (ipykernel)",
   "language": "python",
   "name": "python3"
  },
  "language_info": {
   "codemirror_mode": {
    "name": "ipython",
    "version": 3
   },
   "file_extension": ".py",
   "mimetype": "text/x-python",
   "name": "python",
   "nbconvert_exporter": "python",
   "pygments_lexer": "ipython3",
   "version": "3.10.5"
  }
 },
 "nbformat": 4,
 "nbformat_minor": 5
}
