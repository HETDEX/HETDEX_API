{
 "cells": [
  {
   "cell_type": "markdown",
   "metadata": {},
   "source": [
    "## 12 - Classifying Detections using ipywidgets"
   ]
  },
  {
   "cell_type": "markdown",
   "metadata": {},
   "source": [
    "In order to streamline classifications we have developed a GUI using the ipywidgets package to quickly scan through ELixer report summaries. To begin, we highly recommend you read the Elixer_readme.pdf located in \n",
    "\n",
    "/work/03946/hetdex/hdr1/software/elixer/docs\n",
    "\n",
    "ELiXer reports contain as much information as we could possibly gather to help visually classify HETDEX line emitting galaxies. By combining visual inpsection of photometric images, cross matches to photometric catalogs along with HETDEX spectra and images of line detections we can make our best estimate on the type of source causing the emission.\n",
    "\n",
    "Because of the jupyter notebook format, this GUI/widget is forgiving. You can overwrite classifications that you aren't happy with and inspect your information along the way if you like. We will show you how in this notebook.\n",
    "\n",
    "We suggest you click the save progress button every 10 classifications or so just in case you accidentally close a window or your notebook runs out. This will save your classifications as a 'pickle' that can easily be reloaded for future use.\n"
   ]
  },
  {
   "cell_type": "markdown",
   "metadata": {},
   "source": [
    "### Launch the widget"
   ]
  },
  {
   "cell_type": "markdown",
   "metadata": {},
   "source": [
    "When you launch the widget you are generating a dictionary to store your visual classifications in then launching the widget/GUI that will aid you in making and store classifications. It loads in a pre-defined detection list. Currently we are defaulting to the list created by the Detections class (so this causes a 30 s delay in loading) in the detections.py API. This allows us to remove bad detections and bright stars prior to analysis. It is easy to adapt to just look at subsets of objects if interested."
   ]
  },
  {
   "cell_type": "code",
   "execution_count": 34,
   "metadata": {},
   "outputs": [
    {
     "data": {
      "application/javascript": [
       "IPython.OutputArea.prototype._should_scroll = function(lines) {\n",
       "    return false;\n",
       "}"
      ],
      "text/plain": [
       "<IPython.core.display.Javascript object>"
      ]
     },
     "metadata": {},
     "output_type": "display_data"
    }
   ],
   "source": [
    "## run this to prevent scrolling in individual cells\n",
    "%%javascript\n",
    "IPython.OutputArea.prototype._should_scroll = function(lines) {\n",
    "    return false;\n",
    "}"
   ]
  },
  {
   "cell_type": "code",
   "execution_count": 35,
   "metadata": {
    "scrolled": true
   },
   "outputs": [
    {
     "data": {
      "application/vnd.jupyter.widget-view+json": {
       "model_id": "9de3a863ad0d4cbb9546c49ca4d73386",
       "version_major": 2,
       "version_minor": 0
      },
      "text/plain": [
       "aW50ZXJhY3RpdmUoY2hpbGRyZW49KEJvdW5kZWRJbnRUZXh0KHZhbHVlPTEwMDAwMDAwMDAsIGRlc2NyaXB0aW9uPXUnRGV0ZWN0SUQ6JywgbWF4PTEwMDA2OTA3OTgsIG1pbj0xMDAwMDAwMDDigKY=\n"
      ]
     },
     "metadata": {},
     "output_type": "display_data"
    }
   ],
   "source": [
    "%run ../HETDEX_API/hetdex_api/elixer_widgets.py"
   ]
  },
  {
   "cell_type": "markdown",
   "metadata": {},
   "source": [
    "## Where the classifications are temporarily stored"
   ]
  },
  {
   "cell_type": "markdown",
   "metadata": {},
   "source": [
    "`class_info` is a global class object that contains a table of detectid, vis_class and comment values output from the above GUI"
   ]
  },
  {
   "cell_type": "code",
   "execution_count": 36,
   "metadata": {},
   "outputs": [
    {
     "data": {
      "text/plain": [
       "array([1000000000, 1000000001, 1000000002, ..., 1000690796, 1000690797,\n",
       "       1000690798])"
      ]
     },
     "execution_count": 36,
     "metadata": {},
     "output_type": "execute_result"
    }
   ],
   "source": [
    "class_info.detectid"
   ]
  },
  {
   "cell_type": "code",
   "execution_count": 37,
   "metadata": {},
   "outputs": [
    {
     "data": {
      "text/plain": [
       "chararray(['\\xc0\\xa57!\\x00\\x00\\x00\\x00\\x88\\xef\\xf9i\\xa8+',\n",
       "           '\\x00\\xc0\\xa57!\\x00\\x00\\x00\\x00`#.\\x0f',\n",
       "           '\\x00\\x00Q\\x00\\x00\\x00S\\x00\\x00\\x00k\\x00\\x00\\x00Z', ...,\n",
       "           '\\x00n\\x00\\x00\\x00O\\x00\\x00\\x00x\\x00\\x00\\x00P',\n",
       "           '\\x00\\x00f\\x00\\x00\\x00n\\x00\\x00\\x00u\\x00\\x00\\x006',\n",
       "           '\\x00\\x00\\x00e\\x00\\x00\\x00I\\x00\\x00\\x00x'], dtype='|S15')"
      ]
     },
     "execution_count": 37,
     "metadata": {},
     "output_type": "execute_result"
    }
   ],
   "source": [
    "class_info.vis_class"
   ]
  },
  {
   "cell_type": "code",
   "execution_count": 38,
   "metadata": {},
   "outputs": [
    {
     "data": {
      "text/plain": [
       "chararray(['', '', '', ..., '', '', ''], dtype='|S60')"
      ]
     },
     "execution_count": 38,
     "metadata": {},
     "output_type": "execute_result"
    }
   ],
   "source": [
    "class_info.comment"
   ]
  },
  {
   "cell_type": "markdown",
   "metadata": {},
   "source": [
    "## How to save the classifications"
   ]
  },
  {
   "cell_type": "code",
   "execution_count": null,
   "metadata": {},
   "outputs": [],
   "source": []
  }
 ],
 "metadata": {
  "kernelspec": {
   "display_name": "Python 2",
   "language": "python",
   "name": "python2"
  },
  "language_info": {
   "codemirror_mode": {
    "name": "ipython",
    "version": 2
   },
   "file_extension": ".py",
   "mimetype": "text/x-python",
   "name": "python",
   "nbconvert_exporter": "python",
   "pygments_lexer": "ipython2",
   "version": "2.7.15"
  }
 },
 "nbformat": 4,
 "nbformat_minor": 2
}
