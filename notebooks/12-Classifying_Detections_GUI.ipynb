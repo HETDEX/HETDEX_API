{
 "cells": [
  {
   "cell_type": "markdown",
   "metadata": {},
   "source": [
    "## 12 - Classifying Detections using ipywidgets"
   ]
  },
  {
   "cell_type": "markdown",
   "metadata": {},
   "source": [
    "In order to streamline classifications we have developed a GUI using the ipywidgets package to quickly scan through ELixer report summaries and store source classifications. If you do not have previous experience classifying with these reports, we highly recommend you read the Elixer_readme.pdf located in \n",
    "```\n",
    "/work/03946/hetdex/hdr1/software/elixer/docs/Elixer_readme.pdf\n",
    "```\n",
    "ELiXer reports allow us to visually classify HETDEX line emitting galaxies by combining HETDEX fiber spectra and 2D CCD images of line detections with ancillary photometric images and catalogs. You only need to know the detectid of a source to look up the ELiXer report.\n",
    "\n",
    "The GUI will take either a detectlist in the form of a numpy array, a saved detectlist (saved previously using np.savetxt), or a saved classification table file. You can only classify objects within this input list. You may also specify the name of the output file for the classification table.\n",
    "\n",
    "You can overwrite classifications that you aren't happy with and inspect your information along the way if you like. We will show you how in this notebook."
   ]
  },
  {
   "cell_type": "markdown",
   "metadata": {},
   "source": [
    "### Launch the widget"
   ]
  },
  {
   "cell_type": "markdown",
   "metadata": {},
   "source": [
    "The widget is launched by calling the class `ElixerWidget()` from `hetdex_api.elixer_widgets`. When you launch the widget you are generating a dictionary to store your visual classifications as well as initializing the widget. It either loads in a pre-defined detection list or if no argument is given it loads a list of all HDR1 detections. For our first team classification effort, please use the DetectID list stored in `detects_hdr1_sample1.txt`[TBD]. We'll also show a simple query here to get you started, but to learn more about the Detections API please go to Notebook 03 so you can do your own queries or you can explore the query interface to the Detections database in Notebook 11. \n",
    "\n",
    "Some quick notes about the interface:\n",
    "\n",
    "    * the DetectID text box will take any integer value so you can open any HDR1 detectID on demand\n",
    "    \n",
    "    * The buttons \"Previous DetectID\" and \"Next DetectID\" will jump through the input detectlist\n",
    "    \n",
    "    * if that DetectID is not in the input detectlist, then it will open the elixer but you will not be \n",
    "      able to save the classification\n",
    "    \n",
    "    * to return to your input list just press the \"Next DetectID\" button or \"Previous DetectID\" button and \n",
    "      it will go to the closest DetectID to the value in the textbox\n",
    "    \n",
    "    * it is better to leave a classification blank if you are very unsure about it. Classify a detection \n",
    "      as Junk that does not seem real and should not be used in any classification algorithms. Just go to \n",
    "      the next source by pressing the `Next DetectID` button. Feel free to leave a comment if you like\n",
    "    \n",
    "    * the comments box can be used to note bad amps or pixel defects. Either say 'bad amp' or 'bad pixel' \n",
    "      or just 'bad' to help us search for it later."
   ]
  },
  {
   "cell_type": "markdown",
   "metadata": {},
   "source": [
    "First run this to prevent scrolling in individual cells in the jupyter notebook"
   ]
  },
  {
   "cell_type": "code",
   "execution_count": 1,
   "metadata": {},
   "outputs": [
    {
     "data": {
      "application/javascript": [
       "IPython.OutputArea.prototype._should_scroll = function(lines) {\n",
       "    return false;\n",
       "}"
      ],
      "text/plain": [
       "<IPython.core.display.Javascript object>"
      ]
     },
     "metadata": {},
     "output_type": "display_data"
    }
   ],
   "source": [
    "%%javascript\n",
    "IPython.OutputArea.prototype._should_scroll = function(lines) {\n",
    "    return false;\n",
    "}"
   ]
  },
  {
   "cell_type": "code",
   "execution_count": 2,
   "metadata": {},
   "outputs": [],
   "source": [
    "from hetdex_api.elixer_widgets import *\n",
    "from hetdex_api.detections import *"
   ]
  },
  {
   "cell_type": "markdown",
   "metadata": {},
   "source": [
    "## Intialize the Detections class"
   ]
  },
  {
   "cell_type": "markdown",
   "metadata": {},
   "source": [
    "If you are doing team classifications using the input file `detects_hdr1_sample1.txt`, you do not need to do this step. Initializing the Detections class takes ~10-15 seconds."
   ]
  },
  {
   "cell_type": "code",
   "execution_count": 3,
   "metadata": {},
   "outputs": [],
   "source": [
    "detects = Detections('hdr1').refine()"
   ]
  },
  {
   "cell_type": "markdown",
   "metadata": {},
   "source": [
    "For example here is a selection that would help us find a sample of nice bright LAEs, and of course some interloping OII emitters:"
   ]
  },
  {
   "cell_type": "code",
   "execution_count": 4,
   "metadata": {},
   "outputs": [
    {
     "data": {
      "text/plain": [
       "2955"
      ]
     },
     "execution_count": 4,
     "metadata": {},
     "output_type": "execute_result"
    }
   ],
   "source": [
    "sel = (detects.gmag > 23) * (detects.sn > 10) * (detects.date >= 20171201) * (detects.throughput > 0.095) * (detects.fwhm < 2.6) * (detects.continuum < 10)\n",
    "np.sum(sel)"
   ]
  },
  {
   "cell_type": "markdown",
   "metadata": {},
   "source": [
    "The Detections class object can be indexed with a boolean mask. It can work on both just a single array attribute or the entire class (see Notebook 03 for more)."
   ]
  },
  {
   "cell_type": "code",
   "execution_count": 5,
   "metadata": {},
   "outputs": [],
   "source": [
    "detectLAEcandidates = detects.detectid[sel]\n",
    "np.savetxt('detectLAEs.txt', detectLAEcandidates)"
   ]
  },
  {
   "cell_type": "markdown",
   "metadata": {},
   "source": [
    "To open the GUI to just explore all detectIDs and ELiXeR reports:"
   ]
  },
  {
   "cell_type": "code",
   "execution_count": 6,
   "metadata": {},
   "outputs": [],
   "source": [
    "# elix_widget = ElixerWidget() "
   ]
  },
  {
   "cell_type": "markdown",
   "metadata": {},
   "source": [
    "To open the GUI to explore the LAE candidates defined in the previous query or any input detectid list:"
   ]
  },
  {
   "cell_type": "code",
   "execution_count": 7,
   "metadata": {},
   "outputs": [
    {
     "data": {
      "application/vnd.jupyter.widget-view+json": {
       "model_id": "fa4e1a36f5d649268b9d1aa7884d2031",
       "version_major": 2,
       "version_minor": 0
      },
      "text/plain": [
       "aW50ZXJhY3RpdmUoY2hpbGRyZW49KEJvdW5kZWRJbnRUZXh0KHZhbHVlPTEwMDAwODg3MTAsIGRlc2NyaXB0aW9uPXUnRGV0ZWN0SUQ6JywgbWF4PTEwMDA2OTA3OTksIG1pbj0xMDAwMDAwMDDigKY=\n"
      ]
     },
     "metadata": {},
     "output_type": "display_data"
    }
   ],
   "source": [
    "elix_widget = ElixerWidget(detectlist=detectLAEcandidates)"
   ]
  },
  {
   "cell_type": "markdown",
   "metadata": {},
   "source": [
    "or if you saved a list previously in another notebook, you can open it like this:"
   ]
  },
  {
   "cell_type": "code",
   "execution_count": 9,
   "metadata": {},
   "outputs": [],
   "source": [
    "# elix_widget = ElixerWidget(detectfile='detectLAEs.txt')"
   ]
  },
  {
   "cell_type": "markdown",
   "metadata": {},
   "source": [
    "Or if you have done some classifications previously and want to continue with the list (by default this list is saved as `elixer_classifications.dat`). If you use the resume=True flag, the detectID will start after the highest detectID classified previously. "
   ]
  },
  {
   "cell_type": "code",
   "execution_count": 10,
   "metadata": {},
   "outputs": [
    {
     "data": {
      "application/vnd.jupyter.widget-view+json": {
       "model_id": "5d70693a4018456096f149a5e30c096e",
       "version_major": 2,
       "version_minor": 0
      },
      "text/plain": [
       "aW50ZXJhY3RpdmUoY2hpbGRyZW49KEJvdW5kZWRJbnRUZXh0KHZhbHVlPTEwMDAwOTQwNjMsIGRlc2NyaXB0aW9uPXUnRGV0ZWN0SUQ6JywgbWF4PTEwMDA2OTA3OTksIG1pbj0xMDAwMDAwMDDigKY=\n"
      ]
     },
     "metadata": {},
     "output_type": "display_data"
    }
   ],
   "source": [
    "# elix_widget = ElixerWidget(savedfile='elixer_classifications.dat', resume=True)"
   ]
  },
  {
   "cell_type": "markdown",
   "metadata": {},
   "source": [
    "## Where the classifications are temporarily stored"
   ]
  },
  {
   "cell_type": "markdown",
   "metadata": {},
   "source": [
    "`elix_widget` is a class object that contains arrays of the input detectid, vis_class and comment values output from the above GUI. It can be saved and shared with the group using the `Save Progress` button above. It saves"
   ]
  },
  {
   "cell_type": "code",
   "execution_count": 11,
   "metadata": {},
   "outputs": [
    {
     "data": {
      "text/plain": [
       "array([1000088710, 1000088724, 1000088808, ..., 1000689024, 1000689101,\n",
       "       1000689627])"
      ]
     },
     "execution_count": 11,
     "metadata": {},
     "output_type": "execute_result"
    }
   ],
   "source": [
    "elix_widget.detectid"
   ]
  },
  {
   "cell_type": "code",
   "execution_count": 12,
   "metadata": {},
   "outputs": [
    {
     "data": {
      "text/plain": [
       "array([ 2,  2,  2, ..., -1, -1, -1])"
      ]
     },
     "execution_count": 12,
     "metadata": {},
     "output_type": "execute_result"
    }
   ],
   "source": [
    "elix_widget.vis_class"
   ]
  },
  {
   "cell_type": "code",
   "execution_count": 13,
   "metadata": {},
   "outputs": [
    {
     "data": {
      "text/plain": [
       "array(['LAE Galaxy', 'LAE Galaxy', 'LAE Galaxy', ..., '0', '0', '0'],\n",
       "      dtype='|S15')"
      ]
     },
     "execution_count": 13,
     "metadata": {},
     "output_type": "execute_result"
    }
   ],
   "source": [
    "elix_widget.vis_type"
   ]
  },
  {
   "cell_type": "code",
   "execution_count": 14,
   "metadata": {},
   "outputs": [
    {
     "data": {
      "text/plain": [
       "array(['0', 'test', '0', ..., '0', '0', '0'], dtype='|S30')"
      ]
     },
     "execution_count": 14,
     "metadata": {},
     "output_type": "execute_result"
    }
   ],
   "source": [
    "elix_widget.comment"
   ]
  },
  {
   "cell_type": "markdown",
   "metadata": {},
   "source": [
    "When you press the `Save Progress` button, the output is ingested into an astropy Table object and then saved to a txt file. The file name will be the savedfile name if provided to the widget upon intialization. Or you can provide the file name as outfile='filename.dat' as an argument upon initialization. By default, it will save the table to `elixer_classifications.dat`"
   ]
  },
  {
   "cell_type": "code",
   "execution_count": 15,
   "metadata": {},
   "outputs": [
    {
     "data": {
      "text/html": [
       "&lt;Table length=2955&gt;\n",
       "<table id=\"table47248471109840\" class=\"table-striped table-bordered table-condensed\">\n",
       "<thead><tr><th>detectid</th><th>vis_type</th><th>vis_class</th><th>comments</th></tr></thead>\n",
       "<thead><tr><th>int64</th><th>str15</th><th>int64</th><th>str30</th></tr></thead>\n",
       "<tr><td>1000088710</td><td>LAE Galaxy</td><td>2</td><td>0</td></tr>\n",
       "<tr><td>1000088724</td><td>LAE Galaxy</td><td>2</td><td>test</td></tr>\n",
       "<tr><td>1000088808</td><td>LAE Galaxy</td><td>2</td><td>0</td></tr>\n",
       "<tr><td>1000089022</td><td>LAE Galaxy</td><td>2</td><td>0</td></tr>\n",
       "<tr><td>1000089039</td><td>LAE Galaxy</td><td>2</td><td>0</td></tr>\n",
       "<tr><td>1000089053</td><td>LAE Galaxy</td><td>2</td><td>0</td></tr>\n",
       "<tr><td>1000089322</td><td>OII Galaxy</td><td>1</td><td>0</td></tr>\n",
       "<tr><td>1000090123</td><td>LAE Galaxy</td><td>2</td><td>0</td></tr>\n",
       "<tr><td>1000092169</td><td>LAE Galaxy</td><td>2</td><td>0</td></tr>\n",
       "<tr><td>1000092175</td><td>LAE Galaxy</td><td>2</td><td>0</td></tr>\n",
       "<tr><td>...</td><td>...</td><td>...</td><td>...</td></tr>\n",
       "<tr><td>1000682513</td><td>0</td><td>-1</td><td>0</td></tr>\n",
       "<tr><td>1000682518</td><td>0</td><td>-1</td><td>0</td></tr>\n",
       "<tr><td>1000682657</td><td>0</td><td>-1</td><td>0</td></tr>\n",
       "<tr><td>1000682741</td><td>0</td><td>-1</td><td>0</td></tr>\n",
       "<tr><td>1000683040</td><td>0</td><td>-1</td><td>0</td></tr>\n",
       "<tr><td>1000683957</td><td>0</td><td>-1</td><td>0</td></tr>\n",
       "<tr><td>1000688926</td><td>0</td><td>-1</td><td>0</td></tr>\n",
       "<tr><td>1000689024</td><td>0</td><td>-1</td><td>0</td></tr>\n",
       "<tr><td>1000689101</td><td>0</td><td>-1</td><td>0</td></tr>\n",
       "<tr><td>1000689627</td><td>0</td><td>-1</td><td>0</td></tr>\n",
       "</table>"
      ],
      "text/plain": [
       "<Table length=2955>\n",
       " detectid   vis_type  vis_class comments\n",
       "  int64      str15      int64    str30  \n",
       "---------- ---------- --------- --------\n",
       "1000088710 LAE Galaxy         2        0\n",
       "1000088724 LAE Galaxy         2     test\n",
       "1000088808 LAE Galaxy         2        0\n",
       "1000089022 LAE Galaxy         2        0\n",
       "1000089039 LAE Galaxy         2        0\n",
       "1000089053 LAE Galaxy         2        0\n",
       "1000089322 OII Galaxy         1        0\n",
       "1000090123 LAE Galaxy         2        0\n",
       "1000092169 LAE Galaxy         2        0\n",
       "1000092175 LAE Galaxy         2        0\n",
       "       ...        ...       ...      ...\n",
       "1000682513          0        -1        0\n",
       "1000682518          0        -1        0\n",
       "1000682657          0        -1        0\n",
       "1000682741          0        -1        0\n",
       "1000683040          0        -1        0\n",
       "1000683957          0        -1        0\n",
       "1000688926          0        -1        0\n",
       "1000689024          0        -1        0\n",
       "1000689101          0        -1        0\n",
       "1000689627          0        -1        0"
      ]
     },
     "execution_count": 15,
     "metadata": {},
     "output_type": "execute_result"
    }
   ],
   "source": [
    "elix_widget.output"
   ]
  },
  {
   "cell_type": "code",
   "execution_count": null,
   "metadata": {},
   "outputs": [],
   "source": []
  }
 ],
 "metadata": {
  "kernelspec": {
   "display_name": "Python 2",
   "language": "python",
   "name": "python2"
  },
  "language_info": {
   "codemirror_mode": {
    "name": "ipython",
    "version": 2
   },
   "file_extension": ".py",
   "mimetype": "text/x-python",
   "name": "python",
   "nbconvert_exporter": "python",
   "pygments_lexer": "ipython2",
   "version": "2.7.15"
  }
 },
 "nbformat": 4,
 "nbformat_minor": 2
}
