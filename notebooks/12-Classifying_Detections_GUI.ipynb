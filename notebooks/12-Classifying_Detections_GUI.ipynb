{
 "cells": [
  {
   "cell_type": "markdown",
   "metadata": {},
   "source": [
    "## 12 - Classifying Detections using ipywidgets"
   ]
  },
  {
   "cell_type": "markdown",
   "metadata": {},
   "source": [
    "In order to streamline classifications we have developed a GUI using the ipywidgets package to quickly scan through ELixer report summaries. To begin, we highly recommend you read the Elixer_readme.pdf located in \n",
    "\n",
    "/work/03946/hetdex/hdr1/software/elixer/docs\n",
    "\n",
    "ELiXer reports contain as much information as we could possibly gather to help visually classify HETDEX line emitting galaxies. By combining visual inpsection of photometric images, cross matches to photometric catalogs along with HETDEX spectra and images of line detections we can make our best estimate on the type of source causing the emission.\n",
    "\n",
    "Because of the jupyter notebook format, this GUI/widget is forgiving. You can overwrite classifications that you aren't happy with and inspect your information along the way if you like. We will show you how in this notebook.\n",
    "\n",
    "We suggest you click the save progress button every 10 classifications or so just in case you accidentally close a window or your notebook runs out. This will save your classifications as a 'pickle' that can easily be reloaded for future use.\n"
   ]
  },
  {
   "cell_type": "markdown",
   "metadata": {},
   "source": [
    "### Launch the widget"
   ]
  },
  {
   "cell_type": "markdown",
   "metadata": {},
   "source": [
    "When you launch the widget you are generating a dictionary to store your visual classifications in then launching the widget/GUI that will aid you in making and store classifications. It loads in a pre-defined detection list stored as a pickle file. We showed how to create this file in Notebook 11. If no file is give, the script defaults to the list created by the Detections class (so this causes a 30 s delay in loading). This allows us to remove bad detections and bright stars prior to analysis. It is easy to adapt to just look at subsets of objects if interested."
   ]
  },
  {
   "cell_type": "markdown",
   "metadata": {},
   "source": [
    "First run this to prevent scrolling in individual cells"
   ]
  },
  {
   "cell_type": "code",
   "execution_count": 1,
   "metadata": {},
   "outputs": [
    {
     "data": {
      "application/javascript": [
       "IPython.OutputArea.prototype._should_scroll = function(lines) {\n",
       "    return false;\n",
       "}"
      ],
      "text/plain": [
       "<IPython.core.display.Javascript object>"
      ]
     },
     "metadata": {},
     "output_type": "display_data"
    }
   ],
   "source": [
    "%%javascript\n",
    "IPython.OutputArea.prototype._should_scroll = function(lines) {\n",
    "    return false;\n",
    "}"
   ]
  },
  {
   "cell_type": "code",
   "execution_count": 2,
   "metadata": {},
   "outputs": [
    {
     "data": {
      "application/vnd.jupyter.widget-view+json": {
       "model_id": "b1a28499df1d4ff895c45742f23a652a",
       "version_major": 2,
       "version_minor": 0
      },
      "text/plain": [
       "aW50ZXJhY3RpdmUoY2hpbGRyZW49KEJvdW5kZWRJbnRUZXh0KHZhbHVlPTEwMDAwMDAwMDAsIGRlc2NyaXB0aW9uPXUnRGV0ZWN0SUQ6JywgbWF4PTEwMDA2ODkyNzUsIG1pbj0xMDAwMDAwMDDigKY=\n"
      ]
     },
     "metadata": {},
     "output_type": "display_data"
    }
   ],
   "source": [
    "%run /work/05350/ecooper/stampede2/HETDEX_API/hetdex_api/elixer_widgets.py 'cosmos_detects.pickle'"
   ]
  },
  {
   "cell_type": "markdown",
   "metadata": {},
   "source": [
    "## Where the classifications are temporarily stored"
   ]
  },
  {
   "cell_type": "markdown",
   "metadata": {},
   "source": [
    "`class_info` is a global class object that contains a table of detectid, vis_class and comment values output from the above GUI"
   ]
  },
  {
   "cell_type": "code",
   "execution_count": 58,
   "metadata": {},
   "outputs": [
    {
     "data": {
      "text/plain": [
       "array([1000000000, 1000000001, 1000000003, ..., 1000689272, 1000689273,\n",
       "       1000689274])"
      ]
     },
     "execution_count": 58,
     "metadata": {},
     "output_type": "execute_result"
    }
   ],
   "source": [
    "class_info.detectid"
   ]
  },
  {
   "cell_type": "code",
   "execution_count": 59,
   "metadata": {},
   "outputs": [
    {
     "data": {
      "text/plain": [
       "chararray(['OII Galaxy', 'LAE Galaxy', 'OII Galaxy', ...,\n",
       "           ';\\\\x00\\\\x00\\\\x00\\\\x', '00\\\\xa8\\\\xd5\\\\xa4;',\n",
       "           '\\\\x00\\\\x00\\\\x00\\\\x0'], dtype='|S15')"
      ]
     },
     "execution_count": 59,
     "metadata": {},
     "output_type": "execute_result"
    }
   ],
   "source": [
    "class_info.vis_class"
   ]
  },
  {
   "cell_type": "code",
   "execution_count": 60,
   "metadata": {},
   "outputs": [
    {
     "data": {
      "text/plain": [
       "chararray(['', '', '', '',\n",
       "           '\\x00\\x00\\x00\\x003\\xca\\x9a;\\x00\\x00\\x00\\x004\\xca\\x9a;\\x00\\x00\\x00\\x006\\xca\\x9a;\\x00\\x00\\x00\\x007\\xca\\x9a;\\x00\\x00\\x00\\x008\\xca\\x9a;\\x00\\x00\\x00\\x009\\xca\\x9a;\\x00\\x00\\x00\\x00;\\xca\\x9a;',\n",
       "           '=\\xca\\x9a;\\x00\\x00\\x00\\x00?\\xca\\x9a;\\x00\\x00\\x00\\x00C\\xca\\x9a;\\x00\\x00\\x00\\x00E\\xca\\x9a;\\x00\\x00\\x00\\x00H\\xca\\x9a;\\x00\\x00\\x00\\x00I\\xca\\x9a;\\x00\\x00\\x00\\x00K\\xca\\x9a;\\x00\\x00\\x00\\x00M\\xca\\x9a;',\n",
       "           '\\x00\\x00\\x00\\x00Q\\xca\\x9a;\\x00\\x00\\x00\\x00U\\xca\\x9a;\\x00\\x00\\x00\\x00V\\xca\\x9a;\\x00\\x00\\x00\\x00[\\xca\\x9a;\\x00\\x00\\x00\\x00^\\xca\\x9a;\\x00\\x00\\x00\\x00a\\xca\\x9a;\\x00\\x00\\x00\\x00b\\xca\\x9a;',\n",
       "           'd\\xca\\x9a;\\x00\\x00\\x00\\x00e\\xca\\x9a;\\x00\\x00\\x00\\x00g\\xca\\x9a;\\x00\\x00\\x00\\x00h\\xca\\x9a;\\x00\\x00\\x00\\x00i\\xca\\x9a;\\x00\\x00\\x00\\x00k\\xca\\x9a;\\x00\\x00\\x00\\x00l\\xca\\x9a;\\x00\\x00\\x00\\x00q\\xca\\x9a;',\n",
       "           '\\x00\\x00\\x00\\x00s\\xca\\x9a;\\x00\\x00\\x00\\x00u\\xca\\x9a;\\x00\\x00\\x00\\x00v\\xca\\x9a;\\x00\\x00\\x00\\x00w\\xca\\x9a;\\x00\\x00\\x00\\x00x\\xca\\x9a;\\x00\\x00\\x00\\x00y\\xca\\x9a;\\x00\\x00\\x00\\x00z\\xca\\x9a;',\n",
       "           '{\\xca\\x9a;\\x00\\x00\\x00\\x00|\\xca\\x9a;\\x00\\x00\\x00\\x00}\\xca\\x9a;\\x00\\x00\\x00\\x00\\x80\\xca\\x9a;\\x00\\x00\\x00\\x00\\x81\\xca\\x9a;\\x00\\x00\\x00\\x00\\x85\\xca\\x9a;\\x00\\x00\\x00\\x00\\x86\\xca\\x9a;\\x00\\x00\\x00\\x00\\x89\\xca\\x9a;'],\n",
       "          dtype='|S60')"
      ]
     },
     "execution_count": 60,
     "metadata": {},
     "output_type": "execute_result"
    }
   ],
   "source": [
    "class_info.comment[0:10]"
   ]
  },
  {
   "cell_type": "markdown",
   "metadata": {},
   "source": [
    "## How to save the classifications"
   ]
  },
  {
   "cell_type": "code",
   "execution_count": null,
   "metadata": {},
   "outputs": [],
   "source": []
  },
  {
   "cell_type": "code",
   "execution_count": null,
   "metadata": {},
   "outputs": [],
   "source": []
  }
 ],
 "metadata": {
  "kernelspec": {
   "display_name": "Python 2",
   "language": "python",
   "name": "python2"
  },
  "language_info": {
   "codemirror_mode": {
    "name": "ipython",
    "version": 2
   },
   "file_extension": ".py",
   "mimetype": "text/x-python",
   "name": "python",
   "nbconvert_exporter": "python",
   "pygments_lexer": "ipython2",
   "version": "2.7.15"
  }
 },
 "nbformat": 4,
 "nbformat_minor": 2
}
