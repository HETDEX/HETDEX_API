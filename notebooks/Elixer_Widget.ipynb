{
 "cells": [
  {
   "cell_type": "markdown",
   "metadata": {},
   "source": [
    "## Elixer Widget"
   ]
  },
  {
   "cell_type": "markdown",
   "metadata": {},
   "source": [
    "In order to streamline classifications we have developed a GUI using the ipywidgets package to quickly scan through ELixer report summaries and store source classifications. If you do not have previous experience classifying with these reports, we highly recommend you read the Elixer_readme.pdf located in \n",
    "```\n",
    "https://github.com/HETDEX/elixer/blob/hdr2/docs/Elixer_readme.pdf\n",
    "```\n",
    "ELiXer reports allow us to visually classify HETDEX line emitting galaxies by combining HETDEX fiber spectra and 2D CCD images of line detections with ancillary photometric images and catalogs. You only need to know the detectid of a source to look up the ELiXer report.\n",
    "\n",
    "You can either use the widget to explore a subset of sources from the detections database\n",
    "The GUI will take either a detectlist in the form of a numpy array, a saved detectlist (saved previously using np.savetxt), or a saved classification table file. You can only classify objects within this input list. You may also specify the name of the output file for the classification table."
   ]
  },
  {
   "cell_type": "markdown",
   "metadata": {},
   "source": [
    "### Launch the widget"
   ]
  },
  {
   "cell_type": "markdown",
   "metadata": {},
   "source": [
    "The widget is launched by calling the class `ElixerWidget()` from `hetdex_api.elixer_widget_cls`. When you launch the widget you are generating a dictionary to store your visual classifications as well as initializing the widget. It either loads in a pre-defined detection list or if no argument is given it loads a list of all HDR2 detections."
   ]
  },
  {
   "cell_type": "markdown",
   "metadata": {},
   "source": [
    "First run this to prevent scrolling in individual cells in the jupyter notebook"
   ]
  },
  {
   "cell_type": "code",
   "execution_count": 1,
   "metadata": {},
   "outputs": [
    {
     "data": {
      "application/javascript": [
       "IPython.OutputArea.prototype._should_scroll = function(lines) {\n",
       "    return false;\n",
       "}\n"
      ],
      "text/plain": [
       "<IPython.core.display.Javascript object>"
      ]
     },
     "metadata": {},
     "output_type": "display_data"
    }
   ],
   "source": [
    "%%javascript\n",
    "IPython.OutputArea.prototype._should_scroll = function(lines) {\n",
    "    return false;\n",
    "}"
   ]
  },
  {
   "cell_type": "code",
   "execution_count": 2,
   "metadata": {},
   "outputs": [],
   "source": [
    "import numpy as np"
   ]
  },
  {
   "cell_type": "code",
   "execution_count": 3,
   "metadata": {},
   "outputs": [],
   "source": [
    "from hetdex_api.elixer_widget_cls import ElixerWidget\n",
    "from hetdex_api.detections import Detections"
   ]
  },
  {
   "cell_type": "markdown",
   "metadata": {},
   "source": [
    "### Get Elixers for a detections database query"
   ]
  },
  {
   "cell_type": "markdown",
   "metadata": {},
   "source": [
    "`Detections()` initiates the detections class and stores each array from the HDF5 detections table as array attributes that can easily be indexed through numpy. It also populates attribute arrays with ELiXeR OII to LAE probabilities (note these are preliminary) as well as measuring an approximate gband magnitude from the 1D HETDEX spectra. If you call it with the `refine()` method option you will automatically have all bad detections removed from the database (for example, newly discovered bad amps, bad detectids due software issues or HDR2 shots that we have now decided should not be used for scientific analysis for various reasons.) You may also optionally add a refine(gmagcut=XX) option to remove all sources brighter than that value."
   ]
  },
  {
   "cell_type": "code",
   "execution_count": 4,
   "metadata": {},
   "outputs": [],
   "source": [
    "detects = Detections('hdr2').refine(gmagcut=23)"
   ]
  },
  {
   "cell_type": "markdown",
   "metadata": {},
   "source": [
    "For example here is a selection that would help us find a sample of nice bright LAEs, and of course some interloping OII emitters:"
   ]
  },
  {
   "cell_type": "code",
   "execution_count": 5,
   "metadata": {},
   "outputs": [
    {
     "data": {
      "text/plain": [
       "6592"
      ]
     },
     "execution_count": 5,
     "metadata": {},
     "output_type": "execute_result"
    }
   ],
   "source": [
    "sel = (detects.gmag > 23.5) * (detects.sn > 10) * (detects.date >= 20190101) \n",
    "np.sum(sel)"
   ]
  },
  {
   "cell_type": "markdown",
   "metadata": {},
   "source": [
    "Then insert the selected detectid list to the `detectlist` option in the ElixerWidget call. You can click up and down your list using the arrows. The neighbors button is a great new feature that will allow you to look into all nearby sources to the detection. If there is a catalog match, you can grab the spectrum quickly to help you decide which catalog match best matces the detection."
   ]
  },
  {
   "cell_type": "code",
   "execution_count": 7,
   "metadata": {},
   "outputs": [
    {
     "data": {
      "application/vnd.jupyter.widget-view+json": {
       "model_id": "6c668235ed9f4722a8df863c5abb510e",
       "version_major": 2,
       "version_minor": 0
      },
      "text/plain": [
       "interactive(children=(BoundedIntText(value=2000452673, description='DetectID:', max=9900000000, min=1000000000…"
      ]
     },
     "metadata": {},
     "output_type": "display_data"
    }
   ],
   "source": [
    "elix_widget = ElixerWidget(detectlist=detects.detectid[sel]) "
   ]
  },
  {
   "cell_type": "markdown",
   "metadata": {},
   "source": [
    "### Open up a file with a list of detectids"
   ]
  },
  {
   "cell_type": "markdown",
   "metadata": {},
   "source": [
    "To open the GUI to explore the previous detectid list:"
   ]
  },
  {
   "cell_type": "code",
   "execution_count": 7,
   "metadata": {},
   "outputs": [],
   "source": [
    "np.savetxt('detectLAEs.txt', detects.detectid[sel], fmt='%i')"
   ]
  },
  {
   "cell_type": "code",
   "execution_count": 8,
   "metadata": {},
   "outputs": [
    {
     "data": {
      "application/vnd.jupyter.widget-view+json": {
       "model_id": "a9f53ef921cd4278ab5c1da3620cc1a1",
       "version_major": 2,
       "version_minor": 0
      },
      "text/plain": [
       "interactive(children=(BoundedIntText(value=2000452673, description='DetectID:', max=9900000000, min=1000000000…"
      ]
     },
     "metadata": {},
     "output_type": "display_data"
    }
   ],
   "source": [
    "elix_widget = ElixerWidget(detectfile='detectLAEs.txt')"
   ]
  },
  {
   "cell_type": "markdown",
   "metadata": {},
   "source": [
    "Or if you have done some classifications previously and want to continue with the list (by default this list is saved as `elixer_classifications.dat`). If you use the resume=True flag, the detectID will start after the highest detectID classified previously. "
   ]
  },
  {
   "cell_type": "code",
   "execution_count": 32,
   "metadata": {},
   "outputs": [],
   "source": [
    "# elix_widget = ElixerWidget(savedfile='elixer_classifications.dat', resume=True)"
   ]
  },
  {
   "cell_type": "markdown",
   "metadata": {},
   "source": [
    "### Where the classifications are stored"
   ]
  },
  {
   "cell_type": "markdown",
   "metadata": {},
   "source": [
    "`elix_widget` is a class object that contains arrays of the input detectid, vis_class and comment values output from the above GUI. It can be saved and shared with the group using the `Save Progress` button above. It saves"
   ]
  },
  {
   "cell_type": "code",
   "execution_count": 38,
   "metadata": {},
   "outputs": [
    {
     "data": {
      "text/plain": [
       "array([2000452673, 2000452715, 2000452896, ..., 2001095016, 2001095017,\n",
       "       2001095018])"
      ]
     },
     "execution_count": 38,
     "metadata": {},
     "output_type": "execute_result"
    }
   ],
   "source": [
    "elix_widget.detectid"
   ]
  },
  {
   "cell_type": "code",
   "execution_count": 39,
   "metadata": {},
   "outputs": [
    {
     "data": {
      "text/plain": [
       "array([5, 5, 0, ..., 0, 0, 0])"
      ]
     },
     "execution_count": 39,
     "metadata": {},
     "output_type": "execute_result"
    }
   ],
   "source": [
    "elix_widget.vis_class"
   ]
  },
  {
   "cell_type": "markdown",
   "metadata": {},
   "source": [
    "The output is ingested into an astropy Table object under the attribute `output` and then saved to a txt file. The file name will be the savedfile name if provided to the widget upon intialization. Or you can provide the file name as outfile='filename.dat' as an argument upon initialization. By default, it will save the table to `elixer_cls.dat`"
   ]
  },
  {
   "cell_type": "code",
   "execution_count": 41,
   "metadata": {},
   "outputs": [
    {
     "data": {
      "text/html": [
       "<i>Table length=6592</i>\n",
       "<table id=\"table47534562711816\" class=\"table-striped table-bordered table-condensed\">\n",
       "<thead><tr><th>detectid</th><th>vis_class</th><th>flag</th><th>z</th><th>counterpart</th><th>comments</th></tr></thead>\n",
       "<thead><tr><th>int64</th><th>int64</th><th>int64</th><th>float64</th><th>int64</th><th>bytes80</th></tr></thead>\n",
       "<tr><td>2000452673</td><td>5</td><td>1</td><td>-1.0</td><td>-1</td><td>?</td></tr>\n",
       "<tr><td>2000452715</td><td>5</td><td>1</td><td>-1.0</td><td>-1</td><td>?</td></tr>\n",
       "<tr><td>2000452896</td><td>0</td><td>0</td><td>-1.0</td><td>-1</td><td>?</td></tr>\n",
       "<tr><td>2000452913</td><td>0</td><td>0</td><td>-1.0</td><td>-1</td><td>?</td></tr>\n",
       "<tr><td>2000453037</td><td>0</td><td>0</td><td>-1.0</td><td>-1</td><td>?</td></tr>\n",
       "<tr><td>2000453044</td><td>0</td><td>0</td><td>-1.0</td><td>-1</td><td>?</td></tr>\n",
       "<tr><td>2000453175</td><td>0</td><td>0</td><td>-1.0</td><td>-1</td><td>?</td></tr>\n",
       "<tr><td>2000453197</td><td>0</td><td>0</td><td>-1.0</td><td>-1</td><td>?</td></tr>\n",
       "<tr><td>2000453204</td><td>0</td><td>0</td><td>-1.0</td><td>-1</td><td>?</td></tr>\n",
       "<tr><td>2000453255</td><td>0</td><td>0</td><td>-1.0</td><td>-1</td><td>?</td></tr>\n",
       "<tr><td>...</td><td>...</td><td>...</td><td>...</td><td>...</td><td>...</td></tr>\n",
       "<tr><td>2001094986</td><td>0</td><td>0</td><td>-1.0</td><td>-1</td><td>?</td></tr>\n",
       "<tr><td>2001094994</td><td>0</td><td>0</td><td>-1.0</td><td>-1</td><td>?</td></tr>\n",
       "<tr><td>2001094995</td><td>0</td><td>0</td><td>-1.0</td><td>-1</td><td>?</td></tr>\n",
       "<tr><td>2001095003</td><td>0</td><td>0</td><td>-1.0</td><td>-1</td><td>?</td></tr>\n",
       "<tr><td>2001095004</td><td>0</td><td>0</td><td>-1.0</td><td>-1</td><td>?</td></tr>\n",
       "<tr><td>2001095007</td><td>0</td><td>0</td><td>-1.0</td><td>-1</td><td>?</td></tr>\n",
       "<tr><td>2001095015</td><td>0</td><td>0</td><td>-1.0</td><td>-1</td><td>?</td></tr>\n",
       "<tr><td>2001095016</td><td>0</td><td>0</td><td>-1.0</td><td>-1</td><td>?</td></tr>\n",
       "<tr><td>2001095017</td><td>0</td><td>0</td><td>-1.0</td><td>-1</td><td>?</td></tr>\n",
       "<tr><td>2001095018</td><td>0</td><td>0</td><td>-1.0</td><td>-1</td><td>?</td></tr>\n",
       "</table>"
      ],
      "text/plain": [
       "<Table length=6592>\n",
       " detectid  vis_class  flag    z    counterpart comments\n",
       "  int64      int64   int64 float64    int64    bytes80 \n",
       "---------- --------- ----- ------- ----------- --------\n",
       "2000452673         5     1    -1.0          -1        ?\n",
       "2000452715         5     1    -1.0          -1        ?\n",
       "2000452896         0     0    -1.0          -1        ?\n",
       "2000452913         0     0    -1.0          -1        ?\n",
       "2000453037         0     0    -1.0          -1        ?\n",
       "2000453044         0     0    -1.0          -1        ?\n",
       "2000453175         0     0    -1.0          -1        ?\n",
       "2000453197         0     0    -1.0          -1        ?\n",
       "2000453204         0     0    -1.0          -1        ?\n",
       "2000453255         0     0    -1.0          -1        ?\n",
       "       ...       ...   ...     ...         ...      ...\n",
       "2001094986         0     0    -1.0          -1        ?\n",
       "2001094994         0     0    -1.0          -1        ?\n",
       "2001094995         0     0    -1.0          -1        ?\n",
       "2001095003         0     0    -1.0          -1        ?\n",
       "2001095004         0     0    -1.0          -1        ?\n",
       "2001095007         0     0    -1.0          -1        ?\n",
       "2001095015         0     0    -1.0          -1        ?\n",
       "2001095016         0     0    -1.0          -1        ?\n",
       "2001095017         0     0    -1.0          -1        ?\n",
       "2001095018         0     0    -1.0          -1        ?"
      ]
     },
     "execution_count": 41,
     "metadata": {},
     "output_type": "execute_result"
    }
   ],
   "source": [
    "elix_widget.output"
   ]
  },
  {
   "cell_type": "markdown",
   "metadata": {},
   "source": [
    "### Classifying a pre-defined list"
   ]
  },
  {
   "cell_type": "markdown",
   "metadata": {},
   "source": [
    "Most often, we will provide the team with a pre-made list to classify. Use the `savedfile` and `resume=True` options so that your classifiying list resumes where you last left off."
   ]
  },
  {
   "cell_type": "code",
   "execution_count": 44,
   "metadata": {},
   "outputs": [],
   "source": [
    "from hetdex_api.elixer_widget_cls import ElixerWidget\n",
    "from hetdex_api.detections import Detections"
   ]
  },
  {
   "cell_type": "code",
   "execution_count": 48,
   "metadata": {},
   "outputs": [
    {
     "data": {
      "application/vnd.jupyter.widget-view+json": {
       "model_id": "afffff094c664e369a9e9410311d6e74",
       "version_major": 2,
       "version_minor": 0
      },
      "text/plain": [
       "interactive(children=(BoundedIntText(value=2000452715, description='DetectID:', max=9900000000, min=1000000000…"
      ]
     },
     "metadata": {},
     "output_type": "display_data"
    }
   ],
   "source": [
    "elix_widget = ElixerWidget(savedfile='elixer_hdr2_testlist.dat', resume=True)"
   ]
  },
  {
   "cell_type": "code",
   "execution_count": null,
   "metadata": {},
   "outputs": [],
   "source": []
  }
 ],
 "metadata": {
  "kernelspec": {
   "display_name": "Python 3",
   "language": "python",
   "name": "python3"
  },
  "language_info": {
   "codemirror_mode": {
    "name": "ipython",
    "version": 3
   },
   "file_extension": ".py",
   "mimetype": "text/x-python",
   "name": "python",
   "nbconvert_exporter": "python",
   "pygments_lexer": "ipython3",
   "version": "3.7.0"
  }
 },
 "nbformat": 4,
 "nbformat_minor": 2
}
