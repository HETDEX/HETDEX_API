{
 "cells": [
  {
   "cell_type": "markdown",
   "metadata": {},
   "source": [
    "02 - Accessing the Shot HDF5 File\n",
    "======="
   ]
  },
  {
   "cell_type": "markdown",
   "metadata": {},
   "source": [
    "Each HETDEX observation or shot (organized by DATEvSHOT) consists of 3 dithered exposures. The shot HDF5 includes calibrated data products (flux-calibrated fiber spectra and associated positional information) and intermediary data products (2D processed images). It also contains shot specific astrometric and calibration information.  \n"
   ]
  },
  {
   "cell_type": "code",
   "execution_count": 1,
   "metadata": {},
   "outputs": [],
   "source": [
    "import sys\n",
    "import os\n",
    "import os.path\n",
    "import subprocess\n",
    "import numpy as np\n",
    "\n",
    "import tables as tb\n",
    "import matplotlib.pyplot as plt\n",
    "from matplotlib.colors import LogNorm\n",
    "from astropy.visualization import ZScaleInterval\n"
   ]
  },
  {
   "cell_type": "markdown",
   "metadata": {},
   "source": [
    "Lets begin by exploring the hierarchy of an example shot file."
   ]
  },
  {
   "cell_type": "code",
   "execution_count": 2,
   "metadata": {},
   "outputs": [],
   "source": [
    "fileh = tb.open_file('/Users/erin/Desktop/20180124v010.h5')"
   ]
  },
  {
   "cell_type": "code",
   "execution_count": 3,
   "metadata": {},
   "outputs": [
    {
     "data": {
      "text/plain": [
       "/Info/Shot.cols (Cols), 14 columns\n",
       "  ambtemp (Column(1,), float32)\n",
       "  date (Column(1,), |S8)\n",
       "  dec (Column(1,), float32)\n",
       "  dewpoint (Column(1,), float32)\n",
       "  expn (Column(1,), int32)\n",
       "  exptime (Column(1,), float32)\n",
       "  humidity (Column(1,), float32)\n",
       "  mjd (Column(1,), float32)\n",
       "  obsid (Column(1,), |S7)\n",
       "  obsind (Column(1,), int32)\n",
       "  pa (Column(1,), float32)\n",
       "  pressure (Column(1,), float32)\n",
       "  ra (Column(1,), float32)\n",
       "  time (Column(1,), |S7)"
      ]
     },
     "execution_count": 3,
     "metadata": {},
     "output_type": "execute_result"
    }
   ],
   "source": [
    "fileh.root.Info.Shot.cols"
   ]
  },
  {
   "cell_type": "code",
   "execution_count": 4,
   "metadata": {},
   "outputs": [
    {
     "data": {
      "text/plain": [
       "/Astrometry (Group) 'Astrometry Info'\n",
       "  children := ['CoaddImages' (Group), 'PositionOffsets' (Group), 'QA' (Table), 'fplane' (Table), 'Dithall' (Group), 'StarCatalog' (Table)]"
      ]
     },
     "execution_count": 4,
     "metadata": {},
     "output_type": "execute_result"
    }
   ],
   "source": [
    "fileh.root.Astrometry"
   ]
  },
  {
   "cell_type": "code",
   "execution_count": 5,
   "metadata": {},
   "outputs": [],
   "source": [
    "Images = fileh.root.Info.Images"
   ]
  },
  {
   "cell_type": "code",
   "execution_count": 6,
   "metadata": {},
   "outputs": [
    {
     "ename": "NameError",
     "evalue": "name 'zscale' is not defined",
     "output_type": "error",
     "traceback": [
      "\u001b[0;31m---------------------------------------------------------------------------\u001b[0m",
      "\u001b[0;31mNameError\u001b[0m                                 Traceback (most recent call last)",
      "\u001b[0;32m<ipython-input-6-904d0749d017>\u001b[0m in \u001b[0;36m<module>\u001b[0;34m()\u001b[0m\n\u001b[0;32m----> 1\u001b[0;31m \u001b[0mzscale\u001b[0m\u001b[0;34m\u001b[0m\u001b[0m\n\u001b[0m",
      "\u001b[0;31mNameError\u001b[0m: name 'zscale' is not defined"
     ]
    }
   ],
   "source": [
    "zscale"
   ]
  },
  {
   "cell_type": "markdown",
   "metadata": {},
   "source": [
    "As an example, I will search the file for a very bright known LAE that I know is in this shot. If you want to find out what shots an object is in use the XXXXquery_radecXXX (to be written) function.  \n",
    "\n",
    "DEEP406749 with ra=150.025513, dec=2.087767, wave=3710.77"
   ]
  },
  {
   "cell_type": "code",
   "execution_count": null,
   "metadata": {},
   "outputs": [],
   "source": [
    "ra_obj = 150.025513\n",
    "dec_obj = 2.087767\n",
    "wave_obj = 3710.77"
   ]
  },
  {
   "cell_type": "markdown",
   "metadata": {},
   "source": [
    "The fibers table can be linked to a variable (but is not yet pulled into memory)"
   ]
  },
  {
   "cell_type": "code",
   "execution_count": null,
   "metadata": {},
   "outputs": [],
   "source": [
    "fibers = fileh.root.Info.Fibers"
   ]
  },
  {
   "cell_type": "markdown",
   "metadata": {},
   "source": [
    "Use the read_where tables function to access all fibers in the fibers table that are in a 3\" aperture of the objects position."
   ]
  },
  {
   "cell_type": "code",
   "execution_count": null,
   "metadata": {},
   "outputs": [],
   "source": [
    "subtable = fibers.read_where(\"sqrt(((ra - ra_obj)**2 + (dec - dec_obj)**2)) < 3./3600.\")"
   ]
  },
  {
   "cell_type": "code",
   "execution_count": null,
   "metadata": {
    "scrolled": false
   },
   "outputs": [],
   "source": [
    "nfibers = np.size(subtable)\n",
    "nfibers"
   ]
  },
  {
   "cell_type": "markdown",
   "metadata": {},
   "source": [
    "`nfibers` fall within a 3\" radius of the detection, let's grab all fibers and plot them together:"
   ]
  },
  {
   "cell_type": "code",
   "execution_count": null,
   "metadata": {},
   "outputs": [],
   "source": [
    "def plot_spectrum(self, xlim=None, ylim=None):\n",
    "    plt.plot(self['wavelength'], self['sky_subtracted'])\n",
    "    if xlim is not None:\n",
    "        plt.xlim(xlim)\n",
    "        if ylim is not None:\n",
    "            plt.ylim(ylim)"
   ]
  },
  {
   "cell_type": "code",
   "execution_count": null,
   "metadata": {},
   "outputs": [],
   "source": [
    "plt.figure(figsize=(8, 6))\n",
    "ymax = 1.2*np.max(subtable['sky_subtracted'])\n",
    "ymin = np.min(subtable['sky_subtracted'])\n",
    "for i in np.arange(nfibers):\n",
    "    plot_spectrum(subtable[i], xlim=[wave_obj-15,wave_obj+15], ylim=[ymin,ymax])"
   ]
  },
  {
   "cell_type": "markdown",
   "metadata": {},
   "source": [
    "Access the image at the brightest fiber above. An easy way to approximate the line flux is to sum up along a wavelength interval."
   ]
  },
  {
   "cell_type": "code",
   "execution_count": null,
   "metadata": {},
   "outputs": [],
   "source": [
    "sumspec = list()\n",
    "for i in np.arange(nfibers):    \n",
    "    iwave = np.where((subtable[i]['wavelength']> wave_obj-10) & (subtable[i]['wavelength']> wave_obj+10))\n",
    "    sumspec.append( np.sum(subtable[i]['sky_subtracted']))"
   ]
  },
  {
   "cell_type": "markdown",
   "metadata": {},
   "source": [
    "Find the brightest fiber and get associated fiber information. This will allow us to find the location of the data in the 2D frame."
   ]
  },
  {
   "cell_type": "code",
   "execution_count": null,
   "metadata": {},
   "outputs": [],
   "source": [
    "i = np.argmax(sumspec)\n",
    "specid_obj = subtable[i]['specid']\n",
    "amp_obj = subtable[i]['amp']\n",
    "fibnum_obj = subtable[i]['fibnum']\n",
    "expnum_obj = subtable[i]['expnum']\n",
    "fpx_obj = int(subtable[i]['fpx'])\n",
    "fpy_obj = int(subtable[i]['fpy'])"
   ]
  },
  {
   "cell_type": "code",
   "execution_count": null,
   "metadata": {},
   "outputs": [],
   "source": [
    "im0 = Images.read_where(\"(specid == specid_obj) & (amp == amp_obj) & (expnum == expnum_obj)\")"
   ]
  },
  {
   "cell_type": "code",
   "execution_count": null,
   "metadata": {},
   "outputs": [],
   "source": [
    "implot = im0['clean_image'][0][fpx_obj-10:fpx_obj+10,fpy_obj-10:fpy_obj+10]"
   ]
  },
  {
   "cell_type": "code",
   "execution_count": null,
   "metadata": {},
   "outputs": [],
   "source": [
    "zscale = ZScaleInterval(contrast=contrast2,krej=2.5) \n",
    "vmin, vmax = zscale.get_limits(values=implot)\n",
    "plt.imshow(implot,vmin=vmin, vmax=vmax)"
   ]
  },
  {
   "cell_type": "code",
   "execution_count": null,
   "metadata": {},
   "outputs": [],
   "source": []
  }
 ],
 "metadata": {
  "kernelspec": {
   "display_name": "Python 2",
   "language": "python",
   "name": "python2"
  },
  "language_info": {
   "codemirror_mode": {
    "name": "ipython",
    "version": 2
   },
   "file_extension": ".py",
   "mimetype": "text/x-python",
   "name": "python",
   "nbconvert_exporter": "python",
   "pygments_lexer": "ipython2",
   "version": "2.7.15"
  }
 },
 "nbformat": 4,
 "nbformat_minor": 2
}
