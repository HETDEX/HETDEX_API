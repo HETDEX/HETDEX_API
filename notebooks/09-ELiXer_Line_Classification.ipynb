{
 "cells": [
  {
   "cell_type": "markdown",
   "metadata": {},
   "source": [
    "# Example - using ELiXer classify API to calculate P(LAE)/P(OII\n",
    "\n",
    "\n",
    "This API is fairly limited in this version. You are responsible for determining on your own the key parameters. A future version of ELiXer will provide additional APIs to facilitate this.\n",
    "\n",
    "In short, however, you might typically take the wave, flux, and flux_err from the HETDEX detection data. The equivalent width could then been calcuated from the HETDEX continuum estimate or from the aperture or catalog match magnitude as in the catalogs.ipynb examples.\n"
   ]
  },
  {
   "cell_type": "markdown",
   "metadata": {},
   "source": [
    "# if you are referencing the HDR1 directory or copied elixer locally, execute this cell (with the correct path to elixer)"
   ]
  },
  {
   "cell_type": "code",
   "execution_count": 1,
   "metadata": {},
   "outputs": [
    {
     "name": "stderr",
     "output_type": "stream",
     "text": [
      "/home/dustin/anaconda3/lib/python3.6/site-packages/h5py/__init__.py:36: FutureWarning: Conversion of the second argument of issubdtype from `float` to `np.floating` is deprecated. In future, it will be treated as `np.float64 == np.dtype(float).type`.\n",
      "  from ._conv import register_converters as _register_converters\n"
     ]
    }
   ],
   "source": [
    "# if you are referencing the HDR1 directory or copied elixer locally, execute this cell (with the correct path to elixer)\n",
    "import sys\n",
    "#sys.path.append('/work/03946/hetdex/hdr1/software/elixer')\n",
    "sys.path.append('/home/dustin/code/python/hetdex_api')\n",
    "sys.path.append('/home/dustin/code/python/elixer')\n",
    "import classify\n",
    "import catalogs"
   ]
  },
  {
   "cell_type": "markdown",
   "metadata": {},
   "source": [
    "# if you installed elixer with pip, execute this cell instead. If you are using Python3.x you will likely receive a series of deprecation warnings. For now, this is okay."
   ]
  },
  {
   "cell_type": "code",
   "execution_count": null,
   "metadata": {},
   "outputs": [],
   "source": [
    "# if you installed elixer with pip, execute this cell\n",
    "from elixer import catalogs\n",
    "from elixer import classify"
   ]
  },
  {
   "cell_type": "markdown",
   "metadata": {},
   "source": [
    "# Request package help information"
   ]
  },
  {
   "cell_type": "code",
   "execution_count": 25,
   "metadata": {},
   "outputs": [
    {
     "name": "stdout",
     "output_type": "stream",
     "text": [
      "Help on module classify:\n",
      "\n",
      "NAME\n",
      "    classify - #API Wrapper for classification (mostly P(LAE)/P(OII))\n",
      "\n",
      "FUNCTIONS\n",
      "    plae_poii(line_wave, line_flux, line_flux_err, eqw_obs, eqw_obs_err, addl_wave=[], addl_flux=[], addl_flux_err=[], estimate_error=False)\n",
      "        Returns the Bayesian P(LAE)/P(OII) from EW distributions of LAEs and OII galaxies from\n",
      "        Leung+ 2017\n",
      "        \n",
      "        Maximum P(LAE)/P(OII) is capped at 999. There is no minimum value but 0.0 represents an\n",
      "        error or inability to calcluate the ratio.\n",
      "        \n",
      "        Uses ELiXer standard options and cosmology\n",
      "        \n",
      "        :param line_wave:  observed wavelength of the emission line in angstroms\n",
      "        :param line_flux:  observed line flux (cgs)\n",
      "        :param line_flux_err: observed line flux error (cgs)\n",
      "        :param eqw_obs: observed equivalent width\n",
      "        :param eqw_obs_err: observed equivalent width error\n",
      "        :param addl_wave: array of additional emission line wavelengths in angstroms\n",
      "        :param addl_flux: array of additional emission line fluxes (cgs)\n",
      "        :param addl_flux_err: array of additional emission line flux errors (cgs)\n",
      "        :param estimate_error: optional boolean. If TRUE, an error estimate on the PLAE/POII ratio will be made\n",
      "                               and an extra return will be populated (plae_details)\n",
      "        :return: P(LAE)/P(OII), P(LAE|data), P(OII|data) a zero value is an unknown\n",
      "                 plae_details (optional) dictionary if estimate_error is True\n",
      "                    key:\"ratio\"  value: list of floats [PLAE/POII, Minimum PLAE/POII, Maximum PLAE/POII]\n",
      "                    key: \"plgd\"  value: list of floats [P(LAE|Data), Minimum P(LAE|Data), Maximum P(LAE|Data)]\n",
      "                    key: \"pogd\"  value: list of floats [P(OII|Data), Minimum P(OII|Data), Maximum P(OII|Data)]\n",
      "    \n",
      "    solution_finder(waves, flux, flux_err, line_wave=None)\n",
      "        Scan input spectrum and return dictonary containing extracted info and lists of lines and possible solutions\n",
      "        \n",
      "        :param waves: wavelength array in angstroms\n",
      "        :param flux: flux array (in cgs e-17 units). These are the default HETDEX spectra units\n",
      "                     (flux density x2AA bin)\n",
      "        :param flux_err: flux_err array (in cgs e-17 units)\n",
      "        :param line_wave: optional wavelength of indentified main emission line\n",
      "        :return: spectrum dictionary containing:\n",
      "                    'primary_wave': (float) the observed wavelength of the primary emission line\n",
      "                    'eqw_obs': (float,float) (observed equivalent width, error)\n",
      "                    'plae_poii': (float,(float,float)) (PLAE/POII, (mininum PLAE/POII, maximum PLAE/POII))\n",
      "                    'emission_lines': list of all posssible lines found as dictionaries\n",
      "                    'solutions': list of all solutions as dictionaries\n",
      "        \n",
      "                'emission_lines' dictionary contains:\n",
      "                    'wave': (float) observed wavelength,\n",
      "                    'continuum': (float) observed estimated continuum\n",
      "                    'fwhm': (float) observed fwhm\n",
      "                    'int_flux': (float) observed integrated line flux\n",
      "                    'snr': (float) S/N\n",
      "                    'line_score': (float) ELiXer line score\n",
      "                    'aborption': (bool) True if this is an absorption feature\n",
      "        \n",
      "                'solutions' dictionary contains:\n",
      "                    'wave_rest': (float) rest-frame wavelegth\n",
      "                    'name':(string) symbolic name,\n",
      "                    'z': (float) redshift,\n",
      "                    'score': (float) ELiXer solution score,\n",
      "                    'frac_score': (float) fractional score = this solution score / sum of all solution scores,\n",
      "                    'lines': list of lines included in the solution,\n",
      "                    'rejected_lines': list of found lines removed from the solution (too poor, too close to\n",
      "                                      another line)\n",
      "        \n",
      "                'lines' and 'rejected_lines' dictionaries contain:\n",
      "                     'wave_obs': (float) observed wavelength,\n",
      "                     'wave_rest': (float) rest wavelength,\n",
      "                     'name': (string) sybolic name,\n",
      "                     'z': (float) redshift,\n",
      "                     'line_score': (float) ELiXer line score,\n",
      "                     'snr': (float) S/N\n",
      "                     'int_flux':(float) observed integrated line flux\n",
      "                     'fwhm': (float) observed fwhm\n",
      "                     'aborption': (bool) True if this is an absorption feature\n",
      "\n",
      "DATA\n",
      "    log = <global_config.Global_Logger object>\n",
      "\n",
      "FILE\n",
      "    /home/dustin/code/python/elixer/classify.py\n",
      "\n",
      "\n"
     ]
    }
   ],
   "source": [
    "help(classify)\n",
    "\n",
    "\n",
    "#you can also request help on individual functions\n",
    "#help(classify.plae_poii)"
   ]
  },
  {
   "cell_type": "markdown",
   "metadata": {},
   "source": [
    "wave = 3711.0\n",
    "flux = 1.62e-15\n",
    "flux_err = 4.0e-17\n",
    "ew = 500.0\n",
    "ew_err = 60.0\n",
    "addl_wave = []\n",
    "addl_flux = []\n",
    "addl_flux_err = []\n",
    "classify.plae_poii(wave,flux,flux_err,ew,ew_err,None,None,None)"
   ]
  },
  {
   "cell_type": "markdown",
   "metadata": {},
   "source": [
    "# Example call\n",
    "\n",
    "In this case, this strongly favors LyA over OII (in point of fact, given the wavelength, OII is not possible)."
   ]
  },
  {
   "cell_type": "code",
   "execution_count": 21,
   "metadata": {},
   "outputs": [],
   "source": [
    "wave = 3711.0 \n",
    "flux = 1.7e-15 \n",
    "flux_err = 4.0e-17 \n",
    "ew = 600.0 \n",
    "ew_err = 0.0 \n",
    "\n",
    "ratio, plae,poii, details = classify.plae_poii(line_wave=wave, line_flux=flux, line_flux_err=flux_err, eqw_obs=ew, eqw_obs_err=ew_err,\n",
    "                   addl_wave=None, addl_flux=None, addl_flux_err=None, estimate_error=True)\n"
   ]
  },
  {
   "cell_type": "code",
   "execution_count": 22,
   "metadata": {},
   "outputs": [
    {
     "name": "stdout",
     "output_type": "stream",
     "text": [
      "1000.0 1.0 0.001\n"
     ]
    }
   ],
   "source": [
    "print(ratio, plae, poii)"
   ]
  },
  {
   "cell_type": "code",
   "execution_count": 23,
   "metadata": {},
   "outputs": [
    {
     "data": {
      "text/plain": [
       "{'ratio': [1000.0], 'plgd': [1.0], 'pogd': [0.001]}"
      ]
     },
     "execution_count": 23,
     "metadata": {},
     "output_type": "execute_result"
    }
   ],
   "source": [
    "details"
   ]
  },
  {
   "cell_type": "markdown",
   "metadata": {},
   "source": [
    "# Using mostly the same data, we place the line at a longer wavelength where OII is possible and reduce the equivalent width\n",
    "\n",
    "Now, this strongly suggests OII is far more likely than LyA"
   ]
  },
  {
   "cell_type": "code",
   "execution_count": 24,
   "metadata": {},
   "outputs": [
    {
     "data": {
      "text/plain": [
       "(0.001, 3.691332144931839e-05, <Quantity 0.99996309>)"
      ]
     },
     "execution_count": 24,
     "metadata": {},
     "output_type": "execute_result"
    }
   ],
   "source": [
    "wave = 4711.0 \n",
    "flux = 1.7e-15 \n",
    "flux_err = 4.0e-17 \n",
    "ew = 300.0 \n",
    "ew_err = 0.0 \n",
    "\n",
    "classify.plae_poii(wave,flux,flux_err,ew,ew_err,None,None,None)"
   ]
  },
  {
   "cell_type": "markdown",
   "metadata": {},
   "source": [
    "# Solutions\n",
    "Here we will collect a sample spectrum from HETDEX and run it through the ELiXer solution finder to detect emission lines and find possible redshift solution(s)"
   ]
  },
  {
   "cell_type": "code",
   "execution_count": 2,
   "metadata": {},
   "outputs": [],
   "source": [
    "import matplotlib.pyplot as plt\n",
    "%matplotlib inline\n",
    "from hetdex_api.detections import Detections\n",
    "detects = Detections('hdr1').refine()"
   ]
  },
  {
   "cell_type": "code",
   "execution_count": 3,
   "metadata": {},
   "outputs": [],
   "source": [
    "#using an exsting HETDEX detection to illustrate\n",
    "spec_table = detects.get_spectrum(1000028279)\n",
    "waves = spec_table[0][:]\n",
    "flux = spec_table[1][:]\n",
    "err = spec_table[2][:]\n",
    "central = 3907.12"
   ]
  },
  {
   "cell_type": "code",
   "execution_count": 19,
   "metadata": {},
   "outputs": [
    {
     "data": {
      "text/plain": [
       "{'primary_wave': 3907.12,\n",
       " 'eqw_obs': (151.95999285429502, 37.04766435099574),\n",
       " 'plae_poii': (1000.0, (1000.0, 1000.0)),\n",
       " 'emission_lines': [{'wave': 3907.171110710506,\n",
       "   'continuum': 2.464262013421455e-18,\n",
       "   'fwhm': 8.53239315684626,\n",
       "   'int_flux': 4.806734530932443e-16,\n",
       "   'snr': 29.352356710430747,\n",
       "   'line_score': 141.08898656427408,\n",
       "   'aborption': False},\n",
       "  {'wave': 4979.383818171707,\n",
       "   'continuum': 4.0821783505320824e-18,\n",
       "   'fwhm': 12.717051016799315,\n",
       "   'int_flux': 1.0518088447793584e-16,\n",
       "   'snr': 11.653003007869179,\n",
       "   'line_score': 12.256731631917269,\n",
       "   'aborption': False}],\n",
       " 'solutions': [{'wave_rest': 1216.0,\n",
       "   'name': 'Ly$\\\\alpha$',\n",
       "   'z': 2.213092105263158,\n",
       "   'score': 13.673090165862103,\n",
       "   'frac_score': 1.0,\n",
       "   'lines': [{'wave_obs': 4978.621955263157,\n",
       "     'wave_rest': 1549.48,\n",
       "     'name': 'CIV ',\n",
       "     'z': 2.213092105263158,\n",
       "     'line_score': 13.673090165862103,\n",
       "     'snr': 13.12019198169777,\n",
       "     'int_flux': 1.0421410132516054e-16,\n",
       "     'fwhm': 12.649655911214769,\n",
       "     'aborption': False}],\n",
       "   'rejected_lines': []}]}"
      ]
     },
     "execution_count": 19,
     "metadata": {},
     "output_type": "execute_result"
    }
   ],
   "source": [
    "sol = classify.solution_finder(waves,flux,err,central)\n",
    "\n",
    "sol"
   ]
  },
  {
   "cell_type": "code",
   "execution_count": 20,
   "metadata": {},
   "outputs": [
    {
     "data": {
      "image/png": "[encoded data removed]",
      "text/plain": [
       "<Figure size 648x288 with 1 Axes>"
      ]
     },
     "metadata": {
      "needs_background": "light"
     },
     "output_type": "display_data"
    },
    {
     "data": {
      "image/png": "[encoded data removed]",
      "text/plain": [
       "<Figure size 648x288 with 1 Axes>"
      ]
     },
     "metadata": {
      "needs_background": "light"
     },
     "output_type": "display_data"
    }
   ],
   "source": [
    "#plot the basic spectrum \n",
    "fig = plt.figure(figsize=(9,4))\n",
    "plt.plot(waves,flux)\n",
    "plt.title(\"Basic Spectrum, All Possible Lines\")\n",
    "\n",
    "#with all possible lines\n",
    "for line in sol['emission_lines']:\n",
    "    plt.axvline(line['wave'],color='k',alpha=0.7,linestyle=\":\")\n",
    "    \n",
    "\n",
    "#plot solutions (if any)\n",
    "if sol['solutions'] is not None:\n",
    "    plt.figure(figsize=(9,4))\n",
    "    plt.title(\"First Solution\")\n",
    "    plt.plot(waves,flux)\n",
    "    ymax = plt.gca().get_ylim()[1] #get the top \n",
    "    \n",
    "    #plot the label for the primary (anchor) line\n",
    "    plt.axvline(sol['primary_wave'],color='k',alpha=0.7,linestyle=\":\")\n",
    "    plt.annotate(xy=(sol['primary_wave'],0.95*ymax),s=sol['solutions'][0]['name'],color='r')\n",
    "    \n",
    "    #plot all other lines\n",
    "    for line in sol['solutions'][0]['lines']:\n",
    "        plt.axvline(line['wave_obs'],color='k',alpha=0.7,linestyle=\":\")\n",
    "        plt.annotate(xy=(line['wave_obs'],0.95*ymax),s=line['name'],color='r')\n"
   ]
  },
  {
   "cell_type": "code",
   "execution_count": 18,
   "metadata": {},
   "outputs": [
    {
     "name": "stdout",
     "output_type": "stream",
     "text": [
      "{'primary_wave': 3907.1711107503097, 'eqw_obs': (151.9095912839208, 37.04135839532582), 'plae_poii': (1000.0, (1000.0, 1000.0)), 'emission_lines': [{'wave': 3907.171110710506, 'continuum': 2.464262013421455e-18, 'fwhm': 8.53239315684626, 'int_flux': 4.806734530932443e-16, 'snr': 29.352356710430747, 'line_score': 141.08898656427408, 'aborption': False}, {'wave': 4979.383818171707, 'continuum': 4.0821783505320824e-18, 'fwhm': 12.717051016799315, 'int_flux': 1.0518088447793584e-16, 'snr': 11.653003007869179, 'line_score': 12.256731631917269, 'aborption': False}], 'solutions': [{'wave_rest': 1216.0, 'name': 'Ly$\\\\alpha$', 'z': 2.2131341371301887, 'score': 13.673090165862103, 'frac_score': 1.0, 'lines': [{'wave_obs': 4978.687082800485, 'wave_rest': 1549.48, 'name': 'CIV ', 'z': 2.2131341371301887, 'line_score': 13.673090165862103, 'snr': 13.12019198169777, 'int_flux': 1.0421410132516054e-16, 'fwhm': 12.649655911214769, 'aborption': False}], 'rejected_lines': []}]}\n"
     ]
    }
   ],
   "source": [
    "# the central wavelength (main line) does not have to be specified ... if it is not ELiXer will attempt to find\n",
    "# the lines and then use the line with the largest integrated flux as the primary line\n",
    "sol = classify.solution_finder(waves,flux,err)\n",
    "print(sol)"
   ]
  },
  {
   "cell_type": "code",
   "execution_count": null,
   "metadata": {},
   "outputs": [],
   "source": []
  }
 ],
 "metadata": {
  "kernelspec": {
   "display_name": "Python 3",
   "language": "python",
   "name": "python3"
  },
  "language_info": {
   "codemirror_mode": {
    "name": "ipython",
    "version": 3
   },
   "file_extension": ".py",
   "mimetype": "text/x-python",
   "name": "python",
   "nbconvert_exporter": "python",
   "pygments_lexer": "ipython3",
   "version": "3.6.9"
  }
 },
 "nbformat": 4,
 "nbformat_minor": 1
}
