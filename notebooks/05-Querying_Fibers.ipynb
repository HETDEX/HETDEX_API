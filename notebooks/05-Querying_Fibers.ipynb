{
 "cells": [
  {
   "cell_type": "markdown",
   "metadata": {},
   "source": [
    "# 05 - Data Search Example: Querying Fibers"
   ]
  },
  {
   "cell_type": "markdown",
   "metadata": {},
   "source": [
    "## Going from an user defined position to the fiber spectra"
   ]
  },
  {
   "cell_type": "markdown",
   "metadata": {},
   "source": [
    "To get all fibers within a defined aperture we must first find all shots that *may* contain fibers within that position. Because of the varying and non-contiguous footprint of VIRUS, the search for fibers is a two step process. In this notebook we will show we can go from in input location to all available fiber spectra."
   ]
  },
  {
   "cell_type": "code",
   "execution_count": 13,
   "metadata": {},
   "outputs": [],
   "source": [
    "%run ../survey.py\n",
    "import numpy\n",
    "import astropy.units as u\n",
    "from astropy.coordinates import SkyCoord"
   ]
  },
  {
   "cell_type": "markdown",
   "metadata": {},
   "source": [
    "Initiate the survey class:"
   ]
  },
  {
   "cell_type": "code",
   "execution_count": 14,
   "metadata": {},
   "outputs": [],
   "source": [
    "S = Survey('hdr1')"
   ]
  },
  {
   "cell_type": "markdown",
   "metadata": {},
   "source": [
    "Columns of the survey are now accessible as attributes to the Survey class"
   ]
  },
  {
   "cell_type": "code",
   "execution_count": 15,
   "metadata": {},
   "outputs": [
    {
     "data": {
      "text/plain": [
       "array([149.88757 , 150.48582 , 149.77142 , ...,        nan,  30.001972,\n",
       "        34.760807], dtype=float32)"
      ]
     },
     "execution_count": 15,
     "metadata": {},
     "output_type": "execute_result"
    }
   ],
   "source": [
    "S.ra"
   ]
  },
  {
   "cell_type": "code",
   "execution_count": 16,
   "metadata": {},
   "outputs": [
    {
     "data": {
      "text/plain": [
       "array([20170103002, 20170103003, 20170105008, ..., 20181231012,\n",
       "       20181231013, 20181231014])"
      ]
     },
     "execution_count": 16,
     "metadata": {},
     "output_type": "execute_result"
    }
   ],
   "source": [
    "S.shotid"
   ]
  },
  {
   "cell_type": "markdown",
   "metadata": {},
   "source": [
    "The function get_shotlist() retrieves all shotids within a defined circular aperture or rectangular region. It operates on the Survey class and requires an astropy coords object as input. If a radius is given, then a circular region is assumed. It can either be an astropy quantity object or otherwise assumed to be in degrees. A rectangular region can be extracted if no radius is given. Both a width and height must be defined in degrees. For example, let's look around the region of our favourite object from a previous tutorial."
   ]
  },
  {
   "cell_type": "code",
   "execution_count": 21,
   "metadata": {},
   "outputs": [],
   "source": [
    "coords = SkyCoord(150.025513 * u.deg, 2.087767 * u.deg, frame='icrs')   "
   ]
  },
  {
   "cell_type": "markdown",
   "metadata": {},
   "source": [
    "To find all shots located in a rectangle 0.5 degrees wide and 0.2 degrees high around the position:"
   ]
  },
  {
   "cell_type": "code",
   "execution_count": 39,
   "metadata": {},
   "outputs": [],
   "source": [
    "shotlist = S.get_shotlist(coords, width=0.5, height=0.2)"
   ]
  },
  {
   "cell_type": "markdown",
   "metadata": {},
   "source": [
    "or instead a circular aperture, note that both radius in degrees, arcmin, arcsec can work:"
   ]
  },
  {
   "cell_type": "code",
   "execution_count": 38,
   "metadata": {},
   "outputs": [
    {
     "data": {
      "text/plain": [
       "array([20170105009, 20170106001, 20170106003, 20170107012, 20171119008,\n",
       "       20171213017, 20171220015, 20171221016, 20171223010, 20171223014,\n",
       "       20171225015, 20180110021, 20180113013, 20180114013, 20180120008,\n",
       "       20180123009, 20180124010, 20180209009, 20180210006, 20180211014])"
      ]
     },
     "execution_count": 38,
     "metadata": {},
     "output_type": "execute_result"
    }
   ],
   "source": [
    "shotlist = S.get_shotlist(coords, radius=10*u.arcmin)\n",
    "shotlist"
   ]
  },
  {
   "cell_type": "markdown",
   "metadata": {},
   "source": [
    "This ones lies within the cosmos repeat field, so we have lots of fibers."
   ]
  },
  {
   "cell_type": "code",
   "execution_count": null,
   "metadata": {},
   "outputs": [],
   "source": []
  }
 ],
 "metadata": {
  "kernelspec": {
   "display_name": "Python 2",
   "language": "python",
   "name": "python2"
  },
  "language_info": {
   "codemirror_mode": {
    "name": "ipython",
    "version": 2
   },
   "file_extension": ".py",
   "mimetype": "text/x-python",
   "name": "python",
   "nbconvert_exporter": "python",
   "pygments_lexer": "ipython2",
   "version": "2.7.15"
  }
 },
 "nbformat": 4,
 "nbformat_minor": 2
}
