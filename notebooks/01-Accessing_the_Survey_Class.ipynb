{
 "cells": [
  {
   "cell_type": "markdown",
   "metadata": {},
   "source": [
    "# 01 - Accessing and querying the Survey Class and HDF5 file"
   ]
  },
  {
   "cell_type": "markdown",
   "metadata": {},
   "source": [
    "The survey HDF5 file is a master look up table for each observation made by VIRUS for HETDEX. It can be accessed directly through the HDF5 survey file, or through the Survey class API. The Survey class includes information for each three dither set HETDEX observation in HDR1. It includes both science and calibration shots. Any quantity related to an individual dither is provided in an array of length three. Fundamental properties of a shot and quality assessment values for seeing (fwhm), astrometry, flux limits and transparency (response_4540) are tabulated to allow for querying of desired shots. \n",
    "\n",
    "We first introduce the basic API to query the Survey Class by sky coordinates to get a list of shots where fibers are located within that region. Later on in this notebook we show some basic querying of the Survey class and demonstrate a few examples."
   ]
  },
  {
   "cell_type": "markdown",
   "metadata": {},
   "source": [
    "### Initiate the Survey class :"
   ]
  },
  {
   "cell_type": "code",
   "execution_count": 1,
   "metadata": {},
   "outputs": [],
   "source": [
    "%matplotlib inline\n",
    "import tables as tb\n",
    "import numpy as np\n",
    "import matplotlib.pyplot as plt\n",
    "\n",
    "from astropy.table import Table\n",
    "import astropy.units as u\n",
    "from astropy.coordinates import SkyCoord\n",
    "\n",
    "from hetdex_api.survey import Survey"
   ]
  },
  {
   "cell_type": "code",
   "execution_count": 2,
   "metadata": {},
   "outputs": [],
   "source": [
    "survey = Survey('hdr1')"
   ]
  },
  {
   "cell_type": "markdown",
   "metadata": {},
   "source": [
    "This calls the HDR1 survey class and sets each column in the survey table as an attribute to this object. This is how it looks through an astropy Table object:"
   ]
  },
  {
   "cell_type": "code",
   "execution_count": 3,
   "metadata": {},
   "outputs": [
    {
     "data": {
      "text/html": [
       "<i>Table length=1714</i>\n",
       "<table id=\"table47060395006776\" class=\"table-striped table-bordered table-condensed\">\n",
       "<thead><tr><th>field</th><th>date</th><th>obsid</th><th>objid</th><th>ra</th><th>dec</th><th>pa</th><th>response_4540</th><th>fwhm_flag</th><th>fwhm_gaussian</th><th>fwhm_moffat</th><th>moffat_beta</th><th>relflux_guider [3]</th><th>relflux_virus [3]</th><th>structaz</th><th>darktime [3]</th><th>datevobs</th><th>expnum [3]</th><th>exptime [3]</th><th>fluxlimit_4550</th><th>mjd [3]</th><th>n_ifu</th><th>nstars_fit [3]</th><th>ra_flag [3]</th><th>shotid</th><th>trajcdec</th><th>trajcpa</th><th>trajcra</th><th>xditherpos [3]</th><th>xoffset [3]</th><th>xrms [3]</th><th>yditherpos [3]</th><th>yoffset [3]</th><th>yrms [3]</th></tr></thead>\n",
       "<thead><tr><th>bytes12</th><th>int32</th><th>int32</th><th>bytes18</th><th>float64</th><th>float64</th><th>float64</th><th>float32</th><th>int32</th><th>float32</th><th>float32</th><th>float32</th><th>float32</th><th>float32</th><th>float32</th><th>float32</th><th>bytes12</th><th>int32</th><th>float32</th><th>float32</th><th>float32</th><th>int32</th><th>int32</th><th>bytes1</th><th>int64</th><th>float32</th><th>float32</th><th>float32</th><th>float32</th><th>float32</th><th>float32</th><th>float32</th><th>float32</th><th>float32</th></tr></thead>\n",
       "<tr><td>cosmos</td><td>20170103</td><td>2</td><td>COS10_W_000_W</td><td>149.88757</td><td>1.88533</td><td>212.3</td><td>0.0573</td><td>1</td><td>2.175</td><td>1.551</td><td>3.323</td><td>0.87 .. 1.134</td><td>0.78752005 .. 1.2505265</td><td>218.2631</td><td>395.0349 .. 395.08752</td><td>20170103v002</td><td>1 .. 3</td><td>365.29913 .. 364.9993</td><td>7.809551e-17</td><td>57756.465 .. 57756.473</td><td>11</td><td>7 .. 7</td><td>A .. A</td><td>20170103002</td><td>1.886055</td><td>212.19806</td><td>9.9924</td><td>0.0 .. 1.741</td><td>-2e-05 .. 0.0</td><td>0.22079 .. 0.24027</td><td>0.0 .. 1.741</td><td>-1e-05 .. -0.0</td><td>0.33429 .. 0.17898</td></tr>\n",
       "<tr><td>cosmos</td><td>20170103</td><td>3</td><td>COS64_W</td><td>150.48583</td><td>2.48316</td><td>213.83</td><td>0.0478</td><td>1</td><td>2.079</td><td>1.551</td><td>3.323</td><td>1.166 .. 0.863</td><td>1.0968496 .. 0.9534033</td><td>220.17468</td><td>394.85974 .. 395.2984</td><td>20170103v003</td><td>1 .. 3</td><td>364.89917 .. 365.1494</td><td>1.462189e-16</td><td>57756.484 .. 57756.492</td><td>11</td><td>4 .. 3</td><td>A .. A</td><td>20170103003</td><td>2.483722</td><td>213.73126</td><td>10.0323</td><td>0.0 .. 1.367</td><td>0.0 .. 1e-05</td><td>0.06435 .. 0.10983</td><td>0.0 .. 1.367</td><td>-0.0 .. 0.0</td><td>0.35298 .. 0.29886</td></tr>\n",
       "<tr><td>cosmos</td><td>20170105</td><td>8</td><td>COS57_E</td><td>149.77143</td><td>2.59229</td><td>146.1</td><td>0.0963</td><td>1</td><td>2.386</td><td>2.441</td><td>4.331</td><td>0.81 .. 1.183</td><td>0.80006725 .. 1.2237456</td><td>139.48857</td><td>392.88577 .. 395.38724</td><td>20170105v008</td><td>1 .. 3</td><td>362.6497 .. 365.34888</td><td>7.297885e-17</td><td>57758.336 .. 57758.348</td><td>12</td><td>4 .. 5</td><td>A .. A</td><td>20170105008</td><td>2.591758</td><td>146.0002</td><td>9.9848</td><td>0.0 .. 1.68</td><td>0.0 .. -0.0</td><td>0.0939 .. 0.41456</td><td>0.0 .. 1.68</td><td>-0.0 .. -0.0</td><td>0.20898 .. 0.03161</td></tr>\n",
       "<tr><td>cosmos</td><td>20170105</td><td>9</td><td>COS19_E_000_E</td><td>149.97287</td><td>2.09132</td><td>147.37</td><td>0.0773</td><td>1</td><td>2.821</td><td>2.849</td><td>9.9</td><td>1.201 .. 0.789</td><td>1.1308049 .. 0.82008106</td><td>141.07867</td><td>395.13513 .. 394.24307</td><td>20170105v009</td><td>1 .. 3</td><td>365.0495 .. 362.64868</td><td>8.515225e-17</td><td>57758.36 .. 57758.367</td><td>12</td><td>5 .. 4</td><td>A .. A</td><td>20170105009</td><td>2.090136</td><td>147.27345</td><td>9.9981</td><td>0.0 .. 2.996</td><td>2e-05 .. -0.0</td><td>0.40278 .. 0.12945</td><td>0.0 .. 2.996</td><td>3e-05 .. 0.00019</td><td>0.37773 .. 0.3977</td></tr>\n",
       "<tr><td>cosmos</td><td>20170105</td><td>10</td><td>COS1_W</td><td>149.78825</td><td>1.78598</td><td>212.03</td><td>0.1463</td><td>1</td><td>2.105</td><td>2.043</td><td>3.496</td><td>0.856 .. 1.109</td><td>0.7263603 .. 1.1104127</td><td>217.9347</td><td>395.5891 .. 394.662</td><td>20170105v010</td><td>1 .. 3</td><td>365.14957 .. 364.95065</td><td>4.92962e-17</td><td>57758.46 .. 57758.47</td><td>12</td><td>6 .. 7</td><td>A .. A</td><td>20170105010</td><td>1.786439</td><td>211.93375</td><td>9.9858</td><td>0.0 .. 2.1</td><td>-0.0 .. 0.0</td><td>0.47294 .. 0.65877</td><td>0.0 .. 2.1</td><td>-0.0 .. 0.0</td><td>0.39384 .. 0.50996</td></tr>\n",
       "<tr><td>cosmos</td><td>20170105</td><td>11</td><td>COS14_W</td><td>150.28782</td><td>1.88586</td><td>212.29</td><td>0.0617</td><td>1</td><td>2.336</td><td>2.64</td><td>9.9</td><td>1.208 .. 0.756</td><td>1.230452 .. 0.75036806</td><td>218.2599</td><td>395.08527 .. 395.28873</td><td>20170105v011</td><td>1 .. 3</td><td>365.2006 .. 365.0496</td><td>1.102249e-16</td><td>57758.48 .. 57758.49</td><td>12</td><td>5 .. 4</td><td>A .. A</td><td>20170105011</td><td>1.886055</td><td>212.19548</td><td>10.0191</td><td>0.0 .. 0.079</td><td>0.0 .. 0.0</td><td>0.26126 .. 0.14013</td><td>0.0 .. 0.079</td><td>-0.0 .. -0.0</td><td>0.54034 .. 0.35707</td></tr>\n",
       "<tr><td>cosmos</td><td>20170106</td><td>1</td><td>COS18_E</td><td>149.8724</td><td>2.09077</td><td>147.38</td><td>0.0991</td><td>1</td><td>2.342</td><td>2.414</td><td>3.818</td><td>0.862 .. 1.145</td><td>0.792635 .. 1.244665</td><td>141.08037</td><td>395.43484 .. 395.2338</td><td>20170106v001</td><td>1 .. 3</td><td>365.35022 .. 365.299</td><td>6.7566e-17</td><td>57759.336 .. 57759.344</td><td>12</td><td>4 .. 5</td><td>A .. A</td><td>20170106001</td><td>2.090136</td><td>147.27481</td><td>9.9914</td><td>0.0 .. 0.391</td><td>-0.0 .. -1e-05</td><td>0.63825 .. 0.59467</td><td>0.0 .. 0.391</td><td>-1e-05 .. 1e-05</td><td>0.27743 .. 0.40041</td></tr>\n",
       "<tr><td>cosmos</td><td>20170106</td><td>2</td><td>COS10_E</td><td>149.8724</td><td>1.9904</td><td>147.64</td><td>0.095</td><td>1</td><td>2.294</td><td>2.383</td><td>5.028</td><td>1.09 .. 0.865</td><td>1.1776927 .. 0.8236465</td><td>141.40508</td><td>393.13885 .. 394.58774</td><td>20170106v002</td><td>1 .. 3</td><td>363.09958 .. 364.94952</td><td>6.597321e-17</td><td>57759.355 .. 57759.367</td><td>12</td><td>5 .. 5</td><td>A .. A</td><td>20170106002</td><td>1.989807</td><td>147.53558</td><td>9.9914</td><td>0.0 .. 2.099</td><td>0.0 .. 0.0</td><td>0.11002 .. 0.56246</td><td>0.0 .. 2.099</td><td>0.0 .. -0.0</td><td>0.30044 .. 0.2474</td></tr>\n",
       "<tr><td>cosmos</td><td>20170106</td><td>3</td><td>COS19_W</td><td>149.98826</td><td>1.98563</td><td>212.56</td><td>0.0442</td><td>1</td><td>2.802</td><td>2.765</td><td>9.9</td><td>1.1 .. 0.902</td><td>1.2129242 .. 0.8505288</td><td>218.58522</td><td>396.4476 .. 394.98724</td><td>20170106v003</td><td>1 .. 3</td><td>364.99957 .. 365.25012</td><td>1.626697e-16</td><td>57759.477 .. 57759.484</td><td>12</td><td>4 .. 4</td><td>A .. A</td><td>20170106003</td><td>1.98525</td><td>212.45705</td><td>9.9992</td><td>0.0 .. 2.153</td><td>-0.0 .. -0.0</td><td>0.17696 .. 0.12486</td><td>0.0 .. 2.153</td><td>0.0 .. -0.0</td><td>0.30677 .. 0.4222</td></tr>\n",
       "<tr><td>cosmos</td><td>20170107</td><td>12</td><td>COS11_E</td><td>149.97247</td><td>1.99084</td><td>147.64</td><td>0.1201</td><td>1</td><td>2.79</td><td>3.12</td><td>3.101</td><td>0.824 .. 1.188</td><td>nan .. nan</td><td>141.40497</td><td>397.21362 .. 395.06284</td><td>20170107v012</td><td>1 .. 3</td><td>364.89847 .. 365.2996</td><td>1.431008e-16</td><td>57760.336 .. 57760.348</td><td>12</td><td>2 .. 3</td><td>A .. A</td><td>20170107012</td><td>1.989807</td><td>147.5355</td><td>9.9981</td><td>0.0 .. 0.538</td><td>-0.0 .. 0.0</td><td>0.01989 .. 0.00879</td><td>0.0 .. 0.538</td><td>0.00034 .. -0.0</td><td>0.6705 .. 0.21377</td></tr>\n",
       "<tr><td>...</td><td>...</td><td>...</td><td>...</td><td>...</td><td>...</td><td>...</td><td>...</td><td>...</td><td>...</td><td>...</td><td>...</td><td>...</td><td>...</td><td>...</td><td>...</td><td>...</td><td>...</td><td>...</td><td>...</td><td>...</td><td>...</td><td>...</td><td>...</td><td>...</td><td>...</td><td>...</td><td>...</td><td>...</td><td>...</td><td>...</td><td>...</td><td>...</td><td>...</td></tr>\n",
       "<tr><td>cal</td><td>20190201</td><td>8</td><td>Hz_4_046_W</td><td>58.784926</td><td>9.793824</td><td>230.5</td><td>0.0</td><td>0</td><td>0.0</td><td>0.0</td><td>0.0</td><td>0.0 .. 0.0</td><td>0.534415 .. 1.1364144</td><td>239.87389</td><td>104.209145 .. 106.88558</td><td>20190201v008</td><td>1 .. 3</td><td>67.84823 .. 69.09933</td><td>0.0</td><td>58515.168 .. 58515.176</td><td>47</td><td>15 .. 17</td><td>..</td><td>20190201008</td><td>9.793034</td><td>229.023</td><td>3.919047</td><td>0.0 .. 0.8715</td><td>-1e-05 .. 2e-05</td><td>0.59951 .. 0.50423</td><td>0.0 .. 0.8715</td><td>1e-05 .. 3e-05</td><td>0.48836 .. 0.50151</td></tr>\n",
       "<tr><td>cal</td><td>20190201</td><td>9</td><td>Hz_4_024_W</td><td>58.792283</td><td>9.873211</td><td>230.67</td><td>0.0</td><td>0</td><td>0.0</td><td>0.0</td><td>0.0</td><td>0.0 .. 0.0</td><td>0.9320253 .. 1.1768115</td><td>240.05687</td><td>104.857994 .. 103.65616</td><td>20190201v009</td><td>1 .. 3</td><td>67.24917 .. 67.199165</td><td>0.0</td><td>58515.176 .. 58515.18</td><td>47</td><td>18 .. 17</td><td>..</td><td>20190201009</td><td>9.872872</td><td>229.16104</td><td>3.919469</td><td>0.0 .. 1.2916</td><td>0.0 .. -0.0</td><td>0.79424 .. 0.82684</td><td>0.0 .. 1.2916</td><td>-0.0 .. -0.0</td><td>0.6864 .. 0.6321</td></tr>\n",
       "<tr><td>cal</td><td>20190202</td><td>22</td><td>G60-54_046_W</td><td>194.980616</td><td>3.469937</td><td>217.7</td><td>0.0</td><td>0</td><td>0.0</td><td>0.0</td><td>0.0</td><td>0.0 .. 0.0</td><td>0.87230945 .. 1.016319</td><td>223.1266</td><td>134.60933 .. 133.03336</td><td>20190202v022</td><td>1 .. 3</td><td>98.14881 .. 96.69819</td><td>0.0</td><td>58516.523 .. 58516.527</td><td>47</td><td>29 .. 29</td><td>..</td><td>20190202022</td><td>3.469854</td><td>216.08124</td><td>12.998715</td><td>0.0 .. 1.2873</td><td>-0.0 .. -0.0</td><td>0.55193 .. 0.38491</td><td>0.0 .. 1.2873</td><td>-0.0 .. -0.0</td><td>0.42725 .. 0.42419</td></tr>\n",
       "<tr><td>cal</td><td>20190203</td><td>12</td><td>G_99-37_047_E</td><td>87.812741</td><td>-0.223978</td><td>155.12</td><td>0.0</td><td>0</td><td>0.0</td><td>0.0</td><td>0.0</td><td>0.0 .. 0.0</td><td>1.0939553 .. 0.93471855</td><td>148.98209</td><td>105.05671 .. 104.3832</td><td>20190203v012</td><td>1 .. 3</td><td>67.69728 .. 67.69842</td><td>0.0</td><td>58517.117 .. 58517.12</td><td>46</td><td>50 .. 45</td><td>..</td><td>20190203012</td><td>-0.224038</td><td>153.69325</td><td>5.85422</td><td>0.0 .. 1.1569</td><td>-0.0 .. -0.0</td><td>0.28117 .. 0.25669</td><td>0.0 .. 1.1569</td><td>0.0 .. -0.0</td><td>0.24279 .. 0.2453</td></tr>\n",
       "<tr><td>cal</td><td>20190203</td><td>13</td><td>G_99-37_047_E</td><td>87.824498</td><td>-0.249252</td><td>155.2</td><td>0.0</td><td>0</td><td>0.0</td><td>0.0</td><td>0.0</td><td>0.0 .. 0.0</td><td>1.2131525 .. 0.55172276</td><td>149.08064</td><td>104.256165 .. 104.032776</td><td>20190203v013</td><td>1 .. 3</td><td>68.099236 .. 67.45118</td><td>0.0</td><td>58517.125 .. 58517.13</td><td>47</td><td>38 .. 24</td><td>..</td><td>20190203013</td><td>-0.249105</td><td>153.77426</td><td>5.855</td><td>0.0 .. 1.1211</td><td>0.0 .. -0.0</td><td>0.30887 .. 0.36523</td><td>0.0 .. 1.1211</td><td>0.0 .. -0.0</td><td>0.17181 .. 0.26734</td></tr>\n",
       "<tr><td>cal</td><td>20190204</td><td>11</td><td>J094203.19+544630.</td><td>145.608198</td><td>54.757416</td><td>62.77</td><td>0.0</td><td>0</td><td>0.0</td><td>0.0</td><td>0.0</td><td>0.0 .. 0.0</td><td>1.0474843 .. 0.9277463</td><td>36.18953</td><td>103.780945 .. 104.08255</td><td>20190204v011</td><td>1 .. 3</td><td>67.600365 .. 67.64689</td><td>0.0</td><td>58518.22 .. 58518.223</td><td>46</td><td>12 .. 11</td><td>..</td><td>20190204011</td><td>54.7583</td><td>61.41024</td><td>9.707184</td><td>0.0 .. 1.245</td><td>-0.0 .. 0.0</td><td>0.43602 .. 0.32929</td><td>0.0 .. 1.245</td><td>2e-05 .. -0.0</td><td>0.46322 .. 0.34703</td></tr>\n",
       "<tr><td>cal</td><td>20190205</td><td>14</td><td>J094203.19+544630.</td><td>145.608188</td><td>54.757436</td><td>62.78</td><td>0.0</td><td>0</td><td>0.0</td><td>0.0</td><td>0.0</td><td>0.0 .. 0.0</td><td>1.0155048 .. 1.0077097</td><td>36.192028</td><td>106.00947 .. 104.532295</td><td>20190205v014</td><td>1 .. 3</td><td>68.34917 .. 67.44946</td><td>0.0</td><td>58519.22 .. 58519.223</td><td>47</td><td>10 .. 10</td><td>..</td><td>20190205014</td><td>54.7583</td><td>61.413254</td><td>9.707184</td><td>0.0 .. 1.2141</td><td>-0.0 .. -0.0</td><td>0.23029 .. 0.27404</td><td>0.0 .. 1.2141</td><td>1e-05 .. -0.0</td><td>0.33886 .. 0.25879</td></tr>\n",
       "<tr><td>cal</td><td>20190207</td><td>19</td><td>Hz_21_046_E</td><td>183.522807</td><td>32.89606</td><td>99.43</td><td>0.0</td><td>0</td><td>0.0</td><td>0.0</td><td>0.0</td><td>0.0 .. 0.0</td><td>1.0509998 .. 1.0372628</td><td>75.50875</td><td>104.35803 .. 104.25645</td><td>20190207v019</td><td>1 .. 3</td><td>67.59843 .. 67.499275</td><td>0.0</td><td>58521.312 .. 58521.316</td><td>46</td><td>7 .. 8</td><td>..</td><td>20190207019</td><td>32.89648</td><td>97.93325</td><td>12.234904</td><td>0.0 .. 1.1333</td><td>-0.00014 .. 0.0</td><td>0.98073 .. 0.72245</td><td>0.0 .. 1.1333</td><td>-0.0 .. 0.0</td><td>0.68693 .. 0.4041</td></tr>\n",
       "<tr><td>cal</td><td>20190208</td><td>33</td><td>J145415.84+551152.</td><td>223.660533</td><td>55.181573</td><td>61.99</td><td>0.0</td><td>0</td><td>0.0</td><td>0.0</td><td>0.0</td><td>0.0 .. 0.0</td><td>1.0064795 .. 1.0475413</td><td>35.32858</td><td>104.45903 .. 104.98134</td><td>20190208v033</td><td>1 .. 3</td><td>67.84854 .. 68.20015</td><td>0.0</td><td>58522.438 .. 58522.438</td><td>46</td><td>9 .. 10</td><td>..</td><td>20190208033</td><td>55.18236</td><td>60.36255</td><td>14.910742</td><td>0.0 .. 1.1775</td><td>-0.0 .. 0.0</td><td>0.56137 .. 0.52188</td><td>0.0 .. 1.1775</td><td>0.0 .. -0.0</td><td>0.1237 .. 0.40124</td></tr>\n",
       "<tr><td>cal</td><td>20190208</td><td>34</td><td>J145415.84+551152.</td><td>223.703193</td><td>55.194919</td><td>61.91</td><td>0.0</td><td>0</td><td>0.0</td><td>0.0</td><td>0.0</td><td>0.0 .. 0.0</td><td>0.91884166 .. 1.0772965</td><td>35.29809</td><td>104.55417 .. 103.95749</td><td>20190208v034</td><td>1 .. 3</td><td>67.5985 .. 67.746056</td><td>0.0</td><td>58522.44 .. 58522.445</td><td>46</td><td>9 .. 10</td><td>..</td><td>20190208034</td><td>55.195915</td><td>60.325138</td><td>14.91358</td><td>0.0 .. 1.1392</td><td>-1e-05 .. -0.0</td><td>0.59705 .. 0.26994</td><td>0.0 .. 1.1392</td><td>-1e-05 .. 0.0</td><td>0.41253 .. 0.19523</td></tr>\n",
       "</table>"
      ],
      "text/plain": [
       "<Table length=1714>\n",
       " field    date   obsid ... yditherpos [3]   yoffset [3]         yrms [3]     \n",
       "bytes12  int32   int32 ...    float32         float32           float32      \n",
       "------- -------- ----- ... -------------- ---------------- ------------------\n",
       " cosmos 20170103     2 ...   0.0 .. 1.741   -1e-05 .. -0.0 0.33429 .. 0.17898\n",
       " cosmos 20170103     3 ...   0.0 .. 1.367      -0.0 .. 0.0 0.35298 .. 0.29886\n",
       " cosmos 20170105     8 ...    0.0 .. 1.68     -0.0 .. -0.0 0.20898 .. 0.03161\n",
       " cosmos 20170105     9 ...   0.0 .. 2.996 3e-05 .. 0.00019  0.37773 .. 0.3977\n",
       " cosmos 20170105    10 ...     0.0 .. 2.1      -0.0 .. 0.0 0.39384 .. 0.50996\n",
       " cosmos 20170105    11 ...   0.0 .. 0.079     -0.0 .. -0.0 0.54034 .. 0.35707\n",
       " cosmos 20170106     1 ...   0.0 .. 0.391  -1e-05 .. 1e-05 0.27743 .. 0.40041\n",
       " cosmos 20170106     2 ...   0.0 .. 2.099      0.0 .. -0.0  0.30044 .. 0.2474\n",
       " cosmos 20170106     3 ...   0.0 .. 2.153      0.0 .. -0.0  0.30677 .. 0.4222\n",
       " cosmos 20170107    12 ...   0.0 .. 0.538  0.00034 .. -0.0  0.6705 .. 0.21377\n",
       "    ...      ...   ... ...            ...              ...                ...\n",
       "    cal 20190201     8 ...  0.0 .. 0.8715   1e-05 .. 3e-05 0.48836 .. 0.50151\n",
       "    cal 20190201     9 ...  0.0 .. 1.2916     -0.0 .. -0.0   0.6864 .. 0.6321\n",
       "    cal 20190202    22 ...  0.0 .. 1.2873     -0.0 .. -0.0 0.42725 .. 0.42419\n",
       "    cal 20190203    12 ...  0.0 .. 1.1569      0.0 .. -0.0  0.24279 .. 0.2453\n",
       "    cal 20190203    13 ...  0.0 .. 1.1211      0.0 .. -0.0 0.17181 .. 0.26734\n",
       "    cal 20190204    11 ...   0.0 .. 1.245    2e-05 .. -0.0 0.46322 .. 0.34703\n",
       "    cal 20190205    14 ...  0.0 .. 1.2141    1e-05 .. -0.0 0.33886 .. 0.25879\n",
       "    cal 20190207    19 ...  0.0 .. 1.1333      -0.0 .. 0.0  0.68693 .. 0.4041\n",
       "    cal 20190208    33 ...  0.0 .. 1.1775      0.0 .. -0.0  0.1237 .. 0.40124\n",
       "    cal 20190208    34 ...  0.0 .. 1.1392    -1e-05 .. 0.0 0.41253 .. 0.19523"
      ]
     },
     "execution_count": 3,
     "metadata": {},
     "output_type": "execute_result"
    }
   ],
   "source": [
    "Table(survey.hdfile.root.Survey[:])"
   ]
  },
  {
   "cell_type": "markdown",
   "metadata": {},
   "source": [
    "It also converts RA and DEC into astropy coordinate objects."
   ]
  },
  {
   "cell_type": "code",
   "execution_count": 4,
   "metadata": {},
   "outputs": [
    {
     "data": {
      "text/plain": [
       "<SkyCoord (ICRS): (ra, dec) in deg\n",
       "    [(149.88757 ,  1.88533 ), (150.48583 ,  2.48316 ),\n",
       "     (149.77143 ,  2.59229 ), ..., (183.522807, 32.89606 ),\n",
       "     (223.660533, 55.181573), (223.703193, 55.194919)]>"
      ]
     },
     "execution_count": 4,
     "metadata": {},
     "output_type": "execute_result"
    }
   ],
   "source": [
    "survey.coords"
   ]
  },
  {
   "cell_type": "markdown",
   "metadata": {},
   "source": [
    "Shots are labeled based on their observation date and observation ID:"
   ]
  },
  {
   "cell_type": "code",
   "execution_count": 5,
   "metadata": {},
   "outputs": [
    {
     "data": {
      "text/plain": [
       "array([20170103, 20170103, 20170105, ..., 20190207, 20190208, 20190208],\n",
       "      dtype=int32)"
      ]
     },
     "execution_count": 5,
     "metadata": {},
     "output_type": "execute_result"
    }
   ],
   "source": [
    "survey.date"
   ]
  },
  {
   "cell_type": "code",
   "execution_count": 6,
   "metadata": {},
   "outputs": [
    {
     "data": {
      "text/plain": [
       "array([ 2,  3,  8, ..., 19, 33, 34], dtype=int32)"
      ]
     },
     "execution_count": 6,
     "metadata": {},
     "output_type": "execute_result"
    }
   ],
   "source": [
    "survey.obsid"
   ]
  },
  {
   "cell_type": "markdown",
   "metadata": {},
   "source": [
    "A specific shot can be linked either by an integer combination of these two values, called `shotid`, or the `DATEvOBS` form:"
   ]
  },
  {
   "cell_type": "code",
   "execution_count": 7,
   "metadata": {},
   "outputs": [
    {
     "data": {
      "text/plain": [
       "array(['20170103v002', '20170103v003', '20170105v008', ...,\n",
       "       '20190207v019', '20190208v033', '20190208v034'], dtype='<U12')"
      ]
     },
     "execution_count": 7,
     "metadata": {},
     "output_type": "execute_result"
    }
   ],
   "source": [
    "survey.datevobs"
   ]
  },
  {
   "cell_type": "code",
   "execution_count": 8,
   "metadata": {},
   "outputs": [
    {
     "data": {
      "text/plain": [
       "array([20170103002, 20170103003, 20170105008, ..., 20190207019,\n",
       "       20190208033, 20190208034])"
      ]
     },
     "execution_count": 8,
     "metadata": {},
     "output_type": "execute_result"
    }
   ],
   "source": [
    "survey.shotid"
   ]
  },
  {
   "cell_type": "markdown",
   "metadata": {},
   "source": [
    "## Searching for shots near a sky coordinate"
   ]
  },
  {
   "cell_type": "markdown",
   "metadata": {},
   "source": [
    "Most users searching for observations will want to get a list of observations/shots at a specific sky position. Each shot has a single associated sky coordinate. We can retrieve a list of shots that may contain fibers in a specific region. However, because of the varying and non-contiguous footprint of VIRUS, this is not an immediate guarantee a region has been observed. You must further query fibers in each shot to determine this. See Notebook 02 to learn how to query with the Fibers Class API. "
   ]
  },
  {
   "cell_type": "markdown",
   "metadata": {},
   "source": [
    "### get_shotlist()\n",
    "This function which operates on the Survey class object. An astropy coordinates object is required as input."
   ]
  },
  {
   "cell_type": "code",
   "execution_count": 9,
   "metadata": {},
   "outputs": [],
   "source": [
    "coords = SkyCoord(11.628530 * u.deg, 0.081790 * u.deg, frame='icrs')"
   ]
  },
  {
   "cell_type": "markdown",
   "metadata": {},
   "source": [
    "We can either search a rectangular region, width and height in degrees:"
   ]
  },
  {
   "cell_type": "code",
   "execution_count": 10,
   "metadata": {},
   "outputs": [],
   "source": [
    "shotlist = survey.get_shotlist(coords, width=0.5, height=0.2)"
   ]
  },
  {
   "cell_type": "code",
   "execution_count": 11,
   "metadata": {},
   "outputs": [
    {
     "data": {
      "text/plain": [
       "array([20171119003, 20180106004, 20181003009, 20181005017, 20181107014])"
      ]
     },
     "execution_count": 11,
     "metadata": {},
     "output_type": "execute_result"
    }
   ],
   "source": [
    "shotlist"
   ]
  },
  {
   "cell_type": "markdown",
   "metadata": {},
   "source": [
    "or we can search a circular aperture with a radius given in degress, or in an astropy quantity object:"
   ]
  },
  {
   "cell_type": "code",
   "execution_count": 12,
   "metadata": {},
   "outputs": [
    {
     "name": "stderr",
     "output_type": "stream",
     "text": [
      "WARNING: AstropyDeprecationWarning: The truth value of a Quantity is ambiguous. In the future this will raise a ValueError. [astropy.units.quantity]\n"
     ]
    }
   ],
   "source": [
    "shotlist = survey.get_shotlist(coords, radius=10*u.arcmin)"
   ]
  },
  {
   "cell_type": "code",
   "execution_count": 13,
   "metadata": {},
   "outputs": [
    {
     "data": {
      "text/plain": [
       "array([20171119003, 20180106004, 20181003009, 20181107014])"
      ]
     },
     "execution_count": 13,
     "metadata": {},
     "output_type": "execute_result"
    }
   ],
   "source": [
    "shotlist"
   ]
  },
  {
   "cell_type": "markdown",
   "metadata": {},
   "source": [
    "From here a user can take their shotlist and query the position on the Fibers class and see if their region of interest is observed in the survey."
   ]
  },
  {
   "cell_type": "markdown",
   "metadata": {},
   "source": [
    "## Basic querying for the Survey Class"
   ]
  },
  {
   "cell_type": "markdown",
   "metadata": {},
   "source": [
    "The Survey HDF5 itself contains information about the quality of each observation. A user can query different parameters and plot up general shot quantities. For example, we can compare the distribution of throughput values (technically the response at 4540 AA) between the HETDEX spring and HETDEX fall fields:"
   ]
  },
  {
   "cell_type": "markdown",
   "metadata": {},
   "source": [
    "### Example: Plotting up the canonical throughput value at 4540 AA"
   ]
  },
  {
   "cell_type": "code",
   "execution_count": 14,
   "metadata": {},
   "outputs": [],
   "source": [
    "idx_spring = np.where( (survey.field == 'dex-spring') * np.isfinite(survey.response_4540) )"
   ]
  },
  {
   "cell_type": "code",
   "execution_count": 15,
   "metadata": {},
   "outputs": [],
   "source": [
    "idx_fall = np.where( (survey.field == 'dex-fall') * np.isfinite(survey.response_4540))"
   ]
  },
  {
   "cell_type": "code",
   "execution_count": 16,
   "metadata": {},
   "outputs": [
    {
     "data": {
      "text/plain": [
       "<matplotlib.legend.Legend at 0x2ba588f69f28>"
      ]
     },
     "execution_count": 16,
     "metadata": {},
     "output_type": "execute_result"
    },
    {
     "data": {
      "image/png": "[encoded data removed]",
      "text/plain": [
       "<matplotlib.figure.Figure at 0x2ba588ede1d0>"
      ]
     },
     "metadata": {
      "needs_background": "light"
     },
     "output_type": "display_data"
    }
   ],
   "source": [
    "plt.figure(figsize=(8,6))\n",
    "plt.hist(survey.response_4540[idx_spring], label = 'DEX-Spring')\n",
    "plt.hist(survey.response_4540[idx_fall], label = 'DEX-Fall')\n",
    "plt.xlabel('Throughput at 4540 AA')\n",
    "plt.ylabel('N OBS')\n",
    "plt.legend()"
   ]
  },
  {
   "cell_type": "markdown",
   "metadata": {},
   "source": [
    "### Example: Plotting up the locations of all cosmos shots:"
   ]
  },
  {
   "cell_type": "code",
   "execution_count": 17,
   "metadata": {},
   "outputs": [],
   "source": [
    "idx_cosmos = np.where(survey.field == 'cosmos')"
   ]
  },
  {
   "cell_type": "code",
   "execution_count": 18,
   "metadata": {},
   "outputs": [
    {
     "data": {
      "image/png": "[encoded data removed]",
      "text/plain": [
       "<matplotlib.figure.Figure at 0x2ba588e88d30>"
      ]
     },
     "metadata": {
      "needs_background": "light"
     },
     "output_type": "display_data"
    }
   ],
   "source": [
    "plt.figure(figsize=(8,6))\n",
    "plt.scatter(survey.ra[idx_cosmos],survey.dec[idx_cosmos])\n",
    "plt.xlabel('RA (deg)')\n",
    "plt.ylabel('DEC (deg)')\n",
    "plt.show()"
   ]
  },
  {
   "cell_type": "markdown",
   "metadata": {},
   "source": [
    "## Exploring the Survey HDF5 File"
   ]
  },
  {
   "cell_type": "markdown",
   "metadata": {},
   "source": [
    "The hdfile attribute contains the link to the survey HDF5 file. Calling it will show you all the information in the HDF5 file. You may interact with this directly rather than using the Survey class initiation. \n"
   ]
  },
  {
   "cell_type": "code",
   "execution_count": 19,
   "metadata": {},
   "outputs": [
    {
     "data": {
      "text/plain": [
       "File(filename=/work/03946/hetdex/hdr1/survey/survey_hdr1.h5, title='HDR1 Survey file ', mode='r', root_uep='/', filters=Filters(complevel=0, shuffle=False, bitshuffle=False, fletcher32=False, least_significant_digit=None))\n",
       "/ (RootGroup) 'HDR1 Survey file '\n",
       "/Survey (Table(1714,)) 'Main Survey Info'\n",
       "  description := {\n",
       "  \"field\": StringCol(itemsize=12, shape=(), dflt=b'', pos=0),\n",
       "  \"date\": Int32Col(shape=(), dflt=0, pos=1),\n",
       "  \"obsid\": Int32Col(shape=(), dflt=0, pos=2),\n",
       "  \"objid\": StringCol(itemsize=18, shape=(), dflt=b'', pos=3),\n",
       "  \"ra\": Float64Col(shape=(), dflt=0.0, pos=4),\n",
       "  \"dec\": Float64Col(shape=(), dflt=0.0, pos=5),\n",
       "  \"pa\": Float64Col(shape=(), dflt=0.0, pos=6),\n",
       "  \"response_4540\": Float32Col(shape=(), dflt=0.0, pos=7),\n",
       "  \"fwhm_flag\": Int32Col(shape=(), dflt=0, pos=8),\n",
       "  \"fwhm_gaussian\": Float32Col(shape=(), dflt=0.0, pos=9),\n",
       "  \"fwhm_moffat\": Float32Col(shape=(), dflt=0.0, pos=10),\n",
       "  \"moffat_beta\": Float32Col(shape=(), dflt=0.0, pos=11),\n",
       "  \"relflux_guider\": Float32Col(shape=(3,), dflt=0.0, pos=12),\n",
       "  \"relflux_virus\": Float32Col(shape=(3,), dflt=0.0, pos=13),\n",
       "  \"structaz\": Float32Col(shape=(), dflt=0.0, pos=14),\n",
       "  \"darktime\": Float32Col(shape=(3,), dflt=0.0, pos=15),\n",
       "  \"datevobs\": StringCol(itemsize=12, shape=(), dflt=b'', pos=16),\n",
       "  \"expnum\": Int32Col(shape=(3,), dflt=0, pos=17),\n",
       "  \"exptime\": Float32Col(shape=(3,), dflt=0.0, pos=18),\n",
       "  \"fluxlimit_4550\": Float32Col(shape=(), dflt=0.0, pos=19),\n",
       "  \"mjd\": Float32Col(shape=(3,), dflt=0.0, pos=20),\n",
       "  \"n_ifu\": Int32Col(shape=(), dflt=0, pos=21),\n",
       "  \"nstars_fit\": Int32Col(shape=(3,), dflt=0, pos=22),\n",
       "  \"ra_flag\": StringCol(itemsize=1, shape=(3,), dflt=b'', pos=23),\n",
       "  \"shotid\": Int64Col(shape=(), dflt=0, pos=24),\n",
       "  \"trajcdec\": Float32Col(shape=(), dflt=0.0, pos=25),\n",
       "  \"trajcpa\": Float32Col(shape=(), dflt=0.0, pos=26),\n",
       "  \"trajcra\": Float32Col(shape=(), dflt=0.0, pos=27),\n",
       "  \"xditherpos\": Float32Col(shape=(3,), dflt=0.0, pos=28),\n",
       "  \"xoffset\": Float32Col(shape=(3,), dflt=0.0, pos=29),\n",
       "  \"xrms\": Float32Col(shape=(3,), dflt=0.0, pos=30),\n",
       "  \"yditherpos\": Float32Col(shape=(3,), dflt=0.0, pos=31),\n",
       "  \"yoffset\": Float32Col(shape=(3,), dflt=0.0, pos=32),\n",
       "  \"yrms\": Float32Col(shape=(3,), dflt=0.0, pos=33)}\n",
       "  byteorder := 'little'\n",
       "  chunkshape := (229,)"
      ]
     },
     "execution_count": 19,
     "metadata": {},
     "output_type": "execute_result"
    }
   ],
   "source": [
    "survey.hdfile"
   ]
  }
 ],
 "metadata": {
  "kernelspec": {
   "display_name": "Python 2",
   "language": "python",
   "name": "python2"
  },
  "language_info": {
   "codemirror_mode": {
    "name": "ipython",
    "version": 3
   },
   "file_extension": ".py",
   "mimetype": "text/x-python",
   "name": "python",
   "nbconvert_exporter": "python",
   "pygments_lexer": "ipython3",
   "version": "3.7.0"
  }
 },
 "nbformat": 4,
 "nbformat_minor": 1
}
