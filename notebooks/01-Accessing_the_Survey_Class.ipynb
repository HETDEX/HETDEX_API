{
 "cells": [
  {
   "cell_type": "markdown",
   "metadata": {},
   "source": [
    "# 01 - Accessing and querying the Survey Class and HDF5 file"
   ]
  },
  {
   "cell_type": "markdown",
   "metadata": {},
   "source": [
    "The survey HDF5 file is a master look up table for each observation made by VIRUS for HETDEX. It can be accessed directly through the HDF5 survey file, or through the Survey class API. The Survey class includes information for each three dither set HETDEX observation in HDR1. It includes both science and calibration shots. Any quantity related to an individual dither is provided in an array of length three. Fundamental properties of a shot and quality assessment values for seeing (fwhm), astrometry, flux limits and transparency (response_4540) are tabulated to allow for querying of desired shots. \n",
    "\n",
    "We first introduce the basic API to query the Survey Class by sky coordinates to get a list of shots where fibers are located within that region. Later on in this notebook we show some basic querying of the Survey class and demonstrate a few examples."
   ]
  },
  {
   "cell_type": "markdown",
   "metadata": {},
   "source": [
    "### Initiate the Survey class :"
   ]
  },
  {
   "cell_type": "code",
   "execution_count": 1,
   "metadata": {},
   "outputs": [],
   "source": [
    "%matplotlib inline\n",
    "import tables as tb\n",
    "import numpy as np\n",
    "import matplotlib.pyplot as plt\n",
    "\n",
    "from astropy.table import Table\n",
    "import astropy.units as u\n",
    "from astropy.coordinates import SkyCoord\n",
    "\n",
    "from hetdex_api.survey import Survey, FiberIndex"
   ]
  },
  {
   "cell_type": "code",
   "execution_count": 2,
   "metadata": {},
   "outputs": [],
   "source": [
    "survey = Survey('hdr2.1')"
   ]
  },
  {
   "cell_type": "markdown",
   "metadata": {},
   "source": [
    "This calls the HDR1 survey class and sets each column in the survey table as an attribute to this object. This is how it looks through an astropy Table object:"
   ]
  },
  {
   "cell_type": "code",
   "execution_count": 3,
   "metadata": {},
   "outputs": [],
   "source": [
    "survey_table=survey.return_astropy_table()"
   ]
  },
  {
   "cell_type": "code",
   "execution_count": 4,
   "metadata": {},
   "outputs": [
    {
     "data": {
      "text/html": [
       "<i>Table length=3191</i>\n",
       "<table id=\"table47237105626528\" class=\"table-striped table-bordered table-condensed\">\n",
       "<thead><tr><th>shotid</th><th>field</th><th>objid</th><th>date</th><th>obsid</th><th>ra</th><th>dec</th><th>pa</th><th>n_ifu</th><th>fwhm_virus</th><th>fwhm_virus_err</th><th>response_4540</th><th>ambtemp</th><th>datevobs</th><th>dewpoint</th><th>exptime</th><th>humidity</th><th>mjd</th><th>nstars_fit_fwhm</th><th>obsind</th><th>pressure</th><th>structaz</th><th>time</th><th>trajcdec</th><th>trajcpa</th><th>trajcra</th><th>shot_flag</th><th>fluxlimit_4550</th></tr></thead>\n",
       "<thead><tr><th>int64</th><th>bytes12</th><th>bytes18</th><th>int32</th><th>int32</th><th>float64</th><th>float64</th><th>float64</th><th>int32</th><th>float32</th><th>float32</th><th>float32</th><th>float32</th><th>bytes12</th><th>float32</th><th>float32</th><th>float32</th><th>float32</th><th>int32</th><th>int32</th><th>float32</th><th>float32</th><th>bytes7</th><th>float32</th><th>float32</th><th>float32</th><th>bool</th><th>float64</th></tr></thead>\n",
       "<tr><td>20170103002</td><td>cosmos</td><td>COS10_W_000_W</td><td>20170103</td><td>2</td><td>149.887695</td><td>1.885366</td><td>213.616553</td><td>14</td><td>2.3224666</td><td>0.33501986</td><td>0.09</td><td>7.055</td><td>20170103v002</td><td>-7.0894446</td><td>365.0492</td><td>34.054</td><td>57756.465</td><td>7</td><td>1</td><td>800.37286</td><td>218.2631</td><td>1109049</td><td>1.886055</td><td>212.19806</td><td>149.886</td><td>True</td><td>3.601909e-17</td></tr>\n",
       "<tr><td>20170103003</td><td>cosmos</td><td>COS64_W</td><td>20170103</td><td>3</td><td>150.485883</td><td>2.483296</td><td>215.160015</td><td>14</td><td>1.9453459</td><td>0.70668113</td><td>0.0437</td><td>7.111111</td><td>20170103v003</td><td>-7.351111</td><td>364.39908</td><td>33.338</td><td>57756.484</td><td>4</td><td>1</td><td>800.37286</td><td>220.17468</td><td>1135427</td><td>2.483722</td><td>213.73126</td><td>150.4845</td><td>True</td><td>5.994067e-17</td></tr>\n",
       "<tr><td>20170105008</td><td>cosmos</td><td>COS57_E</td><td>20170105</td><td>8</td><td>149.771392</td><td>2.592347</td><td>147.352919</td><td>14</td><td>2.4116552</td><td>0.27407384</td><td>0.1007</td><td>10.595</td><td>20170105v008</td><td>-1.4522222</td><td>364.48312</td><td>42.01</td><td>57758.336</td><td>4</td><td>1</td><td>796.5801</td><td>139.48857</td><td>0806287</td><td>2.591758</td><td>146.0002</td><td>149.772</td><td>True</td><td>3.165049e-17</td></tr>\n",
       "<tr><td>20170105009</td><td>cosmos</td><td>COS19_E_000_E</td><td>20170105</td><td>9</td><td>149.97293</td><td>2.091282</td><td>148.690592</td><td>14</td><td>3.0098238</td><td>0.17375052</td><td>0.0698</td><td>10.82</td><td>20170105v009</td><td>-0.50222224</td><td>364.23257</td><td>44.681</td><td>57758.36</td><td>5</td><td>1</td><td>796.5801</td><td>141.07867</td><td>0838053</td><td>2.090136</td><td>147.27345</td><td>149.9715</td><td>True</td><td>4.918771e-17</td></tr>\n",
       "<tr><td>20170105010</td><td>cosmos</td><td>COS1_W</td><td>20170105</td><td>10</td><td>149.788237</td><td>1.78615</td><td>213.329534</td><td>14</td><td>2.0568435</td><td>0.17912686</td><td>0.1279</td><td>9.510555</td><td>20170105v010</td><td>-0.22388889</td><td>365.1166</td><td>50.362</td><td>57758.46</td><td>7</td><td>1</td><td>796.2076</td><td>217.93459</td><td>1101477</td><td>1.786439</td><td>211.93365</td><td>149.787</td><td>True</td><td>2.230233e-17</td></tr>\n",
       "<tr><td>20170105011</td><td>cosmos</td><td>COS14_W</td><td>20170105</td><td>11</td><td>150.287775</td><td>1.886035</td><td>213.74048</td><td>14</td><td>2.6563892</td><td>0.52853006</td><td>0.0718</td><td>9.596666</td><td>20170105v011</td><td>0.12388889</td><td>364.33325</td><td>51.564</td><td>57758.48</td><td>6</td><td>1</td><td>796.2076</td><td>218.2599</td><td>1130484</td><td>1.886055</td><td>212.19548</td><td>150.2865</td><td>True</td><td>4.392882e-17</td></tr>\n",
       "<tr><td>20170106001</td><td>cosmos</td><td>COS18_E</td><td>20170106</td><td>1</td><td>149.872346</td><td>2.091178</td><td>148.663047</td><td>14</td><td>2.0175648</td><td>0.493342</td><td>0.0642</td><td>9.454445</td><td>20170106v001</td><td>-3.6533334</td><td>364.43222</td><td>39.457</td><td>57759.336</td><td>7</td><td>1</td><td>794.24347</td><td>141.08037</td><td>0804099</td><td>2.090136</td><td>147.27481</td><td>149.871</td><td>True</td><td>4.548911e-17</td></tr>\n",
       "<tr><td>20170106002</td><td>cosmos</td><td>COS10_E</td><td>20170106</td><td>2</td><td>149.87241</td><td>1.99063</td><td>148.885585</td><td>14</td><td>2.6078148</td><td>0.37767038</td><td>0.1025</td><td>9.538333</td><td>20170106v002</td><td>-3.4677777</td><td>364.3329</td><td>39.525</td><td>57759.355</td><td>7</td><td>1</td><td>794.24347</td><td>141.40508</td><td>0834078</td><td>1.989807</td><td>147.53558</td><td>149.871</td><td>True</td><td>3.309868e-17</td></tr>\n",
       "<tr><td>20170106003</td><td>cosmos</td><td>COS19_W</td><td>20170106</td><td>3</td><td>149.988279</td><td>1.985643</td><td>213.927043</td><td>14</td><td>3.0485</td><td>0.015947422</td><td>0.066</td><td>8.274445</td><td>20170106v003</td><td>-4.5133333</td><td>365.0669</td><td>38.563</td><td>57759.477</td><td>3</td><td>1</td><td>793.4646</td><td>218.58522</td><td>1126174</td><td>1.98525</td><td>212.45705</td><td>149.988</td><td>True</td><td>5.366335e-17</td></tr>\n",
       "<tr><td>20170107012</td><td>cosmos</td><td>COS11_E</td><td>20170107</td><td>12</td><td>149.972774</td><td>1.990583</td><td>148.980505</td><td>14</td><td>1.2905</td><td>0.07669981</td><td>0.0595</td><td>-6.261667</td><td>20170107v012</td><td>-17.24295</td><td>366.1328</td><td>47.212</td><td>57760.336</td><td>3</td><td>1</td><td>804.1317</td><td>141.40497</td><td>0805421</td><td>1.989807</td><td>147.5355</td><td>149.9715</td><td>True</td><td>6.402735e-17</td></tr>\n",
       "<tr><td>...</td><td>...</td><td>...</td><td>...</td><td>...</td><td>...</td><td>...</td><td>...</td><td>...</td><td>...</td><td>...</td><td>...</td><td>...</td><td>...</td><td>...</td><td>...</td><td>...</td><td>...</td><td>...</td><td>...</td><td>...</td><td>...</td><td>...</td><td>...</td><td>...</td><td>...</td><td>...</td><td>...</td></tr>\n",
       "<tr><td>20200625017</td><td>dex-spring</td><td>DEXsp4017</td><td>20200625</td><td>17</td><td>210.738079</td><td>54.380782</td><td>299.624902</td><td>70</td><td>2.7147236</td><td>0.7351299</td><td>0.0657</td><td>19.393888</td><td>20200625v017</td><td>8.528889</td><td>427.93527</td><td>46.422</td><td>59025.22</td><td>140</td><td>1</td><td>804.5381</td><td>323.24152</td><td>0517466</td><td>54.38</td><td>297.93137</td><td>210.738</td><td>True</td><td>7.640528e-17</td></tr>\n",
       "<tr><td>20200625018</td><td>dex-spring</td><td>DEXsp3967</td><td>20200625</td><td>18</td><td>220.267192</td><td>53.446167</td><td>299.593584</td><td>70</td><td>1.9157426</td><td>0.565008</td><td>0.1493</td><td>19.396667</td><td>20200625v018</td><td>8.218889</td><td>607.68256</td><td>46.019</td><td>59025.24</td><td>16</td><td>1</td><td>804.5381</td><td>323.24152</td><td>0545172</td><td>53.446377</td><td>297.93137</td><td>220.26654</td><td>True</td><td>2.417355e-17</td></tr>\n",
       "<tr><td>20200625019</td><td>dex-spring</td><td>DEXsp7185</td><td>20200625</td><td>19</td><td>231.379347</td><td>53.476017</td><td>299.621378</td><td>70</td><td>1.9826775</td><td>0.25718248</td><td>0.1344</td><td>19.47</td><td>20200625v019</td><td>7.553889</td><td>367.87448</td><td>42.96</td><td>59025.266</td><td>27</td><td>1</td><td>804.301</td><td>323.24152</td><td>0621492</td><td>53.475475</td><td>297.93137</td><td>231.37999</td><td>True</td><td>2.293927e-17</td></tr>\n",
       "<tr><td>20200625020</td><td>dex-spring</td><td>DEXsp6525</td><td>20200625</td><td>20</td><td>234.140324</td><td>53.98981</td><td>299.617724</td><td>70</td><td>1.8120736</td><td>0.32785416</td><td>0.1523</td><td>19.15611</td><td>20200625v020</td><td>7.5394444</td><td>487.69955</td><td>43.635</td><td>59025.28</td><td>37</td><td>1</td><td>804.301</td><td>323.24152</td><td>0645237</td><td>53.989723</td><td>297.93137</td><td>234.13976</td><td>True</td><td>2.126364e-17</td></tr>\n",
       "<tr><td>20200625021</td><td>dex-spring</td><td>DEXsp6671</td><td>20200625</td><td>21</td><td>240.172723</td><td>53.54772</td><td>299.621378</td><td>70</td><td>1.6585162</td><td>0.38814068</td><td>0.1324</td><td>19.146667</td><td>20200625v021</td><td>7.551111</td><td>488.26645</td><td>43.714</td><td>59025.3</td><td>21</td><td>1</td><td>804.3688</td><td>323.24152</td><td>0715209</td><td>53.547062</td><td>297.93137</td><td>240.1725</td><td>True</td><td>2.090525e-17</td></tr>\n",
       "<tr><td>20200626016</td><td>dex-spring</td><td>DEXsp7175</td><td>20200626</td><td>16</td><td>230.675762</td><td>53.234764</td><td>296.974196</td><td>71</td><td>1.2604536</td><td>0.10521854</td><td>0.1537</td><td>20.10389</td><td>20200626v016</td><td>9.031111</td><td>427.66614</td><td>46.533</td><td>59026.246</td><td>43</td><td>1</td><td>804.6397</td><td>321.002</td><td>0554075</td><td>53.234367</td><td>295.3104</td><td>230.67612</td><td>True</td><td>1.382779e-17</td></tr>\n",
       "<tr><td>20200626017</td><td>dex-spring</td><td>DEXsp7111</td><td>20200626</td><td>17</td><td>224.852859</td><td>53.549799</td><td>296.932937</td><td>71</td><td>1.3909405</td><td>0.2306041</td><td>0.1123</td><td>19.631666</td><td>20200626v017</td><td>9.708889</td><td>367.5492</td><td>49.958</td><td>59026.266</td><td>25</td><td>1</td><td>804.7074</td><td>321.002</td><td>0622044</td><td>53.549393</td><td>295.3104</td><td>224.85326</td><td>True</td><td>1.804858e-17</td></tr>\n",
       "<tr><td>20200626018</td><td>dex-spring</td><td>DEXsp6508</td><td>20200626</td><td>18</td><td>233.651753</td><td>53.993989</td><td>296.924724</td><td>71</td><td>1.4448333</td><td>0.23766221</td><td>0.1245</td><td>19.502777</td><td>20200626v018</td><td>10.167222</td><td>367.12317</td><td>51.678</td><td>59026.28</td><td>38</td><td>1</td><td>804.7074</td><td>321.00192</td><td>0647072</td><td>53.993607</td><td>295.3103</td><td>233.65271</td><td>True</td><td>1.814035e-17</td></tr>\n",
       "<tr><td>20200626019</td><td>dex-spring</td><td>DEXsp6618</td><td>20200626</td><td>19</td><td>239.174074</td><td>53.113723</td><td>296.973253</td><td>71</td><td>1.3604825</td><td>0.2726477</td><td>0.1043</td><td>19.17389</td><td>20200626v019</td><td>11.966666</td><td>367.45407</td><td>53.376</td><td>59026.3</td><td>27</td><td>1</td><td>804.6397</td><td>321.00192</td><td>0711352</td><td>53.113827</td><td>295.3103</td><td>239.17342</td><td>True</td><td>2.007891e-17</td></tr>\n",
       "<tr><td>20200626020</td><td>dex-spring</td><td>DEXsp6718</td><td>20200626</td><td>20</td><td>244.994751</td><td>52.43874</td><td>296.999945</td><td>71</td><td>1.383237</td><td>0.24281357</td><td>0.1241</td><td>18.92389</td><td>20200626v020</td><td>10.165</td><td>367.75974</td><td>54.766</td><td>59026.316</td><td>38</td><td>1</td><td>804.6397</td><td>321.00174</td><td>0735469</td><td>52.439125</td><td>295.31006</td><td>244.99399</td><td>True</td><td>1.702779e-17</td></tr>\n",
       "</table>"
      ],
      "text/plain": [
       "<Table length=3191>\n",
       "   shotid     field        objid     ...  trajcra  shot_flag fluxlimit_4550\n",
       "   int64     bytes12      bytes18    ...  float32     bool      float64    \n",
       "----------- ---------- ------------- ... --------- --------- --------------\n",
       "20170103002     cosmos COS10_W_000_W ...   149.886      True   3.601909e-17\n",
       "20170103003     cosmos       COS64_W ...  150.4845      True   5.994067e-17\n",
       "20170105008     cosmos       COS57_E ...   149.772      True   3.165049e-17\n",
       "20170105009     cosmos COS19_E_000_E ...  149.9715      True   4.918771e-17\n",
       "20170105010     cosmos        COS1_W ...   149.787      True   2.230233e-17\n",
       "20170105011     cosmos       COS14_W ...  150.2865      True   4.392882e-17\n",
       "20170106001     cosmos       COS18_E ...   149.871      True   4.548911e-17\n",
       "20170106002     cosmos       COS10_E ...   149.871      True   3.309868e-17\n",
       "20170106003     cosmos       COS19_W ...   149.988      True   5.366335e-17\n",
       "20170107012     cosmos       COS11_E ...  149.9715      True   6.402735e-17\n",
       "        ...        ...           ... ...       ...       ...            ...\n",
       "20200625017 dex-spring     DEXsp4017 ...   210.738      True   7.640528e-17\n",
       "20200625018 dex-spring     DEXsp3967 ... 220.26654      True   2.417355e-17\n",
       "20200625019 dex-spring     DEXsp7185 ... 231.37999      True   2.293927e-17\n",
       "20200625020 dex-spring     DEXsp6525 ... 234.13976      True   2.126364e-17\n",
       "20200625021 dex-spring     DEXsp6671 ...  240.1725      True   2.090525e-17\n",
       "20200626016 dex-spring     DEXsp7175 ... 230.67612      True   1.382779e-17\n",
       "20200626017 dex-spring     DEXsp7111 ... 224.85326      True   1.804858e-17\n",
       "20200626018 dex-spring     DEXsp6508 ... 233.65271      True   1.814035e-17\n",
       "20200626019 dex-spring     DEXsp6618 ... 239.17342      True   2.007891e-17\n",
       "20200626020 dex-spring     DEXsp6718 ... 244.99399      True   1.702779e-17"
      ]
     },
     "execution_count": 4,
     "metadata": {},
     "output_type": "execute_result"
    }
   ],
   "source": [
    "survey_table"
   ]
  },
  {
   "cell_type": "markdown",
   "metadata": {},
   "source": [
    "It also converts RA and DEC into astropy coordinate objects."
   ]
  },
  {
   "cell_type": "code",
   "execution_count": 5,
   "metadata": {},
   "outputs": [
    {
     "data": {
      "text/plain": [
       "<SkyCoord (ICRS): (ra, dec) in deg\n",
       "    [(149.887695,  1.885366), (150.485883,  2.483296),\n",
       "     (149.771392,  2.592347), ..., (233.651753, 53.993989),\n",
       "     (239.174074, 53.113723), (244.994751, 52.43874 )]>"
      ]
     },
     "execution_count": 5,
     "metadata": {},
     "output_type": "execute_result"
    }
   ],
   "source": [
    "survey.coords"
   ]
  },
  {
   "cell_type": "markdown",
   "metadata": {},
   "source": [
    "Shots are labeled based on their observation date and observation ID:"
   ]
  },
  {
   "cell_type": "code",
   "execution_count": 6,
   "metadata": {},
   "outputs": [
    {
     "data": {
      "text/plain": [
       "array([20170103, 20170103, 20170105, ..., 20200626, 20200626, 20200626],\n",
       "      dtype=int32)"
      ]
     },
     "execution_count": 6,
     "metadata": {},
     "output_type": "execute_result"
    }
   ],
   "source": [
    "survey.date"
   ]
  },
  {
   "cell_type": "code",
   "execution_count": 7,
   "metadata": {},
   "outputs": [
    {
     "data": {
      "text/plain": [
       "array([ 2,  3,  8, ..., 18, 19, 20], dtype=int32)"
      ]
     },
     "execution_count": 7,
     "metadata": {},
     "output_type": "execute_result"
    }
   ],
   "source": [
    "survey.obsid"
   ]
  },
  {
   "cell_type": "markdown",
   "metadata": {},
   "source": [
    "A specific shot can be linked either by an integer combination of these two values, called `shotid`, or the `DATEvOBS` form:"
   ]
  },
  {
   "cell_type": "code",
   "execution_count": 8,
   "metadata": {},
   "outputs": [
    {
     "data": {
      "text/plain": [
       "array(['20170103v002', '20170103v003', '20170105v008', ...,\n",
       "       '20200626v018', '20200626v019', '20200626v020'], dtype='<U12')"
      ]
     },
     "execution_count": 8,
     "metadata": {},
     "output_type": "execute_result"
    }
   ],
   "source": [
    "survey.datevobs"
   ]
  },
  {
   "cell_type": "code",
   "execution_count": 9,
   "metadata": {},
   "outputs": [
    {
     "data": {
      "text/plain": [
       "array([20170103002, 20170103003, 20170105008, ..., 20200626018,\n",
       "       20200626019, 20200626020])"
      ]
     },
     "execution_count": 9,
     "metadata": {},
     "output_type": "execute_result"
    }
   ],
   "source": [
    "survey.shotid"
   ]
  },
  {
   "cell_type": "markdown",
   "metadata": {},
   "source": [
    "## Searching for shots near a sky coordinate"
   ]
  },
  {
   "cell_type": "markdown",
   "metadata": {},
   "source": [
    "Most users searching for observations will want to get a list of observations/shots at a specific sky position. Each shot has a single associated sky coordinate. We can retrieve a list of shots that may contain fibers in a specific region. However, because of the varying and non-contiguous footprint of VIRUS, this is not an immediate guarantee a region has been observed. You must further query fibers in each shot to determine this. See Notebook 02 to learn how to query with the Fibers Class API. "
   ]
  },
  {
   "cell_type": "markdown",
   "metadata": {},
   "source": [
    "### get_shotlist()\n",
    "This function which operates on the Survey class object. An astropy coordinates object is required as input."
   ]
  },
  {
   "cell_type": "code",
   "execution_count": 10,
   "metadata": {},
   "outputs": [],
   "source": [
    "coords = SkyCoord(11.628530 * u.deg, 0.081790 * u.deg, frame='icrs')"
   ]
  },
  {
   "cell_type": "markdown",
   "metadata": {},
   "source": [
    "We can either search a rectangular region, width and height in degrees:"
   ]
  },
  {
   "cell_type": "code",
   "execution_count": 11,
   "metadata": {},
   "outputs": [],
   "source": [
    "shotlist = survey.get_shotlist(coords, width=0.5, height=0.2)"
   ]
  },
  {
   "cell_type": "code",
   "execution_count": 12,
   "metadata": {},
   "outputs": [
    {
     "data": {
      "text/plain": [
       "array([20171119003, 20180106004, 20181003009, 20181005017, 20181107014,\n",
       "       20191222012])"
      ]
     },
     "execution_count": 12,
     "metadata": {},
     "output_type": "execute_result"
    }
   ],
   "source": [
    "shotlist"
   ]
  },
  {
   "cell_type": "markdown",
   "metadata": {},
   "source": [
    "or we can search a circular aperture with a radius given in degress, or in an astropy quantity object:"
   ]
  },
  {
   "cell_type": "code",
   "execution_count": 13,
   "metadata": {},
   "outputs": [],
   "source": [
    "shotlist = survey.get_shotlist(coords, radius=10*u.arcmin)"
   ]
  },
  {
   "cell_type": "code",
   "execution_count": 14,
   "metadata": {},
   "outputs": [
    {
     "data": {
      "text/plain": [
       "array([20171119003, 20180106004, 20181003009, 20181107014, 20191222012])"
      ]
     },
     "execution_count": 14,
     "metadata": {},
     "output_type": "execute_result"
    }
   ],
   "source": [
    "shotlist"
   ]
  },
  {
   "cell_type": "markdown",
   "metadata": {},
   "source": [
    "From here a user can take their shotlist and query the position on the Fibers class and see if their region of interest is observed in the survey."
   ]
  },
  {
   "cell_type": "markdown",
   "metadata": {},
   "source": [
    "## Basic querying for the Survey Class"
   ]
  },
  {
   "cell_type": "markdown",
   "metadata": {},
   "source": [
    "The Survey HDF5 itself contains information about the quality of each observation. A user can query different parameters and plot up general shot quantities. For example, we can compare the distribution of throughput values (technically the response at 4540 AA) between the HETDEX spring and HETDEX fall fields:"
   ]
  },
  {
   "cell_type": "markdown",
   "metadata": {},
   "source": [
    "### Example: Plotting up the canonical throughput value at 4540 AA"
   ]
  },
  {
   "cell_type": "code",
   "execution_count": 15,
   "metadata": {},
   "outputs": [],
   "source": [
    "idx_spring = np.where( (survey.field == 'dex-spring') * np.isfinite(survey.response_4540) )"
   ]
  },
  {
   "cell_type": "code",
   "execution_count": 16,
   "metadata": {},
   "outputs": [],
   "source": [
    "idx_fall = np.where( (survey.field == 'dex-fall') * np.isfinite(survey.response_4540))"
   ]
  },
  {
   "cell_type": "code",
   "execution_count": 17,
   "metadata": {},
   "outputs": [
    {
     "data": {
      "text/plain": [
       "<matplotlib.legend.Legend at 0x2af666d07908>"
      ]
     },
     "execution_count": 17,
     "metadata": {},
     "output_type": "execute_result"
    },
    {
     "data": {
      "image/png": "[encoded data removed]",
      "text/plain": [
       "<Figure size 576x432 with 1 Axes>"
      ]
     },
     "metadata": {
      "needs_background": "light"
     },
     "output_type": "display_data"
    }
   ],
   "source": [
    "plt.figure(figsize=(8,6))\n",
    "plt.hist(survey.response_4540[idx_spring], label = 'DEX-Spring')\n",
    "plt.hist(survey.response_4540[idx_fall], label = 'DEX-Fall')\n",
    "plt.xlabel('Throughput at 4540 AA')\n",
    "plt.ylabel('N OBS')\n",
    "plt.legend()"
   ]
  },
  {
   "cell_type": "markdown",
   "metadata": {},
   "source": [
    "### Example: Plotting up the locations of all cosmos shots:"
   ]
  },
  {
   "cell_type": "code",
   "execution_count": 18,
   "metadata": {},
   "outputs": [],
   "source": [
    "idx_cosmos = np.where(survey.field == 'cosmos')"
   ]
  },
  {
   "cell_type": "code",
   "execution_count": 19,
   "metadata": {},
   "outputs": [
    {
     "data": {
      "image/png": "[encoded data removed]",
      "text/plain": [
       "<Figure size 576x432 with 1 Axes>"
      ]
     },
     "metadata": {
      "needs_background": "light"
     },
     "output_type": "display_data"
    }
   ],
   "source": [
    "plt.figure(figsize=(8,6))\n",
    "plt.scatter(survey.ra[idx_cosmos],survey.dec[idx_cosmos])\n",
    "plt.xlabel('RA (deg)')\n",
    "plt.ylabel('DEC (deg)')\n",
    "plt.show()"
   ]
  },
  {
   "cell_type": "markdown",
   "metadata": {},
   "source": [
    "# Accessing the Master Fiber Index Table:"
   ]
  },
  {
   "cell_type": "markdown",
   "metadata": {},
   "source": [
    "New to HDR2 is a Master Fiber Index table for all Fibers in the HDR2 survey. This file can be accessed through the FiberIndex class:"
   ]
  },
  {
   "cell_type": "code",
   "execution_count": 20,
   "metadata": {},
   "outputs": [],
   "source": [
    "FibIndex = FiberIndex()"
   ]
  },
  {
   "cell_type": "code",
   "execution_count": 21,
   "metadata": {},
   "outputs": [],
   "source": [
    "coords = SkyCoord(11.628530 * u.deg, 0.081790 * u.deg, frame='icrs')"
   ]
  },
  {
   "cell_type": "code",
   "execution_count": 22,
   "metadata": {},
   "outputs": [
    {
     "data": {
      "text/plain": [
       "11.62853"
      ]
     },
     "execution_count": 22,
     "metadata": {},
     "output_type": "execute_result"
    }
   ],
   "source": [
    "coords.ra.deg"
   ]
  },
  {
   "cell_type": "markdown",
   "metadata": {},
   "source": [
    "You can read in a circular region of the Fiber Index table using the query_region() function:"
   ]
  },
  {
   "cell_type": "code",
   "execution_count": 23,
   "metadata": {},
   "outputs": [],
   "source": [
    "fiber_table_region = FibIndex.query_region(coords, radius=3.*u.arcsec, shotid=None)"
   ]
  },
  {
   "cell_type": "code",
   "execution_count": 24,
   "metadata": {},
   "outputs": [
    {
     "data": {
      "text/html": [
       "<i>Table length=15</i>\n",
       "<table id=\"table47237776459984\" class=\"table-striped table-bordered table-condensed\">\n",
       "<thead><tr><th>multiframe</th><th>ra</th><th>dec</th><th>fiber_id</th><th>healpix</th><th>amp</th><th>date</th><th>datevobs</th><th>expnum</th><th>fibidx</th><th>fibnum</th><th>fpx</th><th>fpy</th><th>ifuid</th><th>ifuslot</th><th>ifux</th><th>ifuy</th><th>shotid</th><th>specid</th></tr></thead>\n",
       "<thead><tr><th>bytes20</th><th>float32</th><th>float32</th><th>bytes38</th><th>int64</th><th>bytes2</th><th>int64</th><th>bytes12</th><th>int32</th><th>int32</th><th>int32</th><th>float32</th><th>float32</th><th>bytes3</th><th>bytes3</th><th>float32</th><th>float32</th><th>int64</th><th>bytes3</th></tr></thead>\n",
       "<tr><td>multi_308_047_024_LL</td><td>11.628618</td><td>0.0810092</td><td>20181003009_3_multi_308_047_024_LL_098</td><td>6433345674</td><td>LL</td><td>20181003</td><td>20181003v009</td><td>3</td><td>97</td><td>98</td><td>-249.045</td><td>-160.04</td><td>024</td><td>047</td><td>0.0</td><td>-11.02</td><td>20181003009</td><td>308</td></tr>\n",
       "<tr><td>multi_308_047_024_LL</td><td>11.628314</td><td>0.0816458</td><td>20181003009_3_multi_308_047_024_LL_099</td><td>6433214601</td><td>LL</td><td>20181003</td><td>20181003v009</td><td>3</td><td>98</td><td>99</td><td>-251.585</td><td>-160.04</td><td>024</td><td>047</td><td>-2.54</td><td>-11.02</td><td>20181003009</td><td>308</td></tr>\n",
       "<tr><td>multi_308_047_024_LL</td><td>11.62801</td><td>0.0822824</td><td>20181003009_3_multi_308_047_024_LL_100</td><td>6433214601</td><td>LL</td><td>20181003</td><td>20181003v009</td><td>3</td><td>99</td><td>100</td><td>-254.125</td><td>-160.04</td><td>024</td><td>047</td><td>-5.08</td><td>-11.02</td><td>20181003009</td><td>308</td></tr>\n",
       "<tr><td>multi_308_047_024_LU</td><td>11.629018</td><td>0.0815909</td><td>20181003009_3_multi_308_047_024_LU_006</td><td>6433214601</td><td>LU</td><td>20181003</td><td>20181003v009</td><td>3</td><td>5</td><td>6</td><td>-250.315</td><td>-162.24</td><td>024</td><td>047</td><td>-1.27</td><td>-13.22</td><td>20181003009</td><td>308</td></tr>\n",
       "<tr><td>multi_308_047_024_LU</td><td>11.628714</td><td>0.0822275</td><td>20181003009_3_multi_308_047_024_LU_007</td><td>6433083530</td><td>LU</td><td>20181003</td><td>20181003v009</td><td>3</td><td>6</td><td>7</td><td>-252.855</td><td>-162.24</td><td>024</td><td>047</td><td>-3.81</td><td>-13.22</td><td>20181003009</td><td>308</td></tr>\n",
       "<tr><td>multi_308_047_024_LL</td><td>11.627942</td><td>0.0814511</td><td>20181003009_1_multi_308_047_024_LL_079</td><td>6433214601</td><td>LL</td><td>20181003</td><td>20181003v009</td><td>1</td><td>78</td><td>79</td><td>-251.53</td><td>-158.53</td><td>024</td><td>047</td><td>-1.27</td><td>-8.81</td><td>20181003009</td><td>308</td></tr>\n",
       "<tr><td>multi_308_047_024_LL</td><td>11.628648</td><td>0.0813975</td><td>20181003009_1_multi_308_047_024_LL_098</td><td>6433214601</td><td>LL</td><td>20181003</td><td>20181003v009</td><td>1</td><td>97</td><td>98</td><td>-250.26</td><td>-160.74</td><td>024</td><td>047</td><td>0.0</td><td>-11.02</td><td>20181003009</td><td>308</td></tr>\n",
       "<tr><td>multi_308_047_024_LL</td><td>11.628344</td><td>0.0820341</td><td>20181003009_1_multi_308_047_024_LL_099</td><td>6433214601</td><td>LL</td><td>20181003</td><td>20181003v009</td><td>1</td><td>98</td><td>99</td><td>-252.8</td><td>-160.74</td><td>024</td><td>047</td><td>-2.54</td><td>-11.02</td><td>20181003009</td><td>308</td></tr>\n",
       "<tr><td>multi_308_047_024_LU</td><td>11.629047</td><td>0.0819793</td><td>20181003009_1_multi_308_047_024_LU_006</td><td>6433083530</td><td>LU</td><td>20181003</td><td>20181003v009</td><td>1</td><td>5</td><td>6</td><td>-251.53</td><td>-162.94</td><td>024</td><td>047</td><td>-1.27</td><td>-13.22</td><td>20181003009</td><td>308</td></tr>\n",
       "<tr><td>multi_308_047_024_LL</td><td>11.628263</td><td>0.0812304</td><td>20181003009_2_multi_308_047_024_LL_079</td><td>6433214601</td><td>LL</td><td>20181003</td><td>20181003v009</td><td>2</td><td>78</td><td>79</td><td>-250.315</td><td>-159.23</td><td>024</td><td>047</td><td>-1.27</td><td>-8.81</td><td>20181003009</td><td>308</td></tr>\n",
       "<tr><td>multi_308_047_024_LL</td><td>11.627959</td><td>0.081867</td><td>20181003009_2_multi_308_047_024_LL_080</td><td>6433214601</td><td>LL</td><td>20181003</td><td>20181003v009</td><td>2</td><td>79</td><td>80</td><td>-252.855</td><td>-159.23</td><td>024</td><td>047</td><td>-3.81</td><td>-8.81</td><td>20181003009</td><td>308</td></tr>\n",
       "<tr><td>multi_308_047_024_LL</td><td>11.628969</td><td>0.0811768</td><td>20181003009_2_multi_308_047_024_LL_098</td><td>6433345674</td><td>LL</td><td>20181003</td><td>20181003v009</td><td>2</td><td>97</td><td>98</td><td>-249.045</td><td>-161.44</td><td>024</td><td>047</td><td>0.0</td><td>-11.02</td><td>20181003009</td><td>308</td></tr>\n",
       "<tr><td>multi_308_047_024_LL</td><td>11.628665</td><td>0.0818134</td><td>20181003009_2_multi_308_047_024_LL_099</td><td>6433214601</td><td>LL</td><td>20181003</td><td>20181003v009</td><td>2</td><td>98</td><td>99</td><td>-251.585</td><td>-161.44</td><td>024</td><td>047</td><td>-2.54</td><td>-11.02</td><td>20181003009</td><td>308</td></tr>\n",
       "<tr><td>multi_308_047_024_LL</td><td>11.628361</td><td>0.08245</td><td>20181003009_2_multi_308_047_024_LL_100</td><td>6433083530</td><td>LL</td><td>20181003</td><td>20181003v009</td><td>2</td><td>99</td><td>100</td><td>-254.125</td><td>-161.44</td><td>024</td><td>047</td><td>-5.08</td><td>-11.02</td><td>20181003009</td><td>308</td></tr>\n",
       "<tr><td>multi_308_047_024_LU</td><td>11.629065</td><td>0.0823952</td><td>20181003009_2_multi_308_047_024_LU_007</td><td>6433083530</td><td>LU</td><td>20181003</td><td>20181003v009</td><td>2</td><td>6</td><td>7</td><td>-252.855</td><td>-163.64</td><td>024</td><td>047</td><td>-3.81</td><td>-13.22</td><td>20181003009</td><td>308</td></tr>\n",
       "</table>"
      ],
      "text/plain": [
       "<Table length=15>\n",
       "     multiframe          ra       dec    ...   ifuy     shotid   specid\n",
       "      bytes20         float32   float32  ... float32    int64    bytes3\n",
       "-------------------- --------- --------- ... ------- ----------- ------\n",
       "multi_308_047_024_LL 11.628618 0.0810092 ...  -11.02 20181003009    308\n",
       "multi_308_047_024_LL 11.628314 0.0816458 ...  -11.02 20181003009    308\n",
       "multi_308_047_024_LL  11.62801 0.0822824 ...  -11.02 20181003009    308\n",
       "multi_308_047_024_LU 11.629018 0.0815909 ...  -13.22 20181003009    308\n",
       "multi_308_047_024_LU 11.628714 0.0822275 ...  -13.22 20181003009    308\n",
       "multi_308_047_024_LL 11.627942 0.0814511 ...   -8.81 20181003009    308\n",
       "multi_308_047_024_LL 11.628648 0.0813975 ...  -11.02 20181003009    308\n",
       "multi_308_047_024_LL 11.628344 0.0820341 ...  -11.02 20181003009    308\n",
       "multi_308_047_024_LU 11.629047 0.0819793 ...  -13.22 20181003009    308\n",
       "multi_308_047_024_LL 11.628263 0.0812304 ...   -8.81 20181003009    308\n",
       "multi_308_047_024_LL 11.627959  0.081867 ...   -8.81 20181003009    308\n",
       "multi_308_047_024_LL 11.628969 0.0811768 ...  -11.02 20181003009    308\n",
       "multi_308_047_024_LL 11.628665 0.0818134 ...  -11.02 20181003009    308\n",
       "multi_308_047_024_LL 11.628361   0.08245 ...  -11.02 20181003009    308\n",
       "multi_308_047_024_LU 11.629065 0.0823952 ...  -13.22 20181003009    308"
      ]
     },
     "execution_count": 24,
     "metadata": {},
     "output_type": "execute_result"
    }
   ],
   "source": [
    "fiber_table_region"
   ]
  },
  {
   "cell_type": "markdown",
   "metadata": {},
   "source": [
    "Note: you have the option to request a specific shotid (default is None) or whether to return an astropy table format or not. Default is to return an astropy table."
   ]
  },
  {
   "cell_type": "code",
   "execution_count": 28,
   "metadata": {},
   "outputs": [],
   "source": [
    "healpix_table = FibIndex.get_fib_from_hp(6433214603)"
   ]
  },
  {
   "cell_type": "code",
   "execution_count": 27,
   "metadata": {},
   "outputs": [
    {
     "data": {
      "text/html": [
       "<i>Table length=23</i>\n",
       "<table id=\"table47312443012712\" class=\"table-striped table-bordered table-condensed\">\n",
       "<thead><tr><th>multiframe</th><th>ra</th><th>dec</th><th>fiber_id</th><th>healpix</th><th>amp</th><th>expnum</th><th>fibidx</th><th>fibnum</th><th>fpx</th><th>fpy</th><th>ifuid</th><th>ifuslot</th><th>ifux</th><th>ifuy</th><th>shotid</th><th>specid</th></tr></thead>\n",
       "<thead><tr><th>bytes20</th><th>float32</th><th>float32</th><th>bytes38</th><th>int64</th><th>bytes2</th><th>int32</th><th>int32</th><th>int32</th><th>float32</th><th>float32</th><th>bytes3</th><th>bytes3</th><th>float32</th><th>float32</th><th>int64</th><th>bytes3</th></tr></thead>\n",
       "<tr><td>multi_308_047_024_LU</td><td>11.629352</td><td>0.0813427</td><td>20181003009_1_multi_308_047_024_LU_005</td><td>6433214602</td><td>LU</td><td>1</td><td>4</td><td>5</td><td>-248.99</td><td>-162.94</td><td>024</td><td>047</td><td>1.27</td><td>-13.22</td><td>2018100300</td><td>308</td></tr>\n",
       "<tr><td>multi_308_047_024_LU</td><td>11.63036</td><td>0.0806513</td><td>20181003009_1_multi_308_047_024_LU_023</td><td>6433214602</td><td>LU</td><td>1</td><td>22</td><td>23</td><td>-245.18</td><td>-165.14</td><td>024</td><td>047</td><td>5.08</td><td>-15.42</td><td>2018100300</td><td>308</td></tr>\n",
       "<tr><td>multi_308_047_024_LU</td><td>11.630055</td><td>0.0812879</td><td>20181003009_1_multi_308_047_024_LU_024</td><td>6433214602</td><td>LU</td><td>1</td><td>23</td><td>24</td><td>-247.72</td><td>-165.14</td><td>024</td><td>047</td><td>2.54</td><td>-15.42</td><td>2018100300</td><td>308</td></tr>\n",
       "<tr><td>multi_308_047_024_LU</td><td>11.629751</td><td>0.0819245</td><td>20181003009_1_multi_308_047_024_LU_025</td><td>6433214602</td><td>LU</td><td>1</td><td>24</td><td>25</td><td>-250.26</td><td>-165.14</td><td>024</td><td>047</td><td>0.0</td><td>-15.42</td><td>2018100300</td><td>308</td></tr>\n",
       "<tr><td>multi_308_047_024_LU</td><td>11.630761</td><td>0.0812343</td><td>20181003009_1_multi_308_047_024_LU_043</td><td>6433214602</td><td>LU</td><td>1</td><td>42</td><td>43</td><td>-246.45</td><td>-167.35</td><td>024</td><td>047</td><td>3.81</td><td>-17.63</td><td>2018100300</td><td>308</td></tr>\n",
       "<tr><td>multi_308_047_024_LU</td><td>11.630457</td><td>0.0818709</td><td>20181003009_1_multi_308_047_024_LU_044</td><td>6433214602</td><td>LU</td><td>1</td><td>43</td><td>44</td><td>-248.99</td><td>-167.35</td><td>024</td><td>047</td><td>1.27</td><td>-17.63</td><td>2018100300</td><td>308</td></tr>\n",
       "<tr><td>multi_308_047_024_LU</td><td>11.630153</td><td>0.0825075</td><td>20181003009_1_multi_308_047_024_LU_045</td><td>6433214602</td><td>LU</td><td>1</td><td>44</td><td>45</td><td>-251.53</td><td>-167.35</td><td>024</td><td>047</td><td>-1.27</td><td>-17.63</td><td>2018100300</td><td>308</td></tr>\n",
       "<tr><td>multi_308_047_024_LU</td><td>11.631161</td><td>0.0818161</td><td>20181003009_1_multi_308_047_024_LU_063</td><td>6433214602</td><td>LU</td><td>1</td><td>62</td><td>63</td><td>-247.72</td><td>-169.55</td><td>024</td><td>047</td><td>2.54</td><td>-19.83</td><td>2018100300</td><td>308</td></tr>\n",
       "<tr><td>multi_308_047_024_LU</td><td>11.630025</td><td>0.0808995</td><td>20181003009_3_multi_308_047_024_LU_024</td><td>6433214602</td><td>LU</td><td>3</td><td>23</td><td>24</td><td>-246.505</td><td>-164.44</td><td>024</td><td>047</td><td>2.54</td><td>-15.42</td><td>2018100300</td><td>308</td></tr>\n",
       "<tr><td>multi_308_047_024_LU</td><td>11.629721</td><td>0.0815361</td><td>20181003009_3_multi_308_047_024_LU_025</td><td>6433214602</td><td>LU</td><td>3</td><td>24</td><td>25</td><td>-249.045</td><td>-164.44</td><td>024</td><td>047</td><td>0.0</td><td>-15.42</td><td>2018100300</td><td>308</td></tr>\n",
       "<tr><td>...</td><td>...</td><td>...</td><td>...</td><td>...</td><td>...</td><td>...</td><td>...</td><td>...</td><td>...</td><td>...</td><td>...</td><td>...</td><td>...</td><td>...</td><td>...</td><td>...</td></tr>\n",
       "<tr><td>multi_308_047_024_LU</td><td>11.63113</td><td>0.0814277</td><td>20181003009_3_multi_308_047_024_LU_063</td><td>6433214602</td><td>LU</td><td>3</td><td>62</td><td>63</td><td>-246.505</td><td>-168.85</td><td>024</td><td>047</td><td>2.54</td><td>-19.83</td><td>2018100300</td><td>308</td></tr>\n",
       "<tr><td>multi_308_047_024_LU</td><td>11.630826</td><td>0.0820643</td><td>20181003009_3_multi_308_047_024_LU_064</td><td>6433214602</td><td>LU</td><td>3</td><td>63</td><td>64</td><td>-249.045</td><td>-168.85</td><td>024</td><td>047</td><td>0.0</td><td>-19.83</td><td>2018100300</td><td>308</td></tr>\n",
       "<tr><td>multi_308_047_024_LU</td><td>11.629673</td><td>0.081122</td><td>20181003009_2_multi_308_047_024_LU_005</td><td>6433214602</td><td>LU</td><td>2</td><td>4</td><td>5</td><td>-247.775</td><td>-163.64</td><td>024</td><td>047</td><td>1.27</td><td>-13.22</td><td>2018100300</td><td>308</td></tr>\n",
       "<tr><td>multi_308_047_024_LU</td><td>11.629369</td><td>0.0817586</td><td>20181003009_2_multi_308_047_024_LU_006</td><td>6433214602</td><td>LU</td><td>2</td><td>5</td><td>6</td><td>-250.315</td><td>-163.64</td><td>024</td><td>047</td><td>-1.27</td><td>-13.22</td><td>2018100300</td><td>308</td></tr>\n",
       "<tr><td>multi_308_047_024_LU</td><td>11.630376</td><td>0.0810672</td><td>20181003009_2_multi_308_047_024_LU_024</td><td>6433214602</td><td>LU</td><td>2</td><td>23</td><td>24</td><td>-246.505</td><td>-165.84</td><td>024</td><td>047</td><td>2.54</td><td>-15.42</td><td>2018100300</td><td>308</td></tr>\n",
       "<tr><td>multi_308_047_024_LU</td><td>11.630072</td><td>0.0817038</td><td>20181003009_2_multi_308_047_024_LU_025</td><td>6433214602</td><td>LU</td><td>2</td><td>24</td><td>25</td><td>-249.045</td><td>-165.84</td><td>024</td><td>047</td><td>0.0</td><td>-15.42</td><td>2018100300</td><td>308</td></tr>\n",
       "<tr><td>multi_308_047_024_LU</td><td>11.631083</td><td>0.0810136</td><td>20181003009_2_multi_308_047_024_LU_043</td><td>6433214602</td><td>LU</td><td>2</td><td>42</td><td>43</td><td>-245.235</td><td>-168.05</td><td>024</td><td>047</td><td>3.81</td><td>-17.63</td><td>2018100300</td><td>308</td></tr>\n",
       "<tr><td>multi_308_047_024_LU</td><td>11.630778</td><td>0.0816502</td><td>20181003009_2_multi_308_047_024_LU_044</td><td>6433214602</td><td>LU</td><td>2</td><td>43</td><td>44</td><td>-247.775</td><td>-168.05</td><td>024</td><td>047</td><td>1.27</td><td>-17.63</td><td>2018100300</td><td>308</td></tr>\n",
       "<tr><td>multi_308_047_024_LU</td><td>11.630474</td><td>0.0822868</td><td>20181003009_2_multi_308_047_024_LU_045</td><td>6433214602</td><td>LU</td><td>2</td><td>44</td><td>45</td><td>-250.315</td><td>-168.05</td><td>024</td><td>047</td><td>-1.27</td><td>-17.63</td><td>2018100300</td><td>308</td></tr>\n",
       "<tr><td>multi_308_047_024_LU</td><td>11.631481</td><td>0.0815954</td><td>20181003009_2_multi_308_047_024_LU_063</td><td>6433214602</td><td>LU</td><td>2</td><td>62</td><td>63</td><td>-246.505</td><td>-170.25</td><td>024</td><td>047</td><td>2.54</td><td>-19.83</td><td>2018100300</td><td>308</td></tr>\n",
       "</table>"
      ],
      "text/plain": [
       "<Table length=23>\n",
       "     multiframe          ra       dec    ...   ifuy    shotid   specid\n",
       "      bytes20         float32   float32  ... float32   int64    bytes3\n",
       "-------------------- --------- --------- ... ------- ---------- ------\n",
       "multi_308_047_024_LU 11.629352 0.0813427 ...  -13.22 2018100300    308\n",
       "multi_308_047_024_LU  11.63036 0.0806513 ...  -15.42 2018100300    308\n",
       "multi_308_047_024_LU 11.630055 0.0812879 ...  -15.42 2018100300    308\n",
       "multi_308_047_024_LU 11.629751 0.0819245 ...  -15.42 2018100300    308\n",
       "multi_308_047_024_LU 11.630761 0.0812343 ...  -17.63 2018100300    308\n",
       "multi_308_047_024_LU 11.630457 0.0818709 ...  -17.63 2018100300    308\n",
       "multi_308_047_024_LU 11.630153 0.0825075 ...  -17.63 2018100300    308\n",
       "multi_308_047_024_LU 11.631161 0.0818161 ...  -19.83 2018100300    308\n",
       "multi_308_047_024_LU 11.630025 0.0808995 ...  -15.42 2018100300    308\n",
       "multi_308_047_024_LU 11.629721 0.0815361 ...  -15.42 2018100300    308\n",
       "                 ...       ...       ... ...     ...        ...    ...\n",
       "multi_308_047_024_LU  11.63113 0.0814277 ...  -19.83 2018100300    308\n",
       "multi_308_047_024_LU 11.630826 0.0820643 ...  -19.83 2018100300    308\n",
       "multi_308_047_024_LU 11.629673  0.081122 ...  -13.22 2018100300    308\n",
       "multi_308_047_024_LU 11.629369 0.0817586 ...  -13.22 2018100300    308\n",
       "multi_308_047_024_LU 11.630376 0.0810672 ...  -15.42 2018100300    308\n",
       "multi_308_047_024_LU 11.630072 0.0817038 ...  -15.42 2018100300    308\n",
       "multi_308_047_024_LU 11.631083 0.0810136 ...  -17.63 2018100300    308\n",
       "multi_308_047_024_LU 11.630778 0.0816502 ...  -17.63 2018100300    308\n",
       "multi_308_047_024_LU 11.630474 0.0822868 ...  -17.63 2018100300    308\n",
       "multi_308_047_024_LU 11.631481 0.0815954 ...  -19.83 2018100300    308"
      ]
     },
     "execution_count": 27,
     "metadata": {},
     "output_type": "execute_result"
    }
   ],
   "source": [
    "healpix_table"
   ]
  },
  {
   "cell_type": "code",
   "execution_count": 29,
   "metadata": {},
   "outputs": [],
   "source": [
    "healpix = FibIndex.hdfile.root.FiberIndex.cols.healpix[:]"
   ]
  },
  {
   "cell_type": "code",
   "execution_count": 32,
   "metadata": {},
   "outputs": [
    {
     "data": {
      "text/plain": [
       "130219289"
      ]
     },
     "execution_count": 32,
     "metadata": {},
     "output_type": "execute_result"
    }
   ],
   "source": [
    "np.size(np.unique(healpix))"
   ]
  },
  {
   "cell_type": "markdown",
   "metadata": {},
   "source": [
    "Other access should be done directly through pytables, for example. The table is optimized for querying on 'ra', 'fiber_id' and 'healpix' integer."
   ]
  },
  {
   "cell_type": "code",
   "execution_count": 28,
   "metadata": {},
   "outputs": [
    {
     "data": {
      "text/html": [
       "<i>Table length=1</i>\n",
       "<table id=\"table47773438879448\" class=\"table-striped table-bordered table-condensed\">\n",
       "<thead><tr><th>multiframe</th><th>ra</th><th>dec</th><th>fiber_id</th><th>healpix</th><th>amp</th><th>expnum</th><th>fibidx</th><th>fibnum</th><th>fpx</th><th>fpy</th><th>ifuid</th><th>ifuslot</th><th>ifux</th><th>ifuy</th><th>shotid</th><th>specid</th></tr></thead>\n",
       "<thead><tr><th>bytes20</th><th>float32</th><th>float32</th><th>bytes38</th><th>int64</th><th>bytes2</th><th>int32</th><th>int32</th><th>int32</th><th>float32</th><th>float32</th><th>bytes3</th><th>bytes3</th><th>float32</th><th>float32</th><th>int64</th><th>bytes3</th></tr></thead>\n",
       "<tr><td>multi_308_047_024_LL</td><td>11.627959</td><td>0.081867</td><td>20181003009_2_multi_308_047_024_LL_080</td><td>411727070284</td><td>LL</td><td>2</td><td>79</td><td>80</td><td>-252.855</td><td>-159.23</td><td>024</td><td>047</td><td>-3.81</td><td>-8.81</td><td>2018100300</td><td>308</td></tr>\n",
       "</table>"
      ],
      "text/plain": [
       "<Table length=1>\n",
       "     multiframe          ra      dec    ...   ifuy    shotid   specid\n",
       "      bytes20         float32  float32  ... float32   int64    bytes3\n",
       "-------------------- --------- -------- ... ------- ---------- ------\n",
       "multi_308_047_024_LL 11.627959 0.081867 ...   -8.81 2018100300    308"
      ]
     },
     "execution_count": 28,
     "metadata": {},
     "output_type": "execute_result"
    }
   ],
   "source": [
    "fiber_id_i =  '20181003009_2_multi_308_047_024_LL_080'\n",
    "fiber_table = FibIndex.hdfile.root.FiberIndex.read_where('fiber_id == fiber_id_i')\n",
    "Table(fiber_table)"
   ]
  },
  {
   "cell_type": "markdown",
   "metadata": {},
   "source": [
    "## Exploring the Survey HDF5 File"
   ]
  },
  {
   "cell_type": "markdown",
   "metadata": {},
   "source": [
    "The hdfile attribute contains the link to the survey HDF5 file. Calling it will show you all the information in the HDF5 file. You may interact with this directly rather than using the Survey class initiation. \n"
   ]
  },
  {
   "cell_type": "code",
   "execution_count": 27,
   "metadata": {},
   "outputs": [
    {
     "data": {
      "text/plain": [
       "File(filename=/data/05350/ecooper/hdr2/survey/survey_hdr2.h5, title='HDR2Survey file ', mode='r', root_uep='/', filters=Filters(complevel=0, shuffle=False, bitshuffle=False, fletcher32=False, least_significant_digit=None))\n",
       "/ (RootGroup) 'HDR2Survey file '\n",
       "/Survey (Table(2489,)) ''\n",
       "  description := {\n",
       "  \"shotid\": Int64Col(shape=(), dflt=0, pos=0),\n",
       "  \"field\": StringCol(itemsize=12, shape=(), dflt=b'', pos=1),\n",
       "  \"objid\": StringCol(itemsize=18, shape=(), dflt=b'', pos=2),\n",
       "  \"date\": Int32Col(shape=(), dflt=0, pos=3),\n",
       "  \"obsid\": Int32Col(shape=(), dflt=0, pos=4),\n",
       "  \"ra\": Float64Col(shape=(), dflt=0.0, pos=5),\n",
       "  \"dec\": Float64Col(shape=(), dflt=0.0, pos=6),\n",
       "  \"pa\": Float64Col(shape=(), dflt=0.0, pos=7),\n",
       "  \"n_ifu\": Int32Col(shape=(), dflt=0, pos=8),\n",
       "  \"fwhm_virus\": Float32Col(shape=(), dflt=0.0, pos=9),\n",
       "  \"fwhm_virus_err\": Float32Col(shape=(), dflt=0.0, pos=10),\n",
       "  \"response_4540\": Float32Col(shape=(), dflt=0.0, pos=11),\n",
       "  \"relflux_virus\": Float32Col(shape=(3,), dflt=0.0, pos=12),\n",
       "  \"ambtemp\": Float32Col(shape=(), dflt=0.0, pos=13),\n",
       "  \"darktime\": Float32Col(shape=(3,), dflt=0.0, pos=14),\n",
       "  \"datevobs\": StringCol(itemsize=12, shape=(), dflt=b'', pos=15),\n",
       "  \"dewpoint\": Float32Col(shape=(), dflt=0.0, pos=16),\n",
       "  \"expnum\": Int32Col(shape=(3,), dflt=0, pos=17),\n",
       "  \"exptime\": Float32Col(shape=(3,), dflt=0.0, pos=18),\n",
       "  \"humidity\": Float32Col(shape=(), dflt=0.0, pos=19),\n",
       "  \"mjd\": Float32Col(shape=(3,), dflt=0.0, pos=20),\n",
       "  \"nstars_fit\": Int32Col(shape=(3,), dflt=0, pos=21),\n",
       "  \"nstars_fit_fwhm\": Int32Col(shape=(), dflt=0, pos=22),\n",
       "  \"obsind\": Int32Col(shape=(), dflt=0, pos=23),\n",
       "  \"pressure\": Float32Col(shape=(), dflt=0.0, pos=24),\n",
       "  \"structaz\": Float32Col(shape=(), dflt=0.0, pos=25),\n",
       "  \"time\": StringCol(itemsize=7, shape=(), dflt=b'', pos=26),\n",
       "  \"trajcdec\": Float32Col(shape=(), dflt=0.0, pos=27),\n",
       "  \"trajcpa\": Float32Col(shape=(), dflt=0.0, pos=28),\n",
       "  \"trajcra\": Float32Col(shape=(), dflt=0.0, pos=29),\n",
       "  \"xditherpos\": Float32Col(shape=(3,), dflt=0.0, pos=30),\n",
       "  \"xoffset\": Float32Col(shape=(3,), dflt=0.0, pos=31),\n",
       "  \"xrms\": Float32Col(shape=(3,), dflt=0.0, pos=32),\n",
       "  \"yditherpos\": Float32Col(shape=(3,), dflt=0.0, pos=33),\n",
       "  \"yoffset\": Float32Col(shape=(3,), dflt=0.0, pos=34),\n",
       "  \"yrms\": Float32Col(shape=(3,), dflt=0.0, pos=35)}\n",
       "  byteorder := 'little'\n",
       "  chunkshape := (226,)"
      ]
     },
     "execution_count": 27,
     "metadata": {},
     "output_type": "execute_result"
    }
   ],
   "source": [
    "survey.hdfile"
   ]
  }
 ],
 "metadata": {
  "kernelspec": {
   "display_name": "Python 3",
   "language": "python",
   "name": "python3"
  },
  "language_info": {
   "codemirror_mode": {
    "name": "ipython",
    "version": 3
   },
   "file_extension": ".py",
   "mimetype": "text/x-python",
   "name": "python",
   "nbconvert_exporter": "python",
   "pygments_lexer": "ipython3",
   "version": "3.7.0"
  }
 },
 "nbformat": 4,
 "nbformat_minor": 1
}
