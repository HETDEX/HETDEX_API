{
 "cells": [
  {
   "cell_type": "markdown",
   "metadata": {},
   "source": [
    "# 01 - Accessing and querying the Survey Class and HDF5 file"
   ]
  },
  {
   "cell_type": "markdown",
   "metadata": {},
   "source": [
    "The survey HDF5 file is a master look up table for each observation made by VIRUS for HETDEX. It can be accessed directly through the HDF5 survey file, or through the Survey class API. The Survey class includes information for the three dither set HETDEX observation. Any quantity related to an individual dither is provided in an array of length three. Fundamental properties of a shot and quality assessment values for seeing (fwhm), astrometry and transparency (response_4540) are tabulated to allow for querying of desired shots. \n",
    "\n",
    "We first introduce the basic API to query the Survey Class by sky coordinates to get a list of shots where fibers are located within that region. Later on in this notebook we show some basic querying of the Survey class and demonstrate a few examples."
   ]
  },
  {
   "cell_type": "markdown",
   "metadata": {},
   "source": [
    "### Initiate the Survey class :"
   ]
  },
  {
   "cell_type": "code",
   "execution_count": 1,
   "metadata": {},
   "outputs": [],
   "source": [
    "import tables as tb\n",
    "import numpy as np\n",
    "import matplotlib.pyplot as plt\n",
    "\n",
    "from astropy.table import Table\n",
    "import astropy.units as u\n",
    "from astropy.coordinates import SkyCoord"
   ]
  },
  {
   "cell_type": "code",
   "execution_count": 2,
   "metadata": {},
   "outputs": [],
   "source": [
    "%run ../survey.py"
   ]
  },
  {
   "cell_type": "code",
   "execution_count": 23,
   "metadata": {},
   "outputs": [],
   "source": [
    "survey = Survey('hdr1')"
   ]
  },
  {
   "cell_type": "markdown",
   "metadata": {},
   "source": [
    "This calls the HDR1 survey class and sets each column in the survey table as an attribute to this object. This is how it looks through an astropy Table object:"
   ]
  },
  {
   "cell_type": "code",
   "execution_count": 4,
   "metadata": {},
   "outputs": [
    {
     "data": {
      "text/html": [
       "&lt;Table length=1899&gt;\n",
       "<table id=\"table4488720528\" class=\"table-striped table-bordered table-condensed\">\n",
       "<thead><tr><th>field</th><th>date</th><th>obsid</th><th>objid</th><th>ra</th><th>dec</th><th>pa</th><th>fwhm</th><th>response_4540</th><th>darktime [3]</th><th>datevobs</th><th>expnum [3]</th><th>exptime [3]</th><th>mjd [3]</th><th>nstars_fit [3]</th><th>shotid</th><th>timestamp [3]</th><th>trajcdec</th><th>trajcpa</th><th>trajcra</th><th>xditherpos [3]</th><th>xoffset [3]</th><th>xrms [3]</th><th>yditherpos [3]</th><th>yoffset [3]</th><th>yrms [3]</th></tr></thead>\n",
       "<thead><tr><th>str12</th><th>int32</th><th>int32</th><th>str18</th><th>float32</th><th>float32</th><th>float32</th><th>float32</th><th>float32</th><th>float32</th><th>str12</th><th>int32</th><th>float32</th><th>float32</th><th>int32</th><th>int64</th><th>str18</th><th>float32</th><th>float32</th><th>float32</th><th>float32</th><th>float32</th><th>float32</th><th>float32</th><th>float32</th><th>float32</th></tr></thead>\n",
       "<tr><td>cosmos</td><td>20170103</td><td>2</td><td>COS10_W_000_W</td><td>149.88757</td><td>1.88533</td><td>212.3</td><td>nan</td><td>0.0596</td><td>395.0349 .. 395.08752</td><td>20170103v002</td><td>1 .. 3</td><td>365.29913 .. 364.9993</td><td>57756.465 .. 57756.473</td><td>7 .. 7</td><td>20170103002</td><td>20170103T110904.9 .. 20170103T112218.8</td><td>1.886055</td><td>212.19806</td><td>9.9924</td><td>0.0 .. 0.0</td><td>-2e-05 .. 0.0</td><td>0.22079 .. 0.24027</td><td>0.0 .. 0.0</td><td>-1e-05 .. -0.0</td><td>0.33429 .. 0.17898</td></tr>\n",
       "<tr><td>cosmos</td><td>20170103</td><td>3</td><td>COS64_W</td><td>150.48582</td><td>2.48316</td><td>213.83</td><td>2.002</td><td>nan</td><td>394.85974 .. 395.2984</td><td>20170103v003</td><td>1 .. 3</td><td>364.89917 .. 365.1494</td><td>57756.484 .. 57756.492</td><td>4 .. 3</td><td>20170103003</td><td>20170103T113542.7 .. 20170103T114854.4</td><td>2.483722</td><td>213.73126</td><td>10.0323</td><td>0.0 .. 0.0</td><td>0.0 .. 1e-05</td><td>0.06435 .. 0.10983</td><td>0.0 .. 0.0</td><td>-0.0 .. 0.0</td><td>0.35298 .. 0.29886</td></tr>\n",
       "<tr><td>cosmos</td><td>20170105</td><td>8</td><td>COS57_E</td><td>149.77142</td><td>2.59229</td><td>146.1</td><td>2.443</td><td>nan</td><td>392.88577 .. 395.38724</td><td>20170105v008</td><td>1 .. 3</td><td>362.6497 .. 365.34888</td><td>57758.336 .. 57758.348</td><td>4 .. 5</td><td>20170105008</td><td>20170105T080628.7 .. 20170105T081941.3</td><td>2.591758</td><td>146.0002</td><td>9.9848</td><td>0.0 .. 0.0</td><td>0.0 .. -0.0</td><td>0.0939 .. 0.41456</td><td>0.0 .. 0.0</td><td>-0.0 .. -0.0</td><td>0.20898 .. 0.03161</td></tr>\n",
       "<tr><td>cosmos</td><td>20170105</td><td>9</td><td>COS19_E_000_E</td><td>149.97287</td><td>2.09132</td><td>147.37</td><td>2.75</td><td>nan</td><td>395.13513 .. 394.24307</td><td>20170105v009</td><td>1 .. 3</td><td>365.0495 .. 362.64868</td><td>57758.36 .. 57758.367</td><td>5 .. 4</td><td>20170105009</td><td>20170105T083805.3 .. 20170105T085118.6</td><td>2.090136</td><td>147.27345</td><td>9.9981</td><td>0.0 .. 0.0</td><td>2e-05 .. -0.0</td><td>0.40278 .. 0.12945</td><td>0.0 .. 0.0</td><td>3e-05 .. 0.00019</td><td>0.37773 .. 0.3977</td></tr>\n",
       "<tr><td>cosmos</td><td>20170105</td><td>10</td><td>COS1_W</td><td>149.78825</td><td>1.78598</td><td>212.03</td><td>2.006</td><td>nan</td><td>395.5891 .. 394.662</td><td>20170105v010</td><td>1 .. 3</td><td>365.14957 .. 364.95065</td><td>57758.46 .. 57758.47</td><td>6 .. 7</td><td>20170105010</td><td>20170105T110147.7 .. 20170105T111502.4</td><td>1.786439</td><td>211.93375</td><td>9.9858</td><td>0.0 .. 0.0</td><td>-0.0 .. 0.0</td><td>0.47294 .. 0.65877</td><td>0.0 .. 0.0</td><td>-0.0 .. 0.0</td><td>0.39384 .. 0.50996</td></tr>\n",
       "<tr><td>cosmos</td><td>20170105</td><td>11</td><td>COS14_W</td><td>150.28783</td><td>1.88586</td><td>212.29</td><td>2.541</td><td>nan</td><td>395.08527 .. 395.28873</td><td>20170105v011</td><td>1 .. 3</td><td>365.2006 .. 365.0496</td><td>57758.48 .. 57758.49</td><td>5 .. 4</td><td>20170105011</td><td>20170105T113048.4 .. 20170105T114400.1</td><td>1.886055</td><td>212.19548</td><td>10.0191</td><td>0.0 .. 0.0</td><td>0.0 .. 0.0</td><td>0.26126 .. 0.14013</td><td>0.0 .. 0.0</td><td>-0.0 .. -0.0</td><td>0.54034 .. 0.35707</td></tr>\n",
       "<tr><td>cosmos</td><td>20170106</td><td>1</td><td>COS18_E</td><td>149.8724</td><td>2.09077</td><td>147.38</td><td>2.415</td><td>nan</td><td>395.43484 .. 395.2338</td><td>20170106v001</td><td>1 .. 3</td><td>365.35022 .. 365.299</td><td>57759.336 .. 57759.344</td><td>4 .. 5</td><td>20170106001</td><td>20170106T080409.9 .. 20170106T081721.6</td><td>2.090136</td><td>147.27481</td><td>9.9914</td><td>0.0 .. 0.0</td><td>-0.0 .. -1e-05</td><td>0.63825 .. 0.59467</td><td>0.0 .. 0.0</td><td>-1e-05 .. 1e-05</td><td>0.27743 .. 0.40041</td></tr>\n",
       "<tr><td>cosmos</td><td>20170106</td><td>2</td><td>COS10_E</td><td>149.8724</td><td>1.9904</td><td>147.64</td><td>2.411</td><td>nan</td><td>393.13885 .. 394.58774</td><td>20170106v002</td><td>1 .. 3</td><td>363.09958 .. 364.94952</td><td>57759.355 .. 57759.367</td><td>5 .. 5</td><td>20170106002</td><td>20170106T083407.8 .. 20170106T084720.0</td><td>1.989807</td><td>147.53558</td><td>9.9914</td><td>0.0 .. 0.0</td><td>0.0 .. 0.0</td><td>0.11002 .. 0.56246</td><td>0.0 .. 0.0</td><td>0.0 .. -0.0</td><td>0.30044 .. 0.2474</td></tr>\n",
       "<tr><td>cosmos</td><td>20170106</td><td>3</td><td>COS19_W</td><td>149.98827</td><td>1.98563</td><td>212.56</td><td>2.764</td><td>nan</td><td>396.4476 .. 394.98724</td><td>20170106v003</td><td>1 .. 3</td><td>364.99957 .. 365.25012</td><td>57759.477 .. 57759.484</td><td>4 .. 4</td><td>20170106003</td><td>20170106T112617.4 .. 20170106T113932.3</td><td>1.98525</td><td>212.45705</td><td>9.9992</td><td>0.0 .. 0.0</td><td>-0.0 .. -0.0</td><td>0.17696 .. 0.12486</td><td>0.0 .. 0.0</td><td>0.0 .. -0.0</td><td>0.30677 .. 0.4222</td></tr>\n",
       "<tr><td>cosmos</td><td>20170107</td><td>12</td><td>COS11_E</td><td>149.97247</td><td>1.99084</td><td>147.64</td><td>3.122</td><td>nan</td><td>397.21362 .. 395.06284</td><td>20170107v012</td><td>1 .. 3</td><td>364.89847 .. 365.2996</td><td>57760.336 .. 57760.348</td><td>2 .. 3</td><td>20170107012</td><td>20170107T080542.1 .. 20170107T081901.0</td><td>1.989807</td><td>147.5355</td><td>9.9981</td><td>0.0 .. 0.0</td><td>-0.0 .. 0.0</td><td>0.01989 .. 0.00879</td><td>0.0 .. 0.0</td><td>0.00034 .. -0.0</td><td>0.6705 .. 0.21377</td></tr>\n",
       "<tr><td>...</td><td>...</td><td>...</td><td>...</td><td>...</td><td>...</td><td>...</td><td>...</td><td>...</td><td>...</td><td>...</td><td>...</td><td>...</td><td>...</td><td>...</td><td>...</td><td>...</td><td>...</td><td>...</td><td>...</td><td>...</td><td>...</td><td>...</td><td>...</td><td>...</td><td>...</td></tr>\n",
       "<tr><td>dex-spring</td><td>20190208</td><td>35</td><td>DEXsp1471</td><td>163.16998</td><td>51.628464</td><td>293.33</td><td>2.4</td><td>0.1704</td><td>522.9846 .. 524.7512</td><td>20190208v035</td><td>1 .. 3</td><td>486.95193 .. 488.2501</td><td>58522.457 .. 58522.47</td><td>19 .. 22</td><td>20190208035</td><td>20190208T105559.9 .. 20190208T111352.9</td><td>51.628082</td><td>291.89062</td><td>10.877942</td><td>0.0 .. 0.0</td><td>-2e-05 .. 1e-05</td><td>0.66667 .. 0.8057</td><td>0.0 .. 0.0</td><td>0.0 .. -0.0</td><td>0.17553 .. 0.36211</td></tr>\n",
       "<tr><td>dex-spring</td><td>20190208</td><td>36</td><td>DEXsp1489</td><td>170.32014</td><td>51.628315</td><td>293.33</td><td>2.291</td><td>0.0707</td><td>405.87393 .. 235.20715</td><td>20190208v036</td><td>1 .. 3</td><td>368.79913 .. 198.05025</td><td>58522.477 .. 58522.484</td><td>11 .. 8</td><td>20190208036</td><td>20190208T112523.0 .. 20190208T113916.5</td><td>51.62792</td><td>291.89075</td><td>11.354653</td><td>0.0 .. 0.0</td><td>1e-05 .. -0.0</td><td>0.47333 .. 0.41358</td><td>0.0 .. 0.0</td><td>-0.0 .. -0.0</td><td>0.1578 .. 0.36716</td></tr>\n",
       "<tr><td>cosmos</td><td>20190209</td><td>20</td><td>DEXcosd2_E</td><td>150.18102</td><td>2.291409</td><td>147.98746</td><td>2.42</td><td>0.1098</td><td>465.15674 .. 464.1815</td><td>20190209v020</td><td>1 .. 3</td><td>427.8484 .. 427.59964</td><td>58523.24 .. 58523.25</td><td>29 .. 29</td><td>20190209020</td><td>20190209T054338.2 .. 20190209T055932.3</td><td>-999999.9</td><td>-999999.9</td><td>-999999.9</td><td>0.0 .. 0.0</td><td>-1e-05 .. -0.0</td><td>0.39785 .. 0.45341</td><td>0.0 .. 0.0</td><td>1e-05 .. 0.0</td><td>0.34092 .. 0.34573</td></tr>\n",
       "<tr><td>cosmos</td><td>20190209</td><td>21</td><td>DEXcosd3_E</td><td>150.18108</td><td>2.292386</td><td>147.9872</td><td>2.061</td><td>0.1455</td><td>524.30585 .. 524.3545</td><td>20190209v021</td><td>1 .. 3</td><td>488.29788 .. 487.79532</td><td>58523.258 .. 58523.27</td><td>33 .. 33</td><td>20190209021</td><td>20190209T060905.1 .. 20190209T062655.7</td><td>-999999.9</td><td>-999999.9</td><td>-999999.9</td><td>0.0 .. 0.0</td><td>-0.0 .. -0.0</td><td>0.46474 .. 0.45975</td><td>0.0 .. 0.0</td><td>0.0 .. 1e-05</td><td>0.41245 .. 0.41559</td></tr>\n",
       "<tr><td>dex-spring</td><td>20190209</td><td>22</td><td>DEXsp0787</td><td>175.90646</td><td>51.489925</td><td>69.85922</td><td>2.043</td><td>0.0182</td><td>404.58273 .. 404.27832</td><td>20190209v022</td><td>1 .. 3</td><td>368.35315 .. 367.79868</td><td>58523.277 .. 58523.29</td><td>7 .. 5</td><td>20190209022</td><td>20190209T063957.1 .. 20190209T065349.5</td><td>-999999.9</td><td>-999999.9</td><td>-999999.9</td><td>0.0 .. 0.0</td><td>-8e-05 .. 0.0</td><td>0.80788 .. 0.46933</td><td>0.0 .. 0.0</td><td>5e-05 .. 0.0</td><td>0.73697 .. 0.65052</td></tr>\n",
       "<tr><td>other</td><td>20190209</td><td>23</td><td>G193-74_046_W</td><td>nan</td><td>nan</td><td>nan</td><td>1.902</td><td>nan</td><td>164.95572 .. 164.22844</td><td>20190209v023</td><td>-2147483648 .. -2147483648</td><td>128.1482 .. 127.6502</td><td>58523.34 .. 58523.344</td><td>-2147483648 .. -2147483648</td><td>20190209023</td><td>20190209T081002.2 .. 20190209T081607.7</td><td>-999999.9</td><td>-999999.9</td><td>-999999.9</td><td>0.0 .. 0.0</td><td>nan .. nan</td><td>nan .. nan</td><td>0.0 .. 0.0</td><td>nan .. nan</td><td>nan .. nan</td></tr>\n",
       "<tr><td>dex-spring</td><td>20190209</td><td>24</td><td>DEXsp0275</td><td>201.66621</td><td>51.767532</td><td>69.39431</td><td>1.964</td><td>0.1241</td><td>404.78174 .. 404.50378</td><td>20190209v024</td><td>1 .. 3</td><td>367.69925 .. 367.70038</td><td>58523.348 .. 58523.36</td><td>23 .. 20</td><td>20190209024</td><td>20190209T082208.5 .. 20190209T083602.7</td><td>-999999.9</td><td>-999999.9</td><td>-999999.9</td><td>0.0 .. 0.0</td><td>-1e-05 .. -0.0</td><td>0.56808 .. 0.55656</td><td>0.0 .. 0.0</td><td>0.0 .. -0.0</td><td>0.34675 .. 0.38866</td></tr>\n",
       "<tr><td>dex-spring</td><td>20190209</td><td>25</td><td>DEXsp0325</td><td>207.99422</td><td>50.933567</td><td>71.09385</td><td>2.136</td><td>0.078</td><td>404.4289 .. 405.03214</td><td>20190209v025</td><td>1 .. 3</td><td>367.74814 .. 367.54916</td><td>58523.363 .. 58523.375</td><td>19 .. 20</td><td>20190209025</td><td>20190209T084541.5 .. 20190209T085936.4</td><td>-999999.9</td><td>-999999.9</td><td>-999999.9</td><td>0.0 .. 0.0</td><td>0.0 .. -1e-05</td><td>0.56494 .. 0.5952</td><td>0.0 .. 0.0</td><td>-0.0 .. -1e-05</td><td>0.58041 .. 0.52161</td></tr>\n",
       "<tr><td>dex-spring</td><td>20190209</td><td>26</td><td>DEXsp0471</td><td>214.09381</td><td>51.48942</td><td>70.028</td><td>1.816</td><td>0.0931</td><td>585.03064 .. 585.45557</td><td>20190209v026</td><td>1 .. 3</td><td>547.8496 .. 547.9032</td><td>58523.383 .. 58523.395</td><td>11 .. 14</td><td>20190209026</td><td>20190209T090900.1 .. 20190209T092854.0</td><td>-999999.9</td><td>-999999.9</td><td>-999999.9</td><td>0.0 .. 0.0</td><td>-0.0 .. -0.0</td><td>0.47771 .. 0.59635</td><td>0.0 .. 0.0</td><td>-0.0 .. 0.0</td><td>0.37706 .. 0.25836</td></tr>\n",
       "<tr><td>dex-spring</td><td>20190209</td><td>27</td><td>DEXsp0979</td><td>222.4975</td><td>50.93349</td><td>71.15387</td><td>1.693</td><td>0.1061</td><td>524.0061 .. 525.433</td><td>20190209v027</td><td>1 .. 3</td><td>487.64914 .. 487.74933</td><td>58523.402 .. 58523.418</td><td>28 .. 26</td><td>20190209027</td><td>20190209T094131.8 .. 20190209T095924.9</td><td>-999999.9</td><td>-999999.9</td><td>-999999.9</td><td>0.0 .. 0.0</td><td>-1e-05 .. 1e-05</td><td>0.38887 .. 0.70306</td><td>0.0 .. 0.0</td><td>-0.0 .. -0.0</td><td>0.44348 .. 0.45641</td></tr>\n",
       "</table>"
      ],
      "text/plain": [
       "<Table length=1899>\n",
       "  field      date   obsid ... yditherpos [3]   yoffset [3]         yrms [3]     \n",
       "  str12     int32   int32 ...    float32         float32           float32      \n",
       "---------- -------- ----- ... -------------- ---------------- ------------------\n",
       "    cosmos 20170103     2 ...     0.0 .. 0.0   -1e-05 .. -0.0 0.33429 .. 0.17898\n",
       "    cosmos 20170103     3 ...     0.0 .. 0.0      -0.0 .. 0.0 0.35298 .. 0.29886\n",
       "    cosmos 20170105     8 ...     0.0 .. 0.0     -0.0 .. -0.0 0.20898 .. 0.03161\n",
       "    cosmos 20170105     9 ...     0.0 .. 0.0 3e-05 .. 0.00019  0.37773 .. 0.3977\n",
       "    cosmos 20170105    10 ...     0.0 .. 0.0      -0.0 .. 0.0 0.39384 .. 0.50996\n",
       "    cosmos 20170105    11 ...     0.0 .. 0.0     -0.0 .. -0.0 0.54034 .. 0.35707\n",
       "    cosmos 20170106     1 ...     0.0 .. 0.0  -1e-05 .. 1e-05 0.27743 .. 0.40041\n",
       "    cosmos 20170106     2 ...     0.0 .. 0.0      0.0 .. -0.0  0.30044 .. 0.2474\n",
       "    cosmos 20170106     3 ...     0.0 .. 0.0      0.0 .. -0.0  0.30677 .. 0.4222\n",
       "    cosmos 20170107    12 ...     0.0 .. 0.0  0.00034 .. -0.0  0.6705 .. 0.21377\n",
       "       ...      ...   ... ...            ...              ...                ...\n",
       "dex-spring 20190208    35 ...     0.0 .. 0.0      0.0 .. -0.0 0.17553 .. 0.36211\n",
       "dex-spring 20190208    36 ...     0.0 .. 0.0     -0.0 .. -0.0  0.1578 .. 0.36716\n",
       "    cosmos 20190209    20 ...     0.0 .. 0.0     1e-05 .. 0.0 0.34092 .. 0.34573\n",
       "    cosmos 20190209    21 ...     0.0 .. 0.0     0.0 .. 1e-05 0.41245 .. 0.41559\n",
       "dex-spring 20190209    22 ...     0.0 .. 0.0     5e-05 .. 0.0 0.73697 .. 0.65052\n",
       "     other 20190209    23 ...     0.0 .. 0.0       nan .. nan         nan .. nan\n",
       "dex-spring 20190209    24 ...     0.0 .. 0.0      0.0 .. -0.0 0.34675 .. 0.38866\n",
       "dex-spring 20190209    25 ...     0.0 .. 0.0   -0.0 .. -1e-05 0.58041 .. 0.52161\n",
       "dex-spring 20190209    26 ...     0.0 .. 0.0      -0.0 .. 0.0 0.37706 .. 0.25836\n",
       "dex-spring 20190209    27 ...     0.0 .. 0.0     -0.0 .. -0.0 0.44348 .. 0.45641"
      ]
     },
     "execution_count": 4,
     "metadata": {},
     "output_type": "execute_result"
    }
   ],
   "source": [
    "Table(survey.hdfile.root.Survey[:])"
   ]
  },
  {
   "cell_type": "markdown",
   "metadata": {},
   "source": [
    "It also converts RA and DEC into astropy coordinate objects."
   ]
  },
  {
   "cell_type": "code",
   "execution_count": 5,
   "metadata": {},
   "outputs": [
    {
     "data": {
      "text/plain": [
       "<SkyCoord (ICRS): (ra, dec) in deg\n",
       "    [(149.88757,  1.88533 ), (150.48582,  2.48316 ),\n",
       "     (149.77142,  2.59229 ), ..., (207.99422, 50.933567),\n",
       "     (214.09381, 51.48942 ), (222.4975 , 50.93349 )]>"
      ]
     },
     "execution_count": 5,
     "metadata": {},
     "output_type": "execute_result"
    }
   ],
   "source": [
    "survey.coords"
   ]
  },
  {
   "cell_type": "markdown",
   "metadata": {},
   "source": [
    "Shots are labeled based on their observation date and observation ID:"
   ]
  },
  {
   "cell_type": "code",
   "execution_count": 6,
   "metadata": {},
   "outputs": [
    {
     "data": {
      "text/plain": [
       "array([20170103, 20170103, 20170105, ..., 20190209, 20190209, 20190209],\n",
       "      dtype=int32)"
      ]
     },
     "execution_count": 6,
     "metadata": {},
     "output_type": "execute_result"
    }
   ],
   "source": [
    "survey.date"
   ]
  },
  {
   "cell_type": "code",
   "execution_count": 7,
   "metadata": {},
   "outputs": [
    {
     "data": {
      "text/plain": [
       "array([ 2,  3,  8, ..., 25, 26, 27], dtype=int32)"
      ]
     },
     "execution_count": 7,
     "metadata": {},
     "output_type": "execute_result"
    }
   ],
   "source": [
    "survey.obsid"
   ]
  },
  {
   "cell_type": "markdown",
   "metadata": {},
   "source": [
    "A specific shot can be linked either by an integer combination of these two values, called `shotid`, or the `DATEvOBS` form:"
   ]
  },
  {
   "cell_type": "code",
   "execution_count": 8,
   "metadata": {},
   "outputs": [
    {
     "data": {
      "text/plain": [
       "array(['20170103v002', '20170103v003', '20170105v008', ...,\n",
       "       '20190209v025', '20190209v026', '20190209v027'], dtype='|S12')"
      ]
     },
     "execution_count": 8,
     "metadata": {},
     "output_type": "execute_result"
    }
   ],
   "source": [
    "survey.datevobs"
   ]
  },
  {
   "cell_type": "code",
   "execution_count": 9,
   "metadata": {},
   "outputs": [
    {
     "data": {
      "text/plain": [
       "array([20170103002, 20170103003, 20170105008, ..., 20190209025,\n",
       "       20190209026, 20190209027])"
      ]
     },
     "execution_count": 9,
     "metadata": {},
     "output_type": "execute_result"
    }
   ],
   "source": [
    "survey.shotid"
   ]
  },
  {
   "cell_type": "markdown",
   "metadata": {},
   "source": [
    "## Searching for shots near a sky coordinate"
   ]
  },
  {
   "cell_type": "markdown",
   "metadata": {},
   "source": [
    "Most users searching for observations will want to get a list of observations/shots at a specific sky position. Each shot has a single associated sky coordinate. We can retrieve a list of shots that may contain fibers in a specific region. However, because of the varying and non-contiguous footprint of VIRUS, this is not an immediate guarantee a region has been observed. You must further query fibers in each shot to determine this. See notebook 04- Querying the Fiber Class. "
   ]
  },
  {
   "cell_type": "markdown",
   "metadata": {},
   "source": [
    "### get_shotlist()\n",
    "This function which operates on the Survey class object. An astropy coordinates object is required as input."
   ]
  },
  {
   "cell_type": "code",
   "execution_count": 10,
   "metadata": {},
   "outputs": [],
   "source": [
    "coords = SkyCoord(11.628530 * u.deg, 0.081790 * u.deg, frame='icrs')"
   ]
  },
  {
   "cell_type": "markdown",
   "metadata": {},
   "source": [
    "We can either search a rectangular region, width and height in degrees:"
   ]
  },
  {
   "cell_type": "code",
   "execution_count": 25,
   "metadata": {},
   "outputs": [],
   "source": [
    "shotlist = survey.get_shotlist(coords, width=0.5, height=0.2)"
   ]
  },
  {
   "cell_type": "code",
   "execution_count": 12,
   "metadata": {},
   "outputs": [
    {
     "data": {
      "text/plain": [
       "array([20171119003, 20181003009, 20181005017, 20181107014])"
      ]
     },
     "execution_count": 12,
     "metadata": {},
     "output_type": "execute_result"
    }
   ],
   "source": [
    "shotlist"
   ]
  },
  {
   "cell_type": "markdown",
   "metadata": {},
   "source": [
    "or we can search a circular aperture with a radius given in degress, or in an astropy quantity object:"
   ]
  },
  {
   "cell_type": "code",
   "execution_count": 24,
   "metadata": {},
   "outputs": [],
   "source": [
    "shotlist = survey.get_shotlist(coords, radius=10*u.arcmin)"
   ]
  },
  {
   "cell_type": "code",
   "execution_count": 14,
   "metadata": {},
   "outputs": [
    {
     "data": {
      "text/plain": [
       "array([20171119003, 20181003009, 20181107014])"
      ]
     },
     "execution_count": 14,
     "metadata": {},
     "output_type": "execute_result"
    }
   ],
   "source": [
    "shotlist"
   ]
  },
  {
   "cell_type": "markdown",
   "metadata": {},
   "source": [
    "From here a user can take their shotlist and query the position on the Fibers class and see if their region of interest is observed in the survey."
   ]
  },
  {
   "cell_type": "markdown",
   "metadata": {},
   "source": [
    "## Basic querying for the Survey Class"
   ]
  },
  {
   "cell_type": "markdown",
   "metadata": {},
   "source": [
    "The Survey HDF5 itself contains information about the quality of each observation. A user can query different parameters and plot up general shot quantities. For example, we can compare the distribution of throughput values (technically the response at 4540 AA) between the HETDEX spring and HETDEX fall fields:"
   ]
  },
  {
   "cell_type": "markdown",
   "metadata": {},
   "source": [
    "### Example: Plotting up the canonical throughput value at 4540 AA"
   ]
  },
  {
   "cell_type": "code",
   "execution_count": 15,
   "metadata": {},
   "outputs": [],
   "source": [
    "idx_spring = np.where( (survey.field == 'dex-spring') * np.isfinite(survey.response_4540) )"
   ]
  },
  {
   "cell_type": "code",
   "execution_count": 16,
   "metadata": {},
   "outputs": [],
   "source": [
    "idx_fall = np.where( (survey.field == 'dex-fall') * np.isfinite(survey.response_4540))"
   ]
  },
  {
   "cell_type": "code",
   "execution_count": 17,
   "metadata": {},
   "outputs": [
    {
     "data": {
      "text/plain": [
       "<matplotlib.legend.Legend at 0x11c20cbd0>"
      ]
     },
     "execution_count": 17,
     "metadata": {},
     "output_type": "execute_result"
    },
    {
     "data": {
      "image/png": "[encoded data removed]",
      "text/plain": [
       "<Figure size 576x432 with 1 Axes>"
      ]
     },
     "metadata": {
      "needs_background": "light"
     },
     "output_type": "display_data"
    }
   ],
   "source": [
    "plt.figure(figsize=(8,6))\n",
    "plt.hist(survey.response_4540[idx_spring], label = 'DEX-Spring')\n",
    "plt.hist(survey.response_4540[idx_fall], label = 'DEX-Fall')\n",
    "plt.xlabel('Throughput at 4540 AA')\n",
    "plt.ylabel('N OBS')\n",
    "plt.legend()"
   ]
  },
  {
   "cell_type": "markdown",
   "metadata": {},
   "source": [
    "### Example: Plotting up the locations of all cosmos shots:"
   ]
  },
  {
   "cell_type": "code",
   "execution_count": 18,
   "metadata": {},
   "outputs": [],
   "source": [
    "idx_cosmos = np.where(survey.field == 'cosmos')"
   ]
  },
  {
   "cell_type": "code",
   "execution_count": 19,
   "metadata": {},
   "outputs": [
    {
     "data": {
      "image/png": "[encoded data removed]",
      "text/plain": [
       "<Figure size 576x432 with 1 Axes>"
      ]
     },
     "metadata": {
      "needs_background": "light"
     },
     "output_type": "display_data"
    }
   ],
   "source": [
    "plt.figure(figsize=(8,6))\n",
    "plt.scatter(survey.ra[idx_cosmos],survey.dec[idx_cosmos])\n",
    "plt.xlabel('RA (deg)')\n",
    "plt.ylabel('DEC (deg)')\n",
    "plt.show()"
   ]
  },
  {
   "cell_type": "markdown",
   "metadata": {},
   "source": [
    "### Example: Plot up dither offset positions for all shots"
   ]
  },
  {
   "cell_type": "markdown",
   "metadata": {},
   "source": [
    "The attributes xditherpos and yditherpos provide the dither offset values in arcseconds for each dither of each dither shot. They are each arrays of length three representing dithers 1,2,3 respectively."
   ]
  },
  {
   "cell_type": "code",
   "execution_count": 20,
   "metadata": {},
   "outputs": [
    {
     "data": {
      "text/plain": [
       "(1899, 3)"
      ]
     },
     "execution_count": 20,
     "metadata": {},
     "output_type": "execute_result"
    }
   ],
   "source": [
    "np.shape(survey.xditherpos)"
   ]
  },
  {
   "cell_type": "code",
   "execution_count": 21,
   "metadata": {},
   "outputs": [
    {
     "data": {
      "image/png": "[encoded data removed]",
      "text/plain": [
       "<Figure size 576x432 with 1 Axes>"
      ]
     },
     "metadata": {
      "needs_background": "light"
     },
     "output_type": "display_data"
    }
   ],
   "source": [
    "plt.figure(figsize=(8,6))\n",
    "plt.scatter(survey.xditherpos[:,0],survey.yditherpos[:,0], color='r', marker=\"o\", s=1.2, label='exp01')\n",
    "plt.scatter(survey.xditherpos[:,1],survey.yditherpos[:,1], color='g', marker=\"o\", s=1.2, label='exp02')\n",
    "plt.scatter(survey.xditherpos[:,2],survey.yditherpos[:,2], color='b', marker=\"o\", s=1.2, label='exp03')\n",
    "plt.xlabel('x offset (arcsec)')\n",
    "plt.ylabel('y offset (arcsec)')\n",
    "plt.legend()\n",
    "plt.show()"
   ]
  },
  {
   "cell_type": "markdown",
   "metadata": {},
   "source": [
    "## Exploring the Survey HDF5 File"
   ]
  },
  {
   "cell_type": "markdown",
   "metadata": {},
   "source": [
    "The hdfile attribute contains the link to the survey HDF5 file. Calling it will show you all the information in the HDF5 file. You may interact with this directly rather than using the Survey class initiation. \n"
   ]
  },
  {
   "cell_type": "code",
   "execution_count": 22,
   "metadata": {},
   "outputs": [
    {
     "data": {
      "text/plain": [
       "File(filename=/Users/erin/Desktop/survey_test.h5, title='Survey test file ', mode='r', root_uep='/', filters=Filters(complevel=0, shuffle=False, bitshuffle=False, fletcher32=False, least_significant_digit=None))\n",
       "/ (RootGroup) 'Survey test file '\n",
       "/Survey (Table(1899,)) 'Main Survey Info'\n",
       "  description := {\n",
       "  \"field\": StringCol(itemsize=12, shape=(), dflt='', pos=0),\n",
       "  \"date\": Int32Col(shape=(), dflt=0, pos=1),\n",
       "  \"obsid\": Int32Col(shape=(), dflt=0, pos=2),\n",
       "  \"objid\": StringCol(itemsize=18, shape=(), dflt='', pos=3),\n",
       "  \"ra\": Float32Col(shape=(), dflt=0.0, pos=4),\n",
       "  \"dec\": Float32Col(shape=(), dflt=0.0, pos=5),\n",
       "  \"pa\": Float32Col(shape=(), dflt=0.0, pos=6),\n",
       "  \"fwhm\": Float32Col(shape=(), dflt=0.0, pos=7),\n",
       "  \"response_4540\": Float32Col(shape=(), dflt=0.0, pos=8),\n",
       "  \"darktime\": Float32Col(shape=(3,), dflt=0.0, pos=9),\n",
       "  \"datevobs\": StringCol(itemsize=12, shape=(), dflt='', pos=10),\n",
       "  \"expnum\": Int32Col(shape=(3,), dflt=0, pos=11),\n",
       "  \"exptime\": Float32Col(shape=(3,), dflt=0.0, pos=12),\n",
       "  \"mjd\": Float32Col(shape=(3,), dflt=0.0, pos=13),\n",
       "  \"nstars_fit\": Int32Col(shape=(3,), dflt=0, pos=14),\n",
       "  \"shotid\": Int64Col(shape=(), dflt=0, pos=15),\n",
       "  \"timestamp\": StringCol(itemsize=18, shape=(3,), dflt='', pos=16),\n",
       "  \"trajcdec\": Float32Col(shape=(), dflt=0.0, pos=17),\n",
       "  \"trajcpa\": Float32Col(shape=(), dflt=0.0, pos=18),\n",
       "  \"trajcra\": Float32Col(shape=(), dflt=0.0, pos=19),\n",
       "  \"xditherpos\": Float32Col(shape=(3,), dflt=0.0, pos=20),\n",
       "  \"xoffset\": Float32Col(shape=(3,), dflt=0.0, pos=21),\n",
       "  \"xrms\": Float32Col(shape=(3,), dflt=0.0, pos=22),\n",
       "  \"yditherpos\": Float32Col(shape=(3,), dflt=0.0, pos=23),\n",
       "  \"yoffset\": Float32Col(shape=(3,), dflt=0.0, pos=24),\n",
       "  \"yrms\": Float32Col(shape=(3,), dflt=0.0, pos=25)}\n",
       "  byteorder := 'little'\n",
       "  chunkshape := (237,)"
      ]
     },
     "execution_count": 22,
     "metadata": {},
     "output_type": "execute_result"
    }
   ],
   "source": [
    "survey.hdfile"
   ]
  }
 ],
 "metadata": {
  "kernelspec": {
   "display_name": "Python 2",
   "language": "python",
   "name": "python2"
  },
  "language_info": {
   "codemirror_mode": {
    "name": "ipython",
    "version": 2
   },
   "file_extension": ".py",
   "mimetype": "text/x-python",
   "name": "python",
   "nbconvert_exporter": "python",
   "pygments_lexer": "ipython2",
   "version": "2.7.15"
  }
 },
 "nbformat": 4,
 "nbformat_minor": 1
}
