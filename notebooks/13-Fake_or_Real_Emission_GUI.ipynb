{
 "cells": [
  {
   "cell_type": "markdown",
   "metadata": {},
   "source": [
    "## Fake or Real Emission Line?"
   ]
  },
  {
   "cell_type": "markdown",
   "metadata": {},
   "source": [
    "Based on Dr. Erin Mentuch Cooper's original elixer_widgets.py\n",
    "\n",
    "This is a simplified version that only presents a scaled binary selection for the user to mark his/her confidence\n",
    "that the presented emission line detection is fake or real. Fake refers to some data artifact that does not correspond to real (astrophysical) photons as an EMISSION LINE.  A real detection typically belongs to a galaxy (but could be an emission nebula or even a meteor).\n",
    "\n",
    "Fake: \n",
    "* random noise in the spectrum\n",
    "* sky line\n",
    "* interference pattern\n",
    "* cosmic ray strike\n",
    "* hot CCD pixel\n",
    "* adjacent (real) absorpotion features that leave a \"peak\" going back to the continuum level misterpreted as emission\n",
    "\n",
    "Real:\n",
    "* any emission line\n",
    "* emission line on top of continuum (usually a nearby galaxy)\n",
    "* emission line from a transient (meteor, etc)\n",
    "\n",
    "When using the GUI, remember your selections ARE NOT SAVED until you click the \"SAVE PROGRESS\" button."
   ]
  },
  {
   "cell_type": "code",
   "execution_count": null,
   "metadata": {},
   "outputs": [],
   "source": [
    "%%javascript\n",
    "IPython.OutputArea.prototype._should_scroll = function(lines) {\n",
    "    return false;\n",
    "}"
   ]
  },
  {
   "cell_type": "code",
   "execution_count": null,
   "metadata": {},
   "outputs": [],
   "source": [
    "#IF you DID NOT install HETDEX_API, uncomment below and execute THIS cell\n",
    "import sys\n",
    "sys.path.append('<path to HETDEX_API here>')\n",
    "from hetdex_api import elixer_widget_for as EWL"
   ]
  },
  {
   "cell_type": "code",
   "execution_count": null,
   "metadata": {},
   "outputs": [],
   "source": [
    "#IF you installed HETDEX_API, make sure it is up to date and execute THIS cell\n",
    "from hetdex_api import elixer_widget_for as EWL"
   ]
  },
  {
   "cell_type": "code",
   "execution_count": null,
   "metadata": {},
   "outputs": [],
   "source": [
    "#IF you are resuming from an early saved file, execute this cell, otherwise, if starting new, skip this cell\n",
    "#You may need to update the path to the savedfile\n",
    "elix_widget = EWL.ElixerWidget(savedfile='elixer_for.dat' ,resume=True)"
   ]
  },
  {
   "cell_type": "code",
   "execution_count": null,
   "metadata": {},
   "outputs": [],
   "source": [
    "#Start from scratch with an existing candidate file OR load your own in the next cell\n",
    "detectLAEcandidates = np.loadtxt('<path to file here>')"
   ]
  },
  {
   "cell_type": "code",
   "execution_count": null,
   "metadata": {},
   "outputs": [],
   "source": [
    "#Make your own candidate list\n",
    "from hetdex_api.detections import *\n",
    "detects = Detections('hdr1').refine()\n",
    "\n",
    "#update your selection criteria here\n",
    "sel = (detects.gmag > 23) * (detects.sn > 10) * (detects.date >= 20171201) * \\\n",
    "      (detects.throughput > 0.095) * (detects.fwhm < 2.6) * (detects.continuum < 10)\n",
    "detectLAEcandidates = detects.detectid[sel]\n",
    "\n"
   ]
  },
  {
   "cell_type": "code",
   "execution_count": null,
   "metadata": {},
   "outputs": [],
   "source": [
    "#Start from Scratch\n",
    "elix_widget = EWL.ElixerWidget(detectlist=detectLAEcandidates,resume=False)"
   ]
  }
 ],
 "metadata": {
  "kernelspec": {
   "display_name": "Python 3",
   "language": "python",
   "name": "python3"
  },
  "language_info": {
   "codemirror_mode": {
    "name": "ipython",
    "version": 3
   },
   "file_extension": ".py",
   "mimetype": "text/x-python",
   "name": "python",
   "nbconvert_exporter": "python",
   "pygments_lexer": "ipython3",
   "version": "3.6.8"
  }
 },
 "nbformat": 4,
 "nbformat_minor": 2
}
