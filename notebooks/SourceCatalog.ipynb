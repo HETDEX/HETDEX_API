{
 "cells": [
  {
   "cell_type": "markdown",
   "metadata": {},
   "source": [
    "# Source Catalog Loading, Plotting and Exploring Examples"
   ]
  },
  {
   "cell_type": "code",
   "execution_count": null,
   "metadata": {},
   "outputs": [],
   "source": [
    "import numpy as np\n",
    "import os.path as op\n",
    "\n",
    "from astropy.table import Table, unique\n",
    "\n",
    "from hetdex_tools.source_catalog import plot_source_group\n",
    "from hetdex_api.elixer_widget_cls import ElixerWidget\n",
    "from hetdex_api.config import HDRconfig"
   ]
  },
  {
   "cell_type": "markdown",
   "metadata": {},
   "source": [
    "This catalog is a combination of sources from the continuum source catalog, the curated detection line catalog of the same version and the confirmed AGN detection IDs from Chenxu Liu's AGN search. Each row is for a detection and its unique catalog detectid. Detectid's of AGN sources *may* appear twice if they are also found in the continuum or curated line catalogs. This is intentional as information about the detection type is used to guess the redshift of the sources. The column `'det_type'` can be `['line','cont','agn']`. Using the friends of friends clustering algorithm from `hetdex_api/hetdex_tools/fof_kdtree.py` we group sources together spatially into a unique sources using a linking length of 5 arcsec. The unique identifier is given in `'source_id'`. If a source is found within 5 arcsec of a GAIA matched source from Hawkins, Zeimann et al. 2020, the GAIA id is given in `'gaia_match_id'`. I use various logic (found in `guess_source_wavelength` in hetdex_tools/source_catalog.py) to try to make a guess at the redshift. This is preliminary!!! There are no errors or confidence levels and it is not science ready. But feedback is highly welcomed! Any analysis done with this catalog should be presented in the appropriate science working group."
   ]
  },
  {
   "cell_type": "code",
   "execution_count": null,
   "metadata": {},
   "outputs": [],
   "source": [
    "# Enter the catalog version\n",
    "\n",
    "version = '2.1.2'\n",
    "\n",
    "config = HDRconfig()\n",
    "catfile = op.join(config.detect_dir, 'catalogs', 'source_catalog_' + version + '.fits')\n",
    "source_table = Table.read(catfile)\n",
    "\n",
    "print('Source catalog was found at {}'.format(catfile))"
   ]
  },
  {
   "cell_type": "markdown",
   "metadata": {},
   "source": [
    "Columns are as follows, most are directly from the detection and elixer catalogs. Check the wiki for more info.\n",
    "    \n",
    "    https://luna.mpe.mpg.de/wikihetdex/index.php/Column_Info"
   ]
  },
  {
   "cell_type": "code",
   "execution_count": null,
   "metadata": {},
   "outputs": [],
   "source": [
    "source_table.columns"
   ]
  },
  {
   "cell_type": "code",
   "execution_count": null,
   "metadata": {},
   "outputs": [],
   "source": [
    "uniq_table = unique(source_table, keys='source_id')"
   ]
  },
  {
   "cell_type": "code",
   "execution_count": null,
   "metadata": {},
   "outputs": [],
   "source": [
    "sel_star = np.where(uniq_table['z_guess'] == 0.0)[0]\n",
    "sel_oii = np.where((uniq_table['z_guess'] > 0 ) * (uniq_table['z_guess'] < 0.7))[0]\n",
    "sel_lae = np.where((uniq_table['z_guess'] ) * (uniq_table['z_guess'] ))[0]\n",
    "\n",
    "print('There are {} stars, {} OII emitters and {} LAEs'.format(np.size(sel_star), np.size(sel_oii), np.size(sel_lae)))"
   ]
  },
  {
   "cell_type": "markdown",
   "metadata": {},
   "source": [
    "## Here is an example of plotting a group"
   ]
  },
  {
   "cell_type": "code",
   "execution_count": null,
   "metadata": {},
   "outputs": [],
   "source": [
    "%matplotlib inline"
   ]
  },
  {
   "cell_type": "code",
   "execution_count": null,
   "metadata": {},
   "outputs": [],
   "source": [
    "# the source_ids are sorted by member number ('n_member' in the catalog). \n",
    "# This is how many detections are found in the source_id group\n",
    "\n",
    "sid = 2120000000000 # this source has the most members. It's in GOODS-N. \n",
    "\n",
    "# All large galaxies are already removed from the Spring and Fall DEX fields so\n",
    "# will not be in this source catalog. \n",
    "\n",
    "# Index a star \n",
    "#sid = uniq_table['source_id'][sel_star[40008]]\n",
    "\n",
    "# Index an OII galaxy\n",
    "#sid = uniq_table['source_id'][sel_oii[125008]]\n",
    "\n",
    "# Index an LAE\n",
    "#sid = uniq_table['source_id'][sel_lae[114008]]\n",
    "\n",
    "# Index the AGN list:\n",
    "#sel_agn = source_table['det_type'] == 'agn'\n",
    "#agn_ids = np.unique(source_table['source_id'][sel_agn])\n",
    "#sid = agn_ids[98]\n",
    "\n",
    "# This step grabs the source group so we can look at each source in Elixer\n",
    "sel_group = (source_table['source_id'] == sid) \n",
    "group = source_table[sel_group]\n",
    "\n",
    "#print(sid)\n",
    "#print(group)\n",
    "\n",
    "# this function overplots the source group over an image\n",
    "# use label=True to see detectid's on image\n",
    "# use save=True to save the image to you working directory\n",
    "# the size of the line emission is scaled to the S/N of the line\n",
    "\n",
    "plot_source_group(source_id=sid, source_table=source_table, label=False, save=False)\n",
    "ew = ElixerWidget(detectlist = source_table['detectid'][sel_group])"
   ]
  },
  {
   "cell_type": "markdown",
   "metadata": {},
   "source": [
    "## Some Examples - Plot redshift distribution"
   ]
  },
  {
   "cell_type": "code",
   "execution_count": null,
   "metadata": {},
   "outputs": [],
   "source": [
    "import matplotlib.pyplot as plt"
   ]
  },
  {
   "cell_type": "code",
   "execution_count": null,
   "metadata": {},
   "outputs": [],
   "source": [
    "plt.hist(uniq_table['z_guess'], range=(0,3.5), bins=50)\n",
    "plt.title('Redshift distribution of unique sources in 2.1.2')\n",
    "plt.xlabel('z')\n",
    "plt.ylabel('count')\n",
    "#plt.savefig('z_dist_uniq_2.1.2.png')"
   ]
  },
  {
   "cell_type": "code",
   "execution_count": null,
   "metadata": {},
   "outputs": [],
   "source": [
    "plt.hist(uniq_table['z_guess'], range=(0,3.5), bins=50)\n",
    "plt.title('Redshift distribution of unique sources in 2.1.2')\n",
    "plt.xlabel('z')\n",
    "plt.ylabel('count')\n",
    "plt.yscale('log', nonposy='clip')\n",
    "#plt.savefig('z_dist_uniq_2.1.2_log.png')"
   ]
  }
 ],
 "metadata": {
  "kernelspec": {
   "display_name": "Python 3",
   "language": "python",
   "name": "python3"
  },
  "language_info": {
   "codemirror_mode": {
    "name": "ipython",
    "version": 3
   },
   "file_extension": ".py",
   "mimetype": "text/x-python",
   "name": "python",
   "nbconvert_exporter": "python",
   "pygments_lexer": "ipython3",
   "version": "3.8.6"
  }
 },
 "nbformat": 4,
 "nbformat_minor": 2
}
