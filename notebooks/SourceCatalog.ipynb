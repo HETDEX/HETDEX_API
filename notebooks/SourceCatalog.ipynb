{
 "cells": [
  {
   "cell_type": "markdown",
   "metadata": {},
   "source": [
    "# Source Catalog Loading, Plotting and Exploring Examples"
   ]
  },
  {
   "cell_type": "code",
   "execution_count": 1,
   "metadata": {},
   "outputs": [],
   "source": [
    "import numpy as np\n",
    "import os.path as op\n",
    "\n",
    "from astropy.table import Table, unique\n",
    "\n",
    "from hetdex_tools.source_catalog import plot_source_group\n",
    "from hetdex_api.elixer_widget_cls import ElixerWidget\n",
    "from hetdex_api.query_widget import QueryWidget\n",
    "from hetdex_api.amp_widget import AmpWidget\n",
    "from hetdex_api.config import HDRconfig"
   ]
  },
  {
   "cell_type": "code",
   "execution_count": 2,
   "metadata": {},
   "outputs": [
    {
     "data": {
      "application/javascript": [
       "IPython.OutputArea.prototype._should_scroll = function(lines) {\n",
       "    return false;\n",
       "}\n"
      ],
      "text/plain": [
       "<IPython.core.display.Javascript object>"
      ]
     },
     "metadata": {},
     "output_type": "display_data"
    }
   ],
   "source": [
    "%%javascript\n",
    "IPython.OutputArea.prototype._should_scroll = function(lines) {\n",
    "    return false;\n",
    "}"
   ]
  },
  {
   "cell_type": "markdown",
   "metadata": {},
   "source": [
    "This catalog is a combination of sources from the continuum source catalog, the curated detection line catalog of the same version and the confirmed AGN detection IDs from Chenxu Liu's AGN search. Each row is for a detection and its unique catalog detectid. Detectid's of AGN sources *may* appear twice if they are also found in the continuum or curated line catalogs. This is intentional as information about the detection type is used to guess the redshift of the sources. The column `'det_type'` can be `['line','cont','agn']`. Version 2.1.3 includes a column called \"source_type\" where we make a preliminary guess whether the sources is 'agn','lae', 'oii', 'star', 'lzg'(low-z galaxy without line emission), 'unsure'. "
   ]
  },
  {
   "cell_type": "code",
   "execution_count": 3,
   "metadata": {},
   "outputs": [
    {
     "name": "stdout",
     "output_type": "stream",
     "text": [
      "Source catalog was found at /home/jovyan/Hobby-Eberly-Telesco/hdr3/catalogs/source_catalog_3.0.1.fits\n"
     ]
    }
   ],
   "source": [
    "# Enter the catalog version\n",
    "\n",
    "version = '3.0.1'\n",
    "\n",
    "config = HDRconfig()\n",
    "catfile = op.join(config.hdr_dir['hdr3'], 'catalogs', 'source_catalog_' + version + '.fits')\n",
    "source_table = Table.read(catfile)\n",
    "\n",
    "print('Source catalog was found at {}'.format(catfile))"
   ]
  },
  {
   "cell_type": "markdown",
   "metadata": {},
   "source": [
    "Columns are as follows, most are directly from the detection and elixer catalogs. Check the wiki for more info.\n",
    "    \n",
    "    https://luna.mpe.mpg.de/wikihetdex/index.php/Column_Info"
   ]
  },
  {
   "cell_type": "code",
   "execution_count": 4,
   "metadata": {},
   "outputs": [
    {
     "data": {
      "text/plain": [
       "<TableColumns names=('source_id','source_name','detectid','n_members','lum','ra_mean','dec_mean','icz','ixx','iyy','ixy','izz','a','b','pa','a2','b2','pa2','wave_group_id','wave_group_a','wave_group_b','wave_group_pa','wave_group_ra','wave_group_dec','wave_group_wave','fwhm','throughput','fluxlimit_4540','shotid','field','n_ifu','ra','dec','date','obsid','wave','wave_err','flux','flux_err','linewidth','linewidth_err','continuum','continuum_err','sn','sn_err','chi2','chi2_err','multiframe','fibnum','x_raw','y_raw','amp','chi2fib','expnum','fiber_id','ifuid','ifuslot','inputid','noise_ratio','specid','weight','x_ifu','y_ifu','det_type','gmag','plya_classification','z_elixer','best_pz','combined_plae','combined_plae_lo','combined_plae_hi','flags','classification_labels','counterpart_ra','counterpart_dec','background_cts','background_err','counterpart_catalog_name','counterpart_dist','dist_curve','counterpart_filter_name','fixed_aper_flags','fixed_aper_flux_cts','fixed_aper_flux_err','fixed_aper_mag','fixed_aper_mag_err','fixed_aper_radius','flags_eo','image_depth_mag','image_flags','counterpart_mag','counterpart_mag_err','major','minor','pixel_scale','selected','theta','apcor','flux_noise_1sigma','sn_3fib','sn_3fib_cen','sn_cen','chi2fib_1','chi2fib_2','chi2fib_3','Av','ebv','flux_g','gaia_match_id','gaia_match_dist','ra_wise','dec_wise','primary','unwise_objid','wise_dist','flux_w1','flux_w2','zspec','ra_zspec','dec_zspec','zspec_catalog','zspec_dist','src_separation','flux_obs','flux_err_obs','continuum_obs','continuum_err_obs','flux_noise_1sigma_obs','z_diagnose','cls_diagnose','stellartype','z_hetdex','source_type','z_hetdex_src','z_hetdex_conf','agn_flag','line_id','dwave','selected_det','lum_lya','lum_lya_err','lum_oii','lum_oii_err','sn_im')>"
      ]
     },
     "execution_count": 4,
     "metadata": {},
     "output_type": "execute_result"
    }
   ],
   "source": [
    "source_table.columns"
   ]
  },
  {
   "cell_type": "markdown",
   "metadata": {},
   "source": [
    "You can sort the table using the `unique` function from `astropy.table` on the `source_id` key. For nearby galaxies, stars and AGN, many detectids can comprise the same source (ie. the same `source_id`). When you reduce the catalog using the `unique` function, only 1 detectid remains for the source. It is sorted such that the source with a wavelength matching the `z_guess` value is selected and the detectid is located close to the positional center of the source group. "
   ]
  },
  {
   "cell_type": "code",
   "execution_count": 5,
   "metadata": {},
   "outputs": [],
   "source": [
    "# selecting for S/N>5.5 line sources and all continuum sources\n",
    "sel_sn = (source_table['sn'] > 5.5) & (source_table['det_type'] == 'line') & (source_table['apcor'] > 0.6) & (source_table['linewidth'] < 6)\n",
    "sel_det = source_table['selected_det'] == True\n",
    "sel_cont = source_table['det_type'] == 'cont'\n",
    "sel_cat = (sel_sn | sel_cont) & sel_det\n",
    "uniq_table = unique(source_table[sel_cat], keys='source_id')"
   ]
  },
  {
   "cell_type": "code",
   "execution_count": 6,
   "metadata": {},
   "outputs": [
    {
     "data": {
      "text/plain": [
       "428212"
      ]
     },
     "execution_count": 6,
     "metadata": {},
     "output_type": "execute_result"
    }
   ],
   "source": [
    "len(uniq_table)"
   ]
  },
  {
   "cell_type": "code",
   "execution_count": 7,
   "metadata": {},
   "outputs": [
    {
     "name": "stdout",
     "output_type": "stream",
     "text": [
      "There are 32324 low-z gals, 93607 stars, 195707 OII emitters, 3768 AGN, and 97150 LAEs\n"
     ]
    }
   ],
   "source": [
    "star = uniq_table['source_id'][uniq_table['source_type'] == 'star']\n",
    "oii = uniq_table['source_id'][uniq_table['source_type'] == 'oii']\n",
    "lae = uniq_table['source_id'][uniq_table['source_type'] == 'lae']\n",
    "agn = uniq_table['source_id'][uniq_table['source_type'] == 'agn']\n",
    "lzg = uniq_table['source_id'][uniq_table['source_type'] == 'lzg']\n",
    "\n",
    "print('There are {} low-z gals, {} stars, {} OII emitters, {} AGN, and {} LAEs'. \\\n",
    "      format(np.size(lzg), np.size(star), np.size(oii), np.size(agn), np.size(lae)))"
   ]
  },
  {
   "cell_type": "markdown",
   "metadata": {},
   "source": [
    "## Here is an example of plotting a group"
   ]
  },
  {
   "cell_type": "code",
   "execution_count": 8,
   "metadata": {},
   "outputs": [],
   "source": [
    "%matplotlib inline"
   ]
  },
  {
   "cell_type": "code",
   "execution_count": 9,
   "metadata": {},
   "outputs": [
    {
     "data": {
      "image/png": "[encoded data removed]",
      "text/plain": [
       "<Figure size 800x800 with 1 Axes>"
      ]
     },
     "metadata": {},
     "output_type": "display_data"
    },
    {
     "data": {
      "application/vnd.jupyter.widget-view+json": {
       "model_id": "cf9d28b8034b4d0d86e903d33caba128",
       "version_major": 2,
       "version_minor": 0
      },
      "text/plain": [
       "interactive(children=(Text(value='3003575145', description='DetectID:', placeholder='3003575145'), Output()), …"
      ]
     },
     "metadata": {},
     "output_type": "display_data"
    }
   ],
   "source": [
    "# the source_ids are sorted by member number ('n_member' in the catalog)\n",
    "# This is how many detections are found in the source_id group\n",
    "\n",
    "# Here's a query for high S/N LAEs\n",
    "sel = (uniq_table['source_type'] == 'lae') & (uniq_table['sn'] > 6.5)\n",
    "sid = uniq_table['source_id'][sel][11111]\n",
    "\n",
    "# Index a star \n",
    "#sid = star[100]\n",
    "\n",
    "# Index an OII galaxy\n",
    "#sid = oii[0]\n",
    "\n",
    "# Index an LAE\n",
    "#sid = lae[0]\n",
    "\n",
    "# Index the AGN list:\n",
    "#sid = agn[0]\n",
    "\n",
    "# This step grabs the source group so we can look at each source in Elixer\n",
    "sel_group = (source_table['source_id'] == sid) \n",
    "group = source_table[sel_group]\n",
    "\n",
    "#print(sid)\n",
    "#print(group)\n",
    "\n",
    "# this function overplots the source group over an image\n",
    "# use label=True to see detectid's on image\n",
    "# use save=True to save the image to you working directory\n",
    "# the size of the line emission is scaled to the S/N of the line\n",
    "\n",
    "plot_source_group(source_id = sid, source_table = source_table, label = False, save = False)\n",
    "EW = ElixerWidget(detectlist = source_table['detectid'][sel_group])"
   ]
  },
  {
   "cell_type": "markdown",
   "metadata": {},
   "source": [
    "## Follow a detection in the 2D image with AmpWidget "
   ]
  },
  {
   "cell_type": "markdown",
   "metadata": {},
   "source": [
    "This will map the detectid from the ElixerWidget above to the amp widget. The detection is marked with a circle."
   ]
  },
  {
   "cell_type": "code",
   "execution_count": 11,
   "metadata": {},
   "outputs": [
    {
     "data": {
      "application/vnd.jupyter.widget-view+json": {
       "model_id": "7e4a26b692f944569632ed4f6be536bb",
       "version_major": 2,
       "version_minor": 0
      },
      "text/plain": [
       "VBox(children=(HBox(children=(Dropdown(index=2, layout=Layout(width='10%'), options=('HDR1', 'HDR2.1', 'HDR3')…"
      ]
     },
     "metadata": {},
     "output_type": "display_data"
    }
   ],
   "source": [
    "AW = AmpWidget(detectid = EW.detid)"
   ]
  },
  {
   "cell_type": "markdown",
   "metadata": {},
   "source": [
    "## Follow up with QueryWidget"
   ]
  },
  {
   "cell_type": "markdown",
   "metadata": {},
   "source": [
    "You can extract fibers on demand around the detection via QueryWiget:"
   ]
  },
  {
   "cell_type": "code",
   "execution_count": 12,
   "metadata": {
    "scrolled": true
   },
   "outputs": [
    {
     "data": {
      "application/vnd.jupyter.widget-view+json": {
       "model_id": "edbd200a38594abd8bbbb0f6719d7353",
       "version_major": 2,
       "version_minor": 0
      },
      "text/plain": [
       "VBox(children=(HBox(children=(Dropdown(index=3, layout=Layout(width='10%'), options=('HDR1', 'HDR2', 'HDR2.1',…"
      ]
     },
     "metadata": {},
     "output_type": "display_data"
    }
   ],
   "source": [
    "QW = QueryWidget(detectid = EW.detid)"
   ]
  },
  {
   "cell_type": "markdown",
   "metadata": {},
   "source": [
    "## Exploring fun with plotly "
   ]
  },
  {
   "cell_type": "code",
   "execution_count": null,
   "metadata": {},
   "outputs": [],
   "source": [
    "import plotly.express as px"
   ]
  },
  {
   "cell_type": "code",
   "execution_count": null,
   "metadata": {},
   "outputs": [],
   "source": [
    "df = source_table[source_table['sn']>5.5].to_pandas()"
   ]
  },
  {
   "cell_type": "code",
   "execution_count": null,
   "metadata": {},
   "outputs": [],
   "source": [
    "df['marker_size'] = 3\n",
    "fig = px.scatter(df, \n",
    "                 template='plotly', \n",
    "                 x='sn', y='z_hetdex', \n",
    "                 color='source_type', \n",
    "                 size='marker_size', \n",
    "                 size_max=3, \n",
    "                 marginal_y='histogram', \n",
    "                 marginal_x='histogram',\n",
    "                 hover_data=['detectid','source_id'])\n",
    "fig.show()"
   ]
  },
  {
   "cell_type": "code",
   "execution_count": null,
   "metadata": {},
   "outputs": [],
   "source": []
  }
 ],
 "metadata": {
  "kernelspec": {
   "display_name": "Python 3 (ipykernel)",
   "language": "python",
   "name": "python3"
  },
  "language_info": {
   "codemirror_mode": {
    "name": "ipython",
    "version": 3
   },
   "file_extension": ".py",
   "mimetype": "text/x-python",
   "name": "python",
   "nbconvert_exporter": "python",
   "pygments_lexer": "ipython3",
   "version": "3.10.6"
  }
 },
 "nbformat": 4,
 "nbformat_minor": 4
}
