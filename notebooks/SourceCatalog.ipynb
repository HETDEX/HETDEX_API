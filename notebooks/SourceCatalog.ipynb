{
 "cells": [
  {
   "cell_type": "markdown",
   "metadata": {},
   "source": [
    "# Source Catalog Loading, Plotting and Exploring Examples"
   ]
  },
  {
   "cell_type": "code",
   "execution_count": 1,
   "metadata": {},
   "outputs": [],
   "source": [
    "import numpy as np\n",
    "import os.path as op\n",
    "import requests\n",
    "\n",
    "from astropy.table import Table, unique\n",
    "\n",
    "from hetdex_tools.source_catalog import plot_source_group\n",
    "from hetdex_api.elixer_widget_cls import ElixerWidget\n",
    "from hetdex_api.query_widget import QueryWidget\n",
    "from hetdex_api.amp_widget import AmpWidget\n",
    "from hetdex_api.config import HDRconfig"
   ]
  },
  {
   "cell_type": "markdown",
   "metadata": {},
   "source": [
    "This catalog is a combination of sources from the continuum source catalog, the curated detection line catalog of the same version and the confirmed AGN detection IDs from Chenxu Liu's AGN search. Each row is for a detection and its unique catalog detectid. Detectid's of AGN sources *may* appear twice if they are also found in the continuum or curated line catalogs. This is intentional as information about the detection type is used to guess the redshift of the sources. The column `'det_type'` can be `['line','cont','agn']`. The column \"source_type\" describes the source classifcation 'agn','lae', 'oii', 'star', 'lzg'(low-z galaxy without line emission), 'unsure' and 'z_hetdex' provides the best redshift which is a combination of Diagnose redshifts (g<22), Elixer redshifts (g>22) and AGN redshifts.\n",
    "\n",
    "### Column Info can be found here:\n",
    "\n",
    "\n",
    "https://op1srv.mpe.mpg.de/wikihetdex/index.php/Column_Info\n"
   ]
  },
  {
   "cell_type": "code",
   "execution_count": 12,
   "metadata": {},
   "outputs": [],
   "source": [
    "# Open the catalog. We can use HDRconfig to identify the system path"
   ]
  },
  {
   "cell_type": "code",
   "execution_count": 40,
   "metadata": {},
   "outputs": [
    {
     "name": "stdout",
     "output_type": "stream",
     "text": [
      "Source catalog was found at /scratch/projects/hetdex/hdr4/catalogs/source_catalog_4.0.0.fits\n"
     ]
    }
   ],
   "source": [
    "# Enter the catalog version\n",
    "\n",
    "version = '4.0.0'\n",
    "hdrv = 'hdr{}'.format(version[0])\n",
    "config = HDRconfig()\n",
    "catfile = op.join(config.hdr_dir[hdrv], 'catalogs', 'source_catalog_' + version + '.fits')\n",
    "source_table = Table.read(catfile)\n",
    "\n",
    "print('Source catalog was found at {}'.format(catfile))"
   ]
  },
  {
   "cell_type": "code",
   "execution_count": 41,
   "metadata": {},
   "outputs": [
    {
     "name": "stdout",
     "output_type": "stream",
     "text": [
      "source_id >i8\n",
      "source_name |S26\n",
      "detectid >i8\n",
      "flag_best >i8\n",
      "n_members >i8\n",
      "lum >f4\n",
      "ra_mean >f4\n",
      "dec_mean >f4\n",
      "icz >f4\n",
      "ixx >f4\n",
      "iyy >f4\n",
      "ixy >f4\n",
      "izz >f4\n",
      "a >f8\n",
      "b >f8\n",
      "pa >f8\n",
      "a2 >f8\n",
      "b2 >f8\n",
      "pa2 >f8\n",
      "wave_group_id >i8\n",
      "wave_group_a >f8\n",
      "wave_group_b >f8\n",
      "wave_group_pa >f8\n",
      "wave_group_ra >f4\n",
      "wave_group_dec >f4\n",
      "wave_group_wave >f4\n",
      "fwhm >f8\n",
      "throughput >f8\n",
      "fluxlimit_4540 >f8\n",
      "shotid >i8\n",
      "field |S12\n",
      "n_ifu >i8\n",
      "ra >f4\n",
      "dec >f4\n",
      "date >i4\n",
      "obsid >i4\n",
      "wave >f4\n",
      "wave_err >f4\n",
      "flux >f8\n",
      "flux_err >f8\n",
      "linewidth >f4\n",
      "linewidth_err >f4\n",
      "continuum >f8\n",
      "continuum_err >f8\n",
      "sn >f4\n",
      "sn_err >f4\n",
      "chi2 >f4\n",
      "chi2_err >f4\n",
      "multiframe |S20\n",
      "fibnum >i4\n",
      "x_raw >i4\n",
      "y_raw >i4\n",
      "amp |S2\n",
      "apcor >f8\n",
      "chi2fib >f4\n",
      "expnum >i4\n",
      "fiber_id |S38\n",
      "flux_noise_1sigma >f8\n",
      "ifuid |S3\n",
      "ifuslot |S3\n",
      "inputid |S40\n",
      "noise_ratio >f4\n",
      "sn_3fib >f8\n",
      "sn_3fib_cen >f8\n",
      "sn_cen >f8\n",
      "specid |S3\n",
      "weight >f4\n",
      "x_ifu >f4\n",
      "y_ifu >f4\n",
      "det_type |S4\n",
      "flag_baddet >i8\n",
      "gmag >f4\n",
      "plya_classification >f4\n",
      "z_elixer >f4\n",
      "best_pz >f4\n",
      "combined_plae >f4\n",
      "combined_plae_lo >f4\n",
      "combined_plae_hi >f4\n",
      "flags >i4\n",
      "classification_labels |S32\n",
      "counterpart_ra >f4\n",
      "counterpart_dec >f4\n",
      "counterpart_mag >f4\n",
      "counterpart_mag_err >f4\n",
      "counterpart_dist >f8\n",
      "counterpart_catalog_name |S16\n",
      "counterpart_filter_name |S16\n",
      "counterpart_image_depth_mag >f4\n",
      "elixer_cat_src |S16\n",
      "z_agn >f8\n",
      "agn_vis_class >i8\n",
      "flag_pixmask >i8\n",
      "flag_badamp >i8\n",
      "flag_badpix >i8\n",
      "flag_badfib >i8\n",
      "flag_meteor >i8\n",
      "flag_largegal >i8\n",
      "flag_chi2fib >i8\n",
      "Av >f4\n",
      "ebv >f4\n",
      "flux_g >f4\n",
      "zspec >f8\n",
      "ra_zspec >f8\n",
      "dec_zspec >f8\n",
      "zspec_catalog |S16\n",
      "zspec_dist >f8\n",
      "src_separation >f4\n",
      "flux_obs >f4\n",
      "flux_err_obs >f4\n",
      "continuum_obs >f4\n",
      "continuum_err_obs >f4\n",
      "flux_noise_1sigma_obs >f8\n",
      "z_diagnose >f8\n",
      "cls_diagnose |S7\n",
      "stellartype |S1\n",
      "z_hetdex >f8\n",
      "z_hetdex_conf >f8\n",
      "z_hetdex_src |S8\n",
      "source_type |S10\n",
      "agn_flag >f8\n",
      "line_id |S20\n",
      "dwave >f4\n",
      "selected_det bool\n",
      "lum_lya >f8\n",
      "lum_lya_err >f8\n",
      "lum_oii >f8\n",
      "lum_oii_err >f8\n",
      "dee_prob >f8\n",
      "tsne_x >f8\n",
      "tsne_y >f8\n",
      "flag_dee_tsne >i8\n",
      "flag_dee >i8\n",
      "sn_im >f4\n",
      "sn_max >f4\n",
      "chi2_moffat >f4\n",
      "flag_lowlw >i8\n",
      "flag_apcor >i8\n",
      "flag_wave >i8\n",
      "flag_3540 >i8\n",
      "flag_5200 >i8\n",
      "flag_seldet >i8\n",
      "flag_fwhm >i8\n",
      "RAIC_Score >f8\n",
      "RAIC_Label |S12\n",
      "raic_streak >i8\n",
      "raic_meteor >i8\n",
      "raic_satellite >i8\n",
      "raic_cont >i8\n",
      "flag_raic >i8\n",
      "flag_erin_cuts >i8\n"
     ]
    }
   ],
   "source": [
    "for col in source_table.columns:\n",
    "    print(col,source_table[col].dtype)\n",
    "    try:\n",
    "        source_table[col] = source_table[col].filled(np.nan)\n",
    "    except:\n",
    "        pass"
   ]
  },
  {
   "cell_type": "code",
   "execution_count": 47,
   "metadata": {},
   "outputs": [
    {
     "data": {
      "text/html": [
       "&lt;Column name=&apos;raic_streak&apos; dtype=&apos;int64&apos; length=3923407&gt;\n",
       "<table>\n",
       "<tr><td>-1</td></tr>\n",
       "<tr><td>0</td></tr>\n",
       "<tr><td>-1</td></tr>\n",
       "<tr><td>0</td></tr>\n",
       "<tr><td>-1</td></tr>\n",
       "<tr><td>0</td></tr>\n",
       "<tr><td>0</td></tr>\n",
       "<tr><td>-1</td></tr>\n",
       "<tr><td>-1</td></tr>\n",
       "<tr><td>-1</td></tr>\n",
       "<tr><td>0</td></tr>\n",
       "<tr><td>0</td></tr>\n",
       "<tr><td>...</td></tr>\n",
       "<tr><td>0</td></tr>\n",
       "<tr><td>0</td></tr>\n",
       "<tr><td>0</td></tr>\n",
       "<tr><td>0</td></tr>\n",
       "<tr><td>0</td></tr>\n",
       "<tr><td>0</td></tr>\n",
       "<tr><td>0</td></tr>\n",
       "<tr><td>0</td></tr>\n",
       "<tr><td>0</td></tr>\n",
       "<tr><td>0</td></tr>\n",
       "<tr><td>0</td></tr>\n",
       "<tr><td>0</td></tr>\n",
       "</table>"
      ],
      "text/plain": [
       "<Column name='raic_streak' dtype='int64' length=3923407>\n",
       " -1\n",
       "  0\n",
       " -1\n",
       "  0\n",
       " -1\n",
       "  0\n",
       "  0\n",
       " -1\n",
       " -1\n",
       " -1\n",
       "  0\n",
       "  0\n",
       "...\n",
       "  0\n",
       "  0\n",
       "  0\n",
       "  0\n",
       "  0\n",
       "  0\n",
       "  0\n",
       "  0\n",
       "  0\n",
       "  0\n",
       "  0\n",
       "  0"
      ]
     },
     "execution_count": 47,
     "metadata": {},
     "output_type": "execute_result"
    }
   ],
   "source": [
    "source_table['raic_streak'].filled(1)"
   ]
  },
  {
   "cell_type": "markdown",
   "metadata": {},
   "source": [
    "### NEW!!! We will continue to update the bad detection list on github. These can be removed from the catalog using this cell."
   ]
  },
  {
   "cell_type": "code",
   "execution_count": 13,
   "metadata": {},
   "outputs": [],
   "source": [
    "# set to true to update flags for all newly found bad detects since catalog release\n",
    "update_baddets = True\n",
    "\n",
    "if update_baddets:\n",
    "    current_good_dets = np.array(source_table['detectid'][source_table['flag_baddet'] == 1])\n",
    "    baddets = np.array( [int(det) for det in requests.get('https://raw.githubusercontent.com/HETDEX/hetdex_api/master/known_issues/hdr3/baddetects.list').text.split('\\n')])\n",
    "    \n",
    "    update_these_dets = np.intersect1d( current_good_dets, baddets)\n",
    "\n",
    "    for baddet in update_these_dets:\n",
    "        print('Updating flag for {}'.format(baddet))\n",
    "        sel_det = source_table['detectid'] == baddet\n",
    "        if source_table['flag_baddet'][sel_det] == 1:\n",
    "            source_table['flag_baddet'][sel_det] = 0\n",
    "            source_table['flag_best'][sel_det] = 0"
   ]
  },
  {
   "cell_type": "code",
   "execution_count": 14,
   "metadata": {},
   "outputs": [
    {
     "data": {
      "text/plain": [
       "<TableColumns names=('source_id','source_name','detectid','flag_best','n_members','lum','ra_mean','dec_mean','icz','ixx','iyy','ixy','izz','a','b','pa','a2','b2','pa2','wave_group_id','wave_group_a','wave_group_b','wave_group_pa','wave_group_ra','wave_group_dec','wave_group_wave','fwhm','throughput','fluxlimit_4540','shotid','field','n_ifu','ra','dec','date','obsid','wave','wave_err','flux','flux_err','linewidth','linewidth_err','continuum','continuum_err','sn','sn_err','chi2','chi2_err','multiframe','fibnum','x_raw','y_raw','amp','apcor','chi2fib','expnum','fiber_id','flux_noise_1sigma','ifuid','ifuslot','inputid','noise_ratio','sn_3fib','sn_3fib_cen','sn_cen','specid','weight','x_ifu','y_ifu','det_type','flag_baddet','gmag','plya_classification','z_elixer','best_pz','combined_plae','combined_plae_lo','combined_plae_hi','flags','classification_labels','counterpart_ra','counterpart_dec','counterpart_mag','counterpart_mag_err','counterpart_dist','counterpart_catalog_name','counterpart_filter_name','counterpart_image_depth_mag','elixer_cat_src','z_agn','agn_vis_class','flag_pixmask','flag_badamp','flag_badpix','flag_badfib','flag_meteor','flag_largegal','flag_chi2fib','Av','ebv','flux_g','zspec','ra_zspec','dec_zspec','zspec_catalog','zspec_dist','src_separation','flux_obs','flux_err_obs','continuum_obs','continuum_err_obs','flux_noise_1sigma_obs','z_diagnose','cls_diagnose','stellartype','z_hetdex','z_hetdex_conf','z_hetdex_src','source_type','agn_flag','line_id','dwave','selected_det','lum_lya','lum_lya_err','lum_oii','lum_oii_err','dee_prob','tsne_x','tsne_y','flag_dee_tsne','flag_dee','sn_im','sn_max','chi2_moffat','flag_lowlw','flag_apcor','flag_wave','flag_3540','flag_5200','flag_seldet','flag_fwhm','RAIC_Score','RAIC_Label','raic_streak','raic_meteor','raic_satellite','raic_cont','flag_raic','flag_erin_cuts')>"
      ]
     },
     "execution_count": 14,
     "metadata": {},
     "output_type": "execute_result"
    }
   ],
   "source": [
    "source_table.columns"
   ]
  },
  {
   "cell_type": "markdown",
   "metadata": {},
   "source": [
    "You can sort the table using the `unique` function from `astropy.table` on the `source_id` key. For nearby galaxies, stars and AGN, many detectids can comprise the same source (ie. the same `source_id`). When you reduce the catalog using the `unique` function, only 1 detectid remains for the source. It is sorted such that the source with a wavelength matching the `z_guess` value is selected and the detectid is located close to the positional center of the source group. "
   ]
  },
  {
   "cell_type": "code",
   "execution_count": 9,
   "metadata": {},
   "outputs": [],
   "source": [
    "# selecting for S/N>=4.8line sources and all continuum + AGN sources\n",
    "sel_sn = (source_table['sn'] >= 5.5) & (source_table['det_type'] == 'line')\n",
    "sel_good = (source_table['flag_best'] == 1) * (source_table['flag_erin_cuts']==1)\n",
    "sel_det = source_table['selected_det'] == True\n",
    "sel_agn = source_table['source_type']=='agn'\n",
    "sel_cont = source_table['det_type'] == 'cont'\n",
    "sel_cat = (sel_sn | sel_cont | sel_agn) & sel_det & sel_good\n",
    "uniq_table = unique(source_table[sel_cat], keys='source_id')"
   ]
  },
  {
   "cell_type": "code",
   "execution_count": 10,
   "metadata": {},
   "outputs": [
    {
     "name": "stdout",
     "output_type": "stream",
     "text": [
      "There are 4980 low-z gals, 8672 stars, 329027 OII emitters, 5715 AGN, and 181547 LAEs\n"
     ]
    }
   ],
   "source": [
    "star = uniq_table['source_id'][uniq_table['source_type'] == 'star']\n",
    "oii = uniq_table['source_id'][uniq_table['source_type'] == 'oii']\n",
    "lae = uniq_table['source_id'][uniq_table['source_type'] == 'lae']\n",
    "agn = uniq_table['source_id'][uniq_table['source_type'] == 'agn']\n",
    "lzg = uniq_table['source_id'][uniq_table['source_type'] == 'lzg']\n",
    "\n",
    "print('There are {} low-z gals, {} stars, {} OII emitters, {} AGN, and {} LAEs'. \\\n",
    "      format(np.size(lzg), np.size(star), np.size(oii), np.size(agn), np.size(lae)))"
   ]
  },
  {
   "cell_type": "markdown",
   "metadata": {},
   "source": [
    "## Here is an example of plotting a group"
   ]
  },
  {
   "cell_type": "code",
   "execution_count": 27,
   "metadata": {},
   "outputs": [],
   "source": [
    "%matplotlib inline"
   ]
  },
  {
   "cell_type": "code",
   "execution_count": 28,
   "metadata": {},
   "outputs": [
    {
     "data": {
      "image/png": "[encoded data removed]",
      "text/plain": [
       "<Figure size 576x576 with 1 Axes>"
      ]
     },
     "metadata": {
      "needs_background": "light"
     },
     "output_type": "display_data"
    },
    {
     "data": {
      "application/vnd.jupyter.widget-view+json": {
       "model_id": "14b8a0b5e8e3414bac36a27a79e072f8",
       "version_major": 2,
       "version_minor": 0
      },
      "text/plain": [
       "interactive(children=(Text(value='3000331288', description='DetectID:', placeholder='3000331288'), Output()), …"
      ]
     },
     "metadata": {},
     "output_type": "display_data"
    }
   ],
   "source": [
    "# the source_ids are sorted by member number ('n_member' in the catalog)\n",
    "# This is how many detections are found in the source_id group\n",
    "\n",
    "# Here's a query for high S/N LAEs\n",
    "sel = (uniq_table['source_type'] == 'lae') & (uniq_table['sn'] > 6.5)\n",
    "sid = uniq_table['source_id'][sel][301]\n",
    "\n",
    "# Index a star \n",
    "#sid = star[100]\n",
    "\n",
    "# Index an OII galaxy\n",
    "#sid = oii[0]\n",
    "\n",
    "# Index an LAE\n",
    "#sid = lae[0]\n",
    "\n",
    "# Index the AGN list:\n",
    "#sid = agn[0]\n",
    "\n",
    "# This step grabs the source group so we can look at each source in Elixer\n",
    "sel_group = (source_table['source_id'] == sid) \n",
    "group = source_table[sel_group]\n",
    "\n",
    "#print(sid)\n",
    "#print(group)\n",
    "\n",
    "# this function overplots the source group over an image\n",
    "# use label=True to see detectid's on image\n",
    "# use save=True to save the image to you working directory\n",
    "# the size of the line emission is scaled to the S/N of the line\n",
    "\n",
    "plot_source_group(source_id = sid, source_table = source_table, label = False, save = False)\n",
    "EW = ElixerWidget(detectlist = source_table['detectid'][sel_group])"
   ]
  },
  {
   "cell_type": "markdown",
   "metadata": {},
   "source": [
    "## Follow a detection in the 2D image with AmpWidget "
   ]
  },
  {
   "cell_type": "markdown",
   "metadata": {},
   "source": [
    "This will map the detectid from the ElixerWidget above to the amp widget. The detection's highest weight fiber is marked with a red circle at the emission line wavelength."
   ]
  },
  {
   "cell_type": "code",
   "execution_count": 31,
   "metadata": {},
   "outputs": [
    {
     "data": {
      "application/vnd.jupyter.widget-view+json": {
       "model_id": "0f7b441bae3f46e990bfd58589503662",
       "version_major": 2,
       "version_minor": 0
      },
      "text/plain": [
       "VBox(children=(HBox(children=(Dropdown(index=3, layout=Layout(width='10%'), options=('HDR1', 'HDR2.1', 'HDR3',…"
      ]
     },
     "metadata": {},
     "output_type": "display_data"
    }
   ],
   "source": [
    "AW = AmpWidget(detectid = EW.detid)"
   ]
  },
  {
   "cell_type": "markdown",
   "metadata": {},
   "source": [
    "## Follow up with QueryWidget"
   ]
  },
  {
   "cell_type": "markdown",
   "metadata": {},
   "source": [
    "You can extract fibers on demand around the detection via QueryWiget:"
   ]
  },
  {
   "cell_type": "code",
   "execution_count": 32,
   "metadata": {},
   "outputs": [
    {
     "data": {
      "application/vnd.jupyter.widget-view+json": {
       "model_id": "7877d18a5fbe49b4ae1c199d1dd326ed",
       "version_major": 2,
       "version_minor": 0
      },
      "text/plain": [
       "VBox(children=(HBox(children=(Dropdown(index=4, layout=Layout(width='10%'), options=('HDR1', 'HDR2', 'HDR2.1',…"
      ]
     },
     "metadata": {},
     "output_type": "display_data"
    }
   ],
   "source": [
    "QW = QueryWidget(detectid = EW.detid)"
   ]
  },
  {
   "cell_type": "markdown",
   "metadata": {},
   "source": [
    "## Exploring fun with plotly "
   ]
  },
  {
   "cell_type": "code",
   "execution_count": null,
   "metadata": {},
   "outputs": [],
   "source": [
    "import plotly.express as px"
   ]
  },
  {
   "cell_type": "code",
   "execution_count": null,
   "metadata": {},
   "outputs": [],
   "source": [
    "df = source_table[source_table['sn']>5.5].to_pandas()"
   ]
  },
  {
   "cell_type": "code",
   "execution_count": null,
   "metadata": {},
   "outputs": [],
   "source": [
    "df['marker_size'] = 3\n",
    "fig = px.scatter(df, \n",
    "                 template='plotly', \n",
    "                 x='sn', y='z_hetdex', \n",
    "                 color='source_type', \n",
    "                 size='marker_size', \n",
    "                 size_max=3, \n",
    "                 marginal_y='histogram', \n",
    "                 marginal_x='histogram',\n",
    "                 hover_data=['detectid','source_id'])\n",
    "fig.show()"
   ]
  },
  {
   "cell_type": "code",
   "execution_count": null,
   "metadata": {},
   "outputs": [],
   "source": []
  }
 ],
 "metadata": {
  "kernelspec": {
   "display_name": "Python 3 (ipykernel)",
   "language": "python",
   "name": "python3"
  },
  "language_info": {
   "codemirror_mode": {
    "name": "ipython",
    "version": 3
   },
   "file_extension": ".py",
   "mimetype": "text/x-python",
   "name": "python",
   "nbconvert_exporter": "python",
   "pygments_lexer": "ipython3",
   "version": "3.9.7"
  },
  "widgets": {
   "application/vnd.jupyter.widget-state+json": {
    "state": {},
    "version_major": 2,
    "version_minor": 0
   }
  }
 },
 "nbformat": 4,
 "nbformat_minor": 4
}
