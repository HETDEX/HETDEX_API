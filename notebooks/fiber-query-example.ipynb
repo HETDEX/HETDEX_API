{
 "cells": [
  {
   "cell_type": "code",
   "execution_count": null,
   "id": "779ebe43",
   "metadata": {},
   "outputs": [],
   "source": [
    "import numpy as np\n",
    "import time\n",
    "\n",
    "import matplotlib.pyplot as plt\n",
    "\n",
    "from astropy.table import Table, vstack, hstack\n",
    "from astropy.coordinates import SkyCoord\n",
    "import astropy.units as u\n",
    "\n",
    "from hetdex_api.shot import get_fibers_table\n",
    "from hetdex_api.survey import FiberIndex"
   ]
  },
  {
   "cell_type": "markdown",
   "id": "65bdf4fe",
   "metadata": {},
   "source": [
    "# Query a single coordinate:"
   ]
  },
  {
   "cell_type": "code",
   "execution_count": null,
   "id": "646a24e7",
   "metadata": {},
   "outputs": [],
   "source": [
    "coord = SkyCoord(ra=189.29668*u.deg, dec=62.241787*u.deg)"
   ]
  },
  {
   "cell_type": "code",
   "execution_count": null,
   "id": "0c7e8dc2",
   "metadata": {},
   "outputs": [],
   "source": [
    "# Intiate the FiberIndex class from hetdex_api.survey:\n",
    "F = FiberIndex()\n",
    "\n",
    "#help(F.query_region)"
   ]
  },
  {
   "cell_type": "markdown",
   "id": "ec0ae161",
   "metadata": {},
   "source": [
    "FiberIndex.Query_region() returns an astropy table of all fibers within the the aperture defined. Default is 3.5 arcsec radius. amp_flag, gal_flag, meteor flag populate whether the fiber would make it into the current catalog. 1 is good, 0 is removed. 'flag' combines the three flags"
   ]
  },
  {
   "cell_type": "code",
   "execution_count": null,
   "id": "9de6ef32",
   "metadata": {},
   "outputs": [],
   "source": [
    "# This example was observed in multiple observations so there are many associated fibers\n",
    "fibtab = F.query_region(coord, radius=3.5*u.arcsec)\n",
    "fibtab.show_in_notebook()"
   ]
  },
  {
   "cell_type": "code",
   "execution_count": null,
   "id": "72535e53",
   "metadata": {},
   "outputs": [],
   "source": [
    "# close the FiberIndex class (and associated open h5 files) when done\n",
    "F.close()"
   ]
  },
  {
   "cell_type": "markdown",
   "id": "b8304c2b",
   "metadata": {},
   "source": [
    "# To grab the fibers use Extract"
   ]
  },
  {
   "cell_type": "code",
   "execution_count": null,
   "id": "df8841c0",
   "metadata": {},
   "outputs": [],
   "source": [
    "from hetdex_api.extract import Extract"
   ]
  },
  {
   "cell_type": "code",
   "execution_count": null,
   "id": "bb86e22b",
   "metadata": {},
   "outputs": [],
   "source": [
    "obslist = np.unique(fibtab['shotid'])"
   ]
  },
  {
   "cell_type": "code",
   "execution_count": null,
   "id": "dffb0465",
   "metadata": {},
   "outputs": [],
   "source": [
    "E = Extract()\n",
    "E.load_shot(obslist[0])"
   ]
  },
  {
   "cell_type": "code",
   "execution_count": null,
   "id": "f2b90282",
   "metadata": {},
   "outputs": [],
   "source": [
    "ifux, ifuy, xc, yc, ra, dec, spec, spece, mask, fiberid_array, mf_array = E.get_fiberinfo_for_coord(coord, return_fiber_info=True)"
   ]
  },
  {
   "cell_type": "code",
   "execution_count": null,
   "id": "0f8c903d",
   "metadata": {},
   "outputs": [],
   "source": [
    "np.shape(spec) # 1st dim is fiber dimension, 2nd is wavelength"
   ]
  },
  {
   "cell_type": "code",
   "execution_count": null,
   "id": "d3cf7ceb",
   "metadata": {},
   "outputs": [],
   "source": [
    "%matplotlib inline"
   ]
  },
  {
   "cell_type": "code",
   "execution_count": null,
   "id": "cf8bcb5b",
   "metadata": {},
   "outputs": [],
   "source": [
    "# Here is every fiber in the 3.5 arcsec aperture\n",
    "plt.figure(figsize=(10,5))\n",
    "for i in np.arange(np.shape(spec)[0]):\n",
    "    plt.plot(E.wave, spec[i], label='FiberID is {}'.format(fiberid_array[i]))\n",
    "    \n",
    "#plt.legend()"
   ]
  },
  {
   "cell_type": "markdown",
   "id": "7ff8e8a0",
   "metadata": {},
   "source": [
    "# Query a table with < 10 K Sources"
   ]
  },
  {
   "cell_type": "code",
   "execution_count": null,
   "id": "2764d1fe",
   "metadata": {},
   "outputs": [],
   "source": [
    "# Open the pared down SDSS AGN catalog. See below for how this was done."
   ]
  },
  {
   "cell_type": "code",
   "execution_count": null,
   "id": "1366b9e7",
   "metadata": {},
   "outputs": [],
   "source": [
    "sdss_agn = Table.read('sdss-dex-agn.fits')\n",
    "agn_coords = SkyCoord(ra = sdss_agn['RA'], dec= sdss_agn['DEC'])"
   ]
  },
  {
   "cell_type": "code",
   "execution_count": null,
   "id": "c48d70d2",
   "metadata": {},
   "outputs": [],
   "source": [
    "from multiprocessing import Pool"
   ]
  },
  {
   "cell_type": "code",
   "execution_count": null,
   "id": "76177179",
   "metadata": {},
   "outputs": [],
   "source": [
    "def get_fiber_table(coord):\n",
    "    F = FiberIndex()\n",
    "    tab = F.query_region(coord, radius=3.5*u.arcsec)\n",
    "    F.close()\n",
    "    return tab"
   ]
  },
  {
   "cell_type": "code",
   "execution_count": null,
   "id": "6dcb911e",
   "metadata": {},
   "outputs": [],
   "source": []
  },
  {
   "cell_type": "code",
   "execution_count": null,
   "id": "198a777d",
   "metadata": {},
   "outputs": [],
   "source": [
    "t0 = time.time()\n",
    "p = Pool()\n",
    "res = p.map(F.query_region, agn_coords)\n",
    "p.close()\n",
    "t1 = time.time()\n",
    "\n",
    "print((t1-t0)/60)"
   ]
  },
  {
   "cell_type": "code",
   "execution_count": null,
   "id": "9aafe0ab",
   "metadata": {},
   "outputs": [],
   "source": [
    "t0 = time.time()\n",
    "p = Pool()\n",
    "res = p.map(get_fiber_table, agn_coords)\n",
    "p.close()\n",
    "t1 = time.time()\n",
    "\n",
    "print((t1-t0)/60)"
   ]
  },
  {
   "cell_type": "code",
   "execution_count": null,
   "id": "3c92700b",
   "metadata": {},
   "outputs": [],
   "source": [
    "res[0]"
   ]
  },
  {
   "cell_type": "markdown",
   "id": "568d1cc0",
   "metadata": {},
   "source": [
    "The output from multiprocessing will be a list of the astropy table object printed above for each coordinate. Loop through the results and do what you like with the data or change the function to do it faster with multiprocessing. For example this will go through the AGN catalog and return a list of shotid's for a given coordinate and will provide the net 'flag' value for that aperture"
   ]
  },
  {
   "cell_type": "code",
   "execution_count": null,
   "id": "e4052994",
   "metadata": {},
   "outputs": [],
   "source": [
    "def get_nobs(coord):\n",
    "    \n",
    "    F = FiberIndex()\n",
    "    fib_table = F.query_region(coord, radius=3.5*u.arcsec)\n",
    "    F.close()\n",
    "    \n",
    "    # check how many fibers in aperture for each shotid\n",
    "    shotlist, nfib_list = np.unique(fib_table['shotid'], return_counts=True)\n",
    "    n_obs = np.size(shotlist)\n",
    "    \n",
    "    flag_list = []\n",
    "    for shot in shotlist:\n",
    "        flag_list.append( int(np.all(fib_table['flag'][fib_table['shotid']==shot])) )\n",
    "    n_obs_good = np.sum(flag_list)\n",
    "    \n",
    "    return n_obs, n_obs_good, list(shotlist), list(nfib_list), list(flag_list)"
   ]
  },
  {
   "cell_type": "code",
   "execution_count": null,
   "id": "dffd8510",
   "metadata": {},
   "outputs": [],
   "source": [
    "get_nobs(agn_coords[10])"
   ]
  },
  {
   "cell_type": "code",
   "execution_count": null,
   "id": "aad2346c",
   "metadata": {},
   "outputs": [],
   "source": [
    "t0 = time.time()\n",
    "p = Pool()\n",
    "res = p.map(get_nobs, agn_coords)\n",
    "p.close()\n",
    "t1 = time.time()\n",
    "\n",
    "print((t1-t0)/60)"
   ]
  },
  {
   "cell_type": "code",
   "execution_count": null,
   "id": "1e26d674",
   "metadata": {},
   "outputs": [],
   "source": [
    "n_obs = []\n",
    "n_obs_good = []\n",
    "shots_for_src = []\n",
    "nfib_for_src = []\n",
    "shotflags = []\n",
    "\n",
    "for r in res:\n",
    "    n_obs.append(r[0])\n",
    "    n_obs_good.append(r[1])\n",
    "    shots_for_src.append(r[2]) \n",
    "    nfib_for_src.append(r[3]) \n",
    "    shotflags.append(r[4])"
   ]
  },
  {
   "cell_type": "code",
   "execution_count": null,
   "id": "2b04dbec",
   "metadata": {},
   "outputs": [],
   "source": [
    "print('{} sources have at least one good observation'.format(np.sum( np.array(n_obs_good) > 0)))"
   ]
  },
  {
   "cell_type": "markdown",
   "id": "53151e8f",
   "metadata": {},
   "source": [
    "# Query a very large catalog by loading the full fibers table. Use astropy search_around_sky for faster querying through kdtree. This is best done on stampede2 \n"
   ]
  },
  {
   "cell_type": "code",
   "execution_count": null,
   "id": "c874c753",
   "metadata": {},
   "outputs": [],
   "source": [
    "#https://docs.astropy.org/en/stable/coordinates/matchsep.html#searching-around-coordinates"
   ]
  },
  {
   "cell_type": "code",
   "execution_count": null,
   "id": "02d529dd",
   "metadata": {},
   "outputs": [],
   "source": [
    "sdss_agn = Table.read('DR14Q_v4_4.fits')\n",
    "agn_coords = SkyCoord(ra = sdss_agn['RA'], dec= sdss_agn['DEC'])"
   ]
  },
  {
   "cell_type": "code",
   "execution_count": null,
   "id": "e16693b9",
   "metadata": {},
   "outputs": [],
   "source": [
    "# If you set load_fiber_table=True, the full fiber table will load. This takes some time,\n",
    "# takes loads of memory. Best done on stampede2 and takes 2 minutes\n",
    "F = FiberIndex(load_fiber_table=True)"
   ]
  },
  {
   "cell_type": "code",
   "execution_count": null,
   "id": "39e8361e",
   "metadata": {},
   "outputs": [],
   "source": [
    "# The full array of fiber coordinates are here:\n",
    "F.coords"
   ]
  },
  {
   "cell_type": "code",
   "execution_count": null,
   "id": "6a2d38f3",
   "metadata": {},
   "outputs": [],
   "source": [
    "sel_good = np.isfinite(F.coords.ra.value) # some values are NaN so this gets rid of them"
   ]
  },
  {
   "cell_type": "code",
   "execution_count": null,
   "id": "d8cb8b59",
   "metadata": {},
   "outputs": [],
   "source": [
    "t0 = time.time()\n",
    "idxagn, idxF, sep2d, dist3d = F.coords[sel_good].search_around_sky(agn_coords, seplimit=3.5*u.arcsec)\n",
    "t1 = time.time()\n",
    "print(t1-t0)"
   ]
  },
  {
   "cell_type": "code",
   "execution_count": null,
   "id": "971e1a01",
   "metadata": {},
   "outputs": [],
   "source": [
    "# save table for AGN that have at least one fiber coverage\n",
    "sdss_agn[np.unique(idxagn)].write('sdss-dex-agn.fits', overwrite=True)"
   ]
  },
  {
   "cell_type": "code",
   "execution_count": null,
   "id": "9fd796d1",
   "metadata": {},
   "outputs": [],
   "source": [
    "sdss_agn[np.unique(idxagn)]"
   ]
  },
  {
   "cell_type": "code",
   "execution_count": null,
   "id": "5102e833",
   "metadata": {},
   "outputs": [],
   "source": [
    "# Combined the tables with hstack"
   ]
  },
  {
   "cell_type": "code",
   "execution_count": null,
   "id": "7c583932",
   "metadata": {},
   "outputs": [],
   "source": [
    "matched_fiber_table = hstack([sdss_agn[idxagn], F.fiber_table[sel_good][idxF]])"
   ]
  },
  {
   "cell_type": "code",
   "execution_count": null,
   "id": "148bbb7d",
   "metadata": {},
   "outputs": [],
   "source": [
    "import matplotlib.pyplot as plt"
   ]
  },
  {
   "cell_type": "code",
   "execution_count": null,
   "id": "822b2a90",
   "metadata": {},
   "outputs": [],
   "source": [
    "#quick check to make sure coordinates matched\n",
    "plt.scatter( matched_fiber_table['RA'], matched_fiber_table['ra'])"
   ]
  },
  {
   "cell_type": "code",
   "execution_count": null,
   "id": "472938a9",
   "metadata": {},
   "outputs": [],
   "source": [
    "plt.scatter( matched_fiber_table['DEC'], matched_fiber_table['dec'])"
   ]
  },
  {
   "cell_type": "code",
   "execution_count": null,
   "id": "0aa09cc9",
   "metadata": {},
   "outputs": [],
   "source": []
  }
 ],
 "metadata": {
  "kernelspec": {
   "display_name": "Python 3",
   "language": "python",
   "name": "python3"
  },
  "language_info": {
   "codemirror_mode": {
    "name": "ipython",
    "version": 3
   },
   "file_extension": ".py",
   "mimetype": "text/x-python",
   "name": "python",
   "nbconvert_exporter": "python",
   "pygments_lexer": "ipython3",
   "version": "3.7.0"
  }
 },
 "nbformat": 4,
 "nbformat_minor": 5
}
