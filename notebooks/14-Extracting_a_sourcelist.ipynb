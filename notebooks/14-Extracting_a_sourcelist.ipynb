{
 "cells": [
  {
   "cell_type": "markdown",
   "metadata": {},
   "source": [
    "# Extracting Spectra"
   ]
  },
  {
   "cell_type": "markdown",
   "metadata": {},
   "source": [
    "This notebook demonstrates how to grab 1D aperture summed HETDEX spectra for an input of ID, RA and DEC using the `Extract` Class API from `hetdex_api`. This can be done interactively using `get_spectra` from hte `hetdex_tools.get_spec` module. It can also be done in the command line using the quick entry call `hetdex_get_spec` providing you have hetdex_api pip installed.\n",
    "\n",
    "Examples of what you might like to do with the spectra afterwards is shown later. The output is stored in an astropy table of spectra. For every HETDEX observation where spectra is found, a spectra is given. It is up to the user to combine the spectra afterwards."
   ]
  },
  {
   "cell_type": "markdown",
   "metadata": {},
   "source": [
    "### IMPORTANT NOTE OF CAUTION WITH RUNNING ON TACC!!!"
   ]
  },
  {
   "cell_type": "markdown",
   "metadata": {},
   "source": [
    "Because this script involves opening the Fibers class object which contains all fiber spectra from a 3 dither observation, you will be pulling in a lot of memory for each shot that is open. **NEVER** run this script from a login node on TACC. A login node is a node you access when you ssh in. \n",
    "\n",
    "You need to request a compute node instead by either \n",
    "\n",
    "(1) using the idev command : `idev -t 04:00:00` \n",
    "\n",
    "(2) using a jupyter notebook \n",
    "\n",
    "(3) or by submitting the job into the slurm job scheduler (this is probably only needed if you are doing more than 1000 extractions per shot on more than 1000 shots)"
   ]
  },
  {
   "cell_type": "markdown",
   "metadata": {},
   "source": [
    "### Import all necessary python packages. \n",
    "These are mainly for working within the notebook. The command line tool already has the necessary preamble built in."
   ]
  },
  {
   "cell_type": "code",
   "execution_count": 1,
   "metadata": {},
   "outputs": [],
   "source": [
    "%matplotlib inline\n",
    "import matplotlib.pyplot as plt\n",
    "import numpy as np\n",
    "\n",
    "import astropy.units as u\n",
    "from astropy.io import fits\n",
    "from astropy.coordinates import SkyCoord\n",
    "from astropy.table import Table, join\n",
    "\n",
    "from hetdex_tools.get_spec import get_spectra"
   ]
  },
  {
   "cell_type": "markdown",
   "metadata": {},
   "source": [
    "## Getting all spectra at a specified RA/DEC. This will search through all shots in HDR2"
   ]
  },
  {
   "cell_type": "markdown",
   "metadata": {},
   "source": [
    "If a shotid is not specified the program will search for any shot within HDR2 that overlaps within an 11 arcmin radius of the input coordinates. Because of the non-contiguous VIRUS footprint, there is no guarantee the aperture defined by the input ra/dec/rad will contain enough fibers to do a measurement. The aperture radius is 3\" by default or can be specified with the --rad argument. "
   ]
  },
  {
   "cell_type": "markdown",
   "metadata": {},
   "source": [
    "Open a catalog of IDs, RAs, DECs:"
   ]
  },
  {
   "cell_type": "code",
   "execution_count": 2,
   "metadata": {},
   "outputs": [],
   "source": [
    "input_cat = Table.read('/work/05350/ecooper/stampede2/hdr2-tests/hps-muse/highz_emitters.fits')"
   ]
  },
  {
   "cell_type": "code",
   "execution_count": 3,
   "metadata": {},
   "outputs": [
    {
     "data": {
      "text/html": [
       "<i>Table length=5</i>\n",
       "<table id=\"table47889346717848\" class=\"table-striped table-bordered table-condensed\">\n",
       "<thead><tr><th>ID</th><th>RA</th><th>DEC</th><th>WAVE</th><th>FLUX</th><th>FLUXE_L</th><th>FLUXE_H</th><th>z</th></tr></thead>\n",
       "<thead><tr><th></th><th>deg</th><th>deg</th><th>Angstrom</th><th>1e-17 erg / (cm2 s)</th><th>1e-17 erg / (cm2 s)</th><th>1e-17 erg / (cm2 s)</th><th></th></tr></thead>\n",
       "<thead><tr><th>int64</th><th>float64</th><th>float64</th><th>float64</th><th>float64</th><th>float64</th><th>float64</th><th>float64</th></tr></thead>\n",
       "<tr><td>3</td><td>35.30979166666667</td><td>-4.527130555555556</td><td>4973.93</td><td>19.9</td><td>3.1</td><td>4.7</td><td>3.0915</td></tr>\n",
       "<tr><td>4</td><td>35.31191666666666</td><td>-4.532388888888889</td><td>5261.37</td><td>42.6</td><td>12.4</td><td>11.2</td><td>1.7561</td></tr>\n",
       "<tr><td>5</td><td>35.31308333333333</td><td>-4.531666666666666</td><td>4270.67</td><td>342.1</td><td>14.3</td><td>16.5</td><td>1.757</td></tr>\n",
       "<tr><td>6</td><td>35.31816666666666</td><td>-4.4926</td><td>4591.58</td><td>32.7</td><td>3.6</td><td>3.5</td><td>2.777</td></tr>\n",
       "<tr><td>11</td><td>35.32691666666666</td><td>-4.459319444444445</td><td>4590.82</td><td>21.2</td><td>4.6</td><td>4.7</td><td>2.7764</td></tr>\n",
       "</table>"
      ],
      "text/plain": [
       "<Table length=5>\n",
       "  ID          RA               DEC         ...       FLUXE_H          z   \n",
       "             deg               deg         ... 1e-17 erg / (cm2 s)        \n",
       "int64      float64           float64       ...       float64       float64\n",
       "----- ----------------- ------------------ ... ------------------- -------\n",
       "    3 35.30979166666667 -4.527130555555556 ...                 4.7  3.0915\n",
       "    4 35.31191666666666 -4.532388888888889 ...                11.2  1.7561\n",
       "    5 35.31308333333333 -4.531666666666666 ...                16.5   1.757\n",
       "    6 35.31816666666666            -4.4926 ...                 3.5   2.777\n",
       "   11 35.32691666666666 -4.459319444444445 ...                 4.7  2.7764"
      ]
     },
     "execution_count": 3,
     "metadata": {},
     "output_type": "execute_result"
    }
   ],
   "source": [
    "input_cat[0:5]"
   ]
  },
  {
   "cell_type": "markdown",
   "metadata": {},
   "source": [
    "`get_spectra()` requires an astropy coordinates object list as an input."
   ]
  },
  {
   "cell_type": "code",
   "execution_count": 4,
   "metadata": {},
   "outputs": [],
   "source": [
    "input_coords = SkyCoord(ra=input_cat['RA'], dec=input_cat['DEC'])"
   ]
  },
  {
   "cell_type": "code",
   "execution_count": 7,
   "metadata": {},
   "outputs": [],
   "source": [
    "sources = get_spectra(input_coords, ID=input_cat['ID'])"
   ]
  },
  {
   "cell_type": "markdown",
   "metadata": {},
   "source": [
    "##  get_spectra() options"
   ]
  },
  {
   "cell_type": "markdown",
   "metadata": {},
   "source": [
    "There are a few options to consider when running get_spectra():"
   ]
  },
  {
   "cell_type": "code",
   "execution_count": 6,
   "metadata": {},
   "outputs": [
    {
     "name": "stdout",
     "output_type": "stream",
     "text": [
      "Help on function get_spectra in module hetdex_tools.get_spec:\n",
      "\n",
      "get_spectra(coords, ID=None, rad=3.0, multiprocess=True, shotid=None, survey='hdr2', tpmin=0.09, ffsky=False)\n",
      "    Function to retrieve PSF-weighted, ADR and aperture corrected\n",
      "    spectral extractions of HETDEX fibers. It will search all shots\n",
      "    within a specific HETDEX Data Release and return a table of\n",
      "    spectra for each extraction per shot in which more than 7 fibers\n",
      "    are found in order to generate an extracted spectrum.\n",
      "    \n",
      "    Parameters\n",
      "    ----------\n",
      "    coords\n",
      "        list astropy coordinates\n",
      "    ID\n",
      "        list of ID names (must be same length as coords). Will\n",
      "        generate a running index if no ID is given\n",
      "    rad\n",
      "        radius of circular aperture to be extracted in arcsec.\n",
      "        Default is 3.0\n",
      "    multiprocess\n",
      "        boolean flag to use multiprocessing. This will greatly\n",
      "        speed up its operation as it will extract on 32 shots at\n",
      "        time. But only use this when on a compute node. Use\n",
      "        idev, a jupyter notebook, or submit the job as a single\n",
      "        python slurm job.\n",
      "    shotid\n",
      "        list of integer shotids to do extractions on. By default\n",
      "        it will search the whole survey except for shots located\n",
      "        in the bad.shotlist file\n",
      "    survey\n",
      "        Survey you want to access. User note that HDR1 extractions\n",
      "        are much slower compared to HDR2.\n",
      "    tpmin\n",
      "        Include only shots above tpmin. Default is 0.09.\n",
      "    ffsky\n",
      "        Use the full frame 2D sky subtraction model. Default is\n",
      "        to use the local sky subtracted, flux calibrated fibers.\n",
      "    \n",
      "    Returns\n",
      "    -------\n",
      "    sources\n",
      "        an astropy table object of source spectra for all input\n",
      "        coords/ID that have spectra in the survey shots. There\n",
      "        is one row per source ID/shotid observation.\n",
      "\n"
     ]
    }
   ],
   "source": [
    "help(get_spectra)"
   ]
  },
  {
   "cell_type": "markdown",
   "metadata": {},
   "source": [
    "### Reading in the output - astropy FITS files"
   ]
  },
  {
   "cell_type": "code",
   "execution_count": 9,
   "metadata": {},
   "outputs": [
    {
     "data": {
      "text/html": [
       "<i>Table length=5</i>\n",
       "<table id=\"table47890247148600\" class=\"table-striped table-bordered table-condensed\">\n",
       "<thead><tr><th>ID</th><th>shotid</th><th>wavelength [1036]</th><th>spec [1036]</th><th>spec_err [1036]</th><th>weights [1036]</th></tr></thead>\n",
       "<thead><tr><th></th><th></th><th>Angstrom</th><th>1e-17 erg / (Angstrom cm2 s)</th><th>1e-17 erg / (Angstrom cm2 s)</th><th></th></tr></thead>\n",
       "<thead><tr><th>int64</th><th>int64</th><th>float64</th><th>float64</th><th>float64</th><th>float64</th></tr></thead>\n",
       "<tr><td>360</td><td>20170130027</td><td>3470.0 .. 5540.0</td><td>nan .. nan</td><td>nan .. nan</td><td>0.8530224046204286 .. 0.8566766913047349</td></tr>\n",
       "<tr><td>360</td><td>20170224006</td><td>3470.0 .. 5540.0</td><td>nan .. nan</td><td>nan .. nan</td><td>0.8502338248829885 .. 0.8602435340384444</td></tr>\n",
       "<tr><td>360</td><td>20170326010</td><td>3470.0 .. 5540.0</td><td>nan .. nan</td><td>nan .. nan</td><td>0.8750953493900122 .. 0.8787945903307385</td></tr>\n",
       "<tr><td>372</td><td>20170126002</td><td>3470.0 .. 5540.0</td><td>nan .. nan</td><td>nan .. nan</td><td>0.8811780092325096 .. 0.8900289027924926</td></tr>\n",
       "<tr><td>372</td><td>20170322016</td><td>3470.0 .. 5540.0</td><td>nan .. nan</td><td>nan .. nan</td><td>0.8997470730626222 .. 0.9202416808656538</td></tr>\n",
       "</table>"
      ],
      "text/plain": [
       "<Table length=5>\n",
       "  ID     shotid   ...              weights [1036]             \n",
       "                  ...                                         \n",
       "int64    int64    ...                 float64                 \n",
       "----- ----------- ... ----------------------------------------\n",
       "  360 20170130027 ... 0.8530224046204286 .. 0.8566766913047349\n",
       "  360 20170224006 ... 0.8502338248829885 .. 0.8602435340384444\n",
       "  360 20170326010 ... 0.8750953493900122 .. 0.8787945903307385\n",
       "  372 20170126002 ... 0.8811780092325096 .. 0.8900289027924926\n",
       "  372 20170322016 ... 0.8997470730626222 .. 0.9202416808656538"
      ]
     },
     "execution_count": 9,
     "metadata": {},
     "output_type": "execute_result"
    }
   ],
   "source": [
    "sources[0:5]"
   ]
  },
  {
   "cell_type": "markdown",
   "metadata": {},
   "source": [
    "Join your input and output table so you can match up any properties you like"
   ]
  },
  {
   "cell_type": "code",
   "execution_count": 10,
   "metadata": {},
   "outputs": [],
   "source": [
    "output_table = join(input_cat, sources)"
   ]
  },
  {
   "cell_type": "code",
   "execution_count": 11,
   "metadata": {},
   "outputs": [
    {
     "data": {
      "text/html": [
       "<i>Table length=5</i>\n",
       "<table id=\"table47890247322648\" class=\"table-striped table-bordered table-condensed\">\n",
       "<thead><tr><th>ID</th><th>RA</th><th>DEC</th><th>WAVE</th><th>FLUX</th><th>FLUXE_L</th><th>FLUXE_H</th><th>z</th><th>shotid</th><th>wavelength [1036]</th><th>spec [1036]</th><th>spec_err [1036]</th><th>weights [1036]</th></tr></thead>\n",
       "<thead><tr><th></th><th>deg</th><th>deg</th><th>Angstrom</th><th>1e-17 erg / (cm2 s)</th><th>1e-17 erg / (cm2 s)</th><th>1e-17 erg / (cm2 s)</th><th></th><th></th><th>Angstrom</th><th>1e-17 erg / (Angstrom cm2 s)</th><th>1e-17 erg / (Angstrom cm2 s)</th><th></th></tr></thead>\n",
       "<thead><tr><th>int64</th><th>float64</th><th>float64</th><th>float64</th><th>float64</th><th>float64</th><th>float64</th><th>float64</th><th>int64</th><th>float64</th><th>float64</th><th>float64</th><th>float64</th></tr></thead>\n",
       "<tr><td>182</td><td>150.05175</td><td>2.2376444444444443</td><td>4174.25</td><td>25.6</td><td>5.2</td><td>5.8</td><td>2.4337</td><td>20170222007</td><td>3470.0 .. 5540.0</td><td>nan .. nan</td><td>nan .. nan</td><td>0.8779764074573124 .. 0.8919157194039836</td></tr>\n",
       "<tr><td>182</td><td>150.05175</td><td>2.2376444444444443</td><td>4174.25</td><td>25.6</td><td>5.2</td><td>5.8</td><td>2.4337</td><td>20170202003</td><td>3470.0 .. 5540.0</td><td>nan .. nan</td><td>nan .. nan</td><td>0.9882423520354104 .. 0.9140588857024189</td></tr>\n",
       "<tr><td>189</td><td>150.05504166666665</td><td>2.31525</td><td>4195.93</td><td>12.9</td><td>6.7</td><td>8.7</td><td>2.4515</td><td>20170331006</td><td>3470.0 .. 5540.0</td><td>nan .. nan</td><td>nan .. nan</td><td>0.8342767868348164 .. 0.6895230963441078</td></tr>\n",
       "<tr><td>194</td><td>150.05908333333332</td><td>2.2405861111111114</td><td>3997.41</td><td>61.0</td><td>4.3</td><td>4.9</td><td>2.2882</td><td>20181117010</td><td>3470.0 .. 5540.0</td><td>nan .. nan</td><td>nan .. nan</td><td>0.8559235841764234 .. 0.794577504985113</td></tr>\n",
       "<tr><td>194</td><td>150.05908333333332</td><td>2.2405861111111114</td><td>3997.41</td><td>61.0</td><td>4.3</td><td>4.9</td><td>2.2882</td><td>20181114020</td><td>3470.0 .. 5540.0</td><td>nan .. nan</td><td>nan .. nan</td><td>0.8211261682267719 .. 0.730172296780675</td></tr>\n",
       "</table>"
      ],
      "text/plain": [
       "<Table length=5>\n",
       "  ID          RA         ...              weights [1036]             \n",
       "             deg         ...                                         \n",
       "int64      float64       ...                 float64                 \n",
       "----- ------------------ ... ----------------------------------------\n",
       "  182          150.05175 ... 0.8779764074573124 .. 0.8919157194039836\n",
       "  182          150.05175 ... 0.9882423520354104 .. 0.9140588857024189\n",
       "  189 150.05504166666665 ... 0.8342767868348164 .. 0.6895230963441078\n",
       "  194 150.05908333333332 ...  0.8559235841764234 .. 0.794577504985113\n",
       "  194 150.05908333333332 ...  0.8211261682267719 .. 0.730172296780675"
      ]
     },
     "execution_count": 11,
     "metadata": {},
     "output_type": "execute_result"
    }
   ],
   "source": [
    "output_table[0:5]"
   ]
  },
  {
   "cell_type": "code",
   "execution_count": 12,
   "metadata": {},
   "outputs": [
    {
     "data": {
      "image/png": "[encoded data removed]",
      "text/plain": [
       "<matplotlib.figure.Figure at 0x2b8e51773eb8>"
      ]
     },
     "metadata": {
      "needs_background": "light"
     },
     "output_type": "display_data"
    },
    {
     "data": {
      "image/png": "[encoded data removed]",
      "text/plain": [
       "<matplotlib.figure.Figure at 0x2b8e51773c18>"
      ]
     },
     "metadata": {
      "needs_background": "light"
     },
     "output_type": "display_data"
    },
    {
     "data": {
      "image/png": "[encoded data removed]",
      "text/plain": [
       "<matplotlib.figure.Figure at 0x2b8e51705898>"
      ]
     },
     "metadata": {
      "needs_background": "light"
     },
     "output_type": "display_data"
    },
    {
     "data": {
      "image/png": "[encoded data removed]",
      "text/plain": [
       "<matplotlib.figure.Figure at 0x2b8e51803588>"
      ]
     },
     "metadata": {
      "needs_background": "light"
     },
     "output_type": "display_data"
    }
   ],
   "source": [
    "sel = output_table['FLUX'] > 10\n",
    "\n",
    "for row in output_table[sel][4:8]:\n",
    "    plt.figure()\n",
    "    wave_obj = row['WAVE']\n",
    "    wave = row['wavelength']\n",
    "    spec = row['spec']\n",
    "    spec_err = row['spec_err']\n",
    "    plt.errorbar(wave, spec, yerr=spec_err)\n",
    "    plt.xlim(wave_obj-50, wave_obj+50)\n",
    "    plt.xlabel('wave')\n",
    "    plt.ylabel('spec')\n",
    "    plt.title(row['ID'])\n"
   ]
  },
  {
   "cell_type": "markdown",
   "metadata": {},
   "source": [
    "### Examples of running get_spec as a command line job:"
   ]
  },
  {
   "cell_type": "markdown",
   "metadata": {},
   "source": [
    "\n",
    "You can run these commands from the command line by removing the \"!\" command but be sure you are on a compute node by calling `idev` first or submitting these as slurm jobs, one task per line."
   ]
  },
  {
   "cell_type": "code",
   "execution_count": 12,
   "metadata": {},
   "outputs": [],
   "source": [
    "!hetdex_get_spec --ra 150.02548 --dec 2.087987 --ID cosmos_LAE --outfile cosmos_LAE"
   ]
  },
  {
   "cell_type": "markdown",
   "metadata": {},
   "source": [
    "### Speed things up using multiprocessing"
   ]
  },
  {
   "cell_type": "markdown",
   "metadata": {},
   "source": [
    "You can speed up processes (by up to ~30x) with python multiprocessing if you are working interactively in a notebook or in an idev session (**NEVER FROM A LOGIN NODE**). Use the multiprocessing option with the argument -mp True or --multiprocess True "
   ]
  },
  {
   "cell_type": "code",
   "execution_count": null,
   "metadata": {},
   "outputs": [],
   "source": [
    "!hetdex_get_spec --multiprocess -ra 150.02548 -dec 2.087987 -id mptest -o mptest"
   ]
  },
  {
   "cell_type": "markdown",
   "metadata": {},
   "source": [
    "### Save output as individual astropy tables for each ID/shot combination:"
   ]
  },
  {
   "cell_type": "markdown",
   "metadata": {},
   "source": [
    "If you prefer to save each spectra to a table, you can do this. We don't recommend this for large numbers of data, but understand that sometimes its easy to start with a readable table. The tables will be stored in the files named `spec_[ID]_[shotid].tab`"
   ]
  },
  {
   "cell_type": "code",
   "execution_count": null,
   "metadata": {},
   "outputs": [],
   "source": [
    "!hetdex_get_spec  --multiprocess --single -ra 150.02548 -dec 2.087987 -id cosmos_lae"
   ]
  },
  {
   "cell_type": "markdown",
   "metadata": {},
   "source": [
    "### Getting all spectra at a specified RA/DEC in a specific OBSERVATION/SHOT"
   ]
  },
  {
   "cell_type": "markdown",
   "metadata": {},
   "source": [
    "Perhaps you only want to focus on a specific shot. Then you can use the -s argument to put the shotid either as an interger value 'YYYYMMDDOBS'= 20190104008 or as a str '20190104v009'. Note if you don't give an --ID option the default is 'DEX'\n",
    "\n",
    "This is a command line routine so remove the \"!\" if you are running in a terminal."
   ]
  },
  {
   "cell_type": "code",
   "execution_count": null,
   "metadata": {},
   "outputs": [],
   "source": [
    "!hetdex_get_spec  -ra 8.86535 -dec 0.59352  -s 20190104008 -o 20190104008"
   ]
  },
  {
   "cell_type": "markdown",
   "metadata": {},
   "source": [
    "This is particularly helpful if you plan to submit each shot as a separate task. For this reason, I suggest changing the default --outfile option to -o 20190104008 to create the output fits file 20190104008.fits"
   ]
  },
  {
   "cell_type": "markdown",
   "metadata": {},
   "source": [
    "### Work on a list of ID/RA/DECs"
   ]
  },
  {
   "cell_type": "markdown",
   "metadata": {},
   "source": [
    "This can either be a saved astropy table, or an space delimited text file with 3 columns where the columns are ID, RA, DEC. If you want more functionality with your input catalog, just talk to Erin. Note that running this job will take about 30 minutes so only execute if you want to wait around to explore the output."
   ]
  },
  {
   "cell_type": "code",
   "execution_count": null,
   "metadata": {},
   "outputs": [],
   "source": [
    "!cp /work/05350/ecooper/stampede2/3dhst/3dhst_input.cat ."
   ]
  },
  {
   "cell_type": "code",
   "execution_count": null,
   "metadata": {},
   "outputs": [],
   "source": [
    "!hetdex_get_spec  --multiprocess -i '3dhst_input.cat' -o '3dhst'"
   ]
  }
 ],
 "metadata": {
  "kernelspec": {
   "display_name": "Python 3",
   "language": "python",
   "name": "python3"
  },
  "language_info": {
   "codemirror_mode": {
    "name": "ipython",
    "version": 3
   },
   "file_extension": ".py",
   "mimetype": "text/x-python",
   "name": "python",
   "nbconvert_exporter": "python",
   "pygments_lexer": "ipython3",
   "version": "3.7.0"
  }
 },
 "nbformat": 4,
 "nbformat_minor": 2
}
