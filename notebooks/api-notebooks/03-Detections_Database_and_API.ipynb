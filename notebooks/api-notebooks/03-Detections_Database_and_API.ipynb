{
 "cells": [
  {
   "cell_type": "markdown",
   "metadata": {},
   "source": [
    "Detections Database and API\n",
    "======================="
   ]
  },
  {
   "cell_type": "markdown",
   "metadata": {},
   "source": [
    "This notebook demonstrates how to access the HDF5 container for the HETDEX line detections database. This database is a catalog of line emission detections and their associated 1D, aperture summed, psf-weighted spectra. There are three tables contained within this HDF5 file: \n",
    "\n",
    "1. Detections - this is the main database of line detection sources. It provides the position and central wavelength of each detection and corresponding line fluxes. A source detection corresponds to an emission line so it is possible to have multiple line detections at different wavelengths for a single source. There can also be multiple observations of the same line if it has been observed in multiple shots or if it is associated with a large source. \n",
    "\n",
    "\n",
    "2. Fibers - for each source detection, this table lists information about each fiber used to extract the flux measurment and weighted spectrum. This allows a user to return to the processed data products (ie. the shot HDF5 files) to investigate the source further. \n",
    "\n",
    "\n",
    "3. Spectra - for each source, this table contains arrays of wavelength and 1D flux-weighted aperture summed spectral data and corresponding errors. Non-calibrated spectra is also provided in counts\n",
    "\n",
    "\n",
    "4. Elixer - a direct row matching of Elixer classification info for each row in the Detections table. The hetdex gmag value is also found in this table. For full Elixer data including catalog and aperture P(LAE)/P(OII) values please see the detects/elixer.h5 file for a specific release. These are the ones currently accessible in the API and the curated catalogs:\n",
    "\n",
    "    \"plae_sdss_g\" = P(LAE)/P(OII) from g-mag with HETDEX 1 D spectrum limits in plae_sdss_g_max/min\n",
    "    \n",
    "    \"combined_plae\"  = ELiXer weighted combination of the multiple PLAE/POII with error in combine_plae_err\n",
    "    \n",
    "    \"plae_classification\" = ELiXer probability that the line is LyA (0.0 - 1.0) [WARNING! Very experimental!!] \n",
    "\n"
   ]
  },
  {
   "cell_type": "code",
   "execution_count": 1,
   "metadata": {},
   "outputs": [],
   "source": [
    "%matplotlib inline\n",
    "\n",
    "import numpy as np\n",
    "import tables as tb\n",
    "import matplotlib.pyplot as plt\n",
    "\n",
    "from astropy.table import Table, Column, join\n",
    "from astropy.coordinates import SkyCoord\n",
    "import astropy.units as u\n",
    "\n",
    "from hetdex_api.config import HDRconfig\n",
    "from hetdex_api.detections import Detections\n",
    "from hetdex_api.elixer_widget_cls import ElixerWidget"
   ]
  },
  {
   "cell_type": "code",
   "execution_count": 2,
   "metadata": {},
   "outputs": [
    {
     "data": {
      "application/javascript": [
       "IPython.OutputArea.prototype._should_scroll = function(lines) {\n",
       "    return false;\n",
       "}\n"
      ],
      "text/plain": [
       "<IPython.core.display.Javascript object>"
      ]
     },
     "metadata": {},
     "output_type": "display_data"
    }
   ],
   "source": [
    "%%javascript\n",
    "IPython.OutputArea.prototype._should_scroll = function(lines) {\n",
    "    return false;\n",
    "}"
   ]
  },
  {
   "cell_type": "markdown",
   "metadata": {},
   "source": [
    "### Use the latest curated catalog: "
   ]
  },
  {
   "cell_type": "code",
   "execution_count": 3,
   "metadata": {},
   "outputs": [],
   "source": [
    "detects = Detections( curated_version='2.1.1')"
   ]
  },
  {
   "cell_type": "code",
   "execution_count": 4,
   "metadata": {},
   "outputs": [],
   "source": [
    "# this is a suggested query to find LAEs:\n",
    "sel_lae = (detects.sn > 5.5) * (detects.plae_classification > 0.75) * (np.logical_not(detects.gmag<20))"
   ]
  },
  {
   "cell_type": "code",
   "execution_count": 5,
   "metadata": {},
   "outputs": [],
   "source": [
    "#spectra can be accessed using get_spectrum()\n",
    "\n",
    "spec = detects.get_spectrum(2100191119)"
   ]
  },
  {
   "cell_type": "code",
   "execution_count": 6,
   "metadata": {},
   "outputs": [
    {
     "data": {
      "text/html": [
       "<i>Table length=1036</i>\n",
       "<table id=\"table47908586630728\" class=\"table-striped table-bordered table-condensed\">\n",
       "<thead><tr><th>wave1d</th><th>spec1d</th><th>spec1d_err</th></tr></thead>\n",
       "<thead><tr><th>Angstrom</th><th>1e-17 erg / (Angstrom cm2 s)</th><th>1e-17 erg / (Angstrom cm2 s)</th></tr></thead>\n",
       "<thead><tr><th>float32</th><th>float32</th><th>float32</th></tr></thead>\n",
       "<tr><td>3470.0</td><td>-0.016949153</td><td>9.75</td></tr>\n",
       "<tr><td>3472.0</td><td>-0.016949153</td><td>9.75</td></tr>\n",
       "<tr><td>3474.0</td><td>-0.016949153</td><td>9.75</td></tr>\n",
       "<tr><td>3476.0</td><td>-0.016949153</td><td>9.75</td></tr>\n",
       "<tr><td>3478.0</td><td>-0.016949153</td><td>9.75</td></tr>\n",
       "<tr><td>3480.0</td><td>-0.016949153</td><td>9.75</td></tr>\n",
       "<tr><td>3482.0</td><td>-0.016949153</td><td>9.75</td></tr>\n",
       "<tr><td>3484.0</td><td>0.875</td><td>9.254767</td></tr>\n",
       "<tr><td>3486.0</td><td>0.5010593</td><td>9.188029</td></tr>\n",
       "<tr><td>...</td><td>...</td><td>...</td></tr>\n",
       "<tr><td>5522.0</td><td>-0.05632306</td><td>1.176408</td></tr>\n",
       "<tr><td>5524.0</td><td>-0.05632306</td><td>1.176408</td></tr>\n",
       "<tr><td>5526.0</td><td>-0.05632306</td><td>1.176408</td></tr>\n",
       "<tr><td>5528.0</td><td>-0.05632306</td><td>1.176408</td></tr>\n",
       "<tr><td>5530.0</td><td>-0.05632306</td><td>1.176408</td></tr>\n",
       "<tr><td>5532.0</td><td>-0.05632306</td><td>1.176408</td></tr>\n",
       "<tr><td>5534.0</td><td>-0.05632306</td><td>1.176408</td></tr>\n",
       "<tr><td>5536.0</td><td>-0.05632306</td><td>1.176408</td></tr>\n",
       "<tr><td>5538.0</td><td>-0.05632306</td><td>1.176408</td></tr>\n",
       "<tr><td>5540.0</td><td>-0.05632306</td><td>1.176408</td></tr>\n",
       "</table>"
      ],
      "text/plain": [
       "<Table length=1036>\n",
       " wave1d             spec1d                     spec1d_err         \n",
       "Angstrom 1e-17 erg / (Angstrom cm2 s) 1e-17 erg / (Angstrom cm2 s)\n",
       "float32            float32                      float32           \n",
       "-------- ---------------------------- ----------------------------\n",
       "  3470.0                 -0.016949153                         9.75\n",
       "  3472.0                 -0.016949153                         9.75\n",
       "  3474.0                 -0.016949153                         9.75\n",
       "  3476.0                 -0.016949153                         9.75\n",
       "  3478.0                 -0.016949153                         9.75\n",
       "  3480.0                 -0.016949153                         9.75\n",
       "  3482.0                 -0.016949153                         9.75\n",
       "  3484.0                        0.875                     9.254767\n",
       "  3486.0                    0.5010593                     9.188029\n",
       "     ...                          ...                          ...\n",
       "  5522.0                  -0.05632306                     1.176408\n",
       "  5524.0                  -0.05632306                     1.176408\n",
       "  5526.0                  -0.05632306                     1.176408\n",
       "  5528.0                  -0.05632306                     1.176408\n",
       "  5530.0                  -0.05632306                     1.176408\n",
       "  5532.0                  -0.05632306                     1.176408\n",
       "  5534.0                  -0.05632306                     1.176408\n",
       "  5536.0                  -0.05632306                     1.176408\n",
       "  5538.0                  -0.05632306                     1.176408\n",
       "  5540.0                  -0.05632306                     1.176408"
      ]
     },
     "execution_count": 6,
     "metadata": {},
     "output_type": "execute_result"
    }
   ],
   "source": [
    "spec"
   ]
  },
  {
   "cell_type": "markdown",
   "metadata": {},
   "source": [
    "### Explore Using ElixerWidget:"
   ]
  },
  {
   "cell_type": "code",
   "execution_count": 7,
   "metadata": {},
   "outputs": [
    {
     "data": {
      "application/vnd.jupyter.widget-view+json": {
       "model_id": "819dd0dde46849fc95bc2cf1d1979430",
       "version_major": 2,
       "version_minor": 0
      },
      "text/plain": [
       "interactive(children=(BoundedIntText(value=2100000000, description='DetectID:', max=10000000000, min=100000000…"
      ]
     },
     "metadata": {},
     "output_type": "display_data"
    }
   ],
   "source": [
    "elix_widget = ElixerWidget(detectlist = detects.detectid[sel_lae])"
   ]
  },
  {
   "cell_type": "markdown",
   "metadata": {},
   "source": [
    "### Initiate the API and Access the full database"
   ]
  },
  {
   "cell_type": "markdown",
   "metadata": {},
   "source": [
    "When you call `Detections()` you intiate the Detections Class object which takes columns from the Detections Table in the HDF5 file and adds them as array attributes to the Detections class object. It also converts ra/dec into astropy skycoords in the `coords` attribute, calculates an approximate gband magnitude using the 1D spectra and adds elixer probabilities for each detection. If you append the call with `refine()` then a number of downselections are applied to the database to return a more robust list of line emitters. `refine()` removes spurious detections found in bad amps or at the edges of the CCD or in shots that are not deemed appropriate for HETDEX analysis. It can also remove all bright objects above a specific gband magnitude if desired (default to None if no option is given)."
   ]
  },
  {
   "cell_type": "code",
   "execution_count": 8,
   "metadata": {},
   "outputs": [],
   "source": [
    "# To access the latest HDRX.X lines database (ie. the full H5 file):\n",
    "\n",
    "detects = Detections()\n",
    "\n",
    "# to remove the latest bad amps and pixels (this isn't needed if you are using a curated catalog)\n",
    "\n",
    "# detects = Detections(survey='hdr2.1', catalog_type='lines').refine()\n",
    "\n",
    "# or if you want to open the continuum source catalog:\n",
    "# detects = Detections(survey='hdr2.1', catalog_type='continuum')"
   ]
  },
  {
   "cell_type": "markdown",
   "metadata": {},
   "source": [
    "### Note if you do not want to load the whole table, but just access spectra for a specific detectid:"
   ]
  },
  {
   "cell_type": "code",
   "execution_count": 9,
   "metadata": {},
   "outputs": [],
   "source": [
    "det_object = Detections('hdr2.1', loadtable=False)"
   ]
  },
  {
   "cell_type": "code",
   "execution_count": 10,
   "metadata": {},
   "outputs": [],
   "source": [
    "spec = det_object.get_spectrum(2100191119)"
   ]
  },
  {
   "cell_type": "code",
   "execution_count": 11,
   "metadata": {},
   "outputs": [
    {
     "data": {
      "text/html": [
       "<i>Table length=1036</i>\n",
       "<table id=\"table47908600753176\" class=\"table-striped table-bordered table-condensed\">\n",
       "<thead><tr><th>wave1d</th><th>spec1d</th><th>spec1d_err</th></tr></thead>\n",
       "<thead><tr><th>Angstrom</th><th>1e-17 erg / (Angstrom cm2 s)</th><th>1e-17 erg / (Angstrom cm2 s)</th></tr></thead>\n",
       "<thead><tr><th>float32</th><th>float32</th><th>float32</th></tr></thead>\n",
       "<tr><td>3470.0</td><td>-0.016949153</td><td>9.75</td></tr>\n",
       "<tr><td>3472.0</td><td>-0.016949153</td><td>9.75</td></tr>\n",
       "<tr><td>3474.0</td><td>-0.016949153</td><td>9.75</td></tr>\n",
       "<tr><td>3476.0</td><td>-0.016949153</td><td>9.75</td></tr>\n",
       "<tr><td>3478.0</td><td>-0.016949153</td><td>9.75</td></tr>\n",
       "<tr><td>3480.0</td><td>-0.016949153</td><td>9.75</td></tr>\n",
       "<tr><td>3482.0</td><td>-0.016949153</td><td>9.75</td></tr>\n",
       "<tr><td>3484.0</td><td>0.875</td><td>9.254767</td></tr>\n",
       "<tr><td>3486.0</td><td>0.5010593</td><td>9.188029</td></tr>\n",
       "<tr><td>...</td><td>...</td><td>...</td></tr>\n",
       "<tr><td>5522.0</td><td>-0.05632306</td><td>1.176408</td></tr>\n",
       "<tr><td>5524.0</td><td>-0.05632306</td><td>1.176408</td></tr>\n",
       "<tr><td>5526.0</td><td>-0.05632306</td><td>1.176408</td></tr>\n",
       "<tr><td>5528.0</td><td>-0.05632306</td><td>1.176408</td></tr>\n",
       "<tr><td>5530.0</td><td>-0.05632306</td><td>1.176408</td></tr>\n",
       "<tr><td>5532.0</td><td>-0.05632306</td><td>1.176408</td></tr>\n",
       "<tr><td>5534.0</td><td>-0.05632306</td><td>1.176408</td></tr>\n",
       "<tr><td>5536.0</td><td>-0.05632306</td><td>1.176408</td></tr>\n",
       "<tr><td>5538.0</td><td>-0.05632306</td><td>1.176408</td></tr>\n",
       "<tr><td>5540.0</td><td>-0.05632306</td><td>1.176408</td></tr>\n",
       "</table>"
      ],
      "text/plain": [
       "<Table length=1036>\n",
       " wave1d             spec1d                     spec1d_err         \n",
       "Angstrom 1e-17 erg / (Angstrom cm2 s) 1e-17 erg / (Angstrom cm2 s)\n",
       "float32            float32                      float32           \n",
       "-------- ---------------------------- ----------------------------\n",
       "  3470.0                 -0.016949153                         9.75\n",
       "  3472.0                 -0.016949153                         9.75\n",
       "  3474.0                 -0.016949153                         9.75\n",
       "  3476.0                 -0.016949153                         9.75\n",
       "  3478.0                 -0.016949153                         9.75\n",
       "  3480.0                 -0.016949153                         9.75\n",
       "  3482.0                 -0.016949153                         9.75\n",
       "  3484.0                        0.875                     9.254767\n",
       "  3486.0                    0.5010593                     9.188029\n",
       "     ...                          ...                          ...\n",
       "  5522.0                  -0.05632306                     1.176408\n",
       "  5524.0                  -0.05632306                     1.176408\n",
       "  5526.0                  -0.05632306                     1.176408\n",
       "  5528.0                  -0.05632306                     1.176408\n",
       "  5530.0                  -0.05632306                     1.176408\n",
       "  5532.0                  -0.05632306                     1.176408\n",
       "  5534.0                  -0.05632306                     1.176408\n",
       "  5536.0                  -0.05632306                     1.176408\n",
       "  5538.0                  -0.05632306                     1.176408\n",
       "  5540.0                  -0.05632306                     1.176408"
      ]
     },
     "execution_count": 11,
     "metadata": {},
     "output_type": "execute_result"
    }
   ],
   "source": [
    "spec"
   ]
  },
  {
   "cell_type": "markdown",
   "metadata": {},
   "source": [
    "Here are a list of attributes built into the Detections class:"
   ]
  },
  {
   "cell_type": "code",
   "execution_count": 12,
   "metadata": {},
   "outputs": [
    {
     "data": {
      "text/plain": [
       "dict_keys(['version', 'survey', 'loadtable', 'filename', 'hdfile', 'detectid', 'shotid', 'ra', 'dec', 'date', 'obsid', 'wave', 'wave_err', 'flux', 'flux_err', 'linewidth', 'linewidth_err', 'continuum', 'continuum_err', 'sn', 'sn_err', 'chi2', 'chi2_err', 'multiframe', 'fibnum', 'x_raw', 'y_raw', 'amp', 'chi2fib', 'detectname', 'expnum', 'fiber_id', 'ifuid', 'ifuslot', 'inputid', 'noise_ratio', 'specid', 'weight', 'x_ifu', 'y_ifu', 'combined_continuum', 'combined_continuum_err', 'combined_plae', 'combined_plae_err', 'mag_sdss_g', 'mag_sdss_g_err', 'plae_classification', 'plae_sdss_g', 'plae_sdss_g_max', 'plae_sdss_g_min', 'gmag', 'gmag_err', 'field', 'fwhm', 'fluxlimit_4540', 'throughput', 'n_ifu', 'vis_class', 'coords'])"
      ]
     },
     "execution_count": 12,
     "metadata": {},
     "output_type": "execute_result"
    }
   ],
   "source": [
    "detects.__dict__.keys()"
   ]
  },
  {
   "cell_type": "markdown",
   "metadata": {},
   "source": [
    "If you prefer working in astropy tables, you can grab it this way:"
   ]
  },
  {
   "cell_type": "code",
   "execution_count": 13,
   "metadata": {},
   "outputs": [],
   "source": [
    "detect_table = detects.return_astropy_table()"
   ]
  },
  {
   "cell_type": "code",
   "execution_count": 14,
   "metadata": {},
   "outputs": [
    {
     "data": {
      "text/html": [
       "<i>Table length=1482880</i>\n",
       "<table id=\"table47908599745168\" class=\"table-striped table-bordered table-condensed\">\n",
       "<thead><tr><th>detectid</th><th>fwhm</th><th>throughput</th><th>fluxlimit_4540</th><th>shotid</th><th>field</th><th>n_ifu</th><th>gmag_err</th><th>gmag</th><th>ra</th><th>dec</th><th>date</th><th>obsid</th><th>wave</th><th>wave_err</th><th>flux</th><th>flux_err</th><th>linewidth</th><th>linewidth_err</th><th>continuum</th><th>continuum_err</th><th>sn</th><th>sn_err</th><th>chi2</th><th>chi2_err</th><th>multiframe</th><th>fibnum</th><th>x_raw</th><th>y_raw</th><th>amp</th><th>chi2fib</th><th>detectname</th><th>expnum</th><th>fiber_id</th><th>ifuid</th><th>ifuslot</th><th>inputid</th><th>noise_ratio</th><th>specid</th><th>weight</th><th>x_ifu</th><th>y_ifu</th><th>combined_continuum</th><th>combined_continuum_err</th><th>combined_plae</th><th>combined_plae_err</th><th>mag_sdss_g</th><th>mag_sdss_g_err</th><th>plae_classification</th><th>plae_sdss_g</th><th>plae_sdss_g_max</th><th>plae_sdss_g_min</th></tr></thead>\n",
       "<thead><tr><th>int64</th><th>float64</th><th>float64</th><th>float64</th><th>int64</th><th>str12</th><th>int64</th><th>float32</th><th>float32</th><th>float32</th><th>float32</th><th>int32</th><th>int32</th><th>float32</th><th>float32</th><th>float32</th><th>float32</th><th>float32</th><th>float32</th><th>float32</th><th>float32</th><th>float32</th><th>float32</th><th>float32</th><th>float32</th><th>str20</th><th>int32</th><th>int32</th><th>int32</th><th>str2</th><th>float32</th><th>str40</th><th>int32</th><th>str38</th><th>str3</th><th>str3</th><th>str40</th><th>float32</th><th>str3</th><th>float32</th><th>float32</th><th>float32</th><th>float32</th><th>float32</th><th>float32</th><th>float32</th><th>float32</th><th>float32</th><th>float32</th><th>float32</th><th>float32</th><th>float32</th></tr></thead>\n",
       "<tr><td>2100000000</td><td>2.3224666118621826</td><td>0.09000000357627869</td><td>1.5849100855000002e-16</td><td>20170103002</td><td>cosmos</td><td>14</td><td>24.098675</td><td>24.098675</td><td>149.79932</td><td>1.986114</td><td>20170103</td><td>2</td><td>4345.88</td><td>0.6</td><td>29.26</td><td>4.31</td><td>3.54</td><td>0.57</td><td>-0.07</td><td>0.21</td><td>5.66</td><td>0.86</td><td>1.18</td><td>0.22</td><td>multi_004_106_033_RU</td><td>79</td><td>428</td><td>730</td><td>RU</td><td>1.9690311</td><td>HETDEX J095911.84+015910.0</td><td>2</td><td>20170103002_2_multi_004_106_033_RU_079</td><td>033</td><td>106</td><td>20170103v002_004_106_033_001</td><td>1.28</td><td>004</td><td>0.184</td><td>22.88</td><td>15.42</td><td>1.2131073e-18</td><td>2.0484033e-19</td><td>1000.0</td><td>0.0</td><td>24.098675</td><td>0.26964894</td><td>0.78626347</td><td>1000.0</td><td>1000.0</td><td>1000.0</td></tr>\n",
       "<tr><td>2100000001</td><td>2.3224666118621826</td><td>0.09000000357627869</td><td>1.5849100855000002e-16</td><td>20170103002</td><td>cosmos</td><td>14</td><td>23.643944</td><td>23.643944</td><td>149.80261</td><td>1.991804</td><td>20170103</td><td>2</td><td>4320.58</td><td>0.82</td><td>27.36</td><td>5.19</td><td>3.99</td><td>0.91</td><td>-0.04</td><td>0.23</td><td>4.91</td><td>0.76</td><td>1.27</td><td>0.23</td><td>multi_004_106_033_RU</td><td>69</td><td>416</td><td>635</td><td>RU</td><td>0.93445796</td><td>HETDEX J095912.63+015930.5</td><td>2</td><td>20170103002_2_multi_004_106_033_RU_069</td><td>033</td><td>106</td><td>20170103v002_004_106_033_003</td><td>1.1</td><td>004</td><td>0.1825</td><td>-1.27</td><td>17.63</td><td>4.9205133e-19</td><td>2.287573e-19</td><td>1000.0</td><td>0.0</td><td>23.643944</td><td>0.17493318</td><td>0.999001</td><td>1000.0</td><td>1000.0</td><td>1000.0</td></tr>\n",
       "<tr><td>2100000003</td><td>2.3224666118621826</td><td>0.09000000357627869</td><td>1.5849100855000002e-16</td><td>20170103002</td><td>cosmos</td><td>14</td><td>24.912663</td><td>24.912663</td><td>149.80013</td><td>1.987484</td><td>20170103</td><td>2</td><td>4158.08</td><td>0.83</td><td>17.89</td><td>4.79</td><td>2.58</td><td>0.9</td><td>-0.38</td><td>0.27</td><td>4.64</td><td>0.86</td><td>1.15</td><td>0.24</td><td>multi_004_106_033_RU</td><td>81</td><td>335</td><td>747</td><td>RU</td><td>2.114908</td><td>HETDEX J095912.03+015914.9</td><td>1</td><td>20170103002_1_multi_004_106_033_RU_081</td><td>033</td><td>106</td><td>20170103v002_004_106_033_008</td><td>0.91</td><td>004</td><td>0.184</td><td>17.8</td><td>15.42</td><td>1.05312435e-19</td><td>2.5742517e-19</td><td>1000.0</td><td>0.0</td><td>24.912663</td><td>0.55649275</td><td>0.999001</td><td>1000.0</td><td>1000.0</td><td>1000.0</td></tr>\n",
       "<tr><td>2100000004</td><td>2.3224666118621826</td><td>0.09000000357627869</td><td>1.5849100855000002e-16</td><td>20170103002</td><td>cosmos</td><td>14</td><td>24.49108</td><td>24.49108</td><td>149.80464</td><td>1.995217</td><td>20170103</td><td>2</td><td>4322.88</td><td>1.0</td><td>30.14</td><td>5.63</td><td>5.47</td><td>1.23</td><td>-0.05</td><td>0.2</td><td>4.74</td><td>0.98</td><td>1.15</td><td>0.22</td><td>multi_004_106_033_RU</td><td>74</td><td>417</td><td>678</td><td>RU</td><td>1.6961228</td><td>HETDEX J095913.11+015942.8</td><td>1</td><td>20170103002_1_multi_004_106_033_RU_074</td><td>033</td><td>106</td><td>20170103v002_004_106_033_010</td><td>1.3</td><td>004</td><td>0.198</td><td>-13.98</td><td>17.63</td><td>1.3361595e-18</td><td>1.7093001e-19</td><td>1000.0</td><td>0.0</td><td>24.49108</td><td>0.48794377</td><td>0.88179207</td><td>1000.0</td><td>1000.0</td><td>1000.0</td></tr>\n",
       "<tr><td>2100000009</td><td>2.3224666118621826</td><td>0.09000000357627869</td><td>1.5849100855000002e-16</td><td>20170103002</td><td>cosmos</td><td>14</td><td>18.140495</td><td>18.140495</td><td>149.78693</td><td>1.907993</td><td>20170103</td><td>2</td><td>3664.07</td><td>1.07</td><td>91.23</td><td>17.86</td><td>5.73</td><td>1.3</td><td>16.89</td><td>0.61</td><td>7.62</td><td>0.86</td><td>1.29</td><td>0.23</td><td>multi_008_093_054_LL</td><td>26</td><td>91</td><td>242</td><td>LL</td><td>1.5422429</td><td>HETDEX J095908.86+015428.8</td><td>1</td><td>20170103002_1_multi_008_093_054_LL_026</td><td>054</td><td>093</td><td>20170103v002_008_093_054_007</td><td>0.87</td><td>008</td><td>0.1653</td><td>-15.25</td><td>-2.2</td><td>2.7033165e-16</td><td>1.9626645e-16</td><td>1000.0</td><td>0.0</td><td>18.140495</td><td>0.0018189953</td><td>0.65575963</td><td>1000.0</td><td>1000.0</td><td>1000.0</td></tr>\n",
       "<tr><td>2100000011</td><td>2.3224666118621826</td><td>0.09000000357627869</td><td>1.5849100855000002e-16</td><td>20170103002</td><td>cosmos</td><td>14</td><td>19.428492</td><td>19.428492</td><td>149.78745</td><td>1.908307</td><td>20170103</td><td>2</td><td>5244.96</td><td>2.81</td><td>48.44</td><td>18.62</td><td>9.0</td><td>3.55</td><td>14.73</td><td>0.52</td><td>8.13</td><td>1.1</td><td>3.32</td><td>0.23</td><td>multi_008_093_054_LL</td><td>47</td><td>887</td><td>437</td><td>LL</td><td>1.4970931</td><td>HETDEX J095908.99+015429.9</td><td>3</td><td>20170103002_3_multi_008_093_054_LL_047</td><td>054</td><td>093</td><td>20170103v002_008_093_054_009</td><td>0.57</td><td>008</td><td>0.2016</td><td>-19.07</td><td>-4.41</td><td>8.256695e-17</td><td>9.6145764e-17</td><td>0.001</td><td>0.0</td><td>19.428492</td><td>0.004161307</td><td>0.19377284</td><td>0.001</td><td>0.001</td><td>0.001</td></tr>\n",
       "<tr><td>2100000014</td><td>2.3224666118621826</td><td>0.09000000357627869</td><td>1.5849100855000002e-16</td><td>20170103002</td><td>cosmos</td><td>14</td><td>19.117628</td><td>19.117628</td><td>149.78627</td><td>1.908183</td><td>20170103</td><td>2</td><td>4351.53</td><td>2.31</td><td>311.92</td><td>126.16</td><td>24.22</td><td>6.23</td><td>11.91</td><td>2.14</td><td>24.06</td><td>5.45</td><td>2.57</td><td>0.22</td><td>multi_008_093_054_LL</td><td>7</td><td>437</td><td>79</td><td>LL</td><td>1.5975373</td><td>HETDEX J095908.70+015429.5</td><td>2</td><td>20170103002_2_multi_008_093_054_LL_007</td><td>054</td><td>093</td><td>20170103v002_008_093_054_014</td><td>0.63</td><td>008</td><td>0.1829</td><td>-16.53</td><td>0.0</td><td>1.0992315e-16</td><td>1.3945094e-16</td><td>0.001</td><td>0.0</td><td>19.117628</td><td>0.0029835368</td><td>0.11800219</td><td>0.001</td><td>0.001</td><td>0.001</td></tr>\n",
       "<tr><td>2100000015</td><td>2.3224666118621826</td><td>0.09000000357627869</td><td>1.5849100855000002e-16</td><td>20170103002</td><td>cosmos</td><td>14</td><td>19.416012</td><td>19.416012</td><td>149.78642</td><td>1.908516</td><td>20170103</td><td>2</td><td>5244.2</td><td>2.96</td><td>39.08</td><td>17.14</td><td>7.6</td><td>3.46</td><td>16.73</td><td>0.52</td><td>6.6</td><td>1.13</td><td>2.97</td><td>0.22</td><td>multi_008_093_054_LL</td><td>7</td><td>899</td><td>73</td><td>LL</td><td>1.0254633</td><td>HETDEX J095908.74+015430.7</td><td>1</td><td>20170103002_1_multi_008_093_054_LL_007</td><td>054</td><td>093</td><td>20170103v002_008_093_054_015</td><td>0.6</td><td>008</td><td>0.2004</td><td>-16.53</td><td>0.0</td><td>8.3527216e-17</td><td>9.587454e-17</td><td>0.001</td><td>0.0001867734</td><td>19.416012</td><td>0.00441016</td><td>0.0057083005</td><td>0.001</td><td>0.001</td><td>0.001</td></tr>\n",
       "<tr><td>2100000018</td><td>2.3224666118621826</td><td>0.09000000357627869</td><td>1.5849100855000002e-16</td><td>20170103002</td><td>cosmos</td><td>14</td><td>18.390541</td><td>18.390541</td><td>149.78688</td><td>1.908256</td><td>20170103</td><td>2</td><td>3785.6</td><td>2.66</td><td>301.23</td><td>140.88</td><td>21.94</td><td>6.17</td><td>5.93</td><td>2.8</td><td>17.35</td><td>4.86</td><td>1.87</td><td>0.23</td><td>multi_008_093_054_LL</td><td>27</td><td>148</td><td>252</td><td>LL</td><td>1.3542742</td><td>HETDEX J095908.85+015429.7</td><td>3</td><td>20170103002_3_multi_008_093_054_LL_027</td><td>054</td><td>093</td><td>20170103v002_008_093_054_021</td><td>0.69</td><td>008</td><td>0.1809</td><td>-17.8</td><td>-2.2</td><td>2.1474347e-16</td><td>1.8416847e-16</td><td>0.001</td><td>0.0</td><td>18.390541</td><td>0.002019755</td><td>0.3294914</td><td>0.001</td><td>0.001</td><td>0.001</td></tr>\n",
       "<tr><td>2100000019</td><td>2.3224666118621826</td><td>0.09000000357627869</td><td>1.5849100855000002e-16</td><td>20170103002</td><td>cosmos</td><td>14</td><td>19.865932</td><td>19.865932</td><td>149.78635</td><td>1.90721</td><td>20170103</td><td>2</td><td>5245.63</td><td>2.54</td><td>38.88</td><td>15.81</td><td>7.06</td><td>2.96</td><td>13.06</td><td>0.5</td><td>7.11</td><td>1.03</td><td>3.43</td><td>0.22</td><td>multi_008_093_054_LL</td><td>25</td><td>894</td><td>233</td><td>LL</td><td>1.0575647</td><td>HETDEX J095908.72+015426.0</td><td>1</td><td>20170103002_1_multi_008_093_054_LL_025</td><td>054</td><td>093</td><td>20170103v002_008_093_054_022</td><td>0.58</td><td>008</td><td>0.1825</td><td>-12.71</td><td>-2.2</td><td>5.5190132e-17</td><td>9.5651474e-17</td><td>0.001</td><td>0.00018667696</td><td>19.865932</td><td>0.0055427873</td><td>0.081822135</td><td>0.001</td><td>0.0010718828</td><td>0.001</td></tr>\n",
       "<tr><td>...</td><td>...</td><td>...</td><td>...</td><td>...</td><td>...</td><td>...</td><td>...</td><td>...</td><td>...</td><td>...</td><td>...</td><td>...</td><td>...</td><td>...</td><td>...</td><td>...</td><td>...</td><td>...</td><td>...</td><td>...</td><td>...</td><td>...</td><td>...</td><td>...</td><td>...</td><td>...</td><td>...</td><td>...</td><td>...</td><td>...</td><td>...</td><td>...</td><td>...</td><td>...</td><td>...</td><td>...</td><td>...</td><td>...</td><td>...</td><td>...</td><td>...</td><td>...</td><td>...</td><td>...</td><td>...</td><td>...</td><td>...</td><td>...</td><td>...</td><td>...</td><td>...</td></tr>\n",
       "<tr><td>2102591412</td><td>1.2000000476837158</td><td>0.1898999959230423</td><td>6.505323355000002e-17</td><td>20180915023</td><td>dex-fall</td><td>43</td><td>21.457409</td><td>21.457409</td><td>36.493343</td><td>0.408169</td><td>20180915</td><td>23</td><td>4841.28</td><td>0.38</td><td>17.47</td><td>1.88</td><td>2.73</td><td>0.32</td><td>2.16</td><td>0.1</td><td>9.17</td><td>0.9</td><td>1.04</td><td>0.22</td><td>multi_038_096_014_RL</td><td>18</td><td>673</td><td>165</td><td>RL</td><td>1.0559493</td><td>HETDEX J022558.40+002429.4</td><td>2</td><td>20180915023_2_multi_038_096_014_RL_018</td><td>014</td><td>096</td><td>20180915v023_038_096_014_002</td><td>1.12</td><td>038</td><td>0.3124</td><td>-7.63</td><td>11.02</td><td>2.1333124e-17</td><td>6.784679e-19</td><td>0.017639203</td><td>0.0036091313</td><td>21.457409</td><td>0.013445788</td><td>0.024872271</td><td>0.024267491</td><td>0.028081242</td><td>0.020003833</td></tr>\n",
       "<tr><td>2102591413</td><td>1.2000000476837158</td><td>0.1898999959230423</td><td>6.505323355000002e-17</td><td>20180915023</td><td>dex-fall</td><td>43</td><td>22.656548</td><td>22.656548</td><td>36.486694</td><td>0.402999</td><td>20180915</td><td>23</td><td>4458.59</td><td>0.34</td><td>16.03</td><td>1.44</td><td>3.14</td><td>0.32</td><td>0.47</td><td>0.08</td><td>8.19</td><td>1.02</td><td>0.99</td><td>0.22</td><td>multi_038_096_014_RU</td><td>21</td><td>488</td><td>201</td><td>RU</td><td>1.3364153</td><td>HETDEX J022556.81+002410.8</td><td>2</td><td>20180915023_2_multi_038_096_014_RU_021</td><td>014</td><td>096</td><td>20180915v023_038_096_014_003</td><td>1.44</td><td>038</td><td>0.2731</td><td>21.61</td><td>22.03</td><td>4.6449876e-18</td><td>6.6272646e-19</td><td>0.5941325</td><td>0.451679</td><td>22.656548</td><td>0.038243163</td><td>0.45917454</td><td>0.7846466</td><td>0.9141632</td><td>0.6729304</td></tr>\n",
       "<tr><td>2102591414</td><td>1.2000000476837158</td><td>0.1898999959230423</td><td>6.505323355000002e-17</td><td>20180915023</td><td>dex-fall</td><td>43</td><td>27.234352</td><td>27.234352</td><td>36.48817</td><td>0.405799</td><td>20180915</td><td>23</td><td>3800.16</td><td>0.67</td><td>18.86</td><td>3.22</td><td>3.32</td><td>0.63</td><td>-0.21</td><td>0.16</td><td>6.16</td><td>0.9</td><td>1.04</td><td>0.22</td><td>multi_038_096_014_RU</td><td>26</td><td>157</td><td>242</td><td>RU</td><td>0.70097214</td><td>HETDEX J022557.16+002420.9</td><td>2</td><td>20180915023_2_multi_038_096_014_RU_026</td><td>014</td><td>096</td><td>20180915v023_038_096_014_004</td><td>1.03</td><td>038</td><td>0.3916</td><td>8.9</td><td>22.03</td><td>5.686379e-19</td><td>6.973081e-19</td><td>1000.0</td><td>0.0</td><td>27.234352</td><td>2.8992906</td><td>0.999001</td><td>1000.0</td><td>1000.0</td><td>1000.0</td></tr>\n",
       "<tr><td>2102591415</td><td>1.2000000476837158</td><td>0.1898999959230423</td><td>6.505323355000002e-17</td><td>20180915023</td><td>dex-fall</td><td>43</td><td>26.06937</td><td>26.06937</td><td>36.49324</td><td>0.412825</td><td>20180915</td><td>23</td><td>3638.59</td><td>1.62</td><td>33.42</td><td>8.62</td><td>6.92</td><td>2.07</td><td>0.05</td><td>0.24</td><td>5.89</td><td>0.93</td><td>1.01</td><td>0.22</td><td>multi_038_096_014_RU</td><td>77</td><td>73</td><td>708</td><td>RU</td><td>4.3627286</td><td>HETDEX J022558.38+002446.2</td><td>3</td><td>20180915023_3_multi_038_096_014_RU_077</td><td>014</td><td>096</td><td>20180915v023_038_096_014_006</td><td>1.07</td><td>038</td><td>0.5496</td><td>-21.61</td><td>17.63</td><td>5.38e-19</td><td>5.245e-19</td><td>1000.0</td><td>0.0</td><td>26.06937</td><td>0.65247875</td><td>0.999001</td><td>1000.0</td><td>1000.0</td><td>1000.0</td></tr>\n",
       "<tr><td>2102591416</td><td>1.2000000476837158</td><td>0.1898999959230423</td><td>6.505323355000002e-17</td><td>20180915023</td><td>dex-fall</td><td>43</td><td>25.289738</td><td>25.289738</td><td>36.49452</td><td>0.408395</td><td>20180915</td><td>23</td><td>3605.26</td><td>0.54</td><td>19.13</td><td>2.52</td><td>3.52</td><td>0.51</td><td>0.02</td><td>0.14</td><td>5.18</td><td>0.95</td><td>1.09</td><td>0.23</td><td>multi_038_096_014_RL</td><td>58</td><td>55</td><td>526</td><td>RL</td><td>0.8323318</td><td>HETDEX J022558.68+002430.2</td><td>2</td><td>20180915023_2_multi_038_096_014_RL_058</td><td>014</td><td>096</td><td>20180915v023_038_096_014_010</td><td>1.47</td><td>038</td><td>0.4192</td><td>-10.17</td><td>6.61</td><td>1.2678847e-17</td><td>9.308302e-19</td><td>1000.0</td><td>0.0</td><td>25.289738</td><td>0.3247944</td><td>0.6288241</td><td>1000.0</td><td>1000.0</td><td>1000.0</td></tr>\n",
       "<tr><td>2102591417</td><td>1.2000000476837158</td><td>0.1898999959230423</td><td>6.505323355000002e-17</td><td>20180915023</td><td>dex-fall</td><td>43</td><td>27.29686</td><td>27.29686</td><td>36.488213</td><td>0.405966</td><td>20180915</td><td>23</td><td>4330.56</td><td>0.69</td><td>8.92</td><td>1.55</td><td>3.29</td><td>0.61</td><td>-0.12</td><td>0.08</td><td>4.67</td><td>0.97</td><td>1.01</td><td>0.22</td><td>multi_038_096_014_RU</td><td>26</td><td>423</td><td>245</td><td>RU</td><td>1.2247323</td><td>HETDEX J022557.17+002421.5</td><td>2</td><td>20180915023_2_multi_038_096_014_RU_026</td><td>014</td><td>096</td><td>20180915v023_038_096_014_011</td><td>1.33</td><td>038</td><td>0.4463</td><td>8.9</td><td>22.03</td><td>5.4021754e-19</td><td>5.4629143e-19</td><td>1000.0</td><td>0.0</td><td>27.29686</td><td>1.7759596</td><td>0.999001</td><td>1000.0</td><td>1000.0</td><td>1000.0</td></tr>\n",
       "<tr><td>2102591418</td><td>1.2000000476837158</td><td>0.1898999959230423</td><td>6.505323355000002e-17</td><td>20180915023</td><td>dex-fall</td><td>43</td><td>27.668615</td><td>27.668615</td><td>36.495575</td><td>0.408968</td><td>20180915</td><td>23</td><td>4532.61</td><td>0.85</td><td>8.62</td><td>1.7</td><td>3.65</td><td>0.8</td><td>-0.22</td><td>0.08</td><td>4.9</td><td>0.9</td><td>1.0</td><td>0.22</td><td>multi_038_096_014_RL</td><td>79</td><td>521</td><td>715</td><td>RL</td><td>0.9204272</td><td>HETDEX J022558.94+002432.3</td><td>2</td><td>20180915023_2_multi_038_096_014_RL_079</td><td>014</td><td>096</td><td>20180915v023_038_096_014_012</td><td>1.17</td><td>038</td><td>0.4287</td><td>-13.98</td><td>4.41</td><td>5.305479e-19</td><td>3.5526283e-19</td><td>1000.0</td><td>459.4864</td><td>27.668615</td><td>2.6975412</td><td>0.999001</td><td>1000.0</td><td>1000.0</td><td>1000.0</td></tr>\n",
       "<tr><td>2102591420</td><td>1.2000000476837158</td><td>0.1898999959230423</td><td>6.505323355000002e-17</td><td>20180915023</td><td>dex-fall</td><td>43</td><td>27.882511</td><td>27.882511</td><td>36.488354</td><td>0.404577</td><td>20180915</td><td>23</td><td>4752.37</td><td>0.74</td><td>7.46</td><td>1.45</td><td>3.07</td><td>0.67</td><td>-0.23</td><td>0.07</td><td>4.75</td><td>0.93</td><td>0.99</td><td>0.22</td><td>multi_038_096_014_RU</td><td>44</td><td>633</td><td>412</td><td>RU</td><td>1.4743558</td><td>HETDEX J022557.20+002416.5</td><td>2</td><td>20180915023_2_multi_038_096_014_RU_044</td><td>014</td><td>096</td><td>20180915v023_038_096_014_014</td><td>1.24</td><td>038</td><td>0.4912</td><td>12.71</td><td>19.83</td><td>5.04072e-19</td><td>5.749523e-19</td><td>43.366383</td><td>956.6336</td><td>27.882511</td><td>-999.999</td><td>0.9774604</td><td>1000.0</td><td>1000.0</td><td>1000.0</td></tr>\n",
       "<tr><td>2102591421</td><td>1.2000000476837158</td><td>0.1898999959230423</td><td>6.505323355000002e-17</td><td>20180915023</td><td>dex-fall</td><td>43</td><td>27.641941</td><td>27.641941</td><td>36.49977</td><td>0.405466</td><td>20180915</td><td>23</td><td>4974.77</td><td>0.72</td><td>6.65</td><td>1.09</td><td>3.91</td><td>0.74</td><td>-0.05</td><td>0.05</td><td>4.83</td><td>0.88</td><td>1.02</td><td>0.22</td><td>multi_038_096_014_LU</td><td>29</td><td>742</td><td>267</td><td>LU</td><td>1.0126139</td><td>HETDEX J022559.95+002419.7</td><td>3</td><td>20180915023_3_multi_038_096_014_LU_029</td><td>014</td><td>096</td><td>20180915v023_038_096_014_016</td><td>1.44</td><td>038</td><td>0.4132</td><td>-10.17</td><td>-15.42</td><td>5.7335383e-19</td><td>6.97043e-19</td><td>2.860275</td><td>227.08234</td><td>27.641941</td><td>1.3719475</td><td>0.7409511</td><td>1000.0</td><td>1000.0</td><td>1000.0</td></tr>\n",
       "<tr><td>2102591422</td><td>1.2000000476837158</td><td>0.1898999959230423</td><td>6.505323355000002e-17</td><td>20180915023</td><td>dex-fall</td><td>43</td><td>24.628283</td><td>24.628283</td><td>36.496384</td><td>0.411001</td><td>20180915</td><td>23</td><td>4508.13</td><td>0.73</td><td>6.87</td><td>1.26</td><td>3.35</td><td>0.69</td><td>-0.06</td><td>0.06</td><td>4.58</td><td>0.91</td><td>1.02</td><td>0.22</td><td>multi_038_096_014_RL</td><td>82</td><td>509</td><td>741</td><td>RL</td><td>1.2804338</td><td>HETDEX J022559.13+002439.6</td><td>3</td><td>20180915023_3_multi_038_096_014_RL_082</td><td>014</td><td>096</td><td>20180915v023_038_096_014_018</td><td>1.36</td><td>038</td><td>0.5373</td><td>-21.61</td><td>4.41</td><td>7.2438067e-19</td><td>1.8491729e-19</td><td>144.93898</td><td>855.06104</td><td>24.628283</td><td>0.14185011</td><td>0.99314785</td><td>251.84421</td><td>891.0008</td><td>73.63269</td></tr>\n",
       "</table>"
      ],
      "text/plain": [
       "<Table length=1482880>\n",
       " detectid         fwhm        ... plae_sdss_g_max plae_sdss_g_min\n",
       "  int64         float64       ...     float32         float32    \n",
       "---------- ------------------ ... --------------- ---------------\n",
       "2100000000 2.3224666118621826 ...          1000.0          1000.0\n",
       "2100000001 2.3224666118621826 ...          1000.0          1000.0\n",
       "2100000003 2.3224666118621826 ...          1000.0          1000.0\n",
       "2100000004 2.3224666118621826 ...          1000.0          1000.0\n",
       "2100000009 2.3224666118621826 ...          1000.0          1000.0\n",
       "2100000011 2.3224666118621826 ...           0.001           0.001\n",
       "2100000014 2.3224666118621826 ...           0.001           0.001\n",
       "2100000015 2.3224666118621826 ...           0.001           0.001\n",
       "2100000018 2.3224666118621826 ...           0.001           0.001\n",
       "2100000019 2.3224666118621826 ...    0.0010718828           0.001\n",
       "       ...                ... ...             ...             ...\n",
       "2102591412 1.2000000476837158 ...     0.028081242     0.020003833\n",
       "2102591413 1.2000000476837158 ...       0.9141632       0.6729304\n",
       "2102591414 1.2000000476837158 ...          1000.0          1000.0\n",
       "2102591415 1.2000000476837158 ...          1000.0          1000.0\n",
       "2102591416 1.2000000476837158 ...          1000.0          1000.0\n",
       "2102591417 1.2000000476837158 ...          1000.0          1000.0\n",
       "2102591418 1.2000000476837158 ...          1000.0          1000.0\n",
       "2102591420 1.2000000476837158 ...          1000.0          1000.0\n",
       "2102591421 1.2000000476837158 ...          1000.0          1000.0\n",
       "2102591422 1.2000000476837158 ...        891.0008        73.63269"
      ]
     },
     "execution_count": 14,
     "metadata": {},
     "output_type": "execute_result"
    }
   ],
   "source": [
    "detect_table"
   ]
  },
  {
   "cell_type": "markdown",
   "metadata": {},
   "source": [
    "## How we made the subset catalog for the team:"
   ]
  },
  {
   "cell_type": "code",
   "execution_count": 15,
   "metadata": {},
   "outputs": [],
   "source": [
    "sel_field = (detects.field == 'cosmos') | (detects.field == 'dex-fall') | (detects.field == 'dex-spring') | (detects.field == 'egs') | (detects.field == 'goods-n')\n",
    "sel_chi2 = detects.chi2 < 1.2\n",
    "sel_wave = ( detects.wave >= 3510 ) * (detects.wave <= 5490)\n",
    "sel_lw = (detects.linewidth <= 6)\n",
    "sel_cont = detects.continuum > -3\n",
    "sel_sn = detects.sn >= 4.8\n",
    "sel_chi2fib = (detects.chi2fib < 4.5)\n",
    "\n",
    "sel_cat = sel_field * sel_chi2 * sel_wave * sel_lw * sel_cont * sel_sn * sel_chi2fib\n",
    "\n",
    "det_table = detects.return_astropy_table()"
   ]
  },
  {
   "cell_type": "code",
   "execution_count": 16,
   "metadata": {},
   "outputs": [],
   "source": [
    "team_table = detect_table[sel_cat]"
   ]
  },
  {
   "cell_type": "markdown",
   "metadata": {},
   "source": [
    "## Querying by sky coordinates"
   ]
  },
  {
   "cell_type": "markdown",
   "metadata": {},
   "source": [
    "Upon initialization of the Detections Class, sky coordinates are converted to an Astropy sky coordinates array to allow for easy querying:"
   ]
  },
  {
   "cell_type": "code",
   "execution_count": 17,
   "metadata": {},
   "outputs": [
    {
     "data": {
      "text/plain": [
       "<SkyCoord (ICRS): (ra, dec) in deg\n",
       "    [(149.79932 , 1.986114), (149.80261 , 1.991804),\n",
       "     (149.80013 , 1.987484), ..., ( 36.488354, 0.404577),\n",
       "     ( 36.49977 , 0.405466), ( 36.496384, 0.411001)]>"
      ]
     },
     "execution_count": 17,
     "metadata": {},
     "output_type": "execute_result"
    }
   ],
   "source": [
    "detects.coords"
   ]
  },
  {
   "cell_type": "markdown",
   "metadata": {},
   "source": [
    "To query a region of the sky, you can use the Detections function `query_by_coords` which takes an astropy coords objects as an argument as well as a radius represented by an astropy quantity. It returns a boolean mask to index the Detections class object."
   ]
  },
  {
   "cell_type": "code",
   "execution_count": 18,
   "metadata": {},
   "outputs": [],
   "source": [
    "obj_coords = SkyCoord(199.35704 * u.deg, 51.06718 * u.deg, frame='icrs')"
   ]
  },
  {
   "cell_type": "code",
   "execution_count": 19,
   "metadata": {},
   "outputs": [],
   "source": [
    "maskregion = detects.query_by_coords(obj_coords, 10. * u.arcsec)"
   ]
  },
  {
   "cell_type": "markdown",
   "metadata": {},
   "source": [
    "The Detections class allows slicing so that a boolean mask applied to the class will slice each array attribute accordingly:"
   ]
  },
  {
   "cell_type": "code",
   "execution_count": 20,
   "metadata": {},
   "outputs": [
    {
     "name": "stdout",
     "output_type": "stream",
     "text": [
      "6\n"
     ]
    }
   ],
   "source": [
    "detects_in_region = detects[maskregion]\n",
    "print(np.size(detects_in_region.detectid))"
   ]
  },
  {
   "cell_type": "markdown",
   "metadata": {},
   "source": [
    "## Find a direct line match"
   ]
  },
  {
   "cell_type": "markdown",
   "metadata": {},
   "source": [
    "If you want to find an exact line match you can use the function `find_match()`"
   ]
  },
  {
   "cell_type": "code",
   "execution_count": 21,
   "metadata": {},
   "outputs": [],
   "source": [
    "obj_coords = SkyCoord(199.35704 * u.deg, 51.06718 * u.deg, frame='icrs')"
   ]
  },
  {
   "cell_type": "code",
   "execution_count": 22,
   "metadata": {},
   "outputs": [],
   "source": [
    "wave_obj = 3836."
   ]
  },
  {
   "cell_type": "code",
   "execution_count": 23,
   "metadata": {},
   "outputs": [],
   "source": [
    "idx = detects.find_match(obj_coords, wave=wave_obj, radius=5.*u.arcsec, dwave=5 )"
   ]
  },
  {
   "cell_type": "code",
   "execution_count": 24,
   "metadata": {},
   "outputs": [
    {
     "data": {
      "text/plain": [
       "array([2100191119])"
      ]
     },
     "execution_count": 24,
     "metadata": {},
     "output_type": "execute_result"
    }
   ],
   "source": [
    "detects.detectid[idx]"
   ]
  },
  {
   "cell_type": "code",
   "execution_count": 25,
   "metadata": {},
   "outputs": [
    {
     "data": {
      "text/html": [
       "<i>Table length=1</i>\n",
       "<table id=\"table47908599745896\" class=\"table-striped table-bordered table-condensed\">\n",
       "<thead><tr><th>detectid</th><th>fwhm</th><th>throughput</th><th>fluxlimit_4540</th><th>shotid</th><th>field</th><th>n_ifu</th><th>gmag_err</th><th>gmag</th><th>ra</th><th>dec</th><th>date</th><th>obsid</th><th>wave</th><th>wave_err</th><th>flux</th><th>flux_err</th><th>linewidth</th><th>linewidth_err</th><th>continuum</th><th>continuum_err</th><th>sn</th><th>sn_err</th><th>chi2</th><th>chi2_err</th><th>multiframe</th><th>fibnum</th><th>x_raw</th><th>y_raw</th><th>amp</th><th>chi2fib</th><th>detectname</th><th>expnum</th><th>fiber_id</th><th>ifuid</th><th>ifuslot</th><th>inputid</th><th>noise_ratio</th><th>specid</th><th>weight</th><th>x_ifu</th><th>y_ifu</th><th>combined_continuum</th><th>combined_continuum_err</th><th>combined_plae</th><th>combined_plae_err</th><th>mag_sdss_g</th><th>mag_sdss_g_err</th><th>plae_classification</th><th>plae_sdss_g</th><th>plae_sdss_g_max</th><th>plae_sdss_g_min</th></tr></thead>\n",
       "<thead><tr><th>int64</th><th>float64</th><th>float64</th><th>float64</th><th>int64</th><th>str12</th><th>int64</th><th>float32</th><th>float32</th><th>float32</th><th>float32</th><th>int32</th><th>int32</th><th>float32</th><th>float32</th><th>float32</th><th>float32</th><th>float32</th><th>float32</th><th>float32</th><th>float32</th><th>float32</th><th>float32</th><th>float32</th><th>float32</th><th>str20</th><th>int32</th><th>int32</th><th>int32</th><th>str2</th><th>float32</th><th>str40</th><th>int32</th><th>str38</th><th>str3</th><th>str3</th><th>str40</th><th>float32</th><th>str3</th><th>float32</th><th>float32</th><th>float32</th><th>float32</th><th>float32</th><th>float32</th><th>float32</th><th>float32</th><th>float32</th><th>float32</th><th>float32</th><th>float32</th><th>float32</th></tr></thead>\n",
       "<tr><td>2100191119</td><td>1.4780957698822021</td><td>0.15860000252723694</td><td>7.054422355000001e-17</td><td>20180313011</td><td>dex-spring</td><td>29</td><td>24.453909</td><td>24.453909</td><td>199.35716</td><td>51.067116</td><td>20180313</td><td>11</td><td>3836.54</td><td>0.45</td><td>43.68</td><td>4.07</td><td>4.05</td><td>0.48</td><td>0.4</td><td>0.17</td><td>7.29</td><td>0.86</td><td>1.09</td><td>0.22</td><td>multi_025_076_032_RU</td><td>32</td><td>178</td><td>300</td><td>RU</td><td>1.3960594</td><td>HETDEX J131725.72+510401.6</td><td>1</td><td>20180313011_1_multi_025_076_032_RU_032</td><td>032</td><td>076</td><td>20180313v011_025_076_032_008</td><td>1.65</td><td>025</td><td>0.3106</td><td>-6.36</td><td>22.03</td><td>1.4228122e-18</td><td>5.3054424e-19</td><td>1000.0</td><td>0.0</td><td>24.453909</td><td>0.1621258</td><td>0.95363724</td><td>1000.0</td><td>1000.0</td><td>1000.0</td></tr>\n",
       "</table>"
      ],
      "text/plain": [
       "<Table length=1>\n",
       " detectid         fwhm        ... plae_sdss_g_max plae_sdss_g_min\n",
       "  int64         float64       ...     float32         float32    \n",
       "---------- ------------------ ... --------------- ---------------\n",
       "2100191119 1.4780957698822021 ...          1000.0          1000.0"
      ]
     },
     "execution_count": 25,
     "metadata": {},
     "output_type": "execute_result"
    }
   ],
   "source": [
    "detect_table[idx]"
   ]
  },
  {
   "cell_type": "markdown",
   "metadata": {},
   "source": [
    "## Check out matched sources in the ElixerWidget"
   ]
  },
  {
   "cell_type": "markdown",
   "metadata": {},
   "source": [
    "For this example, we have found 12 detections in this region, we can examine these via the ELiXer reports using the `ElixerWidget()` class from `hetdex_api.elixer_widget_cls.py`. To do so we need to save the detectid list to examine in the widget."
   ]
  },
  {
   "cell_type": "code",
   "execution_count": 26,
   "metadata": {},
   "outputs": [],
   "source": [
    "np.savetxt('detects_obj.txt', detects_in_region.detectid)"
   ]
  },
  {
   "cell_type": "markdown",
   "metadata": {},
   "source": [
    "You can the run the elixer_widget to scan through the ELiXer reports for this object. Use the \"Next DetectID\" button to scan the list. The \"DetectID\" text widget will give access to all reports interactively and scans in increasing single digit increments, but the green Next DetectID button will go in order of the ingest list from 'detects_obj.txt'."
   ]
  },
  {
   "cell_type": "code",
   "execution_count": 27,
   "metadata": {},
   "outputs": [
    {
     "data": {
      "application/vnd.jupyter.widget-view+json": {
       "model_id": "3cd3da9069ec4d05a8c4cdc3ec8e458d",
       "version_major": 2,
       "version_minor": 0
      },
      "text/plain": [
       "interactive(children=(BoundedIntText(value=2100191119, description='DetectID:', max=10000000000, min=100000000…"
      ]
     },
     "metadata": {},
     "output_type": "display_data"
    }
   ],
   "source": [
    "elix_widget = ElixerWidget(detectlist = detects_in_region.detectid)\n",
    "#elix_widget = ElixerWidget(detectfile='detects_obj.txt')"
   ]
  },
  {
   "cell_type": "markdown",
   "metadata": {},
   "source": [
    "For more information on using the Elixer Widgets GUI go to Notebook 12. We will discuss team classification efforts there. But for quick investigation its helpful to pull the GUI up to just scan through a detection list."
   ]
  },
  {
   "cell_type": "markdown",
   "metadata": {},
   "source": [
    "## Accessing 1D Spectra"
   ]
  },
  {
   "cell_type": "markdown",
   "metadata": {},
   "source": [
    "Spectra in counts and flux-calibrated units are stored in the Spectra Table of the Detection HDF5 file, it can be accessed directly through the Detections class object which stores the detect HDF5 as an attribute:"
   ]
  },
  {
   "cell_type": "code",
   "execution_count": 28,
   "metadata": {},
   "outputs": [
    {
     "name": "stdout",
     "output_type": "stream",
     "text": [
      "/scratch/03946/hetdex/hdr2.1/detect/detect_hdr2.1.h5 (File) ''\n",
      "Last modif.: 'Thu Aug 13 11:38:47 2020'\n",
      "Object Tree: \n",
      "/ (RootGroup) ''\n",
      "/Detections (Table(1482880,)) 'HETDEX Line Detection Catalog'\n",
      "/Elixer (Table(1482880,)) 'Elixer Info'\n",
      "/Fibers (Table(28328155,)) 'Fiber info for each detection'\n",
      "/Spectra (Table(1482880,)) '1D Spectra for each Line Detection'\n",
      "\n"
     ]
    }
   ],
   "source": [
    "print(detects.hdfile)"
   ]
  },
  {
   "cell_type": "code",
   "execution_count": 29,
   "metadata": {},
   "outputs": [],
   "source": [
    "spectra = detects.hdfile.root.Spectra"
   ]
  },
  {
   "cell_type": "markdown",
   "metadata": {},
   "source": [
    "This is a very large table so its not advised to read it in all at once. The columns are:"
   ]
  },
  {
   "cell_type": "code",
   "execution_count": 30,
   "metadata": {},
   "outputs": [
    {
     "data": {
      "text/plain": [
       "/Spectra.cols (Cols), 12 columns\n",
       "  detectid (Column(1482880,), int64)\n",
       "  wave1d (Column(1482880, 1036), ('<f4', (1036,)))\n",
       "  spec1d (Column(1482880, 1036), ('<f4', (1036,)))\n",
       "  spec1d_err (Column(1482880, 1036), ('<f4', (1036,)))\n",
       "  counts1d (Column(1482880, 1036), ('<f4', (1036,)))\n",
       "  counts1d_err (Column(1482880, 1036), ('<f4', (1036,)))\n",
       "  apsum_counts (Column(1482880, 1036), ('<f4', (1036,)))\n",
       "  apsum_counts_err (Column(1482880, 1036), ('<f4', (1036,)))\n",
       "  apcor (Column(1482880, 1036), ('<f4', (1036,)))\n",
       "  flag_pix (Column(1482880, 1036), ('<f4', (1036,)))\n",
       "  spec1d_nc (Column(1482880, 1036), ('<f4', (1036,)))\n",
       "  spec1d_nc_err (Column(1482880, 1036), ('<f4', (1036,)))"
      ]
     },
     "execution_count": 30,
     "metadata": {},
     "output_type": "execute_result"
    }
   ],
   "source": [
    "spectra.cols"
   ]
  },
  {
   "cell_type": "markdown",
   "metadata": {},
   "source": [
    "Flux calibrated, psf-weighted 1D spectra can be retrieved via the API for a single detectid through the function `get_spectrum`:"
   ]
  },
  {
   "cell_type": "code",
   "execution_count": 32,
   "metadata": {},
   "outputs": [],
   "source": [
    "detectid_nice_lae = 2100744791\n",
    "spec_table = detects.get_spectrum(detectid_nice_lae) "
   ]
  },
  {
   "cell_type": "code",
   "execution_count": 33,
   "metadata": {},
   "outputs": [
    {
     "data": {
      "image/png": "[encoded data removed]",
      "text/plain": [
       "<matplotlib.figure.Figure at 0x2b92971c9320>"
      ]
     },
     "metadata": {
      "needs_background": "light"
     },
     "output_type": "display_data"
    }
   ],
   "source": [
    "detects.plot_spectrum(detectid_nice_lae)"
   ]
  },
  {
   "cell_type": "markdown",
   "metadata": {},
   "source": [
    "or if we want to zoom in on the emission line:"
   ]
  },
  {
   "cell_type": "code",
   "execution_count": 34,
   "metadata": {},
   "outputs": [
    {
     "data": {
      "image/png": "[encoded data removed]",
      "text/plain": [
       "<matplotlib.figure.Figure at 0x2b929724fb00>"
      ]
     },
     "metadata": {
      "needs_background": "light"
     },
     "output_type": "display_data"
    }
   ],
   "source": [
    "cw = detects.wave[detects.detectid == detectid_nice_lae]\n",
    "detects.plot_spectrum(detectid_nice_lae, xlim=(cw-50, cw+50))"
   ]
  },
  {
   "cell_type": "markdown",
   "metadata": {},
   "source": [
    "You can also save the spectrum to a text file. It is automatically saved as spec_##detectid##.dat, but you can also use the argument `outfile`"
   ]
  },
  {
   "cell_type": "code",
   "execution_count": 35,
   "metadata": {},
   "outputs": [],
   "source": [
    "detects.save_spectrum(detectid_nice_lae)\n",
    "# or\n",
    "# detects.save_spectrum(detectid_nice_lae, outfile='tmp.txt')"
   ]
  },
  {
   "cell_type": "markdown",
   "metadata": {},
   "source": [
    "## Getting Fiber information for a detection"
   ]
  },
  {
   "cell_type": "markdown",
   "metadata": {},
   "source": [
    "You can find a list of all fibers used in the measurement in the Fibers table. The Fibers table and its associated columns can be accessed similar to the Spectra table by searching for a match in the the detectid column. "
   ]
  },
  {
   "cell_type": "code",
   "execution_count": 38,
   "metadata": {},
   "outputs": [
    {
     "data": {
      "text/plain": [
       "/Fibers.cols (Cols), 23 columns\n",
       "  detectid (Column(28328155,), int64)\n",
       "  ra (Column(28328155,), float32)\n",
       "  dec (Column(28328155,), float32)\n",
       "  multiframe (Column(28328155,), |S20)\n",
       "  fiber_id (Column(28328155,), |S38)\n",
       "  x_ifu (Column(28328155,), float32)\n",
       "  y_ifu (Column(28328155,), float32)\n",
       "  date (Column(28328155,), int32)\n",
       "  obsid (Column(28328155,), int32)\n",
       "  expnum (Column(28328155,), int32)\n",
       "  distance (Column(28328155,), float32)\n",
       "  timestamp (Column(28328155,), |S17)\n",
       "  wavein (Column(28328155,), float32)\n",
       "  flag (Column(28328155,), int32)\n",
       "  weight (Column(28328155,), float32)\n",
       "  ADC (Column(28328155, 5), ('<f4', (5,)))\n",
       "  amp (Column(28328155,), |S2)\n",
       "  fibnum (Column(28328155,), int32)\n",
       "  ifuid (Column(28328155,), |S3)\n",
       "  ifuslot (Column(28328155,), |S3)\n",
       "  specid (Column(28328155,), |S3)\n",
       "  x_raw (Column(28328155,), int32)\n",
       "  y_raw (Column(28328155,), int32)"
      ]
     },
     "execution_count": 38,
     "metadata": {},
     "output_type": "execute_result"
    }
   ],
   "source": [
    "fibers = detects.hdfile.root.Fibers\n",
    "fibers.cols"
   ]
  },
  {
   "cell_type": "markdown",
   "metadata": {},
   "source": [
    "Access the fiber table for the above source:"
   ]
  },
  {
   "cell_type": "code",
   "execution_count": 39,
   "metadata": {},
   "outputs": [],
   "source": [
    "fiber_table = fibers.read_where(\"detectid == detectid_nice_lae\") "
   ]
  },
  {
   "cell_type": "code",
   "execution_count": 40,
   "metadata": {
    "scrolled": true
   },
   "outputs": [
    {
     "data": {
      "text/html": [
       "<i>Table length=22</i>\n",
       "<table id=\"table47908600342064\" class=\"table-striped table-bordered table-condensed\">\n",
       "<thead><tr><th>detectid</th><th>ra</th><th>dec</th><th>multiframe</th><th>fiber_id</th><th>x_ifu</th><th>y_ifu</th><th>date</th><th>obsid</th><th>expnum</th><th>distance</th><th>timestamp</th><th>wavein</th><th>flag</th><th>weight</th><th>ADC [5]</th><th>amp</th><th>fibnum</th><th>ifuid</th><th>ifuslot</th><th>specid</th><th>x_raw</th><th>y_raw</th></tr></thead>\n",
       "<thead><tr><th>int64</th><th>float32</th><th>float32</th><th>bytes20</th><th>bytes38</th><th>float32</th><th>float32</th><th>int32</th><th>int32</th><th>int32</th><th>float32</th><th>bytes17</th><th>float32</th><th>int32</th><th>float32</th><th>float32</th><th>bytes2</th><th>int32</th><th>bytes3</th><th>bytes3</th><th>bytes3</th><th>int32</th><th>int32</th></tr></thead>\n",
       "<tr><td>2100744791</td><td>211.52325</td><td>51.71597</td><td>multi_025_076_032_LU</td><td>20190207023_1_multi_025_076_032_LU_003</td><td>6.36</td><td>-13.22</td><td>20190207</td><td>23</td><td>1</td><td>3.477</td><td>20190207T091036.6</td><td>4306.8</td><td>0</td><td>0.0046</td><td>0.0 .. 0.0</td><td>LU</td><td>3</td><td>032</td><td>076</td><td>025</td><td>415</td><td>40</td></tr>\n",
       "<tr><td>2100744791</td><td>211.52484</td><td>51.714375</td><td>multi_025_076_032_LL</td><td>20190207023_1_multi_025_076_032_LL_056</td><td>7.63</td><td>-6.61</td><td>20190207</td><td>23</td><td>1</td><td>3.371</td><td>20190207T091036.6</td><td>4306.8</td><td>0</td><td>0.0054</td><td>0.0 .. 0.0</td><td>LL</td><td>56</td><td>032</td><td>076</td><td>025</td><td>418</td><td>524</td></tr>\n",
       "<tr><td>2100744791</td><td>211.52377</td><td>51.714127</td><td>multi_025_076_032_LL</td><td>20190207023_1_multi_025_076_032_LL_057</td><td>5.08</td><td>-6.61</td><td>20190207</td><td>23</td><td>1</td><td>3.408</td><td>20190207T091036.6</td><td>4306.8</td><td>0</td><td>0.0051</td><td>0.0 .. 0.0</td><td>LL</td><td>57</td><td>032</td><td>076</td><td>025</td><td>418</td><td>533</td></tr>\n",
       "<tr><td>2100744791</td><td>211.52502</td><td>51.715073</td><td>multi_025_076_032_LL</td><td>20190207023_1_multi_025_076_032_LL_075</td><td>8.9</td><td>-8.81</td><td>20190207</td><td>23</td><td>1</td><td>2.655</td><td>20190207T091036.6</td><td>4306.8</td><td>0</td><td>0.0158</td><td>0.0 .. 0.0</td><td>LL</td><td>75</td><td>032</td><td>076</td><td>025</td><td>416</td><td>690</td></tr>\n",
       "<tr><td>2100744791</td><td>211.52396</td><td>51.714825</td><td>multi_025_076_032_LL</td><td>20190207023_1_multi_025_076_032_LL_076</td><td>6.36</td><td>-8.81</td><td>20190207</td><td>23</td><td>1</td><td>0.933</td><td>20190207T091036.6</td><td>4306.8</td><td>0</td><td>0.1452</td><td>0.0 .. 0.0</td><td>LL</td><td>76</td><td>032</td><td>076</td><td>025</td><td>416</td><td>707</td></tr>\n",
       "<tr><td>2100744791</td><td>211.52289</td><td>51.714573</td><td>multi_025_076_032_LL</td><td>20190207023_1_multi_025_076_032_LL_077</td><td>3.81</td><td>-8.81</td><td>20190207</td><td>23</td><td>1</td><td>2.773</td><td>20190207T091036.6</td><td>4306.8</td><td>0</td><td>0.0133</td><td>0.0 .. 0.0</td><td>LL</td><td>77</td><td>032</td><td>076</td><td>025</td><td>416</td><td>716</td></tr>\n",
       "<tr><td>2100744791</td><td>211.52414</td><td>51.715523</td><td>multi_025_076_032_LL</td><td>20190207023_1_multi_025_076_032_LL_095</td><td>7.63</td><td>-11.02</td><td>20190207</td><td>23</td><td>1</td><td>1.758</td><td>20190207T091036.6</td><td>4306.8</td><td>0</td><td>0.0581</td><td>0.0 .. 0.0</td><td>LL</td><td>95</td><td>032</td><td>076</td><td>025</td><td>415</td><td>872</td></tr>\n",
       "<tr><td>2100744791</td><td>211.52307</td><td>51.715275</td><td>multi_025_076_032_LL</td><td>20190207023_1_multi_025_076_032_LL_096</td><td>5.08</td><td>-11.02</td><td>20190207</td><td>23</td><td>1</td><td>1.851</td><td>20190207T091036.6</td><td>4306.8</td><td>0</td><td>0.0512</td><td>0.0 .. 0.0</td><td>LL</td><td>96</td><td>032</td><td>076</td><td>025</td><td>415</td><td>881</td></tr>\n",
       "<tr><td>2100744791</td><td>211.52524</td><td>51.714676</td><td>multi_025_076_032_LL</td><td>20190207023_2_multi_025_076_032_LL_056</td><td>7.63</td><td>-6.61</td><td>20190207</td><td>23</td><td>2</td><td>3.442</td><td>20190207T091732.4</td><td>4306.8</td><td>0</td><td>0.0049</td><td>0.0 .. 0.0</td><td>LL</td><td>56</td><td>032</td><td>076</td><td>025</td><td>418</td><td>524</td></tr>\n",
       "<tr><td>2100744791</td><td>211.52417</td><td>51.714428</td><td>multi_025_076_032_LL</td><td>20190207023_2_multi_025_076_032_LL_057</td><td>5.08</td><td>-6.61</td><td>20190207</td><td>23</td><td>2</td><td>2.439</td><td>20190207T091732.4</td><td>4306.8</td><td>0</td><td>0.022</td><td>0.0 .. 0.0</td><td>LL</td><td>57</td><td>032</td><td>076</td><td>025</td><td>418</td><td>533</td></tr>\n",
       "<tr><td>2100744791</td><td>211.52435</td><td>51.715126</td><td>multi_025_076_032_LL</td><td>20190207023_2_multi_025_076_032_LL_076</td><td>6.36</td><td>-8.81</td><td>20190207</td><td>23</td><td>2</td><td>1.173</td><td>20190207T091732.4</td><td>4306.8</td><td>0</td><td>0.1162</td><td>0.0 .. 0.0</td><td>LL</td><td>76</td><td>032</td><td>076</td><td>025</td><td>416</td><td>707</td></tr>\n",
       "<tr><td>2100744791</td><td>211.52328</td><td>51.714874</td><td>multi_025_076_032_LL</td><td>20190207023_2_multi_025_076_032_LL_077</td><td>3.81</td><td>-8.81</td><td>20190207</td><td>23</td><td>2</td><td>1.418</td><td>20190207T091732.4</td><td>4306.8</td><td>0</td><td>0.0889</td><td>0.0 .. 0.0</td><td>LL</td><td>77</td><td>032</td><td>076</td><td>025</td><td>416</td><td>716</td></tr>\n",
       "<tr><td>2100744791</td><td>211.52454</td><td>51.715824</td><td>multi_025_076_032_LL</td><td>20190207023_2_multi_025_076_032_LL_095</td><td>7.63</td><td>-11.02</td><td>20190207</td><td>23</td><td>2</td><td>3.126</td><td>20190207T091732.4</td><td>4306.8</td><td>0</td><td>0.0078</td><td>0.0 .. 0.0</td><td>LL</td><td>95</td><td>032</td><td>076</td><td>025</td><td>415</td><td>872</td></tr>\n",
       "<tr><td>2100744791</td><td>211.52347</td><td>51.715576</td><td>multi_025_076_032_LL</td><td>20190207023_2_multi_025_076_032_LL_096</td><td>5.08</td><td>-11.02</td><td>20190207</td><td>23</td><td>2</td><td>1.988</td><td>20190207T091732.4</td><td>4306.8</td><td>0</td><td>0.0423</td><td>0.0 .. 0.0</td><td>LL</td><td>96</td><td>032</td><td>076</td><td>025</td><td>415</td><td>881</td></tr>\n",
       "<tr><td>2100744791</td><td>211.5224</td><td>51.715324</td><td>multi_025_076_032_LL</td><td>20190207023_2_multi_025_076_032_LL_097</td><td>2.54</td><td>-11.02</td><td>20190207</td><td>23</td><td>2</td><td>3.325</td><td>20190207T091732.4</td><td>4306.8</td><td>0</td><td>0.0058</td><td>0.0 .. 0.0</td><td>LL</td><td>97</td><td>032</td><td>076</td><td>025</td><td>415</td><td>890</td></tr>\n",
       "<tr><td>2100744791</td><td>211.52388</td><td>51.715908</td><td>multi_025_076_032_LU</td><td>20190207023_3_multi_025_076_032_LU_003</td><td>6.36</td><td>-13.22</td><td>20190207</td><td>23</td><td>3</td><td>3.009</td><td>20190207T092429.3</td><td>4306.8</td><td>0</td><td>0.0093</td><td>0.0 .. 0.0</td><td>LU</td><td>3</td><td>032</td><td>076</td><td>025</td><td>415</td><td>40</td></tr>\n",
       "<tr><td>2100744791</td><td>211.52281</td><td>51.715656</td><td>multi_025_076_032_LU</td><td>20190207023_3_multi_025_076_032_LU_004</td><td>3.81</td><td>-13.22</td><td>20190207</td><td>23</td><td>3</td><td>3.101</td><td>20190207T092429.3</td><td>4306.8</td><td>0</td><td>0.0081</td><td>0.0 .. 0.0</td><td>LU</td><td>4</td><td>032</td><td>076</td><td>025</td><td>415</td><td>49</td></tr>\n",
       "<tr><td>2100744791</td><td>211.52458</td><td>51.71476</td><td>multi_025_076_032_LL</td><td>20190207023_3_multi_025_076_032_LL_076</td><td>6.36</td><td>-8.81</td><td>20190207</td><td>23</td><td>3</td><td>2.012</td><td>20190207T092429.3</td><td>4306.8</td><td>0</td><td>0.041</td><td>0.0 .. 0.0</td><td>LL</td><td>76</td><td>032</td><td>076</td><td>025</td><td>416</td><td>707</td></tr>\n",
       "<tr><td>2100744791</td><td>211.52351</td><td>51.71451</td><td>multi_025_076_032_LL</td><td>20190207023_3_multi_025_076_032_LL_077</td><td>3.81</td><td>-8.81</td><td>20190207</td><td>23</td><td>3</td><td>2.142</td><td>20190207T092429.3</td><td>4306.8</td><td>0</td><td>0.034</td><td>0.0 .. 0.0</td><td>LL</td><td>77</td><td>032</td><td>076</td><td>025</td><td>416</td><td>716</td></tr>\n",
       "<tr><td>2100744791</td><td>211.52477</td><td>51.715458</td><td>multi_025_076_032_LL</td><td>20190207023_3_multi_025_076_032_LL_095</td><td>7.63</td><td>-11.02</td><td>20190207</td><td>23</td><td>3</td><td>2.497</td><td>20190207T092429.3</td><td>4306.8</td><td>0</td><td>0.0202</td><td>0.0 .. 0.0</td><td>LL</td><td>95</td><td>032</td><td>076</td><td>025</td><td>415</td><td>872</td></tr>\n",
       "<tr><td>2100744791</td><td>211.5237</td><td>51.71521</td><td>multi_025_076_032_LL</td><td>20190207023_3_multi_025_076_032_LL_096</td><td>5.08</td><td>-11.02</td><td>20190207</td><td>23</td><td>3</td><td>0.582</td><td>20190207T092429.3</td><td>4306.8</td><td>0</td><td>0.1855</td><td>0.0 .. 0.0</td><td>LL</td><td>96</td><td>032</td><td>076</td><td>025</td><td>415</td><td>881</td></tr>\n",
       "<tr><td>2100744791</td><td>211.52263</td><td>51.714962</td><td>multi_025_076_032_LL</td><td>20190207023_3_multi_025_076_032_LL_097</td><td>2.54</td><td>-11.02</td><td>20190207</td><td>23</td><td>3</td><td>2.718</td><td>20190207T092429.3</td><td>4306.8</td><td>0</td><td>0.0144</td><td>0.0 .. 0.0</td><td>LL</td><td>97</td><td>032</td><td>076</td><td>025</td><td>415</td><td>890</td></tr>\n",
       "</table>"
      ],
      "text/plain": [
       "<Table length=22>\n",
       " detectid      ra       dec         multiframe      ... specid x_raw y_raw\n",
       "  int64     float32   float32        bytes20        ... bytes3 int32 int32\n",
       "---------- --------- --------- -------------------- ... ------ ----- -----\n",
       "2100744791 211.52325  51.71597 multi_025_076_032_LU ...    025   415    40\n",
       "2100744791 211.52484 51.714375 multi_025_076_032_LL ...    025   418   524\n",
       "2100744791 211.52377 51.714127 multi_025_076_032_LL ...    025   418   533\n",
       "2100744791 211.52502 51.715073 multi_025_076_032_LL ...    025   416   690\n",
       "2100744791 211.52396 51.714825 multi_025_076_032_LL ...    025   416   707\n",
       "2100744791 211.52289 51.714573 multi_025_076_032_LL ...    025   416   716\n",
       "2100744791 211.52414 51.715523 multi_025_076_032_LL ...    025   415   872\n",
       "2100744791 211.52307 51.715275 multi_025_076_032_LL ...    025   415   881\n",
       "2100744791 211.52524 51.714676 multi_025_076_032_LL ...    025   418   524\n",
       "2100744791 211.52417 51.714428 multi_025_076_032_LL ...    025   418   533\n",
       "2100744791 211.52435 51.715126 multi_025_076_032_LL ...    025   416   707\n",
       "2100744791 211.52328 51.714874 multi_025_076_032_LL ...    025   416   716\n",
       "2100744791 211.52454 51.715824 multi_025_076_032_LL ...    025   415   872\n",
       "2100744791 211.52347 51.715576 multi_025_076_032_LL ...    025   415   881\n",
       "2100744791  211.5224 51.715324 multi_025_076_032_LL ...    025   415   890\n",
       "2100744791 211.52388 51.715908 multi_025_076_032_LU ...    025   415    40\n",
       "2100744791 211.52281 51.715656 multi_025_076_032_LU ...    025   415    49\n",
       "2100744791 211.52458  51.71476 multi_025_076_032_LL ...    025   416   707\n",
       "2100744791 211.52351  51.71451 multi_025_076_032_LL ...    025   416   716\n",
       "2100744791 211.52477 51.715458 multi_025_076_032_LL ...    025   415   872\n",
       "2100744791  211.5237  51.71521 multi_025_076_032_LL ...    025   415   881\n",
       "2100744791 211.52263 51.714962 multi_025_076_032_LL ...    025   415   890"
      ]
     },
     "execution_count": 40,
     "metadata": {},
     "output_type": "execute_result"
    }
   ],
   "source": [
    "Table(fiber_table)"
   ]
  },
  {
   "cell_type": "markdown",
   "metadata": {},
   "source": [
    "When you are done with the HDF5 file, close it. The data that you extracted into tables and arrays will remain."
   ]
  },
  {
   "cell_type": "code",
   "execution_count": 41,
   "metadata": {},
   "outputs": [],
   "source": [
    "detects.hdfile.close()"
   ]
  },
  {
   "cell_type": "markdown",
   "metadata": {
    "collapsed": true
   },
   "source": [
    "## Accessing the ELiXer Classifications"
   ]
  },
  {
   "cell_type": "code",
   "execution_count": 43,
   "metadata": {},
   "outputs": [],
   "source": [
    "config = HDRconfig(survey='hdr2.1')\n",
    "file_elix = tb.open_file(config.elixerh5)"
   ]
  },
  {
   "cell_type": "code",
   "execution_count": 44,
   "metadata": {},
   "outputs": [
    {
     "data": {
      "text/plain": [
       "/Detections (Table(1567634,)) 'ELiXer Detection Summary Table'\n",
       "  description := {\n",
       "  \"detectid\": Int64Col(shape=(), dflt=0, pos=0),\n",
       "  \"detectname\": StringCol(itemsize=64, shape=(), dflt=b'', pos=1),\n",
       "  \"elixer_version\": StringCol(itemsize=16, shape=(), dflt=b'', pos=2),\n",
       "  \"elixer_datetime\": StringCol(itemsize=21, shape=(), dflt=b'', pos=3),\n",
       "  \"ra\": Float32Col(shape=(), dflt=-999.999, pos=4),\n",
       "  \"dec\": Float32Col(shape=(), dflt=-999.999, pos=5),\n",
       "  \"wavelength_obs\": Float32Col(shape=(), dflt=-999.999, pos=6),\n",
       "  \"wavelength_obs_err\": Float32Col(shape=(), dflt=-999.999, pos=7),\n",
       "  \"ccd_adjacent_mag\": Float32Col(shape=(), dflt=99.9, pos=8),\n",
       "  \"central_single_fiber_mag\": Float32Col(shape=(), dflt=99.9, pos=9),\n",
       "  \"chi2\": Float32Col(shape=(), dflt=-999.999, pos=10),\n",
       "  \"chi2_err\": Float32Col(shape=(), dflt=-999.999, pos=11),\n",
       "  \"combined_continuum\": Float32Col(shape=(), dflt=-999.999, pos=12),\n",
       "  \"combined_continuum_err\": Float32Col(shape=(), dflt=-999.999, pos=13),\n",
       "  \"combined_plae\": Float32Col(shape=(), dflt=-999.999, pos=14),\n",
       "  \"combined_plae_err\": Float32Col(shape=(), dflt=-999.999, pos=15),\n",
       "  \"continuum_full_spec\": Float32Col(shape=(), dflt=-999.999, pos=16),\n",
       "  \"continuum_full_spec_err\": Float32Col(shape=(), dflt=-999.999, pos=17),\n",
       "  \"continuum_line\": Float32Col(shape=(), dflt=-999.999, pos=18),\n",
       "  \"continuum_line_err\": Float32Col(shape=(), dflt=-999.999, pos=19),\n",
       "  \"continuum_sdss_g\": Float32Col(shape=(), dflt=-999.999, pos=20),\n",
       "  \"continuum_sdss_g_err\": Float32Col(shape=(), dflt=-999.999, pos=21),\n",
       "  \"eqw_rest_lya_full_spec\": Float32Col(shape=(), dflt=-999.999, pos=22),\n",
       "  \"eqw_rest_lya_full_spec_err\": Float32Col(shape=(), dflt=-999.999, pos=23),\n",
       "  \"eqw_rest_lya_line\": Float32Col(shape=(), dflt=-999.999, pos=24),\n",
       "  \"eqw_rest_lya_line_err\": Float32Col(shape=(), dflt=-999.999, pos=25),\n",
       "  \"eqw_rest_lya_sdss_g\": Float32Col(shape=(), dflt=-999.999, pos=26),\n",
       "  \"eqw_rest_lya_sdss_g_err\": Float32Col(shape=(), dflt=-999.999, pos=27),\n",
       "  \"ffsky_subtraction\": BoolCol(shape=(), dflt=False, pos=28),\n",
       "  \"fieldname\": StringCol(itemsize=32, shape=(), dflt=b'', pos=29),\n",
       "  \"flux_line\": Float32Col(shape=(), dflt=-999.999, pos=30),\n",
       "  \"flux_line_err\": Float32Col(shape=(), dflt=-999.999, pos=31),\n",
       "  \"fwhm_line_aa\": Float32Col(shape=(), dflt=-999.999, pos=32),\n",
       "  \"fwhm_line_aa_err\": Float32Col(shape=(), dflt=-999.999, pos=33),\n",
       "  \"ifuid\": StringCol(itemsize=3, shape=(), dflt=b'', pos=34),\n",
       "  \"ifuslot\": StringCol(itemsize=3, shape=(), dflt=b'', pos=35),\n",
       "  \"mag_full_spec\": Float32Col(shape=(), dflt=-999.999, pos=36),\n",
       "  \"mag_full_spec_err\": Float32Col(shape=(), dflt=-999.999, pos=37),\n",
       "  \"mag_sdss_g\": Float32Col(shape=(), dflt=-999.999, pos=38),\n",
       "  \"mag_sdss_g_err\": Float32Col(shape=(), dflt=-999.999, pos=39),\n",
       "  \"multiline_flag\": BoolCol(shape=(), dflt=False, pos=40),\n",
       "  \"multiline_frac_score\": Float32Col(shape=(), dflt=-999.999, pos=41),\n",
       "  \"multiline_name\": StringCol(itemsize=16, shape=(), dflt=b'', pos=42),\n",
       "  \"multiline_prob\": Float32Col(shape=(), dflt=-999.999, pos=43),\n",
       "  \"multiline_raw_score\": Float32Col(shape=(), dflt=-999.999, pos=44),\n",
       "  \"multiline_rest_w\": Float32Col(shape=(), dflt=-999.999, pos=45),\n",
       "  \"multiline_z\": Float32Col(shape=(), dflt=-999.999, pos=46),\n",
       "  \"obsid\": Int32Col(shape=(), dflt=0, pos=47),\n",
       "  \"plae_classification\": Float32Col(shape=(), dflt=-999.999, pos=48),\n",
       "  \"plae_full_spec\": Float32Col(shape=(), dflt=-999.999, pos=49),\n",
       "  \"plae_full_spec_max\": Float32Col(shape=(), dflt=-999.999, pos=50),\n",
       "  \"plae_full_spec_min\": Float32Col(shape=(), dflt=-999.999, pos=51),\n",
       "  \"plae_line\": Float32Col(shape=(), dflt=-999.999, pos=52),\n",
       "  \"plae_line_max\": Float32Col(shape=(), dflt=-999.999, pos=53),\n",
       "  \"plae_line_min\": Float32Col(shape=(), dflt=-999.999, pos=54),\n",
       "  \"plae_sdss_g\": Float32Col(shape=(), dflt=-999.999, pos=55),\n",
       "  \"plae_sdss_g_max\": Float32Col(shape=(), dflt=-999.999, pos=56),\n",
       "  \"plae_sdss_g_min\": Float32Col(shape=(), dflt=-999.999, pos=57),\n",
       "  \"pseudo_color_blue_flux\": Float32Col(shape=(), dflt=-999.999, pos=58),\n",
       "  \"pseudo_color_blue_flux_err\": Float32Col(shape=(), dflt=-999.999, pos=59),\n",
       "  \"pseudo_color_flag\": Int64Col(shape=(), dflt=0, pos=60),\n",
       "  \"pseudo_color_red_flux\": Float32Col(shape=(), dflt=-999.999, pos=61),\n",
       "  \"pseudo_color_red_flux_err\": Float32Col(shape=(), dflt=-999.999, pos=62),\n",
       "  \"pseudo_color_rvb_ratio\": Float32Col(shape=(), dflt=-999.999, pos=63),\n",
       "  \"pseudo_color_rvb_ratio_err\": Float32Col(shape=(), dflt=-999.999, pos=64),\n",
       "  \"response\": Float32Col(shape=(), dflt=-999.999, pos=65),\n",
       "  \"seeing_fwhm\": Float32Col(shape=(), dflt=-999.999, pos=66),\n",
       "  \"shotid\": Int64Col(shape=(), dflt=0, pos=67),\n",
       "  \"sn\": Float32Col(shape=(), dflt=-999.999, pos=68),\n",
       "  \"sn_err\": Float32Col(shape=(), dflt=-999.999, pos=69),\n",
       "  \"specid\": StringCol(itemsize=3, shape=(), dflt=b'', pos=70),\n",
       "  \"spectral_slope\": Float32Col(shape=(), dflt=-999.999, pos=71),\n",
       "  \"spectral_slope_err\": Float32Col(shape=(), dflt=0.0, pos=72),\n",
       "  \"spurious_reason\": StringCol(itemsize=32, shape=(), dflt=b'', pos=73)}\n",
       "  byteorder := 'little'\n",
       "  chunkshape := (574,)\n",
       "  autoindex := True\n",
       "  colindexes := {\n",
       "    \"detectid\": Index(9, full, shuffle, zlib(1)).is_csi=True}"
      ]
     },
     "execution_count": 44,
     "metadata": {},
     "output_type": "execute_result"
    }
   ],
   "source": [
    "file_elix.root.Detections"
   ]
  },
  {
   "cell_type": "markdown",
   "metadata": {},
   "source": [
    "Note: these are also appended to the Detections() class object. Each column in the above table can be accessed as an attribute of the Detections() class object. For example, the probability of LAE to OII measured from the HETDEX continuum is:"
   ]
  },
  {
   "cell_type": "code",
   "execution_count": 45,
   "metadata": {},
   "outputs": [],
   "source": [
    "#detects.plae_poii_hetdex"
   ]
  },
  {
   "cell_type": "markdown",
   "metadata": {},
   "source": [
    "or the nearest neighbour magnitude in an ancillary photometric catalog is:"
   ]
  },
  {
   "cell_type": "code",
   "execution_count": 46,
   "metadata": {},
   "outputs": [],
   "source": [
    "#detects.mag_match"
   ]
  },
  {
   "cell_type": "markdown",
   "metadata": {},
   "source": [
    "and this comes from the filter:"
   ]
  },
  {
   "cell_type": "code",
   "execution_count": 47,
   "metadata": {},
   "outputs": [],
   "source": [
    "#detects.cat_filter"
   ]
  },
  {
   "cell_type": "code",
   "execution_count": null,
   "metadata": {},
   "outputs": [],
   "source": []
  }
 ],
 "metadata": {
  "kernelspec": {
   "display_name": "Python 3",
   "language": "python",
   "name": "python3"
  },
  "language_info": {
   "codemirror_mode": {
    "name": "ipython",
    "version": 3
   },
   "file_extension": ".py",
   "mimetype": "text/x-python",
   "name": "python",
   "nbconvert_exporter": "python",
   "pygments_lexer": "ipython3",
   "version": "3.7.0"
  }
 },
 "nbformat": 4,
 "nbformat_minor": 2
}
