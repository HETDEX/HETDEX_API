{
 "cells": [
  {
   "cell_type": "markdown",
   "metadata": {},
   "source": [
    "# 05 - Data Search Example: Querying Fibers"
   ]
  },
  {
   "cell_type": "markdown",
   "metadata": {},
   "source": [
    "## Going from a user defined position to the fiber spectra"
   ]
  },
  {
   "cell_type": "markdown",
   "metadata": {},
   "source": [
    "To get all fibers within a defined aperture we must first find all shots that *may* contain fibers within that position. Because of the varying and non-contiguous footprint of VIRUS, the search for fibers is a two step process. In this notebook we will show we can go from an input sky coordinate to all available fiber spectra."
   ]
  },
  {
   "cell_type": "code",
   "execution_count": 13,
   "metadata": {
    "collapsed": true
   },
   "outputs": [],
   "source": [
    "import numpy as np\n",
    "import tables as tb\n",
    "import matplotlib.pyplot as plt\n",
    "import astropy.units as u\n",
    "from astropy.coordinates import SkyCoord"
   ]
  },
  {
   "cell_type": "code",
   "execution_count": 14,
   "metadata": {
    "collapsed": true
   },
   "outputs": [],
   "source": [
    "%run ../survey.py\n",
    "%run ../shot.py"
   ]
  },
  {
   "cell_type": "markdown",
   "metadata": {},
   "source": [
    "### Initiate the survey class:"
   ]
  },
  {
   "cell_type": "code",
   "execution_count": 15,
   "metadata": {},
   "outputs": [],
   "source": [
    "S = Survey('hdr1')"
   ]
  },
  {
   "cell_type": "markdown",
   "metadata": {},
   "source": [
    "Columns of the survey are now accessible as attributes to the Survey class. And each representative shot is assigned an astropy coordinate object as an attribute: "
   ]
  },
  {
   "cell_type": "code",
   "execution_count": 16,
   "metadata": {},
   "outputs": [
    {
     "data": {
      "text/plain": [
       "<SkyCoord (ICRS): (ra, dec) in deg\n",
       "    [( 149.88757324,   1.88532996), ( 150.48582458,   2.48316002),\n",
       "     ( 149.77142334,   2.59228992), ..., ( 207.99421692,  50.93356705),\n",
       "     ( 214.09381104,  51.48942184), ( 222.49749756,  50.93349075)]>"
      ]
     },
     "execution_count": 16,
     "metadata": {},
     "output_type": "execute_result"
    }
   ],
   "source": [
    "S.coords"
   ]
  },
  {
   "cell_type": "markdown",
   "metadata": {},
   "source": [
    "The function `get_shotlist()` retrieves all shotids within a defined circular aperture or rectangular region. It operates on the Survey class and requires an astropy coords object as input. If a radius is given, then a circular region is assumed. It can either be an astropy quantity object or otherwise assumed to be in degrees. A rectangular region can be extracted if no radius is given. Both a width and height must be defined in degrees. For example, let's look around the region of our favourite object from a previous tutorial."
   ]
  },
  {
   "cell_type": "markdown",
   "metadata": {},
   "source": [
    "### Define your aperture of interest:"
   ]
  },
  {
   "cell_type": "code",
   "execution_count": 17,
   "metadata": {
    "collapsed": true
   },
   "outputs": [],
   "source": [
    "coords = SkyCoord(150.025513 * u.deg, 2.087767 * u.deg, frame='icrs')   "
   ]
  },
  {
   "cell_type": "markdown",
   "metadata": {},
   "source": [
    "To find all shots located in a rectangle 0.5 degrees wide and 0.2 degrees high around the position:"
   ]
  },
  {
   "cell_type": "code",
   "execution_count": 19,
   "metadata": {},
   "outputs": [],
   "source": [
    "shotlist = S.get_shotlist(coords, width=0.5, height=0.2)"
   ]
  },
  {
   "cell_type": "markdown",
   "metadata": {},
   "source": [
    "or instead a circular aperture, note that both radius in degrees, arcmin, arcsec can work:"
   ]
  },
  {
   "cell_type": "code",
   "execution_count": 21,
   "metadata": {},
   "outputs": [
    {
     "data": {
      "text/plain": [
       "array([20170105009, 20170106001, 20170106003, 20170107012, 20171220015,\n",
       "       20171221016, 20171225015, 20180110021, 20180113013, 20180114013,\n",
       "       20180120008, 20180123009, 20180124010, 20180209009, 20180210006])"
      ]
     },
     "execution_count": 21,
     "metadata": {},
     "output_type": "execute_result"
    }
   ],
   "source": [
    "shotlist = S.get_shotlist(coords, radius=10*u.arcmin)\n",
    "shotlist"
   ]
  },
  {
   "cell_type": "markdown",
   "metadata": {},
   "source": [
    "This ones lies within the cosmos repeat field, so we have lots of fibers."
   ]
  },
  {
   "cell_type": "markdown",
   "metadata": {},
   "source": [
    "### Initiate the Fibers class object:"
   ]
  },
  {
   "cell_type": "code",
   "execution_count": 22,
   "metadata": {
    "collapsed": true
   },
   "outputs": [],
   "source": [
    "fibers = Fibers('20180124v010')"
   ]
  },
  {
   "cell_type": "markdown",
   "metadata": {},
   "source": [
    "From here, you can either retrieve all fibers within a defined aperture using the query_region Fibers class function (default aperture= 3 arcsec):\n",
    "  "
   ]
  },
  {
   "cell_type": "code",
   "execution_count": 23,
   "metadata": {
    "collapsed": true
   },
   "outputs": [],
   "source": [
    "result_table = fibers.query_region(coords)"
   ]
  },
  {
   "cell_type": "markdown",
   "metadata": {},
   "source": [
    "Each row in the table contains various info for each fiber, including the ra, dec, multiframe, fiber_num, wavelength, raw spectrum, flux-calibrated spectrum."
   ]
  },
  {
   "cell_type": "code",
   "execution_count": 24,
   "metadata": {},
   "outputs": [
    {
     "data": {
      "text/plain": [
       "dtype([('multiframe', 'S20'), ('ra', '<f4'), ('dec', '<f4'), ('Amp2Amp', '<f4', (1036,)), ('Throughput', '<f4', (1036,)), ('amp', 'S2'), ('calfib', '<f4', (1036,)), ('calfibe', '<f4', (1036,)), ('contid', 'S8'), ('error1Dfib', '<f4', (1032,)), ('expnum', '<i4'), ('fiber_to_fiber', '<f4', (1032,)), ('fibnum', '<i4'), ('fpx', '<f4'), ('fpy', '<f4'), ('ifuid', 'S3'), ('ifuslot', 'S3'), ('ifux', '<f4'), ('ifuy', '<f4'), ('obsind', '<i4'), ('sky_subtracted', '<f4', (1032,)), ('specid', 'S3'), ('spectrum', '<f4', (1032,)), ('trace', '<f4', (1032,)), ('twi_spectrum', '<f4', (1032,)), ('wavelength', '<f4', (1032,))])"
      ]
     },
     "execution_count": 24,
     "metadata": {},
     "output_type": "execute_result"
    }
   ],
   "source": [
    "result_table.dtype"
   ]
  },
  {
   "cell_type": "markdown",
   "metadata": {},
   "source": [
    "A user will likely be most interested in the 'wavelength', 'calfib' and 'calfibe' columns as they contain the fiber spectra and associated errors in the spectra."
   ]
  },
  {
   "cell_type": "code",
   "execution_count": 25,
   "metadata": {},
   "outputs": [
    {
     "data": {
      "text/plain": [
       "(3680, 3750)"
      ]
     },
     "execution_count": 25,
     "metadata": {},
     "output_type": "execute_result"
    }
   ],
   "source": [
    "plt.figure(figsize=(8,6))\n",
    "for row in result_table:\n",
    "    plt.plot(row['wavelength'], row['sky_subtracted'])\n",
    "plt.xlim(3680,3750)"
   ]
  },
  {
   "cell_type": "markdown",
   "metadata": {},
   "source": [
    "We can find the closest fiber to our coordinates above and then plot the 2D data image at that fiber location. "
   ]
  },
  {
   "cell_type": "code",
   "execution_count": 26,
   "metadata": {},
   "outputs": [
    {
     "data": {
      "text/plain": [
       "array(6948)"
      ]
     },
     "execution_count": 26,
     "metadata": {},
     "output_type": "execute_result"
    }
   ],
   "source": [
    "idx = fibers.get_closest_fiber(coords)\n",
    "idx"
   ]
  },
  {
   "cell_type": "markdown",
   "metadata": {},
   "source": [
    "We need to use the Fibers class fuction `get_image_xy` to find out the x,y values for an image."
   ]
  },
  {
   "cell_type": "code",
   "execution_count": 27,
   "metadata": {
    "collapsed": true
   },
   "outputs": [],
   "source": [
    "x, y = fibers.get_image_xy(idx, 3710)"
   ]
  },
  {
   "cell_type": "markdown",
   "metadata": {},
   "source": [
    "### Plot up an individual fiber spectrum:"
   ]
  },
  {
   "cell_type": "code",
   "execution_count": 28,
   "metadata": {},
   "outputs": [],
   "source": [
    "fibers.plot_fiber_spectrum(idx)"
   ]
  },
  {
   "cell_type": "markdown",
   "metadata": {},
   "source": [
    "### Save a fiber spectrum:"
   ]
  },
  {
   "cell_type": "code",
   "execution_count": 29,
   "metadata": {
    "collapsed": true
   },
   "outputs": [],
   "source": [
    "fibers.save_fiber_spectrum(idx, file='spec.dat')"
   ]
  },
  {
   "cell_type": "code",
   "execution_count": null,
   "metadata": {
    "collapsed": true
   },
   "outputs": [],
   "source": []
  }
 ],
 "metadata": {
  "kernelspec": {
   "display_name": "Python 2",
   "language": "python",
   "name": "python2"
  },
  "language_info": {
   "codemirror_mode": {
    "name": "ipython",
    "version": 2
   },
   "file_extension": ".py",
   "mimetype": "text/x-python",
   "name": "python",
   "nbconvert_exporter": "python",
   "pygments_lexer": "ipython2",
   "version": "2.7.13"
  }
 },
 "nbformat": 4,
 "nbformat_minor": 2
}
