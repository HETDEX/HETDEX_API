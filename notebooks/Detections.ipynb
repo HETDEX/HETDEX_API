{
 "cells": [
  {
   "cell_type": "markdown",
   "metadata": {},
   "source": [
    "Detections Database and API\n",
    "======================="
   ]
  },
  {
   "cell_type": "markdown",
   "metadata": {},
   "source": [
    "This notebook demonstrates how to access the HDF5 container for the HETDEX line detections database. This database is a catalog of line emission detections and their associated 1D, aperture summed, psf-weighted spectra. There are three tables contained within this HDF5 file: \n",
    "\n",
    "1. Detections - this is the main database of line detection sources. It provides the position and central wavelength of each detection and corresponding line fluxes. A source detection corresponds to an emission line so it is possible to have multiple line detections at different wavelengths for a single source. There can also be multiple observations of the same line if it has been observed in multiple shots or if it is associated with a large source. \n",
    "\n",
    "\n",
    "2. Fibers - for each source detection, this table lists information about each fiber used to extract the flux measurment and weighted spectrum. This allows a user to return to the processed data products (ie. the shot HDF5 files) to investigate the source further. \n",
    "\n",
    "\n",
    "3. Spectra - for each source, this table contains arrays of wavelength and 1D flux-weighted aperture summed spectral data and corresponding errors. Non-calibrated spectra is also provided in counts\n"
   ]
  },
  {
   "cell_type": "code",
   "execution_count": 1,
   "metadata": {},
   "outputs": [],
   "source": [
    "%matplotlib inline\n",
    "\n",
    "import numpy as np\n",
    "import tables as tb\n",
    "import matplotlib.pyplot as plt\n",
    "\n",
    "from astropy.table import Table, Column, join\n",
    "from astropy.coordinates import SkyCoord\n",
    "import astropy.units as u\n",
    "\n",
    "from hetdex_api.config import HDRconfig\n",
    "from hetdex_api.detections import Detections\n",
    "from hetdex_api.elixer_widget_cls import ElixerWidget"
   ]
  },
  {
   "cell_type": "code",
   "execution_count": 2,
   "metadata": {},
   "outputs": [
    {
     "data": {
      "application/javascript": [
       "IPython.OutputArea.prototype._should_scroll = function(lines) {\n",
       "    return false;\n",
       "}\n"
      ],
      "text/plain": [
       "<IPython.core.display.Javascript object>"
      ]
     },
     "metadata": {},
     "output_type": "display_data"
    }
   ],
   "source": [
    "%%javascript\n",
    "IPython.OutputArea.prototype._should_scroll = function(lines) {\n",
    "    return false;\n",
    "}"
   ]
  },
  {
   "cell_type": "markdown",
   "metadata": {},
   "source": [
    "### Use the latest curated catalog: "
   ]
  },
  {
   "cell_type": "code",
   "execution_count": 3,
   "metadata": {},
   "outputs": [],
   "source": [
    "D = Detections( curated_version='3.0.1')"
   ]
  },
  {
   "cell_type": "code",
   "execution_count": 4,
   "metadata": {},
   "outputs": [],
   "source": [
    "# this is a suggested query to find LAEs:\n",
    "sel_lae = (D.sn > 5.5) * (D.plya_classification > 0.75) * (np.logical_not(D.gmag<20))"
   ]
  },
  {
   "cell_type": "code",
   "execution_count": 5,
   "metadata": {},
   "outputs": [],
   "source": [
    "#spectra can be accessed using get_spectrum()\n",
    "spec = D.get_spectrum(D.detectid[sel_lae][10000])"
   ]
  },
  {
   "cell_type": "code",
   "execution_count": 6,
   "metadata": {},
   "outputs": [
    {
     "data": {
      "text/html": [
       "<div><i>Table length=1036</i>\n",
       "<table id=\"table140106824182816\" class=\"table-striped table-bordered table-condensed\">\n",
       "<thead><tr><th>wave1d</th><th>spec1d</th><th>spec1d_err</th></tr></thead>\n",
       "<thead><tr><th>Angstrom</th><th>1e-17 erg / (Angstrom cm2 s)</th><th>1e-17 erg / (Angstrom cm2 s)</th></tr></thead>\n",
       "<thead><tr><th>float32</th><th>float32</th><th>float32</th></tr></thead>\n",
       "<tr><td>3470.0</td><td>-0.14205462</td><td>3.122314</td></tr>\n",
       "<tr><td>3472.0</td><td>-0.14190048</td><td>3.1189263</td></tr>\n",
       "<tr><td>3474.0</td><td>-0.14174606</td><td>3.1155322</td></tr>\n",
       "<tr><td>3476.0</td><td>-0.1415909</td><td>3.1121216</td></tr>\n",
       "<tr><td>3478.0</td><td>-0.14143282</td><td>3.1086473</td></tr>\n",
       "<tr><td>3480.0</td><td>-0.14126955</td><td>3.1050587</td></tr>\n",
       "<tr><td>3482.0</td><td>-0.14109667</td><td>3.1012588</td></tr>\n",
       "<tr><td>3484.0</td><td>-0.14090763</td><td>3.0971038</td></tr>\n",
       "<tr><td>3486.0</td><td>-0.14069328</td><td>3.0923922</td></tr>\n",
       "<tr><td>...</td><td>...</td><td>...</td></tr>\n",
       "<tr><td>5522.0</td><td>0.10288066</td><td>0.22633745</td></tr>\n",
       "<tr><td>5524.0</td><td>0.005144033</td><td>0.22273663</td></tr>\n",
       "<tr><td>5526.0</td><td>-0.016975308</td><td>0.51748973</td></tr>\n",
       "<tr><td>5528.0</td><td>0.029835392</td><td>0.67489713</td></tr>\n",
       "<tr><td>5530.0</td><td>0.026748972</td><td>0.69495887</td></tr>\n",
       "<tr><td>5532.0</td><td>0.026748972</td><td>0.69495887</td></tr>\n",
       "<tr><td>5534.0</td><td>0.026748972</td><td>0.69495887</td></tr>\n",
       "<tr><td>5536.0</td><td>0.026748972</td><td>0.69495887</td></tr>\n",
       "<tr><td>5538.0</td><td>0.026748972</td><td>0.69495887</td></tr>\n",
       "<tr><td>5540.0</td><td>0.026748972</td><td>0.69495887</td></tr>\n",
       "</table></div>"
      ],
      "text/plain": [
       "<Table length=1036>\n",
       " wave1d             spec1d                     spec1d_err         \n",
       "Angstrom 1e-17 erg / (Angstrom cm2 s) 1e-17 erg / (Angstrom cm2 s)\n",
       "float32            float32                      float32           \n",
       "-------- ---------------------------- ----------------------------\n",
       "  3470.0                  -0.14205462                     3.122314\n",
       "  3472.0                  -0.14190048                    3.1189263\n",
       "  3474.0                  -0.14174606                    3.1155322\n",
       "  3476.0                   -0.1415909                    3.1121216\n",
       "  3478.0                  -0.14143282                    3.1086473\n",
       "  3480.0                  -0.14126955                    3.1050587\n",
       "  3482.0                  -0.14109667                    3.1012588\n",
       "  3484.0                  -0.14090763                    3.0971038\n",
       "  3486.0                  -0.14069328                    3.0923922\n",
       "     ...                          ...                          ...\n",
       "  5522.0                   0.10288066                   0.22633745\n",
       "  5524.0                  0.005144033                   0.22273663\n",
       "  5526.0                 -0.016975308                   0.51748973\n",
       "  5528.0                  0.029835392                   0.67489713\n",
       "  5530.0                  0.026748972                   0.69495887\n",
       "  5532.0                  0.026748972                   0.69495887\n",
       "  5534.0                  0.026748972                   0.69495887\n",
       "  5536.0                  0.026748972                   0.69495887\n",
       "  5538.0                  0.026748972                   0.69495887\n",
       "  5540.0                  0.026748972                   0.69495887"
      ]
     },
     "execution_count": 6,
     "metadata": {},
     "output_type": "execute_result"
    }
   ],
   "source": [
    "spec"
   ]
  },
  {
   "cell_type": "markdown",
   "metadata": {},
   "source": [
    "### Explore Using ElixerWidget:"
   ]
  },
  {
   "cell_type": "code",
   "execution_count": 7,
   "metadata": {},
   "outputs": [
    {
     "data": {
      "application/vnd.jupyter.widget-view+json": {
       "model_id": "20d54452a80f49b3ab556e61fea691ae",
       "version_major": 2,
       "version_minor": 0
      },
      "text/plain": [
       "interactive(children=(Text(value='3000000485', description='DetectID:', placeholder='3000000485'), Output()), …"
      ]
     },
     "metadata": {},
     "output_type": "display_data"
    }
   ],
   "source": [
    "elix_widget = ElixerWidget(detectlist = D.detectid[sel_lae])"
   ]
  },
  {
   "cell_type": "markdown",
   "metadata": {},
   "source": [
    "# Access the Detections H5 file but do not load in any data. This is the most memory efficient way to access Detection Info, Spectral Data and Fiber Information"
   ]
  },
  {
   "cell_type": "markdown",
   "metadata": {},
   "source": [
    "It is also important to use this for HDR3 as a few variables are updated based on calibration corrections outlined at https://op1srv.mpe.mpg.de/wikihetdex/index.php/HDR3.0.1_Catalog"
   ]
  },
  {
   "cell_type": "markdown",
   "metadata": {},
   "source": [
    "Access Basic Detection Info. You will need to know what survey and catalog type you want to access. 301XXXXXXX detectids are for line emission sources 309XXXXXXX detectids are for continuum sources."
   ]
  },
  {
   "cell_type": "code",
   "execution_count": 8,
   "metadata": {},
   "outputs": [],
   "source": [
    "D = Detections(survey='hdr3', catalog_type='lines', searchable=False, loadtable=False)"
   ]
  },
  {
   "cell_type": "markdown",
   "metadata": {},
   "source": [
    "Get updated Detection Info"
   ]
  },
  {
   "cell_type": "code",
   "execution_count": 9,
   "metadata": {},
   "outputs": [],
   "source": [
    "det_info = D.get_detection_info(3001001637)"
   ]
  },
  {
   "cell_type": "code",
   "execution_count": 10,
   "metadata": {},
   "outputs": [
    {
     "data": {
      "text/plain": [
       "array([(3001001637, 20180511015, 189.06462, 62.119335, 20180511, 15, 4557.63, 0.46, 72.84, 5.26, 6.82, 0.58, 0.12, 0.16, 17.86, 0.66, 1.19, 0.22, b'multi_301_015_038_RL', 2, 529, 25, b'RL', 0.919, 1.65, 3, b'20180511015_3_multi_301_015_038_RL_002', 2.759, b'038', b'015', b'20180511v015_301_015_038_001', 0.95, 14.48, 14.42, 17.99, b'301', 0.2256, -16.53, 13.22)],\n",
       "      dtype=[('detectid', '<i8'), ('shotid', '<i8'), ('ra', '<f4'), ('dec', '<f4'), ('date', '<i4'), ('obsid', '<i4'), ('wave', '<f4'), ('wave_err', '<f4'), ('flux', '<f4'), ('flux_err', '<f4'), ('linewidth', '<f4'), ('linewidth_err', '<f4'), ('continuum', '<f4'), ('continuum_err', '<f4'), ('sn', '<f4'), ('sn_err', '<f4'), ('chi2', '<f4'), ('chi2_err', '<f4'), ('multiframe', 'S20'), ('fibnum', '<i4'), ('x_raw', '<i4'), ('y_raw', '<i4'), ('amp', 'S2'), ('apcor', '<f4'), ('chi2fib', '<f4'), ('expnum', '<i4'), ('fiber_id', 'S38'), ('flux_noise_1sigma', '<f4'), ('ifuid', 'S3'), ('ifuslot', 'S3'), ('inputid', 'S40'), ('noise_ratio', '<f4'), ('sn_3fib', '<f4'), ('sn_3fib_cen', '<f4'), ('sn_cen', '<f4'), ('specid', 'S3'), ('weight', '<f4'), ('x_ifu', '<f4'), ('y_ifu', '<f4')])"
      ]
     },
     "execution_count": 10,
     "metadata": {},
     "output_type": "execute_result"
    }
   ],
   "source": [
    "det_info"
   ]
  },
  {
   "cell_type": "markdown",
   "metadata": {},
   "source": [
    "Get Fiber Info:"
   ]
  },
  {
   "cell_type": "code",
   "execution_count": 11,
   "metadata": {},
   "outputs": [],
   "source": [
    "fib_info = D.get_fiber_info(3001001637)"
   ]
  },
  {
   "cell_type": "code",
   "execution_count": 12,
   "metadata": {},
   "outputs": [
    {
     "data": {
      "text/plain": [
       "array([(3001001637, 189.06473, 62.120068, b'multi_301_015_038_RU', b'20180511015_1_multi_301_015_038_RU_093', -12.71, 15.42, 20180511, 15, 1, 2.643, b'20180511T053817.5', 4558.8, 0, 0.0116, [0., 0., 0., 0., 0.], b'RU',  93, b'038', b'015', b'301', 529,  848),\n",
       "       (3001001637, 189.06561, 62.11949 , b'multi_301_015_038_RU', b'20180511015_1_multi_301_015_038_RU_094', -15.25, 15.42, 20180511, 15, 1, 1.762, b'20180511T053817.5', 4558.8, 0, 0.0566, [0., 0., 0., 0., 0.], b'RU',  94, b'038', b'015', b'301', 529,  858),\n",
       "       (3001001637, 189.06323, 62.12    , b'multi_301_015_038_RU', b'20180511015_1_multi_301_015_038_RU_112', -11.44, 13.22, 20180511, 15, 1, 3.343, b'20180511T053817.5', 4558.8, 0, 0.0036, [0., 0., 0., 0., 0.], b'RU', 112, b'038', b'015', b'301', 529, 1014),\n",
       "       (3001001637, 189.06412, 62.119423, b'multi_301_015_038_RL', b'20180511015_1_multi_301_015_038_RL_001', -13.98, 13.22, 20180511, 15, 1, 0.905, b'20180511T053817.5', 4558.8, 0, 0.1597, [0., 0., 0., 0., 0.], b'RL',   1, b'038', b'015', b'301', 529,   16),\n",
       "       (3001001637, 189.06499, 62.118847, b'multi_301_015_038_RL', b'20180511015_1_multi_301_015_038_RL_002', -16.53, 13.22, 20180511, 15, 1, 1.863, b'20180511T053817.5', 4558.8, 0, 0.0517, [0., 0., 0., 0., 0.], b'RL',   2, b'038', b'015', b'301', 529,   25),\n",
       "       (3001001637, 189.0626 , 62.119354, b'multi_301_015_038_RL', b'20180511015_1_multi_301_015_038_RL_020', -12.71, 11.02, 20180511, 15, 1, 3.392, b'20180511T053817.5', 4558.8, 0, 0.0034, [0., 0., 0., 0., 0.], b'RL',  20, b'038', b'015', b'301', 529,  182),\n",
       "       (3001001637, 189.06349, 62.118782, b'multi_301_015_038_RL', b'20180511015_1_multi_301_015_038_RL_021', -15.25, 11.02, 20180511, 15, 1, 2.753, b'20180511T053817.5', 4558.8, 0, 0.0108, [0., 0., 0., 0., 0.], b'RL',  21, b'038', b'015', b'301', 529,  190),\n",
       "       (3001001637, 189.06636, 62.119724, b'multi_301_015_038_RU', b'20180511015_2_multi_301_015_038_RU_075', -16.53, 17.63, 20180511, 15, 2, 3.247, b'20180511T054509.7', 4558.8, 0, 0.0047, [0., 0., 0., 0., 0.], b'RU',  75, b'038', b'015', b'301', 530,  683),\n",
       "       (3001001637, 189.06398, 62.120228, b'multi_301_015_038_RU', b'20180511015_2_multi_301_015_038_RU_093', -12.71, 15.42, 20180511, 15, 2, 3.39 , b'20180511T054509.7', 4558.8, 0, 0.0033, [0., 0., 0., 0., 0.], b'RU',  93, b'038', b'015', b'301', 529,  849),\n",
       "       (3001001637, 189.06485, 62.119656, b'multi_301_015_038_RU', b'20180511015_2_multi_301_015_038_RU_094', -15.25, 15.42, 20180511, 15, 2, 1.216, b'20180511T054509.7', 4558.8, 0, 0.1135, [0., 0., 0., 0., 0.], b'RU',  94, b'038', b'015', b'301', 529,  858),\n",
       "       (3001001637, 189.06573, 62.11908 , b'multi_301_015_038_RU', b'20180511015_2_multi_301_015_038_RU_095', -17.8 , 15.42, 20180511, 15, 2, 2.089, b'20180511T054509.7', 4558.8, 0, 0.0357, [0., 0., 0., 0., 0.], b'RU',  95, b'038', b'015', b'301', 529,  866),\n",
       "       (3001001637, 189.06335, 62.119587, b'multi_301_015_038_RL', b'20180511015_2_multi_301_015_038_RL_001', -13.98, 13.22, 20180511, 15, 2, 2.317, b'20180511T054509.7', 4558.8, 0, 0.0201, [0., 0., 0., 0., 0.], b'RL',   1, b'038', b'015', b'301', 529,   16),\n",
       "       (3001001637, 189.06424, 62.11901 , b'multi_301_015_038_RL', b'20180511015_2_multi_301_015_038_RL_002', -16.53, 13.22, 20180511, 15, 2, 1.332, b'20180511T054509.7', 4558.8, 0, 0.1063, [0., 0., 0., 0., 0.], b'RL',   2, b'038', b'015', b'301', 529,   25),\n",
       "       (3001001637, 189.06511, 62.118435, b'multi_301_015_038_RL', b'20180511015_2_multi_301_015_038_RL_003', -19.07, 13.22, 20180511, 15, 2, 3.344, b'20180511T054509.7', 4558.8, 0, 0.0044, [0., 0., 0., 0., 0.], b'RL',   3, b'038', b'015', b'301', 529,   34),\n",
       "       (3001001637, 189.06273, 62.118942, b'multi_301_015_038_RL', b'20180511015_2_multi_301_015_038_RL_021', -15.25, 11.02, 20180511, 15, 2, 3.486, b'20180511T054509.7', 4558.8, 0, 0.0031, [0., 0., 0., 0., 0.], b'RL',  21, b'038', b'015', b'301', 529,  190),\n",
       "       (3001001637, 189.06554, 62.11988 , b'multi_301_015_038_RU', b'20180511015_3_multi_301_015_038_RU_094', -15.25, 15.42, 20180511, 15, 3, 2.497, b'20180511T055210.8', 4558.8, 0, 0.0159, [0., 0., 0., 0., 0.], b'RU',  94, b'038', b'015', b'301', 529,  858),\n",
       "       (3001001637, 189.0664 , 62.119305, b'multi_301_015_038_RU', b'20180511015_3_multi_301_015_038_RU_095', -17.8 , 15.42, 20180511, 15, 3, 3.008, b'20180511T055210.8', 4558.8, 0, 0.0073, [0., 0., 0., 0., 0.], b'RU',  95, b'038', b'015', b'301', 529,  866),\n",
       "       (3001001637, 189.06403, 62.119812, b'multi_301_015_038_RL', b'20180511015_3_multi_301_015_038_RL_001', -13.98, 13.22, 20180511, 15, 3, 1.988, b'20180511T055210.8', 4558.8, 0, 0.0345, [0., 0., 0., 0., 0.], b'RL',   1, b'038', b'015', b'301', 529,   16),\n",
       "       (3001001637, 189.06491, 62.119236, b'multi_301_015_038_RL', b'20180511015_3_multi_301_015_038_RL_002', -16.53, 13.22, 20180511, 15, 3, 0.605, b'20180511T055210.8', 4558.8, 0, 0.2256, [0., 0., 0., 0., 0.], b'RL',   2, b'038', b'015', b'301', 529,   25),\n",
       "       (3001001637, 189.06578, 62.118664, b'multi_301_015_038_RL', b'20180511015_3_multi_301_015_038_RL_003', -19.07, 13.22, 20180511, 15, 3, 3.107, b'20180511T055210.8', 4558.8, 0, 0.0065, [0., 0., 0., 0., 0.], b'RL',   3, b'038', b'015', b'301', 529,   34),\n",
       "       (3001001637, 189.0634 , 62.11917 , b'multi_301_015_038_RL', b'20180511015_3_multi_301_015_038_RL_021', -15.25, 11.02, 20180511, 15, 3, 2.138, b'20180511T055210.8', 4558.8, 0, 0.0286, [0., 0., 0., 0., 0.], b'RL',  21, b'038', b'015', b'301', 529,  191),\n",
       "       (3001001637, 189.06429, 62.118595, b'multi_301_015_038_RL', b'20180511015_3_multi_301_015_038_RL_022', -17.8 , 11.02, 20180511, 15, 3, 2.723, b'20180511T055210.8', 4558.8, 0, 0.0119, [0., 0., 0., 0., 0.], b'RL',  22, b'038', b'015', b'301', 529,  199)],\n",
       "      dtype=[('detectid', '<i8'), ('ra', '<f4'), ('dec', '<f4'), ('multiframe', 'S20'), ('fiber_id', 'S38'), ('x_ifu', '<f4'), ('y_ifu', '<f4'), ('date', '<i4'), ('obsid', '<i4'), ('expnum', '<i4'), ('distance', '<f4'), ('timestamp', 'S17'), ('wavein', '<f4'), ('flag', '<i4'), ('weight', '<f4'), ('ADC', '<f4', (5,)), ('amp', 'S2'), ('fibnum', '<i4'), ('ifuid', 'S3'), ('ifuslot', 'S3'), ('specid', 'S3'), ('x_raw', '<i4'), ('y_raw', '<i4')])"
      ]
     },
     "execution_count": 12,
     "metadata": {},
     "output_type": "execute_result"
    }
   ],
   "source": [
    "fib_info"
   ]
  },
  {
   "cell_type": "markdown",
   "metadata": {},
   "source": [
    "### Initiate the API and Access the full database"
   ]
  },
  {
   "cell_type": "markdown",
   "metadata": {},
   "source": [
    "When you call `Detections()` you intiate the Detections Class object which takes columns from the Detections Table in the HDF5 file and adds them as array attributes to the Detections class object. It also converts ra/dec into astropy skycoords in the `coords` attribute, calculates an approximate gband magnitude using the 1D spectra and adds elixer probabilities for each detection. If you append the call with `refine()` then a number of downselections are applied to the database to return a more robust list of line emitters. `refine()` removes spurious detections found in bad amps or at the edges of the CCD or in shots that are not deemed appropriate for HETDEX analysis. It can also remove all bright objects above a specific gband magnitude if desired (default to None if no option is given)."
   ]
  },
  {
   "cell_type": "code",
   "execution_count": null,
   "metadata": {},
   "outputs": [],
   "source": [
    "# To access the latest HDRX.X lines database (ie. the full H5 file):\n",
    "\n",
    "detects = Detections()\n",
    "\n",
    "# to remove the latest bad amps and pixels (this isn't needed if you are using a curated catalog)\n",
    "\n",
    "# detects = Detections(survey='hdr2.1', catalog_type='lines').refine()\n",
    "\n",
    "# or if you want to open the continuum source catalog:\n",
    "# detects = Detections(survey='hdr2.1', catalog_type='continuum')"
   ]
  },
  {
   "cell_type": "markdown",
   "metadata": {},
   "source": [
    "### Note if you do not want to load the whole table, but just access spectra for a specific detectid:"
   ]
  },
  {
   "cell_type": "code",
   "execution_count": null,
   "metadata": {},
   "outputs": [],
   "source": [
    "det_object = Detections('hdr2.1', loadtable=False)"
   ]
  },
  {
   "cell_type": "code",
   "execution_count": null,
   "metadata": {},
   "outputs": [],
   "source": [
    "spec = det_object.get_spectrum(2100191119)"
   ]
  },
  {
   "cell_type": "code",
   "execution_count": null,
   "metadata": {},
   "outputs": [],
   "source": [
    "spec"
   ]
  },
  {
   "cell_type": "markdown",
   "metadata": {},
   "source": [
    "Here are a list of attributes built into the Detections class:"
   ]
  },
  {
   "cell_type": "code",
   "execution_count": null,
   "metadata": {},
   "outputs": [],
   "source": [
    "detects.__dict__.keys()"
   ]
  },
  {
   "cell_type": "markdown",
   "metadata": {},
   "source": [
    "If you prefer working in astropy tables, you can grab it this way:"
   ]
  },
  {
   "cell_type": "code",
   "execution_count": null,
   "metadata": {},
   "outputs": [],
   "source": [
    "detect_table = detects.return_astropy_table()"
   ]
  },
  {
   "cell_type": "code",
   "execution_count": null,
   "metadata": {},
   "outputs": [],
   "source": [
    "detect_table"
   ]
  },
  {
   "cell_type": "markdown",
   "metadata": {},
   "source": [
    "## How we made the subset catalog for the team:"
   ]
  },
  {
   "cell_type": "code",
   "execution_count": null,
   "metadata": {},
   "outputs": [],
   "source": [
    "sel_field = (detects.field == 'cosmos') | (detects.field == 'dex-fall') | (detects.field == 'dex-spring') | (detects.field == 'egs') | (detects.field == 'goods-n')\n",
    "sel_chi2 = detects.chi2 < 1.2\n",
    "sel_wave = ( detects.wave >= 3510 ) * (detects.wave <= 5490)\n",
    "sel_lw = (detects.linewidth <= 6)\n",
    "sel_cont = detects.continuum > -3\n",
    "sel_sn = detects.sn >= 4.8\n",
    "sel_chi2fib = (detects.chi2fib < 4.5)\n",
    "\n",
    "sel_cat = sel_field * sel_chi2 * sel_wave * sel_lw * sel_cont * sel_sn * sel_chi2fib\n",
    "\n",
    "det_table = detects.return_astropy_table()"
   ]
  },
  {
   "cell_type": "code",
   "execution_count": null,
   "metadata": {},
   "outputs": [],
   "source": [
    "team_table = detect_table[sel_cat]"
   ]
  },
  {
   "cell_type": "markdown",
   "metadata": {},
   "source": [
    "## Querying by sky coordinates"
   ]
  },
  {
   "cell_type": "markdown",
   "metadata": {},
   "source": [
    "Upon initialization of the Detections Class, sky coordinates are converted to an Astropy sky coordinates array to allow for easy querying:"
   ]
  },
  {
   "cell_type": "code",
   "execution_count": null,
   "metadata": {},
   "outputs": [],
   "source": [
    "detects.coords"
   ]
  },
  {
   "cell_type": "markdown",
   "metadata": {},
   "source": [
    "To query a region of the sky, you can use the Detections function `query_by_coords` which takes an astropy coords objects as an argument as well as a radius represented by an astropy quantity. It returns a boolean mask to index the Detections class object."
   ]
  },
  {
   "cell_type": "code",
   "execution_count": null,
   "metadata": {},
   "outputs": [],
   "source": [
    "obj_coords = SkyCoord(199.35704 * u.deg, 51.06718 * u.deg, frame='icrs')"
   ]
  },
  {
   "cell_type": "code",
   "execution_count": null,
   "metadata": {},
   "outputs": [],
   "source": [
    "maskregion = detects.query_by_coords(obj_coords, 10. * u.arcsec)"
   ]
  },
  {
   "cell_type": "markdown",
   "metadata": {},
   "source": [
    "The Detections class allows slicing so that a boolean mask applied to the class will slice each array attribute accordingly:"
   ]
  },
  {
   "cell_type": "code",
   "execution_count": null,
   "metadata": {},
   "outputs": [],
   "source": [
    "detects_in_region = detects[maskregion]\n",
    "print(np.size(detects_in_region.detectid))"
   ]
  },
  {
   "cell_type": "markdown",
   "metadata": {},
   "source": [
    "## Find a direct line match"
   ]
  },
  {
   "cell_type": "markdown",
   "metadata": {},
   "source": [
    "If you want to find an exact line match you can use the function `find_match()`"
   ]
  },
  {
   "cell_type": "code",
   "execution_count": null,
   "metadata": {},
   "outputs": [],
   "source": [
    "obj_coords = SkyCoord(199.35704 * u.deg, 51.06718 * u.deg, frame='icrs')"
   ]
  },
  {
   "cell_type": "code",
   "execution_count": null,
   "metadata": {},
   "outputs": [],
   "source": [
    "wave_obj = 3836."
   ]
  },
  {
   "cell_type": "code",
   "execution_count": null,
   "metadata": {},
   "outputs": [],
   "source": [
    "idx = detects.find_match(obj_coords, wave=wave_obj, radius=5.*u.arcsec, dwave=5 )"
   ]
  },
  {
   "cell_type": "code",
   "execution_count": null,
   "metadata": {},
   "outputs": [],
   "source": [
    "detects.detectid[idx]"
   ]
  },
  {
   "cell_type": "code",
   "execution_count": null,
   "metadata": {},
   "outputs": [],
   "source": [
    "detect_table[idx]"
   ]
  },
  {
   "cell_type": "markdown",
   "metadata": {},
   "source": [
    "## Check out matched sources in the ElixerWidget"
   ]
  },
  {
   "cell_type": "markdown",
   "metadata": {},
   "source": [
    "For this example, we have found 12 detections in this region, we can examine these via the ELiXer reports using the `ElixerWidget()` class from `hetdex_api.elixer_widget_cls.py`. To do so we need to save the detectid list to examine in the widget."
   ]
  },
  {
   "cell_type": "code",
   "execution_count": null,
   "metadata": {},
   "outputs": [],
   "source": [
    "#np.savetxt('detects_obj.txt', detects_in_region.detectid)"
   ]
  },
  {
   "cell_type": "markdown",
   "metadata": {},
   "source": [
    "You can the run the elixer_widget to scan through the ELiXer reports for this object. Use the \"Next DetectID\" button to scan the list. The \"DetectID\" text widget will give access to all reports interactively and scans in increasing single digit increments, but the green Next DetectID button will go in order of the ingest list from 'detects_obj.txt'."
   ]
  },
  {
   "cell_type": "code",
   "execution_count": null,
   "metadata": {},
   "outputs": [],
   "source": [
    "elix_widget = ElixerWidget(detectlist = detects_in_region.detectid)\n",
    "#elix_widget = ElixerWidget(detectfile='detects_obj.txt')"
   ]
  },
  {
   "cell_type": "markdown",
   "metadata": {},
   "source": [
    "For more information on using the Elixer Widgets GUI go to Notebook 12. We will discuss team classification efforts there. But for quick investigation its helpful to pull the GUI up to just scan through a detection list."
   ]
  },
  {
   "cell_type": "markdown",
   "metadata": {},
   "source": [
    "## Accessing 1D Spectra"
   ]
  },
  {
   "cell_type": "markdown",
   "metadata": {},
   "source": [
    "Spectra in counts and flux-calibrated units are stored in the Spectra Table of the Detection HDF5 file, it can be accessed directly through the Detections class object which stores the detect HDF5 as an attribute:"
   ]
  },
  {
   "cell_type": "code",
   "execution_count": null,
   "metadata": {},
   "outputs": [],
   "source": [
    "print(detects.hdfile)"
   ]
  },
  {
   "cell_type": "code",
   "execution_count": null,
   "metadata": {},
   "outputs": [],
   "source": [
    "spectra = detects.hdfile.root.Spectra"
   ]
  },
  {
   "cell_type": "markdown",
   "metadata": {},
   "source": [
    "This is a very large table so its not advised to read it in all at once. The columns are:"
   ]
  },
  {
   "cell_type": "code",
   "execution_count": null,
   "metadata": {},
   "outputs": [],
   "source": [
    "spectra.cols"
   ]
  },
  {
   "cell_type": "markdown",
   "metadata": {},
   "source": [
    "Flux calibrated, psf-weighted 1D spectra can be retrieved via the API for a single detectid through the function `get_spectrum`:"
   ]
  },
  {
   "cell_type": "code",
   "execution_count": null,
   "metadata": {},
   "outputs": [],
   "source": [
    "detectid_nice_lae = 2100744791\n",
    "spec_table = detects.get_spectrum(detectid_nice_lae) "
   ]
  },
  {
   "cell_type": "code",
   "execution_count": null,
   "metadata": {},
   "outputs": [],
   "source": [
    "detects.plot_spectrum(detectid_nice_lae)"
   ]
  },
  {
   "cell_type": "markdown",
   "metadata": {},
   "source": [
    "or if we want to zoom in on the emission line:"
   ]
  },
  {
   "cell_type": "code",
   "execution_count": null,
   "metadata": {},
   "outputs": [],
   "source": [
    "cw = detects.wave[detects.detectid == detectid_nice_lae]\n",
    "detects.plot_spectrum(detectid_nice_lae, xlim=(cw-50, cw+50))"
   ]
  },
  {
   "cell_type": "markdown",
   "metadata": {},
   "source": [
    "You can also save the spectrum to a text file. It is automatically saved as spec_##detectid##.dat, but you can also use the argument `outfile`"
   ]
  },
  {
   "cell_type": "code",
   "execution_count": null,
   "metadata": {},
   "outputs": [],
   "source": [
    "detects.save_spectrum(detectid_nice_lae)\n",
    "# or\n",
    "# detects.save_spectrum(detectid_nice_lae, outfile='tmp.txt')"
   ]
  },
  {
   "cell_type": "markdown",
   "metadata": {},
   "source": [
    "## Getting Fiber information for a detection"
   ]
  },
  {
   "cell_type": "markdown",
   "metadata": {},
   "source": [
    "You can find a list of all fibers used in the measurement in the Fibers table. The Fibers table and its associated columns can be accessed similar to the Spectra table by searching for a match in the the detectid column. "
   ]
  },
  {
   "cell_type": "code",
   "execution_count": null,
   "metadata": {},
   "outputs": [],
   "source": [
    "fibers = detects.hdfile.root.Fibers\n",
    "fibers.cols"
   ]
  },
  {
   "cell_type": "markdown",
   "metadata": {},
   "source": [
    "Access the fiber table for the above source:"
   ]
  },
  {
   "cell_type": "code",
   "execution_count": null,
   "metadata": {},
   "outputs": [],
   "source": [
    "fiber_table = fibers.read_where(\"detectid == detectid_nice_lae\") "
   ]
  },
  {
   "cell_type": "code",
   "execution_count": null,
   "metadata": {
    "scrolled": true
   },
   "outputs": [],
   "source": [
    "Table(fiber_table)"
   ]
  },
  {
   "cell_type": "markdown",
   "metadata": {},
   "source": [
    "When you are done with the HDF5 file, close it. The data that you extracted into tables and arrays will remain."
   ]
  },
  {
   "cell_type": "code",
   "execution_count": null,
   "metadata": {},
   "outputs": [],
   "source": [
    "detects.hdfile.close()"
   ]
  },
  {
   "cell_type": "markdown",
   "metadata": {},
   "source": [
    "## Accessing the ELiXer Classifications"
   ]
  },
  {
   "cell_type": "code",
   "execution_count": null,
   "metadata": {},
   "outputs": [],
   "source": [
    "config = HDRconfig(survey='hdr2.1')\n",
    "file_elix = tb.open_file(config.elixerh5)"
   ]
  },
  {
   "cell_type": "code",
   "execution_count": null,
   "metadata": {},
   "outputs": [],
   "source": [
    "file_elix.root.Detections"
   ]
  },
  {
   "cell_type": "markdown",
   "metadata": {},
   "source": [
    "Note: these are also appended to the Detections() class object. Each column in the above table can be accessed as an attribute of the Detections() class object. For example, the probability of LAE to OII measured from the HETDEX continuum is:"
   ]
  },
  {
   "cell_type": "code",
   "execution_count": null,
   "metadata": {},
   "outputs": [],
   "source": [
    "#detects.plae_poii_hetdex"
   ]
  },
  {
   "cell_type": "markdown",
   "metadata": {},
   "source": [
    "or the nearest neighbour magnitude in an ancillary photometric catalog is:"
   ]
  },
  {
   "cell_type": "code",
   "execution_count": null,
   "metadata": {},
   "outputs": [],
   "source": [
    "#detects.mag_match"
   ]
  },
  {
   "cell_type": "markdown",
   "metadata": {},
   "source": [
    "and this comes from the filter:"
   ]
  },
  {
   "cell_type": "code",
   "execution_count": null,
   "metadata": {},
   "outputs": [],
   "source": [
    "#detects.cat_filter"
   ]
  }
 ],
 "metadata": {
  "kernelspec": {
   "display_name": "Python 3 (ipykernel)",
   "language": "python",
   "name": "python3"
  },
  "language_info": {
   "codemirror_mode": {
    "name": "ipython",
    "version": 3
   },
   "file_extension": ".py",
   "mimetype": "text/x-python",
   "name": "python",
   "nbconvert_exporter": "python",
   "pygments_lexer": "ipython3",
   "version": "3.10.6"
  }
 },
 "nbformat": 4,
 "nbformat_minor": 4
}
