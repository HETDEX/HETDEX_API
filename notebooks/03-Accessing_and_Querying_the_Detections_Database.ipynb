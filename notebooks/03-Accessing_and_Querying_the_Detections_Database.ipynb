{
 "cells": [
  {
   "cell_type": "markdown",
   "metadata": {},
   "source": [
    "03 - Accessing and Querying the Detect Database\n",
    "======="
   ]
  },
  {
   "cell_type": "markdown",
   "metadata": {},
   "source": [
    "This notebook demonstrates how to open the HDF5 container for the HETDEX line detections database. This database is a catalog of line emission detections and their associated 1D, aperture summed, psf-weighted spectra. There are three tables contained within this HDF5 file: \n",
    "\n",
    "1. Detections - this is the main database of line detection sources. It provides the position and central wavelength of each detection and corresponding line fluxes. A source detection corresponds to an emission line so it is possible to have multiple line detections at different wavelengths for a single source. There can also be multiple observations of the same line if it has been observed in multiple shots or if it is associated with a large source. \n",
    "\n",
    "2. Fibers - for each source detection, this table lists information about each fiber used to extract the flux measurment and weighted spectrum. This allows a user to return to the processed data products (ie. the shot HDF5 files) to investigate the source further.\n",
    "\n",
    "3. Spectra - for each source, this table contains arrays of wavelength and 1D flux-weighted aperture summed spectral data and corresponding errors. Non-calibrated spectra is also provided in counts\n"
   ]
  },
  {
   "cell_type": "code",
   "execution_count": 1,
   "metadata": {},
   "outputs": [],
   "source": [
    "%matplotlib inline\n",
    "import sys\n",
    "import os\n",
    "import os.path\n",
    "import subprocess\n",
    "import numpy as np\n",
    "import tables as tb\n",
    "import matplotlib.pyplot as plt\n",
    "\n",
    "from astropy.io import ascii\n",
    "from astropy.table import Table, Column\n",
    "\n",
    "from hetdex_api import config"
   ]
  },
  {
   "cell_type": "code",
   "execution_count": 2,
   "metadata": {},
   "outputs": [],
   "source": [
    "## open the detect file using pytables \n",
    "fileh = tb.open_file(config.detecth5)\n",
    "\n",
    "## to open and close the continuum source file using pytables\n",
    "filecont = tb.open_file(config.contsourceh5)\n",
    "filecont.close()"
   ]
  },
  {
   "cell_type": "code",
   "execution_count": 3,
   "metadata": {},
   "outputs": [
    {
     "data": {
      "text/plain": [
       "/Detections.cols (Cols), 28 columns\n",
       "  detectid (Column(690868,), int64)\n",
       "  detectname (Column(690868,), |S40)\n",
       "  inputid (Column(690868,), |S32)\n",
       "  date (Column(690868,), int32)\n",
       "  obsid (Column(690868,), int32)\n",
       "  ra (Column(690868,), float32)\n",
       "  dec (Column(690868,), float32)\n",
       "  wave (Column(690868,), float32)\n",
       "  wave_err (Column(690868,), float32)\n",
       "  flux (Column(690868,), float32)\n",
       "  flux_err (Column(690868,), float32)\n",
       "  linewidth (Column(690868,), float32)\n",
       "  linewidth_err (Column(690868,), float32)\n",
       "  continuum (Column(690868,), float32)\n",
       "  continuum_err (Column(690868,), float32)\n",
       "  sn (Column(690868,), float32)\n",
       "  sn_err (Column(690868,), float32)\n",
       "  chi2 (Column(690868,), float32)\n",
       "  chi2_err (Column(690868,), float32)\n",
       "  multiframe (Column(690868,), |S20)\n",
       "  fibnum (Column(690868,), int32)\n",
       "  x_raw (Column(690868,), int32)\n",
       "  y_raw (Column(690868,), int32)\n",
       "  amp (Column(690868,), |S2)\n",
       "  ifuid (Column(690868,), |S3)\n",
       "  ifuslot (Column(690868,), |S3)\n",
       "  shotid (Column(690868,), int64)\n",
       "  specid (Column(690868,), |S3)"
      ]
     },
     "execution_count": 3,
     "metadata": {},
     "output_type": "execute_result"
    }
   ],
   "source": [
    "# to access the main detetion table:\n",
    "detects = fileh.root.Detections \n",
    "\n",
    "# to see a list of columns in the main detection table\n",
    "detects.cols"
   ]
  },
  {
   "cell_type": "markdown",
   "metadata": {},
   "source": [
    "The entire table or an entire column can be pulled into local memory into an array using [:] or .read(), or you can slice as you wish, but likely you want to query to figure out which data you are interested in.\n"
   ]
  },
  {
   "cell_type": "code",
   "execution_count": 4,
   "metadata": {},
   "outputs": [],
   "source": [
    "ra = detects.cols.ra[:]"
   ]
  },
  {
   "cell_type": "markdown",
   "metadata": {},
   "source": [
    "If you don't need the entire table its better to subselect a part of the table. For example, read only the table where all detections between 4200AA and 4250AA\n"
   ]
  },
  {
   "cell_type": "code",
   "execution_count": 5,
   "metadata": {},
   "outputs": [],
   "source": [
    "detect_table = detects.read_where(\"(wave > 4200) & (wave < 4250)\")"
   ]
  },
  {
   "cell_type": "markdown",
   "metadata": {},
   "source": [
    "This reads the database into a numpy table which you can then directly work with as usual. For example, read in the detectid, or the input detect name:"
   ]
  },
  {
   "cell_type": "code",
   "execution_count": 6,
   "metadata": {},
   "outputs": [
    {
     "data": {
      "text/plain": [
       "array([1000000067, 1000000125, 1000000159, ..., 1000690754, 1000690788,\n",
       "       1000690792])"
      ]
     },
     "execution_count": 6,
     "metadata": {},
     "output_type": "execute_result"
    }
   ],
   "source": [
    "detect_table['detectid']"
   ]
  },
  {
   "cell_type": "code",
   "execution_count": 7,
   "metadata": {},
   "outputs": [
    {
     "data": {
      "text/plain": [
       "array(['20170103v002_1291', '20170103v002_1518', '20170103v002_1646', ...,\n",
       "       '20181114v014_478', '20190201v015_8203', '20190204v013_5017'],\n",
       "      dtype='|S32')"
      ]
     },
     "execution_count": 7,
     "metadata": {},
     "output_type": "execute_result"
    }
   ],
   "source": [
    "detect_table['inputid']"
   ]
  },
  {
   "cell_type": "markdown",
   "metadata": {},
   "source": [
    "Let's work through a quick example. Say I want to find and save the 1D spectra for all objects with SN>30 and a central wavelength within 4000-4200 AA in COSMOS (at RA=150deg, DEC=2.2deg) I could do the following query:"
   ]
  },
  {
   "cell_type": "code",
   "execution_count": 8,
   "metadata": {},
   "outputs": [],
   "source": [
    "detect_table = detects.read_where(\"(sqrt((ra-150)**2 + (dec-2.2)**2) < 1) & (sn>30) & (wave > 4000) & (wave < 4200)\")"
   ]
  },
  {
   "cell_type": "markdown",
   "metadata": {},
   "source": [
    "To find out how many objects are in the table just use np.size:"
   ]
  },
  {
   "cell_type": "code",
   "execution_count": 9,
   "metadata": {},
   "outputs": [
    {
     "data": {
      "text/plain": [
       "21"
      ]
     },
     "execution_count": 9,
     "metadata": {},
     "output_type": "execute_result"
    }
   ],
   "source": [
    "np.size(detect_table)"
   ]
  },
  {
   "cell_type": "markdown",
   "metadata": {},
   "source": [
    "To store this subset into an output table, figure out columns you want to export and store into another table then write to a file."
   ]
  },
  {
   "cell_type": "code",
   "execution_count": 10,
   "metadata": {},
   "outputs": [],
   "source": [
    "outputtable = detect_table[['detectid','inputid','flux','flux_err','sn','sn_err','wave','wave_err']]\n",
    "ascii.write(outputtable,'output.dat', overwrite=True)"
   ]
  },
  {
   "cell_type": "markdown",
   "metadata": {},
   "source": [
    "The 1D flux-weighted spectra are stored in the Spectra table:"
   ]
  },
  {
   "cell_type": "code",
   "execution_count": 10,
   "metadata": {},
   "outputs": [
    {
     "data": {
      "text/plain": [
       "/Spectra.cols (Cols), 8 columns\n",
       "  detectid (Column(690797,), int64)\n",
       "  wave1d (Column(690797, 1036), ('<f4', (1036,)))\n",
       "  spec1d (Column(690797, 1036), ('<f4', (1036,)))\n",
       "  spec1d_err (Column(690797, 1036), ('<f4', (1036,)))\n",
       "  counts1d (Column(690797, 1036), ('<f4', (1036,)))\n",
       "  counts1d_err (Column(690797, 1036), ('<f4', (1036,)))\n",
       "  apsum_counts (Column(690797, 1036), ('<f4', (1036,)))\n",
       "  apsum_counts_err (Column(690797, 1036), ('<f4', (1036,)))"
      ]
     },
     "execution_count": 10,
     "metadata": {},
     "output_type": "execute_result"
    }
   ],
   "source": [
    "spectra = fileh.root.Spectra\n",
    "spectra.cols"
   ]
  },
  {
   "cell_type": "markdown",
   "metadata": {},
   "source": [
    "If you want to store each spectra to a file:"
   ]
  },
  {
   "cell_type": "code",
   "execution_count": 12,
   "metadata": {},
   "outputs": [],
   "source": [
    "for i in np.arange(np.size(detect_table)):\n",
    "    source = detect_table['detectid'][i]\n",
    "    spectra_table = spectra.read_where(\"detectid == source\")\n",
    "    data = Table()\n",
    "    data['wave1d'] = Column( spectra_table['wave1d'][0], unit='AA')\n",
    "    data['spec1d'] = Column( spectra_table['spec1d'][0], unit='1e-17 erg/s/cm^2')\n",
    "    data['spec1d_err'] = Column( spectra_table['spec1d_err'][0], unit='1e-17 erg/s/cm^2') \n",
    "    ascii.write(data, 'spec_'+str(source)+'.dat', overwrite=True)"
   ]
  },
  {
   "cell_type": "markdown",
   "metadata": {},
   "source": [
    "Using the function plot_spectrum, plot the 1D spectrum of the first object in the list."
   ]
  },
  {
   "cell_type": "code",
   "execution_count": 13,
   "metadata": {},
   "outputs": [],
   "source": [
    "def plot_spectrum(self, xlim=None, ylim=None):\n",
    "    plt.figure(figsize=(8, 6))\n",
    "    plt.errorbar(self['wave1d'], self['spec1d'], yerr=self['spec1d_err'])\n",
    "    plt.title(\"DetectID \"+str(self['detectid']))\n",
    "    plt.xlabel('wave (AA)')\n",
    "    plt.ylabel('flux (erg/s/cm^2/AA)')\n",
    "    if xlim is not None:\n",
    "        plt.xlim(xlim)\n",
    "        if ylim is not None:\n",
    "            plt.ylim(ylim)\n",
    "    plt.show()"
   ]
  },
  {
   "cell_type": "code",
   "execution_count": 14,
   "metadata": {},
   "outputs": [
    {
     "data": {
      "image/png": "[encoded data removed]",
      "text/plain": [
       "<Figure size 576x432 with 1 Axes>"
      ]
     },
     "metadata": {},
     "output_type": "display_data"
    }
   ],
   "source": [
    "source = detect_table['detectid'][3]\n",
    "spectra_table = spectra.read_where(\"detectid == source\")\n",
    "plot_spectrum(spectra_table)"
   ]
  },
  {
   "cell_type": "markdown",
   "metadata": {},
   "source": [
    "To constrain x-axis of the plot to the line emission:"
   ]
  },
  {
   "cell_type": "code",
   "execution_count": 15,
   "metadata": {},
   "outputs": [
    {
     "data": {
      "image/png": "[encoded data removed]",
      "text/plain": [
       "<Figure size 576x432 with 1 Axes>"
      ]
     },
     "metadata": {},
     "output_type": "display_data"
    }
   ],
   "source": [
    "cw = detect_table['wave'][0]\n",
    "plot_spectrum(spectra_table, xlim=[cw-50,cw+50])"
   ]
  },
  {
   "cell_type": "markdown",
   "metadata": {},
   "source": [
    "You can find a list of all fibers used in the measurement in the Fibers table. The Fibers table and its associated columns can be accessed similar to the Spectra table by searching for a match in the the detectid column. "
   ]
  },
  {
   "cell_type": "code",
   "execution_count": 16,
   "metadata": {},
   "outputs": [
    {
     "data": {
      "text/plain": [
       "/Fibers.cols (Cols), 20 columns\n",
       "  detectid (Column(9397618,), int64)\n",
       "  ra (Column(9397618,), float32)\n",
       "  dec (Column(9397618,), float32)\n",
       "  multiframe (Column(9397618,), |S20)\n",
       "  fibnum (Column(9397618,), int32)\n",
       "  x_ifu (Column(9397618,), float32)\n",
       "  y_ifu (Column(9397618,), float32)\n",
       "  date (Column(9397618,), int32)\n",
       "  obsid (Column(9397618,), int32)\n",
       "  expnum (Column(9397618,), int32)\n",
       "  distance (Column(9397618,), float32)\n",
       "  timestamp (Column(9397618,), |S17)\n",
       "  wavein (Column(9397618,), float32)\n",
       "  flag (Column(9397618,), int32)\n",
       "  weight (Column(9397618,), float32)\n",
       "  ADC (Column(9397618, 5), ('<f4', (5,)))\n",
       "  amp (Column(9397618,), |S2)\n",
       "  ifuid (Column(9397618,), |S3)\n",
       "  ifuslot (Column(9397618,), |S3)\n",
       "  specid (Column(9397618,), |S3)"
      ]
     },
     "execution_count": 16,
     "metadata": {},
     "output_type": "execute_result"
    }
   ],
   "source": [
    "fibers = fileh.root.Fibers\n",
    "fibers.cols"
   ]
  },
  {
   "cell_type": "markdown",
   "metadata": {},
   "source": [
    "Access the fiber table for the above source:"
   ]
  },
  {
   "cell_type": "code",
   "execution_count": 17,
   "metadata": {},
   "outputs": [],
   "source": [
    "fiber_table = fibers.read_where(\"detectid == source\") "
   ]
  },
  {
   "cell_type": "code",
   "execution_count": 18,
   "metadata": {
    "scrolled": true
   },
   "outputs": [
    {
     "data": {
      "text/plain": [
       "array([(1000021835, 150.07697, 2.3093488, 'multi_016_104_026_LL',  69, 24.15,  -8.81, 20170222, 8, 1, 2.3212  , '20170222T052514.0', 4183.45, 0,  18.63, [1.289, 1.119, 1.   , 0.984, 0.925], 'LL', '026', '104', '016'),\n",
       "       (1000021835, 150.07658, 2.3099465, 'multi_016_104_026_LL',  70, 21.61,  -8.81, 20170222, 8, 1, 1.92159 , '20170222T052514.0', 4183.45, 0,  40.17, [0.639, 0.825, 1.   , 1.008, 1.042], 'LL', '026', '104', '016'),\n",
       "       (1000021835, 150.07729, 2.309974 , 'multi_016_104_026_LL',  89, 22.88, -11.02, 20170222, 8, 1, 0.628049, '20170222T052514.0', 4183.45, 0, 292.2 , [1.206, 1.103, 1.   , 0.999, 0.989], 'LL', '026', '104', '016'),\n",
       "       (1000021835, 150.07692, 2.3105717, 'multi_016_104_026_LL',  90, 20.34, -11.02, 20170222, 8, 1, 2.26937 , '20170222T052514.0', 4183.45, 0,  20.54, [0.506, 0.739, 1.   , 1.007, 1.057], 'LL', '026', '104', '016'),\n",
       "       (1000021835, 150.07762, 2.3105977, 'multi_016_104_026_LL', 109, 21.61, -13.22, 20170222, 8, 1, 2.88789 , '20170222T052514.0', 4183.45, 0,   6.18, [0.793, 0.915, 1.   , 1.002, 1.007], 'LL', '026', '104', '016'),\n",
       "       (1000021835, 150.07695, 2.3097556, 'multi_016_104_026_LL',  70, 21.61,  -8.81, 20170222, 8, 2, 1.00523 , '20170222T053155.6', 4183.45, 0, 193.15, [1.078, 1.047, 1.   , 0.997, 0.987], 'LL', '026', '104', '016'),\n",
       "       (1000021835, 150.07657, 2.310353 , 'multi_016_104_026_LL',  71, 19.07,  -8.81, 20170222, 8, 2, 2.40138 , '20170222T053155.6', 4183.45, 0,  15.77, [0.511, 0.75 , 1.   , 1.009, 1.059], 'LL', '026', '104', '016'),\n",
       "       (1000021835, 150.07765, 2.309783 , 'multi_016_104_026_LL',  89, 22.88, -11.02, 20170222, 8, 2, 2.04054 , '20170222T053155.6', 4183.45, 0,  32.04, [1.463, 1.185, 1.   , 0.99 , 0.927], 'LL', '026', '104', '016'),\n",
       "       (1000021835, 150.07727, 2.3103807, 'multi_016_104_026_LL',  90, 20.34, -11.02, 20170222, 8, 2, 1.57127 , '20170222T053155.6', 4183.45, 0,  78.65, [0.669, 0.847, 1.   , 1.006, 1.033], 'LL', '026', '104', '016'),\n",
       "       (1000021835, 150.0766 , 2.3095398, 'multi_016_104_026_LL',  70, 21.61,  -8.81, 20170222, 8, 3, 2.43106 , '20170222T053838.0', 4183.45, 0,  14.79, [0.916, 0.969, 1.   , 0.997, 0.989], 'LL', '026', '104', '016'),\n",
       "       (1000021835, 150.0773 , 2.3095675, 'multi_016_104_026_LL',  89, 22.88, -11.02, 20170222, 8, 3, 1.61591 , '20170222T053838.0', 4183.45, 0,  73.07, [1.529, 1.195, 1.   , 0.986, 0.919], 'LL', '026', '104', '016'),\n",
       "       (1000021835, 150.07693, 2.310165 , 'multi_016_104_026_LL',  90, 20.34, -11.02, 20170222, 8, 3, 0.956885, '20170222T053838.0', 4183.45, 0, 203.07, [0.632, 0.839, 1.   , 1.008, 1.054], 'LL', '026', '104', '016'),\n",
       "       (1000021835, 150.07764, 2.3101912, 'multi_016_104_026_LL', 109, 21.61, -13.22, 20170222, 8, 3, 2.02952 , '20170222T053838.0', 4183.45, 0,  33.12, [1.068, 1.056, 1.   , 0.996, 0.965], 'LL', '026', '104', '016'),\n",
       "       (1000021835, 150.07727, 2.3107886, 'multi_016_104_026_LL', 110, 19.07, -13.22, 20170222, 8, 3, 2.97919 , '20170222T053838.0', 4183.45, 0,   5.12, [0.617, 0.804, 1.   , 1.006, 1.039], 'LL', '026', '104', '016')],\n",
       "      dtype=[('detectid', '<i8'), ('ra', '<f4'), ('dec', '<f4'), ('multiframe', 'S20'), ('fibnum', '<i4'), ('x_ifu', '<f4'), ('y_ifu', '<f4'), ('date', '<i4'), ('obsid', '<i4'), ('expnum', '<i4'), ('distance', '<f4'), ('timestamp', 'S17'), ('wavein', '<f4'), ('flag', '<i4'), ('weight', '<f4'), ('ADC', '<f4', (5,)), ('amp', 'S2'), ('ifuid', 'S3'), ('ifuslot', 'S3'), ('specid', 'S3')])"
      ]
     },
     "execution_count": 18,
     "metadata": {},
     "output_type": "execute_result"
    }
   ],
   "source": [
    "fiber_table"
   ]
  },
  {
   "cell_type": "markdown",
   "metadata": {},
   "source": [
    "When you are done with the HDF5 file, close it. The data that you extracted into tables and arrays will remain."
   ]
  },
  {
   "cell_type": "code",
   "execution_count": 19,
   "metadata": {},
   "outputs": [],
   "source": [
    "fileh.close()"
   ]
  },
  {
   "cell_type": "markdown",
   "metadata": {
    "collapsed": true
   },
   "source": [
    "## Accessing the ELiXer Classifications"
   ]
  },
  {
   "cell_type": "code",
   "execution_count": 20,
   "metadata": {},
   "outputs": [],
   "source": [
    "file_elix = tb.open_file(config.elixerh5)"
   ]
  },
  {
   "cell_type": "code",
   "execution_count": 21,
   "metadata": {},
   "outputs": [
    {
     "data": {
      "text/plain": [
       "/Classifications (Table(690868,)) ''\n",
       "  description := {\n",
       "  \"detectid\": Int64Col(shape=(), dflt=0, pos=0),\n",
       "  \"plae_poii_hetdex\": Float32Col(shape=(), dflt=0.0, pos=1),\n",
       "  \"aperture_mag\": Float32Col(shape=(), dflt=0.0, pos=2),\n",
       "  \"plae_poii_aperture\": Float32Col(shape=(), dflt=0.0, pos=3),\n",
       "  \"aperture_filter\": StringCol(itemsize=15, shape=(), dflt='', pos=4),\n",
       "  \"mag_match\": Float32Col(shape=(), dflt=0.0, pos=5),\n",
       "  \"cat_filter\": StringCol(itemsize=15, shape=(), dflt='', pos=6),\n",
       "  \"plae_poii_cat\": Float32Col(shape=(), dflt=0.0, pos=7),\n",
       "  \"dec\": Float32Col(shape=(), dflt=0.0, pos=8),\n",
       "  \"dec_match\": Float32Col(shape=(), dflt=0.0, pos=9),\n",
       "  \"dist_match\": Float32Col(shape=(), dflt=0.0, pos=10),\n",
       "  \"ra\": Float32Col(shape=(), dflt=0.0, pos=11),\n",
       "  \"ra_match\": Float32Col(shape=(), dflt=0.0, pos=12),\n",
       "  \"z_prelim\": Float32Col(shape=(), dflt=0.0, pos=13)}\n",
       "  byteorder := 'little'\n",
       "  chunkshape := (799,)\n",
       "  autoindex := True\n",
       "  colindexes := {\n",
       "    \"detectid\": Index(9, full, shuffle, zlib(1)).is_csi=True}"
      ]
     },
     "execution_count": 21,
     "metadata": {},
     "output_type": "execute_result"
    }
   ],
   "source": [
    "file_elix.root.Classifications"
   ]
  },
  {
   "cell_type": "code",
   "execution_count": null,
   "metadata": {},
   "outputs": [],
   "source": []
  }
 ],
 "metadata": {
  "kernelspec": {
   "display_name": "Python 2",
   "language": "python",
   "name": "python2"
  },
  "language_info": {
   "codemirror_mode": {
    "name": "ipython",
    "version": 2
   },
   "file_extension": ".py",
   "mimetype": "text/x-python",
   "name": "python",
   "nbconvert_exporter": "python",
   "pygments_lexer": "ipython2",
   "version": "2.7.15"
  }
 },
 "nbformat": 4,
 "nbformat_minor": 2
}
