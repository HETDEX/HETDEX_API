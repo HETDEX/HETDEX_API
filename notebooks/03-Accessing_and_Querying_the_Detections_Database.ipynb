{
 "cells": [
  {
   "cell_type": "markdown",
   "metadata": {},
   "source": [
    "03 - Accessing and Querying the Detect Database\n",
    "======="
   ]
  },
  {
   "cell_type": "markdown",
   "metadata": {},
   "source": [
    "This notebook demonstrates how to open the HDF5 containter for the HETDEX line detections database. This database is a source list of line emission detections. There are three tables contained within this HDF5 file: \n",
    "\n",
    "1. Detections - this is the main database of line detection sources. It provides the position and central wavelength of each detection and corresponding line fluxes. A source detection corresponds to an emission line so it is possible to have multiple line detections at different wavelengths for a single source. The table also lists a measurement in a single dithered observation only.\n",
    "\n",
    "\n",
    "2. Fibers - for each source dectection, this table lists information about each fiber used to extract the flux measurment and weighted spectrum\n",
    "\n",
    "\n",
    "3. Spectra - for each source, this table contains arrays of wavelength and 1D flux-weighted aperture summed spectral data and corresponding errors. Non-calibrated spectra is also provided in counts\n"
   ]
  },
  {
   "cell_type": "code",
   "execution_count": 1,
   "metadata": {
    "collapsed": true
   },
   "outputs": [],
   "source": [
    "%matplotlib inline\n",
    "import sys\n",
    "import os\n",
    "import os.path\n",
    "import subprocess\n",
    "import numpy as np\n",
    "import tables as tb\n",
    "import matplotlib.pyplot as plt\n",
    "\n",
    "from astropy.io import ascii\n",
    "from astropy.table import Table, Column"
   ]
  },
  {
   "cell_type": "code",
   "execution_count": 2,
   "metadata": {
    "collapsed": true
   },
   "outputs": [],
   "source": [
    "## open the detect file using pytables \n",
    "detect_file = '/work/03946/hetdex/hdr1/detect/detect_cosmos.h5'\n",
    "fileh = tb.open_file(detect_file)"
   ]
  },
  {
   "cell_type": "code",
   "execution_count": 3,
   "metadata": {},
   "outputs": [
    {
     "data": {
      "text/plain": [
       "/Detections.cols (Cols), 28 columns\n",
       "  detectid (Column(3986,), int64)\n",
       "  inputid (Column(3986,), |S32)\n",
       "  shotid (Column(3986,), int64)\n",
       "  date (Column(3986,), int32)\n",
       "  obsid (Column(3986,), int32)\n",
       "  ra (Column(3986,), float32)\n",
       "  dec (Column(3986,), float32)\n",
       "  wave (Column(3986,), float32)\n",
       "  wave_err (Column(3986,), float32)\n",
       "  flux (Column(3986,), float32)\n",
       "  flux_err (Column(3986,), float32)\n",
       "  linewidth (Column(3986,), float32)\n",
       "  linewidth_err (Column(3986,), float32)\n",
       "  continuum (Column(3986,), float32)\n",
       "  continuum_err (Column(3986,), float32)\n",
       "  sn (Column(3986,), float32)\n",
       "  sn_err (Column(3986,), float32)\n",
       "  chi2 (Column(3986,), float32)\n",
       "  chi2_err (Column(3986,), float32)\n",
       "  multiframe (Column(3986,), |S20)\n",
       "  fibnum (Column(3986,), int32)\n",
       "  x_raw (Column(3986,), int32)\n",
       "  y_raw (Column(3986,), int32)\n",
       "  amp (Column(3986,), |S2)\n",
       "  detectname (Column(3986,), |S20)\n",
       "  ifuid (Column(3986,), |S3)\n",
       "  ifuslot (Column(3986,), |S3)\n",
       "  specid (Column(3986,), |S3)"
      ]
     },
     "execution_count": 3,
     "metadata": {},
     "output_type": "execute_result"
    }
   ],
   "source": [
    "# to access the main detetion table:\n",
    "detects = fileh.root.Detections \n",
    "\n",
    "# to see a list of columns in the main detection table\n",
    "detects.cols"
   ]
  },
  {
   "cell_type": "markdown",
   "metadata": {},
   "source": [
    "The entire table or an entire column can be pulled into local memory into an array using [:] or you can slice as you wish, but likely you want to query to figure out which data you are interested in.\n"
   ]
  },
  {
   "cell_type": "code",
   "execution_count": 4,
   "metadata": {
    "collapsed": true
   },
   "outputs": [],
   "source": [
    "ra = detects.cols.ra[:]"
   ]
  },
  {
   "cell_type": "markdown",
   "metadata": {},
   "source": [
    "If you don't need the entire table its better to subselect a part of the table. For example, read only the table where all detections between 4200AA and 4250AA\n"
   ]
  },
  {
   "cell_type": "code",
   "execution_count": 5,
   "metadata": {
    "collapsed": true
   },
   "outputs": [],
   "source": [
    "detect_table = detects.read_where(\"(wave > 4200) & (wave < 4250)\")"
   ]
  },
  {
   "cell_type": "markdown",
   "metadata": {},
   "source": [
    "This reads the database into a numpy table which you can then directly work with as usual. For example, read in the detectid, or the input detect name:"
   ]
  },
  {
   "cell_type": "code",
   "execution_count": 6,
   "metadata": {},
   "outputs": [
    {
     "data": {
      "text/plain": [
       "array([1000000083, 1000000104, 1000000106, 1000000361, 1000000395,\n",
       "       1000000404, 1000000506, 1000000531, 1000000535, 1000000713,\n",
       "       1000000748, 1000000802, 1000000964, 1000000995, 1000001112,\n",
       "       1000001152, 1000001234, 1000001370, 1000001390, 1000001470,\n",
       "       1000001474, 1000001499, 1000001573, 1000001637, 1000001688,\n",
       "       1000001739, 1000001758, 1000001779, 1000001826, 1000001885,\n",
       "       1000002007, 1000002040, 1000002053, 1000002089, 1000002098,\n",
       "       1000002130, 1000002157, 1000002163, 1000002164, 1000002168,\n",
       "       1000002242, 1000002252, 1000002321, 1000002369, 1000002415,\n",
       "       1000002420, 1000002423, 1000002426, 1000002515, 1000002552,\n",
       "       1000002583, 1000002620, 1000002640, 1000002641, 1000002642,\n",
       "       1000002664, 1000002671, 1000002673, 1000002677, 1000002678,\n",
       "       1000002679, 1000002696, 1000002700, 1000002718, 1000002730,\n",
       "       1000002732, 1000002740, 1000002750, 1000002755, 1000002769,\n",
       "       1000002790, 1000002830, 1000002848, 1000002853, 1000002865,\n",
       "       1000002868, 1000002877, 1000002952, 1000002976, 1000003014,\n",
       "       1000003022, 1000003036, 1000003042, 1000003047, 1000003077,\n",
       "       1000003108, 1000003160, 1000003234, 1000003238, 1000003262,\n",
       "       1000003303, 1000003337, 1000003405, 1000003430, 1000003526,\n",
       "       1000003608, 1000003620, 1000003636, 1000003712, 1000003833,\n",
       "       1000003892, 1000003910])"
      ]
     },
     "execution_count": 6,
     "metadata": {},
     "output_type": "execute_result"
    }
   ],
   "source": [
    "detect_table['detectid']"
   ]
  },
  {
   "cell_type": "code",
   "execution_count": 29,
   "metadata": {},
   "outputs": [
    {
     "data": {
      "text/plain": [
       "array(['20180113v013_419', '20180113v013_605', '20180113v013_618',\n",
       "       '20180123v009_367', '20180123v009_573', '20180123v009_607',\n",
       "       '20180124v010_494', '20180124v010_723', '20180124v010_776',\n",
       "       '20181114v020_217', '20181114v020_344', '20181114v020_513',\n",
       "       '20181115v017_420', '20181115v017_79', '20181116v015_78',\n",
       "       '20181117v010_235', '20181117v010_92', '20181118v020_40',\n",
       "       '20181118v020_79', '20181119v015_360', '20181119v015_374',\n",
       "       '20181119v015_461', '20181119v016_154', '20181119v016_494',\n",
       "       '20181119v016_773', '20181120v012_235', '20181120v012_334',\n",
       "       '20181120v012_444', '20181120v013_158', '20181120v013_565',\n",
       "       '20181215v031_45', '20181215v031_678', '20181215v031_76',\n",
       "       '20190104v018_124', '20190104v018_144', '20190104v018_277',\n",
       "       '20190104v018_412', '20190104v018_45', '20190104v018_460',\n",
       "       '20190104v018_480', '20190105v011_101', '20190105v011_1161',\n",
       "       '20190105v011_285', '20190105v011_408', '20190105v011_537',\n",
       "       '20190105v011_556', '20190105v011_566', '20190105v011_576',\n",
       "       '20190108v013_108', '20190108v013_1243', '20190108v013_1380',\n",
       "       '20190108v013_162', '20190108v013_182', '20190108v013_184',\n",
       "       '20190108v013_187', '20190108v013_208', '20190108v013_224',\n",
       "       '20190108v013_228', '20190108v013_234', '20190108v013_235',\n",
       "       '20190108v013_236', '20190108v013_267', '20190108v013_271',\n",
       "       '20190108v013_300', '20190108v013_336', '20190108v013_338',\n",
       "       '20190108v013_353', '20190108v013_384', '20190108v013_398',\n",
       "       '20190108v013_441', '20190108v013_489', '20190108v013_612',\n",
       "       '20190108v013_674', '20190108v013_697', '20190108v013_742',\n",
       "       '20190108v013_749', '20190108v013_777', '20190112v023_125',\n",
       "       '20190112v023_196', '20190112v023_303', '20190112v023_341',\n",
       "       '20190112v023_392', '20190112v023_413', '20190112v023_430',\n",
       "       '20190112v023_62', '20190201v014_1006', '20190201v014_1240',\n",
       "       '20190201v014_161', '20190201v014_1636', '20190201v014_1750',\n",
       "       '20190201v014_238', '20190201v014_383', '20190201v014_734',\n",
       "       '20190201v014_855', '20190204v014_235', '20190204v014_494',\n",
       "       '20190204v014_54', '20190204v014_621', '20190209v020_205',\n",
       "       '20190209v021_113', '20190209v021_295', '20190209v021_396'], \n",
       "      dtype='|S32')"
      ]
     },
     "execution_count": 29,
     "metadata": {},
     "output_type": "execute_result"
    }
   ],
   "source": [
    "detect_table['inputid']"
   ]
  },
  {
   "cell_type": "markdown",
   "metadata": {},
   "source": [
    "Let's work through a quick example. Say I want to find and save the 1D spectra for all objects with SN>30 and a central wavelength within 4000-4200 AA in COSMOS (at RA=150deg, DEC=2.2deg) I could do the following query:"
   ]
  },
  {
   "cell_type": "code",
   "execution_count": 7,
   "metadata": {
    "collapsed": true
   },
   "outputs": [],
   "source": [
    "detect_table = detects.read_where(\"(sqrt((ra-150)**2 + (dec-2.2)**2) < 1) & (sn>30) & (wave > 4000) & (wave < 4200)\")"
   ]
  },
  {
   "cell_type": "markdown",
   "metadata": {},
   "source": [
    "To find out how many objects are in the table just use np.size:"
   ]
  },
  {
   "cell_type": "code",
   "execution_count": 8,
   "metadata": {},
   "outputs": [
    {
     "data": {
      "text/plain": [
       "11"
      ]
     },
     "execution_count": 8,
     "metadata": {},
     "output_type": "execute_result"
    }
   ],
   "source": [
    "np.size(detect_table)"
   ]
  },
  {
   "cell_type": "markdown",
   "metadata": {},
   "source": [
    "To store this subset into an output table, figure out columns you want to export and store into another table then write to a file."
   ]
  },
  {
   "cell_type": "code",
   "execution_count": 9,
   "metadata": {
    "collapsed": true
   },
   "outputs": [],
   "source": [
    "outputtable = detect_table[['detectid','inputid','flux','flux_err','sn','sn_err','wave','wave_err']]\n",
    "ascii.write(outputtable,'output.dat', overwrite=True)"
   ]
  },
  {
   "cell_type": "markdown",
   "metadata": {},
   "source": [
    "The 1D flux-weighted spectra are stored in the Spectra table:"
   ]
  },
  {
   "cell_type": "code",
   "execution_count": 10,
   "metadata": {},
   "outputs": [
    {
     "data": {
      "text/plain": [
       "/Spectra.cols (Cols), 8 columns\n",
       "  detectid (Column(3986,), int64)\n",
       "  wave1d (Column(3986, 1036), ('<f4', (1036,)))\n",
       "  spec1d (Column(3986, 1036), ('<f4', (1036,)))\n",
       "  spec1d_err (Column(3986, 1036), ('<f4', (1036,)))\n",
       "  counts1d (Column(3986, 1036), ('<f4', (1036,)))\n",
       "  counts1d_err (Column(3986, 1036), ('<f4', (1036,)))\n",
       "  apsum_counts (Column(3986, 1036), ('<f4', (1036,)))\n",
       "  apsum_counts_err (Column(3986, 1036), ('<f4', (1036,)))"
      ]
     },
     "execution_count": 10,
     "metadata": {},
     "output_type": "execute_result"
    }
   ],
   "source": [
    "spectra = fileh.root.Spectra\n",
    "spectra.cols"
   ]
  },
  {
   "cell_type": "markdown",
   "metadata": {},
   "source": [
    "If you want to store each spectra to a file:"
   ]
  },
  {
   "cell_type": "code",
   "execution_count": 12,
   "metadata": {},
   "outputs": [],
   "source": [
    "for i in np.arange(np.size(detect_table)):\n",
    "    source = detect_table['detectid'][i]\n",
    "    spectra_table = spectra.read_where(\"detectid == source\")\n",
    "    data = Table()\n",
    "    data['wave1d'] = Column( spectra_table['wave1d'][0], unit='AA')\n",
    "    data['spec1d'] = Column( spectra_table['spec1d'][0], unit='1e-17 erg/s/cm^2')\n",
    "    data['spec1d_err'] = Column( spectra_table['spec1d_err'][0], unit='1e-17 erg/s/cm^2') \n",
    "    ascii.write(data, 'spec_'+str(source)+'.dat', overwrite=True)"
   ]
  },
  {
   "cell_type": "markdown",
   "metadata": {},
   "source": [
    "Using the function plot_spectrum, plot the 1D spectrum of the first object in the list."
   ]
  },
  {
   "cell_type": "code",
   "execution_count": 13,
   "metadata": {
    "collapsed": true
   },
   "outputs": [],
   "source": [
    "def plot_spectrum(self, xlim=None, ylim=None):\n",
    "    plt.figure(figsize=(8, 6))\n",
    "    plt.errorbar(self['wave1d'], self['spec1d'], yerr=self['spec1d_err'])\n",
    "    plt.title(\"DetectID \"+str(self['detectid']))\n",
    "    plt.xlabel('wave (AA)')\n",
    "    plt.ylabel('flux (erg/s/cm^2/AA)')\n",
    "    if xlim is not None:\n",
    "        plt.xlim(xlim)\n",
    "        if ylim is not None:\n",
    "            plt.ylim(ylim)\n",
    "    plt.show()"
   ]
  },
  {
   "cell_type": "code",
   "execution_count": 14,
   "metadata": {},
   "outputs": [
    {
     "data": {
      "image/png": "[encoded data removed]",
      "text/plain": [
       "<matplotlib.figure.Figure at 0x2ad7a5dadc90>"
      ]
     },
     "metadata": {},
     "output_type": "display_data"
    }
   ],
   "source": [
    "source = detect_table['detectid'][3]\n",
    "spectra_table = spectra.read_where(\"detectid == source\")\n",
    "plot_spectrum(spectra_table)"
   ]
  },
  {
   "cell_type": "markdown",
   "metadata": {},
   "source": [
    "To constrain x-axis of the plot to the line emission:"
   ]
  },
  {
   "cell_type": "code",
   "execution_count": 15,
   "metadata": {},
   "outputs": [
    {
     "data": {
      "image/png": "[encoded data removed]",
      "text/plain": [
       "<matplotlib.figure.Figure at 0x2ad7a5fc5f10>"
      ]
     },
     "metadata": {},
     "output_type": "display_data"
    }
   ],
   "source": [
    "cw = detect_table['wave'][0]\n",
    "plot_spectrum(spectra_table, xlim=[cw-50,cw+50])"
   ]
  },
  {
   "cell_type": "markdown",
   "metadata": {},
   "source": [
    "You can find a list of all fibers used in the measurement in the Fibers table. The Fibers table and its associated columns can be accessed similar to the Spectra table by searching for a match in the the detectid column. "
   ]
  },
  {
   "cell_type": "code",
   "execution_count": 16,
   "metadata": {},
   "outputs": [
    {
     "data": {
      "text/plain": [
       "/Fibers.cols (Cols), 20 columns\n",
       "  detectid (Column(52755,), int64)\n",
       "  ra (Column(52755,), float32)\n",
       "  dec (Column(52755,), float32)\n",
       "  multiframe (Column(52755,), |S20)\n",
       "  fibnum (Column(52755,), int32)\n",
       "  x_ifu (Column(52755,), float32)\n",
       "  y_ifu (Column(52755,), float32)\n",
       "  date (Column(52755,), int32)\n",
       "  obsid (Column(52755,), int32)\n",
       "  expnum (Column(52755,), int32)\n",
       "  distance (Column(52755,), float32)\n",
       "  timestamp (Column(52755,), |S17)\n",
       "  wavein (Column(52755,), float32)\n",
       "  flag (Column(52755,), int32)\n",
       "  weight (Column(52755,), float32)\n",
       "  ADC (Column(52755, 5), ('<f4', (5,)))\n",
       "  amp (Column(52755,), |S2)\n",
       "  ifuid (Column(52755,), |S3)\n",
       "  ifuslot (Column(52755,), |S3)\n",
       "  specid (Column(52755,), |S3)"
      ]
     },
     "execution_count": 16,
     "metadata": {},
     "output_type": "execute_result"
    }
   ],
   "source": [
    "fibers = fileh.root.Fibers\n",
    "fibers.cols"
   ]
  },
  {
   "cell_type": "markdown",
   "metadata": {},
   "source": [
    "Access the fiber table for the above source:"
   ]
  },
  {
   "cell_type": "code",
   "execution_count": 17,
   "metadata": {
    "collapsed": true
   },
   "outputs": [],
   "source": [
    "fiber_table = fibers.read_where(\"detectid == source\") "
   ]
  },
  {
   "cell_type": "code",
   "execution_count": 18,
   "metadata": {
    "scrolled": true
   },
   "outputs": [
    {
     "data": {
      "text/plain": [
       "array([ (1000002031,  150.07516479,  2.30476022, 'multi_329_097_029_LL', 55,  10.17000008,  -6.61000013, 20181215, 31, 1,  2.97719002, '20181215T093747.0',  4186.91015625, 0,    3.48000002, [ 0.68699998,  0.847     ,  1.        ,  1.00600004,  1.02900004], 'LL', '029', '097', '329'),\n",
       "       (1000002031,  150.07624817,  2.30418682, 'multi_329_097_029_LL', 73,  13.97999954,  -8.81000042, 20181215, 31, 1,  2.92672992, '20181215T093747.0',  4186.91015625, 0,    3.97000003, [ 1.52699995,  1.19099998,  1.        ,  0.98199999,  0.90200001], 'LL', '029', '097', '329'),\n",
       "       (1000002031,  150.0758667 ,  2.30478501, 'multi_329_097_029_LL', 74,  11.43999958,  -8.81000042, 20181215, 31, 1,  0.69899499, '20181215T093747.0',  4186.91015625, 0,  341.45001221, [ 1.13300002,  1.074     ,  1.        ,  0.99800003,  0.98799998], 'LL', '029', '097', '329'),\n",
       "       (1000002031,  150.07550049,  2.30538321, 'multi_329_097_029_LL', 75,   8.89999962,  -8.81000042, 20181215, 31, 1,  2.30525994, '20181215T093747.0',  4186.91015625, 0,   15.28999996, [ 0.45100001,  0.71100003,  1.        ,  1.00899994,  1.06500006], 'LL', '029', '097', '329'),\n",
       "       (1000002031,  150.07658386,  2.30481148, 'multi_329_097_029_LL', 93,  12.71000004, -11.02000046, 20181215, 31, 1,  2.24756002, '20181215T093747.0',  4186.91015625, 0,   17.10000038, [ 1.45700002,  1.18799996,  1.        ,  0.98799998,  0.917     ], 'LL', '029', '097', '329'),\n",
       "       (1000002031,  150.07620239,  2.30540967, 'multi_329_097_029_LL', 94,  10.17000008, -11.02000046, 20181215, 31, 1,  1.85091996, '20181215T093747.0',  4186.91015625, 0,   43.09000015, [ 0.63499999,  0.82700002,  1.        ,  1.00399995,  1.02900004], 'LL', '029', '097', '329'),\n",
       "       (1000002031,  150.07553101,  2.30456853, 'multi_329_097_029_LL', 55,  10.17000008,  -6.61000013, 20181215, 31, 2,  2.11578012, '20181215T094443.8',  4186.91015625, 0,   23.78000069, [ 0.89899999,  0.96499997,  1.        ,  0.99599999,  0.986     ], 'LL', '029', '097', '329'),\n",
       "       (1000002031,  150.07623291,  2.30459356, 'multi_329_097_029_LL', 74,  11.43999958,  -8.81000042, 20181215, 31, 2,  1.59384   , '20181215T094443.8',  4186.91015625, 0,   74.58999634, [ 1.62399995,  1.222     ,  1.        ,  0.986     ,  0.90899998], 'LL', '029', '097', '329'),\n",
       "       (1000002031,  150.07585144,  2.30519176, 'multi_329_097_029_LL', 75,   8.89999962,  -8.81000042, 20181215, 31, 2,  0.95617199, '20181215T094443.8',  4186.91015625, 0,  241.6499939 , [ 0.55199999,  0.79400003,  1.        ,  1.00800002,  1.05999994], 'LL', '029', '097', '329'),\n",
       "       (1000002031,  150.0765686 ,  2.30521798, 'multi_329_097_029_LL', 94,  10.17000008, -11.02000046, 20181215, 31, 2,  2.34061003, '20181215T094443.8',  4186.91015625, 0,   13.92000008, [ 1.04700005,  1.04999995,  1.        ,  0.99400002,  0.958     ], 'LL', '029', '097', '329'),\n",
       "       (1000002031,  150.07588196,  2.30437851, 'multi_329_097_029_LL', 74,  11.43999958,  -8.81000042, 20181215, 31, 3,  2.08669996, '20181215T095140.9',  4186.91015625, 0,   24.64999962, [ 1.36800003,  1.14699996,  1.        ,  0.97899997,  0.903     ], 'LL', '029', '097', '329'),\n",
       "       (1000002031,  150.07551575,  2.3049767 , 'multi_329_097_029_LL', 75,   8.89999962,  -8.81000042, 20181215, 31, 3,  1.65201998, '20181215T095140.9',  4186.91015625, 0,   65.91000366, [ 0.55800003,  0.78100002,  1.        ,  1.01100004,  1.05200005], 'LL', '029', '097', '329'),\n",
       "       (1000002031,  150.07659912,  2.30440497, 'multi_329_097_029_LL', 93,  12.71000004, -11.02000046, 20181215, 31, 3,  2.98591995, '20181215T095140.9',  4186.91015625, 0,    3.48000002, [ 1.54900002,  1.20200002,  1.        ,  0.98799998,  0.91500002], 'LL', '029', '097', '329'),\n",
       "       (1000002031,  150.07621765,  2.30500317, 'multi_329_097_029_LL', 94,  10.17000008, -11.02000046, 20181215, 31, 3,  0.91613299, '20181215T095140.9',  4186.91015625, 0,  268.67001343, [ 1.19799995,  1.11000001,  1.        ,  0.99699998,  0.97399998], 'LL', '029', '097', '329'),\n",
       "       (1000002031,  150.07585144,  2.30560136, 'multi_329_097_029_LL', 95,   7.63000011, -11.02000046, 20181215, 31, 3,  2.38027   , '20181215T095140.9',  4186.91015625, 0,   12.90999985, [ 0.47499999,  0.713     ,  1.        ,  1.00699997,  1.05799997], 'LL', '029', '097', '329')], \n",
       "      dtype=[('detectid', '<i8'), ('ra', '<f4'), ('dec', '<f4'), ('multiframe', 'S20'), ('fibnum', '<i4'), ('x_ifu', '<f4'), ('y_ifu', '<f4'), ('date', '<i4'), ('obsid', '<i4'), ('expnum', '<i4'), ('distance', '<f4'), ('timestamp', 'S17'), ('wavein', '<f4'), ('flag', '<i4'), ('weight', '<f4'), ('ADC', '<f4', (5,)), ('amp', 'S2'), ('ifuid', 'S3'), ('ifuslot', 'S3'), ('specid', 'S3')])"
      ]
     },
     "execution_count": 18,
     "metadata": {},
     "output_type": "execute_result"
    }
   ],
   "source": [
    "fiber_table"
   ]
  },
  {
   "cell_type": "markdown",
   "metadata": {},
   "source": [
    "When you are done with the HDF5 file, close it. The data that you extracted into tables and arrays will remain."
   ]
  },
  {
   "cell_type": "code",
   "execution_count": 19,
   "metadata": {
    "collapsed": true
   },
   "outputs": [],
   "source": [
    "fileh.close()"
   ]
  },
  {
   "cell_type": "code",
   "execution_count": null,
   "metadata": {
    "collapsed": true
   },
   "outputs": [],
   "source": []
  }
 ],
 "metadata": {
  "kernelspec": {
   "display_name": "Python 2",
   "language": "python",
   "name": "python2"
  },
  "language_info": {
   "codemirror_mode": {
    "name": "ipython",
    "version": 2
   },
   "file_extension": ".py",
   "mimetype": "text/x-python",
   "name": "python",
   "nbconvert_exporter": "python",
   "pygments_lexer": "ipython2",
   "version": "2.7.13"
  }
 },
 "nbformat": 4,
 "nbformat_minor": 2
}
