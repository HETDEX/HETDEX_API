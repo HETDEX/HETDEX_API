{
 "cells": [
  {
   "cell_type": "code",
   "execution_count": null,
   "id": "779ebe43",
   "metadata": {},
   "outputs": [],
   "source": [
    "import numpy as np\n",
    "import time\n",
    "\n",
    "import matplotlib.pyplot as plt\n",
    "\n",
    "from astropy.table import Table, vstack, hstack\n",
    "from astropy.coordinates import SkyCoord\n",
    "import astropy.units as u\n",
    "\n",
    "from hetdex_api.shot import get_fibers_table\n",
    "from hetdex_api.survey import FiberIndex"
   ]
  },
  {
   "cell_type": "markdown",
   "id": "65bdf4fe",
   "metadata": {},
   "source": [
    "# Query a single coordinate:"
   ]
  },
  {
   "cell_type": "code",
   "execution_count": null,
   "id": "646a24e7",
   "metadata": {},
   "outputs": [],
   "source": [
    "coord = SkyCoord(ra=189.29668*u.deg, dec=62.241787*u.deg)"
   ]
  },
  {
   "cell_type": "code",
   "execution_count": null,
   "id": "0c7e8dc2",
   "metadata": {},
   "outputs": [],
   "source": [
    "# Intiate the FiberIndex class from hetdex_api.survey:\n",
    "F = FiberIndex()\n",
    "\n",
    "#help(F.query_region)"
   ]
  },
  {
   "cell_type": "markdown",
   "id": "ec0ae161",
   "metadata": {},
   "source": [
    "FiberIndex.Query_region() returns an astropy table of all fibers within the the aperture defined. Default is 3.5 arcsec radius. amp_flag, gal_flag, meteor, throughput flag populate whether the fiber would make it into the current catalog. 1 is good, 0 is removed. 'flag' combines the three flags"
   ]
  },
  {
   "cell_type": "code",
   "execution_count": null,
   "id": "9de6ef32",
   "metadata": {},
   "outputs": [],
   "source": [
    "# This example was observed in multiple observations so there are many associated fibers\n",
    "fibtab = F.query_region(coord, radius=3.5*u.arcsec)\n",
    "#fibtab.show_in_notebook()"
   ]
  },
  {
   "cell_type": "code",
   "execution_count": null,
   "id": "72535e53",
   "metadata": {},
   "outputs": [],
   "source": [
    "# close the FiberIndex class (and associated open h5 files) when done\n",
    "F.close()"
   ]
  },
  {
   "cell_type": "markdown",
   "id": "b8304c2b",
   "metadata": {},
   "source": [
    "# To access individual fibers use get_fibers_table. To extract a PSF-weighted spectrum please see GetSpectra.ipynb notebook. To generate line flux maps please see LineFluxMaps.ipynb. To make a data cube and display it please see CubeWidget.ipynb. "
   ]
  },
  {
   "cell_type": "markdown",
   "id": "66f1f86d-fea9-4855-bf31-c74a197399fe",
   "metadata": {},
   "source": [
    "Please use the get_fibers_table funtion to extract single fiber spectra. Calibration updates and adjustments are accessed through this function. For example, the raw h5 files are in native 2AA binning and do not have the white dwarf calibration correction applied. You may access those arrays by setting the option rawh5=True. Note that get_fibers_table offers the ability to retrieve fibers within a specified aperture (provide coords + radius option), a specified amp (multiframe option), a specified ifuslot. Please see help(get_fibers_table). The fiber_flux_offset is applicable to stacking analyses."
   ]
  },
  {
   "cell_type": "code",
   "execution_count": 1,
   "id": "df8841c0",
   "metadata": {},
   "outputs": [],
   "source": [
    "from hetdex_api.shot import get_fibers_table"
   ]
  },
  {
   "cell_type": "code",
   "execution_count": null,
   "id": "9489b733-14f7-4100-98f6-30fe792a1059",
   "metadata": {},
   "outputs": [],
   "source": [
    "wave = np.linspace(3470, 5540, 1036)"
   ]
  },
  {
   "cell_type": "code",
   "execution_count": null,
   "id": "6dc03529-634d-4171-950f-22d6efcce28e",
   "metadata": {},
   "outputs": [],
   "source": [
    "shotlist = list(np.unique( fibtab['shotid']))"
   ]
  },
  {
   "cell_type": "code",
   "execution_count": null,
   "id": "15e26904-165b-44ca-b15f-9db1a4439abd",
   "metadata": {},
   "outputs": [],
   "source": [
    "print('Fiber coverage is available in the following shotids: {}'.format(shotlist))"
   ]
  },
  {
   "cell_type": "code",
   "execution_count": null,
   "id": "bb86e22b",
   "metadata": {},
   "outputs": [],
   "source": [
    "# example of grabbing all fibers in single shot:\n",
    "spec_tab = get_fibers_table(shotlist[0], coord)"
   ]
  },
  {
   "cell_type": "code",
   "execution_count": 2,
   "id": "095376ab-3ebe-47fc-b101-0dcc45cba74b",
   "metadata": {},
   "outputs": [
    {
     "name": "stdout",
     "output_type": "stream",
     "text": [
      "Help on function get_fibers_table in module hetdex_api.shot:\n",
      "\n",
      "get_fibers_table(shot, coords=None, ifuslot=None, multiframe=None, expnum=None, radius=<Quantity 3.5 arcsec>, survey='hdr4', astropy=True, verbose=False, rawh5=False, F=None, fiber_flux_offset=None)\n",
      "    Returns fiber specta for a given shot.\n",
      "    \n",
      "    Parameters\n",
      "    ---------\n",
      "    shot\n",
      "        either shotid or datevobs\n",
      "    coords\n",
      "        astropy coordinate object\n",
      "    radius\n",
      "        an astropy quantity object\n",
      "    astropy\n",
      "        flag to make it an astropy table\n",
      "    survey\n",
      "        data release you want to access\n",
      "    rawh5: bool\n",
      "        if True, this will simply return the fibers from the specified shoth5\n",
      "        file. If False (the default), any relevent correcctions\n",
      "        are applied.\n",
      "    verbose\n",
      "        print out warnings. Default is False\n",
      "    F   Fibers class object\n",
      "        a pre-intiated fibers class object\n",
      "    fiber_flux_offset: 1036 array\n",
      "        array of values in units of 10**-17 ergs/s/cm2/AA to add\n",
      "        to each fiber spectrum used in the extraction. Defaults\n",
      "        to None\n",
      "    \n",
      "    Returns\n",
      "    -------\n",
      "    A table of fibers within the defined aperture. Will be an astropy table\n",
      "    object if astropy=True is set\n",
      "\n"
     ]
    }
   ],
   "source": [
    "help( get_fibers_table)"
   ]
  },
  {
   "cell_type": "code",
   "execution_count": null,
   "id": "2986c25b-45fa-4ea5-bdcc-6d2ad413b3be",
   "metadata": {},
   "outputs": [],
   "source": [
    "spec_tab"
   ]
  },
  {
   "cell_type": "code",
   "execution_count": null,
   "id": "d3cf7ceb",
   "metadata": {},
   "outputs": [],
   "source": [
    "%matplotlib inline"
   ]
  },
  {
   "cell_type": "code",
   "execution_count": null,
   "id": "cf8bcb5b",
   "metadata": {},
   "outputs": [],
   "source": [
    "# Here is every fiber in the 3.5 arcsec aperture\n",
    "plt.figure(figsize=(10,5))\n",
    "for row in spec_tab:\n",
    "    plt.plot(wave, row['calfib'], label='FiberID is {}'.format(row['fiber_id']))\n",
    "    \n",
    "#plt.legend()"
   ]
  },
  {
   "cell_type": "markdown",
   "id": "7ff8e8a0",
   "metadata": {},
   "source": [
    "# Query a table with < 10 K Sources"
   ]
  },
  {
   "cell_type": "code",
   "execution_count": null,
   "id": "2764d1fe",
   "metadata": {},
   "outputs": [],
   "source": [
    "# Open the pared down SDSS AGN catalog. See below for how this was done."
   ]
  },
  {
   "cell_type": "code",
   "execution_count": null,
   "id": "31bae7da-e5d1-4d69-a547-d70d9a7d8d14",
   "metadata": {},
   "outputs": [],
   "source": [
    "from hetdex_api.config import HDRconfig\n",
    "import os.path as op"
   ]
  },
  {
   "cell_type": "code",
   "execution_count": null,
   "id": "70ffedd8-d7c6-46d4-9c5d-ac6c20f1bc02",
   "metadata": {},
   "outputs": [],
   "source": [
    "config = HDRconfig()"
   ]
  },
  {
   "cell_type": "code",
   "execution_count": null,
   "id": "1366b9e7",
   "metadata": {},
   "outputs": [],
   "source": [
    "sdss_agn = Table.read(op.join( config.host_dir, 'imaging', 'catalogs', 'sdss-dex-agn_hdr4.fits'))\n",
    "agn_coords = SkyCoord(ra = sdss_agn['RA'], dec= sdss_agn['DEC'], unit='deg')"
   ]
  },
  {
   "cell_type": "code",
   "execution_count": null,
   "id": "c48d70d2",
   "metadata": {},
   "outputs": [],
   "source": [
    "from multiprocessing import Pool"
   ]
  },
  {
   "cell_type": "code",
   "execution_count": null,
   "id": "76177179",
   "metadata": {},
   "outputs": [],
   "source": [
    "def get_fiber_table(coord):\n",
    "    F = FiberIndex()\n",
    "    tab = F.query_region(coord, radius=3.5*u.arcsec)\n",
    "    F.close()\n",
    "    return tab"
   ]
  },
  {
   "cell_type": "code",
   "execution_count": null,
   "id": "9aafe0ab",
   "metadata": {},
   "outputs": [],
   "source": [
    "t0 = time.time()\n",
    "p = Pool()\n",
    "res = p.map(get_fiber_table, agn_coords)\n",
    "p.close()\n",
    "t1 = time.time()\n",
    "\n",
    "print((t1-t0)/60)"
   ]
  },
  {
   "cell_type": "code",
   "execution_count": null,
   "id": "3c92700b",
   "metadata": {},
   "outputs": [],
   "source": [
    "res[0]"
   ]
  },
  {
   "cell_type": "markdown",
   "id": "568d1cc0",
   "metadata": {},
   "source": [
    "The output from multiprocessing will be a list of the astropy table object printed above for each coordinate. Loop through the results and do what you like with the data or change the function to do it faster with multiprocessing. For example this will go through the AGN catalog and return a list of shotid's for a given coordinate and will provide the net 'flag' value for that aperture"
   ]
  },
  {
   "cell_type": "code",
   "execution_count": null,
   "id": "e4052994",
   "metadata": {},
   "outputs": [],
   "source": [
    "def get_nobs(coord):\n",
    "    \n",
    "    F = FiberIndex()\n",
    "    fib_table = F.query_region(coord, radius=3.5*u.arcsec)\n",
    "    F.close()\n",
    "    \n",
    "    # check how many fibers in aperture for each shotid\n",
    "    shotlist, nfib_list = np.unique(fib_table['shotid'], return_counts=True)\n",
    "    n_obs = np.size(shotlist)\n",
    "    \n",
    "    flag_list = []\n",
    "    for shot in shotlist:\n",
    "        flag_list.append( int(np.all(fib_table['flag'][fib_table['shotid']==shot])) )\n",
    "    n_obs_good = np.sum(flag_list)\n",
    "    \n",
    "    return n_obs, n_obs_good, list(shotlist), list(nfib_list), list(flag_list)"
   ]
  },
  {
   "cell_type": "code",
   "execution_count": null,
   "id": "dffd8510",
   "metadata": {},
   "outputs": [],
   "source": [
    "get_nobs(agn_coords[10])"
   ]
  },
  {
   "cell_type": "code",
   "execution_count": null,
   "id": "aad2346c",
   "metadata": {},
   "outputs": [],
   "source": [
    "t0 = time.time()\n",
    "p = Pool()\n",
    "res = p.map(get_nobs, agn_coords)\n",
    "p.close()\n",
    "t1 = time.time()\n",
    "\n",
    "print((t1-t0)/60)"
   ]
  },
  {
   "cell_type": "code",
   "execution_count": null,
   "id": "1e26d674",
   "metadata": {},
   "outputs": [],
   "source": [
    "n_obs = []\n",
    "n_obs_good = []\n",
    "shots_for_src = []\n",
    "nfib_for_src = []\n",
    "shotflags = []\n",
    "\n",
    "for r in res:\n",
    "    n_obs.append(r[0])\n",
    "    n_obs_good.append(r[1])\n",
    "    shots_for_src.append(r[2]) \n",
    "    nfib_for_src.append(r[3]) \n",
    "    shotflags.append(r[4])"
   ]
  },
  {
   "cell_type": "code",
   "execution_count": null,
   "id": "2b04dbec",
   "metadata": {},
   "outputs": [],
   "source": [
    "print('{} sources have at least one good observation'.format(np.sum( np.array(n_obs_good) > 0)))"
   ]
  },
  {
   "cell_type": "markdown",
   "id": "53151e8f",
   "metadata": {},
   "source": [
    "# Query a very large catalog by loading the full fibers table. Use astropy search_around_sky for faster querying through kdtree. This is best done on an HPC processor like ls6 (please email Karl to get an allocation if desired)\n"
   ]
  },
  {
   "cell_type": "code",
   "execution_count": null,
   "id": "c874c753",
   "metadata": {},
   "outputs": [],
   "source": [
    "#https://docs.astropy.org/en/stable/coordinates/matchsep.html#searching-around-coordinates"
   ]
  },
  {
   "cell_type": "code",
   "execution_count": null,
   "id": "34e02642-b044-4150-b6b8-a15f99954433",
   "metadata": {},
   "outputs": [],
   "source": [
    "sdss_agn = Table.read(op.join( config.host_dir,'imaging','catalogs','DR16Q_v4.fits'))"
   ]
  },
  {
   "cell_type": "code",
   "execution_count": null,
   "id": "02d529dd",
   "metadata": {},
   "outputs": [],
   "source": [
    "agn_coords = SkyCoord(ra = sdss_agn['RA'], dec= sdss_agn['DEC'], unit='deg')"
   ]
  },
  {
   "cell_type": "code",
   "execution_count": null,
   "id": "e16693b9",
   "metadata": {},
   "outputs": [],
   "source": [
    "# If you set load_fiber_table=True, the full fiber table will load. This takes some time,\n",
    "# takes loads of memory. Best done on ls6 and takes 20-30 minutes\n",
    "F = FiberIndex(load_fiber_table=True)"
   ]
  },
  {
   "cell_type": "code",
   "execution_count": null,
   "id": "39e8361e",
   "metadata": {},
   "outputs": [],
   "source": [
    "# The full array of fiber coordinates are here:\n",
    "F.coords"
   ]
  },
  {
   "cell_type": "code",
   "execution_count": null,
   "id": "5af02913-4b26-4468-a24e-1918345cbb5e",
   "metadata": {},
   "outputs": [],
   "source": [
    "F.mask_table"
   ]
  },
  {
   "cell_type": "code",
   "execution_count": null,
   "id": "6a2d38f3",
   "metadata": {},
   "outputs": [],
   "source": [
    "sel_good = np.isfinite(F.coords.ra.value) & F.mask_table['flag'] # some values are NaN so this gets rid of them"
   ]
  },
  {
   "cell_type": "code",
   "execution_count": null,
   "id": "d8cb8b59",
   "metadata": {},
   "outputs": [],
   "source": [
    "t0 = time.time()\n",
    "idxagn, idxF, sep2d, dist3d = F.coords[sel_good].search_around_sky(agn_coords, seplimit=1.0*u.arcsec)\n",
    "t1 = time.time()\n",
    "print(t1-t0)"
   ]
  },
  {
   "cell_type": "code",
   "execution_count": null,
   "id": "971e1a01",
   "metadata": {},
   "outputs": [],
   "source": [
    "# save table for AGN that have at least one fiber coverage.write\n",
    "sdss_agn[np.unique(idxagn)].write('sdss-dex-agn_hdr4.fits', overwrite=True)"
   ]
  },
  {
   "cell_type": "code",
   "execution_count": null,
   "id": "5102e833",
   "metadata": {},
   "outputs": [],
   "source": [
    "# Combined the tables with hstack"
   ]
  },
  {
   "cell_type": "code",
   "execution_count": null,
   "id": "7c583932",
   "metadata": {},
   "outputs": [],
   "source": [
    "matched_fiber_table = hstack([sdss_agn[idxagn], F.fiber_table[sel_good][idxF]])"
   ]
  },
  {
   "cell_type": "code",
   "execution_count": null,
   "id": "148bbb7d",
   "metadata": {},
   "outputs": [],
   "source": [
    "import matplotlib.pyplot as plt"
   ]
  },
  {
   "cell_type": "code",
   "execution_count": null,
   "id": "822b2a90",
   "metadata": {},
   "outputs": [],
   "source": [
    "#quick check to make sure coordinates matched\n",
    "plt.scatter( matched_fiber_table['RA'], matched_fiber_table['ra'])"
   ]
  },
  {
   "cell_type": "code",
   "execution_count": null,
   "id": "472938a9",
   "metadata": {},
   "outputs": [],
   "source": [
    "plt.scatter( matched_fiber_table['DEC'], matched_fiber_table['dec'])"
   ]
  }
 ],
 "metadata": {
  "kernelspec": {
   "display_name": "Python 3 (ipykernel)",
   "language": "python",
   "name": "python3"
  },
  "language_info": {
   "codemirror_mode": {
    "name": "ipython",
    "version": 3
   },
   "file_extension": ".py",
   "mimetype": "text/x-python",
   "name": "python",
   "nbconvert_exporter": "python",
   "pygments_lexer": "ipython3",
   "version": "3.9.7"
  },
  "widgets": {
   "application/vnd.jupyter.widget-state+json": {
    "state": {},
    "version_major": 2,
    "version_minor": 0
   }
  }
 },
 "nbformat": 4,
 "nbformat_minor": 5
}
