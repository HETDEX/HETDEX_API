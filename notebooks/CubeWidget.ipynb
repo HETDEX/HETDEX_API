{
 "cells": [
  {
   "cell_type": "markdown",
   "metadata": {},
   "source": [
    "## CubeWidget"
   ]
  },
  {
   "cell_type": "markdown",
   "metadata": {},
   "source": [
    "The CubeWidget provides a visual interface to a Fits datacube using ginga/astrowidgets/ipywidgets. It is developed to function on any FITS cube in which the 1st data axis represents the spectral dim provided the WCS is included. Click on any spatial region to see the spectrum at that pixel. Use the play button to scan through wavelength space or the slider to get a specfic wavelength."
   ]
  },
  {
   "cell_type": "code",
   "execution_count": 1,
   "metadata": {},
   "outputs": [],
   "source": [
    "from astropy import units as u\n",
    "\n",
    "from hetdex_tools.interpolate import make_data_cube\n",
    "from hetdex_api.cube_widget import CubeWidget"
   ]
  },
  {
   "cell_type": "code",
   "execution_count": 2,
   "metadata": {},
   "outputs": [
    {
     "data": {
      "application/javascript": [
       "IPython.OutputArea.prototype._should_scroll = function(lines) {\n",
       "    return false;\n",
       "}\n"
      ],
      "text/plain": [
       "<IPython.core.display.Javascript object>"
      ]
     },
     "metadata": {},
     "output_type": "display_data"
    }
   ],
   "source": [
    "%%javascript\n",
    "IPython.OutputArea.prototype._should_scroll = function(lines) {\n",
    "    return false;\n",
    "}"
   ]
  },
  {
   "cell_type": "code",
   "execution_count": 3,
   "metadata": {},
   "outputs": [],
   "source": [
    "hdu = make_data_cube(detectid=2100000335, imsize=40.*u.arcsec)\n",
    "#hdu = make_data_cube(detectid=2100000335, subcont=False, dwave=10, imsize=40.*u.arcsec, pixscale=0.5*u.arcsec)"
   ]
  },
  {
   "cell_type": "code",
   "execution_count": 4,
   "metadata": {
    "scrolled": false
   },
   "outputs": [
    {
     "data": {
      "application/vnd.jupyter.widget-view+json": {
       "model_id": "0fcac39132bf449da20126fc6999e6d0",
       "version_major": 2,
       "version_minor": 0
      },
      "text/plain": [
       "HBox(children=(VBox(children=(HBox(children=(IntSlider(value=3470, continuous_update=False, description='wave'…"
      ]
     },
     "metadata": {},
     "output_type": "display_data"
    }
   ],
   "source": [
    "w = CubeWidget(hdu=hdu)"
   ]
  },
  {
   "cell_type": "markdown",
   "metadata": {},
   "source": [
    "## To save the datacube:"
   ]
  },
  {
   "cell_type": "code",
   "execution_count": 5,
   "metadata": {},
   "outputs": [],
   "source": [
    "hdu.writeto('data_cube.fits')"
   ]
  },
  {
   "cell_type": "markdown",
   "metadata": {},
   "source": [
    "## For Data Cube Options:"
   ]
  },
  {
   "cell_type": "code",
   "execution_count": 24,
   "metadata": {},
   "outputs": [
    {
     "name": "stdout",
     "output_type": "stream",
     "text": [
      "Help on function make_data_cube in module hetdex_tools.interpolate:\n",
      "\n",
      "make_data_cube(detectid=None, coords=None, shotid=None, pixscale=<Quantity 0.25 arcsec>, imsize=<Quantity 30. arcsec>, wave_range=[3470, 5540], dwave=2.0, dcont=50.0, convolve_image=True, ffsky=True, subcont=False)\n",
      "    Function to make a datacube from either a detectid or from a\n",
      "    coordinate/shotid combination.\n",
      "    \n",
      "    Paramaters\n",
      "    ----------\n",
      "    detectid: int\n",
      "        detectid from the continuum or lines catalog. Default is\n",
      "        None. Provide a coords/shotid combo if this isn't given\n",
      "    coords: SkyCoords object\n",
      "        coordinates to define the centre of the data cube\n",
      "    pixscale: astropy angle quantity\n",
      "        plate scale\n",
      "    imsize: astropy angle quantity\n",
      "        spatial length of cube (equal dims is only option)\n",
      "    wave_range: list\n",
      "        start and stop value for the wavelength range in Angstrom\n",
      "    dwave\n",
      "        step in wavelength range in Angstrom\n",
      "    convolve_image: bool\n",
      "         option to convolve image with shotid seeing\n",
      "    ffsky: bool\n",
      "        option to use full frame calibrated fibers. Default is\n",
      "        True.\n",
      "    subcont: bool\n",
      "        option to subtract continuum. Default is False. This\n",
      "        will measure the continuum 50AA below and above the\n",
      "        input wave_range\n",
      "    dcont\n",
      "        width in angstrom to measure the continuum. Default is to\n",
      "        measure 50 AA wide regions on either side of the line  \n",
      "    \n",
      "    Returns\n",
      "    -------\n",
      "    hdu: PrimaryHDU object\n",
      "        the data cube 3D array and associated 3d header\n",
      "        Units are '10^-17 erg cm-2 s-1 per spaxel'\n",
      "    \n",
      "    Examples\n",
      "    --------\n",
      "    \n",
      "    Can either pass in a detectid:\n",
      "    \n",
      "    >>> detectid_obj=2101602788\n",
      "    >>> hdu = make_data_cube( detectid=detectid_obj)\n",
      "    >>> hdu.writeto( str(detectid_obj) + '.fits', overwrite=True)\n",
      "    \n",
      "    or can put in an SkyCoord object:\n",
      "    \n",
      "    >>> star_coords = SkyCoord(9.625181, -0.043587, unit='deg')\n",
      "    >>> hdu = make_data_cube( coords=star_coords[0], shotid=20171016108, dwave=2.0)\n",
      "    >>> hdu.writeto( 'star.fits', overwrite=True)\n",
      "\n"
     ]
    }
   ],
   "source": [
    "help(make_data_cube)"
   ]
  }
 ],
 "metadata": {
  "kernelspec": {
   "display_name": "Python 3",
   "language": "python",
   "name": "python3"
  },
  "language_info": {
   "codemirror_mode": {
    "name": "ipython",
    "version": 3
   },
   "file_extension": ".py",
   "mimetype": "text/x-python",
   "name": "python",
   "nbconvert_exporter": "python",
   "pygments_lexer": "ipython3",
   "version": "3.8.6"
  }
 },
 "nbformat": 4,
 "nbformat_minor": 2
}
