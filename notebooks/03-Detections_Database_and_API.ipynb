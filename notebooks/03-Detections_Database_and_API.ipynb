{
 "cells": [
  {
   "cell_type": "markdown",
   "metadata": {},
   "source": [
    "03 - Detections Database and API\n",
    "======="
   ]
  },
  {
   "cell_type": "markdown",
   "metadata": {},
   "source": [
    "This notebook demonstrates how to access the HDF5 container for the HETDEX line detections database through the API. Querying of the database through an interactive GUI follows in Notebook 11 - Querying Detections GUI. This database is a catalog of line emission detections and their associated 1D, aperture summed, psf-weighted spectra. There are three tables contained within this HDF5 file: \n",
    "\n",
    "1. Detections - this is the main database of line detection sources. It provides the position and central wavelength of each detection and corresponding line fluxes. A source detection corresponds to an emission line so it is possible to have multiple line detections at different wavelengths for a single source. There can also be multiple observations of the same line if it has been observed in multiple shots or if it is associated with a large source. \n",
    "\n",
    "2. Fibers - for each source detection, this table lists information about each fiber used to extract the flux measurment and weighted spectrum. This allows a user to return to the processed data products (ie. the shot HDF5 files) to investigate the source further.\n",
    "\n",
    "3. Spectra - for each source, this table contains arrays of wavelength and 1D flux-weighted aperture summed spectral data and corresponding errors. Non-calibrated spectra is also provided in counts\n"
   ]
  },
  {
   "cell_type": "code",
   "execution_count": 1,
   "metadata": {},
   "outputs": [],
   "source": [
    "%matplotlib inline\n",
    "import sys\n",
    "import os\n",
    "import os.path\n",
    "import subprocess\n",
    "import numpy as np\n",
    "import tables as tb\n",
    "import matplotlib.pyplot as plt\n",
    "\n",
    "from astropy.io import ascii\n",
    "from astropy.table import Table, Column\n",
    "from astropy.coordinates import SkyCoord\n",
    "import astropy.units as u\n",
    "\n",
    "from hetdex_api import config\n",
    "from hetdex_api.detections import Detections\n",
    "from hetdex_api.elixer_widgets import *"
   ]
  },
  {
   "cell_type": "markdown",
   "metadata": {},
   "source": [
    "### Initiate the API"
   ]
  },
  {
   "cell_type": "markdown",
   "metadata": {},
   "source": [
    "When you call `Detections()` you intiate the Detections Class object which takes columns from the Detections Table in the HDF5 file and adds them as array attributes to the Detections class object. It also converts ra/dec into astropy skycoords in the `coords` attribute, calculates an approximate gband magnitude using the 1D spectra and adds elixer probabilities for each detection. If you append the call with `refine()` then a number of downselections are applied to the database to return a more robust list of line emitters. `refine()` removes spurious detections found in bad amps or at the edges of the CCD or in shots that are not deemed appropriate for HETDEX analysis. It can also remove all bright objects above a specific gband magnitude if desired (default to None if no option is given)."
   ]
  },
  {
   "cell_type": "code",
   "execution_count": 2,
   "metadata": {},
   "outputs": [],
   "source": [
    "detects = Detections('hdr1').refine()\n",
    "# detects = Detections('hdr1').refine(gmagcut=22)\n",
    "## or if you want to open the continuum source catalog:\n",
    "## detects = Detections('cont_sources')"
   ]
  },
  {
   "cell_type": "markdown",
   "metadata": {},
   "source": [
    "Here are a list of attributes built into the Detections class:"
   ]
  },
  {
   "cell_type": "code",
   "execution_count": 3,
   "metadata": {},
   "outputs": [
    {
     "data": {
      "text/plain": [
       "['linewidth_err',\n",
       " 'sn',\n",
       " 'sn_err',\n",
       " 'z_prelim',\n",
       " 'chi2_err',\n",
       " 'date',\n",
       " 'mag_match',\n",
       " 'obsid',\n",
       " 'shotid',\n",
       " 'linewidth',\n",
       " 'fwhm',\n",
       " 'plae_poii_cat',\n",
       " 'dec_match',\n",
       " 'ifuslot',\n",
       " 'n_ifu',\n",
       " 'aperture_filter',\n",
       " 'flux_err',\n",
       " 'filename',\n",
       " 'plae_poii_hetdex',\n",
       " 'inputid',\n",
       " 'ra_match',\n",
       " 'coords',\n",
       " 'flux_limit',\n",
       " 'detectid',\n",
       " 'ra',\n",
       " 'detectid_elix',\n",
       " 'dist_match',\n",
       " 'chi2',\n",
       " 'vis_class',\n",
       " 'aperture_mag',\n",
       " 'wave_err',\n",
       " 'ifuid',\n",
       " 'detectname',\n",
       " 'wave',\n",
       " 'gmag',\n",
       " 'amp',\n",
       " 'cat_filter',\n",
       " 'x_raw',\n",
       " 'hdfile',\n",
       " 'specid',\n",
       " 'continuum',\n",
       " 'hdfile_elix',\n",
       " 'multiframe',\n",
       " 'plae_poii_aperture',\n",
       " 'y_raw',\n",
       " 'throughput',\n",
       " 'continuum_err',\n",
       " 'flux',\n",
       " 'field',\n",
       " 'fibnum',\n",
       " 'dec']"
      ]
     },
     "execution_count": 3,
     "metadata": {},
     "output_type": "execute_result"
    }
   ],
   "source": [
    "detects.__dict__.keys()"
   ]
  },
  {
   "cell_type": "markdown",
   "metadata": {},
   "source": [
    "Most of these columns come directly from the Detections table in the detect_hdr1.h5 file. You can find information for each column in the HETDEX DR1 Document (/work/03946/hetdex/hdr1/doc/Hetdex_Data_Release_1.pdf). Some values including field (survey.field), fwhm (guider seeing/survey.fwhm_moffat), throughput (survey.response_4540), flux_limit (survey.fluxlimit_4550), n_ifu (survey.n_ifu) are copied in from the Survey HDF5 file for additional analysis.  We also attach probabilities for a source to be an LAE compared to an OII emitter (plae_poii) calculated by ELiXer using the VIRUS continuum ('plae_poii_hetdex'), a matched catalog magnitude ('plae_poii_cat'), or from a magnitude measured from associated optical imaging ('plae_poii_aperture')."
   ]
  },
  {
   "cell_type": "markdown",
   "metadata": {},
   "source": [
    "# Querying by sky coordinates"
   ]
  },
  {
   "cell_type": "markdown",
   "metadata": {},
   "source": [
    "Upon initialization of the Detections Class, sky coordinates are converted to an Astropy sky coordinates array to allow for easy querying:"
   ]
  },
  {
   "cell_type": "code",
   "execution_count": 4,
   "metadata": {},
   "outputs": [
    {
     "data": {
      "text/plain": [
       "<SkyCoord (ICRS): (ra, dec) in deg\n",
       "    [(149.77184,  1.948503), (149.78958,  1.900873),\n",
       "     (149.84552,  1.935277), ..., (189.64575, 50.83938 ),\n",
       "     (170.32608, 51.549652), (170.32336, 51.58739 )]>"
      ]
     },
     "execution_count": 4,
     "metadata": {},
     "output_type": "execute_result"
    }
   ],
   "source": [
    "detects.coords"
   ]
  },
  {
   "cell_type": "markdown",
   "metadata": {},
   "source": [
    "To query a region of the sky, you can use the Detections function `query_by_coords` which takes an astropy coords objects as an argument as well as a radius represented by an astropy quantity. It returns a boolean mask to index the Detections class object."
   ]
  },
  {
   "cell_type": "code",
   "execution_count": 5,
   "metadata": {},
   "outputs": [],
   "source": [
    "obj_coords = SkyCoord(199.35704 * u.deg, 51.06718 * u.deg, frame='icrs')"
   ]
  },
  {
   "cell_type": "code",
   "execution_count": 6,
   "metadata": {},
   "outputs": [],
   "source": [
    "maskregion = detects.query_by_coords(obj_coords, 10. * u.arcsec)"
   ]
  },
  {
   "cell_type": "markdown",
   "metadata": {},
   "source": [
    "The Detections class allows slicing so that a boolean mask applied to the class will slice each array attribute accordingly:"
   ]
  },
  {
   "cell_type": "code",
   "execution_count": 7,
   "metadata": {},
   "outputs": [
    {
     "name": "stdout",
     "output_type": "stream",
     "text": [
      "12\n"
     ]
    }
   ],
   "source": [
    "detects_in_region = detects[maskregion]\n",
    "print(np.size(detects_in_region.detectid))"
   ]
  },
  {
   "cell_type": "markdown",
   "metadata": {},
   "source": [
    "For this example, we have found 12 detections in this region, we can examine these via the ELiXer reports using the `ElixerWidget()` class from `elixer_widgets.py`. To do so we need to save the detectid list to examine in the widget."
   ]
  },
  {
   "cell_type": "code",
   "execution_count": 8,
   "metadata": {},
   "outputs": [],
   "source": [
    "np.savetxt('detects_obj.txt', detects_in_region.detectid)"
   ]
  },
  {
   "cell_type": "markdown",
   "metadata": {},
   "source": [
    "You can the run the elixer_widget to scan through the ELiXer reports for this object. Use the \"Next DetectID\" button to scan the list. The \"DetectID\" text widget will give access to all reports interactively and scans in increasing single digit increments, but the green Next DetectID button will go in order of the ingest list from 'detects_obj.txt'."
   ]
  },
  {
   "cell_type": "code",
   "execution_count": 9,
   "metadata": {},
   "outputs": [
    {
     "data": {
      "application/vnd.jupyter.widget-view+json": {
       "model_id": "2c761cc20a4e4ce7ba9d51399e0920f6",
       "version_major": 2,
       "version_minor": 0
      },
      "text/plain": [
       "aW50ZXJhY3RpdmUoY2hpbGRyZW49KEJvdW5kZWRJbnRUZXh0KHZhbHVlPTEwMDAyMDg3NTYsIGRlc2NyaXB0aW9uPXUnRGV0ZWN0SUQ6JywgbWF4PTEwMDA2OTA3OTksIG1pbj0xMDAwMDAwMDDigKY=\n"
      ]
     },
     "metadata": {},
     "output_type": "display_data"
    }
   ],
   "source": [
    "elix_widget = ElixerWidget(detectfile='detects_obj.txt')"
   ]
  },
  {
   "cell_type": "markdown",
   "metadata": {},
   "source": [
    "For more information on using the Elixer Widgets GUI go to Notebook 12. We will discuss team classification efforts there. But for quick investigation its helpful to pull the GUI up to just scan through a detection list."
   ]
  },
  {
   "cell_type": "markdown",
   "metadata": {},
   "source": [
    "## Accessing 1D Spectra"
   ]
  },
  {
   "cell_type": "markdown",
   "metadata": {},
   "source": [
    "Spectra in counts and flux-calibrated units are stored in the Spectra Table of the Detection HDF5 file, it can be accessed directly through the Detections class object which stores the detect HDF5 as an attribute:"
   ]
  },
  {
   "cell_type": "code",
   "execution_count": 10,
   "metadata": {},
   "outputs": [
    {
     "name": "stdout",
     "output_type": "stream",
     "text": [
      "/work/03946/hetdex/hdr1/detect/detect_hdr1.h5 (File) 'HDR1 Detections Database'\n",
      "Last modif.: 'Mon Apr  1 12:39:46 2019'\n",
      "Object Tree: \n",
      "/ (RootGroup) 'HDR1 Detections Database'\n",
      "/Detections (Table(690868,)) 'HETDEX Line Detection Catalog'\n",
      "/Fibers (Table(9397618,)) 'Fiber info for each detection'\n",
      "/Spectra (Table(690797,)) '1D Spectra for each Line Detection'\n",
      "\n"
     ]
    }
   ],
   "source": [
    "print(detects.hdfile)"
   ]
  },
  {
   "cell_type": "code",
   "execution_count": 11,
   "metadata": {},
   "outputs": [],
   "source": [
    "spectra = detects.hdfile.root.Spectra"
   ]
  },
  {
   "cell_type": "markdown",
   "metadata": {},
   "source": [
    "This is a very large table so its not advised to read it in all at once. The columns are:"
   ]
  },
  {
   "cell_type": "code",
   "execution_count": 12,
   "metadata": {},
   "outputs": [
    {
     "data": {
      "text/plain": [
       "/Spectra.cols (Cols), 8 columns\n",
       "  detectid (Column(690797,), int64)\n",
       "  wave1d (Column(690797, 1036), ('<f4', (1036,)))\n",
       "  spec1d (Column(690797, 1036), ('<f4', (1036,)))\n",
       "  spec1d_err (Column(690797, 1036), ('<f4', (1036,)))\n",
       "  counts1d (Column(690797, 1036), ('<f4', (1036,)))\n",
       "  counts1d_err (Column(690797, 1036), ('<f4', (1036,)))\n",
       "  apsum_counts (Column(690797, 1036), ('<f4', (1036,)))\n",
       "  apsum_counts_err (Column(690797, 1036), ('<f4', (1036,)))"
      ]
     },
     "execution_count": 12,
     "metadata": {},
     "output_type": "execute_result"
    }
   ],
   "source": [
    "spectra.cols"
   ]
  },
  {
   "cell_type": "markdown",
   "metadata": {},
   "source": [
    "Flux calibrated, psf-weighted 1D spectra can be retrieved via the API for a single detectid through the function `get_spectrum`:"
   ]
  },
  {
   "cell_type": "code",
   "execution_count": 13,
   "metadata": {},
   "outputs": [],
   "source": [
    "detectid_nice_lae = 1000208773\n",
    "spec_table = detects.get_spectrum(detectid_nice_lae) "
   ]
  },
  {
   "cell_type": "code",
   "execution_count": 14,
   "metadata": {},
   "outputs": [
    {
     "data": {
      "image/png": "[encoded data removed]",
      "text/plain": [
       "<Figure size 576x432 with 1 Axes>"
      ]
     },
     "metadata": {
      "needs_background": "light"
     },
     "output_type": "display_data"
    }
   ],
   "source": [
    "detects.plot_spectrum(detectid_nice_lae)"
   ]
  },
  {
   "cell_type": "markdown",
   "metadata": {},
   "source": [
    "or if we want to zoom in on the emission line:"
   ]
  },
  {
   "cell_type": "code",
   "execution_count": 15,
   "metadata": {},
   "outputs": [
    {
     "data": {
      "image/png": "[encoded data removed]",
      "text/plain": [
       "<Figure size 576x432 with 1 Axes>"
      ]
     },
     "metadata": {
      "needs_background": "light"
     },
     "output_type": "display_data"
    }
   ],
   "source": [
    "cw = detects.wave[detects.detectid == detectid_nice_lae]\n",
    "detects.plot_spectrum(detectid_nice_lae, xlim=(cw-50, cw+50))"
   ]
  },
  {
   "cell_type": "markdown",
   "metadata": {},
   "source": [
    "You can also save the spectrum to a text file. It is automatically saved as spec_##detectid##.dat, but you can also use the argument `outfile`"
   ]
  },
  {
   "cell_type": "code",
   "execution_count": 16,
   "metadata": {},
   "outputs": [],
   "source": [
    "detects.save_spectrum(detectid_nice_lae)\n",
    "# or\n",
    "# detects.save_spectrum(detectid_nice_lae, outfile='tmp.txt')"
   ]
  },
  {
   "cell_type": "markdown",
   "metadata": {},
   "source": [
    "## Example: Finding average number of sources per IFU "
   ]
  },
  {
   "cell_type": "markdown",
   "metadata": {},
   "source": [
    "To reach our survey goal we need to obtain a critical number of detections per IFU on average. Here we show how the number of detections based on the signal-to-noise requirement. "
   ]
  },
  {
   "cell_type": "code",
   "execution_count": 17,
   "metadata": {},
   "outputs": [],
   "source": [
    "ndets_ifu = []\n",
    "\n",
    "sn_array = np.arange(start = 5, stop = 10, step = 1)\n",
    "\n",
    "# only choose detections that lied on good shots\n",
    "\n",
    "for sn_i in sn_array:\n",
    "    sel = (detects.sn > sn_i) * (detects.n_ifu > 0) * (detects.chi2 < 3) * (detects.chi2 >0.1)\n",
    "    detifu = 1./(detects.n_ifu[sel])\n",
    "    ndets_ifu.append(np.sum(detifu)/np.size(np.unique(detects.shotid)))\n",
    "    \n",
    "ndets_ifult2 = []\n",
    "\n",
    "for sn_i in sn_array:\n",
    "    sel = (detects.sn > sn_i) * (detects.n_ifu > 0) * (detects.chi2 < 2) * (detects.chi2 >0.1)\n",
    "    detifu = 1./(detects.n_ifu[sel])\n",
    "    ndets_ifult2.append(np.sum(detifu)/np.size(np.unique(detects.shotid)))\n",
    "    \n",
    "# only choose detections that lied on good shots\n",
    "sel = (detects.throughput > 0.095) * (detects.fwhm < 2.5)\n",
    "detects_good_shots = detects[sel]\n",
    "\n",
    "ndets_ifu_gs =[]\n",
    "for sn_i in sn_array:\n",
    "    sel = (detects_good_shots.sn > sn_i) * (detects_good_shots.n_ifu > 0) * (detects_good_shots.chi2 < 3) * (detects_good_shots.chi2 >0.1)\n",
    "    detifu = 1./(detects_good_shots.n_ifu[sel])\n",
    "    ndets_ifu_gs.append(np.sum(detifu)/np.size(np.unique(detects_good_shots.shotid)))\n",
    "    \n",
    "ndets_ifu_gs_lt2 = []\n",
    "for sn_i in sn_array:\n",
    "    sel = (detects_good_shots.sn > sn_i) * (detects_good_shots.n_ifu > 0) * (detects_good_shots.chi2 < 2) * (detects_good_shots.chi2 >0.1)\n",
    "    detifu = 1./(detects_good_shots.n_ifu[sel])\n",
    "    ndets_ifu_gs_lt2.append(np.sum(detifu)/np.size(np.unique(detects_good_shots.shotid)))\n",
    "    "
   ]
  },
  {
   "cell_type": "code",
   "execution_count": 18,
   "metadata": {},
   "outputs": [
    {
     "data": {
      "image/png": "[encoded data removed]",
      "text/plain": [
       "<Figure size 648x648 with 1 Axes>"
      ]
     },
     "metadata": {
      "needs_background": "light"
     },
     "output_type": "display_data"
    }
   ],
   "source": [
    "plt.rcParams.update({'font.size': 18})\n",
    "plt.figure(figsize=(9,9))\n",
    "plt.scatter(sn_array, ndets_ifu, label='Chi2 < 3')\n",
    "plt.scatter(sn_array, ndets_ifu_gs, label='Chi2 < 3, tp > 0.095, fwhm < 2.5')\n",
    "plt.scatter(sn_array, ndets_ifult2, label='Chi2 < 2')\n",
    "plt.scatter(sn_array, ndets_ifu_gs_lt2, label='Chi2 < 2, tp > 0.095, fwhm < 2.5')\n",
    "plt.xlabel('SN')\n",
    "plt.ylabel('N detections per IFU')\n",
    "plt.legend(fontsize='small')\n",
    "plt.savefig('ndetsperifu_vs_sn.png')"
   ]
  },
  {
   "cell_type": "markdown",
   "metadata": {},
   "source": [
    "## Saving to a file"
   ]
  },
  {
   "cell_type": "markdown",
   "metadata": {},
   "source": [
    "If you want to just save a subset of columns for a subset of detections, here's an example you to work with:"
   ]
  },
  {
   "cell_type": "code",
   "execution_count": 19,
   "metadata": {},
   "outputs": [],
   "source": [
    "table = Table([detects.detectid, detects.ra, detects.dec, detects.wave, detects.sn, detects.chi2, detects.shotid, detects.n_ifu, detects.fwhm, detects.throughput])"
   ]
  },
  {
   "cell_type": "code",
   "execution_count": 20,
   "metadata": {},
   "outputs": [],
   "source": [
    "ascii.write(table, 'detects_apr25.tab', names=['detectid', 'ra', 'dec', 'wave', 'sn', 'chi2','shotid','n_ifu','fwhm','throughput'])"
   ]
  },
  {
   "cell_type": "markdown",
   "metadata": {},
   "source": [
    "or you can use the function return_astropy_table to get all columns. Here's an example for the subset of objects found above in our coordinate search. But note that this only returns the columns from the original Detections table from the H5 file."
   ]
  },
  {
   "cell_type": "code",
   "execution_count": 21,
   "metadata": {},
   "outputs": [],
   "source": [
    "table2 = detects_in_region.return_astropy_table()"
   ]
  },
  {
   "cell_type": "code",
   "execution_count": 22,
   "metadata": {},
   "outputs": [
    {
     "data": {
      "text/html": [
       "&lt;Table length=12&gt;\n",
       "<table id=\"table47718321388816\" class=\"table-striped table-bordered table-condensed\">\n",
       "<thead><tr><th>detectid</th><th>detectname</th><th>inputid</th><th>date</th><th>obsid</th><th>ra</th><th>dec</th><th>wave</th><th>wave_err</th><th>flux</th><th>flux_err</th><th>linewidth</th><th>linewidth_err</th><th>continuum</th><th>continuum_err</th><th>sn</th><th>sn_err</th><th>chi2</th><th>chi2_err</th><th>multiframe</th><th>fibnum</th><th>x_raw</th><th>y_raw</th><th>amp</th><th>ifuid</th><th>ifuslot</th><th>shotid</th><th>specid</th></tr></thead>\n",
       "<thead><tr><th>int64</th><th>str40</th><th>str32</th><th>int32</th><th>int32</th><th>float32</th><th>float32</th><th>float32</th><th>float32</th><th>float32</th><th>float32</th><th>float32</th><th>float32</th><th>float32</th><th>float32</th><th>float32</th><th>float32</th><th>float32</th><th>float32</th><th>str20</th><th>int32</th><th>int32</th><th>int32</th><th>str2</th><th>str3</th><th>str3</th><th>int64</th><th>str3</th></tr></thead>\n",
       "<tr><td>1000208756</td><td>HETDEX J131725.18+510357.00w+3664.71</td><td>20180313v011_150</td><td>20180313</td><td>11</td><td>199.3549</td><td>51.065834</td><td>3664.71</td><td>0.92</td><td>26.3</td><td>5.49</td><td>4.58</td><td>0.98</td><td>-0.46</td><td>0.21</td><td>6.66</td><td>1.05</td><td>1.01</td><td>0.2</td><td>multi_025_076_032_RU</td><td>15</td><td>94</td><td>146</td><td>RU</td><td>032</td><td>076</td><td>20180313011</td><td>025</td></tr>\n",
       "<tr><td>1000208773</td><td>HETDEX J131725.69+510401.85w+3836.23</td><td>20180313v011_20</td><td>20180313</td><td>11</td><td>199.35704</td><td>51.06718</td><td>3836.23</td><td>0.39</td><td>50.79</td><td>4.44</td><td>4.36</td><td>0.4</td><td>0.33</td><td>0.14</td><td>13.94</td><td>1.04</td><td>1.95</td><td>0.2</td><td>multi_025_076_032_RU</td><td>32</td><td>178</td><td>299</td><td>RU</td><td>032</td><td>076</td><td>20180313011</td><td>025</td></tr>\n",
       "<tr><td>1000208774</td><td>HETDEX J131726.15+510400.41w+3738.63</td><td>20180313v011_200</td><td>20180313</td><td>11</td><td>199.35896</td><td>51.06678</td><td>3738.63</td><td>0.68</td><td>18.54</td><td>3.97</td><td>2.96</td><td>0.69</td><td>-0.55</td><td>0.15</td><td>5.74</td><td>1.0</td><td>2.19</td><td>0.2</td><td>multi_025_076_032_RU</td><td>11</td><td>132</td><td>111</td><td>RU</td><td>032</td><td>076</td><td>20180313011</td><td>025</td></tr>\n",
       "<tr><td>1000208783</td><td>HETDEX J131725.03+510359.47w+5247.38</td><td>20180313v011_214</td><td>20180313</td><td>11</td><td>199.35431</td><td>51.06652</td><td>5247.38</td><td>0.55</td><td>8.35</td><td>1.67</td><td>2.73</td><td>0.6</td><td>-0.0</td><td>0.08</td><td>6.14</td><td>1.0</td><td>1.21</td><td>0.2</td><td>multi_025_076_032_RU</td><td>35</td><td>893</td><td>324</td><td>RU</td><td>032</td><td>076</td><td>20180313011</td><td>025</td></tr>\n",
       "<tr><td>1000208812</td><td>HETDEX J131725.25+510407.47w+4101.97</td><td>20180313v011_289</td><td>20180313</td><td>11</td><td>199.35521</td><td>51.06874</td><td>4101.97</td><td>0.88</td><td>11.74</td><td>2.86</td><td>3.68</td><td>0.94</td><td>-0.37</td><td>0.13</td><td>5.74</td><td>1.02</td><td>0.7</td><td>0.2</td><td>multi_025_076_032_RU</td><td>91</td><td>307</td><td>835</td><td>RU</td><td>032</td><td>076</td><td>20180313011</td><td>025</td></tr>\n",
       "<tr><td>1000208817</td><td>HETDEX J131725.76+510401.18w+4887.50</td><td>20180313v011_302</td><td>20180313</td><td>11</td><td>199.35733</td><td>51.066994</td><td>4887.5</td><td>1.28</td><td>16.02</td><td>3.32</td><td>6.91</td><td>1.43</td><td>0.07</td><td>0.1</td><td>7.29</td><td>1.13</td><td>1.6</td><td>0.2</td><td>multi_025_076_032_RU</td><td>32</td><td>708</td><td>301</td><td>RU</td><td>032</td><td>076</td><td>20180313011</td><td>025</td></tr>\n",
       "<tr><td>1000208820</td><td>HETDEX J131725.74+510402.17w+4130.58</td><td>20180313v011_311</td><td>20180313</td><td>11</td><td>199.35724</td><td>51.06727</td><td>4130.58</td><td>0.55</td><td>8.34</td><td>1.99</td><td>2.14</td><td>0.58</td><td>-0.22</td><td>0.11</td><td>5.36</td><td>0.98</td><td>1.0</td><td>0.2</td><td>multi_025_076_032_RU</td><td>32</td><td>326</td><td>301</td><td>RU</td><td>032</td><td>076</td><td>20180313011</td><td>025</td></tr>\n",
       "<tr><td>1000208822</td><td>HETDEX J131725.63+510403.75w+3833.27</td><td>20180313v011_316</td><td>20180313</td><td>11</td><td>199.35681</td><td>51.067707</td><td>3833.27</td><td>0.87</td><td>20.04</td><td>4.27</td><td>3.88</td><td>0.88</td><td>0.24</td><td>0.14</td><td>5.89</td><td>1.02</td><td>1.88</td><td>0.2</td><td>multi_025_076_032_RU</td><td>52</td><td>175</td><td>484</td><td>RU</td><td>032</td><td>076</td><td>20180313011</td><td>025</td></tr>\n",
       "<tr><td>1000208853</td><td>HETDEX J131725.18+510403.66w+4232.56</td><td>20180313v011_403</td><td>20180313</td><td>11</td><td>199.35492</td><td>51.067684</td><td>4232.56</td><td>0.72</td><td>8.26</td><td>2.03</td><td>2.84</td><td>0.76</td><td>-0.3</td><td>0.1</td><td>5.14</td><td>0.99</td><td>1.42</td><td>0.2</td><td>multi_025_076_032_RU</td><td>73</td><td>373</td><td>669</td><td>RU</td><td>032</td><td>076</td><td>20180313011</td><td>025</td></tr>\n",
       "<tr><td>1000208877</td><td>HETDEX J131726.24+510408.70w+3754.81</td><td>20180313v011_464</td><td>20180313</td><td>11</td><td>199.35933</td><td>51.069084</td><td>3754.81</td><td>1.42</td><td>25.64</td><td>6.5</td><td>6.05</td><td>1.57</td><td>-0.68</td><td>0.19</td><td>5.92</td><td>1.03</td><td>1.51</td><td>0.2</td><td>multi_025_076_032_RU</td><td>68</td><td>135</td><td>624</td><td>RU</td><td>032</td><td>076</td><td>20180313011</td><td>025</td></tr>\n",
       "<tr><td>1000208898</td><td>HETDEX J131725.05+510401.18w+4000.73</td><td>20180313v011_544</td><td>20180313</td><td>11</td><td>199.35435</td><td>51.066994</td><td>4000.73</td><td>1.2</td><td>12.8</td><td>3.64</td><td>4.32</td><td>1.29</td><td>-0.07</td><td>0.13</td><td>5.16</td><td>0.99</td><td>1.14</td><td>0.2</td><td>multi_025_076_032_RU</td><td>54</td><td>258</td><td>502</td><td>RU</td><td>032</td><td>076</td><td>20180313011</td><td>025</td></tr>\n",
       "<tr><td>1000208910</td><td>HETDEX J131726.32+510406.13w+4813.61</td><td>20180313v011_598</td><td>20180313</td><td>11</td><td>199.35966</td><td>51.06837</td><td>4813.61</td><td>0.49</td><td>6.68</td><td>1.51</td><td>2.01</td><td>0.53</td><td>-0.11</td><td>0.09</td><td>5.66</td><td>1.0</td><td>0.8</td><td>0.2</td><td>multi_025_076_032_RU</td><td>49</td><td>667</td><td>459</td><td>RU</td><td>032</td><td>076</td><td>20180313011</td><td>025</td></tr>\n",
       "</table>"
      ],
      "text/plain": [
       "<Table length=12>\n",
       " detectid               detectname              ...    shotid   specid\n",
       "  int64                   str40                 ...    int64     str3 \n",
       "---------- ------------------------------------ ... ----------- ------\n",
       "1000208756 HETDEX J131725.18+510357.00w+3664.71 ... 20180313011    025\n",
       "1000208773 HETDEX J131725.69+510401.85w+3836.23 ... 20180313011    025\n",
       "1000208774 HETDEX J131726.15+510400.41w+3738.63 ... 20180313011    025\n",
       "1000208783 HETDEX J131725.03+510359.47w+5247.38 ... 20180313011    025\n",
       "1000208812 HETDEX J131725.25+510407.47w+4101.97 ... 20180313011    025\n",
       "1000208817 HETDEX J131725.76+510401.18w+4887.50 ... 20180313011    025\n",
       "1000208820 HETDEX J131725.74+510402.17w+4130.58 ... 20180313011    025\n",
       "1000208822 HETDEX J131725.63+510403.75w+3833.27 ... 20180313011    025\n",
       "1000208853 HETDEX J131725.18+510403.66w+4232.56 ... 20180313011    025\n",
       "1000208877 HETDEX J131726.24+510408.70w+3754.81 ... 20180313011    025\n",
       "1000208898 HETDEX J131725.05+510401.18w+4000.73 ... 20180313011    025\n",
       "1000208910 HETDEX J131726.32+510406.13w+4813.61 ... 20180313011    025"
      ]
     },
     "execution_count": 22,
     "metadata": {},
     "output_type": "execute_result"
    }
   ],
   "source": [
    "table2"
   ]
  },
  {
   "cell_type": "markdown",
   "metadata": {},
   "source": [
    "Then you can save it to a file:"
   ]
  },
  {
   "cell_type": "code",
   "execution_count": 27,
   "metadata": {},
   "outputs": [],
   "source": [
    "ascii.write(table2, 'regiontable.dat')"
   ]
  },
  {
   "cell_type": "markdown",
   "metadata": {},
   "source": [
    "### Here is an example table for Donghui and the Cosmology group to start with:"
   ]
  },
  {
   "cell_type": "code",
   "execution_count": 23,
   "metadata": {},
   "outputs": [],
   "source": [
    "detects = Detections('hdr1').refine(gmagcut=21)\n",
    "sel = (detects.throughput > 0.095) * (detects.fwhm < 2.6) * (detects.sn > 5.5) * (detects.chi2 < 2) \n",
    "detects_sel = detects[sel]\n",
    "table_sel = detects_sel.return_astropy_table()"
   ]
  },
  {
   "cell_type": "code",
   "execution_count": 24,
   "metadata": {},
   "outputs": [],
   "source": [
    "# add some additional columns to help with parsing data:\n",
    "table_sel.add_column(Column(detects_sel.fwhm), index=1, name='fwhm')\n",
    "table_sel.add_column(Column(detects_sel.throughput), index=2, name='throughput')\n",
    "table_sel.add_column(Column(detects_sel.flux_limit), index=3, name='flux_limit')"
   ]
  },
  {
   "cell_type": "code",
   "execution_count": 25,
   "metadata": {},
   "outputs": [],
   "source": [
    "ascii.write(table_sel, 'for_cosmo_swg_may24.dat')"
   ]
  },
  {
   "cell_type": "markdown",
   "metadata": {},
   "source": [
    "## Getting Fiber information for a detection"
   ]
  },
  {
   "cell_type": "markdown",
   "metadata": {},
   "source": [
    "You can find a list of all fibers used in the measurement in the Fibers table. The Fibers table and its associated columns can be accessed similar to the Spectra table by searching for a match in the the detectid column. "
   ]
  },
  {
   "cell_type": "code",
   "execution_count": 26,
   "metadata": {},
   "outputs": [
    {
     "data": {
      "text/plain": [
       "/Fibers.cols (Cols), 20 columns\n",
       "  detectid (Column(9397618,), int64)\n",
       "  ra (Column(9397618,), float32)\n",
       "  dec (Column(9397618,), float32)\n",
       "  multiframe (Column(9397618,), |S20)\n",
       "  fibnum (Column(9397618,), int32)\n",
       "  x_ifu (Column(9397618,), float32)\n",
       "  y_ifu (Column(9397618,), float32)\n",
       "  date (Column(9397618,), int32)\n",
       "  obsid (Column(9397618,), int32)\n",
       "  expnum (Column(9397618,), int32)\n",
       "  distance (Column(9397618,), float32)\n",
       "  timestamp (Column(9397618,), |S17)\n",
       "  wavein (Column(9397618,), float32)\n",
       "  flag (Column(9397618,), int32)\n",
       "  weight (Column(9397618,), float32)\n",
       "  ADC (Column(9397618, 5), ('<f4', (5,)))\n",
       "  amp (Column(9397618,), |S2)\n",
       "  ifuid (Column(9397618,), |S3)\n",
       "  ifuslot (Column(9397618,), |S3)\n",
       "  specid (Column(9397618,), |S3)"
      ]
     },
     "execution_count": 26,
     "metadata": {},
     "output_type": "execute_result"
    }
   ],
   "source": [
    "fibers = detects.hdfile.root.Fibers\n",
    "fibers.cols"
   ]
  },
  {
   "cell_type": "markdown",
   "metadata": {},
   "source": [
    "Access the fiber table for the above source:"
   ]
  },
  {
   "cell_type": "code",
   "execution_count": 27,
   "metadata": {},
   "outputs": [],
   "source": [
    "fiber_table = fibers.read_where(\"detectid == detectid_nice_lae\") "
   ]
  },
  {
   "cell_type": "code",
   "execution_count": 28,
   "metadata": {
    "scrolled": true
   },
   "outputs": [
    {
     "data": {
      "text/html": [
       "&lt;Table length=16&gt;\n",
       "<table id=\"table47718244812048\" class=\"table-striped table-bordered table-condensed\">\n",
       "<thead><tr><th>detectid</th><th>ra</th><th>dec</th><th>multiframe</th><th>fibnum</th><th>x_ifu</th><th>y_ifu</th><th>date</th><th>obsid</th><th>expnum</th><th>distance</th><th>timestamp</th><th>wavein</th><th>flag</th><th>weight</th><th>ADC [5]</th><th>amp</th><th>ifuid</th><th>ifuslot</th><th>specid</th></tr></thead>\n",
       "<thead><tr><th>int64</th><th>float32</th><th>float32</th><th>str20</th><th>int32</th><th>float32</th><th>float32</th><th>int32</th><th>int32</th><th>int32</th><th>float32</th><th>str17</th><th>float32</th><th>int32</th><th>float32</th><th>float32</th><th>str2</th><th>str3</th><th>str3</th><th>str3</th></tr></thead>\n",
       "<tr><td>1000208773</td><td>199.35771</td><td>51.066715</td><td>multi_025_076_032_RU</td><td>12</td><td>-5.08</td><td>24.24</td><td>20180313</td><td>11</td><td>1</td><td>2.26213</td><td>20180313T060419.0</td><td>3836.2</td><td>0</td><td>7.26</td><td>0.844 .. 1.002</td><td>RU</td><td>032</td><td>076</td><td>025</td></tr>\n",
       "<tr><td>1000208773</td><td>199.35664</td><td>51.066483</td><td>multi_025_076_032_RU</td><td>13</td><td>-7.63</td><td>24.24</td><td>20180313</td><td>11</td><td>1</td><td>2.66042</td><td>20180313T060419.0</td><td>3836.2</td><td>0</td><td>3.23</td><td>0.519 .. 1.062</td><td>RU</td><td>032</td><td>076</td><td>025</td></tr>\n",
       "<tr><td>1000208773</td><td>199.35793</td><td>51.067413</td><td>multi_025_076_032_RU</td><td>31</td><td>-3.81</td><td>22.03</td><td>20180313</td><td>11</td><td>1</td><td>2.16476</td><td>20180313T060419.0</td><td>3836.2</td><td>0</td><td>8.71</td><td>1.507 .. 0.916</td><td>RU</td><td>032</td><td>076</td><td>025</td></tr>\n",
       "<tr><td>1000208773</td><td>199.35686</td><td>51.06718</td><td>multi_025_076_032_RU</td><td>32</td><td>-6.36</td><td>22.03</td><td>20180313</td><td>11</td><td>1</td><td>0.410658</td><td>20180313T060419.0</td><td>3836.2</td><td>0</td><td>124.71</td><td>0.893 .. 1.031</td><td>RU</td><td>032</td><td>076</td><td>025</td></tr>\n",
       "<tr><td>1000208773</td><td>199.3558</td><td>51.066948</td><td>multi_025_076_032_RU</td><td>33</td><td>-8.9</td><td>22.03</td><td>20180313</td><td>11</td><td>1</td><td>2.93263</td><td>20180313T060419.0</td><td>3836.2</td><td>0</td><td>1.98</td><td>0.551 .. 1.055</td><td>RU</td><td>032</td><td>076</td><td>025</td></tr>\n",
       "<tr><td>1000208773</td><td>199.35707</td><td>51.067875</td><td>multi_025_076_032_RU</td><td>51</td><td>-5.08</td><td>19.83</td><td>20180313</td><td>11</td><td>1</td><td>2.49492</td><td>20180313T060419.0</td><td>3836.2</td><td>0</td><td>4.5</td><td>1.391 .. 0.913</td><td>RU</td><td>032</td><td>076</td><td>025</td></tr>\n",
       "<tr><td>1000208773</td><td>199.356</td><td>51.067642</td><td>multi_025_076_032_RU</td><td>52</td><td>-7.63</td><td>19.83</td><td>20180313</td><td>11</td><td>1</td><td>2.86114</td><td>20180313T060419.0</td><td>3836.2</td><td>0</td><td>2.15</td><td>0.838 .. 1.0</td><td>RU</td><td>032</td><td>076</td><td>025</td></tr>\n",
       "<tr><td>1000208773</td><td>199.35814</td><td>51.067024</td><td>multi_025_076_032_RU</td><td>12</td><td>-5.08</td><td>24.24</td><td>20180313</td><td>11</td><td>2</td><td>2.54754</td><td>20180313T061147.1</td><td>3836.2</td><td>0</td><td>4.09</td><td>1.212 .. 0.94</td><td>RU</td><td>032</td><td>076</td><td>025</td></tr>\n",
       "<tr><td>1000208773</td><td>199.35707</td><td>51.06679</td><td>multi_025_076_032_RU</td><td>13</td><td>-7.63</td><td>24.24</td><td>20180313</td><td>11</td><td>2</td><td>1.40453</td><td>20180313T061147.1</td><td>3836.2</td><td>0</td><td>37.73</td><td>0.614 .. 1.052</td><td>RU</td><td>032</td><td>076</td><td>025</td></tr>\n",
       "<tr><td>1000208773</td><td>199.35728</td><td>51.067486</td><td>multi_025_076_032_RU</td><td>32</td><td>-6.36</td><td>22.03</td><td>20180313</td><td>11</td><td>2</td><td>1.23127</td><td>20180313T061147.1</td><td>3836.2</td><td>0</td><td>50.24</td><td>1.497 .. 0.932</td><td>RU</td><td>032</td><td>076</td><td>025</td></tr>\n",
       "<tr><td>1000208773</td><td>199.35622</td><td>51.067257</td><td>multi_025_076_032_RU</td><td>33</td><td>-8.9</td><td>22.03</td><td>20180313</td><td>11</td><td>2</td><td>1.8695</td><td>20180313T061147.1</td><td>3836.2</td><td>0</td><td>15.38</td><td>0.634 .. 1.041</td><td>RU</td><td>032</td><td>076</td><td>025</td></tr>\n",
       "<tr><td>1000208773</td><td>199.35728</td><td>51.06641</td><td>multi_025_076_032_RU</td><td>13</td><td>-7.63</td><td>24.24</td><td>20180313</td><td>11</td><td>3</td><td>2.83614</td><td>20180313T061917.4</td><td>3836.2</td><td>0</td><td>2.36</td><td>0.632 .. 1.043</td><td>RU</td><td>032</td><td>076</td><td>025</td></tr>\n",
       "<tr><td>1000208773</td><td>199.3575</td><td>51.067104</td><td>multi_025_076_032_RU</td><td>32</td><td>-6.36</td><td>22.03</td><td>20180313</td><td>11</td><td>3</td><td>1.06531</td><td>20180313T061917.4</td><td>3836.2</td><td>0</td><td>63.73</td><td>1.19 .. 0.969</td><td>RU</td><td>032</td><td>076</td><td>025</td></tr>\n",
       "<tr><td>1000208773</td><td>199.35643</td><td>51.06687</td><td>multi_025_076_032_RU</td><td>33</td><td>-8.9</td><td>22.03</td><td>20180313</td><td>11</td><td>3</td><td>1.76438</td><td>20180313T061917.4</td><td>3836.2</td><td>0</td><td>19.1</td><td>0.499 .. 1.065</td><td>RU</td><td>032</td><td>076</td><td>025</td></tr>\n",
       "<tr><td>1000208773</td><td>199.35771</td><td>51.0678</td><td>multi_025_076_032_RU</td><td>51</td><td>-5.08</td><td>19.83</td><td>20180313</td><td>11</td><td>3</td><td>2.68906</td><td>20180313T061917.4</td><td>3836.2</td><td>0</td><td>3.07</td><td>1.54 .. 0.912</td><td>RU</td><td>032</td><td>076</td><td>025</td></tr>\n",
       "<tr><td>1000208773</td><td>199.35664</td><td>51.067566</td><td>multi_025_076_032_RU</td><td>52</td><td>-7.63</td><td>19.83</td><td>20180313</td><td>11</td><td>3</td><td>1.64731</td><td>20180313T061917.4</td><td>3836.2</td><td>0</td><td>24.05</td><td>1.058 .. 0.964</td><td>RU</td><td>032</td><td>076</td><td>025</td></tr>\n",
       "</table>"
      ],
      "text/plain": [
       "<Table length=16>\n",
       " detectid      ra       dec         multiframe      ... ifuid ifuslot specid\n",
       "  int64     float32   float32         str20         ...  str3   str3   str3 \n",
       "---------- --------- --------- -------------------- ... ----- ------- ------\n",
       "1000208773 199.35771 51.066715 multi_025_076_032_RU ...   032     076    025\n",
       "1000208773 199.35664 51.066483 multi_025_076_032_RU ...   032     076    025\n",
       "1000208773 199.35793 51.067413 multi_025_076_032_RU ...   032     076    025\n",
       "1000208773 199.35686  51.06718 multi_025_076_032_RU ...   032     076    025\n",
       "1000208773  199.3558 51.066948 multi_025_076_032_RU ...   032     076    025\n",
       "1000208773 199.35707 51.067875 multi_025_076_032_RU ...   032     076    025\n",
       "1000208773   199.356 51.067642 multi_025_076_032_RU ...   032     076    025\n",
       "1000208773 199.35814 51.067024 multi_025_076_032_RU ...   032     076    025\n",
       "1000208773 199.35707  51.06679 multi_025_076_032_RU ...   032     076    025\n",
       "1000208773 199.35728 51.067486 multi_025_076_032_RU ...   032     076    025\n",
       "1000208773 199.35622 51.067257 multi_025_076_032_RU ...   032     076    025\n",
       "1000208773 199.35728  51.06641 multi_025_076_032_RU ...   032     076    025\n",
       "1000208773  199.3575 51.067104 multi_025_076_032_RU ...   032     076    025\n",
       "1000208773 199.35643  51.06687 multi_025_076_032_RU ...   032     076    025\n",
       "1000208773 199.35771   51.0678 multi_025_076_032_RU ...   032     076    025\n",
       "1000208773 199.35664 51.067566 multi_025_076_032_RU ...   032     076    025"
      ]
     },
     "execution_count": 28,
     "metadata": {},
     "output_type": "execute_result"
    }
   ],
   "source": [
    "Table(fiber_table)"
   ]
  },
  {
   "cell_type": "markdown",
   "metadata": {},
   "source": [
    "When you are done with the HDF5 file, close it. The data that you extracted into tables and arrays will remain."
   ]
  },
  {
   "cell_type": "code",
   "execution_count": 29,
   "metadata": {},
   "outputs": [],
   "source": [
    "detects.hdfile.close()"
   ]
  },
  {
   "cell_type": "markdown",
   "metadata": {
    "collapsed": true
   },
   "source": [
    "## Accessing the ELiXer Classifications"
   ]
  },
  {
   "cell_type": "code",
   "execution_count": 30,
   "metadata": {},
   "outputs": [],
   "source": [
    "file_elix = tb.open_file(config.elixerh5)"
   ]
  },
  {
   "cell_type": "code",
   "execution_count": 31,
   "metadata": {},
   "outputs": [
    {
     "data": {
      "text/plain": [
       "/Classifications (Table(690868,)) ''\n",
       "  description := {\n",
       "  \"detectid\": Int64Col(shape=(), dflt=0, pos=0),\n",
       "  \"plae_poii_hetdex\": Float32Col(shape=(), dflt=0.0, pos=1),\n",
       "  \"aperture_mag\": Float32Col(shape=(), dflt=0.0, pos=2),\n",
       "  \"plae_poii_aperture\": Float32Col(shape=(), dflt=0.0, pos=3),\n",
       "  \"aperture_filter\": StringCol(itemsize=15, shape=(), dflt='', pos=4),\n",
       "  \"mag_match\": Float32Col(shape=(), dflt=0.0, pos=5),\n",
       "  \"cat_filter\": StringCol(itemsize=15, shape=(), dflt='', pos=6),\n",
       "  \"plae_poii_cat\": Float32Col(shape=(), dflt=0.0, pos=7),\n",
       "  \"dec\": Float32Col(shape=(), dflt=0.0, pos=8),\n",
       "  \"dec_match\": Float32Col(shape=(), dflt=0.0, pos=9),\n",
       "  \"dist_match\": Float32Col(shape=(), dflt=0.0, pos=10),\n",
       "  \"ra\": Float32Col(shape=(), dflt=0.0, pos=11),\n",
       "  \"ra_match\": Float32Col(shape=(), dflt=0.0, pos=12),\n",
       "  \"z_prelim\": Float32Col(shape=(), dflt=0.0, pos=13)}\n",
       "  byteorder := 'little'\n",
       "  chunkshape := (799,)\n",
       "  autoindex := True\n",
       "  colindexes := {\n",
       "    \"detectid\": Index(9, full, shuffle, zlib(1)).is_csi=True}"
      ]
     },
     "execution_count": 31,
     "metadata": {},
     "output_type": "execute_result"
    }
   ],
   "source": [
    "file_elix.root.Classifications"
   ]
  },
  {
   "cell_type": "markdown",
   "metadata": {},
   "source": [
    "Note: these are also appended to the Detections() class object. Each column in the above table can be accessed as an attribute of the Detections() class object. For example, the probability of LAE to OII measured from the HETDEX continuum is:"
   ]
  },
  {
   "cell_type": "code",
   "execution_count": 32,
   "metadata": {},
   "outputs": [
    {
     "data": {
      "text/plain": [
       "array([9.9900000e+02, 7.2290176e-01, 9.9900000e+02, ..., 1.4184024e+00,\n",
       "       8.7493747e-01, 2.0698796e-01], dtype=float32)"
      ]
     },
     "execution_count": 32,
     "metadata": {},
     "output_type": "execute_result"
    }
   ],
   "source": [
    "detects.plae_poii_hetdex"
   ]
  },
  {
   "cell_type": "markdown",
   "metadata": {},
   "source": [
    "or the nearest neighbour magnitude in an ancillary photometric catalog is:"
   ]
  },
  {
   "cell_type": "code",
   "execution_count": 33,
   "metadata": {},
   "outputs": [
    {
     "data": {
      "text/plain": [
       "array([23.479797, 99.9     , 99.9     , ..., 99.9     , 99.9     ,\n",
       "       99.9     ], dtype=float32)"
      ]
     },
     "execution_count": 33,
     "metadata": {},
     "output_type": "execute_result"
    }
   ],
   "source": [
    "detects.mag_match"
   ]
  },
  {
   "cell_type": "markdown",
   "metadata": {},
   "source": [
    "and this comes from the filter:"
   ]
  },
  {
   "cell_type": "code",
   "execution_count": 34,
   "metadata": {},
   "outputs": [
    {
     "data": {
      "text/plain": [
       "array(['r', '?', '?', ..., '?', '?', '?'], dtype='|S15')"
      ]
     },
     "execution_count": 34,
     "metadata": {},
     "output_type": "execute_result"
    }
   ],
   "source": [
    "detects.cat_filter"
   ]
  },
  {
   "cell_type": "code",
   "execution_count": null,
   "metadata": {},
   "outputs": [],
   "source": []
  }
 ],
 "metadata": {
  "kernelspec": {
   "display_name": "Python 2",
   "language": "python",
   "name": "python2"
  },
  "language_info": {
   "codemirror_mode": {
    "name": "ipython",
    "version": 2
   },
   "file_extension": ".py",
   "mimetype": "text/x-python",
   "name": "python",
   "nbconvert_exporter": "python",
   "pygments_lexer": "ipython2",
   "version": "2.7.15"
  }
 },
 "nbformat": 4,
 "nbformat_minor": 2
}
