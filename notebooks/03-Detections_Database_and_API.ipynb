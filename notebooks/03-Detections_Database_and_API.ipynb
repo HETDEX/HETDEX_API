{
 "cells": [
  {
   "cell_type": "markdown",
   "metadata": {},
   "source": [
    "Detections Database and API\n",
    "======================="
   ]
  },
  {
   "cell_type": "markdown",
   "metadata": {},
   "source": [
    "This notebook demonstrates how to access the HDF5 container for the HETDEX line detections database through the API. Querying of the database through an interactive GUI follows in Notebook 11 - Querying Detections GUI. This database is a catalog of line emission detections and their associated 1D, aperture summed, psf-weighted spectra. There are three tables contained within this HDF5 file: \n",
    "\n",
    "1. Detections - this is the main database of line detection sources. It provides the position and central wavelength of each detection and corresponding line fluxes. A source detection corresponds to an emission line so it is possible to have multiple line detections at different wavelengths for a single source. There can also be multiple observations of the same line if it has been observed in multiple shots or if it is associated with a large source. \n",
    "\n",
    "2. Fibers - for each source detection, this table lists information about each fiber used to extract the flux measurment and weighted spectrum. This allows a user to return to the processed data products (ie. the shot HDF5 files) to investigate the source further.\n",
    "\n",
    "3. Spectra - for each source, this table contains arrays of wavelength and 1D flux-weighted aperture summed spectral data and corresponding errors. Non-calibrated spectra is also provided in counts\n"
   ]
  },
  {
   "cell_type": "code",
   "execution_count": 1,
   "metadata": {},
   "outputs": [],
   "source": [
    "%matplotlib inline\n",
    "import sys\n",
    "import os\n",
    "import os.path\n",
    "import subprocess\n",
    "import numpy as np\n",
    "import tables as tb\n",
    "import matplotlib.pyplot as plt\n",
    "\n",
    "from astropy.io import ascii\n",
    "from astropy.table import Table, Column\n",
    "from astropy.coordinates import SkyCoord\n",
    "import astropy.units as u\n",
    "\n",
    "from hetdex_api.config import HDRconfig\n",
    "from hetdex_api.detections import Detections\n",
    "from hetdex_api.elixer_widget_cls import ElixerWidget"
   ]
  },
  {
   "cell_type": "markdown",
   "metadata": {},
   "source": [
    "### Initiate the API"
   ]
  },
  {
   "cell_type": "markdown",
   "metadata": {},
   "source": [
    "When you call `Detections()` you intiate the Detections Class object which takes columns from the Detections Table in the HDF5 file and adds them as array attributes to the Detections class object. It also converts ra/dec into astropy skycoords in the `coords` attribute, calculates an approximate gband magnitude using the 1D spectra and adds elixer probabilities for each detection. If you append the call with `refine()` then a number of downselections are applied to the database to return a more robust list of line emitters. `refine()` removes spurious detections found in bad amps or at the edges of the CCD or in shots that are not deemed appropriate for HETDEX analysis. It can also remove all bright objects above a specific gband magnitude if desired (default to None if no option is given)."
   ]
  },
  {
   "cell_type": "code",
   "execution_count": 2,
   "metadata": {},
   "outputs": [],
   "source": [
    "#old way still works\n",
    "#detects = Detections('hdr1').refine()\n",
    "\n",
    "# but this is the new way\n",
    "detects = Detections(survey='hdr2', catalog_type='lines')\n",
    "\n",
    "#detects = Detections('hdr1').refine(gmagcut=22)\n",
    "\n",
    "# or if you want to open the continuum source catalog:\n",
    "# detects = Detections(survey='hdr2', catalog_type='continuum')"
   ]
  },
  {
   "cell_type": "markdown",
   "metadata": {},
   "source": [
    "Here are a list of attributes built into the Detections class:"
   ]
  },
  {
   "cell_type": "code",
   "execution_count": 3,
   "metadata": {},
   "outputs": [
    {
     "data": {
      "text/plain": [
       "dict_keys(['survey', 'filename', 'hdfile', 'loadtable', 'detectid', 'shotid', 'ra', 'dec', 'date', 'obsid', 'wave', 'wave_err', 'flux', 'flux_err', 'linewidth', 'linewidth_err', 'continuum', 'continuum_err', 'sn', 'sn_err', 'chi2', 'chi2_err', 'multiframe', 'fibnum', 'x_raw', 'y_raw', 'amp', 'expnum', 'fiber_id', 'ifuid', 'ifuslot', 'inputid', 'specid', 'weight', 'x_ifu', 'y_ifu', 'hdfile_elix', 'field', 'fwhm', 'throughput', 'n_ifu', 'vis_class', 'coords'])"
      ]
     },
     "execution_count": 3,
     "metadata": {},
     "output_type": "execute_result"
    }
   ],
   "source": [
    "detects.__dict__.keys()"
   ]
  },
  {
   "cell_type": "markdown",
   "metadata": {},
   "source": [
    "If you prefer working in astropy tables, you can grab it this way:"
   ]
  },
  {
   "cell_type": "code",
   "execution_count": 4,
   "metadata": {},
   "outputs": [],
   "source": [
    "detect_table = detects.return_astropy_table()"
   ]
  },
  {
   "cell_type": "code",
   "execution_count": 5,
   "metadata": {},
   "outputs": [
    {
     "data": {
      "text/html": [
       "<i>Table length=1103825</i>\n",
       "<table id=\"table47765059573296\" class=\"table-striped table-bordered table-condensed\">\n",
       "<thead><tr><th>detectid</th><th>fwhm</th><th>throughput</th><th>shotid</th><th>field</th><th>n_ifu</th><th>ra</th><th>dec</th><th>date</th><th>obsid</th><th>wave</th><th>wave_err</th><th>flux</th><th>flux_err</th><th>linewidth</th><th>linewidth_err</th><th>continuum</th><th>continuum_err</th><th>sn</th><th>sn_err</th><th>chi2</th><th>chi2_err</th><th>multiframe</th><th>fibnum</th><th>x_raw</th><th>y_raw</th><th>amp</th><th>expnum</th><th>fiber_id</th><th>ifuid</th><th>ifuslot</th><th>inputid</th><th>specid</th><th>weight</th><th>x_ifu</th><th>y_ifu</th></tr></thead>\n",
       "<thead><tr><th>int64</th><th>float64</th><th>float64</th><th>int64</th><th>bytes12</th><th>int64</th><th>float32</th><th>float32</th><th>int32</th><th>int32</th><th>float32</th><th>float32</th><th>float32</th><th>float32</th><th>float32</th><th>float32</th><th>float32</th><th>float32</th><th>float32</th><th>float32</th><th>float32</th><th>float32</th><th>str20</th><th>int32</th><th>int32</th><th>int32</th><th>str2</th><th>int32</th><th>str38</th><th>str3</th><th>str3</th><th>str40</th><th>str3</th><th>float32</th><th>float32</th><th>float32</th></tr></thead>\n",
       "<tr><td>2000000001</td><td>1.5907049179077148</td><td>0.11550000309944153</td><td>20170130027</td><td>goods-n</td><td>14</td><td>189.20155</td><td>62.240665</td><td>20170130</td><td>27</td><td>4245.91</td><td>0.09</td><td>206.76</td><td>5.52</td><td>2.87</td><td>0.09</td><td>10.75</td><td>0.23</td><td>55.3</td><td>1.12</td><td>2.23</td><td>0.23</td><td>multi_020_095_004_LU</td><td>19</td><td>375</td><td>171</td><td>LU</td><td>1</td><td>20170130027_0_multi_020_095_004_LU_019</td><td>004</td><td>095</td><td>20170130v027_2</td><td>020</td><td>0.314</td><td>-15.25</td><td>15.42</td></tr>\n",
       "<tr><td>2000000002</td><td>1.2000000476837158</td><td>0.11379999667406082</td><td>20170129008</td><td>goods-n</td><td>14</td><td>189.20099</td><td>62.240814</td><td>20170129</td><td>8</td><td>4246.22</td><td>0.07</td><td>162.65</td><td>3.49</td><td>2.86</td><td>0.06</td><td>8.79</td><td>0.14</td><td>51.71</td><td>1.47</td><td>1.23</td><td>0.22</td><td>multi_008_093_054_RU</td><td>109</td><td>371</td><td>997</td><td>RU</td><td>1</td><td>20170129008_0_multi_008_093_054_RU_109</td><td>054</td><td>093</td><td>20170129v008_4</td><td>008</td><td>0.3224</td><td>-3.81</td><td>13.22</td></tr>\n",
       "<tr><td>2000000003</td><td>2.5434999465942383</td><td>0.12540000677108765</td><td>20170131033</td><td>goods-n</td><td>14</td><td>189.20114</td><td>62.240673</td><td>20170131</td><td>33</td><td>4245.61</td><td>0.09</td><td>211.71</td><td>5.58</td><td>2.73</td><td>0.08</td><td>12.53</td><td>0.26</td><td>51.65</td><td>1.16</td><td>1.82</td><td>0.23</td><td>multi_016_104_026_RU</td><td>74</td><td>381</td><td>672</td><td>RU</td><td>2</td><td>20170131033_0_multi_016_104_026_RU_074</td><td>026</td><td>104</td><td>20170131v033_3</td><td>016</td><td>0.1667</td><td>-13.98</td><td>17.63</td></tr>\n",
       "<tr><td>2000000004</td><td>3.109930992126465</td><td>0.07289999723434448</td><td>20170124013</td><td>cosmos</td><td>14</td><td>150.09532</td><td>2.220459</td><td>20170124</td><td>13</td><td>4420.82</td><td>0.11</td><td>391.34</td><td>10.22</td><td>3.29</td><td>0.1</td><td>38.63</td><td>0.45</td><td>46.14</td><td>1.19</td><td>1.48</td><td>0.23</td><td>multi_032_094_028_RU</td><td>98</td><td>463</td><td>893</td><td>RU</td><td>1</td><td>20170124013_0_multi_032_094_028_RU_098</td><td>028</td><td>094</td><td>20170124v013_6</td><td>032</td><td>0.1113</td><td>24.15</td><td>13.22</td></tr>\n",
       "<tr><td>2000000005</td><td>2.200000047683716</td><td>0.08150000125169754</td><td>20170131037</td><td>goods-n</td><td>14</td><td>189.15326</td><td>62.193085</td><td>20170131</td><td>37</td><td>5400.52</td><td>0.11</td><td>181.97</td><td>6.51</td><td>2.43</td><td>0.09</td><td>23.65</td><td>0.32</td><td>45.61</td><td>1.07</td><td>2.3</td><td>0.22</td><td>multi_017_086_022_RL</td><td>111</td><td>974</td><td>1006</td><td>RL</td><td>2</td><td>20170131037_0_multi_017_086_022_RL_111</td><td>022</td><td>086</td><td>20170131v037_8</td><td>017</td><td>0.196</td><td>3.81</td><td>0.0</td></tr>\n",
       "<tr><td>2000000006</td><td>2.5434999465942383</td><td>0.12540000677108765</td><td>20170131033</td><td>goods-n</td><td>14</td><td>188.98015</td><td>62.251427</td><td>20170131</td><td>33</td><td>4500.57</td><td>0.1</td><td>107.95</td><td>2.79</td><td>3.07</td><td>0.09</td><td>6.26</td><td>0.13</td><td>41.49</td><td>1.04</td><td>1.17</td><td>0.22</td><td>multi_025_076_032_LL</td><td>5</td><td>525</td><td>68</td><td>LL</td><td>3</td><td>20170131033_0_multi_025_076_032_LL_005</td><td>032</td><td>076</td><td>20170131v033_9</td><td>025</td><td>0.1556</td><td>-11.44</td><td>0.0</td></tr>\n",
       "<tr><td>2000000007</td><td>1.2000000476837158</td><td>0.1014999970793724</td><td>20170130023</td><td>cosmos</td><td>14</td><td>150.13708</td><td>2.232205</td><td>20170130</td><td>23</td><td>4184.51</td><td>0.09</td><td>126.1</td><td>3.55</td><td>2.72</td><td>0.08</td><td>5.71</td><td>0.16</td><td>39.39</td><td>1.37</td><td>1.2</td><td>0.22</td><td>multi_027_085_001_LL</td><td>76</td><td>342</td><td>714</td><td>LL</td><td>2</td><td>20170130023_0_multi_027_085_001_LL_076</td><td>001</td><td>085</td><td>20170130v023_11</td><td>027</td><td>0.332</td><td>6.36</td><td>-8.81</td></tr>\n",
       "<tr><td>2000000008</td><td>2.0279998779296875</td><td>0.12439999729394913</td><td>20170126002</td><td>goods-n</td><td>14</td><td>189.07237</td><td>62.238018</td><td>20170126</td><td>2</td><td>4311.43</td><td>0.08</td><td>109.41</td><td>2.45</td><td>2.9</td><td>0.07</td><td>3.35</td><td>0.12</td><td>38.99</td><td>1.03</td><td>1.08</td><td>0.22</td><td>multi_047_075_075_RL</td><td>53</td><td>409</td><td>483</td><td>RL</td><td>1</td><td>20170126002_0_multi_047_075_075_RL_053</td><td>075</td><td>075</td><td>20170126v002_12</td><td>047</td><td>0.1901</td><td>2.54</td><td>6.61</td></tr>\n",
       "<tr><td>2000000009</td><td>1.2000000476837158</td><td>0.1014999970793724</td><td>20170130023</td><td>cosmos</td><td>14</td><td>150.0961</td><td>2.220377</td><td>20170130</td><td>23</td><td>4421.34</td><td>0.13</td><td>189.43</td><td>6.01</td><td>3.18</td><td>0.12</td><td>21.34</td><td>0.25</td><td>38.47</td><td>1.0</td><td>1.74</td><td>0.23</td><td>multi_032_094_028_LL</td><td>108</td><td>466</td><td>977</td><td>LL</td><td>3</td><td>20170130023_0_multi_032_094_028_LL_108</td><td>028</td><td>094</td><td>20170130v023_13</td><td>032</td><td>0.4785</td><td>24.15</td><td>-13.22</td></tr>\n",
       "<tr><td>2000000010</td><td>2.5434999465942383</td><td>0.12540000677108765</td><td>20170131033</td><td>goods-n</td><td>14</td><td>189.24345</td><td>62.26362</td><td>20170131</td><td>33</td><td>5428.81</td><td>0.12</td><td>77.63</td><td>2.29</td><td>3.37</td><td>0.11</td><td>1.11</td><td>0.11</td><td>36.94</td><td>1.33</td><td>0.94</td><td>0.22</td><td>multi_013_103_019_RU</td><td>31</td><td>989</td><td>286</td><td>RU</td><td>1</td><td>20170131033_0_multi_013_103_019_RU_031</td><td>019</td><td>103</td><td>20170131v033_14</td><td>013</td><td>0.1551</td><td>-3.81</td><td>22.03</td></tr>\n",
       "<tr><td>...</td><td>...</td><td>...</td><td>...</td><td>...</td><td>...</td><td>...</td><td>...</td><td>...</td><td>...</td><td>...</td><td>...</td><td>...</td><td>...</td><td>...</td><td>...</td><td>...</td><td>...</td><td>...</td><td>...</td><td>...</td><td>...</td><td>...</td><td>...</td><td>...</td><td>...</td><td>...</td><td>...</td><td>...</td><td>...</td><td>...</td><td>...</td><td>...</td><td>...</td><td>...</td><td>...</td></tr>\n",
       "<tr><td>2001107351</td><td>1.9149425029754639</td><td>0.08489999920129776</td><td>20200202024</td><td>dex-spring</td><td>64</td><td>179.72044</td><td>52.042465</td><td>20200202</td><td>24</td><td>3588.94</td><td>0.92</td><td>27.31</td><td>8.52</td><td>2.32</td><td>0.78</td><td>-0.56</td><td>0.57</td><td>5.01</td><td>0.95</td><td>1.7</td><td>0.23</td><td>multi_308_047_024_LU</td><td>97</td><td>51</td><td>882</td><td>LU</td><td>1</td><td>20200202024_0_multi_308_047_024_LU_097</td><td>024</td><td>047</td><td>20200202v024_14735</td><td>308</td><td>0.2096</td><td>15.25</td><td>-24.24</td></tr>\n",
       "<tr><td>2001107352</td><td>2.354261875152588</td><td>0.16419999301433563</td><td>20200201021</td><td>dex-spring</td><td>64</td><td>175.45403</td><td>51.88926</td><td>20200201</td><td>21</td><td>3588.63</td><td>0.72</td><td>16.96</td><td>4.49</td><td>2.17</td><td>0.64</td><td>-0.43</td><td>0.33</td><td>5.01</td><td>0.96</td><td>1.28</td><td>0.23</td><td>multi_315_021_073_RU</td><td>29</td><td>52</td><td>265</td><td>RU</td><td>1</td><td>20200201021_0_multi_315_021_073_RU_029</td><td>073</td><td>021</td><td>20200201v021_13387</td><td>315</td><td>0.1984</td><td>1.27</td><td>22.03</td></tr>\n",
       "<tr><td>2001107353</td><td>2.284184217453003</td><td>0.11500000208616257</td><td>20200202025</td><td>dex-spring</td><td>64</td><td>190.27716</td><td>52.285637</td><td>20200202</td><td>25</td><td>3583.84</td><td>0.89</td><td>41.14</td><td>10.63</td><td>2.99</td><td>0.87</td><td>-0.99</td><td>0.58</td><td>5.01</td><td>0.9</td><td>1.39</td><td>0.23</td><td>multi_419_040_046_RL</td><td>18</td><td>43</td><td>170</td><td>RL</td><td>2</td><td>20200202025_0_multi_419_040_046_RL_018</td><td>046</td><td>040</td><td>20200202v025_7979</td><td>419</td><td>0.1831</td><td>-7.63</td><td>11.02</td></tr>\n",
       "<tr><td>2001107354</td><td>2.7383193969726562</td><td>0.18320000171661377</td><td>20200204021</td><td>dex-spring</td><td>63</td><td>166.67976</td><td>50.35738</td><td>20200204</td><td>21</td><td>3582.17</td><td>0.59</td><td>26.2</td><td>5.29</td><td>2.59</td><td>0.55</td><td>0.1</td><td>0.31</td><td>5.01</td><td>1.0</td><td>0.95</td><td>0.22</td><td>multi_017_097_022_RL</td><td>63</td><td>45</td><td>568</td><td>RL</td><td>3</td><td>20200204021_0_multi_017_097_022_RL_063</td><td>022</td><td>097</td><td>20200204v021_11199</td><td>017</td><td>0.1328</td><td>-22.88</td><td>6.61</td></tr>\n",
       "<tr><td>2001107355</td><td>2.2357285022735596</td><td>0.13689999282360077</td><td>20200201030</td><td>dex-spring</td><td>64</td><td>164.89185</td><td>50.646744</td><td>20200201</td><td>30</td><td>3579.75</td><td>0.53</td><td>21.1</td><td>3.7</td><td>2.37</td><td>0.5</td><td>-0.0</td><td>0.22</td><td>5.01</td><td>0.96</td><td>0.97</td><td>0.22</td><td>multi_301_052_072_LL</td><td>17</td><td>42</td><td>162</td><td>LL</td><td>1</td><td>20200201030_0_multi_301_052_072_LL_017</td><td>072</td><td>052</td><td>20200201v030_14975</td><td>301</td><td>0.1649</td><td>7.63</td><td>-2.2</td></tr>\n",
       "<tr><td>2001107356</td><td>2.2339999675750732</td><td>0.14329999685287476</td><td>20200201022</td><td>dex-spring</td><td>64</td><td>182.39124</td><td>51.918068</td><td>20200201</td><td>22</td><td>3542.59</td><td>0.74</td><td>42.54</td><td>8.26</td><td>3.04</td><td>0.67</td><td>-1.28</td><td>0.33</td><td>5.01</td><td>0.87</td><td>0.98</td><td>0.22</td><td>multi_051_105_051_RL</td><td>86</td><td>31</td><td>782</td><td>RL</td><td>2</td><td>20200201022_0_multi_051_105_051_RL_086</td><td>051</td><td>105</td><td>20200201v022_10025</td><td>051</td><td>0.1641</td><td>17.8</td><td>2.2</td></tr>\n",
       "<tr><td>2001107357</td><td>1.6082031726837158</td><td>0.1379999965429306</td><td>20200202023</td><td>dex-spring</td><td>64</td><td>178.2632</td><td>51.9616</td><td>20200202</td><td>23</td><td>3531.08</td><td>1.09</td><td>25.63</td><td>6.18</td><td>4.12</td><td>1.1</td><td>0.02</td><td>0.28</td><td>5.01</td><td>0.83</td><td>0.99</td><td>0.22</td><td>multi_016_104_026_LL</td><td>14</td><td>28</td><td>138</td><td>LL</td><td>3</td><td>20200202023_0_multi_016_104_026_LL_014</td><td>026</td><td>104</td><td>20200202v023_16384</td><td>016</td><td>0.37</td><td>15.25</td><td>-2.2</td></tr>\n",
       "<tr><td>2001107358</td><td>1.906978726387024</td><td>0.10859999805688858</td><td>20200203023</td><td>dex-spring</td><td>64</td><td>204.41112</td><td>50.480522</td><td>20200203</td><td>23</td><td>3526.61</td><td>0.52</td><td>31.75</td><td>7.12</td><td>1.97</td><td>0.51</td><td>-2.08</td><td>0.56</td><td>5.01</td><td>0.95</td><td>1.58</td><td>0.23</td><td>multi_325_076_044_LL</td><td>1</td><td>27</td><td>29</td><td>LL</td><td>3</td><td>20200203023_0_multi_325_076_044_LL_001</td><td>044</td><td>076</td><td>20200203v023_14989</td><td>325</td><td>0.2509</td><td>-1.27</td><td>0.0</td></tr>\n",
       "<tr><td>2001107359</td><td>1.9992324113845825</td><td>0.08720000088214874</td><td>20200202028</td><td>dex-spring</td><td>64</td><td>212.82892</td><td>52.255726</td><td>20200202</td><td>28</td><td>3516.38</td><td>0.82</td><td>120.45</td><td>20.26</td><td>5.57</td><td>1.16</td><td>-3.77</td><td>1.04</td><td>5.01</td><td>1.85</td><td>1.63</td><td>0.23</td><td>multi_301_052_072_RL</td><td>41</td><td>8</td><td>378</td><td>RL</td><td>3</td><td>20200202028_0_multi_301_052_072_RL_041</td><td>072</td><td>052</td><td>20200202v028_13847</td><td>301</td><td>0.2566</td><td>-16.53</td><td>8.81</td></tr>\n",
       "<tr><td>2001107360</td><td>2.354261875152588</td><td>0.16419999301433563</td><td>20200201021</td><td>dex-spring</td><td>64</td><td>175.16063</td><td>51.832054</td><td>20200201</td><td>21</td><td>3497.98</td><td>0.48</td><td>34.15</td><td>3.18</td><td>4.53</td><td>0.52</td><td>-0.44</td><td>0.19</td><td>5.01</td><td>1.08</td><td>2.49</td><td>0.23</td><td>multi_413_028_042_LU</td><td>96</td><td>10</td><td>876</td><td>LU</td><td>3</td><td>20200201021_0_multi_413_028_042_LU_096</td><td>042</td><td>028</td><td>20200201v021_13849</td><td>413</td><td>0.178</td><td>17.8</td><td>-24.24</td></tr>\n",
       "</table>"
      ],
      "text/plain": [
       "<Table length=1103825>\n",
       " detectid         fwhm             throughput     ...  weight  x_ifu   y_ifu \n",
       "  int64         float64             float64       ... float32 float32 float32\n",
       "---------- ------------------ ------------------- ... ------- ------- -------\n",
       "2000000001 1.5907049179077148 0.11550000309944153 ...   0.314  -15.25   15.42\n",
       "2000000002 1.2000000476837158 0.11379999667406082 ...  0.3224   -3.81   13.22\n",
       "2000000003 2.5434999465942383 0.12540000677108765 ...  0.1667  -13.98   17.63\n",
       "2000000004  3.109930992126465 0.07289999723434448 ...  0.1113   24.15   13.22\n",
       "2000000005  2.200000047683716 0.08150000125169754 ...   0.196    3.81     0.0\n",
       "2000000006 2.5434999465942383 0.12540000677108765 ...  0.1556  -11.44     0.0\n",
       "2000000007 1.2000000476837158  0.1014999970793724 ...   0.332    6.36   -8.81\n",
       "2000000008 2.0279998779296875 0.12439999729394913 ...  0.1901    2.54    6.61\n",
       "2000000009 1.2000000476837158  0.1014999970793724 ...  0.4785   24.15  -13.22\n",
       "2000000010 2.5434999465942383 0.12540000677108765 ...  0.1551   -3.81   22.03\n",
       "       ...                ...                 ... ...     ...     ...     ...\n",
       "2001107351 1.9149425029754639 0.08489999920129776 ...  0.2096   15.25  -24.24\n",
       "2001107352  2.354261875152588 0.16419999301433563 ...  0.1984    1.27   22.03\n",
       "2001107353  2.284184217453003 0.11500000208616257 ...  0.1831   -7.63   11.02\n",
       "2001107354 2.7383193969726562 0.18320000171661377 ...  0.1328  -22.88    6.61\n",
       "2001107355 2.2357285022735596 0.13689999282360077 ...  0.1649    7.63    -2.2\n",
       "2001107356 2.2339999675750732 0.14329999685287476 ...  0.1641    17.8     2.2\n",
       "2001107357 1.6082031726837158  0.1379999965429306 ...    0.37   15.25    -2.2\n",
       "2001107358  1.906978726387024 0.10859999805688858 ...  0.2509   -1.27     0.0\n",
       "2001107359 1.9992324113845825 0.08720000088214874 ...  0.2566  -16.53    8.81\n",
       "2001107360  2.354261875152588 0.16419999301433563 ...   0.178    17.8  -24.24"
      ]
     },
     "execution_count": 5,
     "metadata": {},
     "output_type": "execute_result"
    }
   ],
   "source": [
    "detect_table"
   ]
  },
  {
   "cell_type": "markdown",
   "metadata": {},
   "source": [
    "## Querying by sky coordinates"
   ]
  },
  {
   "cell_type": "markdown",
   "metadata": {},
   "source": [
    "Upon initialization of the Detections Class, sky coordinates are converted to an Astropy sky coordinates array to allow for easy querying:"
   ]
  },
  {
   "cell_type": "code",
   "execution_count": 6,
   "metadata": {},
   "outputs": [
    {
     "data": {
      "text/plain": [
       "<SkyCoord (ICRS): (ra, dec) in deg\n",
       "    [(189.20155, 62.240665), (189.20099, 62.240814),\n",
       "     (189.20114, 62.240673), ..., (204.41112, 50.480522),\n",
       "     (212.82892, 52.255726), (175.16063, 51.832054)]>"
      ]
     },
     "execution_count": 6,
     "metadata": {},
     "output_type": "execute_result"
    }
   ],
   "source": [
    "detects.coords"
   ]
  },
  {
   "cell_type": "markdown",
   "metadata": {},
   "source": [
    "To query a region of the sky, you can use the Detections function `query_by_coords` which takes an astropy coords objects as an argument as well as a radius represented by an astropy quantity. It returns a boolean mask to index the Detections class object."
   ]
  },
  {
   "cell_type": "code",
   "execution_count": 7,
   "metadata": {},
   "outputs": [],
   "source": [
    "obj_coords = SkyCoord(199.35704 * u.deg, 51.06718 * u.deg, frame='icrs')"
   ]
  },
  {
   "cell_type": "code",
   "execution_count": 8,
   "metadata": {},
   "outputs": [],
   "source": [
    "maskregion = detects.query_by_coords(obj_coords, 10. * u.arcsec)"
   ]
  },
  {
   "cell_type": "markdown",
   "metadata": {},
   "source": [
    "The Detections class allows slicing so that a boolean mask applied to the class will slice each array attribute accordingly:"
   ]
  },
  {
   "cell_type": "code",
   "execution_count": 9,
   "metadata": {},
   "outputs": [
    {
     "name": "stdout",
     "output_type": "stream",
     "text": [
      "5\n"
     ]
    }
   ],
   "source": [
    "detects_in_region = detects[maskregion]\n",
    "print(np.size(detects_in_region.detectid))"
   ]
  },
  {
   "cell_type": "markdown",
   "metadata": {},
   "source": [
    "## Find a direct line match"
   ]
  },
  {
   "cell_type": "markdown",
   "metadata": {},
   "source": [
    "If you want to find an exact line match you can use the function `find_match()`"
   ]
  },
  {
   "cell_type": "code",
   "execution_count": 10,
   "metadata": {},
   "outputs": [],
   "source": [
    "obj_coords = SkyCoord(199.35704 * u.deg, 51.06718 * u.deg, frame='icrs')"
   ]
  },
  {
   "cell_type": "code",
   "execution_count": 11,
   "metadata": {},
   "outputs": [],
   "source": [
    "wave_obj = 3836."
   ]
  },
  {
   "cell_type": "code",
   "execution_count": 12,
   "metadata": {},
   "outputs": [],
   "source": [
    "idx = detects.find_match(obj_coords, wave=wave_obj, radius=5.*u.arcsec, dwave=5 )"
   ]
  },
  {
   "cell_type": "code",
   "execution_count": 13,
   "metadata": {},
   "outputs": [
    {
     "data": {
      "text/plain": [
       "array([2000202849, 2000214268])"
      ]
     },
     "execution_count": 13,
     "metadata": {},
     "output_type": "execute_result"
    }
   ],
   "source": [
    "detects.detectid[idx]"
   ]
  },
  {
   "cell_type": "code",
   "execution_count": 14,
   "metadata": {},
   "outputs": [
    {
     "data": {
      "text/html": [
       "<i>Table length=2</i>\n",
       "<table id=\"table47766004155840\" class=\"table-striped table-bordered table-condensed\">\n",
       "<thead><tr><th>detectid</th><th>fwhm</th><th>throughput</th><th>shotid</th><th>field</th><th>n_ifu</th><th>ra</th><th>dec</th><th>date</th><th>obsid</th><th>wave</th><th>wave_err</th><th>flux</th><th>flux_err</th><th>linewidth</th><th>linewidth_err</th><th>continuum</th><th>continuum_err</th><th>sn</th><th>sn_err</th><th>chi2</th><th>chi2_err</th><th>multiframe</th><th>fibnum</th><th>x_raw</th><th>y_raw</th><th>amp</th><th>expnum</th><th>fiber_id</th><th>ifuid</th><th>ifuslot</th><th>inputid</th><th>specid</th><th>weight</th><th>x_ifu</th><th>y_ifu</th></tr></thead>\n",
       "<thead><tr><th>int64</th><th>float64</th><th>float64</th><th>int64</th><th>bytes12</th><th>int64</th><th>float32</th><th>float32</th><th>int32</th><th>int32</th><th>float32</th><th>float32</th><th>float32</th><th>float32</th><th>float32</th><th>float32</th><th>float32</th><th>float32</th><th>float32</th><th>float32</th><th>float32</th><th>float32</th><th>str20</th><th>int32</th><th>int32</th><th>int32</th><th>str2</th><th>int32</th><th>str38</th><th>str3</th><th>str3</th><th>str40</th><th>str3</th><th>float32</th><th>float32</th><th>float32</th></tr></thead>\n",
       "<tr><td>2000202849</td><td>1.4780957698822021</td><td>0.15860000252723694</td><td>20180313011</td><td>dex-spring</td><td>29</td><td>199.35716</td><td>51.067146</td><td>20180313</td><td>11</td><td>3836.39</td><td>0.57</td><td>46.76</td><td>5.38</td><td>4.48</td><td>0.63</td><td>0.3</td><td>0.18</td><td>11.62</td><td>0.91</td><td>1.54</td><td>0.23</td><td>multi_025_076_032_RU</td><td>32</td><td>178</td><td>300</td><td>RU</td><td>1</td><td>20180313011_0_multi_025_076_032_RU_032</td><td>032</td><td>076</td><td>20180313v011_1175</td><td>025</td><td>0.3247</td><td>-6.36</td><td>22.03</td></tr>\n",
       "<tr><td>2000214268</td><td>1.4780957698822021</td><td>0.15860000252723694</td><td>20180313011</td><td>dex-spring</td><td>29</td><td>199.35861</td><td>51.067303</td><td>20180313</td><td>11</td><td>3684.61</td><td>0.96</td><td>16.8</td><td>4.01</td><td>3.52</td><td>0.85</td><td>-0.18</td><td>0.22</td><td>5.23</td><td>0.92</td><td>1.18</td><td>0.22</td><td>multi_025_076_032_RU</td><td>31</td><td>102</td><td>289</td><td>RU</td><td>3</td><td>20180313011_0_multi_025_076_032_RU_031</td><td>032</td><td>076</td><td>20180313v011_11018</td><td>025</td><td>0.4056</td><td>-3.81</td><td>22.03</td></tr>\n",
       "</table>"
      ],
      "text/plain": [
       "<Table length=2>\n",
       " detectid         fwhm             throughput     ...  weight  x_ifu   y_ifu \n",
       "  int64         float64             float64       ... float32 float32 float32\n",
       "---------- ------------------ ------------------- ... ------- ------- -------\n",
       "2000202849 1.4780957698822021 0.15860000252723694 ...  0.3247   -6.36   22.03\n",
       "2000214268 1.4780957698822021 0.15860000252723694 ...  0.4056   -3.81   22.03"
      ]
     },
     "execution_count": 14,
     "metadata": {},
     "output_type": "execute_result"
    }
   ],
   "source": [
    "detect_table[idx]"
   ]
  },
  {
   "cell_type": "markdown",
   "metadata": {},
   "source": [
    "## Check out matched sources in the ElixerWidget"
   ]
  },
  {
   "cell_type": "markdown",
   "metadata": {},
   "source": [
    "For this example, we have found 12 detections in this region, we can examine these via the ELiXer reports using the `ElixerWidget()` class from `hetdex_api.elixer_widget_cls.py`. To do so we need to save the detectid list to examine in the widget."
   ]
  },
  {
   "cell_type": "code",
   "execution_count": 15,
   "metadata": {},
   "outputs": [],
   "source": [
    "np.savetxt('detects_obj.txt', detects_in_region.detectid)"
   ]
  },
  {
   "cell_type": "markdown",
   "metadata": {},
   "source": [
    "You can the run the elixer_widget to scan through the ELiXer reports for this object. Use the \"Next DetectID\" button to scan the list. The \"DetectID\" text widget will give access to all reports interactively and scans in increasing single digit increments, but the green Next DetectID button will go in order of the ingest list from 'detects_obj.txt'."
   ]
  },
  {
   "cell_type": "code",
   "execution_count": 16,
   "metadata": {},
   "outputs": [
    {
     "data": {
      "application/vnd.jupyter.widget-view+json": {
       "model_id": "a01f0db66a60421083a1ef45cd04a278",
       "version_major": 2,
       "version_minor": 0
      },
      "text/plain": [
       "interactive(children=(BoundedIntText(value=2000202849, description='DetectID:', max=9900000000, min=1000000000…"
      ]
     },
     "metadata": {},
     "output_type": "display_data"
    }
   ],
   "source": [
    "elix_widget = ElixerWidget(detectfile='detects_obj.txt')"
   ]
  },
  {
   "cell_type": "markdown",
   "metadata": {},
   "source": [
    "For more information on using the Elixer Widgets GUI go to Notebook 12. We will discuss team classification efforts there. But for quick investigation its helpful to pull the GUI up to just scan through a detection list."
   ]
  },
  {
   "cell_type": "markdown",
   "metadata": {},
   "source": [
    "## Accessing 1D Spectra"
   ]
  },
  {
   "cell_type": "markdown",
   "metadata": {},
   "source": [
    "Spectra in counts and flux-calibrated units are stored in the Spectra Table of the Detection HDF5 file, it can be accessed directly through the Detections class object which stores the detect HDF5 as an attribute:"
   ]
  },
  {
   "cell_type": "code",
   "execution_count": 17,
   "metadata": {},
   "outputs": [
    {
     "name": "stdout",
     "output_type": "stream",
     "text": [
      "/data/05350/ecooper/hdr2/detect/detect_hdr2.h5 (File) 'HDR2 Detections Database'\n",
      "Last modif.: 'Sun Mar 29 08:19:24 2020'\n",
      "Object Tree: \n",
      "/ (RootGroup) 'HDR2 Detections Database'\n",
      "/Detections (Table(1103825,)) 'HETDEX Line Detection Catalog'\n",
      "/Fibers (Table(15019537,)) 'Fiber info for each detection'\n",
      "/Spectra (Table(1103825,)) '1D Spectra for each Line Detection'\n",
      "\n"
     ]
    }
   ],
   "source": [
    "print(detects.hdfile)"
   ]
  },
  {
   "cell_type": "code",
   "execution_count": 18,
   "metadata": {},
   "outputs": [],
   "source": [
    "spectra = detects.hdfile.root.Spectra"
   ]
  },
  {
   "cell_type": "markdown",
   "metadata": {},
   "source": [
    "This is a very large table so its not advised to read it in all at once. The columns are:"
   ]
  },
  {
   "cell_type": "code",
   "execution_count": 19,
   "metadata": {},
   "outputs": [
    {
     "data": {
      "text/plain": [
       "/Spectra.cols (Cols), 11 columns\n",
       "  detectid (Column(1103825,), int64)\n",
       "  wave1d (Column(1103825, 1036), ('<f4', (1036,)))\n",
       "  spec1d (Column(1103825, 1036), ('<f4', (1036,)))\n",
       "  spec1d_err (Column(1103825, 1036), ('<f4', (1036,)))\n",
       "  counts1d (Column(1103825, 1036), ('<f4', (1036,)))\n",
       "  counts1d_err (Column(1103825, 1036), ('<f4', (1036,)))\n",
       "  apsum_counts (Column(1103825, 1036), ('<f4', (1036,)))\n",
       "  apsum_counts_err (Column(1103825, 1036), ('<f4', (1036,)))\n",
       "  apcor (Column(1103825, 1036), ('<f4', (1036,)))\n",
       "  spec1d_nc (Column(1103825, 1036), ('<f4', (1036,)))\n",
       "  spec1d_nc_err (Column(1103825, 1036), ('<f4', (1036,)))"
      ]
     },
     "execution_count": 19,
     "metadata": {},
     "output_type": "execute_result"
    }
   ],
   "source": [
    "spectra.cols"
   ]
  },
  {
   "cell_type": "markdown",
   "metadata": {},
   "source": [
    "Flux calibrated, psf-weighted 1D spectra can be retrieved via the API for a single detectid through the function `get_spectrum`:"
   ]
  },
  {
   "cell_type": "code",
   "execution_count": 20,
   "metadata": {},
   "outputs": [],
   "source": [
    "detectid_nice_lae = 2000202849\n",
    "spec_table = detects.get_spectrum(detectid_nice_lae) "
   ]
  },
  {
   "cell_type": "code",
   "execution_count": 21,
   "metadata": {},
   "outputs": [
    {
     "data": {
      "image/png": "[encoded data removed]",
      "text/plain": [
       "<matplotlib.figure.Figure at 0x2b71639984a8>"
      ]
     },
     "metadata": {
      "needs_background": "light"
     },
     "output_type": "display_data"
    }
   ],
   "source": [
    "detects.plot_spectrum(detectid_nice_lae)"
   ]
  },
  {
   "cell_type": "markdown",
   "metadata": {},
   "source": [
    "or if we want to zoom in on the emission line:"
   ]
  },
  {
   "cell_type": "code",
   "execution_count": 22,
   "metadata": {},
   "outputs": [
    {
     "data": {
      "image/png": "[encoded data removed]",
      "text/plain": [
       "<matplotlib.figure.Figure at 0x2b7163b16240>"
      ]
     },
     "metadata": {
      "needs_background": "light"
     },
     "output_type": "display_data"
    }
   ],
   "source": [
    "cw = detects.wave[detects.detectid == detectid_nice_lae]\n",
    "detects.plot_spectrum(detectid_nice_lae, xlim=(cw-50, cw+50))"
   ]
  },
  {
   "cell_type": "markdown",
   "metadata": {},
   "source": [
    "You can also save the spectrum to a text file. It is automatically saved as spec_##detectid##.dat, but you can also use the argument `outfile`"
   ]
  },
  {
   "cell_type": "code",
   "execution_count": 41,
   "metadata": {},
   "outputs": [],
   "source": [
    "detects.save_spectrum(detectid_nice_lae)\n",
    "# or\n",
    "# detects.save_spectrum(detectid_nice_lae, outfile='tmp.txt')"
   ]
  },
  {
   "cell_type": "markdown",
   "metadata": {},
   "source": [
    "## Example: Finding average number of sources per IFU "
   ]
  },
  {
   "cell_type": "markdown",
   "metadata": {},
   "source": [
    "To reach our survey goal we need to obtain a critical number of detections per IFU on average. Here we show how the number of detections based on the signal-to-noise requirement. "
   ]
  },
  {
   "cell_type": "code",
   "execution_count": 23,
   "metadata": {},
   "outputs": [],
   "source": [
    "ndets_ifu = []\n",
    "\n",
    "sn_array = np.arange(start = 5, stop = 10, step = 1)\n",
    "\n",
    "# only choose detections that lied on good shots\n",
    "\n",
    "for sn_i in sn_array:\n",
    "    sel = (detects.sn > sn_i) * (detects.n_ifu > 0) * (detects.chi2 < 3) * (detects.chi2 >0.1)\n",
    "    detifu = 1./(detects.n_ifu[sel])\n",
    "    ndets_ifu.append(np.sum(detifu)/np.size(np.unique(detects.shotid)))\n",
    "    \n",
    "ndets_ifult2 = []\n",
    "\n",
    "for sn_i in sn_array:\n",
    "    sel = (detects.sn > sn_i) * (detects.n_ifu > 0) * (detects.chi2 < 2) * (detects.chi2 >0.1)\n",
    "    detifu = 1./(detects.n_ifu[sel])\n",
    "    ndets_ifult2.append(np.sum(detifu)/np.size(np.unique(detects.shotid)))\n",
    "    \n",
    "# only choose detections that lied on good shots\n",
    "sel = (detects.throughput > 0.095) * (detects.fwhm < 2.5)\n",
    "detects_good_shots = detects[sel]\n",
    "\n",
    "ndets_ifu_gs =[]\n",
    "for sn_i in sn_array:\n",
    "    sel = (detects_good_shots.sn > sn_i) * (detects_good_shots.n_ifu > 0) * (detects_good_shots.chi2 < 3) * (detects_good_shots.chi2 >0.1)\n",
    "    detifu = 1./(detects_good_shots.n_ifu[sel])\n",
    "    ndets_ifu_gs.append(np.sum(detifu)/np.size(np.unique(detects_good_shots.shotid)))\n",
    "    \n",
    "ndets_ifu_gs_lt2 = []\n",
    "for sn_i in sn_array:\n",
    "    sel = (detects_good_shots.sn > sn_i) * (detects_good_shots.n_ifu > 0) * (detects_good_shots.chi2 < 2) * (detects_good_shots.chi2 >0.1)\n",
    "    detifu = 1./(detects_good_shots.n_ifu[sel])\n",
    "    ndets_ifu_gs_lt2.append(np.sum(detifu)/np.size(np.unique(detects_good_shots.shotid)))\n",
    "    "
   ]
  },
  {
   "cell_type": "code",
   "execution_count": 24,
   "metadata": {},
   "outputs": [
    {
     "data": {
      "image/png": "[encoded data removed]",
      "text/plain": [
       "<matplotlib.figure.Figure at 0x2b7163995b70>"
      ]
     },
     "metadata": {
      "needs_background": "light"
     },
     "output_type": "display_data"
    }
   ],
   "source": [
    "plt.rcParams.update({'font.size': 18})\n",
    "plt.figure(figsize=(9,9))\n",
    "plt.scatter(sn_array, ndets_ifu, label='Chi2 < 3')\n",
    "plt.scatter(sn_array, ndets_ifu_gs, label='Chi2 < 3, tp > 0.095, fwhm < 2.5')\n",
    "plt.scatter(sn_array, ndets_ifult2, label='Chi2 < 2')\n",
    "plt.scatter(sn_array, ndets_ifu_gs_lt2, label='Chi2 < 2, tp > 0.095, fwhm < 2.5')\n",
    "plt.xlabel('SN')\n",
    "plt.ylabel('N detections per IFU')\n",
    "plt.legend(fontsize='small')\n",
    "plt.savefig('ndetsperifu_vs_sn.png')"
   ]
  },
  {
   "cell_type": "markdown",
   "metadata": {},
   "source": [
    "## Saving to a file"
   ]
  },
  {
   "cell_type": "markdown",
   "metadata": {},
   "source": [
    "If you want to just save a subset of columns for a subset of detections, use the `return_astropy_table()` function to return all column attributes of the Detections class into an astropy table which you may then save."
   ]
  },
  {
   "cell_type": "code",
   "execution_count": 44,
   "metadata": {},
   "outputs": [],
   "source": [
    "detects = Detections('hdr1').refine(gmagcut=21)\n",
    "sel = (detects.throughput > 0.09) * (detects.fwhm < 2.6) * (detects.chi2 < 1.6) * (detects.chi2 < 1.1+0.9*(detects.sn-5.2)/(8-5.2)) \n",
    "detects_sel = detects[sel]\n",
    "table_sel = detects_sel.return_astropy_table()"
   ]
  },
  {
   "cell_type": "code",
   "execution_count": 45,
   "metadata": {},
   "outputs": [],
   "source": [
    "ascii.write(table_sel, 'HDR1_source_catalog_20190628.dat', overwrite=True)"
   ]
  },
  {
   "cell_type": "markdown",
   "metadata": {},
   "source": [
    "## Getting Fiber information for a detection"
   ]
  },
  {
   "cell_type": "markdown",
   "metadata": {},
   "source": [
    "You can find a list of all fibers used in the measurement in the Fibers table. The Fibers table and its associated columns can be accessed similar to the Spectra table by searching for a match in the the detectid column. "
   ]
  },
  {
   "cell_type": "code",
   "execution_count": 25,
   "metadata": {},
   "outputs": [
    {
     "data": {
      "text/plain": [
       "/Fibers.cols (Cols), 23 columns\n",
       "  detectid (Column(15019537,), int64)\n",
       "  ra (Column(15019537,), float32)\n",
       "  dec (Column(15019537,), float32)\n",
       "  multiframe (Column(15019537,), |S20)\n",
       "  fiber_id (Column(15019537,), |S38)\n",
       "  x_ifu (Column(15019537,), float32)\n",
       "  y_ifu (Column(15019537,), float32)\n",
       "  date (Column(15019537,), int32)\n",
       "  obsid (Column(15019537,), int32)\n",
       "  expnum (Column(15019537,), int32)\n",
       "  distance (Column(15019537,), float32)\n",
       "  timestamp (Column(15019537,), |S17)\n",
       "  wavein (Column(15019537,), float32)\n",
       "  flag (Column(15019537,), int32)\n",
       "  weight (Column(15019537,), float32)\n",
       "  ADC (Column(15019537, 5), ('<f4', (5,)))\n",
       "  amp (Column(15019537,), |S2)\n",
       "  fibnum (Column(15019537,), int32)\n",
       "  ifuid (Column(15019537,), |S3)\n",
       "  ifuslot (Column(15019537,), |S3)\n",
       "  specid (Column(15019537,), |S3)\n",
       "  x_raw (Column(15019537,), int32)\n",
       "  y_raw (Column(15019537,), int32)"
      ]
     },
     "execution_count": 25,
     "metadata": {},
     "output_type": "execute_result"
    }
   ],
   "source": [
    "fibers = detects.hdfile.root.Fibers\n",
    "fibers.cols"
   ]
  },
  {
   "cell_type": "markdown",
   "metadata": {},
   "source": [
    "Access the fiber table for the above source:"
   ]
  },
  {
   "cell_type": "code",
   "execution_count": 26,
   "metadata": {},
   "outputs": [],
   "source": [
    "fiber_table = fibers.read_where(\"detectid == detectid_nice_lae\") "
   ]
  },
  {
   "cell_type": "code",
   "execution_count": 27,
   "metadata": {
    "scrolled": true
   },
   "outputs": [
    {
     "data": {
      "text/html": [
       "<i>Table length=15</i>\n",
       "<table id=\"table47766103988376\" class=\"table-striped table-bordered table-condensed\">\n",
       "<thead><tr><th>detectid</th><th>ra</th><th>dec</th><th>multiframe</th><th>fiber_id</th><th>x_ifu</th><th>y_ifu</th><th>date</th><th>obsid</th><th>expnum</th><th>distance</th><th>timestamp</th><th>wavein</th><th>flag</th><th>weight</th><th>ADC [5]</th><th>amp</th><th>fibnum</th><th>ifuid</th><th>ifuslot</th><th>specid</th><th>x_raw</th><th>y_raw</th></tr></thead>\n",
       "<thead><tr><th>int64</th><th>float32</th><th>float32</th><th>bytes20</th><th>bytes38</th><th>float32</th><th>float32</th><th>int32</th><th>int32</th><th>int32</th><th>float32</th><th>bytes17</th><th>float32</th><th>int32</th><th>float32</th><th>float32</th><th>bytes2</th><th>int32</th><th>bytes3</th><th>bytes3</th><th>bytes3</th><th>int32</th><th>int32</th></tr></thead>\n",
       "<tr><td>2000202849</td><td>199.35779</td><td>51.066734</td><td>multi_025_076_032_RU</td><td>20180313011_1_multi_025_076_032_RU_012</td><td>-5.08</td><td>24.24</td><td>20180313</td><td>11</td><td>1</td><td>2.196</td><td>20180313T060419.0</td><td>3836.4</td><td>0</td><td>0.0216</td><td>0.0 .. 0.0</td><td>RU</td><td>12</td><td>032</td><td>076</td><td>025</td><td>180</td><td>123</td></tr>\n",
       "<tr><td>2000202849</td><td>199.35672</td><td>51.0665</td><td>multi_025_076_032_RU</td><td>20180313011_1_multi_025_076_032_RU_013</td><td>-7.63</td><td>24.24</td><td>20180313</td><td>11</td><td>1</td><td>2.698</td><td>20180313T060419.0</td><td>3836.4</td><td>0</td><td>0.0074</td><td>0.0 .. 0.0</td><td>RU</td><td>13</td><td>032</td><td>076</td><td>025</td><td>180</td><td>132</td></tr>\n",
       "<tr><td>2000202849</td><td>199.358</td><td>51.06743</td><td>multi_025_076_032_RU</td><td>20180313011_1_multi_025_076_032_RU_031</td><td>-3.81</td><td>22.03</td><td>20180313</td><td>11</td><td>1</td><td>2.07</td><td>20180313T060419.0</td><td>3836.4</td><td>0</td><td>0.017</td><td>0.0 .. 0.0</td><td>RU</td><td>31</td><td>032</td><td>076</td><td>025</td><td>178</td><td>291</td></tr>\n",
       "<tr><td>2000202849</td><td>199.35693</td><td>51.0672</td><td>multi_025_076_032_RU</td><td>20180313011_1_multi_025_076_032_RU_032</td><td>-6.36</td><td>22.03</td><td>20180313</td><td>11</td><td>1</td><td>0.513</td><td>20180313T060419.0</td><td>3836.4</td><td>0</td><td>0.3247</td><td>0.0 .. 0.0</td><td>RU</td><td>32</td><td>032</td><td>076</td><td>025</td><td>178</td><td>300</td></tr>\n",
       "<tr><td>2000202849</td><td>199.35715</td><td>51.06789</td><td>multi_025_076_032_RU</td><td>20180313011_1_multi_025_076_032_RU_051</td><td>-5.08</td><td>19.83</td><td>20180313</td><td>11</td><td>1</td><td>2.492</td><td>20180313T060419.0</td><td>3836.4</td><td>0</td><td>0.0053</td><td>0.0 .. 0.0</td><td>RU</td><td>51</td><td>032</td><td>076</td><td>025</td><td>176</td><td>476</td></tr>\n",
       "<tr><td>2000202849</td><td>199.35608</td><td>51.06766</td><td>multi_025_076_032_RU</td><td>20180313011_1_multi_025_076_032_RU_052</td><td>-7.63</td><td>19.83</td><td>20180313</td><td>11</td><td>1</td><td>2.944</td><td>20180313T060419.0</td><td>3836.4</td><td>0</td><td>0.0024</td><td>0.0 .. 0.0</td><td>RU</td><td>52</td><td>032</td><td>076</td><td>025</td><td>176</td><td>484</td></tr>\n",
       "<tr><td>2000202849</td><td>199.3582</td><td>51.067028</td><td>multi_025_076_032_RU</td><td>20180313011_2_multi_025_076_032_RU_012</td><td>-5.08</td><td>24.24</td><td>20180313</td><td>11</td><td>2</td><td>2.419</td><td>20180313T061147.1</td><td>3836.4</td><td>0</td><td>0.01</td><td>0.0 .. 0.0</td><td>RU</td><td>12</td><td>032</td><td>076</td><td>025</td><td>181</td><td>123</td></tr>\n",
       "<tr><td>2000202849</td><td>199.35713</td><td>51.066795</td><td>multi_025_076_032_RU</td><td>20180313011_2_multi_025_076_032_RU_013</td><td>-7.63</td><td>24.24</td><td>20180313</td><td>11</td><td>2</td><td>1.452</td><td>20180313T061147.1</td><td>3836.4</td><td>0</td><td>0.1145</td><td>0.0 .. 0.0</td><td>RU</td><td>13</td><td>032</td><td>076</td><td>025</td><td>180</td><td>132</td></tr>\n",
       "<tr><td>2000202849</td><td>199.35735</td><td>51.067493</td><td>multi_025_076_032_RU</td><td>20180313011_2_multi_025_076_032_RU_032</td><td>-6.36</td><td>22.03</td><td>20180313</td><td>11</td><td>2</td><td>1.129</td><td>20180313T061147.1</td><td>3836.4</td><td>0</td><td>0.1042</td><td>0.0 .. 0.0</td><td>RU</td><td>32</td><td>032</td><td>076</td><td>025</td><td>178</td><td>300</td></tr>\n",
       "<tr><td>2000202849</td><td>199.35628</td><td>51.06726</td><td>multi_025_076_032_RU</td><td>20180313011_2_multi_025_076_032_RU_033</td><td>-8.9</td><td>22.03</td><td>20180313</td><td>11</td><td>2</td><td>2.006</td><td>20180313T061147.1</td><td>3836.4</td><td>0</td><td>0.0216</td><td>0.0 .. 0.0</td><td>RU</td><td>33</td><td>032</td><td>076</td><td>025</td><td>178</td><td>308</td></tr>\n",
       "<tr><td>2000202849</td><td>199.35733</td><td>51.06643</td><td>multi_025_076_032_RU</td><td>20180313011_3_multi_025_076_032_RU_013</td><td>-7.63</td><td>24.24</td><td>20180313</td><td>11</td><td>3</td><td>2.8</td><td>20180313T061917.4</td><td>3836.4</td><td>0</td><td>0.0061</td><td>0.0 .. 0.0</td><td>RU</td><td>13</td><td>032</td><td>076</td><td>025</td><td>180</td><td>132</td></tr>\n",
       "<tr><td>2000202849</td><td>199.35754</td><td>51.067123</td><td>multi_025_076_032_RU</td><td>20180313011_3_multi_025_076_032_RU_032</td><td>-6.36</td><td>22.03</td><td>20180313</td><td>11</td><td>3</td><td>0.906</td><td>20180313T061917.4</td><td>3836.4</td><td>0</td><td>0.2242</td><td>0.0 .. 0.0</td><td>RU</td><td>32</td><td>032</td><td>076</td><td>025</td><td>178</td><td>300</td></tr>\n",
       "<tr><td>2000202849</td><td>199.35649</td><td>51.066895</td><td>multi_025_076_032_RU</td><td>20180313011_3_multi_025_076_032_RU_033</td><td>-8.9</td><td>22.03</td><td>20180313</td><td>11</td><td>3</td><td>1.89</td><td>20180313T061917.4</td><td>3836.4</td><td>0</td><td>0.0404</td><td>0.0 .. 0.0</td><td>RU</td><td>33</td><td>032</td><td>076</td><td>025</td><td>178</td><td>308</td></tr>\n",
       "<tr><td>2000202849</td><td>199.35776</td><td>51.067818</td><td>multi_025_076_032_RU</td><td>20180313011_3_multi_025_076_032_RU_051</td><td>-5.08</td><td>19.83</td><td>20180313</td><td>11</td><td>3</td><td>2.607</td><td>20180313T061917.4</td><td>3836.4</td><td>0</td><td>0.0044</td><td>0.0 .. 0.0</td><td>RU</td><td>51</td><td>032</td><td>076</td><td>025</td><td>176</td><td>476</td></tr>\n",
       "<tr><td>2000202849</td><td>199.35669</td><td>51.067585</td><td>multi_025_076_032_RU</td><td>20180313011_3_multi_025_076_032_RU_052</td><td>-7.63</td><td>19.83</td><td>20180313</td><td>11</td><td>3</td><td>1.748</td><td>20180313T061917.4</td><td>3836.4</td><td>0</td><td>0.0297</td><td>0.0 .. 0.0</td><td>RU</td><td>52</td><td>032</td><td>076</td><td>025</td><td>176</td><td>485</td></tr>\n",
       "</table>"
      ],
      "text/plain": [
       "<Table length=15>\n",
       " detectid      ra       dec         multiframe      ... specid x_raw y_raw\n",
       "  int64     float32   float32        bytes20        ... bytes3 int32 int32\n",
       "---------- --------- --------- -------------------- ... ------ ----- -----\n",
       "2000202849 199.35779 51.066734 multi_025_076_032_RU ...    025   180   123\n",
       "2000202849 199.35672   51.0665 multi_025_076_032_RU ...    025   180   132\n",
       "2000202849   199.358  51.06743 multi_025_076_032_RU ...    025   178   291\n",
       "2000202849 199.35693   51.0672 multi_025_076_032_RU ...    025   178   300\n",
       "2000202849 199.35715  51.06789 multi_025_076_032_RU ...    025   176   476\n",
       "2000202849 199.35608  51.06766 multi_025_076_032_RU ...    025   176   484\n",
       "2000202849  199.3582 51.067028 multi_025_076_032_RU ...    025   181   123\n",
       "2000202849 199.35713 51.066795 multi_025_076_032_RU ...    025   180   132\n",
       "2000202849 199.35735 51.067493 multi_025_076_032_RU ...    025   178   300\n",
       "2000202849 199.35628  51.06726 multi_025_076_032_RU ...    025   178   308\n",
       "2000202849 199.35733  51.06643 multi_025_076_032_RU ...    025   180   132\n",
       "2000202849 199.35754 51.067123 multi_025_076_032_RU ...    025   178   300\n",
       "2000202849 199.35649 51.066895 multi_025_076_032_RU ...    025   178   308\n",
       "2000202849 199.35776 51.067818 multi_025_076_032_RU ...    025   176   476\n",
       "2000202849 199.35669 51.067585 multi_025_076_032_RU ...    025   176   485"
      ]
     },
     "execution_count": 27,
     "metadata": {},
     "output_type": "execute_result"
    }
   ],
   "source": [
    "Table(fiber_table)"
   ]
  },
  {
   "cell_type": "markdown",
   "metadata": {},
   "source": [
    "When you are done with the HDF5 file, close it. The data that you extracted into tables and arrays will remain."
   ]
  },
  {
   "cell_type": "code",
   "execution_count": 28,
   "metadata": {},
   "outputs": [],
   "source": [
    "detects.hdfile.close()"
   ]
  },
  {
   "cell_type": "markdown",
   "metadata": {
    "collapsed": true
   },
   "source": [
    "## Accessing the ELiXer Classifications"
   ]
  },
  {
   "cell_type": "code",
   "execution_count": 30,
   "metadata": {},
   "outputs": [],
   "source": [
    "config = HDRconfig(survey='hdr2')\n",
    "file_elix = tb.open_file(config.elixerh5)"
   ]
  },
  {
   "cell_type": "code",
   "execution_count": 33,
   "metadata": {},
   "outputs": [
    {
     "data": {
      "text/plain": [
       "/Detections (Table(1098592,)) 'ELiXer Detection Summary Table'\n",
       "  description := {\n",
       "  \"detectid\": Int64Col(shape=(), dflt=0, pos=0),\n",
       "  \"detectname\": StringCol(itemsize=64, shape=(), dflt=b'', pos=1),\n",
       "  \"elixer_version\": StringCol(itemsize=16, shape=(), dflt=b'', pos=2),\n",
       "  \"elixer_datetime\": StringCol(itemsize=21, shape=(), dflt=b'', pos=3),\n",
       "  \"ra\": Float32Col(shape=(), dflt=-999.999, pos=4),\n",
       "  \"dec\": Float32Col(shape=(), dflt=-999.999, pos=5),\n",
       "  \"wavelength_obs\": Float32Col(shape=(), dflt=-999.999, pos=6),\n",
       "  \"wavelength_obs_err\": Float32Col(shape=(), dflt=-999.999, pos=7),\n",
       "  \"chi2\": Float32Col(shape=(), dflt=-999.999, pos=8),\n",
       "  \"chi2_err\": Float32Col(shape=(), dflt=-999.999, pos=9),\n",
       "  \"combined_continuum\": Float32Col(shape=(), dflt=-999.999, pos=10),\n",
       "  \"combined_continuum_err\": Float32Col(shape=(), dflt=-999.999, pos=11),\n",
       "  \"combined_plae\": Float32Col(shape=(), dflt=-999.999, pos=12),\n",
       "  \"combined_plae_err\": Float32Col(shape=(), dflt=-999.999, pos=13),\n",
       "  \"continuum_full_spec\": Float32Col(shape=(), dflt=-999.999, pos=14),\n",
       "  \"continuum_full_spec_err\": Float32Col(shape=(), dflt=-999.999, pos=15),\n",
       "  \"continuum_line\": Float32Col(shape=(), dflt=-999.999, pos=16),\n",
       "  \"continuum_line_err\": Float32Col(shape=(), dflt=-999.999, pos=17),\n",
       "  \"continuum_sdss_g\": Float32Col(shape=(), dflt=-999.999, pos=18),\n",
       "  \"continuum_sdss_g_err\": Float32Col(shape=(), dflt=-999.999, pos=19),\n",
       "  \"eqw_rest_lya_full_spec\": Float32Col(shape=(), dflt=-999.999, pos=20),\n",
       "  \"eqw_rest_lya_full_spec_err\": Float32Col(shape=(), dflt=-999.999, pos=21),\n",
       "  \"eqw_rest_lya_line\": Float32Col(shape=(), dflt=-999.999, pos=22),\n",
       "  \"eqw_rest_lya_line_err\": Float32Col(shape=(), dflt=-999.999, pos=23),\n",
       "  \"eqw_rest_lya_sdss_g\": Float32Col(shape=(), dflt=-999.999, pos=24),\n",
       "  \"eqw_rest_lya_sdss_g_err\": Float32Col(shape=(), dflt=-999.999, pos=25),\n",
       "  \"fieldname\": StringCol(itemsize=32, shape=(), dflt=b'', pos=26),\n",
       "  \"flux_line\": Float32Col(shape=(), dflt=-999.999, pos=27),\n",
       "  \"flux_line_err\": Float32Col(shape=(), dflt=-999.999, pos=28),\n",
       "  \"fwhm_line_aa\": Float32Col(shape=(), dflt=-999.999, pos=29),\n",
       "  \"fwhm_line_aa_err\": Float32Col(shape=(), dflt=-999.999, pos=30),\n",
       "  \"ifuid\": StringCol(itemsize=3, shape=(), dflt=b'', pos=31),\n",
       "  \"ifuslot\": StringCol(itemsize=3, shape=(), dflt=b'', pos=32),\n",
       "  \"mag_full_spec\": Float32Col(shape=(), dflt=-999.999, pos=33),\n",
       "  \"mag_full_spec_err\": Float32Col(shape=(), dflt=-999.999, pos=34),\n",
       "  \"mag_sdss_g\": Float32Col(shape=(), dflt=-999.999, pos=35),\n",
       "  \"mag_sdss_g_err\": Float32Col(shape=(), dflt=-999.999, pos=36),\n",
       "  \"multiline_flag\": BoolCol(shape=(), dflt=False, pos=37),\n",
       "  \"multiline_frac_score\": Float32Col(shape=(), dflt=-999.999, pos=38),\n",
       "  \"multiline_name\": StringCol(itemsize=16, shape=(), dflt=b'', pos=39),\n",
       "  \"multiline_prob\": Float32Col(shape=(), dflt=-999.999, pos=40),\n",
       "  \"multiline_raw_score\": Float32Col(shape=(), dflt=-999.999, pos=41),\n",
       "  \"multiline_rest_w\": Float32Col(shape=(), dflt=-999.999, pos=42),\n",
       "  \"multiline_z\": Float32Col(shape=(), dflt=-999.999, pos=43),\n",
       "  \"obsid\": Int32Col(shape=(), dflt=0, pos=44),\n",
       "  \"plae_classification\": Float32Col(shape=(), dflt=-999.999, pos=45),\n",
       "  \"plae_full_spec\": Float32Col(shape=(), dflt=-999.999, pos=46),\n",
       "  \"plae_full_spec_max\": Float32Col(shape=(), dflt=-999.999, pos=47),\n",
       "  \"plae_full_spec_min\": Float32Col(shape=(), dflt=-999.999, pos=48),\n",
       "  \"plae_line\": Float32Col(shape=(), dflt=-999.999, pos=49),\n",
       "  \"plae_line_max\": Float32Col(shape=(), dflt=-999.999, pos=50),\n",
       "  \"plae_line_min\": Float32Col(shape=(), dflt=-999.999, pos=51),\n",
       "  \"plae_sdss_g\": Float32Col(shape=(), dflt=-999.999, pos=52),\n",
       "  \"plae_sdss_g_max\": Float32Col(shape=(), dflt=-999.999, pos=53),\n",
       "  \"plae_sdss_g_min\": Float32Col(shape=(), dflt=-999.999, pos=54),\n",
       "  \"pseudo_color_blue_flux\": Float32Col(shape=(), dflt=-999.999, pos=55),\n",
       "  \"pseudo_color_blue_flux_err\": Float32Col(shape=(), dflt=-999.999, pos=56),\n",
       "  \"pseudo_color_flag\": Int64Col(shape=(), dflt=0, pos=57),\n",
       "  \"pseudo_color_red_flux\": Float32Col(shape=(), dflt=-999.999, pos=58),\n",
       "  \"pseudo_color_red_flux_err\": Float32Col(shape=(), dflt=-999.999, pos=59),\n",
       "  \"pseudo_color_rvb_ratio\": Float32Col(shape=(), dflt=-999.999, pos=60),\n",
       "  \"pseudo_color_rvb_ratio_err\": Float32Col(shape=(), dflt=-999.999, pos=61),\n",
       "  \"response\": Float32Col(shape=(), dflt=-999.999, pos=62),\n",
       "  \"seeing_gaussian\": Float32Col(shape=(), dflt=-999.999, pos=63),\n",
       "  \"seeing_moffat\": Float32Col(shape=(), dflt=-999.999, pos=64),\n",
       "  \"shotid\": Int64Col(shape=(), dflt=0, pos=65),\n",
       "  \"sn\": Float32Col(shape=(), dflt=-999.999, pos=66),\n",
       "  \"sn_err\": Float32Col(shape=(), dflt=-999.999, pos=67),\n",
       "  \"specid\": StringCol(itemsize=3, shape=(), dflt=b'', pos=68)}\n",
       "  byteorder := 'little'\n",
       "  chunkshape := (159,)\n",
       "  autoindex := True\n",
       "  colindexes := {\n",
       "    \"detectid\": Index(9, full, shuffle, zlib(1)).is_csi=True}"
      ]
     },
     "execution_count": 33,
     "metadata": {},
     "output_type": "execute_result"
    }
   ],
   "source": [
    "file_elix.root.Detections"
   ]
  },
  {
   "cell_type": "markdown",
   "metadata": {},
   "source": [
    "Note: these are also appended to the Detections() class object. Each column in the above table can be accessed as an attribute of the Detections() class object. For example, the probability of LAE to OII measured from the HETDEX continuum is:"
   ]
  },
  {
   "cell_type": "code",
   "execution_count": 36,
   "metadata": {},
   "outputs": [],
   "source": [
    "#detects.plae_poii_hetdex"
   ]
  },
  {
   "cell_type": "markdown",
   "metadata": {},
   "source": [
    "or the nearest neighbour magnitude in an ancillary photometric catalog is:"
   ]
  },
  {
   "cell_type": "code",
   "execution_count": 37,
   "metadata": {},
   "outputs": [],
   "source": [
    "#detects.mag_match"
   ]
  },
  {
   "cell_type": "markdown",
   "metadata": {},
   "source": [
    "and this comes from the filter:"
   ]
  },
  {
   "cell_type": "code",
   "execution_count": 38,
   "metadata": {},
   "outputs": [],
   "source": [
    "#detects.cat_filter"
   ]
  },
  {
   "cell_type": "code",
   "execution_count": null,
   "metadata": {},
   "outputs": [],
   "source": []
  }
 ],
 "metadata": {
  "kernelspec": {
   "display_name": "Python 3",
   "language": "python",
   "name": "python3"
  },
  "language_info": {
   "codemirror_mode": {
    "name": "ipython",
    "version": 3
   },
   "file_extension": ".py",
   "mimetype": "text/x-python",
   "name": "python",
   "nbconvert_exporter": "python",
   "pygments_lexer": "ipython3",
   "version": "3.7.0"
  }
 },
 "nbformat": 4,
 "nbformat_minor": 2
}
