{
 "cells": [
  {
   "cell_type": "markdown",
   "metadata": {},
   "source": [
    "# How to set it up"
   ]
  },
  {
   "cell_type": "markdown",
   "metadata": {},
   "source": [
    "First make sure you pip install and set these settings. This will probably work here in the notebook or you can pipe the commands into a terminal. If you run in the notebook, shutdown the kernal and restart it after you have run these setup commands. They only need to be run once."
   ]
  },
  {
   "cell_type": "code",
   "execution_count": null,
   "metadata": {},
   "outputs": [],
   "source": [
    "! pip3 install astrowidgets --user"
   ]
  },
  {
   "cell_type": "code",
   "execution_count": null,
   "metadata": {},
   "outputs": [],
   "source": [
    "! pip3 install --user jsonschema==3.1.1"
   ]
  },
  {
   "cell_type": "code",
   "execution_count": null,
   "metadata": {},
   "outputs": [],
   "source": [
    "! pip3 install ipyevents  --user "
   ]
  },
  {
   "cell_type": "code",
   "execution_count": null,
   "metadata": {},
   "outputs": [],
   "source": [
    "! jupyter nbextension enable --py widgetsnbextension\n",
    "! jupyter nbextension enable --py ipyevents"
   ]
  },
  {
   "cell_type": "markdown",
   "metadata": {},
   "source": [
    "# Examples of the QueryWidget"
   ]
  },
  {
   "cell_type": "markdown",
   "metadata": {},
   "source": [
    "You probably don't need all this preamble, but we'll keep it here for now:"
   ]
  },
  {
   "cell_type": "code",
   "execution_count": 11,
   "metadata": {},
   "outputs": [],
   "source": [
    "from astrowidgets import ImageWidget\n",
    "import ipywidgets as widgets\n",
    "\n",
    "from astropy.wcs import WCS\n",
    "import astropy.units as u\n",
    "from astropy.coordinates import SkyCoord\n",
    "from astropy.io import fits\n",
    "\n",
    "from hetdex_api.query_widget import * \n",
    "from get_spec import get_spectra"
   ]
  },
  {
   "cell_type": "code",
   "execution_count": 12,
   "metadata": {},
   "outputs": [],
   "source": [
    "import sys\n",
    "sys.path.append('/work/03946/hetdex/hdr1/software/elixer')\n",
    "import catalogs\n",
    "\n",
    "import matplotlib.pyplot as plt\n",
    "%matplotlib inline"
   ]
  },
  {
   "cell_type": "code",
   "execution_count": 13,
   "metadata": {},
   "outputs": [
    {
     "data": {
      "application/javascript": [
       "IPython.OutputArea.prototype._should_scroll = function(lines) {\n",
       "    return false;\n",
       "}\n"
      ],
      "text/plain": [
       "<IPython.core.display.Javascript object>"
      ]
     },
     "metadata": {},
     "output_type": "display_data"
    }
   ],
   "source": [
    "%%javascript\n",
    "IPython.OutputArea.prototype._should_scroll = function(lines) {\n",
    "    return false;\n",
    "}"
   ]
  },
  {
   "cell_type": "markdown",
   "metadata": {},
   "source": [
    "## Intro to the QueryWidget Class"
   ]
  },
  {
   "cell_type": "markdown",
   "metadata": {},
   "source": [
    "To initiate the QueryWidget you can do a call to the class without any optional parameters. This will open up on a predefined detectid/coordinate as an example. The widget can handle both changes to the detectid or manual changes to the input RA and DEC (in degrees). In order to load the corresponding imaging at the input coordinate you need to press the `Pan to Coords` button. This will take a couple seconds to load so be patient."
   ]
  },
  {
   "cell_type": "markdown",
   "metadata": {},
   "source": [
    "The QueryWidget is created using the astrowidgets interface to ginga. In many ways ginga is like ds9 providing interactive capabilities with astronomical images. If your cursor is not producing changes to the output under the image, then its not working properly. Ginga is very interactive with mouse and trackpad changes. Many of the things that took menu switches in ds9 can be done with keyboard shortcuts. See this page for a summary of changes. You should be able to pan around with your trackpad and scroll in and out with +/-. Changes in contrast and scale are also available through keyboard/mouse clicks. \n",
    "\n",
    "https://ginga.readthedocs.io/en/stable/quickref.html#ginga-quick-reference\n",
    "\n",
    "They can also be entered in as attributes and some examples will follow below. To learn the full extent you can read about ginga and astrowidgets here:\n",
    "\n",
    "https://astrowidgets.readthedocs.io/\n",
    "https://ginga.readthedocs.io/"
   ]
  },
  {
   "cell_type": "markdown",
   "metadata": {},
   "source": [
    "### How initiate the QueryWidget and grab HETDEX sources"
   ]
  },
  {
   "cell_type": "markdown",
   "metadata": {},
   "source": [
    "The widget will bring up any g-band ancillary HETDEX imaging data we have around a coordinate/detectid. If there is no g-band, it will get the r-band data and if there is no r-band, it will get an image from SDSS. You can attempt to extract HETDEX spectra at any coordinate using the \"Mark Sources\" button. Once done selecting regions, press `Stop Marking`. A table of coordinates will show up below the buttons. Then you can press the `Extract Object` button to grab HETDEX spectra. This will extract 3\" radius aperures (or change this using the aperture= \"astropy unit\" option). Then spectra will be retrieved from HDR1. This will take about a minute (it will speed up soon hopefully). Once the spectra is retrieved (one spectra for each separate shotid/observation of the source), they are displayed in tabs on the right hand of the widget."
   ]
  },
  {
   "cell_type": "code",
   "execution_count": 9,
   "metadata": {},
   "outputs": [
    {
     "data": {
      "application/vnd.jupyter.widget-view+json": {
       "model_id": "c880e0fe734e4062bfb0c0b75ceab7db",
       "version_major": 2,
       "version_minor": 0
      },
      "text/plain": [
       "HBox(children=(Dropdown(layout=Layout(width='10%'), options=('HDR1', 'HDR2'), value='HDR1'), BoundedIntText(va…"
      ]
     },
     "metadata": {},
     "output_type": "display_data"
    },
    {
     "data": {
      "application/vnd.jupyter.widget-view+json": {
       "model_id": "562352aeee0646579f3486fb1987a9f4",
       "version_major": 2,
       "version_minor": 0
      },
      "text/plain": [
       "HBox(children=(VBox(children=(ImageWidget(children=(Image(value=b'\\xff\\xd8\\xff\\xe0\\x00\\x10JFIF\\x00\\x01\\x01\\x00…"
      ]
     },
     "metadata": {},
     "output_type": "display_data"
    },
    {
     "data": {
      "application/vnd.jupyter.widget-view+json": {
       "model_id": "ae5b9ab4490e47bab54cf466bbfb8b11",
       "version_major": 2,
       "version_minor": 0
      },
      "text/plain": [
       "Output(layout=Layout(border='1px solid black'))"
      ]
     },
     "metadata": {},
     "output_type": "display_data"
    }
   ],
   "source": [
    "query_widget = QueryWidget()"
   ]
  },
  {
   "cell_type": "markdown",
   "metadata": {},
   "source": [
    "The spectra table can be found as an attribute to the QueryWidget class:"
   ]
  },
  {
   "cell_type": "code",
   "execution_count": 6,
   "metadata": {},
   "outputs": [
    {
     "data": {
      "text/html": [
       "<i>Table length=8</i>\n",
       "<table id=\"table47792839863600\" class=\"table-striped table-bordered table-condensed\">\n",
       "<thead><tr><th>ID</th><th>shotid</th><th>wavelength [1036]</th><th>spec [1036]</th><th>spec_err [1036]</th><th>weights [1036]</th></tr></thead>\n",
       "<thead><tr><th></th><th></th><th>Angstrom</th><th>1e-17 erg / (Angstrom cm2 s)</th><th>1e-17 erg / (Angstrom cm2 s)</th><th></th></tr></thead>\n",
       "<thead><tr><th>int64</th><th>int64</th><th>float64</th><th>float64</th><th>float64</th><th>float64</th></tr></thead>\n",
       "<tr><td>1</td><td>20180210011</td><td>3470.0 .. 5540.0</td><td>nan .. nan</td><td>nan .. nan</td><td>0.45825743797742485 .. 0.1986096208952891</td></tr>\n",
       "<tr><td>1</td><td>20180411018</td><td>3470.0 .. 5540.0</td><td>nan .. nan</td><td>nan .. nan</td><td>0.944085372064947 .. 0.9441037759872564</td></tr>\n",
       "<tr><td>2</td><td>20180210011</td><td>3470.0 .. 5540.0</td><td>nan .. nan</td><td>nan .. nan</td><td>0.875699743962099 .. 0.7972467839243934</td></tr>\n",
       "<tr><td>2</td><td>20180411018</td><td>3470.0 .. 5540.0</td><td>nan .. nan</td><td>nan .. nan</td><td>0.9414616721951 .. 0.9430493094002584</td></tr>\n",
       "<tr><td>3</td><td>20180210011</td><td>3470.0 .. 5540.0</td><td>nan .. nan</td><td>nan .. nan</td><td>0.03863340905973823 .. 0.014519713096225746</td></tr>\n",
       "<tr><td>3</td><td>20180411018</td><td>3470.0 .. 5540.0</td><td>nan .. nan</td><td>nan .. nan</td><td>0.9451208627834504 .. 0.9401046619726603</td></tr>\n",
       "<tr><td>4</td><td>20180210011</td><td>3470.0 .. 5540.0</td><td>nan .. nan</td><td>nan .. nan</td><td>0.24055621327444493 .. 0.09363595525786908</td></tr>\n",
       "<tr><td>4</td><td>20180411018</td><td>3470.0 .. 5540.0</td><td>nan .. nan</td><td>nan .. nan</td><td>0.9412242143861734 .. 0.9424447728279977</td></tr>\n",
       "</table>"
      ],
      "text/plain": [
       "<Table length=8>\n",
       "  ID     shotid   ...                weights [1036]              \n",
       "                  ...                                            \n",
       "int64    int64    ...                   float64                  \n",
       "----- ----------- ... -------------------------------------------\n",
       "    1 20180210011 ...   0.45825743797742485 .. 0.1986096208952891\n",
       "    1 20180411018 ...     0.944085372064947 .. 0.9441037759872564\n",
       "    2 20180210011 ...     0.875699743962099 .. 0.7972467839243934\n",
       "    2 20180411018 ...       0.9414616721951 .. 0.9430493094002584\n",
       "    3 20180210011 ... 0.03863340905973823 .. 0.014519713096225746\n",
       "    3 20180411018 ...    0.9451208627834504 .. 0.9401046619726603\n",
       "    4 20180210011 ...  0.24055621327444493 .. 0.09363595525786908\n",
       "    4 20180411018 ...    0.9412242143861734 .. 0.9424447728279977"
      ]
     },
     "execution_count": 6,
     "metadata": {},
     "output_type": "execute_result"
    }
   ],
   "source": [
    "query_widget.spec_table"
   ]
  },
  {
   "cell_type": "markdown",
   "metadata": {},
   "source": [
    "## Extract on an input coordinate"
   ]
  },
  {
   "cell_type": "markdown",
   "metadata": {},
   "source": [
    "Open directly on a desired coordinate:"
   ]
  },
  {
   "cell_type": "code",
   "execution_count": 7,
   "metadata": {},
   "outputs": [],
   "source": [
    "coord = SkyCoord(150.025513 * u.deg, 2.087767 * u.deg, frame='icrs')"
   ]
  },
  {
   "cell_type": "code",
   "execution_count": 8,
   "metadata": {},
   "outputs": [
    {
     "data": {
      "application/vnd.jupyter.widget-view+json": {
       "model_id": "a2a757751c7d4a0d82d350a9c1d4bc6d",
       "version_major": 2,
       "version_minor": 0
      },
      "text/plain": [
       "HBox(children=(Dropdown(layout=Layout(width='10%'), options=('HDR1', 'HDR2'), value='HDR1'), BoundedIntText(va…"
      ]
     },
     "metadata": {},
     "output_type": "display_data"
    },
    {
     "data": {
      "application/vnd.jupyter.widget-view+json": {
       "model_id": "3e7f625a34f54ef781e5c10988f45772",
       "version_major": 2,
       "version_minor": 0
      },
      "text/plain": [
       "HBox(children=(VBox(children=(ImageWidget(children=(Image(value=b'\\xff\\xd8\\xff\\xe0\\x00\\x10JFIF\\x00\\x01\\x01\\x00…"
      ]
     },
     "metadata": {},
     "output_type": "display_data"
    },
    {
     "data": {
      "application/vnd.jupyter.widget-view+json": {
       "model_id": "ba4d31558dcc4c799908131ad4d5a060",
       "version_major": 2,
       "version_minor": 0
      },
      "text/plain": [
       "Output(layout=Layout(border='1px solid black'))"
      ]
     },
     "metadata": {},
     "output_type": "display_data"
    }
   ],
   "source": [
    "query_widget2 = QueryWidget(coords=coord)"
   ]
  },
  {
   "cell_type": "markdown",
   "metadata": {},
   "source": [
    "## Extract on a detectid"
   ]
  },
  {
   "cell_type": "code",
   "execution_count": 10,
   "metadata": {
    "scrolled": true
   },
   "outputs": [
    {
     "data": {
      "application/vnd.jupyter.widget-view+json": {
       "model_id": "9756563cb04246a08ec27bd089c2e43b",
       "version_major": 2,
       "version_minor": 0
      },
      "text/plain": [
       "HBox(children=(Dropdown(layout=Layout(width='10%'), options=('HDR1', 'HDR2'), value='HDR1'), BoundedIntText(va…"
      ]
     },
     "metadata": {},
     "output_type": "display_data"
    },
    {
     "data": {
      "application/vnd.jupyter.widget-view+json": {
       "model_id": "4051d8ac91484982ad57fccdf32c9405",
       "version_major": 2,
       "version_minor": 0
      },
      "text/plain": [
       "HBox(children=(VBox(children=(ImageWidget(children=(Image(value=b'\\xff\\xd8\\xff\\xe0\\x00\\x10JFIF\\x00\\x01\\x01\\x00…"
      ]
     },
     "metadata": {},
     "output_type": "display_data"
    },
    {
     "data": {
      "application/vnd.jupyter.widget-view+json": {
       "model_id": "07429d4d25184670b892bfed0348e85b",
       "version_major": 2,
       "version_minor": 0
      },
      "text/plain": [
       "Output(layout=Layout(border='1px solid black'))"
      ]
     },
     "metadata": {},
     "output_type": "display_data"
    }
   ],
   "source": [
    "query_widget3 = QueryWidget(detectid = 1000615767)"
   ]
  },
  {
   "cell_type": "code",
   "execution_count": null,
   "metadata": {},
   "outputs": [],
   "source": []
  }
 ],
 "metadata": {
  "kernelspec": {
   "display_name": "Python 3",
   "language": "python",
   "name": "python3"
  },
  "language_info": {
   "codemirror_mode": {
    "name": "ipython",
    "version": 3
   },
   "file_extension": ".py",
   "mimetype": "text/x-python",
   "name": "python",
   "nbconvert_exporter": "python",
   "pygments_lexer": "ipython3",
   "version": "3.7.0"
  }
 },
 "nbformat": 4,
 "nbformat_minor": 2
}
