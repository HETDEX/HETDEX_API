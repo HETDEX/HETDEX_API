{
 "cells": [
  {
   "cell_type": "markdown",
   "metadata": {},
   "source": [
    "# The QueryWidget"
   ]
  },
  {
   "cell_type": "code",
   "execution_count": null,
   "metadata": {},
   "outputs": [],
   "source": [
    "from hetdex_api.query_widget import QueryWidget "
   ]
  },
  {
   "cell_type": "code",
   "execution_count": null,
   "metadata": {},
   "outputs": [],
   "source": [
    "%%javascript\n",
    "IPython.OutputArea.prototype._should_scroll = function(lines) {\n",
    "    return false;\n",
    "}"
   ]
  },
  {
   "cell_type": "markdown",
   "metadata": {},
   "source": [
    "## Intro to the QueryWidget Class"
   ]
  },
  {
   "cell_type": "markdown",
   "metadata": {},
   "source": [
    "To initiate the QueryWidget you can do a call to the class without any optional parameters. This will open up on a predefined detectid/coordinate as an example. The widget can handle both changes to the detectid or manual changes to the input RA and DEC (in degrees). In order to load the corresponding imaging at the input coordinate you need to press the `Pan to Coords` button. This will take a couple seconds to load so be patient."
   ]
  },
  {
   "cell_type": "markdown",
   "metadata": {},
   "source": [
    "The QueryWidget is created using the astrowidgets interface to ginga. In many ways ginga is like ds9 providing interactive capabilities with astronomical images. If your cursor is not producing changes to the output under the image, then its not working properly. Ginga is very interactive with mouse and trackpad changes. Many of the things that took menu switches in ds9 can be done with keyboard shortcuts. See this page for a summary of changes. You should be able to pan around with your trackpad and scroll in and out with +/-. Changes in contrast and scale are also available through keyboard/mouse clicks. \n",
    "\n",
    "https://ginga.readthedocs.io/en/stable/quickref.html#ginga-quick-reference\n",
    "\n",
    "They can also be entered in as attributes and some examples will follow below. To learn the full extent you can read about ginga and astrowidgets here:\n",
    "\n",
    "https://astrowidgets.readthedocs.io/\n",
    "https://ginga.readthedocs.io/"
   ]
  },
  {
   "cell_type": "markdown",
   "metadata": {},
   "source": [
    "### How initiate the QueryWidget and grab HETDEX sources"
   ]
  },
  {
   "cell_type": "markdown",
   "metadata": {},
   "source": [
    "The widget will bring up any r-band ancillary HETDEX imaging data we have around a coordinate/detectid. If there is no g-band, it will get the r-band data and if there is no r-band, it will get an image from SDSS. You can attempt to extract HETDEX spectra at any coordinate using the \"Mark Sources\" button. Once done selecting regions, press `Stop Marking`. A table of coordinates will show up below the buttons. Then you can press the `Extract Object` button to grab HETDEX spectra. This will extract 3\" radius aperures (or change this using the aperture= \"astropy unit\" option). Then spectra will be retrieved from HDR1. This will take about a minute (it will speed up soon hopefully). Once the spectra is retrieved (one spectra for each separate shotid/observation of the source), they are displayed in tabs on the right hand of the widget."
   ]
  },
  {
   "cell_type": "code",
   "execution_count": null,
   "metadata": {},
   "outputs": [],
   "source": [
    "QW = QueryWidget()"
   ]
  },
  {
   "cell_type": "markdown",
   "metadata": {},
   "source": [
    "The spectra table can be found as an attribute to the QueryWidget class:"
   ]
  },
  {
   "cell_type": "code",
   "execution_count": null,
   "metadata": {},
   "outputs": [],
   "source": [
    "if QW.spec_table is None:\n",
    "    print('Mark Sources, Stop Marking and Extract Objects above to extract spectra')\n",
    "else:\n",
    "    print(QW.spec_table)"
   ]
  },
  {
   "cell_type": "markdown",
   "metadata": {},
   "source": [
    "## Extract on an input coordinate"
   ]
  },
  {
   "cell_type": "markdown",
   "metadata": {},
   "source": [
    "Open directly on a desired coordinate:"
   ]
  },
  {
   "cell_type": "code",
   "execution_count": null,
   "metadata": {},
   "outputs": [],
   "source": [
    "import astropy.units as u\n",
    "from astropy.coordinates import SkyCoord\n",
    "\n",
    "coord = SkyCoord(150.025513 * u.deg, 2.087767 * u.deg, frame='icrs')"
   ]
  },
  {
   "cell_type": "code",
   "execution_count": null,
   "metadata": {},
   "outputs": [],
   "source": [
    "QW2 = QueryWidget(coords=coord)"
   ]
  },
  {
   "cell_type": "markdown",
   "metadata": {},
   "source": [
    "## Extract on a detectid"
   ]
  },
  {
   "cell_type": "code",
   "execution_count": null,
   "metadata": {
    "scrolled": true
   },
   "outputs": [],
   "source": [
    "QW3 = QueryWidget(detectid = 3001001637)"
   ]
  }
 ],
 "metadata": {
  "kernelspec": {
   "display_name": "Python 3 (ipykernel)",
   "language": "python",
   "name": "python3"
  },
  "language_info": {
   "codemirror_mode": {
    "name": "ipython",
    "version": 3
   },
   "file_extension": ".py",
   "mimetype": "text/x-python",
   "name": "python",
   "nbconvert_exporter": "python",
   "pygments_lexer": "ipython3",
   "version": "3.10.6"
  }
 },
 "nbformat": 4,
 "nbformat_minor": 4
}
