{
 "cells": [
  {
   "cell_type": "markdown",
   "metadata": {},
   "source": [
    "# Making Data Cubes"
   ]
  },
  {
   "cell_type": "markdown",
   "metadata": {},
   "source": [
    "The CubeWidget provides a visual interface to a Fits datacube using ginga/astrowidgets/ipywidgets. It is developed to function on any FITS cube in which the 1st data axis represents the spectral dim provided the WCS is included. Click on any spatial region to see the spectrum at that pixel. Use the play button to scan through wavelength space or the slider to get a specfic wavelength."
   ]
  },
  {
   "cell_type": "code",
   "execution_count": 1,
   "metadata": {},
   "outputs": [],
   "source": [
    "from astropy import units as u\n",
    "\n",
    "from hetdex_tools.interpolate import make_data_cube\n",
    "from hetdex_api.cube_widget import CubeWidget"
   ]
  },
  {
   "cell_type": "code",
   "execution_count": 2,
   "metadata": {},
   "outputs": [],
   "source": [
    "%matplotlib inline"
   ]
  },
  {
   "cell_type": "markdown",
   "metadata": {},
   "source": [
    "## Make Your own data cube from a Detectid or SkyCoord object"
   ]
  },
  {
   "cell_type": "code",
   "execution_count": 3,
   "metadata": {},
   "outputs": [],
   "source": [
    "hdu = make_data_cube(\n",
    "    detectid=3012548867,\n",
    "    pixscale=0.5*u.arcsec,\n",
    "    imsize=30.*u.arcsec, \n",
    "    dwave=10, \n",
    "    survey='hdr4',\n",
    "    fill_value=0.0,\n",
    "    convolve_image=False)"
   ]
  },
  {
   "cell_type": "code",
   "execution_count": 4,
   "metadata": {},
   "outputs": [
    {
     "data": {
      "application/vnd.jupyter.widget-view+json": {
       "model_id": "c7fcb31731234fcdb2d6de44d498f431",
       "version_major": 2,
       "version_minor": 0
      },
      "text/plain": [
       "HBox(children=(VBox(children=(HBox(children=(IntSlider(value=4540, continuous_update=False, description='wave'…"
      ]
     },
     "metadata": {},
     "output_type": "display_data"
    }
   ],
   "source": [
    "w = CubeWidget(hdu=hdu)"
   ]
  },
  {
   "cell_type": "markdown",
   "metadata": {},
   "source": [
    "To save the datacube:"
   ]
  },
  {
   "cell_type": "code",
   "execution_count": 5,
   "metadata": {},
   "outputs": [],
   "source": [
    "hdu.writeto('data_cube.fits')"
   ]
  },
  {
   "cell_type": "markdown",
   "metadata": {},
   "source": [
    "## For Data Cube Options:"
   ]
  },
  {
   "cell_type": "code",
   "execution_count": 6,
   "metadata": {},
   "outputs": [
    {
     "name": "stdout",
     "output_type": "stream",
     "text": [
      "Help on function make_data_cube in module hetdex_tools.interpolate:\n",
      "\n",
      "make_data_cube(detectid=None, coords=None, shotid=None, pixscale=<Quantity 0.25 arcsec>, imsize=<Quantity 30. arcsec>, wave_range=[3470, 5540], dwave=2.0, dcont=50.0, convolve_image=False, ffsky=False, subcont=False, survey='hdr4', fiber_flux_offset=None, interp_kind='linear', apply_mask=False, fill_value=nan)\n",
      "    Function to make a datacube from either a detectid or from a\n",
      "    coordinate/shotid combination.\n",
      "    \n",
      "    Paramaters\n",
      "    ----------\n",
      "    detectid: int\n",
      "        detectid from the continuum or lines catalog. Default is\n",
      "        None. Provide a coords/shotid combo if this isn't given\n",
      "    coords: SkyCoords object\n",
      "        coordinates to define the centre of the data cube\n",
      "    pixscale: astropy angle quantity\n",
      "        plate scale\n",
      "    imsize: astropy angle quantity\n",
      "        spatial length of cube (equal dims is only option)\n",
      "    wave_range: list\n",
      "        start and stop value for the wavelength range in Angstrom\n",
      "    dwave\n",
      "        step in wavelength range in Angstrom\n",
      "    convolve_image: bool\n",
      "         option to convolve image with shotid seeing\n",
      "    ffsky: bool\n",
      "        option to use full frame calibrated fibers. Default is\n",
      "        True.\n",
      "    subcont: bool\n",
      "        option to subtract continuum. Default is False. This\n",
      "        will measure the continuum 50AA below and above the\n",
      "        input wave_range\n",
      "    dcont: float\n",
      "        width in angstrom to measure the continuum. Default is to\n",
      "        measure 50 AA wide regions on either side of the line\n",
      "    fiber_flux_offset: 1036 array\n",
      "        array of values in units of 10**-17 ergs/s/cm2/AA to add\n",
      "        to each fiber spectrum used in the extraction. Defaults\n",
      "        to None\n",
      "    interp_kind: str\n",
      "        Kind of interpolation to pixelated grid from fiber intensity.\n",
      "        Options are 'linear', 'cubic', 'nearest'. Default is linear.\n",
      "    apply_mask: bool                                                                                            Apply HETDEX fiber mask model. This will mask all fibers contributing\n",
      "         to the spectral extraction before summation. Masked in place as NaNs                               fill_value: float, optional                                                                                Value used to fill in for requested points outside of coverage or in a mask                            region. If not provided, then the default is nan.\n",
      "    \n",
      "    Returns\n",
      "    -------\n",
      "    hdu: PrimaryHDU object\n",
      "        the data cube 3D array and associated 3d header\n",
      "        Units are '10^-17 erg cm-2 s-1 per spaxel'\n",
      "    \n",
      "    Examples\n",
      "    --------\n",
      "    \n",
      "    Can either pass in a detectid:\n",
      "    \n",
      "    >>> detectid_obj=2101602788\n",
      "    >>> hdu = make_data_cube( detectid=detectid_obj)\n",
      "    >>> hdu.writeto( str(detectid_obj) + '.fits', overwrite=True)\n",
      "    \n",
      "    or can put in an SkyCoord object:\n",
      "    \n",
      "    >>> star_coords = SkyCoord(9.625181, -0.043587, unit='deg')\n",
      "    >>> hdu = make_data_cube( coords=star_coords[0], shotid=20171016108, dwave=2.0)\n",
      "    >>> hdu.writeto( 'star.fits', overwrite=True)\n",
      "\n"
     ]
    }
   ],
   "source": [
    "help(make_data_cube)"
   ]
  },
  {
   "cell_type": "markdown",
   "metadata": {},
   "source": [
    "## How to find a shotid for any coords:"
   ]
  },
  {
   "cell_type": "code",
   "execution_count": 7,
   "metadata": {},
   "outputs": [],
   "source": [
    "# For other examples see FiberIndex.ipynb notebook"
   ]
  },
  {
   "cell_type": "code",
   "execution_count": 8,
   "metadata": {},
   "outputs": [],
   "source": [
    "import numpy as np\n",
    "from hetdex_api.survey import FiberIndex\n",
    "from astropy.coordinates import SkyCoord"
   ]
  },
  {
   "cell_type": "code",
   "execution_count": 9,
   "metadata": {},
   "outputs": [],
   "source": [
    "FibIndex = FiberIndex()"
   ]
  },
  {
   "cell_type": "code",
   "execution_count": 10,
   "metadata": {},
   "outputs": [],
   "source": [
    "star_coords = SkyCoord(176.32574, 51.514133, unit='deg')"
   ]
  },
  {
   "cell_type": "code",
   "execution_count": 11,
   "metadata": {},
   "outputs": [],
   "source": [
    "fiber_table_region = FibIndex.query_region(star_coords, radius=3.*u.arcsec, shotid=None)"
   ]
  },
  {
   "cell_type": "code",
   "execution_count": 12,
   "metadata": {},
   "outputs": [
    {
     "name": "stdout",
     "output_type": "stream",
     "text": [
      "Fibers within 3 arcsec of <SkyCoord (ICRS): (ra, dec) in deg\n",
      "    (176.32574, 51.514133)> are in:\n",
      "    shotid  \n",
      "-----------\n",
      "20190208022\n"
     ]
    }
   ],
   "source": [
    "print(\"Fibers within 3 arcsec of {} are in:\\n {}\".format(star_coords, np.unique(fiber_table_region['shotid'])))"
   ]
  },
  {
   "cell_type": "code",
   "execution_count": 13,
   "metadata": {},
   "outputs": [],
   "source": [
    "hdu_star = make_data_cube(coords=star_coords, shotid=20190208022) "
   ]
  },
  {
   "cell_type": "code",
   "execution_count": 14,
   "metadata": {},
   "outputs": [
    {
     "data": {
      "application/vnd.jupyter.widget-view+json": {
       "model_id": "106c73e15f354ad68fdaaf491bd9c1e4",
       "version_major": 2,
       "version_minor": 0
      },
      "text/plain": [
       "HBox(children=(VBox(children=(HBox(children=(IntSlider(value=4540, continuous_update=False, description='wave'…"
      ]
     },
     "metadata": {},
     "output_type": "display_data"
    },
    {
     "data": {
      "image/png": "[encoded data removed]",
      "text/plain": [
       "<Figure size 432x288 with 1 Axes>"
      ]
     },
     "metadata": {
      "needs_background": "light"
     },
     "output_type": "display_data"
    }
   ],
   "source": [
    "w = CubeWidget(hdu=hdu_star)"
   ]
  },
  {
   "cell_type": "code",
   "execution_count": null,
   "metadata": {},
   "outputs": [],
   "source": []
  }
 ],
 "metadata": {
  "kernelspec": {
   "display_name": "Python 3 (ipykernel)",
   "language": "python",
   "name": "python3"
  },
  "language_info": {
   "codemirror_mode": {
    "name": "ipython",
    "version": 3
   },
   "file_extension": ".py",
   "mimetype": "text/x-python",
   "name": "python",
   "nbconvert_exporter": "python",
   "pygments_lexer": "ipython3",
   "version": "3.9.7"
  },
  "widgets": {
   "application/vnd.jupyter.widget-state+json": {
    "state": {
     "01234358cb304fa3a0f42c945ced2f80": {
      "model_module": "@jupyter-widgets/base",
      "model_module_version": "2.0.0",
      "model_name": "LayoutModel",
      "state": {}
     },
     "0c7f3885ade14fec8ad462fd32b359bf": {
      "model_module": "@jupyter-widgets/base",
      "model_module_version": "2.0.0",
      "model_name": "LayoutModel",
      "state": {
       "width": "500"
      }
     },
     "19aec27de3234f308cbf708d37668abf": {
      "model_module": "@jupyter-widgets/base",
      "model_module_version": "2.0.0",
      "model_name": "LayoutModel",
      "state": {}
     },
     "1a1703f52431489e9c42fa0cc335d749": {
      "model_module": "@jupyter-widgets/controls",
      "model_module_version": "2.0.0",
      "model_name": "VBoxModel",
      "state": {
       "children": [
        "IPY_MODEL_b55dec7016c645d9ab121e8ce35f72b1",
        "IPY_MODEL_f05823af5a704dbfa860fe37fb0191dc"
       ],
       "layout": "IPY_MODEL_01234358cb304fa3a0f42c945ced2f80"
      }
     },
     "20093b3e3cfe4506b875e5ec4b38f6f0": {
      "model_module": "@jupyter-widgets/base",
      "model_module_version": "2.0.0",
      "model_name": "LayoutModel",
      "state": {}
     },
     "218e07ecdf3a42c7a4b0371532fd676c": {
      "model_module": "@jupyter-widgets/controls",
      "model_module_version": "2.0.0",
      "model_name": "PlayModel",
      "state": {
       "description": "Scan Cube",
       "layout": "IPY_MODEL_628cb68b7ff346e2ad3b9818af677e63",
       "max": 5550,
       "min": 3470,
       "step": 10,
       "style": "IPY_MODEL_a838d9b4482d47508c0c6fc2ed687ca5",
       "value": 3470
      }
     },
     "3aa107586eed43188ecae05c966effe1": {
      "model_module": "@jupyter-widgets/controls",
      "model_module_version": "2.0.0",
      "model_name": "VBoxModel",
      "state": {
       "_dom_classes": [
        "widget-interact"
       ],
       "children": [
        "IPY_MODEL_ab67e1959e1a4e05895420c176b2924a",
        "IPY_MODEL_63aa93d2ebb740eca0c9ff49b9ae4d11"
       ],
       "layout": "IPY_MODEL_19aec27de3234f308cbf708d37668abf"
      }
     },
     "577431e8ff0e4c85a8800cd2815036f7": {
      "model_module": "@jupyter-widgets/base",
      "model_module_version": "2.0.0",
      "model_name": "LayoutModel",
      "state": {}
     },
     "628cb68b7ff346e2ad3b9818af677e63": {
      "model_module": "@jupyter-widgets/base",
      "model_module_version": "2.0.0",
      "model_name": "LayoutModel",
      "state": {}
     },
     "63aa93d2ebb740eca0c9ff49b9ae4d11": {
      "model_module": "@jupyter-widgets/output",
      "model_module_version": "1.0.0",
      "model_name": "OutputModel",
      "state": {
       "layout": "IPY_MODEL_20093b3e3cfe4506b875e5ec4b38f6f0",
       "outputs": [
        {
         "data": {
          "image/png": "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\n",
          "text/plain": "<Figure size 432x288 with 1 Axes>"
         },
         "metadata": {
          "needs_background": "light"
         },
         "output_type": "display_data"
        }
       ]
      }
     },
     "6a5e01df5e424f2db85dc1f1727a29f5": {
      "model_module": "@jupyter-widgets/base",
      "model_module_version": "2.0.0",
      "model_name": "LayoutModel",
      "state": {}
     },
     "700eb3b78c4044dba8721bfdf9b180b3": {
      "model_module": "@jupyter-widgets/output",
      "model_module_version": "1.0.0",
      "model_name": "OutputModel",
      "state": {
       "layout": "IPY_MODEL_b617530de3e342eb8858173a9311a82d"
      }
     },
     "741c706412b440c592e1146741298176": {
      "model_module": "@jupyter-widgets/base",
      "model_module_version": "2.0.0",
      "model_name": "LayoutModel",
      "state": {}
     },
     "792dbb0ff5294db982716fc3f2b9e455": {
      "model_module": "@jupyter-widgets/output",
      "model_module_version": "1.0.0",
      "model_name": "OutputModel",
      "state": {
       "layout": "IPY_MODEL_831e789e77b34bdea456f7b96d2a5c99",
       "outputs": [
        {
         "data": {
          "image/png": "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\n",
          "text/plain": "<Figure size 432x288 with 1 Axes>"
         },
         "metadata": {},
         "output_type": "display_data"
        }
       ]
      }
     },
     "7a237ceb41924e0781c6bdffcdccdbbc": {
      "model_module": "@jupyter-widgets/base",
      "model_module_version": "2.0.0",
      "model_name": "LayoutModel",
      "state": {}
     },
     "7a48b3b22e5e4944a897c323e2e014ec": {
      "model_module": "@jupyter-widgets/controls",
      "model_module_version": "2.0.0",
      "model_name": "HTMLModel",
      "state": {
       "layout": "IPY_MODEL_577431e8ff0e4c85a8800cd2815036f7",
       "style": "IPY_MODEL_c6c9dd4b19f84ccc83e4175f4d467ece",
       "value": "X: -0.50, Y: 59.50 (RA: 12:00:18.232, DEC: +54:40:22.00), value: N/A"
      }
     },
     "831e789e77b34bdea456f7b96d2a5c99": {
      "model_module": "@jupyter-widgets/base",
      "model_module_version": "2.0.0",
      "model_name": "LayoutModel",
      "state": {}
     },
     "a01b3a19d90241bc9424319b0baf3046": {
      "model_module": "@jupyter-widgets/controls",
      "model_module_version": "2.0.0",
      "model_name": "SliderStyleModel",
      "state": {
       "description_width": ""
      }
     },
     "a838d9b4482d47508c0c6fc2ed687ca5": {
      "model_module": "@jupyter-widgets/controls",
      "model_module_version": "2.0.0",
      "model_name": "DescriptionStyleModel",
      "state": {
       "description_width": ""
      }
     },
     "a84dce63938a4667ab608423c9cca0d5": {
      "model_module": "@jupyter-widgets/controls",
      "model_module_version": "2.0.0",
      "model_name": "LinkModel",
      "state": {
       "source": [
        "IPY_MODEL_218e07ecdf3a42c7a4b0371532fd676c",
        "value"
       ],
       "target": [
        "IPY_MODEL_ab67e1959e1a4e05895420c176b2924a",
        "value"
       ]
      }
     },
     "ab67e1959e1a4e05895420c176b2924a": {
      "model_module": "@jupyter-widgets/controls",
      "model_module_version": "2.0.0",
      "model_name": "IntSliderModel",
      "state": {
       "behavior": "drag-tap",
       "continuous_update": false,
       "description": "wave",
       "layout": "IPY_MODEL_6a5e01df5e424f2db85dc1f1727a29f5",
       "max": 5550,
       "min": 3470,
       "step": 10,
       "style": "IPY_MODEL_a01b3a19d90241bc9424319b0baf3046",
       "value": 3470
      }
     },
     "b55dec7016c645d9ab121e8ce35f72b1": {
      "model_module": "@jupyter-widgets/controls",
      "model_module_version": "2.0.0",
      "model_name": "HBoxModel",
      "state": {
       "children": [
        "IPY_MODEL_ab67e1959e1a4e05895420c176b2924a",
        "IPY_MODEL_218e07ecdf3a42c7a4b0371532fd676c"
       ],
       "layout": "IPY_MODEL_c6ac81077ee4486d9c4fa5eb5f8d06c3"
      }
     },
     "b617530de3e342eb8858173a9311a82d": {
      "model_module": "@jupyter-widgets/base",
      "model_module_version": "2.0.0",
      "model_name": "LayoutModel",
      "state": {}
     },
     "b650a355047b4bb499f9b14daf68cba8": {
      "model_module": "ipyevents",
      "model_module_version": "2.0.1",
      "model_name": "EventModel",
      "state": {
       "_supported_key_events": [
        "keydown",
        "keyup"
       ],
       "_supported_mouse_events": [
        "click",
        "auxclick",
        "dblclick",
        "mouseenter",
        "mouseleave",
        "mousedown",
        "mouseup",
        "mousemove",
        "wheel",
        "contextmenu",
        "dragstart",
        "drag",
        "dragend",
        "dragenter",
        "dragover",
        "dragleave",
        "drop"
       ],
       "_supported_touch_events": [
        "touchstart",
        "touchend",
        "touchmove",
        "touchcancel"
       ],
       "_view_module": "@jupyter-widgets/controls",
       "prevent_default_action": true,
       "source": "IPY_MODEL_e5573e5103a7423f88b8c86e4ebc8bf7",
       "throttle_or_debounce": "",
       "watched_events": [
        "keydown",
        "keyup",
        "mouseenter",
        "mouseleave",
        "mousedown",
        "mouseup",
        "mousemove",
        "wheel",
        "contextmenu"
       ],
       "xy_coordinate_system": ""
      }
     },
     "c114604eb6034fd8a6648aa97410dd2a": {
      "model_module": "@jupyter-widgets/controls",
      "model_module_version": "2.0.0",
      "model_name": "ButtonModel",
      "state": {
       "button_style": "success",
       "description": "Scan Cube",
       "layout": "IPY_MODEL_7a237ceb41924e0781c6bdffcdccdbbc",
       "style": "IPY_MODEL_c3ac55b969384126aecb1127f3d9aeeb",
       "tooltip": "Click this to scan in wavelength dimension"
      }
     },
     "c3ac55b969384126aecb1127f3d9aeeb": {
      "model_module": "@jupyter-widgets/controls",
      "model_module_version": "2.0.0",
      "model_name": "ButtonStyleModel",
      "state": {
       "font_family": null,
       "font_size": null,
       "font_style": null,
       "font_variant": null,
       "font_weight": null,
       "text_color": null,
       "text_decoration": null
      }
     },
     "c6ac81077ee4486d9c4fa5eb5f8d06c3": {
      "model_module": "@jupyter-widgets/base",
      "model_module_version": "2.0.0",
      "model_name": "LayoutModel",
      "state": {}
     },
     "c6c9dd4b19f84ccc83e4175f4d467ece": {
      "model_module": "@jupyter-widgets/controls",
      "model_module_version": "2.0.0",
      "model_name": "HTMLStyleModel",
      "state": {
       "description_width": "",
       "font_size": null,
       "text_color": null
      }
     },
     "c7fcb31731234fcdb2d6de44d498f431": {
      "model_module": "@jupyter-widgets/controls",
      "model_module_version": "2.0.0",
      "model_name": "HBoxModel",
      "state": {
       "children": [
        "IPY_MODEL_1a1703f52431489e9c42fa0cc335d749",
        "IPY_MODEL_792dbb0ff5294db982716fc3f2b9e455"
       ],
       "layout": "IPY_MODEL_741c706412b440c592e1146741298176"
      }
     },
     "d50d0525fe24471b99f9cfb35aca632f": {
      "model_module": "@jupyter-widgets/base",
      "model_module_version": "2.0.0",
      "model_name": "LayoutModel",
      "state": {
       "margin": "0"
      }
     },
     "e5573e5103a7423f88b8c86e4ebc8bf7": {
      "buffers": [
       {
        "data": "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",
        "encoding": "base64",
        "path": [
         "value"
        ]
       }
      ],
      "model_module": "@jupyter-widgets/controls",
      "model_module_version": "2.0.0",
      "model_name": "ImageModel",
      "state": {
       "_view_count": 1,
       "format": "jpeg",
       "height": "500",
       "layout": "IPY_MODEL_d50d0525fe24471b99f9cfb35aca632f",
       "width": "500"
      }
     },
     "f05823af5a704dbfa860fe37fb0191dc": {
      "model_module": "@jupyter-widgets/controls",
      "model_module_version": "2.0.0",
      "model_name": "VBoxModel",
      "state": {
       "children": [
        "IPY_MODEL_e5573e5103a7423f88b8c86e4ebc8bf7",
        "IPY_MODEL_7a48b3b22e5e4944a897c323e2e014ec"
       ],
       "layout": "IPY_MODEL_0c7f3885ade14fec8ad462fd32b359bf"
      }
     }
    },
    "version_major": 2,
    "version_minor": 0
   }
  }
 },
 "nbformat": 4,
 "nbformat_minor": 4
}
