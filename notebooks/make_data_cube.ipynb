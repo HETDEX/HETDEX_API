{
 "cells": [
  {
   "cell_type": "markdown",
   "metadata": {},
   "source": [
    "# Make a Line Flux Map At a specifc RA/DEC/Wave Range"
   ]
  },
  {
   "cell_type": "markdown",
   "metadata": {},
   "source": [
    "The CubeWidget provides a visual interface to a Fits datacube using ginga/astrowidgets/ipywidgets. It is developed to function on any FITS cube in which the 1st data axis represents the spectral dim provided the WCS is included. Click on any spatial region to see the spectrum at that pixel. Use the play button to scan through wavelength space or the slider to get a specfic wavelength."
   ]
  },
  {
   "cell_type": "code",
   "execution_count": 1,
   "metadata": {},
   "outputs": [],
   "source": [
    "from astropy import units as u\n",
    "\n",
    "from hetdex_tools.interpolate import make_data_cube\n",
    "from hetdex_api.cube_widget import CubeWidget"
   ]
  },
  {
   "cell_type": "code",
   "execution_count": 2,
   "metadata": {},
   "outputs": [],
   "source": [
    "%matplotlib inline"
   ]
  },
  {
   "cell_type": "markdown",
   "metadata": {},
   "source": [
    "## Make Your own data cube from a Detectid or SkyCoord object"
   ]
  },
  {
   "cell_type": "code",
   "execution_count": 10,
   "metadata": {},
   "outputs": [],
   "source": [
    "hdu = make_data_cube(detectid=3012548867, imsize=30.*u.arcsec, dwave=10, survey='pdr1')\n",
    "#hdu = make_data_cube(detectid=2100000335, subcont=False, dwave=10,, convolve_image=True, imsize=40.*u.arcsec, pixscale=0.5*u.arcsec, survey='hdr2.1')"
   ]
  },
  {
   "cell_type": "code",
   "execution_count": 9,
   "metadata": {},
   "outputs": [
    {
     "data": {
      "application/vnd.jupyter.widget-view+json": {
       "model_id": "1c18d74680c843b088c7a6414d932a7d",
       "version_major": 2,
       "version_minor": 0
      },
      "text/plain": [
       "HBox(children=(VBox(children=(HBox(children=(IntSlider(value=4540, continuous_update=False, description='wave'…"
      ]
     },
     "metadata": {},
     "output_type": "display_data"
    },
    {
     "data": {
      "image/png": "[encoded data removed]",
      "text/plain": [
       "<Figure size 432x288 with 1 Axes>"
      ]
     },
     "metadata": {
      "needs_background": "light"
     },
     "output_type": "display_data"
    }
   ],
   "source": [
    "w = CubeWidget(hdu=hdu)"
   ]
  },
  {
   "cell_type": "markdown",
   "metadata": {},
   "source": [
    "To save the datacube:"
   ]
  },
  {
   "cell_type": "code",
   "execution_count": 6,
   "metadata": {},
   "outputs": [],
   "source": [
    "hdu.writeto('data_cube.fits')"
   ]
  },
  {
   "cell_type": "markdown",
   "metadata": {},
   "source": [
    "## For Data Cube Options:"
   ]
  },
  {
   "cell_type": "code",
   "execution_count": null,
   "metadata": {},
   "outputs": [],
   "source": [
    "help(make_data_cube)"
   ]
  },
  {
   "cell_type": "markdown",
   "metadata": {},
   "source": [
    "## How to find a shotid for any coords:"
   ]
  },
  {
   "cell_type": "code",
   "execution_count": 3,
   "metadata": {},
   "outputs": [],
   "source": [
    "# For other examples see FiberIndex.ipynb notebook"
   ]
  },
  {
   "cell_type": "code",
   "execution_count": null,
   "metadata": {},
   "outputs": [],
   "source": [
    "import numpy as np\n",
    "from hetdex_api.survey import FiberIndex\n",
    "from astropy.coordinates import SkyCoord"
   ]
  },
  {
   "cell_type": "code",
   "execution_count": null,
   "metadata": {},
   "outputs": [],
   "source": [
    "FibIndex = FiberIndex()"
   ]
  },
  {
   "cell_type": "code",
   "execution_count": null,
   "metadata": {},
   "outputs": [],
   "source": [
    "star_coords = SkyCoord(176.32574, 51.514133, unit='deg')"
   ]
  },
  {
   "cell_type": "code",
   "execution_count": null,
   "metadata": {},
   "outputs": [],
   "source": [
    "fiber_table_region = FibIndex.query_region(star_coords, radius=3.*u.arcsec, shotid=None)"
   ]
  },
  {
   "cell_type": "code",
   "execution_count": null,
   "metadata": {},
   "outputs": [],
   "source": [
    "print(\"Fibers within 3 arcsec of {} are in:\\n {}\".format(star_coords, np.unique(fiber_table_region['shotid'])))"
   ]
  },
  {
   "cell_type": "code",
   "execution_count": null,
   "metadata": {},
   "outputs": [],
   "source": [
    "hdu_star = make_data_cube(coords=star_coords, shotid=20190208022) "
   ]
  },
  {
   "cell_type": "code",
   "execution_count": null,
   "metadata": {},
   "outputs": [],
   "source": [
    "w = CubeWidget(hdu=hdu_star)"
   ]
  }
 ],
 "metadata": {
  "kernelspec": {
   "display_name": "Python 3 (ipykernel)",
   "language": "python",
   "name": "python3"
  },
  "language_info": {
   "codemirror_mode": {
    "name": "ipython",
    "version": 3
   },
   "file_extension": ".py",
   "mimetype": "text/x-python",
   "name": "python",
   "nbconvert_exporter": "python",
   "pygments_lexer": "ipython3",
   "version": "3.9.7"
  },
  "widgets": {
   "application/vnd.jupyter.widget-state+json": {
    "state": {
     "005d2cd2ea5140828b0013fab3e5d437": {
      "model_module": "@jupyter-widgets/controls",
      "model_module_version": "2.0.0",
      "model_name": "HBoxModel",
      "state": {
       "children": [
        "IPY_MODEL_b9931d913ad442e3829271c848950e40",
        "IPY_MODEL_1a1273aeb2a242669a437eb4fc186b96"
       ],
       "layout": "IPY_MODEL_a504658bd5ac4e8b8d6bb15b35d0fb2c"
      }
     },
     "00af37bada5c4ce289376614d46975d1": {
      "model_module": "@jupyter-widgets/controls",
      "model_module_version": "2.0.0",
      "model_name": "HTMLStyleModel",
      "state": {
       "description_width": "",
       "font_size": null,
       "text_color": null
      }
     },
     "023e7f1b8472424789c8d734b82ce46e": {
      "model_module": "@jupyter-widgets/controls",
      "model_module_version": "2.0.0",
      "model_name": "DescriptionStyleModel",
      "state": {
       "description_width": ""
      }
     },
     "02f2e036009947c09e68f840f0ad5345": {
      "model_module": "@jupyter-widgets/base",
      "model_module_version": "2.0.0",
      "model_name": "LayoutModel",
      "state": {
       "width": "500"
      }
     },
     "038acd0ff5134d3ba9788927319d643a": {
      "model_module": "@jupyter-widgets/controls",
      "model_module_version": "2.0.0",
      "model_name": "HBoxModel",
      "state": {
       "children": [
        "IPY_MODEL_5469e7fae80a4adab8bf718a48e394d0",
        "IPY_MODEL_9815c08e12044b8fb05404459806f929"
       ],
       "layout": "IPY_MODEL_47f66e3f3616473fa9afa95a889a542f"
      }
     },
     "0f9bdee6eaeb45ffb947ffd0263c5a4d": {
      "model_module": "@jupyter-widgets/output",
      "model_module_version": "1.0.0",
      "model_name": "OutputModel",
      "state": {
       "layout": "IPY_MODEL_6d557826f6014443b1180db02869ee23",
       "outputs": [
        {
         "data": {
          "image/png": "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\n",
          "text/plain": "<Figure size 432x288 with 1 Axes>"
         },
         "metadata": {},
         "output_type": "display_data"
        }
       ]
      }
     },
     "13684edce5514b87ac5c16411f310e9c": {
      "buffers": [
       {
        "data": "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",
        "encoding": "base64",
        "path": [
         "value"
        ]
       }
      ],
      "model_module": "@jupyter-widgets/controls",
      "model_module_version": "2.0.0",
      "model_name": "ImageModel",
      "state": {
       "_view_count": 0,
       "format": "jpeg",
       "height": "500",
       "layout": "IPY_MODEL_53a195f9dae044329ea9e859a1091602",
       "width": "500"
      }
     },
     "1a1273aeb2a242669a437eb4fc186b96": {
      "model_module": "@jupyter-widgets/controls",
      "model_module_version": "2.0.0",
      "model_name": "PlayModel",
      "state": {
       "description": "Scan Cube",
       "layout": "IPY_MODEL_7070d38019574e18b97ae6eeeb250644",
       "max": 5550,
       "min": 3470,
       "step": 10,
       "style": "IPY_MODEL_a9ce7ea908204fcdbb536c15431d8119",
       "value": 3470
      }
     },
     "1b827f0e0a234cbab2131bc1f3e7e4e7": {
      "model_module": "@jupyter-widgets/base",
      "model_module_version": "2.0.0",
      "model_name": "LayoutModel",
      "state": {}
     },
     "1c18d74680c843b088c7a6414d932a7d": {
      "model_module": "@jupyter-widgets/controls",
      "model_module_version": "2.0.0",
      "model_name": "HBoxModel",
      "state": {
       "children": [
        "IPY_MODEL_265f217fd8a04ff0a28f36be3eeca9e7",
        "IPY_MODEL_7ffe0859b0c34c64b8811ad4337a39b5"
       ],
       "layout": "IPY_MODEL_81c9a85223794845aad84dda8c3d1355"
      }
     },
     "1d57d93b66094e63a7f79b74bcc09d5f": {
      "model_module": "@jupyter-widgets/base",
      "model_module_version": "2.0.0",
      "model_name": "LayoutModel",
      "state": {}
     },
     "22720618aa994b9dbd73816f9dc0ea42": {
      "model_module": "@jupyter-widgets/controls",
      "model_module_version": "2.0.0",
      "model_name": "VBoxModel",
      "state": {
       "children": [
        "IPY_MODEL_c1c61b448e7c42af89d64c5f74699fa9",
        "IPY_MODEL_2a6b43b61177476f9db38aaf72b7fe90"
       ],
       "layout": "IPY_MODEL_02f2e036009947c09e68f840f0ad5345"
      }
     },
     "265f217fd8a04ff0a28f36be3eeca9e7": {
      "model_module": "@jupyter-widgets/controls",
      "model_module_version": "2.0.0",
      "model_name": "VBoxModel",
      "state": {
       "children": [
        "IPY_MODEL_60f09c91d36746838a07e6ab9fd63be8",
        "IPY_MODEL_dbab679d814c4d2da61668d48b30890c"
       ],
       "layout": "IPY_MODEL_fba7394d170e4d8187c5dc44860613e6"
      }
     },
     "286ede7d0fa14d5c9dd1d178914582f6": {
      "model_module": "@jupyter-widgets/controls",
      "model_module_version": "2.0.0",
      "model_name": "ButtonModel",
      "state": {
       "button_style": "success",
       "description": "Scan Cube",
       "layout": "IPY_MODEL_609e5aaa1d4043de9707b3f5bb5a7749",
       "style": "IPY_MODEL_483fb38e7421409f8c4dd4a71412d24f",
       "tooltip": "Click this to scan in wavelength dimension"
      }
     },
     "28dc3b2efa224043b2e94e95bf65a2f1": {
      "model_module": "@jupyter-widgets/output",
      "model_module_version": "1.0.0",
      "model_name": "OutputModel",
      "state": {
       "layout": "IPY_MODEL_9bd07dc9c13d4a978a97bd9889624ff4"
      }
     },
     "2a6b43b61177476f9db38aaf72b7fe90": {
      "model_module": "@jupyter-widgets/controls",
      "model_module_version": "2.0.0",
      "model_name": "HTMLModel",
      "state": {
       "layout": "IPY_MODEL_1b827f0e0a234cbab2131bc1f3e7e4e7",
       "style": "IPY_MODEL_f6a51a1e89cc4a3198348f23d7dbedab",
       "value": "X: 63.34, Y: 64.06 (RA: 12:00:15.831, DEC: +54:40:19.00), value:    0.262"
      }
     },
     "2ced483529b64a318caf33b758cbe739": {
      "model_module": "@jupyter-widgets/controls",
      "model_module_version": "2.0.0",
      "model_name": "HBoxModel",
      "state": {
       "children": [
        "IPY_MODEL_d92e5c91674e4dbba6e8ed6be630ea61",
        "IPY_MODEL_4b78c77db8484f6ba9a357389166bde1"
       ],
       "layout": "IPY_MODEL_e05c501af05848f1be7014c92de03f35"
      }
     },
     "2ec07af8cad749ddba38d068d97130b3": {
      "model_module": "@jupyter-widgets/controls",
      "model_module_version": "2.0.0",
      "model_name": "LinkModel",
      "state": {
       "source": [
        "IPY_MODEL_5e65d794f3694bdbbca0d57602bac841",
        "value"
       ],
       "target": [
        "IPY_MODEL_b5564627ea3e4061b2359c1cbb25b6e8",
        "value"
       ]
      }
     },
     "2f8c3a29f27a404086c75b5287e2e827": {
      "model_module": "@jupyter-widgets/controls",
      "model_module_version": "2.0.0",
      "model_name": "VBoxModel",
      "state": {
       "_dom_classes": [
        "widget-interact"
       ],
       "children": [
        "IPY_MODEL_b9931d913ad442e3829271c848950e40",
        "IPY_MODEL_3fbfb4e44a914a8fa57f0467c61454f7"
       ],
       "layout": "IPY_MODEL_bc8ec284e8d248d38c5bccdc7b393df0"
      }
     },
     "342f57c568374aab92fa083240c28197": {
      "model_module": "@jupyter-widgets/output",
      "model_module_version": "1.0.0",
      "model_name": "OutputModel",
      "state": {
       "layout": "IPY_MODEL_6eda5924a3504357b2bb90e06295207f",
       "outputs": [
        {
         "ename": "AttributeError",
         "evalue": "'CubeWidget' object has no attribute 'line_plot'",
         "output_type": "error",
         "traceback": [
          "\u001b[0;31m---------------------------------------------------------------------------\u001b[0m",
          "\u001b[0;31mAttributeError\u001b[0m                            Traceback (most recent call last)",
          "\u001b[0;32m~/.local/lib/python3.9/site-packages/ipywidgets/widgets/interaction.py\u001b[0m in \u001b[0;36mupdate\u001b[0;34m(self, *args)\u001b[0m\n\u001b[1;32m    238\u001b[0m                     \u001b[0mvalue\u001b[0m \u001b[0;34m=\u001b[0m \u001b[0mwidget\u001b[0m\u001b[0;34m.\u001b[0m\u001b[0mget_interact_value\u001b[0m\u001b[0;34m(\u001b[0m\u001b[0;34m)\u001b[0m\u001b[0;34m\u001b[0m\u001b[0;34m\u001b[0m\u001b[0m\n\u001b[1;32m    239\u001b[0m                     \u001b[0mself\u001b[0m\u001b[0;34m.\u001b[0m\u001b[0mkwargs\u001b[0m\u001b[0;34m[\u001b[0m\u001b[0mwidget\u001b[0m\u001b[0;34m.\u001b[0m\u001b[0m_kwarg\u001b[0m\u001b[0;34m]\u001b[0m \u001b[0;34m=\u001b[0m \u001b[0mvalue\u001b[0m\u001b[0;34m\u001b[0m\u001b[0;34m\u001b[0m\u001b[0m\n\u001b[0;32m--> 240\u001b[0;31m                 \u001b[0mself\u001b[0m\u001b[0;34m.\u001b[0m\u001b[0mresult\u001b[0m \u001b[0;34m=\u001b[0m \u001b[0mself\u001b[0m\u001b[0;34m.\u001b[0m\u001b[0mf\u001b[0m\u001b[0;34m(\u001b[0m\u001b[0;34m**\u001b[0m\u001b[0mself\u001b[0m\u001b[0;34m.\u001b[0m\u001b[0mkwargs\u001b[0m\u001b[0;34m)\u001b[0m\u001b[0;34m\u001b[0m\u001b[0;34m\u001b[0m\u001b[0m\n\u001b[0m\u001b[1;32m    241\u001b[0m                 \u001b[0mshow_inline_matplotlib_plots\u001b[0m\u001b[0;34m(\u001b[0m\u001b[0;34m)\u001b[0m\u001b[0;34m\u001b[0m\u001b[0;34m\u001b[0m\u001b[0m\n\u001b[1;32m    242\u001b[0m                 \u001b[0;32mif\u001b[0m \u001b[0mself\u001b[0m\u001b[0;34m.\u001b[0m\u001b[0mauto_display\u001b[0m \u001b[0;32mand\u001b[0m \u001b[0mself\u001b[0m\u001b[0;34m.\u001b[0m\u001b[0mresult\u001b[0m \u001b[0;32mis\u001b[0m \u001b[0;32mnot\u001b[0m \u001b[0;32mNone\u001b[0m\u001b[0;34m:\u001b[0m\u001b[0;34m\u001b[0m\u001b[0;34m\u001b[0m\u001b[0m\n",
          "\u001b[0;32m~/hetdex_api/hetdex_api/cube_widget.py\u001b[0m in \u001b[0;36mshow_slice\u001b[0;34m(self, wave)\u001b[0m\n\u001b[1;32m    268\u001b[0m \u001b[0;34m\u001b[0m\u001b[0m\n\u001b[1;32m    269\u001b[0m         \u001b[0mself\u001b[0m\u001b[0;34m.\u001b[0m\u001b[0mimage_show_slice\u001b[0m\u001b[0;34m(\u001b[0m\u001b[0mn\u001b[0m \u001b[0;34m-\u001b[0m \u001b[0;36m1\u001b[0m\u001b[0;34m)\u001b[0m\u001b[0;34m\u001b[0m\u001b[0;34m\u001b[0m\u001b[0m\n\u001b[0;32m--> 270\u001b[0;31m         \u001b[0mself\u001b[0m\u001b[0;34m.\u001b[0m\u001b[0mplot_line_profile\u001b[0m\u001b[0;34m(\u001b[0m\u001b[0;34m)\u001b[0m\u001b[0;34m\u001b[0m\u001b[0;34m\u001b[0m\u001b[0m\n\u001b[0m",
          "\u001b[0;32m~/hetdex_api/hetdex_api/cube_widget.py\u001b[0m in \u001b[0;36mplot_line_profile\u001b[0;34m(self)\u001b[0m\n\u001b[1;32m    200\u001b[0m \u001b[0;34m\u001b[0m\u001b[0m\n\u001b[1;32m    201\u001b[0m     \u001b[0;32mdef\u001b[0m \u001b[0mplot_line_profile\u001b[0m\u001b[0;34m(\u001b[0m\u001b[0mself\u001b[0m\u001b[0;34m)\u001b[0m\u001b[0;34m:\u001b[0m\u001b[0;34m\u001b[0m\u001b[0;34m\u001b[0m\u001b[0m\n\u001b[0;32m--> 202\u001b[0;31m         \u001b[0;32mif\u001b[0m \u001b[0mself\u001b[0m\u001b[0;34m.\u001b[0m\u001b[0mline_plot\u001b[0m \u001b[0;32mis\u001b[0m \u001b[0;32mNone\u001b[0m \u001b[0;32mor\u001b[0m \u001b[0mself\u001b[0m\u001b[0;34m.\u001b[0m\u001b[0m_cur_ix\u001b[0m \u001b[0;32mis\u001b[0m \u001b[0;32mNone\u001b[0m \u001b[0;32mor\u001b[0m \u001b[0mself\u001b[0m\u001b[0;34m.\u001b[0m\u001b[0m_cur_iy\u001b[0m \u001b[0;32mis\u001b[0m \u001b[0;32mNone\u001b[0m\u001b[0;34m:\u001b[0m\u001b[0;34m\u001b[0m\u001b[0;34m\u001b[0m\u001b[0m\n\u001b[0m\u001b[1;32m    203\u001b[0m             \u001b[0;32mreturn\u001b[0m\u001b[0;34m\u001b[0m\u001b[0;34m\u001b[0m\u001b[0m\n\u001b[1;32m    204\u001b[0m \u001b[0;34m\u001b[0m\u001b[0m\n",
          "\u001b[0;31mAttributeError\u001b[0m: 'CubeWidget' object has no attribute 'line_plot'"
         ]
        }
       ]
      }
     },
     "3467b2cf3de14e199fd0828cfd7d6cd7": {
      "model_module": "@jupyter-widgets/base",
      "model_module_version": "2.0.0",
      "model_name": "LayoutModel",
      "state": {}
     },
     "3fbfb4e44a914a8fa57f0467c61454f7": {
      "model_module": "@jupyter-widgets/output",
      "model_module_version": "1.0.0",
      "model_name": "OutputModel",
      "state": {
       "layout": "IPY_MODEL_57f92716893d4deaa4e78e51ec959e43",
       "outputs": [
        {
         "ename": "AttributeError",
         "evalue": "'CubeWidget' object has no attribute 'line_plot'",
         "output_type": "error",
         "traceback": [
          "\u001b[0;31m---------------------------------------------------------------------------\u001b[0m",
          "\u001b[0;31mAttributeError\u001b[0m                            Traceback (most recent call last)",
          "\u001b[0;32m~/.local/lib/python3.9/site-packages/ipywidgets/widgets/interaction.py\u001b[0m in \u001b[0;36mupdate\u001b[0;34m(self, *args)\u001b[0m\n\u001b[1;32m    238\u001b[0m                     \u001b[0mvalue\u001b[0m \u001b[0;34m=\u001b[0m \u001b[0mwidget\u001b[0m\u001b[0;34m.\u001b[0m\u001b[0mget_interact_value\u001b[0m\u001b[0;34m(\u001b[0m\u001b[0;34m)\u001b[0m\u001b[0;34m\u001b[0m\u001b[0;34m\u001b[0m\u001b[0m\n\u001b[1;32m    239\u001b[0m                     \u001b[0mself\u001b[0m\u001b[0;34m.\u001b[0m\u001b[0mkwargs\u001b[0m\u001b[0;34m[\u001b[0m\u001b[0mwidget\u001b[0m\u001b[0;34m.\u001b[0m\u001b[0m_kwarg\u001b[0m\u001b[0;34m]\u001b[0m \u001b[0;34m=\u001b[0m \u001b[0mvalue\u001b[0m\u001b[0;34m\u001b[0m\u001b[0;34m\u001b[0m\u001b[0m\n\u001b[0;32m--> 240\u001b[0;31m                 \u001b[0mself\u001b[0m\u001b[0;34m.\u001b[0m\u001b[0mresult\u001b[0m \u001b[0;34m=\u001b[0m \u001b[0mself\u001b[0m\u001b[0;34m.\u001b[0m\u001b[0mf\u001b[0m\u001b[0;34m(\u001b[0m\u001b[0;34m**\u001b[0m\u001b[0mself\u001b[0m\u001b[0;34m.\u001b[0m\u001b[0mkwargs\u001b[0m\u001b[0;34m)\u001b[0m\u001b[0;34m\u001b[0m\u001b[0;34m\u001b[0m\u001b[0m\n\u001b[0m\u001b[1;32m    241\u001b[0m                 \u001b[0mshow_inline_matplotlib_plots\u001b[0m\u001b[0;34m(\u001b[0m\u001b[0;34m)\u001b[0m\u001b[0;34m\u001b[0m\u001b[0;34m\u001b[0m\u001b[0m\n\u001b[1;32m    242\u001b[0m                 \u001b[0;32mif\u001b[0m \u001b[0mself\u001b[0m\u001b[0;34m.\u001b[0m\u001b[0mauto_display\u001b[0m \u001b[0;32mand\u001b[0m \u001b[0mself\u001b[0m\u001b[0;34m.\u001b[0m\u001b[0mresult\u001b[0m \u001b[0;32mis\u001b[0m \u001b[0;32mnot\u001b[0m \u001b[0;32mNone\u001b[0m\u001b[0;34m:\u001b[0m\u001b[0;34m\u001b[0m\u001b[0;34m\u001b[0m\u001b[0m\n",
          "\u001b[0;32m~/hetdex_api/hetdex_api/cube_widget.py\u001b[0m in \u001b[0;36mshow_slice\u001b[0;34m(self, wave)\u001b[0m\n\u001b[1;32m    268\u001b[0m \u001b[0;34m\u001b[0m\u001b[0m\n\u001b[1;32m    269\u001b[0m         \u001b[0mself\u001b[0m\u001b[0;34m.\u001b[0m\u001b[0mimage_show_slice\u001b[0m\u001b[0;34m(\u001b[0m\u001b[0mn\u001b[0m \u001b[0;34m-\u001b[0m \u001b[0;36m1\u001b[0m\u001b[0;34m)\u001b[0m\u001b[0;34m\u001b[0m\u001b[0;34m\u001b[0m\u001b[0m\n\u001b[0;32m--> 270\u001b[0;31m         \u001b[0mself\u001b[0m\u001b[0;34m.\u001b[0m\u001b[0mplot_line_profile\u001b[0m\u001b[0;34m(\u001b[0m\u001b[0;34m)\u001b[0m\u001b[0;34m\u001b[0m\u001b[0;34m\u001b[0m\u001b[0m\n\u001b[0m",
          "\u001b[0;32m~/hetdex_api/hetdex_api/cube_widget.py\u001b[0m in \u001b[0;36mplot_line_profile\u001b[0;34m(self)\u001b[0m\n\u001b[1;32m    200\u001b[0m \u001b[0;34m\u001b[0m\u001b[0m\n\u001b[1;32m    201\u001b[0m     \u001b[0;32mdef\u001b[0m \u001b[0mplot_line_profile\u001b[0m\u001b[0;34m(\u001b[0m\u001b[0mself\u001b[0m\u001b[0;34m)\u001b[0m\u001b[0;34m:\u001b[0m\u001b[0;34m\u001b[0m\u001b[0;34m\u001b[0m\u001b[0m\n\u001b[0;32m--> 202\u001b[0;31m         \u001b[0;32mif\u001b[0m \u001b[0mself\u001b[0m\u001b[0;34m.\u001b[0m\u001b[0mline_plot\u001b[0m \u001b[0;32mis\u001b[0m \u001b[0;32mNone\u001b[0m \u001b[0;32mor\u001b[0m \u001b[0mself\u001b[0m\u001b[0;34m.\u001b[0m\u001b[0m_cur_ix\u001b[0m \u001b[0;32mis\u001b[0m \u001b[0;32mNone\u001b[0m \u001b[0;32mor\u001b[0m \u001b[0mself\u001b[0m\u001b[0;34m.\u001b[0m\u001b[0m_cur_iy\u001b[0m \u001b[0;32mis\u001b[0m \u001b[0;32mNone\u001b[0m\u001b[0;34m:\u001b[0m\u001b[0;34m\u001b[0m\u001b[0;34m\u001b[0m\u001b[0m\n\u001b[0m\u001b[1;32m    203\u001b[0m             \u001b[0;32mreturn\u001b[0m\u001b[0;34m\u001b[0m\u001b[0;34m\u001b[0m\u001b[0m\n\u001b[1;32m    204\u001b[0m \u001b[0;34m\u001b[0m\u001b[0m\n",
          "\u001b[0;31mAttributeError\u001b[0m: 'CubeWidget' object has no attribute 'line_plot'"
         ]
        }
       ]
      }
     },
     "4097362e4bff483393bf0dee98399097": {
      "model_module": "@jupyter-widgets/controls",
      "model_module_version": "2.0.0",
      "model_name": "HTMLStyleModel",
      "state": {
       "description_width": "",
       "font_size": null,
       "text_color": null
      }
     },
     "4532d79549684af2b306f5ab11caa0de": {
      "model_module": "@jupyter-widgets/base",
      "model_module_version": "2.0.0",
      "model_name": "LayoutModel",
      "state": {}
     },
     "47f66e3f3616473fa9afa95a889a542f": {
      "model_module": "@jupyter-widgets/base",
      "model_module_version": "2.0.0",
      "model_name": "LayoutModel",
      "state": {}
     },
     "483fb38e7421409f8c4dd4a71412d24f": {
      "model_module": "@jupyter-widgets/controls",
      "model_module_version": "2.0.0",
      "model_name": "ButtonStyleModel",
      "state": {
       "font_family": null,
       "font_size": null,
       "font_style": null,
       "font_variant": null,
       "font_weight": null,
       "text_color": null,
       "text_decoration": null
      }
     },
     "4980c2355e5f42eebad7436ee6caf83a": {
      "model_module": "@jupyter-widgets/output",
      "model_module_version": "1.0.0",
      "model_name": "OutputModel",
      "state": {
       "layout": "IPY_MODEL_7fe7ab49bff44b2994152bd549c72e7d"
      }
     },
     "49af5f7cd27f413cac3259ccbc81dad3": {
      "model_module": "@jupyter-widgets/controls",
      "model_module_version": "2.0.0",
      "model_name": "VBoxModel",
      "state": {
       "children": [
        "IPY_MODEL_13684edce5514b87ac5c16411f310e9c",
        "IPY_MODEL_5ed3879a3e514072bd317a514d1481c6"
       ],
       "layout": "IPY_MODEL_5ab4b0906132454399de6f169caf7db2"
      }
     },
     "4b21a85f31ad420798778a77cc052496": {
      "model_module": "@jupyter-widgets/base",
      "model_module_version": "2.0.0",
      "model_name": "LayoutModel",
      "state": {}
     },
     "4b78c77db8484f6ba9a357389166bde1": {
      "model_module": "@jupyter-widgets/controls",
      "model_module_version": "2.0.0",
      "model_name": "PlayModel",
      "state": {
       "description": "Scan Cube",
       "layout": "IPY_MODEL_b881d370ac7c43b4ac2e2172d03a804b",
       "max": 5550,
       "min": 3470,
       "step": 10,
       "style": "IPY_MODEL_023e7f1b8472424789c8d734b82ce46e",
       "value": 5550
      }
     },
     "4fbb27e198604fb48dbefdde353286c3": {
      "model_module": "@jupyter-widgets/controls",
      "model_module_version": "2.0.0",
      "model_name": "LinkModel",
      "state": {
       "source": [
        "IPY_MODEL_4b78c77db8484f6ba9a357389166bde1",
        "value"
       ],
       "target": [
        "IPY_MODEL_d92e5c91674e4dbba6e8ed6be630ea61",
        "value"
       ]
      }
     },
     "53a195f9dae044329ea9e859a1091602": {
      "model_module": "@jupyter-widgets/base",
      "model_module_version": "2.0.0",
      "model_name": "LayoutModel",
      "state": {
       "margin": "0"
      }
     },
     "5469e7fae80a4adab8bf718a48e394d0": {
      "model_module": "@jupyter-widgets/controls",
      "model_module_version": "2.0.0",
      "model_name": "VBoxModel",
      "state": {
       "children": [
        "IPY_MODEL_005d2cd2ea5140828b0013fab3e5d437",
        "IPY_MODEL_49af5f7cd27f413cac3259ccbc81dad3"
       ],
       "layout": "IPY_MODEL_82f2e2821a714488aaa495fd3f1859ae"
      }
     },
     "5512f4ad7c9a456fb176ace2d8d73698": {
      "model_module": "@jupyter-widgets/controls",
      "model_module_version": "2.0.0",
      "model_name": "LinkModel",
      "state": {
       "source": [
        "IPY_MODEL_1a1273aeb2a242669a437eb4fc186b96",
        "value"
       ],
       "target": [
        "IPY_MODEL_b9931d913ad442e3829271c848950e40",
        "value"
       ]
      }
     },
     "57f92716893d4deaa4e78e51ec959e43": {
      "model_module": "@jupyter-widgets/base",
      "model_module_version": "2.0.0",
      "model_name": "LayoutModel",
      "state": {}
     },
     "5a4c42b0c26f4e4f88d1a9b8a5bc25ce": {
      "model_module": "ipyevents",
      "model_module_version": "2.0.1",
      "model_name": "EventModel",
      "state": {
       "_supported_key_events": [
        "keydown",
        "keyup"
       ],
       "_supported_mouse_events": [
        "click",
        "auxclick",
        "dblclick",
        "mouseenter",
        "mouseleave",
        "mousedown",
        "mouseup",
        "mousemove",
        "wheel",
        "contextmenu",
        "dragstart",
        "drag",
        "dragend",
        "dragenter",
        "dragover",
        "dragleave",
        "drop"
       ],
       "_supported_touch_events": [
        "touchstart",
        "touchend",
        "touchmove",
        "touchcancel"
       ],
       "_view_module": "@jupyter-widgets/controls",
       "prevent_default_action": true,
       "source": "IPY_MODEL_7bb59fa8ea294e17994bac48c8b8303b",
       "throttle_or_debounce": "",
       "watched_events": [
        "keydown",
        "keyup",
        "mouseenter",
        "mouseleave",
        "mousedown",
        "mouseup",
        "mousemove",
        "wheel",
        "contextmenu"
       ],
       "xy_coordinate_system": ""
      }
     },
     "5ab4b0906132454399de6f169caf7db2": {
      "model_module": "@jupyter-widgets/base",
      "model_module_version": "2.0.0",
      "model_name": "LayoutModel",
      "state": {
       "width": "500"
      }
     },
     "5b1e0aa205ab476bbc070af9028c53c1": {
      "model_module": "@jupyter-widgets/base",
      "model_module_version": "2.0.0",
      "model_name": "LayoutModel",
      "state": {
       "margin": "0"
      }
     },
     "5e65d794f3694bdbbca0d57602bac841": {
      "model_module": "@jupyter-widgets/controls",
      "model_module_version": "2.0.0",
      "model_name": "PlayModel",
      "state": {
       "description": "Scan Cube",
       "layout": "IPY_MODEL_709d0f835a954d92825b06dbab5a9fbb",
       "max": 5550,
       "min": 3470,
       "step": 10,
       "style": "IPY_MODEL_ffc6cb9b15e64c49a26b45443b783c2c",
       "value": 3470
      }
     },
     "5ed3879a3e514072bd317a514d1481c6": {
      "model_module": "@jupyter-widgets/controls",
      "model_module_version": "2.0.0",
      "model_name": "HTMLModel",
      "state": {
       "layout": "IPY_MODEL_ec44b6991c4d49fa99b9a710d89d7e6b",
       "style": "IPY_MODEL_00af37bada5c4ce289376614d46975d1",
       "value": "X: 57.34, Y: 71.02 (RA: 12:00:16.084, DEC: +54:40:20.00), value:    0.000"
      }
     },
     "606f1768a2fc43f69f585c97a3dc6725": {
      "model_module": "@jupyter-widgets/base",
      "model_module_version": "2.0.0",
      "model_name": "LayoutModel",
      "state": {}
     },
     "609e5aaa1d4043de9707b3f5bb5a7749": {
      "model_module": "@jupyter-widgets/base",
      "model_module_version": "2.0.0",
      "model_name": "LayoutModel",
      "state": {}
     },
     "60f09c91d36746838a07e6ab9fd63be8": {
      "model_module": "@jupyter-widgets/controls",
      "model_module_version": "2.0.0",
      "model_name": "HBoxModel",
      "state": {
       "children": [
        "IPY_MODEL_b5564627ea3e4061b2359c1cbb25b6e8",
        "IPY_MODEL_5e65d794f3694bdbbca0d57602bac841"
       ],
       "layout": "IPY_MODEL_1d57d93b66094e63a7f79b74bcc09d5f"
      }
     },
     "627b80f6857440bfbbbe649e50fce2e2": {
      "model_module": "@jupyter-widgets/base",
      "model_module_version": "2.0.0",
      "model_name": "LayoutModel",
      "state": {}
     },
     "6a5bf9668d5d4fcfa0843f66c0ecfbe1": {
      "model_module": "@jupyter-widgets/controls",
      "model_module_version": "2.0.0",
      "model_name": "VBoxModel",
      "state": {
       "children": [
        "IPY_MODEL_2ced483529b64a318caf33b758cbe739",
        "IPY_MODEL_22720618aa994b9dbd73816f9dc0ea42"
       ],
       "layout": "IPY_MODEL_3467b2cf3de14e199fd0828cfd7d6cd7"
      }
     },
     "6d0eddf305cd4f40a83ed227377b0ef9": {
      "model_module": "@jupyter-widgets/output",
      "model_module_version": "1.0.0",
      "model_name": "OutputModel",
      "state": {
       "layout": "IPY_MODEL_4532d79549684af2b306f5ab11caa0de"
      }
     },
     "6d557826f6014443b1180db02869ee23": {
      "model_module": "@jupyter-widgets/base",
      "model_module_version": "2.0.0",
      "model_name": "LayoutModel",
      "state": {}
     },
     "6db44a7aa2fb4170add8da033bd92b8a": {
      "model_module": "@jupyter-widgets/controls",
      "model_module_version": "2.0.0",
      "model_name": "ButtonModel",
      "state": {
       "button_style": "success",
       "description": "Scan Cube",
       "layout": "IPY_MODEL_fad2f7405de34d2796bc7d1eeffa8a23",
       "style": "IPY_MODEL_8354fa0543c14d689f25d4e5c4d3b645",
       "tooltip": "Click this to scan in wavelength dimension"
      }
     },
     "6eda5924a3504357b2bb90e06295207f": {
      "model_module": "@jupyter-widgets/base",
      "model_module_version": "2.0.0",
      "model_name": "LayoutModel",
      "state": {}
     },
     "7070d38019574e18b97ae6eeeb250644": {
      "model_module": "@jupyter-widgets/base",
      "model_module_version": "2.0.0",
      "model_name": "LayoutModel",
      "state": {}
     },
     "709d0f835a954d92825b06dbab5a9fbb": {
      "model_module": "@jupyter-widgets/base",
      "model_module_version": "2.0.0",
      "model_name": "LayoutModel",
      "state": {}
     },
     "7ad927fe782a4b1985ebbca06013bbcc": {
      "model_module": "@jupyter-widgets/base",
      "model_module_version": "2.0.0",
      "model_name": "LayoutModel",
      "state": {
       "width": "500"
      }
     },
     "7b99025e2baa485b93cc2e57dd1bde43": {
      "model_module": "@jupyter-widgets/base",
      "model_module_version": "2.0.0",
      "model_name": "LayoutModel",
      "state": {}
     },
     "7bb59fa8ea294e17994bac48c8b8303b": {
      "buffers": [
       {
        "data": "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",
        "encoding": "base64",
        "path": [
         "value"
        ]
       }
      ],
      "model_module": "@jupyter-widgets/controls",
      "model_module_version": "2.0.0",
      "model_name": "ImageModel",
      "state": {
       "_view_count": 1,
       "format": "jpeg",
       "height": "500",
       "layout": "IPY_MODEL_ec0d004b38944e1ca5b6bf76acfa8f6b",
       "width": "500"
      }
     },
     "7c1f21177b9240abb575638020e5aecd": {
      "model_module": "@jupyter-widgets/controls",
      "model_module_version": "2.0.0",
      "model_name": "HTMLModel",
      "state": {
       "layout": "IPY_MODEL_b2d7458cdf3b438ab9f9f4b66f7a6bb7",
       "style": "IPY_MODEL_4097362e4bff483393bf0dee98399097",
       "value": "X: 60.22, Y: 62.38 (RA: 12:00:15.882, DEC: +54:40:18.00), value:    0.000"
      }
     },
     "7fe7ab49bff44b2994152bd549c72e7d": {
      "model_module": "@jupyter-widgets/base",
      "model_module_version": "2.0.0",
      "model_name": "LayoutModel",
      "state": {}
     },
     "7ffe0859b0c34c64b8811ad4337a39b5": {
      "model_module": "@jupyter-widgets/output",
      "model_module_version": "1.0.0",
      "model_name": "OutputModel",
      "state": {
       "layout": "IPY_MODEL_7b99025e2baa485b93cc2e57dd1bde43",
       "outputs": [
        {
         "data": {
          "image/png": "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\n",
          "text/plain": "<Figure size 432x288 with 1 Axes>"
         },
         "metadata": {},
         "output_type": "display_data"
        }
       ]
      }
     },
     "81c9a85223794845aad84dda8c3d1355": {
      "model_module": "@jupyter-widgets/base",
      "model_module_version": "2.0.0",
      "model_name": "LayoutModel",
      "state": {}
     },
     "82f2e2821a714488aaa495fd3f1859ae": {
      "model_module": "@jupyter-widgets/base",
      "model_module_version": "2.0.0",
      "model_name": "LayoutModel",
      "state": {}
     },
     "8354fa0543c14d689f25d4e5c4d3b645": {
      "model_module": "@jupyter-widgets/controls",
      "model_module_version": "2.0.0",
      "model_name": "ButtonStyleModel",
      "state": {
       "font_family": null,
       "font_size": null,
       "font_style": null,
       "font_variant": null,
       "font_weight": null,
       "text_color": null,
       "text_decoration": null
      }
     },
     "83d941ea396a49ed89062c3ae86ea7c3": {
      "model_module": "@jupyter-widgets/base",
      "model_module_version": "2.0.0",
      "model_name": "LayoutModel",
      "state": {}
     },
     "921efde32c124fdb9bcb9c666fa39da3": {
      "model_module": "@jupyter-widgets/base",
      "model_module_version": "2.0.0",
      "model_name": "LayoutModel",
      "state": {}
     },
     "9815c08e12044b8fb05404459806f929": {
      "model_module": "@jupyter-widgets/output",
      "model_module_version": "1.0.0",
      "model_name": "OutputModel",
      "state": {
       "layout": "IPY_MODEL_627b80f6857440bfbbbe649e50fce2e2",
       "outputs": [
        {
         "data": {
          "image/png": "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\n",
          "text/plain": "<Figure size 432x288 with 1 Axes>"
         },
         "metadata": {},
         "output_type": "display_data"
        }
       ]
      }
     },
     "9bd07dc9c13d4a978a97bd9889624ff4": {
      "model_module": "@jupyter-widgets/base",
      "model_module_version": "2.0.0",
      "model_name": "LayoutModel",
      "state": {}
     },
     "a47ba65b32804580b1c50fb3bd43f226": {
      "model_module": "@jupyter-widgets/controls",
      "model_module_version": "2.0.0",
      "model_name": "SliderStyleModel",
      "state": {
       "description_width": ""
      }
     },
     "a504658bd5ac4e8b8d6bb15b35d0fb2c": {
      "model_module": "@jupyter-widgets/base",
      "model_module_version": "2.0.0",
      "model_name": "LayoutModel",
      "state": {}
     },
     "a683ae8e31e84962af2f971ffb470748": {
      "model_module": "@jupyter-widgets/controls",
      "model_module_version": "2.0.0",
      "model_name": "HBoxModel",
      "state": {
       "children": [
        "IPY_MODEL_6a5bf9668d5d4fcfa0843f66c0ecfbe1",
        "IPY_MODEL_0f9bdee6eaeb45ffb947ffd0263c5a4d"
       ],
       "layout": "IPY_MODEL_606f1768a2fc43f69f585c97a3dc6725"
      }
     },
     "a85629c656534ba0b8bf438ca7836d77": {
      "model_module": "ipyevents",
      "model_module_version": "2.0.1",
      "model_name": "EventModel",
      "state": {
       "_supported_key_events": [
        "keydown",
        "keyup"
       ],
       "_supported_mouse_events": [
        "click",
        "auxclick",
        "dblclick",
        "mouseenter",
        "mouseleave",
        "mousedown",
        "mouseup",
        "mousemove",
        "wheel",
        "contextmenu",
        "dragstart",
        "drag",
        "dragend",
        "dragenter",
        "dragover",
        "dragleave",
        "drop"
       ],
       "_supported_touch_events": [
        "touchstart",
        "touchend",
        "touchmove",
        "touchcancel"
       ],
       "_view_module": "@jupyter-widgets/controls",
       "prevent_default_action": true,
       "source": "IPY_MODEL_c1c61b448e7c42af89d64c5f74699fa9",
       "throttle_or_debounce": "",
       "watched_events": [
        "keydown",
        "keyup",
        "mouseenter",
        "mouseleave",
        "mousedown",
        "mouseup",
        "mousemove",
        "wheel",
        "contextmenu"
       ],
       "xy_coordinate_system": ""
      }
     },
     "a9ce7ea908204fcdbb536c15431d8119": {
      "model_module": "@jupyter-widgets/controls",
      "model_module_version": "2.0.0",
      "model_name": "DescriptionStyleModel",
      "state": {
       "description_width": ""
      }
     },
     "b2d7458cdf3b438ab9f9f4b66f7a6bb7": {
      "model_module": "@jupyter-widgets/base",
      "model_module_version": "2.0.0",
      "model_name": "LayoutModel",
      "state": {}
     },
     "b5564627ea3e4061b2359c1cbb25b6e8": {
      "model_module": "@jupyter-widgets/controls",
      "model_module_version": "2.0.0",
      "model_name": "IntSliderModel",
      "state": {
       "behavior": "drag-tap",
       "continuous_update": false,
       "description": "wave",
       "layout": "IPY_MODEL_921efde32c124fdb9bcb9c666fa39da3",
       "max": 5550,
       "min": 3470,
       "step": 10,
       "style": "IPY_MODEL_fd28c785e42e41ee8e6700ed14f6ea97",
       "value": 3470
      }
     },
     "b587d07ebc414666a7299a1091418138": {
      "model_module": "@jupyter-widgets/base",
      "model_module_version": "2.0.0",
      "model_name": "LayoutModel",
      "state": {}
     },
     "b881d370ac7c43b4ac2e2172d03a804b": {
      "model_module": "@jupyter-widgets/base",
      "model_module_version": "2.0.0",
      "model_name": "LayoutModel",
      "state": {}
     },
     "b9931d913ad442e3829271c848950e40": {
      "model_module": "@jupyter-widgets/controls",
      "model_module_version": "2.0.0",
      "model_name": "IntSliderModel",
      "state": {
       "behavior": "drag-tap",
       "continuous_update": false,
       "description": "wave",
       "layout": "IPY_MODEL_b587d07ebc414666a7299a1091418138",
       "max": 5550,
       "min": 3470,
       "step": 10,
       "style": "IPY_MODEL_a47ba65b32804580b1c50fb3bd43f226",
       "value": 3470
      }
     },
     "bc8ec284e8d248d38c5bccdc7b393df0": {
      "model_module": "@jupyter-widgets/base",
      "model_module_version": "2.0.0",
      "model_name": "LayoutModel",
      "state": {}
     },
     "c1c61b448e7c42af89d64c5f74699fa9": {
      "buffers": [
       {
        "data": "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",
        "encoding": "base64",
        "path": [
         "value"
        ]
       }
      ],
      "model_module": "@jupyter-widgets/controls",
      "model_module_version": "2.0.0",
      "model_name": "ImageModel",
      "state": {
       "_view_count": 0,
       "format": "jpeg",
       "height": "500",
       "layout": "IPY_MODEL_5b1e0aa205ab476bbc070af9028c53c1",
       "width": "500"
      }
     },
     "c9e7a8a863ee4800bcb58623a00fc480": {
      "model_module": "@jupyter-widgets/controls",
      "model_module_version": "2.0.0",
      "model_name": "VBoxModel",
      "state": {
       "_dom_classes": [
        "widget-interact"
       ],
       "children": [
        "IPY_MODEL_b5564627ea3e4061b2359c1cbb25b6e8",
        "IPY_MODEL_f1997ecf73f04f1f883e9bb6c1f5f7d7"
       ],
       "layout": "IPY_MODEL_fa0981048a0244a2a0573f6b0c2e25e2"
      }
     },
     "d052fe3457cd4a338245b66c82e0ffee": {
      "model_module": "@jupyter-widgets/base",
      "model_module_version": "2.0.0",
      "model_name": "LayoutModel",
      "state": {}
     },
     "d1d79c8568e14cbb9166110a249beced": {
      "model_module": "@jupyter-widgets/base",
      "model_module_version": "2.0.0",
      "model_name": "LayoutModel",
      "state": {}
     },
     "d76a0c73b5a9486b85d302223db87685": {
      "model_module": "@jupyter-widgets/controls",
      "model_module_version": "2.0.0",
      "model_name": "ButtonModel",
      "state": {
       "button_style": "success",
       "description": "Scan Cube",
       "layout": "IPY_MODEL_83d941ea396a49ed89062c3ae86ea7c3",
       "style": "IPY_MODEL_e8043f661cfa48579d6564916f62fcbd",
       "tooltip": "Click this to scan in wavelength dimension"
      }
     },
     "d92e5c91674e4dbba6e8ed6be630ea61": {
      "model_module": "@jupyter-widgets/controls",
      "model_module_version": "2.0.0",
      "model_name": "IntSliderModel",
      "state": {
       "behavior": "drag-tap",
       "continuous_update": false,
       "description": "wave",
       "layout": "IPY_MODEL_4b21a85f31ad420798778a77cc052496",
       "max": 5550,
       "min": 3470,
       "step": 10,
       "style": "IPY_MODEL_f4725063d25246a2b8fe82812b1c4f58",
       "value": 5550
      }
     },
     "dbab679d814c4d2da61668d48b30890c": {
      "model_module": "@jupyter-widgets/controls",
      "model_module_version": "2.0.0",
      "model_name": "VBoxModel",
      "state": {
       "children": [
        "IPY_MODEL_7bb59fa8ea294e17994bac48c8b8303b",
        "IPY_MODEL_7c1f21177b9240abb575638020e5aecd"
       ],
       "layout": "IPY_MODEL_7ad927fe782a4b1985ebbca06013bbcc"
      }
     },
     "e05c501af05848f1be7014c92de03f35": {
      "model_module": "@jupyter-widgets/base",
      "model_module_version": "2.0.0",
      "model_name": "LayoutModel",
      "state": {}
     },
     "e22960bce7c94771bffd9685f4533b25": {
      "model_module": "@jupyter-widgets/controls",
      "model_module_version": "2.0.0",
      "model_name": "VBoxModel",
      "state": {
       "_dom_classes": [
        "widget-interact"
       ],
       "children": [
        "IPY_MODEL_d92e5c91674e4dbba6e8ed6be630ea61",
        "IPY_MODEL_342f57c568374aab92fa083240c28197"
       ],
       "layout": "IPY_MODEL_d052fe3457cd4a338245b66c82e0ffee"
      }
     },
     "e8043f661cfa48579d6564916f62fcbd": {
      "model_module": "@jupyter-widgets/controls",
      "model_module_version": "2.0.0",
      "model_name": "ButtonStyleModel",
      "state": {
       "font_family": null,
       "font_size": null,
       "font_style": null,
       "font_variant": null,
       "font_weight": null,
       "text_color": null,
       "text_decoration": null
      }
     },
     "ec0d004b38944e1ca5b6bf76acfa8f6b": {
      "model_module": "@jupyter-widgets/base",
      "model_module_version": "2.0.0",
      "model_name": "LayoutModel",
      "state": {
       "margin": "0"
      }
     },
     "ec44b6991c4d49fa99b9a710d89d7e6b": {
      "model_module": "@jupyter-widgets/base",
      "model_module_version": "2.0.0",
      "model_name": "LayoutModel",
      "state": {}
     },
     "f1997ecf73f04f1f883e9bb6c1f5f7d7": {
      "model_module": "@jupyter-widgets/output",
      "model_module_version": "1.0.0",
      "model_name": "OutputModel",
      "state": {
       "layout": "IPY_MODEL_d1d79c8568e14cbb9166110a249beced",
       "outputs": [
        {
         "ename": "AttributeError",
         "evalue": "'CubeWidget' object has no attribute 'line_plot'",
         "output_type": "error",
         "traceback": [
          "\u001b[0;31m---------------------------------------------------------------------------\u001b[0m",
          "\u001b[0;31mAttributeError\u001b[0m                            Traceback (most recent call last)",
          "\u001b[0;32m~/.local/lib/python3.9/site-packages/ipywidgets/widgets/interaction.py\u001b[0m in \u001b[0;36mupdate\u001b[0;34m(self, *args)\u001b[0m\n\u001b[1;32m    238\u001b[0m                     \u001b[0mvalue\u001b[0m \u001b[0;34m=\u001b[0m \u001b[0mwidget\u001b[0m\u001b[0;34m.\u001b[0m\u001b[0mget_interact_value\u001b[0m\u001b[0;34m(\u001b[0m\u001b[0;34m)\u001b[0m\u001b[0;34m\u001b[0m\u001b[0;34m\u001b[0m\u001b[0m\n\u001b[1;32m    239\u001b[0m                     \u001b[0mself\u001b[0m\u001b[0;34m.\u001b[0m\u001b[0mkwargs\u001b[0m\u001b[0;34m[\u001b[0m\u001b[0mwidget\u001b[0m\u001b[0;34m.\u001b[0m\u001b[0m_kwarg\u001b[0m\u001b[0;34m]\u001b[0m \u001b[0;34m=\u001b[0m \u001b[0mvalue\u001b[0m\u001b[0;34m\u001b[0m\u001b[0;34m\u001b[0m\u001b[0m\n\u001b[0;32m--> 240\u001b[0;31m                 \u001b[0mself\u001b[0m\u001b[0;34m.\u001b[0m\u001b[0mresult\u001b[0m \u001b[0;34m=\u001b[0m \u001b[0mself\u001b[0m\u001b[0;34m.\u001b[0m\u001b[0mf\u001b[0m\u001b[0;34m(\u001b[0m\u001b[0;34m**\u001b[0m\u001b[0mself\u001b[0m\u001b[0;34m.\u001b[0m\u001b[0mkwargs\u001b[0m\u001b[0;34m)\u001b[0m\u001b[0;34m\u001b[0m\u001b[0;34m\u001b[0m\u001b[0m\n\u001b[0m\u001b[1;32m    241\u001b[0m                 \u001b[0mshow_inline_matplotlib_plots\u001b[0m\u001b[0;34m(\u001b[0m\u001b[0;34m)\u001b[0m\u001b[0;34m\u001b[0m\u001b[0;34m\u001b[0m\u001b[0m\n\u001b[1;32m    242\u001b[0m                 \u001b[0;32mif\u001b[0m \u001b[0mself\u001b[0m\u001b[0;34m.\u001b[0m\u001b[0mauto_display\u001b[0m \u001b[0;32mand\u001b[0m \u001b[0mself\u001b[0m\u001b[0;34m.\u001b[0m\u001b[0mresult\u001b[0m \u001b[0;32mis\u001b[0m \u001b[0;32mnot\u001b[0m \u001b[0;32mNone\u001b[0m\u001b[0;34m:\u001b[0m\u001b[0;34m\u001b[0m\u001b[0;34m\u001b[0m\u001b[0m\n",
          "\u001b[0;32m~/hetdex_api/hetdex_api/cube_widget.py\u001b[0m in \u001b[0;36mshow_slice\u001b[0;34m(self, wave)\u001b[0m\n\u001b[1;32m    268\u001b[0m \u001b[0;34m\u001b[0m\u001b[0m\n\u001b[1;32m    269\u001b[0m         \u001b[0mself\u001b[0m\u001b[0;34m.\u001b[0m\u001b[0mimage_show_slice\u001b[0m\u001b[0;34m(\u001b[0m\u001b[0mn\u001b[0m \u001b[0;34m-\u001b[0m \u001b[0;36m1\u001b[0m\u001b[0;34m)\u001b[0m\u001b[0;34m\u001b[0m\u001b[0;34m\u001b[0m\u001b[0m\n\u001b[0;32m--> 270\u001b[0;31m         \u001b[0mself\u001b[0m\u001b[0;34m.\u001b[0m\u001b[0mplot_line_profile\u001b[0m\u001b[0;34m(\u001b[0m\u001b[0;34m)\u001b[0m\u001b[0;34m\u001b[0m\u001b[0;34m\u001b[0m\u001b[0m\n\u001b[0m",
          "\u001b[0;32m~/hetdex_api/hetdex_api/cube_widget.py\u001b[0m in \u001b[0;36mplot_line_profile\u001b[0;34m(self)\u001b[0m\n\u001b[1;32m    200\u001b[0m \u001b[0;34m\u001b[0m\u001b[0m\n\u001b[1;32m    201\u001b[0m     \u001b[0;32mdef\u001b[0m \u001b[0mplot_line_profile\u001b[0m\u001b[0;34m(\u001b[0m\u001b[0mself\u001b[0m\u001b[0;34m)\u001b[0m\u001b[0;34m:\u001b[0m\u001b[0;34m\u001b[0m\u001b[0;34m\u001b[0m\u001b[0m\n\u001b[0;32m--> 202\u001b[0;31m         \u001b[0;32mif\u001b[0m \u001b[0mself\u001b[0m\u001b[0;34m.\u001b[0m\u001b[0mline_plot\u001b[0m \u001b[0;32mis\u001b[0m \u001b[0;32mNone\u001b[0m \u001b[0;32mor\u001b[0m \u001b[0mself\u001b[0m\u001b[0;34m.\u001b[0m\u001b[0m_cur_ix\u001b[0m \u001b[0;32mis\u001b[0m \u001b[0;32mNone\u001b[0m \u001b[0;32mor\u001b[0m \u001b[0mself\u001b[0m\u001b[0;34m.\u001b[0m\u001b[0m_cur_iy\u001b[0m \u001b[0;32mis\u001b[0m \u001b[0;32mNone\u001b[0m\u001b[0;34m:\u001b[0m\u001b[0;34m\u001b[0m\u001b[0;34m\u001b[0m\u001b[0m\n\u001b[0m\u001b[1;32m    203\u001b[0m             \u001b[0;32mreturn\u001b[0m\u001b[0;34m\u001b[0m\u001b[0;34m\u001b[0m\u001b[0m\n\u001b[1;32m    204\u001b[0m \u001b[0;34m\u001b[0m\u001b[0m\n",
          "\u001b[0;31mAttributeError\u001b[0m: 'CubeWidget' object has no attribute 'line_plot'"
         ]
        }
       ]
      }
     },
     "f4725063d25246a2b8fe82812b1c4f58": {
      "model_module": "@jupyter-widgets/controls",
      "model_module_version": "2.0.0",
      "model_name": "SliderStyleModel",
      "state": {
       "description_width": ""
      }
     },
     "f6a51a1e89cc4a3198348f23d7dbedab": {
      "model_module": "@jupyter-widgets/controls",
      "model_module_version": "2.0.0",
      "model_name": "HTMLStyleModel",
      "state": {
       "description_width": "",
       "font_size": null,
       "text_color": null
      }
     },
     "fa0981048a0244a2a0573f6b0c2e25e2": {
      "model_module": "@jupyter-widgets/base",
      "model_module_version": "2.0.0",
      "model_name": "LayoutModel",
      "state": {}
     },
     "fad2f7405de34d2796bc7d1eeffa8a23": {
      "model_module": "@jupyter-widgets/base",
      "model_module_version": "2.0.0",
      "model_name": "LayoutModel",
      "state": {}
     },
     "fba7394d170e4d8187c5dc44860613e6": {
      "model_module": "@jupyter-widgets/base",
      "model_module_version": "2.0.0",
      "model_name": "LayoutModel",
      "state": {}
     },
     "fcbd48d7e0e9458092777c9515f2d0c6": {
      "model_module": "ipyevents",
      "model_module_version": "2.0.1",
      "model_name": "EventModel",
      "state": {
       "_supported_key_events": [
        "keydown",
        "keyup"
       ],
       "_supported_mouse_events": [
        "click",
        "auxclick",
        "dblclick",
        "mouseenter",
        "mouseleave",
        "mousedown",
        "mouseup",
        "mousemove",
        "wheel",
        "contextmenu",
        "dragstart",
        "drag",
        "dragend",
        "dragenter",
        "dragover",
        "dragleave",
        "drop"
       ],
       "_supported_touch_events": [
        "touchstart",
        "touchend",
        "touchmove",
        "touchcancel"
       ],
       "_view_module": "@jupyter-widgets/controls",
       "prevent_default_action": true,
       "source": "IPY_MODEL_13684edce5514b87ac5c16411f310e9c",
       "throttle_or_debounce": "",
       "watched_events": [
        "keydown",
        "keyup",
        "mouseenter",
        "mouseleave",
        "mousedown",
        "mouseup",
        "mousemove",
        "wheel",
        "contextmenu"
       ],
       "xy_coordinate_system": ""
      }
     },
     "fd28c785e42e41ee8e6700ed14f6ea97": {
      "model_module": "@jupyter-widgets/controls",
      "model_module_version": "2.0.0",
      "model_name": "SliderStyleModel",
      "state": {
       "description_width": ""
      }
     },
     "ffc6cb9b15e64c49a26b45443b783c2c": {
      "model_module": "@jupyter-widgets/controls",
      "model_module_version": "2.0.0",
      "model_name": "DescriptionStyleModel",
      "state": {
       "description_width": ""
      }
     }
    },
    "version_major": 2,
    "version_minor": 0
   }
  }
 },
 "nbformat": 4,
 "nbformat_minor": 4
}
