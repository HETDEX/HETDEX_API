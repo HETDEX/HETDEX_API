{
 "cells": [
  {
   "cell_type": "markdown",
   "metadata": {},
   "source": [
    "# 01 - Accessing the Survey HDF5 File"
   ]
  },
  {
   "cell_type": "markdown",
   "metadata": {},
   "source": [
    "The survey file is a master look up table for each observation made by VIRUS. It contains a class for each shot as well as a class for each exposure since the HETDEX shots come with three dithered exposures. Fundamental properties of a shot and quality assessment values for seeing, astrometry and transparency are tabulated to allow for querying of desired shots. This notebook will show you how to open the HDF5 file, access and query various properties.    "
   ]
  },
  {
   "cell_type": "code",
   "execution_count": 1,
   "metadata": {},
   "outputs": [],
   "source": [
    "#loading modules\n",
    "import numpy as np\n",
    "import tables as tb"
   ]
  },
  {
   "cell_type": "code",
   "execution_count": 16,
   "metadata": {},
   "outputs": [],
   "source": [
    "fileh = tb.open_file('/Users/erin/Desktop/survey_test.h5', 'r')"
   ]
  },
  {
   "cell_type": "code",
   "execution_count": 6,
   "metadata": {},
   "outputs": [],
   "source": [
    "Survey = fileh.root.Survey"
   ]
  },
  {
   "cell_type": "code",
   "execution_count": 7,
   "metadata": {},
   "outputs": [
    {
     "data": {
      "text/plain": [
       "/Survey.cols (Cols), 20 columns\n",
       "  field (Column(3835,), |S12)\n",
       "  date (Column(3835,), int32)\n",
       "  obsid (Column(3835,), int32)\n",
       "  objid (Column(3835,), |S18)\n",
       "  ra (Column(3835,), float32)\n",
       "  dec (Column(3835,), float32)\n",
       "  pa (Column(3835,), float32)\n",
       "  fwhm (Column(3835,), float32)\n",
       "  response_4540 (Column(3835,), float32)\n",
       "  datevshot (Column(3835,), |S12)\n",
       "  shotid (Column(3835,), int64)\n",
       "  trajcdec (Column(3835,), float32)\n",
       "  trajcpa (Column(3835,), float32)\n",
       "  trajcra (Column(3835,), float32)\n",
       "  x1 (Column(3835,), float32)\n",
       "  x2 (Column(3835,), float32)\n",
       "  x3 (Column(3835,), float32)\n",
       "  y1 (Column(3835,), float32)\n",
       "  y2 (Column(3835,), float32)\n",
       "  y3 (Column(3835,), float32)"
      ]
     },
     "execution_count": 7,
     "metadata": {},
     "output_type": "execute_result"
    }
   ],
   "source": [
    "Survey.cols"
   ]
  },
  {
   "cell_type": "markdown",
   "metadata": {
    "collapsed": true
   },
   "source": [
    "The Exp table contains information specific to each dither.  "
   ]
  },
  {
   "cell_type": "code",
   "execution_count": 17,
   "metadata": {},
   "outputs": [],
   "source": [
    "Exp = fileh.root.Exp"
   ]
  },
  {
   "cell_type": "code",
   "execution_count": 12,
   "metadata": {},
   "outputs": [
    {
     "data": {
      "text/plain": [
       "/Exp.cols (Cols), 8 columns\n",
       "  shotid (Column(7920,), int64)\n",
       "  date (Column(7920,), int32)\n",
       "  obsid (Column(7920,), int32)\n",
       "  expnum (Column(7920,), int32)\n",
       "  timestamp (Column(7920,), |S18)\n",
       "  mjd (Column(7920,), float32)\n",
       "  exptime (Column(7920, 7), ('<f4', (7,)))\n",
       "  darktime (Column(7920,), float32)"
      ]
     },
     "execution_count": 12,
     "metadata": {},
     "output_type": "execute_result"
    }
   ],
   "source": [
    "Exp.cols"
   ]
  },
  {
   "cell_type": "markdown",
   "metadata": {},
   "source": [
    "To convert the HDF5 file to a Survey class object:"
   ]
  },
  {
   "cell_type": "code",
   "execution_count": null,
   "metadata": {},
   "outputs": [],
   "source": []
  },
  {
   "cell_type": "code",
   "execution_count": null,
   "metadata": {},
   "outputs": [],
   "source": []
  }
 ],
 "metadata": {
  "kernelspec": {
   "display_name": "Python 2",
   "language": "python",
   "name": "python2"
  },
  "language_info": {
   "codemirror_mode": {
    "name": "ipython",
    "version": 2
   },
   "file_extension": ".py",
   "mimetype": "text/x-python",
   "name": "python",
   "nbconvert_exporter": "python",
   "pygments_lexer": "ipython2",
   "version": "2.7.15"
  }
 },
 "nbformat": 4,
 "nbformat_minor": 1
}
