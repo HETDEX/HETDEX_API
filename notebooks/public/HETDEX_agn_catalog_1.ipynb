{
 "cells": [
  {
   "cell_type": "code",
   "execution_count": null,
   "id": "14e1d094",
   "metadata": {},
   "outputs": [],
   "source": [
    "import os.path as op\n",
    "import numpy as np\n",
    "from astropy.io import ascii, fits\n",
    "from astropy.io.fits import getdata\n",
    "from astropy.table import Table, Column,join"
   ]
  },
  {
   "cell_type": "code",
   "execution_count": null,
   "id": "21964c22",
   "metadata": {},
   "outputs": [],
   "source": [
    "%%javascript\n",
    "IPython.OutputArea.prototype._should_scroll = function(lines) {\n",
    "    return false;\n",
    "}"
   ]
  },
  {
   "cell_type": "code",
   "execution_count": null,
   "id": "d55faaf8-2d17-46ff-9121-95defb7f1299",
   "metadata": {},
   "outputs": [],
   "source": [
    "# fill in the path to the HETDEX AGN Catalog 1 file\n",
    "path_to_agn1 = \"/home/jovyan/Hobby-Eberly-Public/HETDEX/catalogs/agn_catalog_v1.0/\""
   ]
  },
  {
   "cell_type": "markdown",
   "id": "589f1cc2",
   "metadata": {},
   "source": [
    "# check basic info of the fits file\n",
    "### There are six extensions, 1 & 4 are table extensions, 2,3 & 5,6 are image extensions for spectra and their errors.\n",
    "\n",
    "There are three major differences between ext2&3 and ext5&6.\n",
    "\n",
    "(1) We provide two types of spectra with their errors in ext 2&3 and ext5&6: \n",
    "As an IFU survey, some spacially extended AGNs can be spacially resolved with multiple detections in the hetdex catalog. We do flux weighted friend-of-friend grouping for all AGN detectids with linking length of delta_r=5 arcsec, and delta_redshift = 0.1 to make the unqiue AGN catalog (extension 1). For each AGN, we pick up the detectid closest to the fof center as detectid_best.\n",
    "\n",
    "ext 2&3 are the spectra for the detectid_best in the hetdex catalog. \\\n",
    "ext5&6 are extracted spectra at the flux weighted friend-of-friend center.\n",
    "\n",
    "(2) Aonther difference between ext2&3 and ext5&6 is the number of rows are different. \\\n",
    "ext2&3 have 5322 rows, one row for one agn, arranged in the same order with extension 1.\\\n",
    "ext5&6 have 6004 rows. This is because there are some AGNs that have repeat observations (identified by \"shotid\" in the table of extension 4). We provide all the spectra for repeated observations in ext 5&6. In the table of extension 4, each observation has one row, and the row number of ext5&6 are arranged following extension4.\n",
    "\n",
    "(3) A minor difference is:\\\n",
    "    ext2&3 spectra with errors are applied with universal extinction correction of E(B-V)=0.02.\\\n",
    "    ext5&6 are raw data with no extinction applied.\\\n",
    "    The extinction correction only makes a <10% difference."
   ]
  },
  {
   "cell_type": "code",
   "execution_count": null,
   "id": "292a8213",
   "metadata": {},
   "outputs": [],
   "source": [
    "fname = op.join( path_to_agn1, 'hetdex_agn.fits')\n",
    "hdul = fits.open(fname)\n",
    "hdul.info()"
   ]
  },
  {
   "cell_type": "markdown",
   "id": "ac873fe5",
   "metadata": {},
   "source": [
    "## Read extension 1 as a table\n",
    "### extension 1 has the basic information for each unique AGN, one row per AGN."
   ]
  },
  {
   "cell_type": "code",
   "execution_count": null,
   "id": "f50baa80",
   "metadata": {},
   "outputs": [],
   "source": [
    "agn = Table.read( fname, format = 'fits', hdu = 1 )\n",
    "agn"
   ]
  },
  {
   "cell_type": "markdown",
   "id": "4b5a0c79",
   "metadata": {},
   "source": [
    "### check the header of the table"
   ]
  },
  {
   "cell_type": "code",
   "execution_count": null,
   "id": "4d6a2883",
   "metadata": {},
   "outputs": [],
   "source": [
    "agn.info"
   ]
  },
  {
   "cell_type": "markdown",
   "id": "0575a686",
   "metadata": {},
   "source": [
    "## read extension 2 in as a 2-d array"
   ]
  },
  {
   "cell_type": "code",
   "execution_count": null,
   "id": "13c624a3",
   "metadata": {},
   "outputs": [],
   "source": [
    "from astrowidgets import ImageWidget\n",
    "\n",
    "#hdu2, hdr2 = getdata( fname, 2, header = True )\n",
    "print(hdul[2].header)\n",
    "im    = hdul[2].data # read spectra in from extension 2\n",
    "im_er = hdul[3].data # read errors  in from extension 3 if needed\n",
    "\n",
    "imw = ImageWidget()\n",
    "imw.cuts = (-1, 25)\n",
    "imw.load_array(im)\n",
    "display(imw)"
   ]
  },
  {
   "cell_type": "markdown",
   "id": "e2d6dbd9",
   "metadata": {},
   "source": [
    "## the information of the wave_array corresponds to the flux_array in each row can be found in the header: \n",
    "### wave_start = 3470.0, wave_step = 2.0"
   ]
  },
  {
   "cell_type": "code",
   "execution_count": null,
   "id": "2fba912d",
   "metadata": {},
   "outputs": [],
   "source": [
    "hdul[2].header['wave_start'], hdul[2].header['wave_step'], hdul[2].header['flux_unit']"
   ]
  },
  {
   "cell_type": "code",
   "execution_count": null,
   "id": "f3d3e43f",
   "metadata": {},
   "outputs": [],
   "source": [
    "# prepare wavelength array for the spectra\n",
    "wave_start = 3470.0\n",
    "wave_step  = 2.0\n",
    "n_elements = hdul[2].header['NAXIS1'] #1036\n",
    "wave_arr = wave_start + wave_step * np.arange( 0, n_elements )\n",
    "wave_arr"
   ]
  },
  {
   "cell_type": "code",
   "execution_count": null,
   "id": "ab1287c9",
   "metadata": {},
   "outputs": [],
   "source": [
    "from IPython.display import Image\n",
    "import matplotlib.pyplot as plt\n",
    "\n",
    "# ............\n",
    "w_CIIIa = 977.030\n",
    "w_NIII  = 991.514\n",
    "w_OVIa  = 1031.912\n",
    "w_OVIb  = 1037.613\n",
    "w_LyA   = 1215.24 \n",
    "w_NV    = 1240.81\n",
    "w_OI    = 1305.53\n",
    "w_CIIa  = 1335.31\n",
    "w_SiO   = 1399.8\n",
    "w_CIV   = 1549.48\n",
    "w_HeII  = 1640.40\n",
    "w_OIII  = 1665.85\n",
    "w_CIIIb = 1908.734\n",
    "w_CIIb  = 2326.0\n",
    "w_NeIV  = 2439.5\n",
    "w_MgII  = 2799.117\n",
    "w_OII   = 3729.875\n",
    "w_NeVI  = 3426.85\n",
    "w_NeIII = 3868.760\n",
    "w_Hg    = 4341.68\n",
    "# ............\n",
    "\n",
    "fontsize = 15\n",
    "xl, xh = 3450, 5550 \n",
    "\n",
    "# plot some example spectra at the following redshifts\n",
    "z_sel = np.array( [ 0.9, 1.3, 1.8, 2.2, 2.5, 3.9 ] )\n",
    "\n",
    "for i in range(np.size(z_sel)):\n",
    "    sel  = agn['z'] < z_sel[i]\n",
    "    dtmp = im[sel]\n",
    "    flux_arr = dtmp[0]\n",
    "    \n",
    "    fig, ax = plt.subplots( figsize = ( 10., 5.)  )\n",
    "    \n",
    "    plt.plot( wave_arr, flux_arr, 'k' )\n",
    "    \n",
    "    lines   = np.array( [  w_OVIa, w_OVIb, w_LyA,   w_NV,   w_SiO,  w_CIV, w_HeII,   w_CIIb, w_CIIIb,  w_MgII, w_OII, w_NeVI, w_NeIII  ] )\n",
    "    labels  = np.array( [  ' ',     'OVI',  'LyA','    NV', 'Si+O',   'CIV', 'HeII',    'C2', 'C III]', 'MgII', 'OII', 'NeVI', 'NeIII' ] )    \n",
    "\n",
    "    yl, yh = np.min(flux_arr), np.max(flux_arr)\n",
    "    for i in range( np.size(lines) ):\n",
    "        wline = lines[i] * ( 1 + agn[sel]['z'][0] )\n",
    "        if( ( wline >= xl ) and (wline <= xh ) ):\n",
    "            wline = np.full( 2, wline )     \n",
    "            plt.text( wline[0]+10, 0.9 * yh, labels[i], color = 'blue', fontsize=14 )\n",
    "            plt.plot( wline,  np.array([yl,yh]), color = 'blue', linestyle = '--', linewidth = 1.0 )\n",
    "    \n",
    "    plt.xlim( xl, xh )\n",
    "    plt.tick_params( which = 'both', bottom=True, top=True, left=True, right=True )\n",
    "\n",
    "    plt.xlabel('$\\mathrm{\\lambda_{obs}\\ (\\AA)}$',fontsize=fontsize)\n",
    "    plt.ylabel('$\\mathrm{f_{\\lambda,obs}\\ (10^{-17} ergs/s/cm^2/\\AA)}$',fontsize=fontsize)\n",
    "    plt.xticks(fontsize=fontsize)\n",
    "    plt.yticks(fontsize=fontsize)\n",
    "\n",
    "    stitle = 'agnid=%d, detectid_best=%d, z=%.2f' % (agn[sel]['agnid'][0], agn[sel]['detectid_best'][0], agn[sel]['z'][0])\n",
    "    plt.title( stitle, fontsize=fontsize )\n",
    "    plt.show()\n",
    "    #plt.savefig( 'tmp.png', format='png')\n",
    "    #Image('tmp.png')"
   ]
  },
  {
   "cell_type": "markdown",
   "id": "327200b8",
   "metadata": {},
   "source": [
    "# read extension 4 in as a table of repeat observation info\n",
    "### There are some repeat observations for some agns. In this table, each observation has one entry with a unique \"shotid\", nshots shows the number of repeat observations for each unique AGN."
   ]
  },
  {
   "cell_type": "code",
   "execution_count": null,
   "id": "7c193579",
   "metadata": {},
   "outputs": [],
   "source": [
    "tab = Table.read( fname, format = 'fits', hdu = 4 )\n",
    "tab"
   ]
  },
  {
   "cell_type": "code",
   "execution_count": null,
   "id": "228f7963",
   "metadata": {},
   "outputs": [],
   "source": [
    "sel = tab['nshots'] == 1\n",
    "print(\"There are %d AGNs that are only observed once\" % np.sum(sel))\n",
    "\n",
    "sel = tab['nshots'] == 2\n",
    "dtmp = np.unique( tab[sel]['agnid'] )\n",
    "print(\"There are %d AGNs that are observed twice\" % np.size(dtmp) )\n",
    "\n",
    "sel = tab['nshots'] > 2\n",
    "dtmp = np.unique( tab[sel]['agnid'] )\n",
    "print(\"There are %d AGNs that are observed more than twice\" % np.size(dtmp) )"
   ]
  },
  {
   "cell_type": "markdown",
   "id": "c9908009",
   "metadata": {},
   "source": [
    "# find all spectra and their error of a certain AGN in extension 5 and 6"
   ]
  },
  {
   "cell_type": "markdown",
   "id": "6fe7c9db",
   "metadata": {},
   "source": [
    "### find some strong agns (big nmem) with secure redshifts (z!=0) with more than five repeat observations"
   ]
  },
  {
   "cell_type": "code",
   "execution_count": null,
   "id": "36d0c437",
   "metadata": {},
   "outputs": [],
   "source": [
    "sel1 = agn['nshots'] >= 5\n",
    "sel2 = agn['zflag' ] != 0\n",
    "sel = sel1 * sel2\n",
    "dtmp = agn[sel]\n",
    "sel = np.argsort(-dtmp['nmem'])\n",
    "dtmp[sel]"
   ]
  },
  {
   "cell_type": "markdown",
   "id": "02dd24ad",
   "metadata": {},
   "source": [
    "### take agnid = 3194 as an example"
   ]
  },
  {
   "cell_type": "code",
   "execution_count": null,
   "id": "e2220022",
   "metadata": {},
   "outputs": [],
   "source": [
    "agnid = 3194\n",
    "\n",
    "im_arr    = hdul[5].data\n",
    "im_er_arr = hdul[6].data\n",
    "\n",
    "sel = np.where( tab['agnid'] == agnid )\n",
    "shotid_arr  = tab[sel]['shotid']\n",
    "flux_arr    = im_arr[sel]\n",
    "flux_er_arr = im_er_arr[sel]\n",
    "\n",
    "# arrange the repeat observations by time\n",
    "sel = np.argsort( shotid_arr )\n",
    "shotid_arr, flux_arr, flux_er_arr = shotid_arr[sel], flux_arr[sel], flux_er_arr[sel]\n",
    "\n",
    "# prepare the wavelength array for the spectra\n",
    "wave_start = 3470.0\n",
    "wave_step  = 2.0\n",
    "n_elements = hdul[5].header['NAXIS1'] #1036\n",
    "wave_arr = wave_start + wave_step * np.arange( 0, n_elements )\n",
    "\n",
    "# plot all repeat observations\n",
    "fig, ax = plt.subplots( figsize = ( 10., 5.)  )\n",
    "\n",
    "for i in range(np.size(shotid_arr)):\n",
    "    \n",
    "    plt.plot( wave_arr, flux_arr[i], label = '%d' % shotid_arr[i])\n",
    "    #plt.errorbar( wave_arr, flux_arr[i], flux_er_arr[i] , capsize = 1.5, label = '%d' % shotid_arr[i] )\n",
    "\n",
    "# overplot with the catalog spectrum for detectid_best in ext 2&3 as black and compare with ext 5&6\n",
    "im_arr    = hdul[2].data\n",
    "im_er_arr = hdul[3].data\n",
    "sel = agn['agnid'] == agnid\n",
    "flux_arr    = im_arr[sel][0]\n",
    "flux_er_arr = im_er_arr[sel][0]\n",
    "plt.errorbar( wave_arr, flux_arr, flux_er_arr, color = 'k',capsize = 1., \\\n",
    "              label = 'ext2&3 spectrum')\n",
    "    \n",
    "plt.xlim( xl, xh )\n",
    "plt.tick_params( which = 'both', bottom=True, top=True, left=True, right=True )\n",
    "\n",
    "plt.xlabel('$\\mathrm{\\lambda_{obs}\\ (\\AA)}$',fontsize=fontsize)\n",
    "plt.ylabel('$\\mathrm{f_{\\lambda,obs}\\ (10^{-17} ergs/s/cm^2/\\AA)}$',fontsize=fontsize)\n",
    "plt.xticks(fontsize=fontsize)\n",
    "plt.yticks(fontsize=fontsize)\n",
    "plt.legend(fontsize=fontsize)\n",
    "stitle = 'agnid=%d' % (agnid)\n",
    "plt.title( stitle, fontsize=fontsize )\n",
    "plt.show()"
   ]
  }
 ],
 "metadata": {
  "kernelspec": {
   "display_name": "Python 3 (ipykernel)",
   "language": "python",
   "name": "python3"
  },
  "language_info": {
   "codemirror_mode": {
    "name": "ipython",
    "version": 3
   },
   "file_extension": ".py",
   "mimetype": "text/x-python",
   "name": "python",
   "nbconvert_exporter": "python",
   "pygments_lexer": "ipython3",
   "version": "3.9.7"
  },
  "widgets": {
   "application/vnd.jupyter.widget-state+json": {
    "state": {},
    "version_major": 2,
    "version_minor": 0
   }
  }
 },
 "nbformat": 4,
 "nbformat_minor": 5
}
