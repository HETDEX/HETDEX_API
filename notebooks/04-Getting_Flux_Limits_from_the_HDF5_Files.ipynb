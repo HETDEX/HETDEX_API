{
 "cells": [
  {
   "cell_type": "markdown",
   "metadata": {},
   "source": [
    "# Demonstration of API to get flux limits\n",
    "\n",
    "## Extracting a sensitivity cube from the HDF5\n",
    "\n",
    "After installing the HETDEX API we can import the tools to read the\n",
    "HDF5 sensivity cube containers"
   ]
  },
  {
   "cell_type": "code",
   "execution_count": 8,
   "metadata": {
    "collapsed": false
   },
   "outputs": [
    {
     "ename": "ImportError",
     "evalue": "/home/04120/dfarrow/.local/lib/python2.7/site-packages/tables/utilsextension.so: undefined symbol: PyUnicodeUCS4_Decode",
     "output_type": "error",
     "traceback": [
      "\u001b[1;31m---------------------------------------------------------------------------\u001b[0m",
      "\u001b[1;31mImportError\u001b[0m                               Traceback (most recent call last)",
      "\u001b[1;32m<ipython-input-8-389ecae14f10>\u001b[0m in \u001b[0;36m<module>\u001b[1;34m()\u001b[0m\n\u001b[1;32m----> 1\u001b[1;33m \u001b[1;32mimport\u001b[0m \u001b[0mtables\u001b[0m\u001b[1;33m\u001b[0m\u001b[0m\n\u001b[0m",
      "\u001b[1;32m/home/04120/dfarrow/.local/lib/python2.7/site-packages/tables/__init__.py\u001b[0m in \u001b[0;36m<module>\u001b[1;34m()\u001b[0m\n\u001b[0;32m     91\u001b[0m \u001b[1;33m\u001b[0m\u001b[0m\n\u001b[0;32m     92\u001b[0m \u001b[1;31m# Necessary imports to get versions stored on the cython extension\u001b[0m\u001b[1;33m\u001b[0m\u001b[1;33m\u001b[0m\u001b[0m\n\u001b[1;32m---> 93\u001b[1;33m from .utilsextension import (\n\u001b[0m\u001b[0;32m     94\u001b[0m     \u001b[0mget_pytables_version\u001b[0m\u001b[1;33m,\u001b[0m \u001b[0mget_hdf5_version\u001b[0m\u001b[1;33m,\u001b[0m \u001b[0mblosc_compressor_list\u001b[0m\u001b[1;33m,\u001b[0m\u001b[1;33m\u001b[0m\u001b[0m\n\u001b[0;32m     95\u001b[0m     \u001b[0mblosc_compcode_to_compname_\u001b[0m \u001b[1;32mas\u001b[0m \u001b[0mblosc_compcode_to_compname\u001b[0m\u001b[1;33m,\u001b[0m\u001b[1;33m\u001b[0m\u001b[0m\n",
      "\u001b[1;31mImportError\u001b[0m: /home/04120/dfarrow/.local/lib/python2.7/site-packages/tables/utilsextension.so: undefined symbol: PyUnicodeUCS4_Decode"
     ]
    }
   ],
   "source": [
    "import tables"
   ]
  },
  {
   "cell_type": "code",
   "execution_count": 3,
   "metadata": {
    "collapsed": false
   },
   "outputs": [
    {
     "ename": "ImportError",
     "evalue": "No module named tables",
     "output_type": "error",
     "traceback": [
      "\u001b[1;31m---------------------------------------------------------------------------\u001b[0m",
      "\u001b[1;31mImportError\u001b[0m                               Traceback (most recent call last)",
      "\u001b[1;32m<ipython-input-3-c4cfbb320c87>\u001b[0m in \u001b[0;36m<module>\u001b[1;34m()\u001b[0m\n\u001b[0;32m      1\u001b[0m \u001b[0mget_ipython\u001b[0m\u001b[1;33m(\u001b[0m\u001b[1;33m)\u001b[0m\u001b[1;33m.\u001b[0m\u001b[0mmagic\u001b[0m\u001b[1;33m(\u001b[0m\u001b[1;34mu'matplotlib inline'\u001b[0m\u001b[1;33m)\u001b[0m\u001b[1;33m\u001b[0m\u001b[0m\n\u001b[0;32m      2\u001b[0m \u001b[1;32mimport\u001b[0m \u001b[0mmatplotlib\u001b[0m\u001b[1;33m.\u001b[0m\u001b[0mpyplot\u001b[0m \u001b[1;32mas\u001b[0m \u001b[0mplt\u001b[0m\u001b[1;33m\u001b[0m\u001b[0m\n\u001b[1;32m----> 3\u001b[1;33m \u001b[1;32mfrom\u001b[0m \u001b[0mhetdex_api\u001b[0m\u001b[1;33m.\u001b[0m\u001b[0mflux_limits\u001b[0m\u001b[1;33m.\u001b[0m\u001b[0mhdf5_sensitivity_cubes\u001b[0m \u001b[1;32mimport\u001b[0m \u001b[0mSensitivityCubeHDF5Container\u001b[0m\u001b[1;33m\u001b[0m\u001b[0m\n\u001b[0m\u001b[0;32m      4\u001b[0m \u001b[1;33m\u001b[0m\u001b[0m\n\u001b[0;32m      5\u001b[0m \u001b[0mhdfcont\u001b[0m \u001b[1;33m=\u001b[0m \u001b[0mSensitivityCubeHDF5Container\u001b[0m\u001b[1;33m(\u001b[0m\u001b[0mfilename\u001b[0m\u001b[1;33m=\u001b[0m\u001b[1;34m\"20181203_v013_sensitivity_cubes.h5\"\u001b[0m\u001b[1;33m)\u001b[0m\u001b[1;33m\u001b[0m\u001b[0m\n",
      "\u001b[1;32m/home/04120/dfarrow/.local/lib/python2.7/site-packages/hetdex_api/flux_limits/hdf5_sensitivity_cubes.py\u001b[0m in \u001b[0;36m<module>\u001b[1;34m()\u001b[0m\n\u001b[0;32m     13\u001b[0m \u001b[1;32mfrom\u001b[0m \u001b[0mos\u001b[0m\u001b[1;33m.\u001b[0m\u001b[0mpath\u001b[0m \u001b[1;32mimport\u001b[0m \u001b[0misfile\u001b[0m\u001b[1;33m\u001b[0m\u001b[0m\n\u001b[0;32m     14\u001b[0m \u001b[1;32mfrom\u001b[0m \u001b[0mre\u001b[0m \u001b[1;32mimport\u001b[0m \u001b[0mcompile\u001b[0m\u001b[1;33m\u001b[0m\u001b[0m\n\u001b[1;32m---> 15\u001b[1;33m \u001b[1;32mimport\u001b[0m \u001b[0mtables\u001b[0m \u001b[1;32mas\u001b[0m \u001b[0mtb\u001b[0m\u001b[1;33m\u001b[0m\u001b[0m\n\u001b[0m\u001b[0;32m     16\u001b[0m \u001b[1;32mfrom\u001b[0m \u001b[0mhetdex_api\u001b[0m\u001b[1;33m.\u001b[0m\u001b[0mflux_limits\u001b[0m\u001b[1;33m.\u001b[0m\u001b[0msensitivity_cube\u001b[0m \u001b[1;32mimport\u001b[0m \u001b[0mSensitivityCube\u001b[0m\u001b[1;33m\u001b[0m\u001b[0m\n\u001b[0;32m     17\u001b[0m \u001b[1;33m\u001b[0m\u001b[0m\n",
      "\u001b[1;31mImportError\u001b[0m: No module named tables"
     ]
    }
   ],
   "source": [
    "%matplotlib inline\n",
    "import matplotlib.pyplot as plt\n",
    "from hetdex_api.flux_limits.hdf5_sensitivity_cubes import SensitivityCubeHDF5Container\n",
    "\n",
    "hdfcont = SensitivityCubeHDF5Container(filename=\"20181203_v013_sensitivity_cubes.h5\")\n"
   ]
  },
  {
   "cell_type": "markdown",
   "metadata": {},
   "source": [
    "A method is supplied that shows the contents of the HDF5 container. This just calls the `print` function on the underlying `tables` File object. From this you can see what IFUs and shots are stored."
   ]
  },
  {
   "cell_type": "code",
   "execution_count": null,
   "metadata": {
    "collapsed": false
   },
   "outputs": [],
   "source": [
    "hdfcont.list_contents()"
   ]
  },
  {
   "cell_type": "markdown",
   "metadata": {},
   "source": [
    "We can extract a particular IFU like this. Note that you have to add the string 'ifuslot\\_' to the three digit IFU slot. The `datevshot` is optional when only one shot flux limit is stored in a file (the default). Note that you have to append 'virus\\_' to the datevshot. "
   ]
  },
  {
   "cell_type": "code",
   "execution_count": null,
   "metadata": {
    "collapsed": false
   },
   "outputs": [],
   "source": [
    "scube = hdfcont.extract_ifu_sensitivity_cube(\"ifuslot_036\", datevshot=\"virus_20181203v013\")"
   ]
  },
  {
   "cell_type": "markdown",
   "metadata": {},
   "source": [
    "## Using the sensitivity cube\n",
    "\n",
    "Now we have the `SensitivityCube` object we can extract a flux limit, in erg/s/cm^2 from it like this"
   ]
  },
  {
   "cell_type": "code",
   "execution_count": null,
   "metadata": {
    "collapsed": false
   },
   "outputs": [],
   "source": [
    "# RA DEC (in degrees) Wavelength (Angstrom)\n",
    "scube.get_f50(20.7384244, 0.4019458, 4240)"
   ]
  },
  {
   "cell_type": "markdown",
   "metadata": {
    "collapsed": true
   },
   "source": [
    "Locations out of range return 999, e.g."
   ]
  },
  {
   "cell_type": "code",
   "execution_count": null,
   "metadata": {
    "collapsed": false
   },
   "outputs": [],
   "source": [
    "scube.get_f50(120.7384244, 13.4019458, 42400)"
   ]
  },
  {
   "cell_type": "markdown",
   "metadata": {},
   "source": [
    "Of course we can also pass an arrays of coordinates, to get multiple results, e.g. to plot the flux limit versus wavelength"
   ]
  },
  {
   "cell_type": "code",
   "execution_count": null,
   "metadata": {
    "collapsed": false
   },
   "outputs": [],
   "source": [
    "from numpy import linspace\n",
    "wls = linspace(3495.0, 5505.0, 100)\n",
    "flims = scube.get_f50(20.7384244, 0.4019458, wls)\n",
    "plt.plot(wls[flims < 999], flims[flims < 999]*1e16)\n",
    "plt.xlabel(\"Wavelength (A)\", fontsize=15.0)\n",
    "plt.ylabel(\"Flux limit ($10^{-16}$ erg/s/cm$^2$)\", fontsize=15.0)"
   ]
  },
  {
   "cell_type": "markdown",
   "metadata": {},
   "source": [
    "To get the fraction of sources detected at a particular flux, rather than just the flux limit value one can use this method"
   ]
  },
  {
   "cell_type": "code",
   "execution_count": null,
   "metadata": {
    "collapsed": false
   },
   "outputs": [],
   "source": [
    "# RA DEC (in degrees) Wavelength (Angstrom) Flux (cgs)\n",
    "scube.return_completeness(1.1e-17, 20.7384244, 0.4019458, 4245)"
   ]
  },
  {
   "cell_type": "markdown",
   "metadata": {
    "collapsed": true
   },
   "source": [
    "This completeness is computed using a functional form, this function takes two parameters the flux limit and a slope which controls how quickly completeness falls off. The latter is fixed to our best guess in this version of the API (**this means it might not be all that accurate!**), in the future this will all be better tested. By definition the flux limit stored in the cubes corresponds to 50% completeness, i.e."
   ]
  },
  {
   "cell_type": "code",
   "execution_count": null,
   "metadata": {
    "collapsed": false
   },
   "outputs": [],
   "source": [
    "flux = scube.get_f50(20.7384244, 0.4019458, 4245)\n",
    "scube.return_completeness(flux, 20.7384244, 0.4019458, 4245)"
   ]
  },
  {
   "cell_type": "markdown",
   "metadata": {},
   "source": [
    "To finish off, here is a plot of the completeness versus flux at some position. Note we use the flux limit computed above to define the range of the plot"
   ]
  },
  {
   "cell_type": "code",
   "execution_count": null,
   "metadata": {
    "collapsed": false
   },
   "outputs": [],
   "source": [
    "fluxes = linspace(0.5*flux, 3.0*flux, 100)\n",
    "compl = scube.return_completeness(fluxes, 20.7384244, 0.4019458, 4245)\n",
    "plt.plot(fluxes*1e16, compl, \"k-\")\n",
    "plt.xlabel(\"Flux ($10^{-16}$ erg/s/cm$^2$)\")\n",
    "plt.ylabel(\"Detected Fraction\")"
   ]
  },
  {
   "cell_type": "markdown",
   "metadata": {},
   "source": [
    "## Looping over all the IFUs in an HDF5 file\n",
    "If you want to loop over all the IFUs then an iterator is provided. It returns pairs of IFU slot and sensitivity cube. In this example we overplot flux limits for all of the IFUs in the shot"
   ]
  },
  {
   "cell_type": "code",
   "execution_count": 2,
   "metadata": {
    "collapsed": false
   },
   "outputs": [
    {
     "ename": "NameError",
     "evalue": "name 'hdfcont' is not defined",
     "output_type": "error",
     "traceback": [
      "\u001b[1;31m---------------------------------------------------------------------------\u001b[0m",
      "\u001b[1;31mNameError\u001b[0m                                 Traceback (most recent call last)",
      "\u001b[1;32m<ipython-input-2-8e5d8b7c88d4>\u001b[0m in \u001b[0;36m<module>\u001b[1;34m()\u001b[0m\n\u001b[1;32m----> 1\u001b[1;33m \u001b[1;32mfor\u001b[0m \u001b[0mifu_name\u001b[0m\u001b[1;33m,\u001b[0m \u001b[0mscube\u001b[0m \u001b[1;32min\u001b[0m \u001b[0mhdfcont\u001b[0m\u001b[1;33m.\u001b[0m\u001b[0mitercubes\u001b[0m\u001b[1;33m(\u001b[0m\u001b[1;33m)\u001b[0m\u001b[1;33m:\u001b[0m\u001b[1;33m\u001b[0m\u001b[0m\n\u001b[0m\u001b[0;32m      2\u001b[0m \u001b[1;33m\u001b[0m\u001b[0m\n\u001b[0;32m      3\u001b[0m     \u001b[1;31m# Compute the central RA, DEC from the cubes WCS\u001b[0m\u001b[1;33m\u001b[0m\u001b[1;33m\u001b[0m\u001b[0m\n\u001b[0;32m      4\u001b[0m     \u001b[0mshape\u001b[0m \u001b[1;33m=\u001b[0m \u001b[0mscube\u001b[0m\u001b[1;33m.\u001b[0m\u001b[0mf50vals\u001b[0m\u001b[1;33m.\u001b[0m\u001b[0mshape\u001b[0m\u001b[1;33m\u001b[0m\u001b[0m\n\u001b[0;32m      5\u001b[0m     \u001b[0mra\u001b[0m\u001b[1;33m,\u001b[0m \u001b[0mdec\u001b[0m\u001b[1;33m,\u001b[0m \u001b[0mlambda_\u001b[0m \u001b[1;33m=\u001b[0m \u001b[0mscube\u001b[0m\u001b[1;33m.\u001b[0m\u001b[0mwcs\u001b[0m\u001b[1;33m.\u001b[0m\u001b[0mall_pix2world\u001b[0m\u001b[1;33m(\u001b[0m\u001b[0mshape\u001b[0m\u001b[1;33m[\u001b[0m\u001b[1;36m2\u001b[0m\u001b[1;33m]\u001b[0m\u001b[1;33m/\u001b[0m\u001b[1;36m2.\u001b[0m\u001b[1;33m,\u001b[0m \u001b[0mshape\u001b[0m\u001b[1;33m[\u001b[0m\u001b[1;36m1\u001b[0m\u001b[1;33m]\u001b[0m\u001b[1;33m/\u001b[0m\u001b[1;36m2.\u001b[0m\u001b[1;33m,\u001b[0m \u001b[0mshape\u001b[0m\u001b[1;33m[\u001b[0m\u001b[1;36m0\u001b[0m\u001b[1;33m]\u001b[0m\u001b[1;33m/\u001b[0m\u001b[1;36m2.\u001b[0m\u001b[1;33m,\u001b[0m \u001b[1;36m0\u001b[0m\u001b[1;33m)\u001b[0m\u001b[1;33m\u001b[0m\u001b[0m\n",
      "\u001b[1;31mNameError\u001b[0m: name 'hdfcont' is not defined"
     ]
    }
   ],
   "source": [
    "for ifu_name, scube in hdfcont.itercubes():\n",
    "    \n",
    "    # Compute the central RA, DEC from the cubes WCS\n",
    "    shape = scube.f50vals.shape\n",
    "    ra, dec, lambda_ = scube.wcs.all_pix2world(shape[2]/2., shape[1]/2., shape[0]/2., 0)\n",
    "    \n",
    "    # Get the flux limits at this RA/DEC and a range of wavelengths\n",
    "    flims = scube.get_f50(ra, dec, wls)\n",
    "\n",
    "    # Plot\n",
    "    plt.plot(wls[flims < 999], flims[flims < 999]*1e16, label=ifu_name)\n",
    "\n",
    "plt.xlabel(\"Wavelength (A)\", fontsize=15.0)\n",
    "plt.ylabel(\"Flux limit ($10^{-16}$ erg/s/cm$^2$)\", fontsize=15.0)\n",
    "plt.show()\n",
    "\n",
    "    "
   ]
  }
 ],
 "metadata": {
  "kernelspec": {
   "display_name": "Python 2",
   "language": "python",
   "name": "python2"
  },
  "language_info": {
   "codemirror_mode": {
    "name": "ipython",
    "version": 2
   },
   "file_extension": ".py",
   "mimetype": "text/x-python",
   "name": "python",
   "nbconvert_exporter": "python",
   "pygments_lexer": "ipython2",
   "version": "2.7.9"
  }
 },
 "nbformat": 4,
 "nbformat_minor": 0
}
