{
 "cells": [
  {
   "cell_type": "markdown",
   "metadata": {},
   "source": [
    "# 04 Demonstration of API to get flux limits\n",
    "\n",
    "## Extracting a sensitivity cube from the HDF5\n",
    "\n",
    "After installing the HETDEX API we can import the tools to read the\n",
    "HDF5 sensivity cube containers"
   ]
  },
  {
   "cell_type": "code",
   "execution_count": 17,
   "metadata": {},
   "outputs": [],
   "source": [
    "%matplotlib inline\n",
    "import matplotlib.pyplot as plt\n",
    "from hetdex_api.flux_limits.hdf5_sensitivity_cubes import (SensitivityCubeHDF5Container, \n",
    "                                                           return_sensitivity_hdf_path)"
   ]
  },
  {
   "cell_type": "markdown",
   "metadata": {},
   "source": [
    "The sensitivity cube class expects the filepath to the HDF file containing the flux limits for a given shot. A simple function is provided to generate the file path from a given datevobs, so let's use it. You can get a list of the datevobs from the Survey table, but here let's just look at the data directory to see what's there"
   ]
  },
  {
   "cell_type": "code",
   "execution_count": 18,
   "metadata": {},
   "outputs": [
    {
     "name": "stdout",
     "output_type": "stream",
     "text": [
      "20170103v002_sensitivity_cube.h5\r\n",
      "20170103v003_sensitivity_cube.h5\r\n",
      "20170105v008_sensitivity_cube.h5\r\n",
      "20170105v009_sensitivity_cube.h5\r\n",
      "20170105v010_sensitivity_cube.h5\r\n",
      "20170105v011_sensitivity_cube.h5\r\n",
      "20170106v001_sensitivity_cube.h5\r\n",
      "20170106v002_sensitivity_cube.h5\r\n",
      "20170106v003_sensitivity_cube.h5\r\n",
      "20170107v012_sensitivity_cube.h5\r\n",
      "20181204v020_sensitivity_cube.h5\r\n",
      "20181205v015_sensitivity_cube.h5\r\n",
      "20181205v017_sensitivity_cube.h5\r\n",
      "20181205v027_sensitivity_cube.h5\r\n",
      "20181228v017_sensitivity_cube.h5\r\n",
      "20181231v013_sensitivity_cube.h5\r\n",
      "20190101v011_sensitivity_cube.h5\r\n",
      "20190101v012_sensitivity_cube.h5\r\n",
      "20190101v013_sensitivity_cube.h5\r\n",
      "20190101v014_sensitivity_cube.h5\r\n"
     ]
    }
   ],
   "source": [
    "%ls /work/04120/dfarrow/wrangler/flims/hdr1 | head -n 20"
   ]
  },
  {
   "cell_type": "code",
   "execution_count": 19,
   "metadata": {},
   "outputs": [],
   "source": [
    "datevobs = \"20190101v011\"\n",
    "hdf_filename = return_sensitivity_hdf_path(datevobs)\n",
    "hdfcont = SensitivityCubeHDF5Container(filename=hdf_filename)"
   ]
  },
  {
   "cell_type": "markdown",
   "metadata": {},
   "source": [
    "A method is supplied that shows the contents of the HDF5 container. This just calls the `print` function on the underlying `tables` File object. From this you can see what IFUs and shots are stored."
   ]
  },
  {
   "cell_type": "code",
   "execution_count": 20,
   "metadata": {},
   "outputs": [
    {
     "name": "stdout",
     "output_type": "stream",
     "text": [
      "/work/04120/dfarrow/wrangler/flims/hdr1/20190101v011_sensitivity_cube.h5 (File) ''\n",
      "Last modif.: 'Wed Mar  6 12:05:14 2019'\n",
      "Object Tree: \n",
      "/ (RootGroup) ''\n",
      "/virus_20190101v011 (Group) ''\n",
      "/virus_20190101v011/ifuslot_013 (CArray(1036, 70, 70), fletcher32, shuffle, zlib(4)) '50% Detection Limits'\n",
      "/virus_20190101v011/ifuslot_021 (CArray(1036, 70, 70), fletcher32, shuffle, zlib(4)) '50% Detection Limits'\n",
      "/virus_20190101v011/ifuslot_022 (CArray(1036, 70, 70), fletcher32, shuffle, zlib(4)) '50% Detection Limits'\n",
      "/virus_20190101v011/ifuslot_023 (CArray(1036, 70, 70), fletcher32, shuffle, zlib(4)) '50% Detection Limits'\n",
      "/virus_20190101v011/ifuslot_024 (CArray(1036, 70, 70), fletcher32, shuffle, zlib(4)) '50% Detection Limits'\n",
      "/virus_20190101v011/ifuslot_025 (CArray(1036, 70, 70), fletcher32, shuffle, zlib(4)) '50% Detection Limits'\n",
      "/virus_20190101v011/ifuslot_026 (CArray(1036, 70, 70), fletcher32, shuffle, zlib(4)) '50% Detection Limits'\n",
      "/virus_20190101v011/ifuslot_027 (CArray(1036, 70, 70), fletcher32, shuffle, zlib(4)) '50% Detection Limits'\n",
      "/virus_20190101v011/ifuslot_032 (CArray(1036, 70, 70), fletcher32, shuffle, zlib(4)) '50% Detection Limits'\n",
      "/virus_20190101v011/ifuslot_033 (CArray(1036, 70, 70), fletcher32, shuffle, zlib(4)) '50% Detection Limits'\n",
      "/virus_20190101v011/ifuslot_034 (CArray(1036, 70, 70), fletcher32, shuffle, zlib(4)) '50% Detection Limits'\n",
      "/virus_20190101v011/ifuslot_035 (CArray(1036, 70, 70), fletcher32, shuffle, zlib(4)) '50% Detection Limits'\n",
      "/virus_20190101v011/ifuslot_036 (CArray(1036, 70, 70), fletcher32, shuffle, zlib(4)) '50% Detection Limits'\n",
      "/virus_20190101v011/ifuslot_037 (CArray(1036, 70, 70), fletcher32, shuffle, zlib(4)) '50% Detection Limits'\n",
      "/virus_20190101v011/ifuslot_042 (CArray(1036, 70, 70), fletcher32, shuffle, zlib(4)) '50% Detection Limits'\n",
      "/virus_20190101v011/ifuslot_043 (CArray(1036, 70, 70), fletcher32, shuffle, zlib(4)) '50% Detection Limits'\n",
      "/virus_20190101v011/ifuslot_044 (CArray(1036, 70, 70), fletcher32, shuffle, zlib(4)) '50% Detection Limits'\n",
      "/virus_20190101v011/ifuslot_045 (CArray(1036, 70, 70), fletcher32, shuffle, zlib(4)) '50% Detection Limits'\n",
      "/virus_20190101v011/ifuslot_046 (CArray(1036, 70, 70), fletcher32, shuffle, zlib(4)) '50% Detection Limits'\n",
      "/virus_20190101v011/ifuslot_047 (CArray(1036, 70, 70), fletcher32, shuffle, zlib(4)) '50% Detection Limits'\n",
      "/virus_20190101v011/ifuslot_052 (CArray(1036, 70, 70), fletcher32, shuffle, zlib(4)) '50% Detection Limits'\n",
      "/virus_20190101v011/ifuslot_053 (CArray(1036, 70, 70), fletcher32, shuffle, zlib(4)) '50% Detection Limits'\n",
      "/virus_20190101v011/ifuslot_063 (CArray(1036, 70, 70), fletcher32, shuffle, zlib(4)) '50% Detection Limits'\n",
      "/virus_20190101v011/ifuslot_067 (CArray(1036, 70, 70), fletcher32, shuffle, zlib(4)) '50% Detection Limits'\n",
      "/virus_20190101v011/ifuslot_072 (CArray(1036, 70, 70), fletcher32, shuffle, zlib(4)) '50% Detection Limits'\n",
      "/virus_20190101v011/ifuslot_073 (CArray(1036, 70, 70), fletcher32, shuffle, zlib(4)) '50% Detection Limits'\n",
      "/virus_20190101v011/ifuslot_074 (CArray(1036, 70, 70), fletcher32, shuffle, zlib(4)) '50% Detection Limits'\n",
      "/virus_20190101v011/ifuslot_075 (CArray(1036, 70, 70), fletcher32, shuffle, zlib(4)) '50% Detection Limits'\n",
      "/virus_20190101v011/ifuslot_076 (CArray(1036, 70, 70), fletcher32, shuffle, zlib(4)) '50% Detection Limits'\n",
      "/virus_20190101v011/ifuslot_077 (CArray(1036, 70, 70), fletcher32, shuffle, zlib(4)) '50% Detection Limits'\n",
      "/virus_20190101v011/ifuslot_082 (CArray(1036, 70, 70), fletcher32, shuffle, zlib(4)) '50% Detection Limits'\n",
      "/virus_20190101v011/ifuslot_083 (CArray(1036, 70, 70), fletcher32, shuffle, zlib(4)) '50% Detection Limits'\n",
      "/virus_20190101v011/ifuslot_084 (CArray(1036, 70, 70), fletcher32, shuffle, zlib(4)) '50% Detection Limits'\n",
      "/virus_20190101v011/ifuslot_085 (CArray(1036, 70, 70), fletcher32, shuffle, zlib(4)) '50% Detection Limits'\n",
      "/virus_20190101v011/ifuslot_086 (CArray(1036, 70, 70), fletcher32, shuffle, zlib(4)) '50% Detection Limits'\n",
      "/virus_20190101v011/ifuslot_087 (CArray(1036, 70, 70), fletcher32, shuffle, zlib(4)) '50% Detection Limits'\n",
      "/virus_20190101v011/ifuslot_092 (CArray(1036, 70, 70), fletcher32, shuffle, zlib(4)) '50% Detection Limits'\n",
      "/virus_20190101v011/ifuslot_093 (CArray(1036, 70, 70), fletcher32, shuffle, zlib(4)) '50% Detection Limits'\n",
      "/virus_20190101v011/ifuslot_094 (CArray(1036, 70, 70), fletcher32, shuffle, zlib(4)) '50% Detection Limits'\n",
      "/virus_20190101v011/ifuslot_095 (CArray(1036, 70, 70), fletcher32, shuffle, zlib(4)) '50% Detection Limits'\n",
      "/virus_20190101v011/ifuslot_096 (CArray(1036, 70, 70), fletcher32, shuffle, zlib(4)) '50% Detection Limits'\n",
      "/virus_20190101v011/ifuslot_097 (CArray(1036, 70, 70), fletcher32, shuffle, zlib(4)) '50% Detection Limits'\n",
      "/virus_20190101v011/ifuslot_103 (CArray(1036, 70, 70), fletcher32, shuffle, zlib(4)) '50% Detection Limits'\n",
      "/virus_20190101v011/ifuslot_104 (CArray(1036, 70, 70), fletcher32, shuffle, zlib(4)) '50% Detection Limits'\n",
      "/virus_20190101v011/ifuslot_105 (CArray(1036, 70, 70), fletcher32, shuffle, zlib(4)) '50% Detection Limits'\n",
      "/virus_20190101v011/ifuslot_106 (CArray(1036, 70, 70), fletcher32, shuffle, zlib(4)) '50% Detection Limits'\n",
      "\n"
     ]
    }
   ],
   "source": [
    "hdfcont.list_contents()"
   ]
  },
  {
   "cell_type": "markdown",
   "metadata": {},
   "source": [
    "We can extract a particular IFU like this. Note that you have to add the string 'ifuslot\\_' to the three digit IFU slot. Supplying The `datevobs` is optional when only one shot flux limit is stored in a file (the default). Note that you have to append 'virus\\_' to the datevshot. "
   ]
  },
  {
   "cell_type": "code",
   "execution_count": 21,
   "metadata": {},
   "outputs": [],
   "source": [
    "scube = hdfcont.extract_ifu_sensitivity_cube(\"ifuslot_036\")\n",
    "# Gives the same result as below in this case, as there's only one datevshot in the file\n",
    "scube = hdfcont.extract_ifu_sensitivity_cube(\"ifuslot_036\", datevshot=\"virus_\" + datevobs)"
   ]
  },
  {
   "cell_type": "markdown",
   "metadata": {},
   "source": [
    "## Using the sensitivity cube\n",
    "\n",
    "Now we have the `SensitivityCube` object we can extract a flux limit, in erg/s/cm^2 from it like this"
   ]
  },
  {
   "cell_type": "code",
   "execution_count": 22,
   "metadata": {},
   "outputs": [
    {
     "data": {
      "text/plain": [
       "8.56231e-17"
      ]
     },
     "execution_count": 22,
     "metadata": {},
     "output_type": "execute_result"
    }
   ],
   "source": [
    "# Compute the central RA, DEC from the cubes WCS for the purposes of this test\n",
    "shape = scube.f50vals.shape\n",
    "ra, dec, lambda_ = scube.wcs.all_pix2world(shape[2]/2., shape[1]/2., shape[0]/2., 0)\n",
    "\n",
    "# RA DEC (in degrees) Wavelength (Angstrom)\n",
    "scube.get_f50(ra, dec, 4240)"
   ]
  },
  {
   "cell_type": "markdown",
   "metadata": {
    "collapsed": true
   },
   "source": [
    "Locations out of range return 999, e.g."
   ]
  },
  {
   "cell_type": "code",
   "execution_count": 23,
   "metadata": {},
   "outputs": [
    {
     "data": {
      "text/plain": [
       "999.0"
      ]
     },
     "execution_count": 23,
     "metadata": {},
     "output_type": "execute_result"
    }
   ],
   "source": [
    "scube.get_f50(ra + 10.0, dec, 42400)"
   ]
  },
  {
   "cell_type": "markdown",
   "metadata": {},
   "source": [
    "Of course we can also pass an arrays of coordinates, to get multiple results, e.g. to plot the flux limit versus wavelength"
   ]
  },
  {
   "cell_type": "code",
   "execution_count": 24,
   "metadata": {},
   "outputs": [
    {
     "data": {
      "text/plain": [
       "Text(0,0.5,'Flux limit ($10^{-16}$ erg/s/cm$^2$)')"
      ]
     },
     "execution_count": 24,
     "metadata": {},
     "output_type": "execute_result"
    },
    {
     "data": {
      "image/png": "[encoded data removed]",
      "text/plain": [
       "<Figure size 432x288 with 1 Axes>"
      ]
     },
     "metadata": {},
     "output_type": "display_data"
    }
   ],
   "source": [
    "from numpy import linspace\n",
    "wls = linspace(3495.0, 5505.0, 100)\n",
    "flims = scube.get_f50(ra, dec, wls)\n",
    "plt.plot(wls[flims < 999], flims[flims < 999]*1e16)\n",
    "plt.xlabel(\"Wavelength (A)\", fontsize=15.0)\n",
    "plt.ylabel(\"Flux limit ($10^{-16}$ erg/s/cm$^2$)\", fontsize=15.0)"
   ]
  },
  {
   "cell_type": "markdown",
   "metadata": {},
   "source": [
    "To get the fraction of sources detected at a particular flux, rather than just the flux limit value one can use this method"
   ]
  },
  {
   "cell_type": "code",
   "execution_count": 25,
   "metadata": {},
   "outputs": [
    {
     "data": {
      "text/plain": [
       "0.004017500505771265"
      ]
     },
     "execution_count": 25,
     "metadata": {},
     "output_type": "execute_result"
    }
   ],
   "source": [
    "# Flux (cgs) RA DEC (in degrees) Wavelength (Angstrom) \n",
    "scube.return_completeness(1.1e-17, ra, dec, 4245)"
   ]
  },
  {
   "cell_type": "markdown",
   "metadata": {
    "collapsed": true
   },
   "source": [
    "This completeness is computed using a functional form, this function takes two parameters the flux limit and a slope which controls how quickly completeness falls off. The latter is fixed to our best guess in this version of the API (**this means it might not be all that accurate!**), in the future this will all be better tested. By definition the flux limit stored in the cubes corresponds to 50% completeness, i.e."
   ]
  },
  {
   "cell_type": "code",
   "execution_count": 26,
   "metadata": {},
   "outputs": [
    {
     "data": {
      "text/plain": [
       "0.5"
      ]
     },
     "execution_count": 26,
     "metadata": {},
     "output_type": "execute_result"
    }
   ],
   "source": [
    "flux = scube.get_f50(ra, dec, 4245)\n",
    "scube.return_completeness(flux, ra, dec, 4245)"
   ]
  },
  {
   "cell_type": "markdown",
   "metadata": {},
   "source": [
    "To finish off, here is a plot of the completeness versus flux at some position. Note we use the flux limit computed above to define the range of the plot"
   ]
  },
  {
   "cell_type": "code",
   "execution_count": 27,
   "metadata": {},
   "outputs": [
    {
     "data": {
      "text/plain": [
       "Text(0,0.5,'Detected Fraction')"
      ]
     },
     "execution_count": 27,
     "metadata": {},
     "output_type": "execute_result"
    },
    {
     "data": {
      "image/png": "[encoded data removed]",
      "text/plain": [
       "<Figure size 432x288 with 1 Axes>"
      ]
     },
     "metadata": {},
     "output_type": "display_data"
    }
   ],
   "source": [
    "fluxes = linspace(0.5*flux, 3.0*flux, 100)\n",
    "compl = scube.return_completeness(fluxes, ra, dec, 4245)\n",
    "plt.plot(fluxes*1e16, compl, \"k-\")\n",
    "plt.xlabel(\"Flux ($10^{-16}$ erg/s/cm$^2$)\")\n",
    "plt.ylabel(\"Detected Fraction\")"
   ]
  },
  {
   "cell_type": "markdown",
   "metadata": {},
   "source": [
    "## Looping over all the IFUs in an HDF5 file\n",
    "If you want to loop over all the IFUs then an iterator is provided. It returns pairs of IFU slot and sensitivity cube. In this example we overplot flux limits for all of the IFUs in the shot"
   ]
  },
  {
   "cell_type": "code",
   "execution_count": null,
   "metadata": {},
   "outputs": [],
   "source": [
    "for ifu_name, scube in hdfcont.itercubes():\n",
    "    \n",
    "    # Compute the central RA, DEC from the cubes WCS\n",
    "    shape = scube.f50vals.shape\n",
    "    ra, dec, lambda_ = scube.wcs.all_pix2world(shape[2]/2., shape[1]/2., shape[0]/2., 0)\n",
    "    \n",
    "    # Get the flux limits at this RA/DEC and a range of wavelengths\n",
    "    flims = scube.get_f50(ra, dec, wls)\n",
    "\n",
    "    # Plot\n",
    "    plt.plot(wls[flims < 999], flims[flims < 999]*1e16, label=ifu_name)\n",
    "\n",
    "plt.xlabel(\"Wavelength (A)\", fontsize=15.0)\n",
    "plt.ylabel(\"Flux limit ($10^{-16}$ erg/s/cm$^2$)\", fontsize=15.0)\n",
    "plt.show()\n",
    "\n",
    "    "
   ]
  }
 ],
 "metadata": {
  "kernelspec": {
   "display_name": "Python 2",
   "language": "python",
   "name": "python2"
  },
  "language_info": {
   "codemirror_mode": {
    "name": "ipython",
    "version": 2
   },
   "file_extension": ".py",
   "mimetype": "text/x-python",
   "name": "python",
   "nbconvert_exporter": "python",
   "pygments_lexer": "ipython2",
   "version": "2.7.15"
  }
 },
 "nbformat": 4,
 "nbformat_minor": 1
}
