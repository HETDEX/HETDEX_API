{
 "cells": [
  {
   "cell_type": "markdown",
   "metadata": {},
   "source": [
    "# Source Catalog Loading, Plotting and Exploring Examples"
   ]
  },
  {
   "cell_type": "code",
   "execution_count": null,
   "metadata": {},
   "outputs": [],
   "source": [
    "import numpy as np\n",
    "import os.path as op\n",
    "import requests\n",
    "\n",
    "from astropy.table import Table, unique\n",
    "\n",
    "from hetdex_tools.source_catalog import plot_source_group\n",
    "from hetdex_api.elixer_widget_cls import ElixerWidget\n",
    "from hetdex_api.query_widget import QueryWidget\n",
    "from hetdex_api.amp_widget import AmpWidget\n",
    "from hetdex_api.config import HDRconfig"
   ]
  },
  {
   "cell_type": "markdown",
   "metadata": {},
   "source": [
    "This catalog is a combination of sources from the continuum source catalog, the curated detection line catalog of the same version and the confirmed AGN detection IDs from Chenxu Liu's AGN search. A source_id is assigned to a group of detections that are first matched in 3D space through FOF clustering in RA/DEC/WAVE at a linking length of 6 arcsec and 6 AA in the spectral direction. FOF grouping of detections close on sky is done at a smaller linking length of 3AA. This can result in some background sources getting sweeped into a foreground object. Sources in repeat observation are NOT grouped together into one source_id. The column 'line_id' will identify a line species for a specific line emission detection if it is an observed wavelength match to the line given the determined redshift (z_hetdex) of a source. \n",
    "\n",
    "The column `'det_type'` can be `['line','cont','agn']`. The column \"source_type\" describes the source classifcation 'agn','lae', 'oii', 'star', 'lzg'(low-z galaxy without line emission), 'unsure' and 'z_hetdex' provides the best redshift which is a combination of Diagnose redshifts (g<22), Elixer redshifts (g>22) and AGN redshifts. Please read the first public source catalog paper for more info  https://iopscience.iop.org/article/10.3847/1538-4357/aca962.\n",
    "\n",
    "Please report issues to Erin at erin_@_astro.\n",
    "\n",
    "### Column Info can be found here:\n",
    "\n",
    "\n",
    "https://op1srv.mpe.mpg.de/wikihetdex/index.php/Column_Info\n"
   ]
  },
  {
   "cell_type": "markdown",
   "metadata": {},
   "source": [
    "## Open the catalog. We can use HDRconfig to identify the system path"
   ]
  },
  {
   "cell_type": "code",
   "execution_count": null,
   "metadata": {},
   "outputs": [],
   "source": [
    "# Enter the catalog version\n",
    "\n",
    "version = '4.0.0'\n",
    "hdrv = 'hdr{}'.format(version[0])\n",
    "config = HDRconfig()\n",
    "catfile = op.join(config.hdr_dir[hdrv], 'catalogs', 'source_catalog_' + version + '.fits')\n",
    "source_table = Table.read(catfile)\n",
    "\n",
    "print('Source catalog was found at {}'.format(catfile))"
   ]
  },
  {
   "cell_type": "markdown",
   "metadata": {},
   "source": [
    "### NEW!!! We will continue to update the bad detection list on github. These can be removed from the catalog using this cell."
   ]
  },
  {
   "cell_type": "code",
   "execution_count": null,
   "metadata": {},
   "outputs": [],
   "source": [
    "# set to true to update flags for all newly found bad detects since catalog release\n",
    "update_baddets = True\n",
    "\n",
    "if update_baddets:\n",
    "    current_good_dets = np.array(source_table['detectid'][source_table['flag_baddet'] == 1])\n",
    "    baddets = np.array( [int(det) for det in requests.get('https://raw.githubusercontent.com/HETDEX/hetdex_api/master/known_issues/hdr3/baddetects.list').text.split('\\n')])\n",
    "    \n",
    "    update_these_dets = np.intersect1d( current_good_dets, baddets)\n",
    "\n",
    "    for baddet in update_these_dets:\n",
    "        print('Updating flag for {}'.format(baddet))\n",
    "        sel_det = source_table['detectid'] == baddet\n",
    "        if source_table['flag_baddet'][sel_det] == 1:\n",
    "            source_table['flag_baddet'][sel_det] = 0\n",
    "            source_table['flag_best'][sel_det] = 0"
   ]
  },
  {
   "cell_type": "markdown",
   "metadata": {},
   "source": [
    "You can sort the table using the `unique` function from `astropy.table` on the `source_id` key. For nearby galaxies, stars and AGN, many detectids can comprise the same source (ie. the same `source_id`). When you reduce the catalog using the `unique` function, only 1 detectid remains for the source. It is sorted such that the source with a wavelength matching the `z_guess` value is selected and the detectid is located close to the positional center of the source group. "
   ]
  },
  {
   "cell_type": "code",
   "execution_count": null,
   "metadata": {},
   "outputs": [],
   "source": [
    "# selecting for S/N>=4.8line sources and all continuum + AGN sources\n",
    "sel_sn = (source_table['sn'] >= 5.5) & (source_table['det_type'] == 'line')\n",
    "\n",
    "sel_good = (source_table['flag_best'] == 1) * (source_table['flag_erin_cuts']==1)\n",
    "\n",
    "sel_det = source_table['selected_det'] == True\n",
    "sel_agn = source_table['source_type']=='agn'\n",
    "sel_cont = source_table['det_type'] == 'cont'\n",
    "\n",
    "sel_cat = (sel_sn | sel_cont | sel_agn) & sel_det & sel_good\n",
    "uniq_table = unique(source_table[sel_cat], keys='source_id')"
   ]
  },
  {
   "cell_type": "code",
   "execution_count": null,
   "metadata": {},
   "outputs": [],
   "source": [
    "star = uniq_table['source_id'][uniq_table['source_type'] == 'star']\n",
    "oii = uniq_table['source_id'][uniq_table['source_type'] == 'oii']\n",
    "lae = uniq_table['source_id'][uniq_table['source_type'] == 'lae']\n",
    "agn = uniq_table['source_id'][uniq_table['source_type'] == 'agn']\n",
    "lzg = uniq_table['source_id'][uniq_table['source_type'] == 'lzg']\n",
    "\n",
    "print('There are {} low-z gals, {} stars, {} OII emitters, {} AGN, and {} LAEs'. \\\n",
    "      format(np.size(lzg), np.size(star), np.size(oii), np.size(agn), np.size(lae)))"
   ]
  },
  {
   "cell_type": "markdown",
   "metadata": {},
   "source": [
    "## Here is an example of plotting a group"
   ]
  },
  {
   "cell_type": "code",
   "execution_count": null,
   "metadata": {},
   "outputs": [],
   "source": [
    "%matplotlib inline"
   ]
  },
  {
   "cell_type": "code",
   "execution_count": null,
   "metadata": {},
   "outputs": [],
   "source": [
    "# the source_ids are sorted by member number ('n_member' in the catalog)\n",
    "# This is how many detections are found in the source_id group\n",
    "\n",
    "# Here's a query for high S/N LAEs\n",
    "sel = (uniq_table['source_type'] == 'lae') & (uniq_table['sn'] > 6.5)\n",
    "sid = uniq_table['source_id'][sel][301]\n",
    "\n",
    "# Index a star \n",
    "#sid = star[100]\n",
    "\n",
    "# Index an OII galaxy\n",
    "#sid = oii[0]\n",
    "\n",
    "# Index an LAE\n",
    "#sid = lae[0]\n",
    "\n",
    "# Index the AGN list:\n",
    "#sid = agn[0]\n",
    "\n",
    "# This step grabs the source group so we can look at each source in Elixer\n",
    "sel_group = (source_table['source_id'] == sid) \n",
    "group = source_table[sel_group]\n",
    "\n",
    "#print(sid)\n",
    "#print(group)\n",
    "\n",
    "# this function overplots the source group over an image\n",
    "# use label=True to see detectid's on image\n",
    "# use save=True to save the image to you working directory\n",
    "# the size of the line emission is scaled to the S/N of the line\n",
    "\n",
    "plot_source_group(source_id = sid, source_table = source_table, label = False, save = False)\n",
    "EW = ElixerWidget(detectlist = source_table['detectid'][sel_group])"
   ]
  },
  {
   "cell_type": "markdown",
   "metadata": {},
   "source": [
    "## Follow a detection in the 2D image with AmpWidget "
   ]
  },
  {
   "cell_type": "markdown",
   "metadata": {},
   "source": [
    "This will map the detectid from the ElixerWidget above to the amp widget. The detection's highest weight fiber is marked with a red circle at the emission line wavelength."
   ]
  },
  {
   "cell_type": "code",
   "execution_count": null,
   "metadata": {},
   "outputs": [],
   "source": [
    "AW = AmpWidget(detectid = EW.detid)"
   ]
  },
  {
   "cell_type": "markdown",
   "metadata": {},
   "source": [
    "## Follow up with QueryWidget"
   ]
  },
  {
   "cell_type": "markdown",
   "metadata": {},
   "source": [
    "You can extract fibers on demand around the detection via QueryWiget:"
   ]
  },
  {
   "cell_type": "code",
   "execution_count": null,
   "metadata": {},
   "outputs": [],
   "source": [
    "QW = QueryWidget(detectid = EW.detid)"
   ]
  },
  {
   "cell_type": "markdown",
   "metadata": {},
   "source": [
    "## Exploring fun with plotly "
   ]
  },
  {
   "cell_type": "code",
   "execution_count": null,
   "metadata": {},
   "outputs": [],
   "source": [
    "import plotly.express as px"
   ]
  },
  {
   "cell_type": "code",
   "execution_count": null,
   "metadata": {},
   "outputs": [],
   "source": [
    "df = source_table[source_table['sn']>5.5].to_pandas()"
   ]
  },
  {
   "cell_type": "code",
   "execution_count": null,
   "metadata": {},
   "outputs": [],
   "source": [
    "df['marker_size'] = 3\n",
    "fig = px.scatter(df, \n",
    "                 template='plotly', \n",
    "                 x='sn', y='z_hetdex', \n",
    "                 color='source_type', \n",
    "                 size='marker_size', \n",
    "                 size_max=3, \n",
    "                 marginal_y='histogram', \n",
    "                 marginal_x='histogram',\n",
    "                 hover_data=['detectid','source_id'])\n",
    "fig.show()"
   ]
  },
  {
   "cell_type": "code",
   "execution_count": null,
   "metadata": {},
   "outputs": [],
   "source": []
  }
 ],
 "metadata": {
  "kernelspec": {
   "display_name": "Python 3 (ipykernel)",
   "language": "python",
   "name": "python3"
  },
  "language_info": {
   "codemirror_mode": {
    "name": "ipython",
    "version": 3
   },
   "file_extension": ".py",
   "mimetype": "text/x-python",
   "name": "python",
   "nbconvert_exporter": "python",
   "pygments_lexer": "ipython3",
   "version": "3.9.7"
  },
  "widgets": {
   "application/vnd.jupyter.widget-state+json": {
    "state": {},
    "version_major": 2,
    "version_minor": 0
   }
  }
 },
 "nbformat": 4,
 "nbformat_minor": 4
}
