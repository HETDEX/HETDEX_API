{
 "cells": [
  {
   "cell_type": "markdown",
   "metadata": {},
   "source": [
    "06 - Accessing the Shot HDF5 File\n",
    "======="
   ]
  },
  {
   "cell_type": "markdown",
   "metadata": {},
   "source": [
    "Each HETDEX observation or shot (organized by DATEvOBS) consists of 3 dithered exposures. The shot HDF5 includes calibrated data products (flux-calibrated fiber spectra and associated astrometric information) and intermediary data products (2D processed images). It also contains shot specific astrometric and calibration information. This notebook illustrates how to open a shot HDF5 file using the pytables API system and examine its contents. For a user who wants to quickly capture data from the shot file, please go to the 02-Processed_Data notebook to learn about the API designed to access a HDF5 shot file.\n"
   ]
  },
  {
   "cell_type": "code",
   "execution_count": 18,
   "metadata": {
    "collapsed": true
   },
   "outputs": [],
   "source": [
    "%matplotlib inline\n",
    "import sys\n",
    "import os\n",
    "import os.path\n",
    "import subprocess\n",
    "import numpy as np\n",
    "\n",
    "import tables as tb\n",
    "import matplotlib.pyplot as plt\n",
    "from matplotlib.colors import LogNorm\n",
    "from astropy.visualization import ZScaleInterval\n"
   ]
  },
  {
   "cell_type": "markdown",
   "metadata": {},
   "source": [
    "Lets begin by exploring the hierarchy of an example shot file."
   ]
  },
  {
   "cell_type": "code",
   "execution_count": 3,
   "metadata": {},
   "outputs": [],
   "source": [
    "fileh = tb.open_file('/work/03946/hetdex/hdr1/reduction/data/20180124v010.h5')"
   ]
  },
  {
   "cell_type": "code",
   "execution_count": 4,
   "metadata": {},
   "outputs": [
    {
     "data": {
      "text/plain": [
       "/Shot.cols (Cols), 15 columns\n",
       "  date (Column(1,), int32)\n",
       "  obsid (Column(1,), int32)\n",
       "  ra (Column(1,), float32)\n",
       "  dec (Column(1,), float32)\n",
       "  objid (Column(1,), |S18)\n",
       "  pa (Column(1,), float32)\n",
       "  mjd (Column(1,), float32)\n",
       "  ambtemp (Column(1,), float32)\n",
       "  dewpoint (Column(1,), float32)\n",
       "  expn (Column(1,), int32)\n",
       "  exptime (Column(1,), float32)\n",
       "  humidity (Column(1,), float32)\n",
       "  obsind (Column(1,), int32)\n",
       "  pressure (Column(1,), float32)\n",
       "  time (Column(1,), |S7)"
      ]
     },
     "execution_count": 4,
     "metadata": {},
     "output_type": "execute_result"
    }
   ],
   "source": [
    "fileh.root.Shot.cols"
   ]
  },
  {
   "cell_type": "code",
   "execution_count": 6,
   "metadata": {},
   "outputs": [
    {
     "data": {
      "text/plain": [
       "/Astrometry (Group) 'Astrometry Info'\n",
       "  children := ['CoaddImages' (Group), 'PositionOffsets' (Group), 'QA' (Table), 'fplane' (Table), 'Dithall' (Group), 'StarCatalog' (Table)]"
      ]
     },
     "execution_count": 6,
     "metadata": {},
     "output_type": "execute_result"
    }
   ],
   "source": [
    "fileh.root.Astrometry"
   ]
  },
  {
   "cell_type": "code",
   "execution_count": 5,
   "metadata": {
    "collapsed": true
   },
   "outputs": [],
   "source": [
    "Images = fileh.root.Data.Images"
   ]
  },
  {
   "cell_type": "markdown",
   "metadata": {},
   "source": [
    "As an example, I will search the file for a very bright known LAE that I know is in this shot. If you want to find out what shots an object is in use the Survey class `get_shotlist()` function introduced in notebook 01-Survey_Class.  \n",
    "\n",
    "DEEP406749 with ra=150.025513, dec=2.087767, wave=3710.77"
   ]
  },
  {
   "cell_type": "code",
   "execution_count": 7,
   "metadata": {
    "collapsed": true
   },
   "outputs": [],
   "source": [
    "ra_obj = 150.025513\n",
    "dec_obj = 2.087767\n",
    "wave_obj = 3710.77"
   ]
  },
  {
   "cell_type": "markdown",
   "metadata": {},
   "source": [
    "The fibers table can be linked to a variable (but is not yet pulled into memory)"
   ]
  },
  {
   "cell_type": "code",
   "execution_count": 8,
   "metadata": {
    "collapsed": true
   },
   "outputs": [],
   "source": [
    "fibers = fileh.root.Data.Fibers"
   ]
  },
  {
   "cell_type": "markdown",
   "metadata": {},
   "source": [
    "Use the read_where tables function to access all fibers in the fibers table that are in a 3\" aperture of the objects position."
   ]
  },
  {
   "cell_type": "code",
   "execution_count": 9,
   "metadata": {
    "collapsed": true
   },
   "outputs": [],
   "source": [
    "subtable = fibers.read_where(\"sqrt(((ra - ra_obj)**2 + (dec - dec_obj)**2)) < 3./3600.\")"
   ]
  },
  {
   "cell_type": "code",
   "execution_count": 10,
   "metadata": {
    "scrolled": false
   },
   "outputs": [
    {
     "data": {
      "text/plain": [
       "12"
      ]
     },
     "execution_count": 10,
     "metadata": {},
     "output_type": "execute_result"
    }
   ],
   "source": [
    "nfibers = np.size(subtable)\n",
    "nfibers"
   ]
  },
  {
   "cell_type": "markdown",
   "metadata": {},
   "source": [
    "`nfibers` fall within a 3\" radius of the detection, let's grab all fibers and plot them together:"
   ]
  },
  {
   "cell_type": "code",
   "execution_count": 11,
   "metadata": {
    "collapsed": true
   },
   "outputs": [],
   "source": [
    "def plot_spectrum(self, xlim=None, ylim=None):\n",
    "    plt.plot(self['wavelength'], self['sky_subtracted'])\n",
    "    if xlim is not None:\n",
    "        plt.xlim(xlim)\n",
    "        if ylim is not None:\n",
    "            plt.ylim(ylim)"
   ]
  },
  {
   "cell_type": "code",
   "execution_count": 12,
   "metadata": {},
   "outputs": [],
   "source": [
    "plt.figure(figsize=(8, 6))\n",
    "ymax = 1.2*np.max(subtable['sky_subtracted'])\n",
    "ymin = np.min(subtable['sky_subtracted'])\n",
    "for i in np.arange(nfibers):\n",
    "    plot_spectrum(subtable[i], xlim=[wave_obj-50,wave_obj+50], ylim=[ymin,ymax])"
   ]
  },
  {
   "cell_type": "markdown",
   "metadata": {},
   "source": [
    "Access the image at the brightest fiber above. An easy way to approximate the line flux is to sum up along a wavelength interval."
   ]
  },
  {
   "cell_type": "code",
   "execution_count": 13,
   "metadata": {
    "collapsed": true
   },
   "outputs": [],
   "source": [
    "sumspec = list()\n",
    "for i in np.arange(nfibers):    \n",
    "    iwave = np.where((subtable[i]['wavelength']> wave_obj-10) & (subtable[i]['wavelength']> wave_obj+10))\n",
    "    sumspec.append( np.sum(subtable[i]['sky_subtracted']))"
   ]
  },
  {
   "cell_type": "markdown",
   "metadata": {},
   "source": [
    "Find the brightest fiber and get associated fiber information. This will allow us to find the location of the data in the 2D frame."
   ]
  },
  {
   "cell_type": "code",
   "execution_count": 14,
   "metadata": {
    "collapsed": true
   },
   "outputs": [],
   "source": [
    "i = np.argmax(sumspec)\n",
    "specid_obj = subtable[i]['specid']\n",
    "amp_obj = subtable[i]['amp']\n",
    "fibnum_obj = subtable[i]['fibnum']\n",
    "expnum_obj = subtable[i]['expnum']\n",
    "fpx_obj = int(subtable[i]['fpx'])\n",
    "fpy_obj = int(subtable[i]['fpy'])"
   ]
  },
  {
   "cell_type": "code",
   "execution_count": 15,
   "metadata": {
    "collapsed": true
   },
   "outputs": [],
   "source": [
    "im0 = Images.read_where(\"(specid == specid_obj) & (amp == amp_obj) & (expnum == expnum_obj)\")"
   ]
  },
  {
   "cell_type": "code",
   "execution_count": 16,
   "metadata": {
    "collapsed": true
   },
   "outputs": [],
   "source": [
    "wave_data = subtable[i]['wavelength']\n",
    "trace_data = subtable[i]['trace']"
   ]
  },
  {
   "cell_type": "code",
   "execution_count": 19,
   "metadata": {},
   "outputs": [
    {
     "data": {
      "text/plain": [
       "<matplotlib.image.AxesImage at 0x2ba8b3f0af90>"
      ]
     },
     "execution_count": 19,
     "metadata": {},
     "output_type": "execute_result"
    },
    {
     "data": {
      "image/png": "[encoded data removed]",
      "text/plain": [
       "<matplotlib.figure.Figure at 0x2ba8af6c8110>"
      ]
     },
     "metadata": {},
     "output_type": "display_data"
    }
   ],
   "source": [
    "x = int(round(np.interp(wave_obj,wave_data,range(len(wave_data)))))\n",
    "y = int(round(np.interp(x,range(len(trace_data)),trace_data)))\n",
    "implot = im0['clean_image'][0][y-10:y+10,x-10:x+10]\n",
    "zscale = ZScaleInterval(contrast=0.5,krej=2.5) \n",
    "vmin, vmax = zscale.get_limits(values=implot)\n",
    "plt.imshow(implot,vmin=vmin, vmax=vmax, origin=\"lower\",cmap=plt.get_cmap('gray'),interpolation=\"none\")"
   ]
  },
  {
   "cell_type": "code",
   "execution_count": null,
   "metadata": {
    "collapsed": true
   },
   "outputs": [],
   "source": []
  }
 ],
 "metadata": {
  "kernelspec": {
   "display_name": "Python 2",
   "language": "python",
   "name": "python2"
  },
  "language_info": {
   "codemirror_mode": {
    "name": "ipython",
    "version": 2
   },
   "file_extension": ".py",
   "mimetype": "text/x-python",
   "name": "python",
   "nbconvert_exporter": "python",
   "pygments_lexer": "ipython2",
   "version": "2.7.13"
  }
 },
 "nbformat": 4,
 "nbformat_minor": 2
}
