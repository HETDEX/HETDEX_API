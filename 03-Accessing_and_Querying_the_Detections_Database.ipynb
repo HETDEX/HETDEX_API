{
 "cells": [
  {
   "cell_type": "markdown",
   "metadata": {},
   "source": [
    "03 - Accessing and Querying the Detect Database\n",
    "======="
   ]
  },
  {
   "cell_type": "markdown",
   "metadata": {},
   "source": [
    "This notebook demonstrates how to open the HDF5 containter for the HETDEX line detections database. This database is a source list of line emission detections. There are three tables contained within this HDF5 file: \n",
    "\n",
    "1. Detections - this is the main database of line detection sources. It provides the position and central wavelength of each detection and corresponding lines fluxes. A source detection corresponds to an emission line so it is possible to have multiple line detections at different wavelengths for a single source. The table also lists a measurement in a single dithered observation only.\n",
    "\n",
    "\n",
    "2. Fibers - for each source dectection, this table lists information about each fiber used to extract the flux measurment and weighted spectrum\n",
    "\n",
    "\n",
    "3. Spectra - for each source, this table contains arrays of wavelength and 1D flux-weighted aperture summed data and corresponding errors. Non-calibrated spectra is also provided in counts\n"
   ]
  },
  {
   "cell_type": "code",
   "execution_count": null,
   "metadata": {},
   "outputs": [],
   "source": [
    "import sys\n",
    "import os\n",
    "import os.path\n",
    "import subprocess\n",
    "import numpy as np\n",
    "import tables as tb\n",
    "import matplotlib.pyplot as plt\n",
    "\n",
    "from astropy.io import ascii\n",
    "from astropy.table import Table, Column"
   ]
  },
  {
   "cell_type": "code",
   "execution_count": 4,
   "metadata": {},
   "outputs": [],
   "source": [
    "## open the detect file using pytables \n",
    "detect_file = '/users/erin/Desktop/detect_test2.h5'\n",
    "fileh = tb.open_file(detect_file)"
   ]
  },
  {
   "cell_type": "code",
   "execution_count": 5,
   "metadata": {},
   "outputs": [
    {
     "data": {
      "text/plain": [
       "/Detections.cols (Cols), 29 columns\n",
       "  detectid (Column(94636,), int64)\n",
       "  detectname (Column(94636,), |S20)\n",
       "  shotid (Column(94636,), int64)\n",
       "  date (Column(94636,), int32)\n",
       "  obsid (Column(94636,), int32)\n",
       "  ra (Column(94636,), float32)\n",
       "  dec (Column(94636,), float32)\n",
       "  wave (Column(94636,), float32)\n",
       "  wave_err (Column(94636,), float32)\n",
       "  flux (Column(94636,), float32)\n",
       "  flux_err (Column(94636,), float32)\n",
       "  linewidth (Column(94636,), float32)\n",
       "  linewidth_err (Column(94636,), float32)\n",
       "  continuum (Column(94636,), float32)\n",
       "  continuum_err (Column(94636,), float32)\n",
       "  sn (Column(94636,), float32)\n",
       "  sn_err (Column(94636,), float32)\n",
       "  chi2 (Column(94636,), float32)\n",
       "  chi2_err (Column(94636,), float32)\n",
       "  multiframe (Column(94636,), |S20)\n",
       "  fiber_num (Column(94636,), int32)\n",
       "  x_raw (Column(94636,), int32)\n",
       "  y_raw (Column(94636,), int32)\n",
       "  amp (Column(94636,), |S2)\n",
       "  datevobs (Column(94636,), |S12)\n",
       "  ifuid (Column(94636,), int32)\n",
       "  ifuslot (Column(94636,), int32)\n",
       "  inputid (Column(94636,), |S32)\n",
       "  specid (Column(94636,), int32)"
      ]
     },
     "execution_count": 5,
     "metadata": {},
     "output_type": "execute_result"
    }
   ],
   "source": [
    "# to access the main detetion table:\n",
    "detects = fileh.root.Detections \n",
    "\n",
    "# to see a list of columns in the main detection table\n",
    "detects.cols"
   ]
  },
  {
   "cell_type": "markdown",
   "metadata": {},
   "source": [
    "The entire table or an entire column can be pulled into local memory into an array using [:] or you can slice as you wish, but likely you want to query to figure out which data you are interested in.\n"
   ]
  },
  {
   "cell_type": "code",
   "execution_count": null,
   "metadata": {},
   "outputs": [],
   "source": [
    "ra = detects.cols.ra[:]"
   ]
  },
  {
   "cell_type": "markdown",
   "metadata": {},
   "source": [
    "If you don't need the entire table its better to subselect a part of the table. For example, read only the table where all detections between 4200AA and 4250AA\n"
   ]
  },
  {
   "cell_type": "code",
   "execution_count": null,
   "metadata": {},
   "outputs": [],
   "source": [
    "detect_table = detects.read_where(\"(wave > 4200) & (wave < 4250)\"))"
   ]
  },
  {
   "cell_type": "markdown",
   "metadata": {},
   "source": [
    "This reads the database into a numpy table which you can then directly work with as usual. For example, read in the detectid, or the input detect name:"
   ]
  },
  {
   "cell_type": "code",
   "execution_count": 9,
   "metadata": {},
   "outputs": [
    {
     "data": {
      "text/plain": [
       "array([1000000060, 1000000106, 1000000139, ..., 1000094474, 1000094563,\n",
       "       1000094602])"
      ]
     },
     "execution_count": 9,
     "metadata": {},
     "output_type": "execute_result"
    }
   ],
   "source": [
    "detect_table['detectid']"
   ]
  },
  {
   "cell_type": "code",
   "execution_count": 10,
   "metadata": {},
   "outputs": [
    {
     "data": {
      "text/plain": [
       "array(['20180317v010_268', '20180317v011_198', '20180317v011_603', ...,\n",
       "       '20180316v016_896', '20180317v008_104', '20180317v008_34'],\n",
       "      dtype='|S32')"
      ]
     },
     "execution_count": 10,
     "metadata": {},
     "output_type": "execute_result"
    }
   ],
   "source": [
    "detect_table['inputid']"
   ]
  },
  {
   "cell_type": "markdown",
   "metadata": {},
   "source": [
    "Let's work through a quick example. Say I want to find, save and plot the 1D spectra for all objects with SN>30 and a central wavelength within 4000-4200 AA in COSMOS (at RA=150deg, DEC=2.2deg) I could do the following query:"
   ]
  },
  {
   "cell_type": "code",
   "execution_count": 35,
   "metadata": {},
   "outputs": [],
   "source": [
    "detect_table = detects.read_where(\"(sqrt((ra-150)**2 + (dec-2.2)**2) < 1) & (sn>30) & (wave > 4000) & (wave < 4200)\")"
   ]
  },
  {
   "cell_type": "markdown",
   "metadata": {},
   "source": [
    "To find out how many objects are in the table just use np.size:"
   ]
  },
  {
   "cell_type": "code",
   "execution_count": 36,
   "metadata": {},
   "outputs": [
    {
     "data": {
      "text/plain": [
       "8"
      ]
     },
     "execution_count": 36,
     "metadata": {},
     "output_type": "execute_result"
    }
   ],
   "source": [
    "np.size(detect_table)"
   ]
  },
  {
   "cell_type": "markdown",
   "metadata": {},
   "source": [
    "To store this subset into an output table, figure out columns you want to export and store into another table then write to a file."
   ]
  },
  {
   "cell_type": "code",
   "execution_count": 37,
   "metadata": {},
   "outputs": [],
   "source": [
    "outputtable = detect_table[['detectid','inputid','flux','flux_err','sn','sn_err','wave','wave_err']]\n",
    "ascii.write(outputtable,'output.dat', overwrite=True)"
   ]
  },
  {
   "cell_type": "markdown",
   "metadata": {},
   "source": [
    "The 1D flux-weighted spectra are stored in the Spectra table:"
   ]
  },
  {
   "cell_type": "code",
   "execution_count": 57,
   "metadata": {},
   "outputs": [
    {
     "data": {
      "text/plain": [
       "/Spectra.cols (Cols), 8 columns\n",
       "  detectid (Column(94635,), int64)\n",
       "  wave1d (Column(94635, 1036), ('<f4', (1036,)))\n",
       "  spec1d (Column(94635, 1036), ('<f4', (1036,)))\n",
       "  spec1d_err (Column(94635, 1036), ('<f4', (1036,)))\n",
       "  counts1d (Column(94635, 1036), ('<f4', (1036,)))\n",
       "  counts1d_err (Column(94635, 1036), ('<f4', (1036,)))\n",
       "  apsum_counts (Column(94635, 1036), ('<f4', (1036,)))\n",
       "  apsum_counts_err (Column(94635, 1036), ('<f4', (1036,)))"
      ]
     },
     "execution_count": 57,
     "metadata": {},
     "output_type": "execute_result"
    }
   ],
   "source": [
    "spectra = fileh.root.Spectra\n",
    "spectra.cols"
   ]
  },
  {
   "cell_type": "markdown",
   "metadata": {},
   "source": [
    "If you want to store each spectra to a file:"
   ]
  },
  {
   "cell_type": "code",
   "execution_count": 58,
   "metadata": {},
   "outputs": [],
   "source": [
    "for i in np.arange(np.size(detect_table)):\n",
    "    source = detect_table['detectid'][i]\n",
    "    spectra_table = spectra.read_where(\"detectid == source\")\n",
    "    data = Table()\n",
    "    data['wave1d'] = Column( spectra_table['wave1d'][0], unit='AA')\n",
    "    data['spec1d'] = Column( spectra_table['spec1d'][0], unit='1e-17 erg/s/cm^2')\n",
    "    data['spec1d_err'] = Column( spectra_table['spec1d_err'][0], unit='1e-17 erg/s/cm^2') \n",
    "    ascii.write(data, 'spec_'+str(source)+'.dat', overwrite=True)"
   ]
  },
  {
   "cell_type": "markdown",
   "metadata": {},
   "source": [
    "Using the function plot_spectrum, plot the 1D spectrum of the first object in the list."
   ]
  },
  {
   "cell_type": "code",
   "execution_count": 43,
   "metadata": {},
   "outputs": [],
   "source": [
    "def plot_spectrum(self, xlim=None, ylim=None):\n",
    "    plt.figure(figsize=(8, 6))\n",
    "    plt.errorbar(self['wave1d'], self['spec1d'], yerr=self['spec1d_err'])\n",
    "    plt.title(\"DetectID \"+str(self['detectid']))\n",
    "    plt.xlabel('wave (AA)')\n",
    "    plt.ylabel('flux (erg/s/cm^2/AA)')\n",
    "    if xlim is not None:\n",
    "        plt.xlim(xlim)\n",
    "        if ylim is not None:\n",
    "            plt.ylim(ylim)\n",
    "    plt.show()"
   ]
  },
  {
   "cell_type": "code",
   "execution_count": 53,
   "metadata": {},
   "outputs": [
    {
     "data": {
      "image/png": "[encoded data removed]",
      "text/plain": [
       "<Figure size 576x432 with 1 Axes>"
      ]
     },
     "metadata": {
      "needs_background": "light"
     },
     "output_type": "display_data"
    }
   ],
   "source": [
    "source = detect_table['detectid'][0]\n",
    "spectra_table = spectra.read_where(\"detectid == source\")\n",
    "plot_spectrum(spectra_table)"
   ]
  },
  {
   "cell_type": "markdown",
   "metadata": {},
   "source": [
    "To constrain x-axis of the plot to the line emission:"
   ]
  },
  {
   "cell_type": "code",
   "execution_count": 55,
   "metadata": {},
   "outputs": [
    {
     "data": {
      "image/png": "[encoded data removed]",
      "text/plain": [
       "<Figure size 576x432 with 1 Axes>"
      ]
     },
     "metadata": {
      "needs_background": "light"
     },
     "output_type": "display_data"
    }
   ],
   "source": [
    "cw = detect_table['wave'][0]\n",
    "plot_spectrum(spectra_table, xlim=[cw-50,cw+50])"
   ]
  },
  {
   "cell_type": "markdown",
   "metadata": {},
   "source": [
    "You can find a list of all fibers used in the measurement in the Fibers table. The Fibers table and its associated columns can be accessed similar to the Spectra table by searching for a match in the the detectid column. "
   ]
  },
  {
   "cell_type": "code",
   "execution_count": 56,
   "metadata": {},
   "outputs": [
    {
     "data": {
      "text/plain": [
       "/Fibers.cols (Cols), 20 columns\n",
       "  detectid (Column(283905,), int64)\n",
       "  ra (Column(283905,), float32)\n",
       "  dec (Column(283905,), float32)\n",
       "  multiframe (Column(283905,), |S20)\n",
       "  fiber_num (Column(283905,), int32)\n",
       "  x_ifu (Column(283905,), float32)\n",
       "  y_ifu (Column(283905,), float32)\n",
       "  date (Column(283905,), int32)\n",
       "  obsid (Column(283905,), int32)\n",
       "  expn (Column(283905,), |S5)\n",
       "  distance (Column(283905,), float32)\n",
       "  timestamp (Column(283905,), |S17)\n",
       "  wavein (Column(283905,), float32)\n",
       "  flag (Column(283905,), int32)\n",
       "  weight (Column(283905,), float32)\n",
       "  ADC (Column(283905, 5), ('<f4', (5,)))\n",
       "  amp (Column(283905,), |S3)\n",
       "  ifuid (Column(283905,), int32)\n",
       "  ifuslot (Column(283905,), int32)\n",
       "  specid (Column(283905,), int32)"
      ]
     },
     "execution_count": 56,
     "metadata": {},
     "output_type": "execute_result"
    }
   ],
   "source": [
    "fibers = fileh.root.Fibers\n",
    "fibers.cols"
   ]
  },
  {
   "cell_type": "markdown",
   "metadata": {},
   "source": [
    "Access the fiber table for the above source:"
   ]
  },
  {
   "cell_type": "code",
   "execution_count": 60,
   "metadata": {},
   "outputs": [],
   "source": [
    "fiber_table = fibers.read_where(\"detectid == source\") "
   ]
  },
  {
   "cell_type": "code",
   "execution_count": 66,
   "metadata": {},
   "outputs": [
    {
     "data": {
      "text/plain": [
       "array([(1000075967, 150.31746, 2.2877576, 'multi_316_022_052_LL', 1, 24.15, -13.22, 20181215, 31, 'exp01', 1.10141, '20181215T093747.0', 4181.12, 0, 127.2 , [0.623, 0.831, 1.   , 1.01 , 1.051], 'L', 52, 22, 16),\n",
       "       (1000075967, 150.3178 , 2.2883806, 'multi_316_022_052_LU', 0, 22.88, -15.42, 20181215, 31, 'exp01', 2.33328, '20181215T093747.0', 4181.12, 0,   9.32, [0.513, 0.737, 1.   , 1.006, 1.051], 'U', 52, 22, 16),\n",
       "       (1000075967, 150.31711, 2.2875412, 'multi_316_022_052_LL', 0, 22.88, -11.02, 20181215, 31, 'exp02', 2.44393, '20181215T094443.8', 4181.12, 0,   7.06, [0.681, 0.845, 1.   , 1.006, 1.028], 'L', 52, 22, 16)],\n",
       "      dtype=[('detectid', '<i8'), ('ra', '<f4'), ('dec', '<f4'), ('multiframe', 'S20'), ('fiber_num', '<i4'), ('x_ifu', '<f4'), ('y_ifu', '<f4'), ('date', '<i4'), ('obsid', '<i4'), ('expn', 'S5'), ('distance', '<f4'), ('timestamp', 'S17'), ('wavein', '<f4'), ('flag', '<i4'), ('weight', '<f4'), ('ADC', '<f4', (5,)), ('amp', 'S3'), ('ifuid', '<i4'), ('ifuslot', '<i4'), ('specid', '<i4')])"
      ]
     },
     "execution_count": 66,
     "metadata": {},
     "output_type": "execute_result"
    }
   ],
   "source": [
    "fiber_table"
   ]
  },
  {
   "cell_type": "code",
   "execution_count": null,
   "metadata": {},
   "outputs": [],
   "source": []
  }
 ],
 "metadata": {
  "kernelspec": {
   "display_name": "Python 2",
   "language": "python",
   "name": "python2"
  },
  "language_info": {
   "codemirror_mode": {
    "name": "ipython",
    "version": 2
   },
   "file_extension": ".py",
   "mimetype": "text/x-python",
   "name": "python",
   "nbconvert_exporter": "python",
   "pygments_lexer": "ipython2",
   "version": "2.7.15"
  }
 },
 "nbformat": 4,
 "nbformat_minor": 2
}
