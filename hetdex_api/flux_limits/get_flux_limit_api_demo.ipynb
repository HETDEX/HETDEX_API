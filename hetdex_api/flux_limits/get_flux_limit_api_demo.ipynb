{
 "cells": [
  {
   "cell_type": "markdown",
   "metadata": {},
   "source": [
    "# Demonstration of API to get flux limits\n",
    "\n",
    "## Extracting a sensitivity cube from the HDF5\n",
    "\n",
    "After installing the HETDEX API we can import the tools to read the\n",
    "HDF5 sensivity cube containers"
   ]
  },
  {
   "cell_type": "code",
   "execution_count": 11,
   "metadata": {
    "collapsed": true
   },
   "outputs": [],
   "source": [
    "%matplotlib inline\n",
    "import matplotlib.pyplot as plt\n",
    "from hetdex_api.flux_limits.hdf5_sensitivity_cubes import SensitivityCubeHDF5Container\n",
    "\n",
    "hdfcont = SensitivityCubeHDF5Container(filename=\"20181203_v013_sensitivity_cubes.h5\")\n"
   ]
  },
  {
   "cell_type": "markdown",
   "metadata": {},
   "source": [
    " Now the container is read in we can extract a particular IFU like this. Note that you have to add the string 'ifuslot\\_' to the three digit IFU slot. The `datevshot` is optional when only one shot flux limit is stored in a file (the default). Note that you have to append 'virus\\_' to the datevshot. "
   ]
  },
  {
   "cell_type": "code",
   "execution_count": 12,
   "metadata": {
    "collapsed": false
   },
   "outputs": [],
   "source": [
    "scube = hdfcont.extract_ifu_sensitivity_cube(\"ifuslot_036\", datevshot=\"virus_20181203v013\")"
   ]
  },
  {
   "cell_type": "markdown",
   "metadata": {},
   "source": [
    "## Using the sensitivity cube\n",
    "\n",
    "Now we have the `SensitivityCube` object we can extract a flux limit, in erg/s/cm^2 from it like this"
   ]
  },
  {
   "cell_type": "code",
   "execution_count": 13,
   "metadata": {
    "collapsed": false
   },
   "outputs": [
    {
     "data": {
      "text/plain": [
       "1.12e-17"
      ]
     },
     "execution_count": 13,
     "metadata": {},
     "output_type": "execute_result"
    }
   ],
   "source": [
    "# RA DEC (in degrees) Wavelength (Angstrom)\n",
    "scube.get_f50(20.7384244, 0.4019458, 4240)"
   ]
  },
  {
   "cell_type": "markdown",
   "metadata": {
    "collapsed": true
   },
   "source": [
    "Locations out of range return 999, e.g."
   ]
  },
  {
   "cell_type": "code",
   "execution_count": 14,
   "metadata": {
    "collapsed": false
   },
   "outputs": [
    {
     "data": {
      "text/plain": [
       "999.0"
      ]
     },
     "execution_count": 14,
     "metadata": {},
     "output_type": "execute_result"
    }
   ],
   "source": [
    "scube.get_f50(120.7384244, 13.4019458, 42400)"
   ]
  },
  {
   "cell_type": "markdown",
   "metadata": {},
   "source": [
    "Of course we can also pass an arrays of coordinates, to get multiple results, e.g. to plot the flux limit versus wavelength"
   ]
  },
  {
   "cell_type": "code",
   "execution_count": 15,
   "metadata": {
    "collapsed": false
   },
   "outputs": [
    {
     "data": {
      "text/plain": [
       "<matplotlib.text.Text at 0x7f78b92830b8>"
      ]
     },
     "execution_count": 15,
     "metadata": {},
     "output_type": "execute_result"
    },
    {
     "data": {
      "image/png": "[encoded data removed]",
      "text/plain": [
       "<matplotlib.figure.Figure at 0x7f78b9285ac8>"
      ]
     },
     "metadata": {},
     "output_type": "display_data"
    }
   ],
   "source": [
    "from numpy import linspace\n",
    "wls = linspace(3495.0, 5505.0, 100)\n",
    "flims = scube.get_f50(20.7384244, 0.4019458, wls)\n",
    "plt.plot(wls[flims < 999], flims[flims < 999]*1e16)\n",
    "plt.xlabel(\"Wavelength (A)\", fontsize=15.0)\n",
    "plt.ylabel(\"Flux limit ($10^{-16}$ erg/s/cm$^2$)\", fontsize=15.0)"
   ]
  },
  {
   "cell_type": "markdown",
   "metadata": {},
   "source": [
    "To get the fraction of sources detected at a particular flux, rather than just the flux limit value one can use this method"
   ]
  },
  {
   "cell_type": "code",
   "execution_count": 16,
   "metadata": {
    "collapsed": false
   },
   "outputs": [
    {
     "data": {
      "text/plain": [
       "0.34033236687316765"
      ]
     },
     "execution_count": 16,
     "metadata": {},
     "output_type": "execute_result"
    }
   ],
   "source": [
    "# RA DEC (in degrees) Wavelength (Angstrom) Flux (cgs)\n",
    "scube.return_completeness(1.1e-17, 20.7384244, 0.4019458, 4245)"
   ]
  },
  {
   "cell_type": "markdown",
   "metadata": {
    "collapsed": true
   },
   "source": [
    "This completeness is computed using a functional form, this function takes two parameters the flux limit and a slope which controls how quickly completeness falls off. The latter is fixed to our best guess in this version of the API (**this means it might not be all that accurate!**), in the future this will all be better tested. By definition the flux limit stored in the cubes corresponds to 50% completeness, i.e."
   ]
  },
  {
   "cell_type": "code",
   "execution_count": 17,
   "metadata": {
    "collapsed": false
   },
   "outputs": [
    {
     "data": {
      "text/plain": [
       "0.5"
      ]
     },
     "execution_count": 17,
     "metadata": {},
     "output_type": "execute_result"
    }
   ],
   "source": [
    "flux = scube.get_f50(20.7384244, 0.4019458, 4245)\n",
    "scube.return_completeness(flux, 20.7384244, 0.4019458, 4245)"
   ]
  },
  {
   "cell_type": "markdown",
   "metadata": {},
   "source": [
    "To finish off, here is a plot of the completeness versus flux at some position. Note we use the flux limit computed above to define the range of the plot"
   ]
  },
  {
   "cell_type": "code",
   "execution_count": 18,
   "metadata": {
    "collapsed": false
   },
   "outputs": [
    {
     "data": {
      "text/plain": [
       "<matplotlib.text.Text at 0x7f78b9411da0>"
      ]
     },
     "execution_count": 18,
     "metadata": {},
     "output_type": "execute_result"
    },
    {
     "data": {
      "image/png": "[encoded data removed]",
      "text/plain": [
       "<matplotlib.figure.Figure at 0x7f78b9215d30>"
      ]
     },
     "metadata": {},
     "output_type": "display_data"
    }
   ],
   "source": [
    "fluxes = linspace(0.5*flux, 3.0*flux, 100)\n",
    "compl = scube.return_completeness(fluxes, 20.7384244, 0.4019458, 4245)\n",
    "plt.plot(fluxes*1e16, compl, \"k-\")\n",
    "plt.xlabel(\"Flux ($10^{-16}$ erg/s/cm$^2$)\")\n",
    "plt.ylabel(\"Detected Fraction\")"
   ]
  }
 ],
 "metadata": {
  "kernelspec": {
   "display_name": "Python 3",
   "language": "python",
   "name": "python3"
  },
  "language_info": {
   "codemirror_mode": {
    "name": "ipython",
    "version": 3
   },
   "file_extension": ".py",
   "mimetype": "text/x-python",
   "name": "python",
   "nbconvert_exporter": "python",
   "pygments_lexer": "ipython3",
   "version": "3.4.3"
  }
 },
 "nbformat": 4,
 "nbformat_minor": 0
}
